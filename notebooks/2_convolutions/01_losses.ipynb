{
 "cells": [
  {
   "cell_type": "code",
   "execution_count": 46,
   "metadata": {},
   "outputs": [],
   "source": [
    "import torch"
   ]
  },
  {
   "attachments": {},
   "cell_type": "markdown",
   "metadata": {},
   "source": [
    "# Losses in general\n",
    "We have been using crossentropy loss. But what is that?\n",
    "\n",
    "First, let's go back to what we want to do with a loss function: we want to give the model feedback on how good or bad it is working. With that information, it is able to adjust it's weights with the gradient.\n",
    "\n",
    "So, it is really important! Using the wrong carrot/stick will cause your model to behave in completely different ways...\n",
    "\n",
    "The most basic example is: we have a real value $y$, and a prediction $\\hat{y}$"
   ]
  },
  {
   "cell_type": "code",
   "execution_count": 47,
   "metadata": {},
   "outputs": [],
   "source": [
    "y = torch.tensor([3.0, 2.0, 5.0])\n",
    "yhat = torch.tensor([2.5, 3.4, 4.0])"
   ]
  },
  {
   "cell_type": "code",
   "execution_count": 48,
   "metadata": {},
   "outputs": [
    {
     "data": {
      "text/plain": [
       "Text(0, 0.5, 'Values')"
      ]
     },
     "execution_count": 48,
     "metadata": {},
     "output_type": "execute_result"
    },
    {
     "data": {
      "image/png": "[encoded data removed]",
      "text/plain": [
       "<Figure size 800x600 with 1 Axes>"
      ]
     },
     "metadata": {},
     "output_type": "display_data"
    }
   ],
   "source": [
    "import pandas as pd\n",
    "import seaborn as sns\n",
    "import matplotlib.pyplot as plt\n",
    "\n",
    "y_np = y.numpy()\n",
    "yhat_np = yhat.numpy()\n",
    "\n",
    "# Create a Pandas DataFrame containing the data\n",
    "data = pd.DataFrame({'True Values': y_np, 'Predicted Values': yhat_np, 'Data Points': range(1, len(y_np) + 1)})\n",
    "\n",
    "# Melt the DataFrame to have a 'variable' and 'value' columns\n",
    "data_melted = data.melt(id_vars='Data Points', var_name='variable', value_name='value')\n",
    "\n",
    "# Plot the data using Seaborn's pointplot\n",
    "plt.figure(figsize=(8, 6))\n",
    "sns.barplot(data=data_melted, x='Data Points', y='value', hue='variable')\n",
    "plt.title('Comparison of True Values and Predicted Values')\n",
    "plt.xlabel('Data Points')\n",
    "plt.ylabel('Values')"
   ]
  },
  {
   "attachments": {},
   "cell_type": "markdown",
   "metadata": {},
   "source": [
    "## Regression\n",
    "As you might be able to infer, this is a regression problem. We will cover the classification later on, because regression is a bit simpler. You can see, the predictions are off by a bit."
   ]
  },
  {
   "cell_type": "code",
   "execution_count": 49,
   "metadata": {},
   "outputs": [
    {
     "data": {
      "text/plain": [
       "tensor([ 0.5000, -1.4000,  1.0000])"
      ]
     },
     "execution_count": 49,
     "metadata": {},
     "output_type": "execute_result"
    }
   ],
   "source": [
    "y - yhat"
   ]
  },
  {
   "attachments": {},
   "cell_type": "markdown",
   "metadata": {},
   "source": [
    "The most naive way to calculate the loss, is to look at the difference. Problem with this, is that if you take the mean, you run into problems"
   ]
  },
  {
   "cell_type": "code",
   "execution_count": 50,
   "metadata": {},
   "outputs": [
    {
     "data": {
      "text/plain": [
       "tensor(0.0333)"
      ]
     },
     "execution_count": 50,
     "metadata": {},
     "output_type": "execute_result"
    }
   ],
   "source": [
    "(y-yhat).mean()"
   ]
  },
  {
   "attachments": {},
   "cell_type": "markdown",
   "metadata": {},
   "source": [
    "The loss is very low, almost zero! A solution to this is to look at the absolute values, so that negative and positive values don't cancel out"
   ]
  },
  {
   "cell_type": "code",
   "execution_count": 51,
   "metadata": {},
   "outputs": [
    {
     "data": {
      "text/plain": [
       "tensor(0.9667)"
      ]
     },
     "execution_count": 51,
     "metadata": {},
     "output_type": "execute_result"
    }
   ],
   "source": [
    "(y-yhat).abs().mean()"
   ]
  },
  {
   "attachments": {},
   "cell_type": "markdown",
   "metadata": {},
   "source": [
    "This is what is called: Mean Average Error. However, this does typically not work that well as a loss function. The default for regression is a variation on this, the Mean Squared Error:\n",
    "\n",
    "$$MSE = \\frac{1}{n}\\sum_{i=1}^n (Y_i - \\hat{Y}_i)^2$$\n",
    "\n",
    "This is the mean $\\frac{1}{n}\\sum_{i=1}^n$ of the squared error $(Y_i - \\hat{Y}_i)^2$ "
   ]
  },
  {
   "cell_type": "code",
   "execution_count": 52,
   "metadata": {},
   "outputs": [
    {
     "data": {
      "text/plain": [
       "tensor(1.0700)"
      ]
     },
     "execution_count": 52,
     "metadata": {},
     "output_type": "execute_result"
    }
   ],
   "source": [
    "((y-yhat)**2).mean()"
   ]
  },
  {
   "attachments": {},
   "cell_type": "markdown",
   "metadata": {},
   "source": [
    "But torch has already implemented that for us in an optimized way:"
   ]
  },
  {
   "cell_type": "code",
   "execution_count": 53,
   "metadata": {},
   "outputs": [
    {
     "data": {
      "text/plain": [
       "tensor(1.0700)"
      ]
     },
     "execution_count": 53,
     "metadata": {},
     "output_type": "execute_result"
    }
   ],
   "source": [
    "loss = torch.nn.MSELoss()\n",
    "loss(yhat, y)"
   ]
  },
  {
   "attachments": {},
   "cell_type": "markdown",
   "metadata": {},
   "source": [
    "## Classification\n",
    "\n",
    "For classification, we have to pull a bit more tricks, because models typically not give discrete output, but real valued output (floating point numbers).\n",
    "\n",
    "Let's say you have five classes.\n",
    "One way you could do this, is to predict the probability of every class.\n",
    "The trick that is commonly used, is to have five output nodes. Every nodes gives a number, and you tell the model that the number should be high in the correct class."
   ]
  },
  {
   "cell_type": "code",
   "execution_count": 54,
   "metadata": {},
   "outputs": [
    {
     "name": "stdout",
     "output_type": "stream",
     "text": [
      "the shape of the output is torch.Size([3, 5])\n"
     ]
    },
    {
     "data": {
      "text/plain": [
       "tensor([[-1.3472, -1.5551, -1.4494, -1.4535, -2.8067],\n",
       "        [-2.7779, -0.3834, -3.2296, -2.1299, -2.3242],\n",
       "        [-1.4860, -1.2116, -0.9107, -3.7108, -3.0099]],\n",
       "       grad_fn=<LogSoftmaxBackward0>)"
      ]
     },
     "execution_count": 54,
     "metadata": {},
     "output_type": "execute_result"
    }
   ],
   "source": [
    "torch.manual_seed(42)\n",
    "n_observations = 3\n",
    "n_classes = 5\n",
    "input = torch.randn(n_observations, n_classes, requires_grad=True)\n",
    "model = torch.nn.LogSoftmax(dim=1)\n",
    "yhat = model(input)\n",
    "print(f\"the shape of the output is {yhat.shape}\")\n",
    "yhat"
   ]
  },
  {
   "attachments": {},
   "cell_type": "markdown",
   "metadata": {},
   "source": [
    "We have three predictions, every prediction has 5 values. We applied a LogSoftmax layer to the output, which gives us the log of a softmax. A softmax function scales all the values, such that the sum is 1 (which is what you need for probabilities: it would be nonsense if you have a chance above 100% of something happening, right?)\n",
    "\n",
    "You can verify for yourself that this sums to 1 for every observation, by taking the exponent:"
   ]
  },
  {
   "cell_type": "markdown",
   "metadata": {},
   "source": [
    "<font color='green'>\n",
    "\n",
    "By taking `sum` we can confirm that after `exp` the sum is equal to 1 for 3 observations.\n",
    "</font>"
   ]
  },
  {
   "cell_type": "code",
   "execution_count": 55,
   "metadata": {},
   "outputs": [
    {
     "data": {
      "text/plain": [
       "tensor([1.0000, 1.0000, 1.0000], grad_fn=<SumBackward1>)"
      ]
     },
     "execution_count": 55,
     "metadata": {},
     "output_type": "execute_result"
    }
   ],
   "source": [
    "torch.exp(yhat).sum(axis=1)"
   ]
  },
  {
   "cell_type": "code",
   "execution_count": 56,
   "metadata": {},
   "outputs": [
    {
     "data": {
      "text/plain": [
       "<seaborn.axisgrid.FacetGrid at 0x7e540c3f3c90>"
      ]
     },
     "execution_count": 56,
     "metadata": {},
     "output_type": "execute_result"
    },
    {
     "data": {
      "image/png": "[encoded data removed]",
      "text/plain": [
       "<Figure size 1200x400 with 3 Axes>"
      ]
     },
     "metadata": {},
     "output_type": "display_data"
    }
   ],
   "source": [
    "import warnings\n",
    "# Suppress Seaborn warnings\n",
    "warnings.filterwarnings(\"ignore\", category=FutureWarning, module=\"seaborn\")\n",
    "\n",
    "probabilities = torch.exp(yhat).detach().numpy()\n",
    "\n",
    "# Create a Pandas DataFrame containing the data\n",
    "data = pd.DataFrame(probabilities, columns=[f'Class {i}' for i in range(1, probabilities.shape[1] + 1)])\n",
    "data['Observation'] = range(1, probabilities.shape[0] + 1)\n",
    "\n",
    "# Melt the DataFrame to have a 'variable' and 'value' columns\n",
    "data_melted = data.melt(id_vars='Observation', var_name='Class', value_name='Probability')\n",
    "\n",
    "g = sns.FacetGrid(data_melted, col='Observation', col_wrap=3, height=4, aspect=1)\n",
    "\n",
    "# Create the bar plots\n",
    "g.map(sns.barplot, 'Class', 'Probability', order=[f'Class {i}' for i in range(1, probabilities.shape[1] + 1)], palette='tab10')\n",
    "\n",
    "# Add titles and labels\n",
    "g.fig.subplots_adjust(top=0.8)\n",
    "g.fig.suptitle('Softmax Probabilities for Each Class and Observation', fontsize=16)\n",
    "g.set_axis_labels('Class', 'Probability')\n"
   ]
  },
  {
   "attachments": {},
   "cell_type": "markdown",
   "metadata": {},
   "source": [
    "Let's say the real classes are these:"
   ]
  },
  {
   "cell_type": "code",
   "execution_count": 57,
   "metadata": {},
   "outputs": [],
   "source": [
    "y = torch.tensor([0, 1, 4])"
   ]
  },
  {
   "attachments": {},
   "cell_type": "markdown",
   "metadata": {},
   "source": [
    "A basic loss function is the negative log likelihood. The function is:\n",
    "\n",
    "$$NLL = - log(\\hat{y}[c])$$\n",
    "\n",
    "Or, in plain language: take the probabilities $\\hat{y}$, and pick the probability of the correct class $c$ from the list of probabilities with $\\hat{y}[c]$. Now take the log of that.\n",
    "\n",
    "The log has the effect that predicting closer to 0 if it should have been 1 is punished extra.\n",
    "\n",
    "In our case, for the first observation, this means that we get $-log(0.26)$ (because the probability for the 0th class is 0.26). Because we used the LogSoftmaxed, we don't need to take the log and can just take $-(-1.3472)$ as the loss for our first case. For the second case, we have 0.6816 at the 1th index, of which the log is -0.3834. You can see, that the higher the probability, the closer to zero the loss value will be. We take the - value, because we want to minimize the loss.\n"
   ]
  },
  {
   "cell_type": "code",
   "execution_count": 58,
   "metadata": {},
   "outputs": [
    {
     "data": {
      "text/plain": [
       "tensor(1.5802, grad_fn=<NllLossBackward0>)"
      ]
     },
     "execution_count": 58,
     "metadata": {},
     "output_type": "execute_result"
    }
   ],
   "source": [
    "loss = torch.nn.NLLLoss()\n",
    "loss(yhat, y)"
   ]
  },
  {
   "attachments": {},
   "cell_type": "markdown",
   "metadata": {},
   "source": [
    "You can check that this is equivalent if we do that manually:"
   ]
  },
  {
   "cell_type": "code",
   "execution_count": 59,
   "metadata": {},
   "outputs": [
    {
     "data": {
      "text/plain": [
       "tensor(1.5802, grad_fn=<MeanBackward0>)"
      ]
     },
     "execution_count": 59,
     "metadata": {},
     "output_type": "execute_result"
    }
   ],
   "source": [
    "loss = torch.zeros(3)\n",
    "for observation, c in enumerate(y):\n",
    "    loss[observation] = -yhat[observation, c]\n",
    "loss.mean()"
   ]
  },
  {
   "attachments": {},
   "cell_type": "markdown",
   "metadata": {},
   "source": [
    "Now, CrossEntropyLoss does the same, but it adds the LogSoftmax to the loss. This means you don't need to add a LogSoftmax layer to your model."
   ]
  },
  {
   "cell_type": "code",
   "execution_count": 60,
   "metadata": {},
   "outputs": [
    {
     "data": {
      "text/plain": [
       "tensor(1.5802, grad_fn=<NllLossBackward0>)"
      ]
     },
     "execution_count": 60,
     "metadata": {},
     "output_type": "execute_result"
    }
   ],
   "source": [
    "loss = torch.nn.CrossEntropyLoss()\n",
    "loss(input, y)"
   ]
  },
  {
   "attachments": {},
   "cell_type": "markdown",
   "metadata": {},
   "source": [
    "# Multilabel\n",
    "\n",
    "Now, what about the cases where your model can predict more than one class at once?\n",
    "\n",
    "Let's say you have a model that looks at lung photos to determine a disease. You can predict three cases: lungcancer, pneumonia (longontsteking), pneumothorax (klaplong).\n",
    "\n",
    "Now, let's imagine you have an unlucky patient with more than one condition. How would you want the model to predict this?\n",
    "\n",
    "We will encode this with a multi hot encoding.\n",
    "The prediction should be high, if there is a 1 in the target $y$, and low if there is a 0"
   ]
  },
  {
   "cell_type": "code",
   "execution_count": 61,
   "metadata": {},
   "outputs": [
    {
     "data": {
      "text/plain": [
       "tensor([-0.2936,  1.5723,  1.8936], grad_fn=<MulBackward0>)"
      ]
     },
     "execution_count": 61,
     "metadata": {},
     "output_type": "execute_result"
    }
   ],
   "source": [
    "y = torch.tensor([0., 1., 1.])\n",
    "\n",
    "torch.manual_seed(7)\n",
    "input = torch.randn(3, requires_grad=True) * 2\n",
    "input"
   ]
  },
  {
   "attachments": {},
   "cell_type": "markdown",
   "metadata": {},
   "source": [
    "Here, both the chance at pneumonia and a pneumothorax are high values. But, a softmax wil ruin this:"
   ]
  },
  {
   "cell_type": "code",
   "execution_count": 62,
   "metadata": {},
   "outputs": [
    {
     "data": {
      "text/plain": [
       "tensor([0.0611, 0.3947, 0.5443], grad_fn=<SoftmaxBackward0>)"
      ]
     },
     "execution_count": 62,
     "metadata": {},
     "output_type": "execute_result"
    }
   ],
   "source": [
    "input.softmax(dim=0)"
   ]
  },
  {
   "attachments": {},
   "cell_type": "markdown",
   "metadata": {},
   "source": [
    "This sums to 1, but that is not what you want!\n",
    "What you need is a sigmoid: this will scale everything between 0 and 1, but without making everything sum to 1:"
   ]
  },
  {
   "cell_type": "code",
   "execution_count": 63,
   "metadata": {},
   "outputs": [
    {
     "data": {
      "text/plain": [
       "tensor([0.4271, 0.8281, 0.8692], grad_fn=<SigmoidBackward0>)"
      ]
     },
     "execution_count": 63,
     "metadata": {},
     "output_type": "execute_result"
    }
   ],
   "source": [
    "m = torch.nn.Sigmoid()\n",
    "yhat = m(input)\n",
    "yhat"
   ]
  },
  {
   "attachments": {},
   "cell_type": "markdown",
   "metadata": {},
   "source": [
    "\n",
    "The loss function that goes with this is Binary Cross Entropy. A simplified version looks like this\n",
    "\n",
    "$$ BCE = \\frac{1}{n}\\sum_{i=1}^n y_i \\cdot log(\\hat{y}_i) + (1-y_i) \\cdot log(1-\\hat{y}_i) $$\n",
    "\n",
    "Or, in plain language: \n",
    "- assume that $y$ is a binary label (0 or 1)\n",
    "- predict the probability $\\hat{y}$\n",
    "- if the label is 1, take the log of the probability: $y_i \\cdot log(\\hat{y}_i$)\n",
    "- if the label is 0, take the log of $1-\\hat{y}$\n",
    "- take the mean $\\frac{1}{n}\\sum_{i=1}^n$ of that\n",
    "\n"
   ]
  },
  {
   "cell_type": "code",
   "execution_count": 64,
   "metadata": {},
   "outputs": [
    {
     "data": {
      "text/plain": [
       "tensor(0.2953, grad_fn=<BinaryCrossEntropyBackward0>)"
      ]
     },
     "execution_count": 64,
     "metadata": {},
     "output_type": "execute_result"
    }
   ],
   "source": [
    "loss = torch.nn.BCELoss()\n",
    "loss(yhat, y)"
   ]
  },
  {
   "attachments": {},
   "cell_type": "markdown",
   "metadata": {},
   "source": [
    "Or, explicit:"
   ]
  },
  {
   "cell_type": "code",
   "execution_count": 65,
   "metadata": {},
   "outputs": [
    {
     "data": {
      "text/plain": [
       "tensor(0.2953, grad_fn=<MeanBackward0>)"
      ]
     },
     "execution_count": 65,
     "metadata": {},
     "output_type": "execute_result"
    }
   ],
   "source": [
    "loss = torch.zeros(3)\n",
    "for i in range(len(y)):\n",
    "    loss[i] = -(y[i] * torch.log(yhat[i]) + (1-y[i]) * torch.log(1-yhat[i]))\n",
    "loss.mean()"
   ]
  },
  {
   "attachments": {},
   "cell_type": "markdown",
   "metadata": {},
   "source": [
    "In the case you dont have predictions with values between 0 and 1, you can use the WithLogits variation. You can then skip the sigmoid layer."
   ]
  },
  {
   "cell_type": "code",
   "execution_count": 66,
   "metadata": {},
   "outputs": [
    {
     "data": {
      "text/plain": [
       "tensor(0.2953, grad_fn=<BinaryCrossEntropyWithLogitsBackward0>)"
      ]
     },
     "execution_count": 66,
     "metadata": {},
     "output_type": "execute_result"
    }
   ],
   "source": [
    "loss = torch.nn.BCEWithLogitsLoss()\n",
    "loss(input, y)"
   ]
  },
  {
   "attachments": {},
   "cell_type": "markdown",
   "metadata": {},
   "source": [
    "# Wrapup\n",
    "\n",
    "Losses are very important: they tell your model what is \"right\" and \"wrong\" and determines what the model will learn!\n",
    "\n",
    "- For regression models, typically use a MSE\n",
    "- For classification, use CrossEntropyLoss (note: this might be implemented different in other libraries like Tensorflow!)\n",
    "- For multiclass, use BinaryCrossEntropy\n",
    "\n",
    "There are other, more complex losses for more complex usecases but these three will cover 80% of your needs."
   ]
  }
 ],
 "metadata": {
  "kernelspec": {
   "display_name": "conda_kernel",
   "language": "python",
   "name": "python3"
  },
  "language_info": {
   "codemirror_mode": {
    "name": "ipython",
    "version": 3
   },
   "file_extension": ".py",
   "mimetype": "text/x-python",
   "name": "python",
   "nbconvert_exporter": "python",
   "pygments_lexer": "ipython3",
   "version": "3.11.11"
  }
 },
 "nbformat": 4,
 "nbformat_minor": 4
}
