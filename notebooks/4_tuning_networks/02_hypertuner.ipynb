{
 "cells": [
  {
   "cell_type": "code",
   "execution_count": 1,
   "metadata": {},
   "outputs": [],
   "source": [
    "import time\n",
    "import numpy as np\n",
    "from plotly import graph_objects as go\n",
    "import matplotlib.pyplot as plt\n",
    "\n",
    "from loguru import logger\n",
    "\n",
    "import ray\n",
    "from ray import tune\n",
    "\n",
    "import torch\n",
    "from torch import optim\n",
    "from torch import nn\n",
    "\n",
    "from pathlib import Path\n",
    "\n",
    "# %matplotlib inline\n",
    "plt.style.use('dark_background')\n",
    "# import plotly.io as pio\n",
    "# pio.renderers.default = 'plotly_mimetype+notebook'\n",
    "\n",
    "import visualize\n",
    "DELETE = True # to delete the tunedir at the end of the notebook\n",
    "start = time.time()"
   ]
  },
  {
   "cell_type": "markdown",
   "metadata": {},
   "source": [
    "This is a general reference notebook to explore the use of ray tuner.\n",
    "First, we define some global variables. This makes it easier to change the parameters for the full notebook at once and run everything.\n"
   ]
  },
  {
   "cell_type": "code",
   "execution_count": 2,
   "metadata": {},
   "outputs": [],
   "source": [
    "MAX_EPOCHS = 5\n",
    "N_EXPERIMENTS = 18"
   ]
  },
  {
   "cell_type": "markdown",
   "metadata": {},
   "source": [
    "# Train function and config"
   ]
  },
  {
   "cell_type": "markdown",
   "metadata": {},
   "source": [
    "Let's define some dicts to log the results of the training."
   ]
  },
  {
   "cell_type": "code",
   "execution_count": 3,
   "metadata": {},
   "outputs": [],
   "source": [
    "timer = {}\n",
    "best_config = {}\n"
   ]
  },
  {
   "cell_type": "markdown",
   "metadata": {},
   "source": [
    "We will need a training function. This is also implemented in the mltrainer, but I put it here to show you how the details work."
   ]
  },
  {
   "cell_type": "code",
   "execution_count": 4,
   "metadata": {},
   "outputs": [],
   "source": [
    "def train_fn(model, trainstreamer, lossfn, optimizer, steps):\n",
    "    model.train()\n",
    "    train_loss: float = 0.0\n",
    "    for _ in range(steps):\n",
    "        x, y = next(trainstreamer)\n",
    "        optimizer.zero_grad()\n",
    "        yhat = model(x)\n",
    "        loss = lossfn(yhat, y)\n",
    "        loss.backward()\n",
    "        optimizer.step()\n",
    "        train_loss += loss.item()\n",
    "    return train_loss"
   ]
  },
  {
   "cell_type": "markdown",
   "metadata": {},
   "source": [
    "We validate on the validation set and return the loss."
   ]
  },
  {
   "cell_type": "code",
   "execution_count": 5,
   "metadata": {},
   "outputs": [],
   "source": [
    "def validate(model, validstreamer, lossfn, metric, steps):\n",
    "    model.eval()\n",
    "    valid_loss: float = 0.0\n",
    "    acc: float = 0.0\n",
    "    with torch.no_grad():\n",
    "        for _ in range(steps):\n",
    "            x, y = next(validstreamer)\n",
    "            yhat = model(x)\n",
    "            loss = lossfn(yhat, y)\n",
    "            valid_loss += loss.item()\n",
    "            acc += metric(y, yhat)\n",
    "    acc /= steps\n",
    "    return valid_loss, acc"
   ]
  },
  {
   "cell_type": "markdown",
   "metadata": {},
   "source": [
    "Getting the data requires a bit extra care. Because we will run experiments in parallel on all the cpu's available, we well use FileLock to make sure that loading the data does not conflict.\n",
    "\n",
    "Note we import functions inside the function we will later on pass to ray. This is because ray will serialize the function and send it to the workers. If we import the functions outside the function, the workers will not have access to them."
   ]
  },
  {
   "cell_type": "code",
   "execution_count": 6,
   "metadata": {},
   "outputs": [],
   "source": [
    "def get_data(tune_dir):\n",
    "    from filelock import FileLock\n",
    "    from mads_datasets import DatasetFactoryProvider, DatasetType\n",
    "    from mltrainer.preprocessors import PaddedPreprocessor\n",
    "    from mads_datasets import DatasetFactoryProvider, DatasetType\n",
    "    with FileLock(tune_dir / \".lock\"):\n",
    "        # we lock the datadir to avoid parallel instances trying to\n",
    "        # access the datadir\n",
    "        preprocessor = PaddedPreprocessor()\n",
    "        gesturesdatasetfactory = DatasetFactoryProvider.create_factory(DatasetType.GESTURES)\n",
    "        streamers = gesturesdatasetfactory.create_datastreamer(\n",
    "            batchsize=32, preprocessor=preprocessor\n",
    "        )\n",
    "        train = streamers[\"train\"]\n",
    "        valid = streamers[\"valid\"]\n",
    "    return train, valid"
   ]
  },
  {
   "cell_type": "markdown",
   "metadata": {},
   "source": [
    "We will use the same GRU model we used last lesson. You might improve this in a few ways (eg consider adding skip layers, conv1d, etc) but for clarity, lets keep it simple."
   ]
  },
  {
   "cell_type": "code",
   "execution_count": 7,
   "metadata": {},
   "outputs": [],
   "source": [
    "class GRUmodel(nn.Module):\n",
    "    def __init__(\n",
    "        self,\n",
    "        config: dict,\n",
    "    ) -> None:\n",
    "        super().__init__()\n",
    "        self.rnn = nn.GRU(\n",
    "            input_size=config[\"input_size\"],\n",
    "            hidden_size=int(config[\"hidden_size\"]),\n",
    "            dropout=config[\"dropout\"],\n",
    "            batch_first=True,\n",
    "            num_layers=int(config[\"num_layers\"]),\n",
    "        )\n",
    "        self.linear = nn.Linear(int(config[\"hidden_size\"]), config[\"output_size\"])\n",
    "\n",
    "    def forward(self, x):\n",
    "        x, _ = self.rnn(x)\n",
    "        last_step = x[:, -1, :]\n",
    "        yhat = self.linear(last_step)\n",
    "        return yhat"
   ]
  },
  {
   "cell_type": "markdown",
   "metadata": {},
   "source": [
    "Now, we have all the ingredients we need to run the tuner.\n",
    "We create a function that:\n",
    "- loads the data with a lock\n",
    "- creates the model\n",
    "- trains the model\n",
    "- validates the model\n",
    "- reports the results to ray"
   ]
  },
  {
   "cell_type": "markdown",
   "metadata": {},
   "source": [
    "\n",
    "<font color='green'>\n",
    "\n",
    "**Code modified**\n",
    "</font>"
   ]
  },
  {
   "cell_type": "code",
   "execution_count": 8,
   "metadata": {},
   "outputs": [],
   "source": [
    "def tune_model(config: dict):\n",
    "    from mltrainer.metrics import Accuracy\n",
    "\n",
    "    # load data\n",
    "    train, valid = get_data(config[\"tune_dir\"])\n",
    "    trainsteps = len(train)\n",
    "    validsteps = len(valid)\n",
    "    trainstreamer = train.stream()\n",
    "    validstreamer = valid.stream()\n",
    "\n",
    "    # create model with config\n",
    "    model = GRUmodel(config)\n",
    "    optimizer = optim.Adam(model.parameters(), lr=0.001)\n",
    "    loss_fn = torch.nn.CrossEntropyLoss()\n",
    "    metric = Accuracy()\n",
    "\n",
    "    for _ in range(config[\"epochs\"]):\n",
    "        # train and validate\n",
    "        train_loss = train_fn(model, trainstreamer, loss_fn, optimizer, trainsteps)\n",
    "        valid_loss, accuracy = validate(model, validstreamer, loss_fn, metric, validsteps)\n",
    "\n",
    "        # report to ray\n",
    "        ray.train.report({\n",
    "            \"valid_loss\": valid_loss / validsteps,\n",
    "            \"train_loss\": train_loss / trainsteps,\n",
    "            \"accuracy\" : accuracy.cpu().detach().numpy(), # edit to also work with cuda ('ray' does not work with Tensor object)\n",
    "            })\n"
   ]
  },
  {
   "cell_type": "markdown",
   "metadata": {},
   "source": [
    "Let's try this, to see if everything works as expected.\n",
    "Note that it typically does not make sense to use accelaration here; we will typically have 1 GPU, but 10 or 16 CPUS. We gain much more from parallelizing the experiments than we gain by running the model faster on a single GPU."
   ]
  },
  {
   "cell_type": "code",
   "execution_count": 9,
   "metadata": {},
   "outputs": [
    {
     "name": "stderr",
     "output_type": "stream",
     "text": [
      "\u001b[32m2025-02-15 17:38:05.398\u001b[0m | \u001b[1mINFO    \u001b[0m | \u001b[36mmads_datasets.base\u001b[0m:\u001b[36mdownload_data\u001b[0m:\u001b[36m121\u001b[0m - \u001b[1mFolder already exists at /home/sarmad/.cache/mads_datasets/gestures\u001b[0m\n",
      "100%|\u001b[38;2;30;71;6m██████████\u001b[0m| 2600/2600 [00:00<00:00, 5782.09it/s]\n",
      "100%|\u001b[38;2;30;71;6m██████████\u001b[0m| 651/651 [00:00<00:00, 5922.67it/s]\n",
      "/home/sarmad/anaconda3/envs/conda_kernel/lib/python3.11/site-packages/ray/train/_internal/session.py:657: UserWarning: `report` is meant to only be called inside a function that is executed by a Tuner or Trainer. Returning `None`.\n",
      "  warnings.warn(\n"
     ]
    }
   ],
   "source": [
    "tune_dir = Path(\"models/ray/\").resolve()\n",
    "\n",
    "config = {\n",
    "    \"input_size\": 3,\n",
    "    \"output_size\": 20,\n",
    "    \"dropout\": 0.1,\n",
    "    \"hidden_size\": 64,\n",
    "    \"num_layers\": 2,\n",
    "    \"epochs\": MAX_EPOCHS,\n",
    "    \"tune_dir\": tune_dir,\n",
    "}\n",
    "tune_model(config)"
   ]
  },
  {
   "cell_type": "markdown",
   "metadata": {},
   "source": [
    "# Random search"
   ]
  },
  {
   "cell_type": "markdown",
   "metadata": {},
   "source": [
    "Now, let's do a random search. \n",
    "\n",
    "First, we define the search space. We can specify specific values, but also distributions.\n",
    "For the hidden size, we will use randint, which will sample from a uniform distribution of integers.\n",
    "The same for the number of layers.\n",
    "\n",
    "The `tune.run` function runs the hypertuning. It will sample from the search space, and create a specific config for each experiment."
   ]
  },
  {
   "cell_type": "code",
   "execution_count": 10,
   "metadata": {},
   "outputs": [],
   "source": [
    "config = {\n",
    "    \"input_size\": 3,\n",
    "    \"output_size\": 20,\n",
    "    \"dropout\": 0.05,\n",
    "    \"epochs\": MAX_EPOCHS,\n",
    "    \"hidden_size\": tune.randint(16, 512),\n",
    "    \"num_layers\": tune.randint(1, 8),\n",
    "    \"tune_dir\": tune_dir,\n",
    "}"
   ]
  },
  {
   "cell_type": "markdown",
   "metadata": {},
   "source": [
    "Let's test this!"
   ]
  },
  {
   "cell_type": "markdown",
   "metadata": {},
   "source": [
    "\n",
    "<font color='green'>\n",
    "\n",
    "**Code modified**\n",
    "</font>"
   ]
  },
  {
   "cell_type": "code",
   "execution_count": null,
   "metadata": {},
   "outputs": [
    {
     "data": {
      "text/html": [
       "<div class=\"tuneStatus\">\n",
       "  <div style=\"display: flex;flex-direction: row\">\n",
       "    <div style=\"display: flex;flex-direction: column;\">\n",
       "      <h3>Tune Status</h3>\n",
       "      <table>\n",
       "<tbody>\n",
       "<tr><td>Current time:</td><td>2025-02-15 17:44:40</td></tr>\n",
       "<tr><td>Running for: </td><td>00:06:25.92        </td></tr>\n",
       "<tr><td>Memory:      </td><td>13.3/31.2 GiB      </td></tr>\n",
       "</tbody>\n",
       "</table>\n",
       "    </div>\n",
       "    <div class=\"vDivider\"></div>\n",
       "    <div class=\"systemInfo\">\n",
       "      <h3>System Info</h3>\n",
       "      Using FIFO scheduling algorithm.<br>Logical resource usage: 1.0/12 CPUs, 0/1 GPUs (0.0/1.0 accelerator_type:G)\n",
       "    </div>\n",
       "    \n",
       "  </div>\n",
       "  <div class=\"hDivider\"></div>\n",
       "  <div class=\"trialStatus\">\n",
       "    <h3>Trial Status</h3>\n",
       "    <table>\n",
       "<thead>\n",
       "<tr><th>Trial name            </th><th>status    </th><th>loc               </th><th style=\"text-align: right;\">  hidden_size</th><th style=\"text-align: right;\">  num_layers</th><th style=\"text-align: right;\">  iter</th><th style=\"text-align: right;\">  total time (s)</th><th style=\"text-align: right;\">  valid_loss</th><th style=\"text-align: right;\">  train_loss</th></tr>\n",
       "</thead>\n",
       "<tbody>\n",
       "<tr><td>tune_model_322bf_00000</td><td>TERMINATED</td><td>192.168.0.5:973226</td><td style=\"text-align: right;\">          376</td><td style=\"text-align: right;\">           1</td><td style=\"text-align: right;\">     5</td><td style=\"text-align: right;\">         62.9262</td><td style=\"text-align: right;\">   0.136113 </td><td style=\"text-align: right;\">   0.196417 </td></tr>\n",
       "<tr><td>tune_model_322bf_00001</td><td>TERMINATED</td><td>192.168.0.5:973238</td><td style=\"text-align: right;\">          260</td><td style=\"text-align: right;\">           7</td><td style=\"text-align: right;\">     5</td><td style=\"text-align: right;\">        239.91  </td><td style=\"text-align: right;\">   0.842871 </td><td style=\"text-align: right;\">   0.957631 </td></tr>\n",
       "<tr><td>tune_model_322bf_00002</td><td>TERMINATED</td><td>192.168.0.5:973244</td><td style=\"text-align: right;\">           50</td><td style=\"text-align: right;\">           4</td><td style=\"text-align: right;\">     5</td><td style=\"text-align: right;\">         32.4021</td><td style=\"text-align: right;\">   1.18206  </td><td style=\"text-align: right;\">   1.35965  </td></tr>\n",
       "<tr><td>tune_model_322bf_00003</td><td>TERMINATED</td><td>192.168.0.5:973223</td><td style=\"text-align: right;\">          181</td><td style=\"text-align: right;\">           3</td><td style=\"text-align: right;\">     5</td><td style=\"text-align: right;\">         79.9479</td><td style=\"text-align: right;\">   0.152036 </td><td style=\"text-align: right;\">   0.24515  </td></tr>\n",
       "<tr><td>tune_model_322bf_00004</td><td>TERMINATED</td><td>192.168.0.5:973243</td><td style=\"text-align: right;\">           42</td><td style=\"text-align: right;\">           3</td><td style=\"text-align: right;\">     5</td><td style=\"text-align: right;\">         21.3468</td><td style=\"text-align: right;\">   1.34626  </td><td style=\"text-align: right;\">   1.43685  </td></tr>\n",
       "<tr><td>tune_model_322bf_00005</td><td>TERMINATED</td><td>192.168.0.5:973227</td><td style=\"text-align: right;\">          235</td><td style=\"text-align: right;\">           3</td><td style=\"text-align: right;\">     5</td><td style=\"text-align: right;\">         92.1148</td><td style=\"text-align: right;\">   0.12902  </td><td style=\"text-align: right;\">   0.136369 </td></tr>\n",
       "<tr><td>tune_model_322bf_00006</td><td>TERMINATED</td><td>192.168.0.5:973242</td><td style=\"text-align: right;\">          409</td><td style=\"text-align: right;\">           3</td><td style=\"text-align: right;\">     5</td><td style=\"text-align: right;\">        227.354 </td><td style=\"text-align: right;\">   0.0939786</td><td style=\"text-align: right;\">   0.0446107</td></tr>\n",
       "<tr><td>tune_model_322bf_00007</td><td>TERMINATED</td><td>192.168.0.5:973241</td><td style=\"text-align: right;\">          486</td><td style=\"text-align: right;\">           1</td><td style=\"text-align: right;\">     5</td><td style=\"text-align: right;\">         92.4551</td><td style=\"text-align: right;\">   0.0768986</td><td style=\"text-align: right;\">   0.0926823</td></tr>\n",
       "<tr><td>tune_model_322bf_00008</td><td>TERMINATED</td><td>192.168.0.5:973740</td><td style=\"text-align: right;\">           91</td><td style=\"text-align: right;\">           6</td><td style=\"text-align: right;\">     5</td><td style=\"text-align: right;\">         67.4207</td><td style=\"text-align: right;\">   1.27429  </td><td style=\"text-align: right;\">   1.30049  </td></tr>\n",
       "<tr><td>tune_model_322bf_00009</td><td>TERMINATED</td><td>192.168.0.5:973803</td><td style=\"text-align: right;\">          230</td><td style=\"text-align: right;\">           2</td><td style=\"text-align: right;\">     5</td><td style=\"text-align: right;\">         59.592 </td><td style=\"text-align: right;\">   0.156623 </td><td style=\"text-align: right;\">   0.163426 </td></tr>\n",
       "<tr><td>tune_model_322bf_00010</td><td>TERMINATED</td><td>192.168.0.5:973896</td><td style=\"text-align: right;\">          187</td><td style=\"text-align: right;\">           4</td><td style=\"text-align: right;\">     5</td><td style=\"text-align: right;\">         94.4795</td><td style=\"text-align: right;\">   0.187746 </td><td style=\"text-align: right;\">   0.299355 </td></tr>\n",
       "<tr><td>tune_model_322bf_00011</td><td>TERMINATED</td><td>192.168.0.5:973962</td><td style=\"text-align: right;\">          376</td><td style=\"text-align: right;\">           4</td><td style=\"text-align: right;\">     5</td><td style=\"text-align: right;\">        204.271 </td><td style=\"text-align: right;\">   0.0788466</td><td style=\"text-align: right;\">   0.138386 </td></tr>\n",
       "<tr><td>tune_model_322bf_00012</td><td>TERMINATED</td><td>192.168.0.5:974053</td><td style=\"text-align: right;\">          283</td><td style=\"text-align: right;\">           1</td><td style=\"text-align: right;\">     5</td><td style=\"text-align: right;\">         43.3955</td><td style=\"text-align: right;\">   0.178968 </td><td style=\"text-align: right;\">   0.340132 </td></tr>\n",
       "<tr><td>tune_model_322bf_00013</td><td>TERMINATED</td><td>192.168.0.5:974057</td><td style=\"text-align: right;\">          238</td><td style=\"text-align: right;\">           1</td><td style=\"text-align: right;\">     5</td><td style=\"text-align: right;\">         29.7061</td><td style=\"text-align: right;\">   0.337925 </td><td style=\"text-align: right;\">   0.510698 </td></tr>\n",
       "<tr><td>tune_model_322bf_00014</td><td>TERMINATED</td><td>192.168.0.5:974102</td><td style=\"text-align: right;\">          344</td><td style=\"text-align: right;\">           2</td><td style=\"text-align: right;\">     5</td><td style=\"text-align: right;\">        108.843 </td><td style=\"text-align: right;\">   0.157171 </td><td style=\"text-align: right;\">   0.111867 </td></tr>\n",
       "<tr><td>tune_model_322bf_00015</td><td>TERMINATED</td><td>192.168.0.5:974198</td><td style=\"text-align: right;\">           42</td><td style=\"text-align: right;\">           3</td><td style=\"text-align: right;\">     5</td><td style=\"text-align: right;\">         27.9853</td><td style=\"text-align: right;\">   1.42105  </td><td style=\"text-align: right;\">   1.56632  </td></tr>\n",
       "<tr><td>tune_model_322bf_00016</td><td>TERMINATED</td><td>192.168.0.5:974312</td><td style=\"text-align: right;\">          453</td><td style=\"text-align: right;\">           5</td><td style=\"text-align: right;\">     5</td><td style=\"text-align: right;\">        250.935 </td><td style=\"text-align: right;\">   0.190087 </td><td style=\"text-align: right;\">   0.246902 </td></tr>\n",
       "<tr><td>tune_model_322bf_00017</td><td>TERMINATED</td><td>192.168.0.5:974364</td><td style=\"text-align: right;\">          464</td><td style=\"text-align: right;\">           2</td><td style=\"text-align: right;\">     5</td><td style=\"text-align: right;\">        138.108 </td><td style=\"text-align: right;\">   0.0823064</td><td style=\"text-align: right;\">   0.0416702</td></tr>\n",
       "</tbody>\n",
       "</table>\n",
       "  </div>\n",
       "</div>\n",
       "<style>\n",
       ".tuneStatus {\n",
       "  color: var(--jp-ui-font-color1);\n",
       "}\n",
       ".tuneStatus .systemInfo {\n",
       "  display: flex;\n",
       "  flex-direction: column;\n",
       "}\n",
       ".tuneStatus td {\n",
       "  white-space: nowrap;\n",
       "}\n",
       ".tuneStatus .trialStatus {\n",
       "  display: flex;\n",
       "  flex-direction: column;\n",
       "}\n",
       ".tuneStatus h3 {\n",
       "  font-weight: bold;\n",
       "}\n",
       ".tuneStatus .hDivider {\n",
       "  border-bottom-width: var(--jp-border-width);\n",
       "  border-bottom-color: var(--jp-border-color0);\n",
       "  border-bottom-style: solid;\n",
       "}\n",
       ".tuneStatus .vDivider {\n",
       "  border-left-width: var(--jp-border-width);\n",
       "  border-left-color: var(--jp-border-color0);\n",
       "  border-left-style: solid;\n",
       "  margin: 0.5em 1em 0.5em 1em;\n",
       "}\n",
       "</style>\n"
      ],
      "text/plain": [
       "<IPython.core.display.HTML object>"
      ]
     },
     "metadata": {},
     "output_type": "display_data"
    },
    {
     "name": "stderr",
     "output_type": "stream",
     "text": [
      "\u001b[33m(raylet)\u001b[0m bash: /home/sarmad/anaconda3/lib/libtinfo.so.6: no version information available (required by bash)\n",
      "\u001b[36m(tune_model pid=973227)\u001b[0m 2025-02-15 17:38:18.372 | INFO     | mads_datasets.base:download_data:121 - Folder already exists at /home/sarmad/.cache/mads_datasets/gestures\n",
      "  0%|\u001b[38;2;30;71;6m          \u001b[0m| 0/2600 [00:00<?, ?it/s]\n",
      " 20%|\u001b[38;2;30;71;6m██        \u001b[0m| 522/2600 [00:00<00:00, 5213.38it/s]\n",
      " 41%|\u001b[38;2;30;71;6m████      \u001b[0m| 1057/2600 [00:00<00:00, 5287.71it/s]\n",
      " 61%|\u001b[38;2;30;71;6m██████    \u001b[0m| 1586/2600 [00:00<00:00, 5282.57it/s]\n",
      " 83%|\u001b[38;2;30;71;6m████████▎ \u001b[0m| 2146/2600 [00:00<00:00, 5407.67it/s]\n",
      "100%|\u001b[38;2;30;71;6m██████████\u001b[0m| 2600/2600 [00:00<00:00, 5448.39it/s]\n",
      "  0%|\u001b[38;2;30;71;6m          \u001b[0m| 0/651 [00:00<?, ?it/s]\n",
      "100%|\u001b[38;2;30;71;6m██████████\u001b[0m| 651/651 [00:00<00:00, 5836.83it/s]\n",
      " 22%|\u001b[38;2;30;71;6m██▏       \u001b[0m| 565/2600 [00:00<00:00, 5644.03it/s]\n",
      " 44%|\u001b[38;2;30;71;6m████▍     \u001b[0m| 1146/2600 [00:00<00:00, 5739.91it/s]\n",
      " 66%|\u001b[38;2;30;71;6m██████▌   \u001b[0m| 1720/2600 [00:00<00:00, 5683.01it/s]\n",
      " 88%|\u001b[38;2;30;71;6m████████▊ \u001b[0m| 2298/2600 [00:00<00:00, 5719.58it/s]\n",
      "100%|\u001b[38;2;30;71;6m██████████\u001b[0m| 2600/2600 [00:00<00:00, 5701.87it/s]\n",
      " 85%|\u001b[38;2;30;71;6m████████▌ \u001b[0m| 554/651 [00:00<00:00, 5534.69it/s]\n",
      "100%|\u001b[38;2;30;71;6m██████████\u001b[0m| 651/651 [00:00<00:00, 5492.56it/s]\n",
      "\u001b[33m(raylet)\u001b[0m bash: /home/sarmad/anaconda3/lib/libtinfo.so.6: no version information available (required by bash)\u001b[32m [repeated 7x across cluster] (Ray deduplicates logs by default. Set RAY_DEDUP_LOGS=0 to disable log deduplication, or see https://docs.ray.io/en/master/ray-observability/user-guides/configure-logging.html#log-deduplication for more options.)\u001b[0m\n",
      " 22%|\u001b[38;2;30;71;6m██▏       \u001b[0m| 565/2600 [00:00<00:00, 5641.77it/s]\n",
      " 44%|\u001b[38;2;30;71;6m████▍     \u001b[0m| 1140/2600 [00:00<00:00, 5701.71it/s]\n",
      " 66%|\u001b[38;2;30;71;6m██████▌   \u001b[0m| 1711/2600 [00:00<00:00, 5678.93it/s]\n",
      " 88%|\u001b[38;2;30;71;6m████████▊ \u001b[0m| 2279/2600 [00:00<00:00, 5581.31it/s]\n",
      "100%|\u001b[38;2;30;71;6m██████████\u001b[0m| 2600/2600 [00:00<00:00, 5598.40it/s]\n",
      "100%|\u001b[38;2;30;71;6m██████████\u001b[0m| 651/651 [00:00<00:00, 5257.22it/s]\n",
      " 21%|\u001b[38;2;30;71;6m██        \u001b[0m| 540/2600 [00:00<00:00, 5397.83it/s]\n",
      " 42%|\u001b[38;2;30;71;6m████▏     \u001b[0m| 1094/2600 [00:00<00:00, 5478.87it/s]\n",
      " 63%|\u001b[38;2;30;71;6m██████▎   \u001b[0m| 1642/2600 [00:00<00:00, 5430.42it/s]\n",
      " 84%|\u001b[38;2;30;71;6m████████▍ \u001b[0m| 2186/2600 [00:00<00:00, 5013.22it/s]\n",
      "100%|\u001b[38;2;30;71;6m██████████\u001b[0m| 2600/2600 [00:00<00:00, 5133.41it/s]\n",
      "100%|\u001b[38;2;30;71;6m██████████\u001b[0m| 651/651 [00:00<00:00, 5041.16it/s]\n",
      " 13%|\u001b[38;2;30;71;6m█▎        \u001b[0m| 330/2600 [00:00<00:00, 3298.61it/s]\n",
      " 26%|\u001b[38;2;30;71;6m██▌       \u001b[0m| 666/2600 [00:00<00:00, 3333.81it/s]\n",
      " 39%|\u001b[38;2;30;71;6m███▉      \u001b[0m| 1010/2600 [00:00<00:00, 3382.08it/s]\n",
      " 52%|\u001b[38;2;30;71;6m█████▏    \u001b[0m| 1349/2600 [00:00<00:00, 3333.09it/s]\n",
      " 65%|\u001b[38;2;30;71;6m██████▌   \u001b[0m| 1691/2600 [00:00<00:00, 3361.62it/s]\n",
      " 79%|\u001b[38;2;30;71;6m███████▊  \u001b[0m| 2046/2600 [00:00<00:00, 3422.91it/s]\n",
      "100%|\u001b[38;2;30;71;6m██████████\u001b[0m| 2600/2600 [00:00<00:00, 3384.71it/s]\n",
      " 52%|\u001b[38;2;30;71;6m█████▏    \u001b[0m| 336/651 [00:00<00:00, 3346.60it/s]\n",
      "100%|\u001b[38;2;30;71;6m██████████\u001b[0m| 651/651 [00:00<00:00, 3369.31it/s]\n",
      " 11%|\u001b[38;2;30;71;6m█         \u001b[0m| 286/2600 [00:00<00:00, 2848.17it/s]\n",
      " 22%|\u001b[38;2;30;71;6m██▏       \u001b[0m| 575/2600 [00:00<00:00, 2869.25it/s]\n",
      " 33%|\u001b[38;2;30;71;6m███▎      \u001b[0m| 862/2600 [00:00<00:00, 2869.31it/s]\n",
      " 44%|\u001b[38;2;30;71;6m████▍     \u001b[0m| 1149/2600 [00:00<00:00, 2837.08it/s]\n",
      " 56%|\u001b[38;2;30;71;6m█████▋    \u001b[0m| 1469/2600 [00:00<00:00, 2964.86it/s]\n",
      " 68%|\u001b[38;2;30;71;6m██████▊   \u001b[0m| 1766/2600 [00:00<00:00, 2959.47it/s]\n",
      "\u001b[36m(tune_model pid=973241)\u001b[0m 2025-02-15 17:38:22.541 | INFO     | mads_datasets.base:download_data:121 - Folder already exists at /home/sarmad/.cache/mads_datasets/gestures\u001b[32m [repeated 5x across cluster]\u001b[0m\n",
      " 79%|\u001b[38;2;30;71;6m███████▉  \u001b[0m| 2063/2600 [00:00<00:00, 2936.43it/s]\n",
      "  0%|\u001b[38;2;30;71;6m          \u001b[0m| 0/2600 [00:00<?, ?it/s]\u001b[32m [repeated 9x across cluster]\u001b[0m\n",
      "100%|\u001b[38;2;30;71;6m██████████\u001b[0m| 2600/2600 [00:00<00:00, 2915.47it/s]\n",
      " 45%|\u001b[38;2;30;71;6m████▌     \u001b[0m| 294/651 [00:00<00:00, 2936.59it/s]\n",
      " 90%|\u001b[38;2;30;71;6m█████████ \u001b[0m| 588/651 [00:00<00:00, 2803.82it/s]\n",
      "100%|\u001b[38;2;30;71;6m██████████\u001b[0m| 651/651 [00:00<00:00, 2811.53it/s]\n",
      "\u001b[36m(tune_model pid=973241)\u001b[0m /home/sarmad/anaconda3/envs/conda_kernel/lib/python3.11/site-packages/torch/nn/modules/rnn.py:83: UserWarning: dropout option adds dropout after all but last recurrent layer, so non-zero dropout expects num_layers greater than 1, but got dropout=0.05 and num_layers=1\n",
      "\u001b[36m(tune_model pid=973241)\u001b[0m   warnings.warn(\"dropout option adds dropout after all but last \"\n",
      " 12%|\u001b[38;2;30;71;6m█▏        \u001b[0m| 306/2600 [00:00<00:00, 3057.56it/s]\n",
      " 24%|\u001b[38;2;30;71;6m██▍       \u001b[0m| 629/2600 [00:00<00:00, 3156.57it/s]\n",
      " 37%|\u001b[38;2;30;71;6m███▋      \u001b[0m| 955/2600 [00:00<00:00, 3201.65it/s]\n",
      " 49%|\u001b[38;2;30;71;6m████▉     \u001b[0m| 1276/2600 [00:00<00:00, 3133.89it/s]\n",
      " 61%|\u001b[38;2;30;71;6m██████    \u001b[0m| 1590/2600 [00:00<00:00, 3109.96it/s]\n",
      " 73%|\u001b[38;2;30;71;6m███████▎  \u001b[0m| 1902/2600 [00:00<00:00, 3090.66it/s]\n",
      " 85%|\u001b[38;2;30;71;6m████████▌ \u001b[0m| 2218/2600 [00:00<00:00, 3109.80it/s]\n",
      "100%|\u001b[38;2;30;71;6m██████████\u001b[0m| 2600/2600 [00:00<00:00, 3112.76it/s]\n",
      " 51%|\u001b[38;2;30;71;6m█████     \u001b[0m| 333/651 [00:00<00:00, 3316.30it/s]\n",
      "100%|\u001b[38;2;30;71;6m██████████\u001b[0m| 651/651 [00:00<00:00, 3248.28it/s]\n",
      "  9%|\u001b[38;2;30;71;6m▉         \u001b[0m| 245/2600 [00:00<00:00, 2439.50it/s]\n",
      " 19%|\u001b[38;2;30;71;6m█▉        \u001b[0m| 501/2600 [00:00<00:00, 2503.88it/s]\n",
      " 30%|\u001b[38;2;30;71;6m███       \u001b[0m| 788/2600 [00:00<00:00, 2669.72it/s]\n",
      " 41%|\u001b[38;2;30;71;6m████      \u001b[0m| 1056/2600 [00:00<00:00, 2630.28it/s]\n",
      " 51%|\u001b[38;2;30;71;6m█████     \u001b[0m| 1320/2600 [00:00<00:00, 2376.49it/s]\n",
      " 60%|\u001b[38;2;30;71;6m██████    \u001b[0m| 1562/2600 [00:00<00:00, 2366.33it/s]\n",
      " 72%|\u001b[38;2;30;71;6m███████▏  \u001b[0m| 1862/2600 [00:00<00:00, 2561.41it/s]\n",
      " 89%|\u001b[38;2;30;71;6m████████▉ \u001b[0m| 2321/2600 [00:00<00:00, 3180.71it/s]\n",
      "100%|\u001b[38;2;30;71;6m██████████\u001b[0m| 2600/2600 [00:00<00:00, 2818.50it/s]\n",
      " 81%|\u001b[38;2;30;71;6m████████  \u001b[0m| 527/651 [00:00<00:00, 2679.74it/s]\n",
      "100%|\u001b[38;2;30;71;6m██████████\u001b[0m| 651/651 [00:00<00:00, 2598.31it/s]\n",
      "\u001b[33m(raylet)\u001b[0m bash: /home/sarmad/anaconda3/lib/libtinfo.so.6: no version information available (required by bash)\n",
      "\u001b[36m(tune_model pid=973226)\u001b[0m 2025-02-15 17:38:25.198 | INFO     | mads_datasets.base:download_data:121 - Folder already exists at /home/sarmad/.cache/mads_datasets/gestures\u001b[32m [repeated 2x across cluster]\u001b[0m\n",
      " 36%|\u001b[38;2;30;71;6m███▌      \u001b[0m| 233/651 [00:00<00:00, 2325.56it/s]\u001b[32m [repeated 5x across cluster]\u001b[0m\n",
      "\u001b[36m(tune_model pid=973226)\u001b[0m /home/sarmad/anaconda3/envs/conda_kernel/lib/python3.11/site-packages/torch/nn/modules/rnn.py:83: UserWarning: dropout option adds dropout after all but last recurrent layer, so non-zero dropout expects num_layers greater than 1, but got dropout=0.05 and num_layers=1\n",
      "\u001b[36m(tune_model pid=973226)\u001b[0m   warnings.warn(\"dropout option adds dropout after all but last \"\n",
      "\u001b[36m(tune_model pid=973740)\u001b[0m 2025-02-15 17:38:46.764 | INFO     | mads_datasets.base:download_data:121 - Folder already exists at /home/sarmad/.cache/mads_datasets/gestures\n",
      "  0%|\u001b[38;2;30;71;6m          \u001b[0m| 0/2600 [00:00<?, ?it/s]\n",
      "  7%|\u001b[38;2;30;71;6m▋         \u001b[0m| 173/2600 [00:00<00:01, 1727.50it/s]\n",
      " 15%|\u001b[38;2;30;71;6m█▍        \u001b[0m| 384/2600 [00:00<00:01, 1950.96it/s]\n",
      " 22%|\u001b[38;2;30;71;6m██▏       \u001b[0m| 580/2600 [00:00<00:01, 1758.69it/s]\n",
      " 29%|\u001b[38;2;30;71;6m██▉       \u001b[0m| 758/2600 [00:00<00:01, 1567.25it/s]\n",
      " 36%|\u001b[38;2;30;71;6m███▌      \u001b[0m| 932/2600 [00:00<00:01, 1620.99it/s]\n",
      " 46%|\u001b[38;2;30;71;6m████▌     \u001b[0m| 1189/2600 [00:00<00:00, 1917.85it/s]\n",
      " 54%|\u001b[38;2;30;71;6m█████▎    \u001b[0m| 1392/2600 [00:00<00:00, 1952.31it/s]\n",
      " 61%|\u001b[38;2;30;71;6m██████    \u001b[0m| 1591/2600 [00:00<00:00, 1690.79it/s]\n",
      " 68%|\u001b[38;2;30;71;6m██████▊   \u001b[0m| 1768/2600 [00:01<00:00, 1655.43it/s]\n",
      " 81%|\u001b[38;2;30;71;6m████████▏ \u001b[0m| 2118/2600 [00:01<00:00, 2161.07it/s]\n",
      " 91%|\u001b[38;2;30;71;6m█████████ \u001b[0m| 2363/2600 [00:01<00:00, 2240.30it/s]\n",
      "100%|\u001b[38;2;30;71;6m██████████\u001b[0m| 2600/2600 [00:01<00:00, 1986.31it/s]\n",
      "  0%|\u001b[38;2;30;71;6m          \u001b[0m| 0/651 [00:00<?, ?it/s]\n",
      " 56%|\u001b[38;2;30;71;6m█████▋    \u001b[0m| 367/651 [00:00<00:00, 3665.25it/s]\n",
      "100%|\u001b[38;2;30;71;6m██████████\u001b[0m| 651/651 [00:00<00:00, 3939.42it/s]\n",
      "\u001b[33m(raylet)\u001b[0m bash: /home/sarmad/anaconda3/lib/libtinfo.so.6: no version information available (required by bash)\n",
      "\u001b[36m(tune_model pid=973803)\u001b[0m 2025-02-15 17:38:57.707 | INFO     | mads_datasets.base:download_data:121 - Folder already exists at /home/sarmad/.cache/mads_datasets/gestures\n",
      "  0%|\u001b[38;2;30;71;6m          \u001b[0m| 0/2600 [00:00<?, ?it/s]\n",
      " 14%|\u001b[38;2;30;71;6m█▍        \u001b[0m| 372/2600 [00:00<00:00, 3716.47it/s]\n",
      " 29%|\u001b[38;2;30;71;6m██▉       \u001b[0m| 749/2600 [00:00<00:00, 3744.03it/s]\n",
      " 43%|\u001b[38;2;30;71;6m████▎     \u001b[0m| 1124/2600 [00:00<00:00, 3604.09it/s]\n",
      " 57%|\u001b[38;2;30;71;6m█████▋    \u001b[0m| 1494/2600 [00:00<00:00, 3640.93it/s]\n",
      " 72%|\u001b[38;2;30;71;6m███████▏  \u001b[0m| 1878/2600 [00:00<00:00, 3709.26it/s]\n",
      " 87%|\u001b[38;2;30;71;6m████████▋ \u001b[0m| 2250/2600 [00:00<00:00, 3695.68it/s]\n",
      "100%|\u001b[38;2;30;71;6m██████████\u001b[0m| 2600/2600 [00:00<00:00, 3673.50it/s]\n",
      "  0%|\u001b[38;2;30;71;6m          \u001b[0m| 0/651 [00:00<?, ?it/s]\n",
      " 47%|\u001b[38;2;30;71;6m████▋     \u001b[0m| 309/651 [00:00<00:00, 3086.35it/s]\n",
      "100%|\u001b[38;2;30;71;6m██████████\u001b[0m| 651/651 [00:00<00:00, 3502.01it/s]\n",
      "\u001b[33m(raylet)\u001b[0m bash: /home/sarmad/anaconda3/lib/libtinfo.so.6: no version information available (required by bash)\n",
      "\u001b[36m(tune_model pid=973896)\u001b[0m 2025-02-15 17:39:28.304 | INFO     | mads_datasets.base:download_data:121 - Folder already exists at /home/sarmad/.cache/mads_datasets/gestures\n",
      "  0%|\u001b[38;2;30;71;6m          \u001b[0m| 0/2600 [00:00<?, ?it/s]\n",
      "  8%|\u001b[38;2;30;71;6m▊         \u001b[0m| 196/2600 [00:00<00:01, 1959.16it/s]\n",
      " 15%|\u001b[38;2;30;71;6m█▌        \u001b[0m| 392/2600 [00:00<00:01, 1896.88it/s]\n",
      " 24%|\u001b[38;2;30;71;6m██▎       \u001b[0m| 617/2600 [00:00<00:00, 2050.79it/s]\n",
      " 32%|\u001b[38;2;30;71;6m███▏      \u001b[0m| 823/2600 [00:00<00:00, 1898.13it/s]\n",
      " 40%|\u001b[38;2;30;71;6m████      \u001b[0m| 1048/2600 [00:00<00:00, 2014.73it/s]\n",
      " 48%|\u001b[38;2;30;71;6m████▊     \u001b[0m| 1252/2600 [00:00<00:00, 1865.89it/s]\n",
      " 56%|\u001b[38;2;30;71;6m█████▌    \u001b[0m| 1449/2600 [00:00<00:00, 1896.56it/s]\n",
      " 63%|\u001b[38;2;30;71;6m██████▎   \u001b[0m| 1648/2600 [00:00<00:00, 1924.31it/s]\n",
      " 71%|\u001b[38;2;30;71;6m███████   \u001b[0m| 1842/2600 [00:00<00:00, 1925.97it/s]\n",
      " 78%|\u001b[38;2;30;71;6m███████▊  \u001b[0m| 2039/2600 [00:01<00:00, 1938.94it/s]\n",
      " 86%|\u001b[38;2;30;71;6m████████▌ \u001b[0m| 2234/2600 [00:01<00:00, 1924.68it/s]\n",
      " 94%|\u001b[38;2;30;71;6m█████████▍\u001b[0m| 2440/2600 [00:01<00:00, 1963.85it/s]\n",
      "100%|\u001b[38;2;30;71;6m██████████\u001b[0m| 2600/2600 [00:01<00:00, 1939.30it/s]\n",
      "  0%|\u001b[38;2;30;71;6m          \u001b[0m| 0/651 [00:00<?, ?it/s]\n",
      " 32%|\u001b[38;2;30;71;6m███▏      \u001b[0m| 206/651 [00:00<00:00, 2056.98it/s]\n",
      " 63%|\u001b[38;2;30;71;6m██████▎   \u001b[0m| 412/651 [00:00<00:00, 1922.69it/s]\n",
      "100%|\u001b[38;2;30;71;6m██████████\u001b[0m| 651/651 [00:00<00:00, 1933.45it/s]\n",
      "\u001b[33m(raylet)\u001b[0m bash: /home/sarmad/anaconda3/lib/libtinfo.so.6: no version information available (required by bash)\n",
      "\u001b[36m(tune_model pid=973962)\u001b[0m 2025-02-15 17:39:44.606 | INFO     | mads_datasets.base:download_data:121 - Folder already exists at /home/sarmad/.cache/mads_datasets/gestures\n",
      "  0%|\u001b[38;2;30;71;6m          \u001b[0m| 0/2600 [00:00<?, ?it/s]\n",
      " 10%|\u001b[38;2;30;71;6m▉         \u001b[0m| 250/2600 [00:00<00:00, 2495.22it/s]\n",
      " 20%|\u001b[38;2;30;71;6m██        \u001b[0m| 522/2600 [00:00<00:00, 2625.89it/s]\n",
      " 30%|\u001b[38;2;30;71;6m███       \u001b[0m| 787/2600 [00:00<00:00, 2635.43it/s]\n",
      " 40%|\u001b[38;2;30;71;6m████      \u001b[0m| 1051/2600 [00:00<00:00, 2545.57it/s]\n",
      " 50%|\u001b[38;2;30;71;6m█████     \u001b[0m| 1307/2600 [00:00<00:00, 2437.49it/s]\n",
      " 60%|\u001b[38;2;30;71;6m██████    \u001b[0m| 1572/2600 [00:00<00:00, 2505.16it/s]\n",
      " 71%|\u001b[38;2;30;71;6m███████   \u001b[0m| 1842/2600 [00:00<00:00, 2565.14it/s]\n",
      " 81%|\u001b[38;2;30;71;6m████████  \u001b[0m| 2108/2600 [00:00<00:00, 2592.95it/s]\n",
      "100%|\u001b[38;2;30;71;6m██████████\u001b[0m| 2600/2600 [00:00<00:00, 2637.49it/s]\n",
      "  0%|\u001b[38;2;30;71;6m          \u001b[0m| 0/651 [00:00<?, ?it/s]\n",
      " 61%|\u001b[38;2;30;71;6m██████    \u001b[0m| 395/651 [00:00<00:00, 3948.11it/s]\n",
      "100%|\u001b[38;2;30;71;6m██████████\u001b[0m| 651/651 [00:00<00:00, 3874.04it/s]\n",
      "\u001b[33m(raylet)\u001b[0m bash: /home/sarmad/anaconda3/lib/libtinfo.so.6: no version information available (required by bash)\n",
      "\u001b[33m(raylet)\u001b[0m bash: /home/sarmad/anaconda3/lib/libtinfo.so.6: no version information available (required by bash)\u001b[32m [repeated 3x across cluster]\u001b[0m\n",
      "\u001b[36m(tune_model pid=974053)\u001b[0m 2025-02-15 17:39:56.288 | INFO     | mads_datasets.base:download_data:121 - Folder already exists at /home/sarmad/.cache/mads_datasets/gestures\n",
      "  0%|\u001b[38;2;30;71;6m          \u001b[0m| 0/2600 [00:00<?, ?it/s]\n",
      " 12%|\u001b[38;2;30;71;6m█▏        \u001b[0m| 315/2600 [00:00<00:00, 3145.35it/s]\n",
      " 25%|\u001b[38;2;30;71;6m██▍       \u001b[0m| 649/2600 [00:00<00:00, 3257.17it/s]\n",
      " 38%|\u001b[38;2;30;71;6m███▊      \u001b[0m| 975/2600 [00:00<00:00, 3027.08it/s]\n",
      " 49%|\u001b[38;2;30;71;6m████▉     \u001b[0m| 1280/2600 [00:00<00:00, 2861.02it/s]\n",
      " 60%|\u001b[38;2;30;71;6m██████    \u001b[0m| 1570/2600 [00:00<00:00, 2871.43it/s]\n",
      " 72%|\u001b[38;2;30;71;6m███████▏  \u001b[0m| 1876/2600 [00:00<00:00, 2931.21it/s]\n",
      " 84%|\u001b[38;2;30;71;6m████████▎ \u001b[0m| 2171/2600 [00:00<00:00, 2795.25it/s]\n",
      "100%|\u001b[38;2;30;71;6m██████████\u001b[0m| 2600/2600 [00:00<00:00, 2841.89it/s]\n",
      "  0%|\u001b[38;2;30;71;6m          \u001b[0m| 0/651 [00:00<?, ?it/s]\n",
      " 45%|\u001b[38;2;30;71;6m████▌     \u001b[0m| 296/651 [00:00<00:00, 2958.04it/s]\n",
      " 91%|\u001b[38;2;30;71;6m█████████ \u001b[0m| 592/651 [00:00<00:00, 2885.50it/s]\n",
      "100%|\u001b[38;2;30;71;6m██████████\u001b[0m| 651/651 [00:00<00:00, 2878.22it/s]\n",
      "\u001b[36m(tune_model pid=974053)\u001b[0m /home/sarmad/anaconda3/envs/conda_kernel/lib/python3.11/site-packages/torch/nn/modules/rnn.py:83: UserWarning: dropout option adds dropout after all but last recurrent layer, so non-zero dropout expects num_layers greater than 1, but got dropout=0.05 and num_layers=1\n",
      "\u001b[36m(tune_model pid=974053)\u001b[0m   warnings.warn(\"dropout option adds dropout after all but last \"\n",
      " 17%|\u001b[38;2;30;71;6m█▋        \u001b[0m| 436/2600 [00:00<00:00, 4351.62it/s]\n",
      " 35%|\u001b[38;2;30;71;6m███▍      \u001b[0m| 909/2600 [00:00<00:00, 4572.17it/s]\n",
      " 53%|\u001b[38;2;30;71;6m█████▎    \u001b[0m| 1367/2600 [00:00<00:00, 4447.02it/s]\n",
      " 70%|\u001b[38;2;30;71;6m██████▉   \u001b[0m| 1813/2600 [00:00<00:00, 4383.56it/s]\n",
      " 87%|\u001b[38;2;30;71;6m████████▋ \u001b[0m| 2253/2600 [00:00<00:00, 4388.76it/s]\n",
      "100%|\u001b[38;2;30;71;6m██████████\u001b[0m| 2600/2600 [00:00<00:00, 4326.10it/s]\n",
      " 44%|\u001b[38;2;30;71;6m████▍     \u001b[0m| 287/651 [00:00<00:00, 2866.37it/s]\n",
      "100%|\u001b[38;2;30;71;6m██████████\u001b[0m| 651/651 [00:00<00:00, 3089.37it/s]\n",
      "  9%|\u001b[38;2;30;71;6m▉         \u001b[0m| 242/2600 [00:00<00:00, 2419.27it/s]\n",
      " 20%|\u001b[38;2;30;71;6m█▉        \u001b[0m| 510/2600 [00:00<00:00, 2566.95it/s]\n",
      " 30%|\u001b[38;2;30;71;6m██▉       \u001b[0m| 767/2600 [00:00<00:00, 2530.54it/s]\n",
      " 40%|\u001b[38;2;30;71;6m███▉      \u001b[0m| 1029/2600 [00:00<00:00, 2562.99it/s]\n",
      " 51%|\u001b[38;2;30;71;6m█████     \u001b[0m| 1325/2600 [00:00<00:00, 2702.98it/s]\n",
      " 62%|\u001b[38;2;30;71;6m██████▏   \u001b[0m| 1602/2600 [00:00<00:00, 2719.09it/s]\n",
      " 73%|\u001b[38;2;30;71;6m███████▎  \u001b[0m| 1889/2600 [00:00<00:00, 2768.05it/s]\n",
      " 83%|\u001b[38;2;30;71;6m████████▎ \u001b[0m| 2166/2600 [00:00<00:00, 2469.06it/s]\n",
      " 93%|\u001b[38;2;30;71;6m█████████▎\u001b[0m| 2419/2600 [00:00<00:00, 2385.65it/s]\n",
      "100%|\u001b[38;2;30;71;6m██████████\u001b[0m| 2600/2600 [00:01<00:00, 2498.50it/s]\n",
      " 40%|\u001b[38;2;30;71;6m███▉      \u001b[0m| 259/651 [00:00<00:00, 2586.65it/s]\n",
      " 80%|\u001b[38;2;30;71;6m███████▉  \u001b[0m| 518/651 [00:00<00:00, 2558.67it/s]\n",
      "100%|\u001b[38;2;30;71;6m██████████\u001b[0m| 651/651 [00:00<00:00, 2521.72it/s]\n",
      "  8%|\u001b[38;2;30;71;6m▊         \u001b[0m| 201/2600 [00:00<00:01, 2000.47it/s]\n",
      " 16%|\u001b[38;2;30;71;6m█▌        \u001b[0m| 405/2600 [00:00<00:01, 2021.83it/s]\n",
      " 23%|\u001b[38;2;30;71;6m██▎       \u001b[0m| 608/2600 [00:00<00:00, 2001.83it/s]\n",
      " 31%|\u001b[38;2;30;71;6m███       \u001b[0m| 809/2600 [00:00<00:00, 1919.99it/s]\n",
      " 39%|\u001b[38;2;30;71;6m███▊      \u001b[0m| 1007/2600 [00:00<00:00, 1939.63it/s]\n",
      " 46%|\u001b[38;2;30;71;6m████▌     \u001b[0m| 1202/2600 [00:00<00:00, 1896.07it/s]\n",
      " 54%|\u001b[38;2;30;71;6m█████▎    \u001b[0m| 1392/2600 [00:00<00:00, 1712.88it/s]\n",
      " 60%|\u001b[38;2;30;71;6m██████    \u001b[0m| 1567/2600 [00:00<00:00, 1470.29it/s]\n",
      "\u001b[36m(tune_model pid=974198)\u001b[0m 2025-02-15 17:40:00.233 | INFO     | mads_datasets.base:download_data:121 - Folder already exists at /home/sarmad/.cache/mads_datasets/gestures\u001b[32m [repeated 3x across cluster]\u001b[0m\n",
      " 69%|\u001b[38;2;30;71;6m██████▉   \u001b[0m| 1803/2600 [00:01<00:00, 1701.61it/s]\n",
      " 78%|\u001b[38;2;30;71;6m███████▊  \u001b[0m| 2029/2600 [00:01<00:00, 1853.18it/s]\n",
      "  0%|\u001b[38;2;30;71;6m          \u001b[0m| 0/2600 [00:00<?, ?it/s]\u001b[32m [repeated 5x across cluster]\u001b[0m\n",
      " 86%|\u001b[38;2;30;71;6m████████▌ \u001b[0m| 2234/2600 [00:01<00:00, 1905.55it/s]\n",
      " 96%|\u001b[38;2;30;71;6m█████████▌\u001b[0m| 2485/2600 [00:01<00:00, 2076.11it/s]\n",
      "100%|\u001b[38;2;30;71;6m██████████\u001b[0m| 2600/2600 [00:01<00:00, 1905.64it/s]\n",
      " 35%|\u001b[38;2;30;71;6m███▌      \u001b[0m| 231/651 [00:00<00:00, 2298.10it/s]\n",
      " 71%|\u001b[38;2;30;71;6m███████   \u001b[0m| 461/651 [00:00<00:00, 2018.41it/s]\n",
      "100%|\u001b[38;2;30;71;6m██████████\u001b[0m| 651/651 [00:00<00:00, 2007.26it/s]\n",
      "\u001b[33m(raylet)\u001b[0m bash: /home/sarmad/anaconda3/lib/libtinfo.so.6: no version information available (required by bash)\n",
      "\u001b[36m(tune_model pid=974057)\u001b[0m /home/sarmad/anaconda3/envs/conda_kernel/lib/python3.11/site-packages/torch/nn/modules/rnn.py:83: UserWarning: dropout option adds dropout after all but last recurrent layer, so non-zero dropout expects num_layers greater than 1, but got dropout=0.05 and num_layers=1\n",
      "\u001b[36m(tune_model pid=974057)\u001b[0m   warnings.warn(\"dropout option adds dropout after all but last \"\n",
      "  0%|\u001b[38;2;30;71;6m          \u001b[0m| 0/651 [00:00<?, ?it/s]\n",
      "\u001b[36m(tune_model pid=974312)\u001b[0m 2025-02-15 17:40:31.871 | INFO     | mads_datasets.base:download_data:121 - Folder already exists at /home/sarmad/.cache/mads_datasets/gestures\n",
      "\u001b[33m(raylet)\u001b[0m bash: /home/sarmad/anaconda3/lib/libtinfo.so.6: no version information available (required by bash)\n",
      "  0%|\u001b[38;2;30;71;6m          \u001b[0m| 0/2600 [00:00<?, ?it/s]\n",
      "  8%|\u001b[38;2;30;71;6m▊         \u001b[0m| 204/2600 [00:00<00:01, 2035.72it/s]\n",
      " 16%|\u001b[38;2;30;71;6m█▌        \u001b[0m| 408/2600 [00:00<00:01, 2004.06it/s]\n",
      " 24%|\u001b[38;2;30;71;6m██▍       \u001b[0m| 618/2600 [00:00<00:00, 2046.56it/s]\n",
      " 33%|\u001b[38;2;30;71;6m███▎      \u001b[0m| 858/2600 [00:00<00:00, 2182.45it/s]\n",
      " 43%|\u001b[38;2;30;71;6m████▎     \u001b[0m| 1115/2600 [00:00<00:00, 2321.10it/s]\n",
      " 53%|\u001b[38;2;30;71;6m█████▎    \u001b[0m| 1382/2600 [00:00<00:00, 2438.98it/s]\n",
      " 63%|\u001b[38;2;30;71;6m██████▎   \u001b[0m| 1627/2600 [00:00<00:00, 2388.45it/s]\n",
      " 73%|\u001b[38;2;30;71;6m███████▎  \u001b[0m| 1888/2600 [00:00<00:00, 2457.04it/s]\n",
      " 82%|\u001b[38;2;30;71;6m████████▏ \u001b[0m| 2135/2600 [00:00<00:00, 2402.88it/s]\n",
      " 92%|\u001b[38;2;30;71;6m█████████▏\u001b[0m| 2383/2600 [00:01<00:00, 2424.90it/s]\n",
      "100%|\u001b[38;2;30;71;6m██████████\u001b[0m| 2600/2600 [00:01<00:00, 2369.67it/s]\n",
      "  0%|\u001b[38;2;30;71;6m          \u001b[0m| 0/651 [00:00<?, ?it/s]\n",
      " 36%|\u001b[38;2;30;71;6m███▋      \u001b[0m| 236/651 [00:00<00:00, 2358.70it/s]\n",
      " 77%|\u001b[38;2;30;71;6m███████▋  \u001b[0m| 500/651 [00:00<00:00, 2517.87it/s]\n",
      "100%|\u001b[38;2;30;71;6m██████████\u001b[0m| 651/651 [00:00<00:00, 2497.73it/s]\n",
      " 16%|\u001b[38;2;30;71;6m█▌        \u001b[0m| 421/2600 [00:00<00:00, 4209.15it/s]\n",
      " 34%|\u001b[38;2;30;71;6m███▍      \u001b[0m| 880/2600 [00:00<00:00, 4430.67it/s]\n",
      " 51%|\u001b[38;2;30;71;6m█████     \u001b[0m| 1324/2600 [00:00<00:00, 4349.98it/s]\n",
      " 68%|\u001b[38;2;30;71;6m██████▊   \u001b[0m| 1760/2600 [00:00<00:00, 4043.14it/s]\n",
      " 83%|\u001b[38;2;30;71;6m████████▎ \u001b[0m| 2168/2600 [00:00<00:00, 3622.52it/s]\n",
      "100%|\u001b[38;2;30;71;6m██████████\u001b[0m| 2600/2600 [00:00<00:00, 3923.50it/s]\n",
      " 55%|\u001b[38;2;30;71;6m█████▍    \u001b[0m| 357/651 [00:00<00:00, 3560.97it/s]\n",
      "100%|\u001b[38;2;30;71;6m██████████\u001b[0m| 651/651 [00:00<00:00, 3391.07it/s]\n",
      "\u001b[36m(tune_model pid=973242)\u001b[0m *** SIGSEGV received at time=1739608924 on cpu 5 ***\n",
      "\u001b[36m(tune_model pid=973242)\u001b[0m PC: @     0x768309acfd8e  (unknown)  ray::gcs::TaskInfoAccessor::AsyncAddTaskEventData()\n",
      "\u001b[36m(tune_model pid=973242)\u001b[0m     @     0x76830ae45330       3664  (unknown)\n",
      "\u001b[36m(tune_model pid=973242)\u001b[0m     @     0x7683099b16a5       1392  ray::core::worker::TaskEventBufferImpl::FlushEvents()\n",
      "\u001b[36m(tune_model pid=973242)\u001b[0m     @     0x76830993a4ac       1488  ray::core::CoreWorker::Disconnect()\n",
      "\u001b[36m(tune_model pid=973242)\u001b[0m     @     0x76830993a85d       1152  ray::core::CoreWorker::ForceExit()\n",
      "\u001b[36m(tune_model pid=973242)\u001b[0m     @     0x76830993ac8f       1680  ray::core::CoreWorker::HandleKillActor()\n",
      "\u001b[36m(tune_model pid=973242)\u001b[0m     @     0x768309932194        192  ray::rpc::ServerCallImpl<>::HandleRequestImpl()\n",
      "\u001b[36m(tune_model pid=973242)\u001b[0m     @     0x768309c864c8       1168  EventTracker::RecordExecution()\n",
      "\u001b[36m(tune_model pid=973242)\u001b[0m     @     0x768309c8149e         48  std::_Function_handler<>::_M_invoke()\n",
      "\u001b[36m(tune_model pid=973242)\u001b[0m     @     0x768309c81916        112  boost::asio::detail::completion_handler<>::do_complete()\n",
      "\u001b[36m(tune_model pid=973242)\u001b[0m     @     0x76830a36882b        128  boost::asio::detail::scheduler::do_run_one()\n",
      "\u001b[36m(tune_model pid=973242)\u001b[0m     @     0x76830a36a1a9        288  boost::asio::detail::scheduler::run()\n",
      "\u001b[36m(tune_model pid=973242)\u001b[0m     @     0x76830a36a8b2         96  boost::asio::io_context::run()\n",
      "\u001b[36m(tune_model pid=973242)\u001b[0m     @     0x768309895491       1280  ray::core::CoreWorker::RunIOService()\n",
      "\u001b[36m(tune_model pid=973242)\u001b[0m     @     0x768309d37df0         64  thread_proxy\n",
      "\u001b[36m(tune_model pid=973242)\u001b[0m     @     0x76830ae9caa4        176  (unknown)\n",
      "\u001b[36m(tune_model pid=973242)\u001b[0m     @     0x76830af29c3c  (unknown)  (unknown)\n",
      "\u001b[36m(tune_model pid=973242)\u001b[0m [2025-02-15 17:42:04,893 E 973242 973559] logging.cc:460: *** SIGSEGV received at time=1739608924 on cpu 5 ***\n",
      "\u001b[36m(tune_model pid=973242)\u001b[0m [2025-02-15 17:42:04,893 E 973242 973559] logging.cc:460: PC: @     0x768309acfd8e  (unknown)  ray::gcs::TaskInfoAccessor::AsyncAddTaskEventData()\n",
      "\u001b[36m(tune_model pid=973242)\u001b[0m [2025-02-15 17:42:04,893 E 973242 973559] logging.cc:460:     @     0x76830ae45330       3664  (unknown)\n",
      "\u001b[36m(tune_model pid=973242)\u001b[0m [2025-02-15 17:42:04,893 E 973242 973559] logging.cc:460:     @     0x7683099b16a5       1392  ray::core::worker::TaskEventBufferImpl::FlushEvents()\n",
      "\u001b[36m(tune_model pid=973242)\u001b[0m [2025-02-15 17:42:04,893 E 973242 973559] logging.cc:460:     @     0x76830993a4ac       1488  ray::core::CoreWorker::Disconnect()\n",
      "\u001b[36m(tune_model pid=973242)\u001b[0m [2025-02-15 17:42:04,893 E 973242 973559] logging.cc:460:     @     0x76830993a85d       1152  ray::core::CoreWorker::ForceExit()\n",
      "\u001b[36m(tune_model pid=973242)\u001b[0m [2025-02-15 17:42:04,893 E 973242 973559] logging.cc:460:     @     0x76830993ac8f       1680  ray::core::CoreWorker::HandleKillActor()\n",
      "\u001b[36m(tune_model pid=973242)\u001b[0m [2025-02-15 17:42:04,893 E 973242 973559] logging.cc:460:     @     0x768309932194        192  ray::rpc::ServerCallImpl<>::HandleRequestImpl()\n",
      "\u001b[36m(tune_model pid=973242)\u001b[0m [2025-02-15 17:42:04,893 E 973242 973559] logging.cc:460:     @     0x768309c864c8       1168  EventTracker::RecordExecution()\n",
      "\u001b[36m(tune_model pid=973242)\u001b[0m [2025-02-15 17:42:04,893 E 973242 973559] logging.cc:460:     @     0x768309c8149e         48  std::_Function_handler<>::_M_invoke()\n",
      "\u001b[36m(tune_model pid=973242)\u001b[0m [2025-02-15 17:42:04,893 E 973242 973559] logging.cc:460:     @     0x768309c81916        112  boost::asio::detail::completion_handler<>::do_complete()\n",
      "\u001b[36m(tune_model pid=973242)\u001b[0m [2025-02-15 17:42:04,893 E 973242 973559] logging.cc:460:     @     0x76830a36882b        128  boost::asio::detail::scheduler::do_run_one()\n",
      "\u001b[36m(tune_model pid=973242)\u001b[0m [2025-02-15 17:42:04,893 E 973242 973559] logging.cc:460:     @     0x76830a36a1a9        288  boost::asio::detail::scheduler::run()\n",
      "\u001b[36m(tune_model pid=973242)\u001b[0m [2025-02-15 17:42:04,893 E 973242 973559] logging.cc:460:     @     0x76830a36a8b2         96  boost::asio::io_context::run()\n",
      "\u001b[36m(tune_model pid=973242)\u001b[0m [2025-02-15 17:42:04,893 E 973242 973559] logging.cc:460:     @     0x768309895491       1280  ray::core::CoreWorker::RunIOService()\n",
      "\u001b[36m(tune_model pid=973242)\u001b[0m [2025-02-15 17:42:04,893 E 973242 973559] logging.cc:460:     @     0x768309d37df0         64  thread_proxy\n",
      "\u001b[36m(tune_model pid=973242)\u001b[0m [2025-02-15 17:42:04,893 E 973242 973559] logging.cc:460:     @     0x76830ae9caa4        176  (unknown)\n",
      "\u001b[36m(tune_model pid=973242)\u001b[0m [2025-02-15 17:42:04,893 E 973242 973559] logging.cc:460:     @     0x76830af29c3c  (unknown)  (unknown)\n",
      "\u001b[36m(tune_model pid=973242)\u001b[0m Fatal Python error: Segmentation fault\n",
      "\u001b[36m(tune_model pid=973242)\u001b[0m \n",
      "\u001b[36m(tune_model pid=973242)\u001b[0m \n",
      "\u001b[36m(tune_model pid=973242)\u001b[0m Extension modules: msgpack._cmsgpack, google._upb._message, psutil._psutil_linux, psutil._psutil_posix, setproctitle, yaml._yaml, charset_normalizer.md, requests.packages.charset_normalizer.md, requests.packages.chardet.md, ray._raylet, numpy._core._multiarray_umath, numpy.linalg._umath_linalg, pyarrow.lib, numpy.random._common, numpy.random.bit_generator, numpy.random._bounded_integers, numpy.random._mt19937, numpy.random.mtrand, numpy.random._philox, numpy.random._pcg64, numpy.random._sfc64, numpy.random._generator, pandas._libs.tslibs.ccalendar, pandas._libs.tslibs.np_datetime, pandas._libs.tslibs.dtypes, pandas._libs.tslibs.base, pandas._libs.tslibs.nattype, pandas._libs.tslibs.timezones, pandas._libs.tslibs.fields, pandas._libs.tslibs.timedeltas, pandas._libs.tslibs.tzconversion, pandas._libs.tslibs.timestamps, pandas._libs.properties, pandas._libs.tslibs.offsets, pandas._libs.tslibs.strptime, pandas._libs.tslibs.parsing, pandas._libs.tslibs.conversion, pandas._libs.tslibs.period, pandas._libs.tslibs.vectorized, pandas._libs.ops_dispatch, pandas._libs.missing, pandas._libs.hashtable, pandas._libs.algos, pandas._libs.interval, pandas._libs.lib, pyarrow._compute, pandas._libs.ops, pandas._libs.hashing, pandas._libs.arrays, pandas._libs.tslib, pandas._libs.sparse, pandas._libs.internals, pandas._libs.indexing, pandas._libs.index, pandas._libs.writers, pandas._libs.join, pandas._libs.window.aggregations, pandas._libs.window.indexers, pandas._libs.reshape, pandas._libs.groupby, pandas._libs.json, pandas._libs.parsers, pandas._libs.testing, pyarrow._fs, pyarrow._azurefs, pyarrow._hdfs, pyarrow._gcsfs, pyarrow._s3fs, pyarrow._parquet, torch._C, torch._C._fft, torch._C._linalg, torch._C._nested, torch._C._nn, torch._C._sparse, torch._C._special, pyarrow._json, _cffi_backend, scipy._lib._ccallback_c, scipy.sparse._sparsetools, _csparsetools, scipy.sparse._csparsetools, scipy.linalg._fblas, scipy.linalg._flapack, scipy.linalg.cython_lapack, scipy.linalg._cythonized_array_utils, scipy.linalg._solve_toeplitz, scipy.linalg._decomp_lu_cython, scipy.linalg._matfuncs_sqrtm_triu, scipy.linalg._matfuncs_expm, scipy.linalg._linalg_pythran, scipy.linalg.cython_blas, scipy.linalg._decomp_update, scipy.sparse.linalg._dsolve._superlu, scipy.sparse.linalg._eigen.arpack._arpack, scipy.sparse.linalg._propack._spropack, scipy.sparse.linalg._propack._dpropack, scipy.sparse.linalg._propack._cpropack, scipy.sparse.linalg._propack._zpropack, scipy.sparse.csgraph._tools, scipy.sparse.csgraph._shortest_path, scipy.sparse.csgraph._traversal, scipy.sparse.csgraph._min_spanning_tree, scipy.sparse.csgraph._flow, scipy.sparse.csgraph._matching, scipy.sparse.csgraph._reordering, PIL._imaging (total: 107)\n",
      "\u001b[36m(tune_model pid=974364)\u001b[0m 2025-02-15 17:40:33.841 | INFO     | mads_datasets.base:download_data:121 - Folder already exists at /home/sarmad/.cache/mads_datasets/gestures\n",
      "  0%|\u001b[38;2;30;71;6m          \u001b[0m| 0/651 [00:00<?, ?it/s]\u001b[32m [repeated 2x across cluster]\u001b[0m\n",
      "\u001b[36m(tune_model pid=973238)\u001b[0m \n",
      "\u001b[36m(tune_model pid=973238)\u001b[0m \n",
      "\u001b[36m(tune_model pid=973238)\u001b[0m *** SIGSEGV received at time=1739608937 on cpu 0 ***\n",
      "\u001b[36m(tune_model pid=973238)\u001b[0m PC: @     0x75b1e08cfd8e  (unknown)  ray::gcs::TaskInfoAccessor::AsyncAddTaskEventData()\n",
      "\u001b[36m(tune_model pid=973238)\u001b[0m     @     0x75b1e1e9caa4        176  (unknown)\u001b[32m [repeated 2x across cluster]\u001b[0m\n",
      "\u001b[36m(tune_model pid=973238)\u001b[0m     @     0x75b1e07b16a5       1392  ray::core::worker::TaskEventBufferImpl::FlushEvents()\n",
      "\u001b[36m(tune_model pid=973238)\u001b[0m     @     0x75b1e073a4ac       1488  ray::core::CoreWorker::Disconnect()\n",
      "\u001b[36m(tune_model pid=973238)\u001b[0m     @     0x75b1e073a85d       1152  ray::core::CoreWorker::ForceExit()\n",
      "\u001b[36m(tune_model pid=973238)\u001b[0m     @     0x75b1e073ac8f       1680  ray::core::CoreWorker::HandleKillActor()\n",
      "\u001b[36m(tune_model pid=973238)\u001b[0m     @     0x75b1e0732194        192  ray::rpc::ServerCallImpl<>::HandleRequestImpl()\n",
      "\u001b[36m(tune_model pid=973238)\u001b[0m     @     0x75b1e0a864c8       1168  EventTracker::RecordExecution()\n",
      "\u001b[36m(tune_model pid=973238)\u001b[0m     @     0x75b1e0a8149e         48  std::_Function_handler<>::_M_invoke()\n",
      "\u001b[36m(tune_model pid=973238)\u001b[0m     @     0x75b1e0a81916        112  boost::asio::detail::completion_handler<>::do_complete()\n",
      "\u001b[36m(tune_model pid=973238)\u001b[0m     @     0x75b1e116882b        128  boost::asio::detail::scheduler::do_run_one()\n",
      "\u001b[36m(tune_model pid=973238)\u001b[0m     @     0x75b1e116a1a9        288  boost::asio::detail::scheduler::run()\n",
      "\u001b[36m(tune_model pid=973238)\u001b[0m     @     0x75b1e116a8b2         96  boost::asio::io_context::run()\n",
      "\u001b[36m(tune_model pid=973238)\u001b[0m     @     0x75b1e0695491       1280  ray::core::CoreWorker::RunIOService()\n",
      "\u001b[36m(tune_model pid=973238)\u001b[0m     @     0x75b1e0b37df0         64  thread_proxy\n",
      "\u001b[36m(tune_model pid=973238)\u001b[0m     @     0x75b1e1f29c3c  (unknown)  (unknown)\n",
      "\u001b[36m(tune_model pid=973238)\u001b[0m [2025-02-15 17:42:17,340 E 973238 973344] logging.cc:460: *** SIGSEGV received at time=1739608937 on cpu 0 ***\n",
      "\u001b[36m(tune_model pid=973238)\u001b[0m [2025-02-15 17:42:17,340 E 973238 973344] logging.cc:460: PC: @     0x75b1e08cfd8e  (unknown)  ray::gcs::TaskInfoAccessor::AsyncAddTaskEventData()\n",
      "\u001b[36m(tune_model pid=973238)\u001b[0m [2025-02-15 17:42:17,340 E 973238 973344] logging.cc:460:     @     0x75b1e1e9caa4        176  (unknown)\u001b[32m [repeated 2x across cluster]\u001b[0m\n",
      "\u001b[36m(tune_model pid=973238)\u001b[0m [2025-02-15 17:42:17,340 E 973238 973344] logging.cc:460:     @     0x75b1e07b16a5       1392  ray::core::worker::TaskEventBufferImpl::FlushEvents()\n",
      "\u001b[36m(tune_model pid=973238)\u001b[0m [2025-02-15 17:42:17,340 E 973238 973344] logging.cc:460:     @     0x75b1e073a4ac       1488  ray::core::CoreWorker::Disconnect()\n",
      "\u001b[36m(tune_model pid=973238)\u001b[0m [2025-02-15 17:42:17,340 E 973238 973344] logging.cc:460:     @     0x75b1e073a85d       1152  ray::core::CoreWorker::ForceExit()\n",
      "\u001b[36m(tune_model pid=973238)\u001b[0m [2025-02-15 17:42:17,340 E 973238 973344] logging.cc:460:     @     0x75b1e073ac8f       1680  ray::core::CoreWorker::HandleKillActor()\n",
      "\u001b[36m(tune_model pid=973238)\u001b[0m [2025-02-15 17:42:17,340 E 973238 973344] logging.cc:460:     @     0x75b1e0732194        192  ray::rpc::ServerCallImpl<>::HandleRequestImpl()\n",
      "\u001b[36m(tune_model pid=973238)\u001b[0m [2025-02-15 17:42:17,340 E 973238 973344] logging.cc:460:     @     0x75b1e0a864c8       1168  EventTracker::RecordExecution()\n",
      "\u001b[36m(tune_model pid=973238)\u001b[0m [2025-02-15 17:42:17,340 E 973238 973344] logging.cc:460:     @     0x75b1e0a8149e         48  std::_Function_handler<>::_M_invoke()\n",
      "\u001b[36m(tune_model pid=973238)\u001b[0m [2025-02-15 17:42:17,340 E 973238 973344] logging.cc:460:     @     0x75b1e0a81916        112  boost::asio::detail::completion_handler<>::do_complete()\n",
      "\u001b[36m(tune_model pid=973238)\u001b[0m [2025-02-15 17:42:17,340 E 973238 973344] logging.cc:460:     @     0x75b1e116882b        128  boost::asio::detail::scheduler::do_run_one()\n",
      "\u001b[36m(tune_model pid=973238)\u001b[0m [2025-02-15 17:42:17,340 E 973238 973344] logging.cc:460:     @     0x75b1e116a1a9        288  boost::asio::detail::scheduler::run()\n",
      "\u001b[36m(tune_model pid=973238)\u001b[0m [2025-02-15 17:42:17,340 E 973238 973344] logging.cc:460:     @     0x75b1e116a8b2         96  boost::asio::io_context::run()\n",
      "\u001b[36m(tune_model pid=973238)\u001b[0m [2025-02-15 17:42:17,340 E 973238 973344] logging.cc:460:     @     0x75b1e0695491       1280  ray::core::CoreWorker::RunIOService()\n",
      "\u001b[36m(tune_model pid=973238)\u001b[0m [2025-02-15 17:42:17,340 E 973238 973344] logging.cc:460:     @     0x75b1e0b37df0         64  thread_proxy\n",
      "\u001b[36m(tune_model pid=973238)\u001b[0m [2025-02-15 17:42:17,340 E 973238 973344] logging.cc:460:     @     0x75b1e1f29c3c  (unknown)  (unknown)\n",
      "\u001b[36m(tune_model pid=973238)\u001b[0m Fatal Python error: Segmentation fault\n",
      "\u001b[36m(tune_model pid=973238)\u001b[0m Extension modules: msgpack._cmsgpack, google._upb._message, psutil._psutil_linux, psutil._psutil_posix, setproctitle, yaml._yaml, charset_normalizer.md, requests.packages.charset_normalizer.md, requests.packages.chardet.md, ray._raylet, numpy._core._multiarray_umath, numpy.linalg._umath_linalg, pyarrow.lib, numpy.random._common, numpy.random.bit_generator, numpy.random._bounded_integers, numpy.random._mt19937, numpy.random.mtrand, numpy.random._philox, numpy.random._pcg64, numpy.random._sfc64, numpy.random._generator, pandas._libs.tslibs.ccalendar, pandas._libs.tslibs.np_datetime, pandas._libs.tslibs.dtypes, pandas._libs.tslibs.base, pandas._libs.tslibs.nattype, pandas._libs.tslibs.timezones, pandas._libs.tslibs.fields, pandas._libs.tslibs.timedeltas, pandas._libs.tslibs.tzconversion, pandas._libs.tslibs.timestamps, pandas._libs.properties, pandas._libs.tslibs.offsets, pandas._libs.tslibs.strptime, pandas._libs.tslibs.parsing, pandas._libs.tslibs.conversion, pandas._libs.tslibs.period, pandas._libs.tslibs.vectorized, pandas._libs.ops_dispatch, pandas._libs.missing, pandas._libs.hashtable, pandas._libs.algos, pandas._libs.interval, pandas._libs.lib, pyarrow._compute, pandas._libs.ops, pandas._libs.hashing, pandas._libs.arrays, pandas._libs.tslib, pandas._libs.sparse, pandas._libs.internals, pandas._libs.indexing, pandas._libs.index, pandas._libs.writers, pandas._libs.join, pandas._libs.window.aggregations, pandas._libs.window.indexers, pandas._libs.reshape, pandas._libs.groupby, pandas._libs.json, pandas._libs.parsers, pandas._libs.testing, pyarrow._fs, pyarrow._azurefs, pyarrow._hdfs, pyarrow._gcsfs, pyarrow._s3fs, pyarrow._parquet, torch._C, torch._C._fft, torch._C._linalg, torch._C._nested, torch._C._nn, torch._C._sparse, torch._C._special, pyarrow._json, _cffi_backend, scipy._lib._ccallback_c, scipy.sparse._sparsetools, _csparsetools, scipy.sparse._csparsetools, scipy.linalg._fblas, scipy.linalg._flapack, scipy.linalg.cython_lapack, scipy.linalg._cythonized_array_utils, scipy.linalg._solve_toeplitz, scipy.linalg._decomp_lu_cython, scipy.linalg._matfuncs_sqrtm_triu, scipy.linalg._matfuncs_expm, scipy.linalg._linalg_pythran, scipy.linalg.cython_blas, scipy.linalg._decomp_update, scipy.sparse.linalg._dsolve._superlu, scipy.sparse.linalg._eigen.arpack._arpack, scipy.sparse.linalg._propack._spropack, scipy.sparse.linalg._propack._dpropack, scipy.sparse.linalg._propack._cpropack, scipy.sparse.linalg._propack._zpropack, scipy.sparse.csgraph._tools, scipy.sparse.csgraph._shortest_path, scipy.sparse.csgraph._traversal, scipy.sparse.csgraph._min_spanning_tree, scipy.sparse.csgraph._flow, scipy.sparse.csgraph._matching, scipy.sparse.csgraph._reordering, PIL._imaging (total: 107)\n",
      "2025-02-15 17:44:40,145\tINFO tune.py:1009 -- Wrote the latest version of all result files and experiment state to '/home/sarmad/Documents/code/upperkaam/notebooks_review/Deliverable_Part_1/notebooks/4_tuning_networks/models/ray/tune_model_2025-02-15_17-38-14' in 0.0036s.\n",
      "2025-02-15 17:44:40,150\tINFO tune.py:1041 -- Total run time: 385.95 seconds (385.91 seconds for the tuning loop).\n"
     ]
    }
   ],
   "source": [
    "tic = time.time()\n",
    "analysis = tune.run(\n",
    "    tune_model,\n",
    "    config=config,\n",
    "    metric=\"valid_loss\",\n",
    "    mode=\"min\",\n",
    "    storage_path=str(tune_dir),      # edit from 'local_dir' to 'storrage_path'\n",
    "    num_samples=N_EXPERIMENTS,\n",
    "    stop={\"training_iteration\": MAX_EPOCHS},\n",
    "    verbose=1,\n",
    "    max_concurrent_trials=8,    # edit To reduce the OEM error\n",
    ")\n",
    "\n",
    "timer[\"ray_random\"] = time.time() - tic\n"
   ]
  },
  {
   "cell_type": "code",
   "execution_count": 12,
   "metadata": {},
   "outputs": [],
   "source": [
    "def plot_contour(df, x, y, z, start=0.90, end=1.0, size=0.01):\n",
    "    fig = go.Figure()\n",
    "\n",
    "    fig.add_trace(\n",
    "        go.Contour(\n",
    "            z=df[z],\n",
    "            x=df[x],\n",
    "            y=df[y],\n",
    "            contours=dict(\n",
    "                coloring='heatmap',\n",
    "                showlabels=True,  # show labels on contours\n",
    "                start=start,       # start of the contour range\n",
    "                end=end,          # end of the contour range\n",
    "                size=size,\n",
    "            ),\n",
    "            colorscale=\"plasma\",\n",
    "            colorbar=dict(\n",
    "                title='Accuracy'\n",
    "            )\n",
    "        )\n",
    "    )\n",
    "\n",
    "    fig.add_trace(\n",
    "        go.Scatter(\n",
    "            x=df[x],\n",
    "            y=df[y],\n",
    "            mode='markers',\n",
    "            marker=dict(\n",
    "                color='black',\n",
    "                size=8,\n",
    "                symbol='circle'\n",
    "            ),\n",
    "            customdata=df['accuracy'],  # Pass accuracy values for hover text\n",
    "            hovertemplate=(\n",
    "                'Hidden Size: %{x}<br>'\n",
    "                'Number of Layers: %{y}<br>'\n",
    "                'Accuracy: %{customdata:.4f}<extra></extra>'\n",
    "            ),\n",
    "            name='Data Points'\n",
    "        )\n",
    "    )\n",
    "\n",
    "    fig.update_layout(\n",
    "        title=\"Contour Plot\",\n",
    "        xaxis_title=\"Hidden Size\",\n",
    "        yaxis_title=\"Number of Layers\",\n",
    "        xaxis=dict(showgrid=False),  # Remove x-axis grid lines\n",
    "        yaxis=dict(showgrid=False),\n",
    "        plot_bgcolor='white',        # Set background color to white\n",
    "        paper_bgcolor='white'\n",
    "    )\n",
    "\n",
    "    fig.show()\n",
    "    # plt.show()"
   ]
  },
  {
   "cell_type": "code",
   "execution_count": 13,
   "metadata": {},
   "outputs": [],
   "source": [
    "all_results = analysis.results_df"
   ]
  },
  {
   "cell_type": "code",
   "execution_count": 14,
   "metadata": {},
   "outputs": [
    {
     "data": {
      "application/vnd.plotly.v1+json": {
       "config": {
        "plotlyServerURL": "https://plot.ly"
       },
       "data": [
        {
         "colorbar": {
          "title": {
           "text": "Accuracy"
          }
         },
         "colorscale": [
          [
           0,
           "#0d0887"
          ],
          [
           0.1111111111111111,
           "#46039f"
          ],
          [
           0.2222222222222222,
           "#7201a8"
          ],
          [
           0.3333333333333333,
           "#9c179e"
          ],
          [
           0.4444444444444444,
           "#bd3786"
          ],
          [
           0.5555555555555556,
           "#d8576b"
          ],
          [
           0.6666666666666666,
           "#ed7953"
          ],
          [
           0.7777777777777778,
           "#fb9f3a"
          ],
          [
           0.8888888888888888,
           "#fdca26"
          ],
          [
           1,
           "#f0f921"
          ]
         ],
         "contours": {
          "coloring": "heatmap",
          "end": 1,
          "showlabels": true,
          "size": 0.01,
          "start": 0.9
         },
         "type": "contour",
         "x": {
          "bdata": "eAEEATIAtQAqAOsAmQHmAVsA5gC7AHgBGwHuAFgBKgDFAdAB",
          "dtype": "i2"
         },
         "y": {
          "bdata": "AQcEAwMDAwEGAgQEAQECAwUC",
          "dtype": "i1"
         },
         "z": [
          0.9671875238418579,
          0.6890624761581421,
          0.5531250238418579,
          0.9609375,
          0.4468750059604645,
          0.9671875238418579,
          0.981249988079071,
          0.987500011920929,
          0.41718751192092896,
          0.957812488079071,
          0.949999988079071,
          0.9828125238418579,
          0.964062511920929,
          0.9140625,
          0.9546874761581421,
          0.453125,
          0.948437511920929,
          0.981249988079071
         ]
        },
        {
         "customdata": [
          0.9671875238418579,
          0.6890624761581421,
          0.5531250238418579,
          0.9609375,
          0.4468750059604645,
          0.9671875238418579,
          0.981249988079071,
          0.987500011920929,
          0.41718751192092896,
          0.957812488079071,
          0.949999988079071,
          0.9828125238418579,
          0.964062511920929,
          0.9140625,
          0.9546874761581421,
          0.453125,
          0.948437511920929,
          0.981249988079071
         ],
         "hovertemplate": "Hidden Size: %{x}<br>Number of Layers: %{y}<br>Accuracy: %{customdata:.4f}<extra></extra>",
         "marker": {
          "color": "black",
          "size": 8,
          "symbol": "circle"
         },
         "mode": "markers",
         "name": "Data Points",
         "type": "scatter",
         "x": {
          "bdata": "eAEEATIAtQAqAOsAmQHmAVsA5gC7AHgBGwHuAFgBKgDFAdAB",
          "dtype": "i2"
         },
         "y": {
          "bdata": "AQcEAwMDAwEGAgQEAQECAwUC",
          "dtype": "i1"
         }
        }
       ],
       "layout": {
        "paper_bgcolor": "white",
        "plot_bgcolor": "white",
        "template": {
         "data": {
          "bar": [
           {
            "error_x": {
             "color": "#2a3f5f"
            },
            "error_y": {
             "color": "#2a3f5f"
            },
            "marker": {
             "line": {
              "color": "#E5ECF6",
              "width": 0.5
             },
             "pattern": {
              "fillmode": "overlay",
              "size": 10,
              "solidity": 0.2
             }
            },
            "type": "bar"
           }
          ],
          "barpolar": [
           {
            "marker": {
             "line": {
              "color": "#E5ECF6",
              "width": 0.5
             },
             "pattern": {
              "fillmode": "overlay",
              "size": 10,
              "solidity": 0.2
             }
            },
            "type": "barpolar"
           }
          ],
          "carpet": [
           {
            "aaxis": {
             "endlinecolor": "#2a3f5f",
             "gridcolor": "white",
             "linecolor": "white",
             "minorgridcolor": "white",
             "startlinecolor": "#2a3f5f"
            },
            "baxis": {
             "endlinecolor": "#2a3f5f",
             "gridcolor": "white",
             "linecolor": "white",
             "minorgridcolor": "white",
             "startlinecolor": "#2a3f5f"
            },
            "type": "carpet"
           }
          ],
          "choropleth": [
           {
            "colorbar": {
             "outlinewidth": 0,
             "ticks": ""
            },
            "type": "choropleth"
           }
          ],
          "contour": [
           {
            "colorbar": {
             "outlinewidth": 0,
             "ticks": ""
            },
            "colorscale": [
             [
              0,
              "#0d0887"
             ],
             [
              0.1111111111111111,
              "#46039f"
             ],
             [
              0.2222222222222222,
              "#7201a8"
             ],
             [
              0.3333333333333333,
              "#9c179e"
             ],
             [
              0.4444444444444444,
              "#bd3786"
             ],
             [
              0.5555555555555556,
              "#d8576b"
             ],
             [
              0.6666666666666666,
              "#ed7953"
             ],
             [
              0.7777777777777778,
              "#fb9f3a"
             ],
             [
              0.8888888888888888,
              "#fdca26"
             ],
             [
              1,
              "#f0f921"
             ]
            ],
            "type": "contour"
           }
          ],
          "contourcarpet": [
           {
            "colorbar": {
             "outlinewidth": 0,
             "ticks": ""
            },
            "type": "contourcarpet"
           }
          ],
          "heatmap": [
           {
            "colorbar": {
             "outlinewidth": 0,
             "ticks": ""
            },
            "colorscale": [
             [
              0,
              "#0d0887"
             ],
             [
              0.1111111111111111,
              "#46039f"
             ],
             [
              0.2222222222222222,
              "#7201a8"
             ],
             [
              0.3333333333333333,
              "#9c179e"
             ],
             [
              0.4444444444444444,
              "#bd3786"
             ],
             [
              0.5555555555555556,
              "#d8576b"
             ],
             [
              0.6666666666666666,
              "#ed7953"
             ],
             [
              0.7777777777777778,
              "#fb9f3a"
             ],
             [
              0.8888888888888888,
              "#fdca26"
             ],
             [
              1,
              "#f0f921"
             ]
            ],
            "type": "heatmap"
           }
          ],
          "histogram": [
           {
            "marker": {
             "pattern": {
              "fillmode": "overlay",
              "size": 10,
              "solidity": 0.2
             }
            },
            "type": "histogram"
           }
          ],
          "histogram2d": [
           {
            "colorbar": {
             "outlinewidth": 0,
             "ticks": ""
            },
            "colorscale": [
             [
              0,
              "#0d0887"
             ],
             [
              0.1111111111111111,
              "#46039f"
             ],
             [
              0.2222222222222222,
              "#7201a8"
             ],
             [
              0.3333333333333333,
              "#9c179e"
             ],
             [
              0.4444444444444444,
              "#bd3786"
             ],
             [
              0.5555555555555556,
              "#d8576b"
             ],
             [
              0.6666666666666666,
              "#ed7953"
             ],
             [
              0.7777777777777778,
              "#fb9f3a"
             ],
             [
              0.8888888888888888,
              "#fdca26"
             ],
             [
              1,
              "#f0f921"
             ]
            ],
            "type": "histogram2d"
           }
          ],
          "histogram2dcontour": [
           {
            "colorbar": {
             "outlinewidth": 0,
             "ticks": ""
            },
            "colorscale": [
             [
              0,
              "#0d0887"
             ],
             [
              0.1111111111111111,
              "#46039f"
             ],
             [
              0.2222222222222222,
              "#7201a8"
             ],
             [
              0.3333333333333333,
              "#9c179e"
             ],
             [
              0.4444444444444444,
              "#bd3786"
             ],
             [
              0.5555555555555556,
              "#d8576b"
             ],
             [
              0.6666666666666666,
              "#ed7953"
             ],
             [
              0.7777777777777778,
              "#fb9f3a"
             ],
             [
              0.8888888888888888,
              "#fdca26"
             ],
             [
              1,
              "#f0f921"
             ]
            ],
            "type": "histogram2dcontour"
           }
          ],
          "mesh3d": [
           {
            "colorbar": {
             "outlinewidth": 0,
             "ticks": ""
            },
            "type": "mesh3d"
           }
          ],
          "parcoords": [
           {
            "line": {
             "colorbar": {
              "outlinewidth": 0,
              "ticks": ""
             }
            },
            "type": "parcoords"
           }
          ],
          "pie": [
           {
            "automargin": true,
            "type": "pie"
           }
          ],
          "scatter": [
           {
            "fillpattern": {
             "fillmode": "overlay",
             "size": 10,
             "solidity": 0.2
            },
            "type": "scatter"
           }
          ],
          "scatter3d": [
           {
            "line": {
             "colorbar": {
              "outlinewidth": 0,
              "ticks": ""
             }
            },
            "marker": {
             "colorbar": {
              "outlinewidth": 0,
              "ticks": ""
             }
            },
            "type": "scatter3d"
           }
          ],
          "scattercarpet": [
           {
            "marker": {
             "colorbar": {
              "outlinewidth": 0,
              "ticks": ""
             }
            },
            "type": "scattercarpet"
           }
          ],
          "scattergeo": [
           {
            "marker": {
             "colorbar": {
              "outlinewidth": 0,
              "ticks": ""
             }
            },
            "type": "scattergeo"
           }
          ],
          "scattergl": [
           {
            "marker": {
             "colorbar": {
              "outlinewidth": 0,
              "ticks": ""
             }
            },
            "type": "scattergl"
           }
          ],
          "scattermap": [
           {
            "marker": {
             "colorbar": {
              "outlinewidth": 0,
              "ticks": ""
             }
            },
            "type": "scattermap"
           }
          ],
          "scattermapbox": [
           {
            "marker": {
             "colorbar": {
              "outlinewidth": 0,
              "ticks": ""
             }
            },
            "type": "scattermapbox"
           }
          ],
          "scatterpolar": [
           {
            "marker": {
             "colorbar": {
              "outlinewidth": 0,
              "ticks": ""
             }
            },
            "type": "scatterpolar"
           }
          ],
          "scatterpolargl": [
           {
            "marker": {
             "colorbar": {
              "outlinewidth": 0,
              "ticks": ""
             }
            },
            "type": "scatterpolargl"
           }
          ],
          "scatterternary": [
           {
            "marker": {
             "colorbar": {
              "outlinewidth": 0,
              "ticks": ""
             }
            },
            "type": "scatterternary"
           }
          ],
          "surface": [
           {
            "colorbar": {
             "outlinewidth": 0,
             "ticks": ""
            },
            "colorscale": [
             [
              0,
              "#0d0887"
             ],
             [
              0.1111111111111111,
              "#46039f"
             ],
             [
              0.2222222222222222,
              "#7201a8"
             ],
             [
              0.3333333333333333,
              "#9c179e"
             ],
             [
              0.4444444444444444,
              "#bd3786"
             ],
             [
              0.5555555555555556,
              "#d8576b"
             ],
             [
              0.6666666666666666,
              "#ed7953"
             ],
             [
              0.7777777777777778,
              "#fb9f3a"
             ],
             [
              0.8888888888888888,
              "#fdca26"
             ],
             [
              1,
              "#f0f921"
             ]
            ],
            "type": "surface"
           }
          ],
          "table": [
           {
            "cells": {
             "fill": {
              "color": "#EBF0F8"
             },
             "line": {
              "color": "white"
             }
            },
            "header": {
             "fill": {
              "color": "#C8D4E3"
             },
             "line": {
              "color": "white"
             }
            },
            "type": "table"
           }
          ]
         },
         "layout": {
          "annotationdefaults": {
           "arrowcolor": "#2a3f5f",
           "arrowhead": 0,
           "arrowwidth": 1
          },
          "autotypenumbers": "strict",
          "coloraxis": {
           "colorbar": {
            "outlinewidth": 0,
            "ticks": ""
           }
          },
          "colorscale": {
           "diverging": [
            [
             0,
             "#8e0152"
            ],
            [
             0.1,
             "#c51b7d"
            ],
            [
             0.2,
             "#de77ae"
            ],
            [
             0.3,
             "#f1b6da"
            ],
            [
             0.4,
             "#fde0ef"
            ],
            [
             0.5,
             "#f7f7f7"
            ],
            [
             0.6,
             "#e6f5d0"
            ],
            [
             0.7,
             "#b8e186"
            ],
            [
             0.8,
             "#7fbc41"
            ],
            [
             0.9,
             "#4d9221"
            ],
            [
             1,
             "#276419"
            ]
           ],
           "sequential": [
            [
             0,
             "#0d0887"
            ],
            [
             0.1111111111111111,
             "#46039f"
            ],
            [
             0.2222222222222222,
             "#7201a8"
            ],
            [
             0.3333333333333333,
             "#9c179e"
            ],
            [
             0.4444444444444444,
             "#bd3786"
            ],
            [
             0.5555555555555556,
             "#d8576b"
            ],
            [
             0.6666666666666666,
             "#ed7953"
            ],
            [
             0.7777777777777778,
             "#fb9f3a"
            ],
            [
             0.8888888888888888,
             "#fdca26"
            ],
            [
             1,
             "#f0f921"
            ]
           ],
           "sequentialminus": [
            [
             0,
             "#0d0887"
            ],
            [
             0.1111111111111111,
             "#46039f"
            ],
            [
             0.2222222222222222,
             "#7201a8"
            ],
            [
             0.3333333333333333,
             "#9c179e"
            ],
            [
             0.4444444444444444,
             "#bd3786"
            ],
            [
             0.5555555555555556,
             "#d8576b"
            ],
            [
             0.6666666666666666,
             "#ed7953"
            ],
            [
             0.7777777777777778,
             "#fb9f3a"
            ],
            [
             0.8888888888888888,
             "#fdca26"
            ],
            [
             1,
             "#f0f921"
            ]
           ]
          },
          "colorway": [
           "#636efa",
           "#EF553B",
           "#00cc96",
           "#ab63fa",
           "#FFA15A",
           "#19d3f3",
           "#FF6692",
           "#B6E880",
           "#FF97FF",
           "#FECB52"
          ],
          "font": {
           "color": "#2a3f5f"
          },
          "geo": {
           "bgcolor": "white",
           "lakecolor": "white",
           "landcolor": "#E5ECF6",
           "showlakes": true,
           "showland": true,
           "subunitcolor": "white"
          },
          "hoverlabel": {
           "align": "left"
          },
          "hovermode": "closest",
          "mapbox": {
           "style": "light"
          },
          "paper_bgcolor": "white",
          "plot_bgcolor": "#E5ECF6",
          "polar": {
           "angularaxis": {
            "gridcolor": "white",
            "linecolor": "white",
            "ticks": ""
           },
           "bgcolor": "#E5ECF6",
           "radialaxis": {
            "gridcolor": "white",
            "linecolor": "white",
            "ticks": ""
           }
          },
          "scene": {
           "xaxis": {
            "backgroundcolor": "#E5ECF6",
            "gridcolor": "white",
            "gridwidth": 2,
            "linecolor": "white",
            "showbackground": true,
            "ticks": "",
            "zerolinecolor": "white"
           },
           "yaxis": {
            "backgroundcolor": "#E5ECF6",
            "gridcolor": "white",
            "gridwidth": 2,
            "linecolor": "white",
            "showbackground": true,
            "ticks": "",
            "zerolinecolor": "white"
           },
           "zaxis": {
            "backgroundcolor": "#E5ECF6",
            "gridcolor": "white",
            "gridwidth": 2,
            "linecolor": "white",
            "showbackground": true,
            "ticks": "",
            "zerolinecolor": "white"
           }
          },
          "shapedefaults": {
           "line": {
            "color": "#2a3f5f"
           }
          },
          "ternary": {
           "aaxis": {
            "gridcolor": "white",
            "linecolor": "white",
            "ticks": ""
           },
           "baxis": {
            "gridcolor": "white",
            "linecolor": "white",
            "ticks": ""
           },
           "bgcolor": "#E5ECF6",
           "caxis": {
            "gridcolor": "white",
            "linecolor": "white",
            "ticks": ""
           }
          },
          "title": {
           "x": 0.05
          },
          "xaxis": {
           "automargin": true,
           "gridcolor": "white",
           "linecolor": "white",
           "ticks": "",
           "title": {
            "standoff": 15
           },
           "zerolinecolor": "white",
           "zerolinewidth": 2
          },
          "yaxis": {
           "automargin": true,
           "gridcolor": "white",
           "linecolor": "white",
           "ticks": "",
           "title": {
            "standoff": 15
           },
           "zerolinecolor": "white",
           "zerolinewidth": 2
          }
         }
        },
        "title": {
         "text": "Contour Plot"
        },
        "xaxis": {
         "showgrid": false,
         "title": {
          "text": "Hidden Size"
         }
        },
        "yaxis": {
         "showgrid": false,
         "title": {
          "text": "Number of Layers"
         }
        }
       }
      }
     },
     "metadata": {},
     "output_type": "display_data"
    }
   ],
   "source": [
    "random = analysis.results_df\n",
    "plot_contour(random, \"config/hidden_size\", \"config/num_layers\", \"accuracy\")"
   ]
  },
  {
   "cell_type": "markdown",
   "metadata": {},
   "source": [
    "As you can see, the search space is sort of randomly sampled.\n",
    "Even though big parts are unexplored, it still looks like we find some hotspots."
   ]
  },
  {
   "cell_type": "code",
   "execution_count": 15,
   "metadata": {},
   "outputs": [],
   "source": [
    "best = analysis.get_best_config()\n",
    "best[\"accuracy\"] = analysis.best_result[\"accuracy\"]\n",
    "best_config[\"random\"] = best"
   ]
  },
  {
   "cell_type": "markdown",
   "metadata": {},
   "source": [
    "So, we searched the hyperparameter space. Problem is, these spaces potentially can get\n",
    "pretty big. Let's imagine you have 10 hyperparameters, and every hyperparameter has 5\n",
    "possible (relevant) values, you already have $5^{10}$ possible combinations, which is almost 10 million. Even if checking of every configuration would take just 1 second, it would take more than a 100 days to check them all...This\n",
    "space can grow out of control pretty fast.\n",
    "\n",
    "Lets look at the best results we found."
   ]
  },
  {
   "cell_type": "code",
   "execution_count": 16,
   "metadata": {},
   "outputs": [
    {
     "data": {
      "text/plain": [
       "{'input_size': 3,\n",
       " 'output_size': 20,\n",
       " 'dropout': 0.05,\n",
       " 'epochs': 5,\n",
       " 'hidden_size': 486,\n",
       " 'num_layers': 1,\n",
       " 'tune_dir': PosixPath('/home/sarmad/Documents/code/upperkaam/notebooks_review/Deliverable_Part_1/notebooks/4_tuning_networks/models/ray'),\n",
       " 'accuracy': array(0.9875, dtype=float32)}"
      ]
     },
     "execution_count": 16,
     "metadata": {},
     "output_type": "execute_result"
    }
   ],
   "source": [
    "best"
   ]
  },
  {
   "cell_type": "code",
   "execution_count": 17,
   "metadata": {},
   "outputs": [
    {
     "data": {
      "application/vnd.plotly.v1+json": {
       "config": {
        "plotlyServerURL": "https://plot.ly"
       },
       "data": [
        {
         "dimensions": [
          {
           "label": "config/hidden_size",
           "values": {
            "bdata": "eAEEATIAtQAqAOsAmQHmAVsA5gC7AHgBGwHuAFgBKgDFAdAB",
            "dtype": "i2"
           }
          },
          {
           "label": "config/num_layers",
           "values": {
            "bdata": "AQcEAwMDAwEGAgQEAQECAwUC",
            "dtype": "i1"
           }
          }
         ],
         "domain": {
          "x": [
           0,
           1
          ],
          "y": [
           0,
           1
          ]
         },
         "line": {
          "color": [
           0.9671875238418579,
           0.6890624761581421,
           0.5531250238418579,
           0.9609375,
           0.4468750059604645,
           0.9671875238418579,
           0.981249988079071,
           0.987500011920929,
           0.41718751192092896,
           0.957812488079071,
           0.949999988079071,
           0.9828125238418579,
           0.964062511920929,
           0.9140625,
           0.9546874761581421,
           0.453125,
           0.948437511920929,
           0.981249988079071
          ],
          "coloraxis": "coloraxis"
         },
         "name": "",
         "type": "parcoords"
        }
       ],
       "layout": {
        "coloraxis": {
         "colorbar": {
          "title": {
           "text": "accuracy"
          }
         },
         "colorscale": [
          [
           0,
           "#0d0887"
          ],
          [
           0.1111111111111111,
           "#46039f"
          ],
          [
           0.2222222222222222,
           "#7201a8"
          ],
          [
           0.3333333333333333,
           "#9c179e"
          ],
          [
           0.4444444444444444,
           "#bd3786"
          ],
          [
           0.5555555555555556,
           "#d8576b"
          ],
          [
           0.6666666666666666,
           "#ed7953"
          ],
          [
           0.7777777777777778,
           "#fb9f3a"
          ],
          [
           0.8888888888888888,
           "#fdca26"
          ],
          [
           1,
           "#f0f921"
          ]
         ]
        },
        "legend": {
         "tracegroupgap": 0
        },
        "margin": {
         "t": 60
        },
        "template": {
         "data": {
          "bar": [
           {
            "error_x": {
             "color": "#2a3f5f"
            },
            "error_y": {
             "color": "#2a3f5f"
            },
            "marker": {
             "line": {
              "color": "#E5ECF6",
              "width": 0.5
             },
             "pattern": {
              "fillmode": "overlay",
              "size": 10,
              "solidity": 0.2
             }
            },
            "type": "bar"
           }
          ],
          "barpolar": [
           {
            "marker": {
             "line": {
              "color": "#E5ECF6",
              "width": 0.5
             },
             "pattern": {
              "fillmode": "overlay",
              "size": 10,
              "solidity": 0.2
             }
            },
            "type": "barpolar"
           }
          ],
          "carpet": [
           {
            "aaxis": {
             "endlinecolor": "#2a3f5f",
             "gridcolor": "white",
             "linecolor": "white",
             "minorgridcolor": "white",
             "startlinecolor": "#2a3f5f"
            },
            "baxis": {
             "endlinecolor": "#2a3f5f",
             "gridcolor": "white",
             "linecolor": "white",
             "minorgridcolor": "white",
             "startlinecolor": "#2a3f5f"
            },
            "type": "carpet"
           }
          ],
          "choropleth": [
           {
            "colorbar": {
             "outlinewidth": 0,
             "ticks": ""
            },
            "type": "choropleth"
           }
          ],
          "contour": [
           {
            "colorbar": {
             "outlinewidth": 0,
             "ticks": ""
            },
            "colorscale": [
             [
              0,
              "#0d0887"
             ],
             [
              0.1111111111111111,
              "#46039f"
             ],
             [
              0.2222222222222222,
              "#7201a8"
             ],
             [
              0.3333333333333333,
              "#9c179e"
             ],
             [
              0.4444444444444444,
              "#bd3786"
             ],
             [
              0.5555555555555556,
              "#d8576b"
             ],
             [
              0.6666666666666666,
              "#ed7953"
             ],
             [
              0.7777777777777778,
              "#fb9f3a"
             ],
             [
              0.8888888888888888,
              "#fdca26"
             ],
             [
              1,
              "#f0f921"
             ]
            ],
            "type": "contour"
           }
          ],
          "contourcarpet": [
           {
            "colorbar": {
             "outlinewidth": 0,
             "ticks": ""
            },
            "type": "contourcarpet"
           }
          ],
          "heatmap": [
           {
            "colorbar": {
             "outlinewidth": 0,
             "ticks": ""
            },
            "colorscale": [
             [
              0,
              "#0d0887"
             ],
             [
              0.1111111111111111,
              "#46039f"
             ],
             [
              0.2222222222222222,
              "#7201a8"
             ],
             [
              0.3333333333333333,
              "#9c179e"
             ],
             [
              0.4444444444444444,
              "#bd3786"
             ],
             [
              0.5555555555555556,
              "#d8576b"
             ],
             [
              0.6666666666666666,
              "#ed7953"
             ],
             [
              0.7777777777777778,
              "#fb9f3a"
             ],
             [
              0.8888888888888888,
              "#fdca26"
             ],
             [
              1,
              "#f0f921"
             ]
            ],
            "type": "heatmap"
           }
          ],
          "histogram": [
           {
            "marker": {
             "pattern": {
              "fillmode": "overlay",
              "size": 10,
              "solidity": 0.2
             }
            },
            "type": "histogram"
           }
          ],
          "histogram2d": [
           {
            "colorbar": {
             "outlinewidth": 0,
             "ticks": ""
            },
            "colorscale": [
             [
              0,
              "#0d0887"
             ],
             [
              0.1111111111111111,
              "#46039f"
             ],
             [
              0.2222222222222222,
              "#7201a8"
             ],
             [
              0.3333333333333333,
              "#9c179e"
             ],
             [
              0.4444444444444444,
              "#bd3786"
             ],
             [
              0.5555555555555556,
              "#d8576b"
             ],
             [
              0.6666666666666666,
              "#ed7953"
             ],
             [
              0.7777777777777778,
              "#fb9f3a"
             ],
             [
              0.8888888888888888,
              "#fdca26"
             ],
             [
              1,
              "#f0f921"
             ]
            ],
            "type": "histogram2d"
           }
          ],
          "histogram2dcontour": [
           {
            "colorbar": {
             "outlinewidth": 0,
             "ticks": ""
            },
            "colorscale": [
             [
              0,
              "#0d0887"
             ],
             [
              0.1111111111111111,
              "#46039f"
             ],
             [
              0.2222222222222222,
              "#7201a8"
             ],
             [
              0.3333333333333333,
              "#9c179e"
             ],
             [
              0.4444444444444444,
              "#bd3786"
             ],
             [
              0.5555555555555556,
              "#d8576b"
             ],
             [
              0.6666666666666666,
              "#ed7953"
             ],
             [
              0.7777777777777778,
              "#fb9f3a"
             ],
             [
              0.8888888888888888,
              "#fdca26"
             ],
             [
              1,
              "#f0f921"
             ]
            ],
            "type": "histogram2dcontour"
           }
          ],
          "mesh3d": [
           {
            "colorbar": {
             "outlinewidth": 0,
             "ticks": ""
            },
            "type": "mesh3d"
           }
          ],
          "parcoords": [
           {
            "line": {
             "colorbar": {
              "outlinewidth": 0,
              "ticks": ""
             }
            },
            "type": "parcoords"
           }
          ],
          "pie": [
           {
            "automargin": true,
            "type": "pie"
           }
          ],
          "scatter": [
           {
            "fillpattern": {
             "fillmode": "overlay",
             "size": 10,
             "solidity": 0.2
            },
            "type": "scatter"
           }
          ],
          "scatter3d": [
           {
            "line": {
             "colorbar": {
              "outlinewidth": 0,
              "ticks": ""
             }
            },
            "marker": {
             "colorbar": {
              "outlinewidth": 0,
              "ticks": ""
             }
            },
            "type": "scatter3d"
           }
          ],
          "scattercarpet": [
           {
            "marker": {
             "colorbar": {
              "outlinewidth": 0,
              "ticks": ""
             }
            },
            "type": "scattercarpet"
           }
          ],
          "scattergeo": [
           {
            "marker": {
             "colorbar": {
              "outlinewidth": 0,
              "ticks": ""
             }
            },
            "type": "scattergeo"
           }
          ],
          "scattergl": [
           {
            "marker": {
             "colorbar": {
              "outlinewidth": 0,
              "ticks": ""
             }
            },
            "type": "scattergl"
           }
          ],
          "scattermap": [
           {
            "marker": {
             "colorbar": {
              "outlinewidth": 0,
              "ticks": ""
             }
            },
            "type": "scattermap"
           }
          ],
          "scattermapbox": [
           {
            "marker": {
             "colorbar": {
              "outlinewidth": 0,
              "ticks": ""
             }
            },
            "type": "scattermapbox"
           }
          ],
          "scatterpolar": [
           {
            "marker": {
             "colorbar": {
              "outlinewidth": 0,
              "ticks": ""
             }
            },
            "type": "scatterpolar"
           }
          ],
          "scatterpolargl": [
           {
            "marker": {
             "colorbar": {
              "outlinewidth": 0,
              "ticks": ""
             }
            },
            "type": "scatterpolargl"
           }
          ],
          "scatterternary": [
           {
            "marker": {
             "colorbar": {
              "outlinewidth": 0,
              "ticks": ""
             }
            },
            "type": "scatterternary"
           }
          ],
          "surface": [
           {
            "colorbar": {
             "outlinewidth": 0,
             "ticks": ""
            },
            "colorscale": [
             [
              0,
              "#0d0887"
             ],
             [
              0.1111111111111111,
              "#46039f"
             ],
             [
              0.2222222222222222,
              "#7201a8"
             ],
             [
              0.3333333333333333,
              "#9c179e"
             ],
             [
              0.4444444444444444,
              "#bd3786"
             ],
             [
              0.5555555555555556,
              "#d8576b"
             ],
             [
              0.6666666666666666,
              "#ed7953"
             ],
             [
              0.7777777777777778,
              "#fb9f3a"
             ],
             [
              0.8888888888888888,
              "#fdca26"
             ],
             [
              1,
              "#f0f921"
             ]
            ],
            "type": "surface"
           }
          ],
          "table": [
           {
            "cells": {
             "fill": {
              "color": "#EBF0F8"
             },
             "line": {
              "color": "white"
             }
            },
            "header": {
             "fill": {
              "color": "#C8D4E3"
             },
             "line": {
              "color": "white"
             }
            },
            "type": "table"
           }
          ]
         },
         "layout": {
          "annotationdefaults": {
           "arrowcolor": "#2a3f5f",
           "arrowhead": 0,
           "arrowwidth": 1
          },
          "autotypenumbers": "strict",
          "coloraxis": {
           "colorbar": {
            "outlinewidth": 0,
            "ticks": ""
           }
          },
          "colorscale": {
           "diverging": [
            [
             0,
             "#8e0152"
            ],
            [
             0.1,
             "#c51b7d"
            ],
            [
             0.2,
             "#de77ae"
            ],
            [
             0.3,
             "#f1b6da"
            ],
            [
             0.4,
             "#fde0ef"
            ],
            [
             0.5,
             "#f7f7f7"
            ],
            [
             0.6,
             "#e6f5d0"
            ],
            [
             0.7,
             "#b8e186"
            ],
            [
             0.8,
             "#7fbc41"
            ],
            [
             0.9,
             "#4d9221"
            ],
            [
             1,
             "#276419"
            ]
           ],
           "sequential": [
            [
             0,
             "#0d0887"
            ],
            [
             0.1111111111111111,
             "#46039f"
            ],
            [
             0.2222222222222222,
             "#7201a8"
            ],
            [
             0.3333333333333333,
             "#9c179e"
            ],
            [
             0.4444444444444444,
             "#bd3786"
            ],
            [
             0.5555555555555556,
             "#d8576b"
            ],
            [
             0.6666666666666666,
             "#ed7953"
            ],
            [
             0.7777777777777778,
             "#fb9f3a"
            ],
            [
             0.8888888888888888,
             "#fdca26"
            ],
            [
             1,
             "#f0f921"
            ]
           ],
           "sequentialminus": [
            [
             0,
             "#0d0887"
            ],
            [
             0.1111111111111111,
             "#46039f"
            ],
            [
             0.2222222222222222,
             "#7201a8"
            ],
            [
             0.3333333333333333,
             "#9c179e"
            ],
            [
             0.4444444444444444,
             "#bd3786"
            ],
            [
             0.5555555555555556,
             "#d8576b"
            ],
            [
             0.6666666666666666,
             "#ed7953"
            ],
            [
             0.7777777777777778,
             "#fb9f3a"
            ],
            [
             0.8888888888888888,
             "#fdca26"
            ],
            [
             1,
             "#f0f921"
            ]
           ]
          },
          "colorway": [
           "#636efa",
           "#EF553B",
           "#00cc96",
           "#ab63fa",
           "#FFA15A",
           "#19d3f3",
           "#FF6692",
           "#B6E880",
           "#FF97FF",
           "#FECB52"
          ],
          "font": {
           "color": "#2a3f5f"
          },
          "geo": {
           "bgcolor": "white",
           "lakecolor": "white",
           "landcolor": "#E5ECF6",
           "showlakes": true,
           "showland": true,
           "subunitcolor": "white"
          },
          "hoverlabel": {
           "align": "left"
          },
          "hovermode": "closest",
          "mapbox": {
           "style": "light"
          },
          "paper_bgcolor": "white",
          "plot_bgcolor": "#E5ECF6",
          "polar": {
           "angularaxis": {
            "gridcolor": "white",
            "linecolor": "white",
            "ticks": ""
           },
           "bgcolor": "#E5ECF6",
           "radialaxis": {
            "gridcolor": "white",
            "linecolor": "white",
            "ticks": ""
           }
          },
          "scene": {
           "xaxis": {
            "backgroundcolor": "#E5ECF6",
            "gridcolor": "white",
            "gridwidth": 2,
            "linecolor": "white",
            "showbackground": true,
            "ticks": "",
            "zerolinecolor": "white"
           },
           "yaxis": {
            "backgroundcolor": "#E5ECF6",
            "gridcolor": "white",
            "gridwidth": 2,
            "linecolor": "white",
            "showbackground": true,
            "ticks": "",
            "zerolinecolor": "white"
           },
           "zaxis": {
            "backgroundcolor": "#E5ECF6",
            "gridcolor": "white",
            "gridwidth": 2,
            "linecolor": "white",
            "showbackground": true,
            "ticks": "",
            "zerolinecolor": "white"
           }
          },
          "shapedefaults": {
           "line": {
            "color": "#2a3f5f"
           }
          },
          "ternary": {
           "aaxis": {
            "gridcolor": "white",
            "linecolor": "white",
            "ticks": ""
           },
           "baxis": {
            "gridcolor": "white",
            "linecolor": "white",
            "ticks": ""
           },
           "bgcolor": "#E5ECF6",
           "caxis": {
            "gridcolor": "white",
            "linecolor": "white",
            "ticks": ""
           }
          },
          "title": {
           "x": 0.05
          },
          "xaxis": {
           "automargin": true,
           "gridcolor": "white",
           "linecolor": "white",
           "ticks": "",
           "title": {
            "standoff": 15
           },
           "zerolinecolor": "white",
           "zerolinewidth": 2
          },
          "yaxis": {
           "automargin": true,
           "gridcolor": "white",
           "linecolor": "white",
           "ticks": "",
           "title": {
            "standoff": 15
           },
           "zerolinecolor": "white",
           "zerolinewidth": 2
          }
         }
        }
       }
      }
     },
     "metadata": {},
     "output_type": "display_data"
    }
   ],
   "source": [
    "columns = [\"config/hidden_size\", \"config/num_layers\", \"accuracy\"]\n",
    "visualize.parallel_plot(analysis, columns)"
   ]
  },
  {
   "cell_type": "markdown",
   "metadata": {},
   "source": [
    "Note how the mean scores are sort of randomly distributed. This is a direct\n",
    "effect of random guessing parameters."
   ]
  },
  {
   "cell_type": "markdown",
   "metadata": {},
   "source": [
    "# Grid search"
   ]
  },
  {
   "cell_type": "markdown",
   "metadata": {},
   "source": [
    "We can do this more rigorous with a gridsearch.\n",
    "The upside of this technique is that you will test every configuration.\n",
    "\n",
    "A huge downside is the inefficiency. Also, you will run experiments with combinations that might be not very promising, but very slow, which is pretty inefficient.\n",
    "\n",
    "\n",
    "One way to handle this is to use doubling as a strategy to scan the range: 16, 32, ..., 512. This is a bit more efficient.\n",
    "\n",
    "Typically, this can be a good idea for a first scan, to get a rough idea of the space.\n",
    "After you have done this, you can narrow your searchspace, and do a more fine grained search zoomed in on areas that seem promising."
   ]
  },
  {
   "cell_type": "code",
   "execution_count": 18,
   "metadata": {},
   "outputs": [],
   "source": [
    "config = {\n",
    "    \"input_size\": 3,\n",
    "    \"output_size\": 20,\n",
    "    \"dropout\": 0.1,\n",
    "    \"epochs\": MAX_EPOCHS,\n",
    "    \"hidden_size\": tune.grid_search([16, 32, 64, 128, 256, 512]),\n",
    "    \"num_layers\": tune.grid_search([2, 4, 8]),\n",
    "    \"tune_dir\": tune_dir,\n",
    "}"
   ]
  },
  {
   "cell_type": "markdown",
   "metadata": {},
   "source": [
    "\n",
    "<font color='green'>\n",
    "\n",
    "**Code modified**\n",
    "</font>"
   ]
  },
  {
   "cell_type": "code",
   "execution_count": 19,
   "metadata": {},
   "outputs": [
    {
     "data": {
      "text/html": [
       "<div class=\"tuneStatus\">\n",
       "  <div style=\"display: flex;flex-direction: row\">\n",
       "    <div style=\"display: flex;flex-direction: column;\">\n",
       "      <h3>Tune Status</h3>\n",
       "      <table>\n",
       "<tbody>\n",
       "<tr><td>Current time:</td><td>2025-02-15 17:54:22</td></tr>\n",
       "<tr><td>Running for: </td><td>00:09:41.72        </td></tr>\n",
       "<tr><td>Memory:      </td><td>8.7/31.2 GiB       </td></tr>\n",
       "</tbody>\n",
       "</table>\n",
       "    </div>\n",
       "    <div class=\"vDivider\"></div>\n",
       "    <div class=\"systemInfo\">\n",
       "      <h3>System Info</h3>\n",
       "      Using FIFO scheduling algorithm.<br>Logical resource usage: 1.0/12 CPUs, 0/1 GPUs (0.0/1.0 accelerator_type:G)\n",
       "    </div>\n",
       "    \n",
       "  </div>\n",
       "  <div class=\"hDivider\"></div>\n",
       "  <div class=\"trialStatus\">\n",
       "    <h3>Trial Status</h3>\n",
       "    <table>\n",
       "<thead>\n",
       "<tr><th>Trial name            </th><th>status    </th><th>loc               </th><th style=\"text-align: right;\">  hidden_size</th><th style=\"text-align: right;\">  num_layers</th><th style=\"text-align: right;\">  iter</th><th style=\"text-align: right;\">  total time (s)</th><th style=\"text-align: right;\">  valid_loss</th><th style=\"text-align: right;\">  train_loss</th></tr>\n",
       "</thead>\n",
       "<tbody>\n",
       "<tr><td>tune_model_185ae_00000</td><td>TERMINATED</td><td>192.168.0.5:974908</td><td style=\"text-align: right;\">           16</td><td style=\"text-align: right;\">           2</td><td style=\"text-align: right;\">     5</td><td style=\"text-align: right;\">         12.3006</td><td style=\"text-align: right;\">   2.05736  </td><td style=\"text-align: right;\">   2.14436  </td></tr>\n",
       "<tr><td>tune_model_185ae_00001</td><td>TERMINATED</td><td>192.168.0.5:974907</td><td style=\"text-align: right;\">           32</td><td style=\"text-align: right;\">           2</td><td style=\"text-align: right;\">     5</td><td style=\"text-align: right;\">         19.2013</td><td style=\"text-align: right;\">   1.63737  </td><td style=\"text-align: right;\">   1.72418  </td></tr>\n",
       "<tr><td>tune_model_185ae_00002</td><td>TERMINATED</td><td>192.168.0.5:974903</td><td style=\"text-align: right;\">           64</td><td style=\"text-align: right;\">           2</td><td style=\"text-align: right;\">     5</td><td style=\"text-align: right;\">         21.3381</td><td style=\"text-align: right;\">   1.06753  </td><td style=\"text-align: right;\">   1.21192  </td></tr>\n",
       "<tr><td>tune_model_185ae_00003</td><td>TERMINATED</td><td>192.168.0.5:974905</td><td style=\"text-align: right;\">          128</td><td style=\"text-align: right;\">           2</td><td style=\"text-align: right;\">     5</td><td style=\"text-align: right;\">         20.5105</td><td style=\"text-align: right;\">   0.474193 </td><td style=\"text-align: right;\">   0.618324 </td></tr>\n",
       "<tr><td>tune_model_185ae_00004</td><td>TERMINATED</td><td>192.168.0.5:974904</td><td style=\"text-align: right;\">          256</td><td style=\"text-align: right;\">           2</td><td style=\"text-align: right;\">     5</td><td style=\"text-align: right;\">         50.2706</td><td style=\"text-align: right;\">   0.128637 </td><td style=\"text-align: right;\">   0.129438 </td></tr>\n",
       "<tr><td>tune_model_185ae_00005</td><td>TERMINATED</td><td>192.168.0.5:974906</td><td style=\"text-align: right;\">          512</td><td style=\"text-align: right;\">           2</td><td style=\"text-align: right;\">     5</td><td style=\"text-align: right;\">        212.96  </td><td style=\"text-align: right;\">   0.0998586</td><td style=\"text-align: right;\">   0.28491  </td></tr>\n",
       "<tr><td>tune_model_185ae_00006</td><td>TERMINATED</td><td>192.168.0.5:974909</td><td style=\"text-align: right;\">           16</td><td style=\"text-align: right;\">           4</td><td style=\"text-align: right;\">     5</td><td style=\"text-align: right;\">         23.2466</td><td style=\"text-align: right;\">   2.17151  </td><td style=\"text-align: right;\">   2.23227  </td></tr>\n",
       "<tr><td>tune_model_185ae_00007</td><td>TERMINATED</td><td>192.168.0.5:974910</td><td style=\"text-align: right;\">           32</td><td style=\"text-align: right;\">           4</td><td style=\"text-align: right;\">     5</td><td style=\"text-align: right;\">         23.4758</td><td style=\"text-align: right;\">   1.67847  </td><td style=\"text-align: right;\">   1.84946  </td></tr>\n",
       "<tr><td>tune_model_185ae_00008</td><td>TERMINATED</td><td>192.168.0.5:975350</td><td style=\"text-align: right;\">           64</td><td style=\"text-align: right;\">           4</td><td style=\"text-align: right;\">     5</td><td style=\"text-align: right;\">         31.2956</td><td style=\"text-align: right;\">   1.11918  </td><td style=\"text-align: right;\">   1.29187  </td></tr>\n",
       "<tr><td>tune_model_185ae_00009</td><td>TERMINATED</td><td>192.168.0.5:975408</td><td style=\"text-align: right;\">          128</td><td style=\"text-align: right;\">           4</td><td style=\"text-align: right;\">     5</td><td style=\"text-align: right;\">         54.142 </td><td style=\"text-align: right;\">   0.527914 </td><td style=\"text-align: right;\">   0.684162 </td></tr>\n",
       "<tr><td>tune_model_185ae_00010</td><td>TERMINATED</td><td>192.168.0.5:975453</td><td style=\"text-align: right;\">          256</td><td style=\"text-align: right;\">           4</td><td style=\"text-align: right;\">     5</td><td style=\"text-align: right;\">        143.849 </td><td style=\"text-align: right;\">   0.124307 </td><td style=\"text-align: right;\">   0.184684 </td></tr>\n",
       "<tr><td>tune_model_185ae_00011</td><td>TERMINATED</td><td>192.168.0.5:975458</td><td style=\"text-align: right;\">          512</td><td style=\"text-align: right;\">           4</td><td style=\"text-align: right;\">     5</td><td style=\"text-align: right;\">        341.948 </td><td style=\"text-align: right;\">   0.100095 </td><td style=\"text-align: right;\">   0.0559188</td></tr>\n",
       "<tr><td>tune_model_185ae_00012</td><td>TERMINATED</td><td>192.168.0.5:975552</td><td style=\"text-align: right;\">           16</td><td style=\"text-align: right;\">           8</td><td style=\"text-align: right;\">     5</td><td style=\"text-align: right;\">         49.9062</td><td style=\"text-align: right;\">   2.29951  </td><td style=\"text-align: right;\">   2.36763  </td></tr>\n",
       "<tr><td>tune_model_185ae_00013</td><td>TERMINATED</td><td>192.168.0.5:975553</td><td style=\"text-align: right;\">           32</td><td style=\"text-align: right;\">           8</td><td style=\"text-align: right;\">     5</td><td style=\"text-align: right;\">         57.2006</td><td style=\"text-align: right;\">   1.44862  </td><td style=\"text-align: right;\">   1.49421  </td></tr>\n",
       "<tr><td>tune_model_185ae_00014</td><td>TERMINATED</td><td>192.168.0.5:975710</td><td style=\"text-align: right;\">           64</td><td style=\"text-align: right;\">           8</td><td style=\"text-align: right;\">     5</td><td style=\"text-align: right;\">         73.0375</td><td style=\"text-align: right;\">   1.37504  </td><td style=\"text-align: right;\">   1.43079  </td></tr>\n",
       "<tr><td>tune_model_185ae_00015</td><td>TERMINATED</td><td>192.168.0.5:975761</td><td style=\"text-align: right;\">          128</td><td style=\"text-align: right;\">           8</td><td style=\"text-align: right;\">     5</td><td style=\"text-align: right;\">        121.02  </td><td style=\"text-align: right;\">   1.3793   </td><td style=\"text-align: right;\">   1.45949  </td></tr>\n",
       "<tr><td>tune_model_185ae_00016</td><td>TERMINATED</td><td>192.168.0.5:975863</td><td style=\"text-align: right;\">          256</td><td style=\"text-align: right;\">           8</td><td style=\"text-align: right;\">     5</td><td style=\"text-align: right;\">        220.021 </td><td style=\"text-align: right;\">   1.0492   </td><td style=\"text-align: right;\">   1.06969  </td></tr>\n",
       "<tr><td>tune_model_185ae_00017</td><td>TERMINATED</td><td>192.168.0.5:975867</td><td style=\"text-align: right;\">          512</td><td style=\"text-align: right;\">           8</td><td style=\"text-align: right;\">     5</td><td style=\"text-align: right;\">        496.426 </td><td style=\"text-align: right;\">   1.43451  </td><td style=\"text-align: right;\">   1.42862  </td></tr>\n",
       "</tbody>\n",
       "</table>\n",
       "  </div>\n",
       "</div>\n",
       "<style>\n",
       ".tuneStatus {\n",
       "  color: var(--jp-ui-font-color1);\n",
       "}\n",
       ".tuneStatus .systemInfo {\n",
       "  display: flex;\n",
       "  flex-direction: column;\n",
       "}\n",
       ".tuneStatus td {\n",
       "  white-space: nowrap;\n",
       "}\n",
       ".tuneStatus .trialStatus {\n",
       "  display: flex;\n",
       "  flex-direction: column;\n",
       "}\n",
       ".tuneStatus h3 {\n",
       "  font-weight: bold;\n",
       "}\n",
       ".tuneStatus .hDivider {\n",
       "  border-bottom-width: var(--jp-border-width);\n",
       "  border-bottom-color: var(--jp-border-color0);\n",
       "  border-bottom-style: solid;\n",
       "}\n",
       ".tuneStatus .vDivider {\n",
       "  border-left-width: var(--jp-border-width);\n",
       "  border-left-color: var(--jp-border-color0);\n",
       "  border-left-style: solid;\n",
       "  margin: 0.5em 1em 0.5em 1em;\n",
       "}\n",
       "</style>\n"
      ],
      "text/plain": [
       "<IPython.core.display.HTML object>"
      ]
     },
     "metadata": {},
     "output_type": "display_data"
    },
    {
     "name": "stderr",
     "output_type": "stream",
     "text": [
      "\u001b[33m(raylet)\u001b[0m bash: /home/sarmad/anaconda3/lib/libtinfo.so.6: no version information available (required by bash)\n",
      "\u001b[36m(tune_model pid=974904)\u001b[0m 2025-02-15 17:44:44.305 | INFO     | mads_datasets.base:download_data:121 - Folder already exists at /home/sarmad/.cache/mads_datasets/gestures\n",
      "  0%|\u001b[38;2;30;71;6m          \u001b[0m| 0/2600 [00:00<?, ?it/s]\n",
      " 20%|\u001b[38;2;30;71;6m██        \u001b[0m| 532/2600 [00:00<00:00, 5318.56it/s]\n",
      " 41%|\u001b[38;2;30;71;6m████      \u001b[0m| 1064/2600 [00:00<00:00, 5298.80it/s]\n",
      " 61%|\u001b[38;2;30;71;6m██████▏   \u001b[0m| 1594/2600 [00:00<00:00, 5285.34it/s]\n",
      " 83%|\u001b[38;2;30;71;6m████████▎ \u001b[0m| 2156/2600 [00:00<00:00, 5413.52it/s]\n",
      "100%|\u001b[38;2;30;71;6m██████████\u001b[0m| 2600/2600 [00:00<00:00, 5434.17it/s]\n",
      "  0%|\u001b[38;2;30;71;6m          \u001b[0m| 0/651 [00:00<?, ?it/s]\n",
      "100%|\u001b[38;2;30;71;6m██████████\u001b[0m| 651/651 [00:00<00:00, 5867.61it/s]\n",
      " 23%|\u001b[38;2;30;71;6m██▎       \u001b[0m| 593/2600 [00:00<00:00, 5921.34it/s]\n",
      " 46%|\u001b[38;2;30;71;6m████▌     \u001b[0m| 1186/2600 [00:00<00:00, 5437.07it/s]\n",
      " 69%|\u001b[38;2;30;71;6m██████▊   \u001b[0m| 1783/2600 [00:00<00:00, 5667.09it/s]\n",
      "100%|\u001b[38;2;30;71;6m██████████\u001b[0m| 2600/2600 [00:00<00:00, 5740.30it/s]\n",
      "100%|\u001b[38;2;30;71;6m██████████\u001b[0m| 651/651 [00:00<00:00, 5827.90it/s]\n",
      "\u001b[33m(raylet)\u001b[0m bash: /home/sarmad/anaconda3/lib/libtinfo.so.6: no version information available (required by bash)\u001b[32m [repeated 7x across cluster]\u001b[0m\n",
      " 21%|\u001b[38;2;30;71;6m██        \u001b[0m| 551/2600 [00:00<00:00, 5508.48it/s]\n",
      " 42%|\u001b[38;2;30;71;6m████▏     \u001b[0m| 1102/2600 [00:00<00:00, 5386.19it/s]\n",
      " 63%|\u001b[38;2;30;71;6m██████▎   \u001b[0m| 1641/2600 [00:00<00:00, 5258.93it/s]\n",
      "100%|\u001b[38;2;30;71;6m██████████\u001b[0m| 2600/2600 [00:00<00:00, 5404.26it/s]\n",
      "100%|\u001b[38;2;30;71;6m██████████\u001b[0m| 651/651 [00:00<00:00, 5444.17it/s]\n",
      " 20%|\u001b[38;2;30;71;6m█▉        \u001b[0m| 508/2600 [00:00<00:00, 5079.74it/s]\n",
      " 40%|\u001b[38;2;30;71;6m████      \u001b[0m| 1040/2600 [00:00<00:00, 5215.97it/s]\n",
      " 60%|\u001b[38;2;30;71;6m██████    \u001b[0m| 1562/2600 [00:00<00:00, 5124.76it/s]\n",
      " 80%|\u001b[38;2;30;71;6m████████  \u001b[0m| 2088/2600 [00:00<00:00, 5176.54it/s]\n",
      "100%|\u001b[38;2;30;71;6m██████████\u001b[0m| 2600/2600 [00:00<00:00, 5239.86it/s]\n",
      " 77%|\u001b[38;2;30;71;6m███████▋  \u001b[0m| 504/651 [00:00<00:00, 5035.57it/s]\n",
      "100%|\u001b[38;2;30;71;6m██████████\u001b[0m| 651/651 [00:00<00:00, 5075.15it/s]\n",
      " 20%|\u001b[38;2;30;71;6m██        \u001b[0m| 527/2600 [00:00<00:00, 5263.64it/s]\n",
      " 41%|\u001b[38;2;30;71;6m████      \u001b[0m| 1054/2600 [00:00<00:00, 5189.42it/s]\n",
      " 61%|\u001b[38;2;30;71;6m██████    \u001b[0m| 1574/2600 [00:00<00:00, 4973.91it/s]\n",
      " 80%|\u001b[38;2;30;71;6m███████▉  \u001b[0m| 2073/2600 [00:00<00:00, 4952.74it/s]\n",
      "100%|\u001b[38;2;30;71;6m██████████\u001b[0m| 2600/2600 [00:00<00:00, 5054.33it/s]\n",
      "100%|\u001b[38;2;30;71;6m██████████\u001b[0m| 651/651 [00:00<00:00, 5154.08it/s]\n",
      " 17%|\u001b[38;2;30;71;6m█▋        \u001b[0m| 442/2600 [00:00<00:00, 4408.32it/s]\n",
      " 36%|\u001b[38;2;30;71;6m███▌      \u001b[0m| 927/2600 [00:00<00:00, 4661.77it/s]\n",
      " 54%|\u001b[38;2;30;71;6m█████▎    \u001b[0m| 1394/2600 [00:00<00:00, 4660.29it/s]\n",
      " 72%|\u001b[38;2;30;71;6m███████▏  \u001b[0m| 1861/2600 [00:00<00:00, 4612.43it/s]\n",
      "100%|\u001b[38;2;30;71;6m██████████\u001b[0m| 2600/2600 [00:00<00:00, 4697.23it/s]\n",
      " 70%|\u001b[38;2;30;71;6m██████▉   \u001b[0m| 454/651 [00:00<00:00, 4533.71it/s]\n",
      "100%|\u001b[38;2;30;71;6m██████████\u001b[0m| 651/651 [00:00<00:00, 4592.21it/s]\n",
      " 18%|\u001b[38;2;30;71;6m█▊        \u001b[0m| 472/2600 [00:00<00:00, 4719.34it/s]\n",
      " 36%|\u001b[38;2;30;71;6m███▋      \u001b[0m| 947/2600 [00:00<00:00, 4732.40it/s]\n",
      " 55%|\u001b[38;2;30;71;6m█████▌    \u001b[0m| 1436/2600 [00:00<00:00, 4803.03it/s]\n",
      " 74%|\u001b[38;2;30;71;6m███████▎  \u001b[0m| 1917/2600 [00:00<00:00, 4763.08it/s]\n",
      "\u001b[36m(tune_model pid=974907)\u001b[0m 2025-02-15 17:44:48.900 | INFO     | mads_datasets.base:download_data:121 - Folder already exists at /home/sarmad/.cache/mads_datasets/gestures\u001b[32m [repeated 6x across cluster]\u001b[0m\n",
      "100%|\u001b[38;2;30;71;6m██████████\u001b[0m| 2600/2600 [00:00<00:00, 4798.00it/s]\n",
      "  0%|\u001b[38;2;30;71;6m          \u001b[0m| 0/651 [00:00<?, ?it/s]\u001b[32m [repeated 12x across cluster]\u001b[0m\n",
      " 76%|\u001b[38;2;30;71;6m███████▋  \u001b[0m| 497/651 [00:00<00:00, 4967.07it/s]\n",
      "100%|\u001b[38;2;30;71;6m██████████\u001b[0m| 651/651 [00:00<00:00, 4909.51it/s]\n",
      " 23%|\u001b[38;2;30;71;6m██▎       \u001b[0m| 604/2600 [00:00<00:00, 2968.06it/s]\n",
      " 35%|\u001b[38;2;30;71;6m███▍      \u001b[0m| 901/2600 [00:00<00:00, 2817.52it/s]\n",
      " 46%|\u001b[38;2;30;71;6m████▌     \u001b[0m| 1184/2600 [00:00<00:00, 2653.94it/s]\n",
      " 56%|\u001b[38;2;30;71;6m█████▋    \u001b[0m| 1468/2600 [00:00<00:00, 2715.76it/s]\n",
      " 80%|\u001b[38;2;30;71;6m████████  \u001b[0m| 2090/2600 [00:00<00:00, 2930.09it/s]\n",
      " 92%|\u001b[38;2;30;71;6m█████████▏\u001b[0m| 2385/2600 [00:00<00:00, 2927.90it/s]\n",
      "100%|\u001b[38;2;30;71;6m██████████\u001b[0m| 2600/2600 [00:00<00:00, 2833.96it/s]\n",
      " 47%|\u001b[38;2;30;71;6m████▋     \u001b[0m| 306/651 [00:00<00:00, 3058.27it/s]\n",
      "100%|\u001b[38;2;30;71;6m██████████\u001b[0m| 651/651 [00:00<00:00, 3021.93it/s]\n",
      "\u001b[33m(raylet)\u001b[0m bash: /home/sarmad/anaconda3/lib/libtinfo.so.6: no version information available (required by bash)\n",
      "\u001b[36m(tune_model pid=974903)\u001b[0m 2025-02-15 17:44:49.756 | INFO     | mads_datasets.base:download_data:121 - Folder already exists at /home/sarmad/.cache/mads_datasets/gestures\n",
      "  0%|\u001b[38;2;30;71;6m          \u001b[0m| 0/651 [00:00<?, ?it/s]\u001b[32m [repeated 2x across cluster]\u001b[0m\n",
      "\u001b[36m(tune_model pid=975350)\u001b[0m 2025-02-15 17:45:01.672 | INFO     | mads_datasets.base:download_data:121 - Folder already exists at /home/sarmad/.cache/mads_datasets/gestures\n",
      "  0%|\u001b[38;2;30;71;6m          \u001b[0m| 0/2600 [00:00<?, ?it/s]\n",
      " 12%|\u001b[38;2;30;71;6m█▏        \u001b[0m| 305/2600 [00:00<00:00, 3047.79it/s]\n",
      " 25%|\u001b[38;2;30;71;6m██▌       \u001b[0m| 655/2600 [00:00<00:00, 3312.01it/s]\n",
      " 41%|\u001b[38;2;30;71;6m████      \u001b[0m| 1057/2600 [00:00<00:00, 3633.86it/s]\n",
      " 56%|\u001b[38;2;30;71;6m█████▌    \u001b[0m| 1453/2600 [00:00<00:00, 3759.53it/s]\n",
      " 71%|\u001b[38;2;30;71;6m███████   \u001b[0m| 1846/2600 [00:00<00:00, 3820.49it/s]\n",
      " 86%|\u001b[38;2;30;71;6m████████▌ \u001b[0m| 2242/2600 [00:00<00:00, 3867.75it/s]\n",
      "100%|\u001b[38;2;30;71;6m██████████\u001b[0m| 2600/2600 [00:00<00:00, 3715.20it/s]\n",
      "  0%|\u001b[38;2;30;71;6m          \u001b[0m| 0/651 [00:00<?, ?it/s]\n",
      " 57%|\u001b[38;2;30;71;6m█████▋    \u001b[0m| 368/651 [00:00<00:00, 3679.47it/s]\n",
      "100%|\u001b[38;2;30;71;6m██████████\u001b[0m| 651/651 [00:00<00:00, 3812.06it/s]\n",
      "\u001b[33m(raylet)\u001b[0m bash: /home/sarmad/anaconda3/lib/libtinfo.so.6: no version information available (required by bash)\n",
      "\u001b[36m(tune_model pid=975408)\u001b[0m 2025-02-15 17:45:08.565 | INFO     | mads_datasets.base:download_data:121 - Folder already exists at /home/sarmad/.cache/mads_datasets/gestures\n",
      "\u001b[33m(raylet)\u001b[0m bash: /home/sarmad/anaconda3/lib/libtinfo.so.6: no version information available (required by bash)\u001b[32m [repeated 4x across cluster]\u001b[0m\n",
      "  0%|\u001b[38;2;30;71;6m          \u001b[0m| 0/2600 [00:00<?, ?it/s]\n",
      " 11%|\u001b[38;2;30;71;6m█▏        \u001b[0m| 295/2600 [00:00<00:00, 2943.60it/s]\n",
      " 24%|\u001b[38;2;30;71;6m██▎       \u001b[0m| 615/2600 [00:00<00:00, 3093.32it/s]\n",
      " 36%|\u001b[38;2;30;71;6m███▌      \u001b[0m| 934/2600 [00:00<00:00, 3134.64it/s]\n",
      " 48%|\u001b[38;2;30;71;6m████▊     \u001b[0m| 1248/2600 [00:00<00:00, 3119.35it/s]\n",
      " 60%|\u001b[38;2;30;71;6m██████    \u001b[0m| 1560/2600 [00:00<00:00, 3118.95it/s]\n",
      " 72%|\u001b[38;2;30;71;6m███████▏  \u001b[0m| 1877/2600 [00:00<00:00, 3134.79it/s]\n",
      " 84%|\u001b[38;2;30;71;6m████████▍ \u001b[0m| 2195/2600 [00:00<00:00, 3148.68it/s]\n",
      "100%|\u001b[38;2;30;71;6m██████████\u001b[0m| 2600/2600 [00:00<00:00, 3151.46it/s]\n",
      "  0%|\u001b[38;2;30;71;6m          \u001b[0m| 0/651 [00:00<?, ?it/s]\n",
      " 49%|\u001b[38;2;30;71;6m████▉     \u001b[0m| 318/651 [00:00<00:00, 3177.10it/s]\n",
      "100%|\u001b[38;2;30;71;6m██████████\u001b[0m| 651/651 [00:00<00:00, 3115.08it/s]\n",
      " 18%|\u001b[38;2;30;71;6m█▊        \u001b[0m| 459/2600 [00:00<00:00, 4573.66it/s]\n",
      " 53%|\u001b[38;2;30;71;6m█████▎    \u001b[0m| 1375/2600 [00:00<00:00, 4479.75it/s]\n",
      " 70%|\u001b[38;2;30;71;6m███████   \u001b[0m| 1831/2600 [00:00<00:00, 4510.19it/s]\n",
      " 88%|\u001b[38;2;30;71;6m████████▊ \u001b[0m| 2283/2600 [00:00<00:00, 4484.33it/s]\n",
      "100%|\u001b[38;2;30;71;6m██████████\u001b[0m| 2600/2600 [00:00<00:00, 4319.95it/s]\n",
      " 49%|\u001b[38;2;30;71;6m████▉     \u001b[0m| 321/651 [00:00<00:00, 3201.25it/s]\n",
      "100%|\u001b[38;2;30;71;6m██████████\u001b[0m| 651/651 [00:00<00:00, 3097.34it/s]\n",
      " 11%|\u001b[38;2;30;71;6m█▏        \u001b[0m| 295/2600 [00:00<00:00, 2940.58it/s]\n",
      " 23%|\u001b[38;2;30;71;6m██▎       \u001b[0m| 607/2600 [00:00<00:00, 3040.75it/s]\n",
      " 35%|\u001b[38;2;30;71;6m███▌      \u001b[0m| 912/2600 [00:00<00:00, 3033.19it/s]\n",
      " 47%|\u001b[38;2;30;71;6m████▋     \u001b[0m| 1216/2600 [00:00<00:00, 3008.74it/s]\n",
      " 58%|\u001b[38;2;30;71;6m█████▊    \u001b[0m| 1517/2600 [00:00<00:00, 2977.23it/s]\n",
      " 82%|\u001b[38;2;30;71;6m████████▏ \u001b[0m| 2137/2600 [00:00<00:00, 3029.79it/s]\n",
      " 95%|\u001b[38;2;30;71;6m█████████▍\u001b[0m| 2458/2600 [00:00<00:00, 3084.68it/s]\n",
      "100%|\u001b[38;2;30;71;6m██████████\u001b[0m| 2600/2600 [00:00<00:00, 3036.87it/s]\n",
      " 48%|\u001b[38;2;30;71;6m████▊     \u001b[0m| 314/651 [00:00<00:00, 3137.91it/s]\n",
      "100%|\u001b[38;2;30;71;6m██████████\u001b[0m| 651/651 [00:00<00:00, 2994.79it/s]\n",
      " 13%|\u001b[38;2;30;71;6m█▎        \u001b[0m| 327/2600 [00:00<00:00, 3255.71it/s]\n",
      " 26%|\u001b[38;2;30;71;6m██▌       \u001b[0m| 667/2600 [00:00<00:00, 3337.20it/s]\n",
      " 38%|\u001b[38;2;30;71;6m███▊      \u001b[0m| 1001/2600 [00:00<00:00, 3296.94it/s]\n",
      " 66%|\u001b[38;2;30;71;6m██████▌   \u001b[0m| 1721/2600 [00:00<00:00, 3462.23it/s]\n",
      " 80%|\u001b[38;2;30;71;6m███████▉  \u001b[0m| 2068/2600 [00:00<00:00, 3459.94it/s]\n",
      "100%|\u001b[38;2;30;71;6m██████████\u001b[0m| 2600/2600 [00:00<00:00, 3330.64it/s]\n",
      " 57%|\u001b[38;2;30;71;6m█████▋    \u001b[0m| 371/651 [00:00<00:00, 3705.73it/s]\n",
      "100%|\u001b[38;2;30;71;6m██████████\u001b[0m| 651/651 [00:00<00:00, 3478.46it/s]\n",
      "\u001b[36m(tune_model pid=975553)\u001b[0m 2025-02-15 17:45:13.426 | INFO     | mads_datasets.base:download_data:121 - Folder already exists at /home/sarmad/.cache/mads_datasets/gestures\u001b[32m [repeated 4x across cluster]\u001b[0m\n",
      "  7%|\u001b[38;2;30;71;6m▋         \u001b[0m| 186/2600 [00:00<00:01, 1851.15it/s]\n",
      "  0%|\u001b[38;2;30;71;6m          \u001b[0m| 0/2600 [00:00<?, ?it/s]\u001b[32m [repeated 7x across cluster]\u001b[0m\n",
      " 14%|\u001b[38;2;30;71;6m█▍        \u001b[0m| 374/2600 [00:00<00:01, 1867.27it/s]\n",
      " 22%|\u001b[38;2;30;71;6m██▏       \u001b[0m| 561/2600 [00:00<00:01, 1747.26it/s]\n",
      " 28%|\u001b[38;2;30;71;6m██▊       \u001b[0m| 737/2600 [00:00<00:01, 1689.31it/s]\n",
      " 35%|\u001b[38;2;30;71;6m███▌      \u001b[0m| 921/2600 [00:00<00:00, 1739.87it/s]\n",
      " 42%|\u001b[38;2;30;71;6m████▏     \u001b[0m| 1098/2600 [00:00<00:00, 1747.80it/s]\n",
      " 50%|\u001b[38;2;30;71;6m█████     \u001b[0m| 1302/2600 [00:00<00:00, 1837.92it/s]\n",
      " 58%|\u001b[38;2;30;71;6m█████▊    \u001b[0m| 1510/2600 [00:00<00:00, 1911.26it/s]\n",
      " 65%|\u001b[38;2;30;71;6m██████▌   \u001b[0m| 1702/2600 [00:00<00:00, 1873.52it/s]\n",
      " 73%|\u001b[38;2;30;71;6m███████▎  \u001b[0m| 1897/2600 [00:01<00:00, 1895.24it/s]\n",
      " 80%|\u001b[38;2;30;71;6m████████  \u001b[0m| 2087/2600 [00:01<00:00, 1877.14it/s]\n",
      " 88%|\u001b[38;2;30;71;6m████████▊ \u001b[0m| 2280/2600 [00:01<00:00, 1892.10it/s]\n",
      " 95%|\u001b[38;2;30;71;6m█████████▌\u001b[0m| 2471/2600 [00:01<00:00, 1895.77it/s]\n",
      "100%|\u001b[38;2;30;71;6m██████████\u001b[0m| 2600/2600 [00:01<00:00, 1842.63it/s]\n",
      " 39%|\u001b[38;2;30;71;6m███▉      \u001b[0m| 254/651 [00:00<00:00, 2535.96it/s]\n",
      "100%|\u001b[38;2;30;71;6m██████████\u001b[0m| 651/651 [00:00<00:00, 2761.59it/s]\n",
      "\u001b[33m(raylet)\u001b[0m bash: /home/sarmad/anaconda3/lib/libtinfo.so.6: no version information available (required by bash)\n",
      "  0%|\u001b[38;2;30;71;6m          \u001b[0m| 0/651 [00:00<?, ?it/s]\n",
      "\u001b[36m(tune_model pid=975710)\u001b[0m 2025-02-15 17:45:38.322 | INFO     | mads_datasets.base:download_data:121 - Folder already exists at /home/sarmad/.cache/mads_datasets/gestures\n",
      "\u001b[33m(raylet)\u001b[0m bash: /home/sarmad/anaconda3/lib/libtinfo.so.6: no version information available (required by bash)\n",
      "  0%|\u001b[38;2;30;71;6m          \u001b[0m| 0/2600 [00:00<?, ?it/s]\n",
      " 10%|\u001b[38;2;30;71;6m▉         \u001b[0m| 259/2600 [00:00<00:00, 2586.27it/s]\n",
      " 21%|\u001b[38;2;30;71;6m██        \u001b[0m| 543/2600 [00:00<00:00, 2731.54it/s]\n",
      " 31%|\u001b[38;2;30;71;6m███▏      \u001b[0m| 817/2600 [00:00<00:00, 2553.45it/s]\n",
      " 41%|\u001b[38;2;30;71;6m████▏     \u001b[0m| 1074/2600 [00:00<00:00, 2506.80it/s]\n",
      " 51%|\u001b[38;2;30;71;6m█████     \u001b[0m| 1326/2600 [00:00<00:00, 2468.30it/s]\n",
      " 61%|\u001b[38;2;30;71;6m██████    \u001b[0m| 1587/2600 [00:00<00:00, 2512.71it/s]\n",
      " 71%|\u001b[38;2;30;71;6m███████   \u001b[0m| 1839/2600 [00:00<00:00, 2500.36it/s]\n",
      " 80%|\u001b[38;2;30;71;6m████████  \u001b[0m| 2090/2600 [00:00<00:00, 2498.16it/s]\n",
      " 95%|\u001b[38;2;30;71;6m█████████▌\u001b[0m| 2473/2600 [00:00<00:00, 2905.58it/s]\n",
      "100%|\u001b[38;2;30;71;6m██████████\u001b[0m| 2600/2600 [00:00<00:00, 2696.70it/s]\n",
      "  0%|\u001b[38;2;30;71;6m          \u001b[0m| 0/651 [00:00<?, ?it/s]\n",
      " 45%|\u001b[38;2;30;71;6m████▌     \u001b[0m| 294/651 [00:00<00:00, 2902.75it/s]\n",
      " 92%|\u001b[38;2;30;71;6m█████████▏\u001b[0m| 600/651 [00:00<00:00, 2989.79it/s]\n",
      "100%|\u001b[38;2;30;71;6m██████████\u001b[0m| 651/651 [00:00<00:00, 2872.13it/s]\n",
      "  8%|\u001b[38;2;30;71;6m▊         \u001b[0m| 219/2600 [00:00<00:01, 2184.89it/s]\n",
      " 17%|\u001b[38;2;30;71;6m█▋        \u001b[0m| 451/2600 [00:00<00:00, 2263.13it/s]\n",
      " 26%|\u001b[38;2;30;71;6m██▌       \u001b[0m| 678/2600 [00:00<00:00, 2111.75it/s]\n",
      " 35%|\u001b[38;2;30;71;6m███▌      \u001b[0m| 920/2600 [00:00<00:00, 2225.91it/s]\n",
      " 44%|\u001b[38;2;30;71;6m████▍     \u001b[0m| 1144/2600 [00:00<00:00, 2186.07it/s]\n",
      " 54%|\u001b[38;2;30;71;6m█████▎    \u001b[0m| 1391/2600 [00:00<00:00, 2275.66it/s]\n",
      " 62%|\u001b[38;2;30;71;6m██████▏   \u001b[0m| 1620/2600 [00:00<00:00, 2275.43it/s]\n",
      " 72%|\u001b[38;2;30;71;6m███████▏  \u001b[0m| 1863/2600 [00:00<00:00, 2323.66it/s]\n",
      " 81%|\u001b[38;2;30;71;6m████████▏ \u001b[0m| 2114/2600 [00:00<00:00, 2380.80it/s]\n",
      " 92%|\u001b[38;2;30;71;6m█████████▏\u001b[0m| 2384/2600 [00:01<00:00, 2477.61it/s]\n",
      "100%|\u001b[38;2;30;71;6m██████████\u001b[0m| 2600/2600 [00:01<00:00, 2360.10it/s]\n",
      " 39%|\u001b[38;2;30;71;6m███▊      \u001b[0m| 252/651 [00:00<00:00, 2515.47it/s]\n",
      " 77%|\u001b[38;2;30;71;6m███████▋  \u001b[0m| 504/651 [00:00<00:00, 2257.26it/s]\n",
      "100%|\u001b[38;2;30;71;6m██████████\u001b[0m| 651/651 [00:00<00:00, 2258.64it/s]\n",
      "\u001b[33m(raylet)\u001b[0m bash: /home/sarmad/anaconda3/lib/libtinfo.so.6: no version information available (required by bash)\n",
      "\u001b[36m(tune_model pid=975761)\u001b[0m 2025-02-15 17:45:40.880 | INFO     | mads_datasets.base:download_data:121 - Folder already exists at /home/sarmad/.cache/mads_datasets/gestures\n",
      "  0%|\u001b[38;2;30;71;6m          \u001b[0m| 0/651 [00:00<?, ?it/s]\u001b[32m [repeated 2x across cluster]\u001b[0m\n",
      "\u001b[36m(tune_model pid=975863)\u001b[0m 2025-02-15 17:46:07.739 | INFO     | mads_datasets.base:download_data:121 - Folder already exists at /home/sarmad/.cache/mads_datasets/gestures\n",
      "\u001b[33m(raylet)\u001b[0m bash: /home/sarmad/anaconda3/lib/libtinfo.so.6: no version information available (required by bash)\n",
      "  0%|\u001b[38;2;30;71;6m          \u001b[0m| 0/2600 [00:00<?, ?it/s]\n",
      " 10%|\u001b[38;2;30;71;6m▉         \u001b[0m| 249/2600 [00:00<00:00, 2480.93it/s]\n",
      " 19%|\u001b[38;2;30;71;6m█▉        \u001b[0m| 498/2600 [00:00<00:00, 2385.19it/s]\n",
      " 28%|\u001b[38;2;30;71;6m██▊       \u001b[0m| 737/2600 [00:00<00:00, 2301.87it/s]\n",
      " 37%|\u001b[38;2;30;71;6m███▋      \u001b[0m| 971/2600 [00:00<00:00, 2269.89it/s]\n",
      " 46%|\u001b[38;2;30;71;6m████▌     \u001b[0m| 1199/2600 [00:00<00:00, 2200.51it/s]\n",
      " 55%|\u001b[38;2;30;71;6m█████▌    \u001b[0m| 1441/2600 [00:00<00:00, 2271.68it/s]\n",
      " 64%|\u001b[38;2;30;71;6m██████▍   \u001b[0m| 1673/2600 [00:00<00:00, 2285.46it/s]\n",
      " 76%|\u001b[38;2;30;71;6m███████▌  \u001b[0m| 1976/2600 [00:00<00:00, 2516.65it/s]\n",
      " 88%|\u001b[38;2;30;71;6m████████▊ \u001b[0m| 2278/2600 [00:00<00:00, 2671.28it/s]\n",
      "100%|\u001b[38;2;30;71;6m██████████\u001b[0m| 2600/2600 [00:01<00:00, 2522.72it/s]\n",
      "  0%|\u001b[38;2;30;71;6m          \u001b[0m| 0/651 [00:00<?, ?it/s]\n",
      " 41%|\u001b[38;2;30;71;6m████▏     \u001b[0m| 269/651 [00:00<00:00, 2689.37it/s]\n",
      "100%|\u001b[38;2;30;71;6m██████████\u001b[0m| 651/651 [00:00<00:00, 3058.99it/s]\n",
      " 12%|\u001b[38;2;30;71;6m█▏        \u001b[0m| 323/2600 [00:00<00:00, 3225.79it/s]\n",
      " 25%|\u001b[38;2;30;71;6m██▍       \u001b[0m| 646/2600 [00:00<00:00, 3092.19it/s]\n",
      " 37%|\u001b[38;2;30;71;6m███▋      \u001b[0m| 956/2600 [00:00<00:00, 2845.13it/s]\n",
      " 48%|\u001b[38;2;30;71;6m████▊     \u001b[0m| 1243/2600 [00:00<00:00, 2747.69it/s]\n",
      " 59%|\u001b[38;2;30;71;6m█████▉    \u001b[0m| 1530/2600 [00:00<00:00, 2787.09it/s]\n",
      " 70%|\u001b[38;2;30;71;6m██████▉   \u001b[0m| 1810/2600 [00:00<00:00, 2719.61it/s]\n",
      " 80%|\u001b[38;2;30;71;6m████████  \u001b[0m| 2083/2600 [00:00<00:00, 2680.60it/s]\n",
      "100%|\u001b[38;2;30;71;6m██████████\u001b[0m| 2600/2600 [00:00<00:00, 2753.12it/s]\n",
      " 35%|\u001b[38;2;30;71;6m███▌      \u001b[0m| 230/651 [00:00<00:00, 2297.84it/s]\n",
      " 71%|\u001b[38;2;30;71;6m███████   \u001b[0m| 460/651 [00:00<00:00, 2257.61it/s]\n",
      "100%|\u001b[38;2;30;71;6m██████████\u001b[0m| 651/651 [00:00<00:00, 2307.46it/s]\n",
      "\u001b[33m(raylet)\u001b[0m bash: /home/sarmad/anaconda3/lib/libtinfo.so.6: no version information available (required by bash)\n",
      "\u001b[36m(tune_model pid=976945)\u001b[0m 2025-02-15 17:54:25.244 | INFO     | mads_datasets.base:download_data:121 - Folder already exists at /home/sarmad/.cache/mads_datasets/gestures\n",
      "  0%|\u001b[38;2;30;71;6m          \u001b[0m| 0/2600 [00:00<?, ?it/s]\n",
      " 22%|\u001b[38;2;30;71;6m██▏       \u001b[0m| 579/2600 [00:00<00:00, 5783.57it/s]\n",
      " 45%|\u001b[38;2;30;71;6m████▍     \u001b[0m| 1158/2600 [00:00<00:00, 5768.74it/s]\n",
      " 67%|\u001b[38;2;30;71;6m██████▋   \u001b[0m| 1747/2600 [00:00<00:00, 5820.88it/s]\n",
      " 90%|\u001b[38;2;30;71;6m████████▉ \u001b[0m| 2335/2600 [00:00<00:00, 5841.51it/s]\n",
      "100%|\u001b[38;2;30;71;6m██████████\u001b[0m| 2600/2600 [00:00<00:00, 5835.95it/s]\n",
      "  0%|\u001b[38;2;30;71;6m          \u001b[0m| 0/651 [00:00<?, ?it/s]\n",
      "100%|\u001b[38;2;30;71;6m██████████\u001b[0m| 651/651 [00:00<00:00, 5869.43it/s]\n",
      " 22%|\u001b[38;2;30;71;6m██▏       \u001b[0m| 568/2600 [00:00<00:00, 5671.93it/s]\n",
      " 44%|\u001b[38;2;30;71;6m████▍     \u001b[0m| 1144/2600 [00:00<00:00, 5720.08it/s]\n",
      " 66%|\u001b[38;2;30;71;6m██████▌   \u001b[0m| 1717/2600 [00:00<00:00, 5700.24it/s]\n",
      " 88%|\u001b[38;2;30;71;6m████████▊ \u001b[0m| 2293/2600 [00:00<00:00, 5722.66it/s]\n",
      "\u001b[33m(raylet)\u001b[0m bash: /home/sarmad/anaconda3/lib/libtinfo.so.6: no version information available (required by bash)\u001b[32m [repeated 2x across cluster]\u001b[0m\n",
      "100%|\u001b[38;2;30;71;6m██████████\u001b[0m| 2600/2600 [00:00<00:00, 5727.41it/s]\n",
      " 88%|\u001b[38;2;30;71;6m████████▊ \u001b[0m| 572/651 [00:00<00:00, 5710.58it/s]\n",
      "100%|\u001b[38;2;30;71;6m██████████\u001b[0m| 651/651 [00:00<00:00, 5633.47it/s]\n",
      " 18%|\u001b[38;2;30;71;6m█▊        \u001b[0m| 479/2600 [00:00<00:00, 4789.17it/s]\n",
      " 37%|\u001b[38;2;30;71;6m███▋      \u001b[0m| 958/2600 [00:00<00:00, 3966.79it/s]\n",
      " 52%|\u001b[38;2;30;71;6m█████▏    \u001b[0m| 1364/2600 [00:00<00:00, 3763.29it/s]\n",
      " 67%|\u001b[38;2;30;71;6m██████▋   \u001b[0m| 1745/2600 [00:00<00:00, 3670.32it/s]\n",
      " 88%|\u001b[38;2;30;71;6m████████▊ \u001b[0m| 2277/2600 [00:00<00:00, 4214.40it/s]\n",
      "100%|\u001b[38;2;30;71;6m██████████\u001b[0m| 2600/2600 [00:00<00:00, 4193.50it/s]\n",
      "100%|\u001b[38;2;30;71;6m██████████\u001b[0m| 651/651 [00:00<00:00, 5233.48it/s]\n",
      "\u001b[36m(tune_model pid=977048)\u001b[0m 2025-02-15 17:54:29.374 | INFO     | mads_datasets.base:download_data:121 - Folder already exists at /home/sarmad/.cache/mads_datasets/gestures\u001b[32m [repeated 2x across cluster]\u001b[0m\n",
      "  0%|\u001b[38;2;30;71;6m          \u001b[0m| 0/651 [00:00<?, ?it/s]\u001b[32m [repeated 4x across cluster]\u001b[0m\n",
      " 24%|\u001b[38;2;30;71;6m██▍       \u001b[0m| 627/2600 [00:00<00:00, 3136.67it/s]\n",
      " 38%|\u001b[38;2;30;71;6m███▊      \u001b[0m| 976/2600 [00:00<00:00, 3294.12it/s]\n",
      " 50%|\u001b[38;2;30;71;6m█████     \u001b[0m| 1306/2600 [00:00<00:00, 3177.75it/s]\n",
      " 62%|\u001b[38;2;30;71;6m██████▎   \u001b[0m| 1625/2600 [00:00<00:00, 3142.35it/s]\n",
      " 75%|\u001b[38;2;30;71;6m███████▍  \u001b[0m| 1940/2600 [00:00<00:00, 3115.81it/s]\n",
      " 87%|\u001b[38;2;30;71;6m████████▋ \u001b[0m| 2255/2600 [00:00<00:00, 3126.25it/s]\n",
      "\u001b[33m(raylet)\u001b[0m bash: /home/sarmad/anaconda3/lib/libtinfo.so.6: no version information available (required by bash)\u001b[32m [repeated 2x across cluster]\u001b[0m\n",
      "100%|\u001b[38;2;30;71;6m██████████\u001b[0m| 2600/2600 [00:00<00:00, 3198.97it/s]\n",
      " 49%|\u001b[38;2;30;71;6m████▊     \u001b[0m| 317/651 [00:00<00:00, 3166.12it/s]\n",
      "100%|\u001b[38;2;30;71;6m██████████\u001b[0m| 651/651 [00:00<00:00, 3192.64it/s]\n",
      " 19%|\u001b[38;2;30;71;6m█▉        \u001b[0m| 490/2600 [00:00<00:00, 4895.94it/s]\n",
      " 56%|\u001b[38;2;30;71;6m█████▋    \u001b[0m| 1469/2600 [00:00<00:00, 4873.26it/s]\n",
      " 76%|\u001b[38;2;30;71;6m███████▌  \u001b[0m| 1970/2600 [00:00<00:00, 4924.67it/s]\n",
      "\u001b[36m(tune_model pid=977156)\u001b[0m 2025-02-15 17:54:34.868 | INFO     | mads_datasets.base:download_data:121 - Folder already exists at /home/sarmad/.cache/mads_datasets/gestures\u001b[32m [repeated 2x across cluster]\u001b[0m\n",
      " 95%|\u001b[38;2;30;71;6m█████████▍\u001b[0m| 2463/2600 [00:00<00:00, 4794.13it/s]\n",
      "100%|\u001b[38;2;30;71;6m██████████\u001b[0m| 2600/2600 [00:00<00:00, 4797.35it/s]\n",
      "100%|\u001b[38;2;30;71;6m██████████\u001b[0m| 651/651 [00:00<00:00, 4645.01it/s]\n",
      "\u001b[36m(tune_model pid=977048)\u001b[0m *** SIGSEGV received at time=1739609683 on cpu 10 ***\n",
      "\u001b[36m(tune_model pid=977048)\u001b[0m PC: @     0x7e50176cfd8e  (unknown)  ray::gcs::TaskInfoAccessor::AsyncAddTaskEventData()\n",
      "\u001b[36m(tune_model pid=977048)\u001b[0m     @     0x7e5018c45330       3664  (unknown)\n",
      "\u001b[36m(tune_model pid=977048)\u001b[0m     @     0x7e50175b16a5       1392  ray::core::worker::TaskEventBufferImpl::FlushEvents()\n",
      "\u001b[36m(tune_model pid=977048)\u001b[0m     @     0x7e501753a4ac       1488  ray::core::CoreWorker::Disconnect()\n",
      "\u001b[36m(tune_model pid=977048)\u001b[0m     @     0x7e501753a85d       1152  ray::core::CoreWorker::ForceExit()\n",
      "\u001b[36m(tune_model pid=977048)\u001b[0m     @     0x7e501753ac8f       1680  ray::core::CoreWorker::HandleKillActor()\n",
      "\u001b[36m(tune_model pid=977048)\u001b[0m     @     0x7e5017532194        192  ray::rpc::ServerCallImpl<>::HandleRequestImpl()\n",
      "\u001b[36m(tune_model pid=977048)\u001b[0m     @     0x7e50178864c8       1168  EventTracker::RecordExecution()\n",
      "\u001b[36m(tune_model pid=977048)\u001b[0m     @     0x7e501788149e         48  std::_Function_handler<>::_M_invoke()\n",
      "\u001b[36m(tune_model pid=977048)\u001b[0m     @     0x7e5017881916        112  boost::asio::detail::completion_handler<>::do_complete()\n",
      "\u001b[36m(tune_model pid=977048)\u001b[0m     @     0x7e5017f6882b        128  boost::asio::detail::scheduler::do_run_one()\n",
      "\u001b[36m(tune_model pid=977048)\u001b[0m     @     0x7e5017f6a1a9        288  boost::asio::detail::scheduler::run()\n",
      "\u001b[36m(tune_model pid=977048)\u001b[0m     @     0x7e5017f6a8b2         96  boost::asio::io_context::run()\n",
      "\u001b[36m(tune_model pid=977048)\u001b[0m     @     0x7e5017495491       1280  ray::core::CoreWorker::RunIOService()\n",
      "\u001b[36m(tune_model pid=977048)\u001b[0m     @     0x7e5017937df0         64  thread_proxy\n",
      "\u001b[36m(tune_model pid=977048)\u001b[0m     @     0x7e5018c9caa4        176  (unknown)\n",
      "\u001b[36m(tune_model pid=977048)\u001b[0m     @     0x7e5018d29c3c  (unknown)  (unknown)\n",
      "\u001b[36m(tune_model pid=977048)\u001b[0m [2025-02-15 17:54:43,543 E 977048 977081] logging.cc:460: *** SIGSEGV received at time=1739609683 on cpu 10 ***\n",
      "\u001b[36m(tune_model pid=977048)\u001b[0m [2025-02-15 17:54:43,543 E 977048 977081] logging.cc:460: PC: @     0x7e50176cfd8e  (unknown)  ray::gcs::TaskInfoAccessor::AsyncAddTaskEventData()\n",
      "\u001b[36m(tune_model pid=977048)\u001b[0m [2025-02-15 17:54:43,543 E 977048 977081] logging.cc:460:     @     0x7e5018c45330       3664  (unknown)\n",
      "\u001b[36m(tune_model pid=977048)\u001b[0m [2025-02-15 17:54:43,543 E 977048 977081] logging.cc:460:     @     0x7e50175b16a5       1392  ray::core::worker::TaskEventBufferImpl::FlushEvents()\n",
      "\u001b[36m(tune_model pid=977048)\u001b[0m [2025-02-15 17:54:43,543 E 977048 977081] logging.cc:460:     @     0x7e501753a4ac       1488  ray::core::CoreWorker::Disconnect()\n",
      "\u001b[36m(tune_model pid=977048)\u001b[0m [2025-02-15 17:54:43,543 E 977048 977081] logging.cc:460:     @     0x7e501753a85d       1152  ray::core::CoreWorker::ForceExit()\n",
      "\u001b[36m(tune_model pid=977048)\u001b[0m [2025-02-15 17:54:43,543 E 977048 977081] logging.cc:460:     @     0x7e501753ac8f       1680  ray::core::CoreWorker::HandleKillActor()\n",
      "\u001b[36m(tune_model pid=977048)\u001b[0m [2025-02-15 17:54:43,543 E 977048 977081] logging.cc:460:     @     0x7e5017532194        192  ray::rpc::ServerCallImpl<>::HandleRequestImpl()\n",
      "\u001b[36m(tune_model pid=977048)\u001b[0m [2025-02-15 17:54:43,543 E 977048 977081] logging.cc:460:     @     0x7e50178864c8       1168  EventTracker::RecordExecution()\n",
      "\u001b[36m(tune_model pid=977048)\u001b[0m [2025-02-15 17:54:43,543 E 977048 977081] logging.cc:460:     @     0x7e501788149e         48  std::_Function_handler<>::_M_invoke()\n",
      "\u001b[36m(tune_model pid=977048)\u001b[0m [2025-02-15 17:54:43,543 E 977048 977081] logging.cc:460:     @     0x7e5017881916        112  boost::asio::detail::completion_handler<>::do_complete()\n",
      "\u001b[36m(tune_model pid=977048)\u001b[0m [2025-02-15 17:54:43,543 E 977048 977081] logging.cc:460:     @     0x7e5017f6882b        128  boost::asio::detail::scheduler::do_run_one()\n",
      "\u001b[36m(tune_model pid=977048)\u001b[0m [2025-02-15 17:54:43,543 E 977048 977081] logging.cc:460:     @     0x7e5017f6a1a9        288  boost::asio::detail::scheduler::run()\n",
      "\u001b[36m(tune_model pid=977048)\u001b[0m [2025-02-15 17:54:43,543 E 977048 977081] logging.cc:460:     @     0x7e5017f6a8b2         96  boost::asio::io_context::run()\n",
      "\u001b[36m(tune_model pid=977048)\u001b[0m [2025-02-15 17:54:43,543 E 977048 977081] logging.cc:460:     @     0x7e5017495491       1280  ray::core::CoreWorker::RunIOService()\n",
      "\u001b[36m(tune_model pid=977048)\u001b[0m [2025-02-15 17:54:43,543 E 977048 977081] logging.cc:460:     @     0x7e5017937df0         64  thread_proxy\n",
      "\u001b[36m(tune_model pid=977048)\u001b[0m [2025-02-15 17:54:43,543 E 977048 977081] logging.cc:460:     @     0x7e5018c9caa4        176  (unknown)\n",
      "\u001b[36m(tune_model pid=977048)\u001b[0m [2025-02-15 17:54:43,543 E 977048 977081] logging.cc:460:     @     0x7e5018d29c3c  (unknown)  (unknown)\n",
      "\u001b[36m(tune_model pid=977048)\u001b[0m Fatal Python error: Segmentation fault\n",
      "\u001b[36m(tune_model pid=977048)\u001b[0m \n",
      "\u001b[36m(tune_model pid=977048)\u001b[0m \n",
      "\u001b[36m(tune_model pid=977048)\u001b[0m Extension modules: msgpack._cmsgpack, google._upb._message, psutil._psutil_linux, psutil._psutil_posix, setproctitle, yaml._yaml, charset_normalizer.md, requests.packages.charset_normalizer.md, requests.packages.chardet.md, ray._raylet, numpy._core._multiarray_umath, numpy.linalg._umath_linalg, pyarrow.lib, numpy.random._common, numpy.random.bit_generator, numpy.random._bounded_integers, numpy.random._mt19937, numpy.random.mtrand, numpy.random._philox, numpy.random._pcg64, numpy.random._sfc64, numpy.random._generator, pandas._libs.tslibs.ccalendar, pandas._libs.tslibs.np_datetime, pandas._libs.tslibs.dtypes, pandas._libs.tslibs.base, pandas._libs.tslibs.nattype, pandas._libs.tslibs.timezones, pandas._libs.tslibs.fields, pandas._libs.tslibs.timedeltas, pandas._libs.tslibs.tzconversion, pandas._libs.tslibs.timestamps, pandas._libs.properties, pandas._libs.tslibs.offsets, pandas._libs.tslibs.strptime, pandas._libs.tslibs.parsing, pandas._libs.tslibs.conversion, pandas._libs.tslibs.period, pandas._libs.tslibs.vectorized, pandas._libs.ops_dispatch, pandas._libs.missing, pandas._libs.hashtable, pandas._libs.algos, pandas._libs.interval, pandas._libs.lib, pyarrow._compute, pandas._libs.ops, pandas._libs.hashing, pandas._libs.arrays, pandas._libs.tslib, pandas._libs.sparse, pandas._libs.internals, pandas._libs.indexing, pandas._libs.index, pandas._libs.writers, pandas._libs.join, pandas._libs.window.aggregations, pandas._libs.window.indexers, pandas._libs.reshape, pandas._libs.groupby, pandas._libs.json, pandas._libs.parsers, pandas._libs.testing, pyarrow._fs, pyarrow._azurefs, pyarrow._hdfs, pyarrow._gcsfs, pyarrow._s3fs, pyarrow._parquet, torch._C, torch._C._fft, torch._C._linalg, torch._C._nested, torch._C._nn, torch._C._sparse, torch._C._special, pyarrow._json, _cffi_backend, scipy._lib._ccallback_c, scipy.sparse._sparsetools, _csparsetools, scipy.sparse._csparsetools, scipy.linalg._fblas, scipy.linalg._flapack, scipy.linalg.cython_lapack, scipy.linalg._cythonized_array_utils, scipy.linalg._solve_toeplitz, scipy.linalg._decomp_lu_cython, scipy.linalg._matfuncs_sqrtm_triu, scipy.linalg._matfuncs_expm, scipy.linalg._linalg_pythran, scipy.linalg.cython_blas, scipy.linalg._decomp_update, scipy.sparse.linalg._dsolve._superlu, scipy.sparse.linalg._eigen.arpack._arpack, scipy.sparse.linalg._propack._spropack, scipy.sparse.linalg._propack._dpropack, scipy.sparse.linalg._propack._cpropack, scipy.sparse.linalg._propack._zpropack, scipy.sparse.csgraph._tools, scipy.sparse.csgraph._shortest_path, scipy.sparse.csgraph._traversal, scipy.sparse.csgraph._min_spanning_tree, scipy.sparse.csgraph._flow, scipy.sparse.csgraph._matching, scipy.sparse.csgraph._reordering, PIL._imaging (total: 107)\n",
      "  0%|\u001b[38;2;30;71;6m          \u001b[0m| 0/651 [00:00<?, ?it/s]\u001b[32m [repeated 4x across cluster]\u001b[0m\n",
      "\u001b[33m(raylet)\u001b[0m bash: /home/sarmad/anaconda3/lib/libtinfo.so.6: no version information available (required by bash)\n",
      "\u001b[36m(tune_model pid=977524)\u001b[0m 2025-02-15 17:57:18.952 | INFO     | mads_datasets.base:download_data:121 - Folder already exists at /home/sarmad/.cache/mads_datasets/gestures\n",
      "  0%|\u001b[38;2;30;71;6m          \u001b[0m| 0/2600 [00:00<?, ?it/s]\n",
      " 22%|\u001b[38;2;30;71;6m██▏       \u001b[0m| 570/2600 [00:00<00:00, 5688.07it/s]\n",
      " 44%|\u001b[38;2;30;71;6m████▍     \u001b[0m| 1149/2600 [00:00<00:00, 5747.51it/s]\n",
      " 66%|\u001b[38;2;30;71;6m██████▋   \u001b[0m| 1724/2600 [00:00<00:00, 5703.47it/s]\n",
      "100%|\u001b[38;2;30;71;6m██████████\u001b[0m| 2600/2600 [00:00<00:00, 5763.95it/s]\n",
      "  0%|\u001b[38;2;30;71;6m          \u001b[0m| 0/651 [00:00<?, ?it/s]\n",
      "100%|\u001b[38;2;30;71;6m██████████\u001b[0m| 651/651 [00:00<00:00, 5884.87it/s]\n",
      " 16%|\u001b[38;2;30;71;6m█▋        \u001b[0m| 426/2600 [00:00<00:00, 4255.15it/s]\n",
      " 36%|\u001b[38;2;30;71;6m███▋      \u001b[0m| 943/2600 [00:00<00:00, 4790.50it/s]\n",
      " 55%|\u001b[38;2;30;71;6m█████▍    \u001b[0m| 1423/2600 [00:00<00:00, 4762.34it/s]\n",
      "\u001b[33m(raylet)\u001b[0m bash: /home/sarmad/anaconda3/lib/libtinfo.so.6: no version information available (required by bash)\u001b[32m [repeated 2x across cluster]\u001b[0m\n",
      " 73%|\u001b[38;2;30;71;6m███████▎  \u001b[0m| 1900/2600 [00:00<00:00, 3923.58it/s]\n",
      "100%|\u001b[38;2;30;71;6m██████████\u001b[0m| 2600/2600 [00:00<00:00, 4264.85it/s]\n",
      "100%|\u001b[38;2;30;71;6m██████████\u001b[0m| 651/651 [00:00<00:00, 5136.24it/s]\n",
      " 20%|\u001b[38;2;30;71;6m█▉        \u001b[0m| 514/2600 [00:00<00:00, 5132.01it/s]\n",
      " 40%|\u001b[38;2;30;71;6m███▉      \u001b[0m| 1028/2600 [00:00<00:00, 5016.70it/s]\n",
      " 59%|\u001b[38;2;30;71;6m█████▉    \u001b[0m| 1534/2600 [00:00<00:00, 5035.64it/s]\n",
      " 78%|\u001b[38;2;30;71;6m███████▊  \u001b[0m| 2038/2600 [00:00<00:00, 5007.33it/s]\n",
      "100%|\u001b[38;2;30;71;6m██████████\u001b[0m| 2600/2600 [00:00<00:00, 5056.86it/s]\n",
      "\u001b[36m(tune_model pid=977632)\u001b[0m 2025-02-15 17:57:23.457 | INFO     | mads_datasets.base:download_data:121 - Folder already exists at /home/sarmad/.cache/mads_datasets/gestures\u001b[32m [repeated 2x across cluster]\u001b[0m\n",
      " 76%|\u001b[38;2;30;71;6m███████▋  \u001b[0m| 498/651 [00:00<00:00, 4968.25it/s]\n",
      "  0%|\u001b[38;2;30;71;6m          \u001b[0m| 0/651 [00:00<?, ?it/s]\u001b[32m [repeated 4x across cluster]\u001b[0m\n",
      "100%|\u001b[38;2;30;71;6m██████████\u001b[0m| 651/651 [00:00<00:00, 4951.05it/s]\n",
      "\u001b[33m(raylet)\u001b[0m bash: /home/sarmad/anaconda3/lib/libtinfo.so.6: no version information available (required by bash)\u001b[32m [repeated 2x across cluster]\u001b[0m\n",
      " 11%|\u001b[38;2;30;71;6m█         \u001b[0m| 288/2600 [00:00<00:00, 2873.55it/s]\n",
      " 23%|\u001b[38;2;30;71;6m██▎       \u001b[0m| 599/2600 [00:00<00:00, 3011.47it/s]\n",
      " 35%|\u001b[38;2;30;71;6m███▍      \u001b[0m| 908/2600 [00:00<00:00, 3044.47it/s]\n",
      " 47%|\u001b[38;2;30;71;6m████▋     \u001b[0m| 1213/2600 [00:00<00:00, 3015.82it/s]\n",
      " 58%|\u001b[38;2;30;71;6m█████▊    \u001b[0m| 1515/2600 [00:00<00:00, 2965.63it/s]\n",
      " 70%|\u001b[38;2;30;71;6m██████▉   \u001b[0m| 1812/2600 [00:00<00:00, 2919.47it/s]\n",
      " 82%|\u001b[38;2;30;71;6m████████▏ \u001b[0m| 2121/2600 [00:00<00:00, 2971.59it/s]\n",
      " 93%|\u001b[38;2;30;71;6m█████████▎\u001b[0m| 2419/2600 [00:00<00:00, 2891.67it/s]\n",
      "100%|\u001b[38;2;30;71;6m██████████\u001b[0m| 2600/2600 [00:00<00:00, 2922.68it/s]\n",
      " 43%|\u001b[38;2;30;71;6m████▎     \u001b[0m| 282/651 [00:00<00:00, 2818.60it/s]\n",
      "100%|\u001b[38;2;30;71;6m██████████\u001b[0m| 651/651 [00:00<00:00, 3093.14it/s]\n",
      "\u001b[36m(tune_model pid=977743)\u001b[0m 2025-02-15 17:57:30.611 | INFO     | mads_datasets.base:download_data:121 - Folder already exists at /home/sarmad/.cache/mads_datasets/gestures\u001b[32m [repeated 2x across cluster]\u001b[0m\n",
      "  0%|\u001b[38;2;30;71;6m          \u001b[0m| 0/651 [00:00<?, ?it/s]\u001b[32m [repeated 2x across cluster]\u001b[0m\n",
      " 13%|\u001b[38;2;30;71;6m█▎        \u001b[0m| 329/2600 [00:00<00:00, 3267.89it/s]\n",
      " 25%|\u001b[38;2;30;71;6m██▌       \u001b[0m| 656/2600 [00:00<00:00, 2895.81it/s]\n",
      " 36%|\u001b[38;2;30;71;6m███▋      \u001b[0m| 949/2600 [00:00<00:00, 2780.05it/s]\n",
      " 52%|\u001b[38;2;30;71;6m█████▏    \u001b[0m| 1339/2600 [00:00<00:00, 3190.54it/s]\n",
      " 68%|\u001b[38;2;30;71;6m██████▊   \u001b[0m| 1760/2600 [00:00<00:00, 3540.03it/s]\n",
      " 85%|\u001b[38;2;30;71;6m████████▌ \u001b[0m| 2212/2600 [00:00<00:00, 3861.88it/s]\n",
      "100%|\u001b[38;2;30;71;6m██████████\u001b[0m| 2600/2600 [00:00<00:00, 3456.11it/s]\n",
      "\u001b[33m(raylet)\u001b[0m bash: /home/sarmad/anaconda3/lib/libtinfo.so.6: no version information available (required by bash)\n",
      "100%|\u001b[38;2;30;71;6m██████████\u001b[0m| 651/651 [00:00<00:00, 3871.84it/s]\n",
      "\u001b[33m(raylet)\u001b[0m bash: /home/sarmad/anaconda3/lib/libtinfo.so.6: no version information available (required by bash)\n",
      " 16%|\u001b[38;2;30;71;6m█▌        \u001b[0m| 407/2600 [00:00<00:00, 4058.26it/s]\n",
      " 31%|\u001b[38;2;30;71;6m███▏      \u001b[0m| 813/2600 [00:00<00:00, 3998.85it/s]\n",
      " 47%|\u001b[38;2;30;71;6m████▋     \u001b[0m| 1213/2600 [00:00<00:00, 3860.80it/s]\n",
      " 62%|\u001b[38;2;30;71;6m██████▏   \u001b[0m| 1600/2600 [00:00<00:00, 3745.10it/s]\n",
      "\u001b[36m(tune_model pid=977799)\u001b[0m 2025-02-15 17:57:34.986 | INFO     | mads_datasets.base:download_data:121 - Folder already exists at /home/sarmad/.cache/mads_datasets/gestures\n",
      "  0%|\u001b[38;2;30;71;6m          \u001b[0m| 0/2600 [00:00<?, ?it/s]\u001b[32m [repeated 3x across cluster]\u001b[0m\n",
      " 77%|\u001b[38;2;30;71;6m███████▋  \u001b[0m| 2000/2600 [00:00<00:00, 3831.17it/s]\n",
      " 92%|\u001b[38;2;30;71;6m█████████▏\u001b[0m| 2384/2600 [00:00<00:00, 3766.19it/s]\n",
      "100%|\u001b[38;2;30;71;6m██████████\u001b[0m| 2600/2600 [00:00<00:00, 3789.14it/s]\n",
      "100%|\u001b[38;2;30;71;6m██████████\u001b[0m| 651/651 [00:00<00:00, 3874.57it/s]\n",
      "\u001b[33m(raylet)\u001b[0m bash: /home/sarmad/anaconda3/lib/libtinfo.so.6: no version information available (required by bash)\n",
      "\u001b[36m(tune_model pid=977854)\u001b[0m 2025-02-15 17:57:40.536 | INFO     | mads_datasets.base:download_data:121 - Folder already exists at /home/sarmad/.cache/mads_datasets/gestures\n",
      "  0%|\u001b[38;2;30;71;6m          \u001b[0m| 0/2600 [00:00<?, ?it/s]\u001b[32m [repeated 2x across cluster]\u001b[0m\n",
      "  9%|\u001b[38;2;30;71;6m▊         \u001b[0m| 223/2600 [00:00<00:01, 2225.75it/s]\n",
      " 17%|\u001b[38;2;30;71;6m█▋        \u001b[0m| 446/2600 [00:00<00:01, 2046.34it/s]\n",
      " 25%|\u001b[38;2;30;71;6m██▌       \u001b[0m| 652/2600 [00:00<00:00, 2042.82it/s]\n",
      " 35%|\u001b[38;2;30;71;6m███▍      \u001b[0m| 905/2600 [00:00<00:00, 2223.84it/s]\n",
      " 44%|\u001b[38;2;30;71;6m████▍     \u001b[0m| 1156/2600 [00:00<00:00, 2324.06it/s]\n",
      " 54%|\u001b[38;2;30;71;6m█████▍    \u001b[0m| 1413/2600 [00:00<00:00, 2404.59it/s]\n",
      " 73%|\u001b[38;2;30;71;6m███████▎  \u001b[0m| 1901/2600 [00:00<00:00, 2420.90it/s]\n",
      " 84%|\u001b[38;2;30;71;6m████████▎ \u001b[0m| 2176/2600 [00:00<00:00, 2522.51it/s]\n",
      " 93%|\u001b[38;2;30;71;6m█████████▎\u001b[0m| 2430/2600 [00:01<00:00, 2526.31it/s]\n",
      "100%|\u001b[38;2;30;71;6m██████████\u001b[0m| 2600/2600 [00:01<00:00, 2334.85it/s]\n",
      " 27%|\u001b[38;2;30;71;6m██▋       \u001b[0m| 176/651 [00:00<00:00, 1746.26it/s]\n",
      " 73%|\u001b[38;2;30;71;6m███████▎  \u001b[0m| 475/651 [00:00<00:00, 2474.69it/s]\n",
      "100%|\u001b[38;2;30;71;6m██████████\u001b[0m| 651/651 [00:00<00:00, 2384.06it/s]\n",
      "\u001b[36m(tune_model pid=977917)\u001b[0m 2025-02-15 17:57:46.689 | INFO     | mads_datasets.base:download_data:121 - Folder already exists at /home/sarmad/.cache/mads_datasets/gestures\n",
      "  0%|\u001b[38;2;30;71;6m          \u001b[0m| 0/651 [00:00<?, ?it/s]\n",
      "  0%|\u001b[38;2;30;71;6m          \u001b[0m| 0/2600 [00:00<?, ?it/s]\n",
      "  7%|\u001b[38;2;30;71;6m▋         \u001b[0m| 171/2600 [00:00<00:01, 1702.80it/s]\n",
      " 14%|\u001b[38;2;30;71;6m█▍        \u001b[0m| 370/2600 [00:00<00:01, 1870.55it/s]\n",
      " 23%|\u001b[38;2;30;71;6m██▎       \u001b[0m| 588/2600 [00:00<00:01, 2008.88it/s]\n",
      " 30%|\u001b[38;2;30;71;6m███       \u001b[0m| 789/2600 [00:00<00:00, 1912.71it/s]\n",
      " 38%|\u001b[38;2;30;71;6m███▊      \u001b[0m| 981/2600 [00:00<00:00, 1860.91it/s]\n",
      " 49%|\u001b[38;2;30;71;6m████▊     \u001b[0m| 1263/2600 [00:00<00:00, 2172.63it/s]\n",
      " 57%|\u001b[38;2;30;71;6m█████▋    \u001b[0m| 1482/2600 [00:00<00:00, 2122.13it/s]\n",
      " 68%|\u001b[38;2;30;71;6m██████▊   \u001b[0m| 1758/2600 [00:00<00:00, 2310.38it/s]\n",
      " 77%|\u001b[38;2;30;71;6m███████▋  \u001b[0m| 1991/2600 [00:00<00:00, 2247.24it/s]\n",
      " 85%|\u001b[38;2;30;71;6m████████▌ \u001b[0m| 2217/2600 [00:01<00:00, 2083.58it/s]\n",
      " 94%|\u001b[38;2;30;71;6m█████████▍\u001b[0m| 2447/2600 [00:01<00:00, 2141.67it/s]\n",
      "100%|\u001b[38;2;30;71;6m██████████\u001b[0m| 2600/2600 [00:01<00:00, 1999.82it/s]\n",
      "  0%|\u001b[38;2;30;71;6m          \u001b[0m| 0/651 [00:00<?, ?it/s]\n",
      " 26%|\u001b[38;2;30;71;6m██▌       \u001b[0m| 169/651 [00:00<00:00, 1686.36it/s]\n",
      " 87%|\u001b[38;2;30;71;6m████████▋ \u001b[0m| 565/651 [00:00<00:00, 1941.15it/s]\n",
      "100%|\u001b[38;2;30;71;6m██████████\u001b[0m| 651/651 [00:00<00:00, 1884.92it/s]\n",
      "\u001b[33m(raylet)\u001b[0m bash: /home/sarmad/anaconda3/lib/libtinfo.so.6: no version information available (required by bash)\n",
      "\u001b[36m(tune_model pid=978671)\u001b[0m 2025-02-15 18:03:16.209 | INFO     | mads_datasets.base:download_data:121 - Folder already exists at /home/sarmad/.cache/mads_datasets/gestures\n",
      "  0%|\u001b[38;2;30;71;6m          \u001b[0m| 0/2600 [00:00<?, ?it/s]\n",
      " 10%|\u001b[38;2;30;71;6m█         \u001b[0m| 268/2600 [00:00<00:00, 2672.49it/s]\n",
      " 21%|\u001b[38;2;30;71;6m██        \u001b[0m| 536/2600 [00:00<00:00, 2527.57it/s]\n",
      " 30%|\u001b[38;2;30;71;6m███       \u001b[0m| 790/2600 [00:00<00:00, 2441.45it/s]\n",
      " 42%|\u001b[38;2;30;71;6m████▏     \u001b[0m| 1103/2600 [00:00<00:00, 2701.00it/s]\n",
      " 57%|\u001b[38;2;30;71;6m█████▋    \u001b[0m| 1475/2600 [00:00<00:00, 3056.29it/s]\n",
      " 70%|\u001b[38;2;30;71;6m██████▉   \u001b[0m| 1813/2600 [00:00<00:00, 3162.44it/s]\n",
      " 82%|\u001b[38;2;30;71;6m████████▏ \u001b[0m| 2136/2600 [00:00<00:00, 3182.75it/s]\n",
      "100%|\u001b[38;2;30;71;6m██████████\u001b[0m| 2600/2600 [00:01<00:00, 2526.31it/s]\n",
      "  0%|\u001b[38;2;30;71;6m          \u001b[0m| 0/651 [00:00<?, ?it/s]\n",
      " 13%|\u001b[38;2;30;71;6m█▎        \u001b[0m| 82/651 [00:00<00:00, 815.93it/s]\n",
      " 29%|\u001b[38;2;30;71;6m██▉       \u001b[0m| 191/651 [00:00<00:00, 972.20it/s]\n",
      " 60%|\u001b[38;2;30;71;6m██████    \u001b[0m| 393/651 [00:00<00:00, 1445.62it/s]\n",
      " 86%|\u001b[38;2;30;71;6m████████▌ \u001b[0m| 558/651 [00:00<00:00, 1521.34it/s]\n",
      "100%|\u001b[38;2;30;71;6m██████████\u001b[0m| 651/651 [00:00<00:00, 1387.33it/s]\n",
      "\u001b[36m(tune_model pid=978671)\u001b[0m /home/sarmad/anaconda3/envs/conda_kernel/lib/python3.11/site-packages/torch/nn/modules/rnn.py:83: UserWarning: dropout option adds dropout after all but last recurrent layer, so non-zero dropout expects num_layers greater than 1, but got dropout=0.1 and num_layers=1\n",
      "\u001b[36m(tune_model pid=978671)\u001b[0m   warnings.warn(\"dropout option adds dropout after all but last \"\n",
      "\u001b[33m(raylet)\u001b[0m bash: /home/sarmad/anaconda3/lib/libtinfo.so.6: no version information available (required by bash)\n",
      "\u001b[36m(tune_model pid=978839)\u001b[0m 2025-02-15 18:03:38.667 | INFO     | mads_datasets.base:download_data:121 - Folder already exists at /home/sarmad/.cache/mads_datasets/gestures\n",
      "\u001b[33m(raylet)\u001b[0m bash: /home/sarmad/anaconda3/lib/libtinfo.so.6: no version information available (required by bash)\n",
      "  0%|\u001b[38;2;30;71;6m          \u001b[0m| 0/2600 [00:00<?, ?it/s]\n",
      " 10%|\u001b[38;2;30;71;6m▉         \u001b[0m| 248/2600 [00:00<00:00, 2476.32it/s]\n",
      " 19%|\u001b[38;2;30;71;6m█▉        \u001b[0m| 496/2600 [00:00<00:00, 2369.99it/s]\n",
      " 28%|\u001b[38;2;30;71;6m██▊       \u001b[0m| 734/2600 [00:00<00:00, 2100.19it/s]\n",
      " 46%|\u001b[38;2;30;71;6m████▋     \u001b[0m| 1208/2600 [00:00<00:00, 2260.55it/s]\n",
      " 55%|\u001b[38;2;30;71;6m█████▌    \u001b[0m| 1437/2600 [00:00<00:00, 1959.47it/s]\n",
      " 63%|\u001b[38;2;30;71;6m██████▎   \u001b[0m| 1641/2600 [00:00<00:00, 1963.75it/s]\n",
      " 71%|\u001b[38;2;30;71;6m███████   \u001b[0m| 1843/2600 [00:00<00:00, 1910.07it/s]\n",
      " 78%|\u001b[38;2;30;71;6m███████▊  \u001b[0m| 2038/2600 [00:01<00:00, 1673.82it/s]\n",
      " 85%|\u001b[38;2;30;71;6m████████▌ \u001b[0m| 2212/2600 [00:01<00:00, 1669.83it/s]\n",
      " 94%|\u001b[38;2;30;71;6m█████████▎\u001b[0m| 2434/2600 [00:01<00:00, 1816.73it/s]\n",
      "100%|\u001b[38;2;30;71;6m██████████\u001b[0m| 2600/2600 [00:01<00:00, 1887.73it/s]\n",
      "  0%|\u001b[38;2;30;71;6m          \u001b[0m| 0/651 [00:00<?, ?it/s]\n",
      " 25%|\u001b[38;2;30;71;6m██▍       \u001b[0m| 160/651 [00:00<00:00, 1597.45it/s]\n",
      " 49%|\u001b[38;2;30;71;6m████▉     \u001b[0m| 320/651 [00:00<00:00, 1543.01it/s]\n",
      " 84%|\u001b[38;2;30;71;6m████████▍ \u001b[0m| 550/651 [00:00<00:00, 1876.16it/s]\n",
      "100%|\u001b[38;2;30;71;6m██████████\u001b[0m| 651/651 [00:00<00:00, 1829.95it/s]\n",
      "\u001b[36m(tune_model pid=978839)\u001b[0m /home/sarmad/anaconda3/envs/conda_kernel/lib/python3.11/site-packages/torch/nn/modules/rnn.py:83: UserWarning: dropout option adds dropout after all but last recurrent layer, so non-zero dropout expects num_layers greater than 1, but got dropout=0.1 and num_layers=1\n",
      "\u001b[36m(tune_model pid=978839)\u001b[0m   warnings.warn(\"dropout option adds dropout after all but last \"\n",
      "\u001b[36m(tune_model pid=978928)\u001b[0m 2025-02-15 18:03:47.606 | INFO     | mads_datasets.base:download_data:121 - Folder already exists at /home/sarmad/.cache/mads_datasets/gestures\n",
      "  0%|\u001b[38;2;30;71;6m          \u001b[0m| 0/2600 [00:00<?, ?it/s]\n",
      "  9%|\u001b[38;2;30;71;6m▉         \u001b[0m| 232/2600 [00:00<00:01, 2317.28it/s]\n",
      " 18%|\u001b[38;2;30;71;6m█▊        \u001b[0m| 464/2600 [00:00<00:01, 1757.76it/s]\n",
      " 25%|\u001b[38;2;30;71;6m██▍       \u001b[0m| 648/2600 [00:00<00:01, 1528.34it/s]\n",
      " 36%|\u001b[38;2;30;71;6m███▌      \u001b[0m| 925/2600 [00:00<00:00, 1927.70it/s]\n",
      " 44%|\u001b[38;2;30;71;6m████▍     \u001b[0m| 1141/2600 [00:00<00:00, 1998.44it/s]\n",
      " 52%|\u001b[38;2;30;71;6m█████▏    \u001b[0m| 1360/2600 [00:00<00:00, 2054.66it/s]\n",
      " 60%|\u001b[38;2;30;71;6m██████    \u001b[0m| 1572/2600 [00:00<00:00, 2036.67it/s]\n",
      " 68%|\u001b[38;2;30;71;6m██████▊   \u001b[0m| 1780/2600 [00:00<00:00, 2028.48it/s]\n",
      " 76%|\u001b[38;2;30;71;6m███████▋  \u001b[0m| 1987/2600 [00:01<00:00, 2039.62it/s]\n",
      " 84%|\u001b[38;2;30;71;6m████████▍ \u001b[0m| 2193/2600 [00:01<00:00, 1974.31it/s]\n",
      " 92%|\u001b[38;2;30;71;6m█████████▏\u001b[0m| 2393/2600 [00:01<00:00, 1952.42it/s]\n",
      "100%|\u001b[38;2;30;71;6m██████████\u001b[0m| 2600/2600 [00:01<00:00, 1897.46it/s]\n",
      "  0%|\u001b[38;2;30;71;6m          \u001b[0m| 0/651 [00:00<?, ?it/s]\n",
      " 26%|\u001b[38;2;30;71;6m██▌       \u001b[0m| 168/651 [00:00<00:00, 1673.37it/s]\n",
      " 52%|\u001b[38;2;30;71;6m█████▏    \u001b[0m| 336/651 [00:00<00:00, 1417.78it/s]\n",
      " 78%|\u001b[38;2;30;71;6m███████▊  \u001b[0m| 508/651 [00:00<00:00, 1541.37it/s]\n",
      "100%|\u001b[38;2;30;71;6m██████████\u001b[0m| 651/651 [00:00<00:00, 1499.24it/s]\n",
      "\u001b[36m(tune_model pid=978928)\u001b[0m /home/sarmad/anaconda3/envs/conda_kernel/lib/python3.11/site-packages/torch/nn/modules/rnn.py:83: UserWarning: dropout option adds dropout after all but last recurrent layer, so non-zero dropout expects num_layers greater than 1, but got dropout=0.1 and num_layers=1\n",
      "\u001b[36m(tune_model pid=978928)\u001b[0m   warnings.warn(\"dropout option adds dropout after all but last \"\n",
      "\u001b[33m(raylet)\u001b[0m bash: /home/sarmad/anaconda3/lib/libtinfo.so.6: no version information available (required by bash)\n",
      "\u001b[33m(raylet)\u001b[0m bash: /home/sarmad/anaconda3/lib/libtinfo.so.6: no version information available (required by bash)\n",
      "\u001b[36m(tune_model pid=979037)\u001b[0m 2025-02-15 18:04:12.043 | INFO     | mads_datasets.base:download_data:121 - Folder already exists at /home/sarmad/.cache/mads_datasets/gestures\n",
      "  0%|\u001b[38;2;30;71;6m          \u001b[0m| 0/2600 [00:00<?, ?it/s]\n",
      "  9%|\u001b[38;2;30;71;6m▉         \u001b[0m| 242/2600 [00:00<00:00, 2403.68it/s]\n",
      " 21%|\u001b[38;2;30;71;6m██        \u001b[0m| 540/2600 [00:00<00:00, 2740.71it/s]\n",
      " 31%|\u001b[38;2;30;71;6m███▏      \u001b[0m| 815/2600 [00:00<00:00, 2713.26it/s]\n",
      " 43%|\u001b[38;2;30;71;6m████▎     \u001b[0m| 1110/2600 [00:00<00:00, 2803.03it/s]\n",
      " 56%|\u001b[38;2;30;71;6m█████▌    \u001b[0m| 1458/2600 [00:00<00:00, 3042.39it/s]\n",
      " 68%|\u001b[38;2;30;71;6m██████▊   \u001b[0m| 1763/2600 [00:00<00:00, 2417.42it/s]\n",
      " 79%|\u001b[38;2;30;71;6m███████▉  \u001b[0m| 2065/2600 [00:00<00:00, 2584.03it/s]\n",
      " 90%|\u001b[38;2;30;71;6m████████▉ \u001b[0m| 2339/2600 [00:00<00:00, 2523.52it/s]\n",
      "100%|\u001b[38;2;30;71;6m██████████\u001b[0m| 2600/2600 [00:01<00:00, 2581.26it/s]\n",
      "  0%|\u001b[38;2;30;71;6m          \u001b[0m| 0/651 [00:00<?, ?it/s]\n",
      " 35%|\u001b[38;2;30;71;6m███▍      \u001b[0m| 227/651 [00:00<00:00, 2263.36it/s]\n",
      "100%|\u001b[38;2;30;71;6m██████████\u001b[0m| 651/651 [00:00<00:00, 2590.80it/s]\n",
      "\u001b[36m(tune_model pid=979037)\u001b[0m /home/sarmad/anaconda3/envs/conda_kernel/lib/python3.11/site-packages/torch/nn/modules/rnn.py:83: UserWarning: dropout option adds dropout after all but last recurrent layer, so non-zero dropout expects num_layers greater than 1, but got dropout=0.1 and num_layers=1\n",
      "\u001b[36m(tune_model pid=979037)\u001b[0m   warnings.warn(\"dropout option adds dropout after all but last \"\n",
      "\u001b[36m(tune_model pid=979243)\u001b[0m 2025-02-15 18:04:17.509 | INFO     | mads_datasets.base:download_data:121 - Folder already exists at /home/sarmad/.cache/mads_datasets/gestures\n",
      "  0%|\u001b[38;2;30;71;6m          \u001b[0m| 0/2600 [00:00<?, ?it/s]\n",
      " 12%|\u001b[38;2;30;71;6m█▏        \u001b[0m| 304/2600 [00:00<00:00, 3039.07it/s]\n",
      " 25%|\u001b[38;2;30;71;6m██▍       \u001b[0m| 648/2600 [00:00<00:00, 3272.58it/s]\n",
      " 39%|\u001b[38;2;30;71;6m███▉      \u001b[0m| 1016/2600 [00:00<00:00, 3455.80it/s]\n",
      " 52%|\u001b[38;2;30;71;6m█████▏    \u001b[0m| 1362/2600 [00:00<00:00, 3383.04it/s]\n",
      " 65%|\u001b[38;2;30;71;6m██████▌   \u001b[0m| 1701/2600 [00:00<00:00, 3347.17it/s]\n",
      " 78%|\u001b[38;2;30;71;6m███████▊  \u001b[0m| 2036/2600 [00:00<00:00, 2802.04it/s]\n",
      " 90%|\u001b[38;2;30;71;6m████████▉ \u001b[0m| 2329/2600 [00:00<00:00, 2488.97it/s]\n",
      "100%|\u001b[38;2;30;71;6m██████████\u001b[0m| 2600/2600 [00:00<00:00, 2644.99it/s]\n",
      "  0%|\u001b[38;2;30;71;6m          \u001b[0m| 0/651 [00:00<?, ?it/s]\n",
      " 31%|\u001b[38;2;30;71;6m███       \u001b[0m| 199/651 [00:00<00:00, 1985.03it/s]\n",
      " 61%|\u001b[38;2;30;71;6m██████    \u001b[0m| 398/651 [00:00<00:00, 1975.66it/s]\n",
      "100%|\u001b[38;2;30;71;6m██████████\u001b[0m| 651/651 [00:00<00:00, 2082.37it/s]\n",
      "\u001b[36m(tune_model pid=979243)\u001b[0m /home/sarmad/anaconda3/envs/conda_kernel/lib/python3.11/site-packages/torch/nn/modules/rnn.py:83: UserWarning: dropout option adds dropout after all but last recurrent layer, so non-zero dropout expects num_layers greater than 1, but got dropout=0.1 and num_layers=1\n",
      "\u001b[36m(tune_model pid=979243)\u001b[0m   warnings.warn(\"dropout option adds dropout after all but last \"\n",
      "\u001b[33m(raylet)\u001b[0m bash: /home/sarmad/anaconda3/lib/libtinfo.so.6: no version information available (required by bash)\n",
      "\u001b[36m(tune_model pid=979635)\u001b[0m 2025-02-15 18:07:00.672 | INFO     | mads_datasets.base:download_data:121 - Folder already exists at /home/sarmad/.cache/mads_datasets/gestures\n",
      "  0%|\u001b[38;2;30;71;6m          \u001b[0m| 0/2600 [00:00<?, ?it/s]\n",
      " 23%|\u001b[38;2;30;71;6m██▎       \u001b[0m| 593/2600 [00:00<00:00, 5927.28it/s]\n",
      " 46%|\u001b[38;2;30;71;6m████▌     \u001b[0m| 1186/2600 [00:00<00:00, 5777.94it/s]\n",
      " 68%|\u001b[38;2;30;71;6m██████▊   \u001b[0m| 1765/2600 [00:00<00:00, 5736.11it/s]\n",
      "100%|\u001b[38;2;30;71;6m██████████\u001b[0m| 2600/2600 [00:00<00:00, 5806.70it/s]\n",
      "  0%|\u001b[38;2;30;71;6m          \u001b[0m| 0/651 [00:00<?, ?it/s]\n",
      "100%|\u001b[38;2;30;71;6m██████████\u001b[0m| 651/651 [00:00<00:00, 5882.64it/s]\n",
      " 21%|\u001b[38;2;30;71;6m██        \u001b[0m| 547/2600 [00:00<00:00, 5463.51it/s]\n",
      " 42%|\u001b[38;2;30;71;6m████▏     \u001b[0m| 1094/2600 [00:00<00:00, 5428.67it/s]\n",
      " 63%|\u001b[38;2;30;71;6m██████▎   \u001b[0m| 1637/2600 [00:00<00:00, 5152.20it/s]\n",
      "\u001b[33m(raylet)\u001b[0m bash: /home/sarmad/anaconda3/lib/libtinfo.so.6: no version information available (required by bash)\u001b[32m [repeated 2x across cluster]\u001b[0m\n",
      " 84%|\u001b[38;2;30;71;6m████████▍ \u001b[0m| 2181/2600 [00:00<00:00, 5261.69it/s]\n",
      "100%|\u001b[38;2;30;71;6m██████████\u001b[0m| 2600/2600 [00:00<00:00, 5333.65it/s]\n",
      "100%|\u001b[38;2;30;71;6m██████████\u001b[0m| 651/651 [00:00<00:00, 5462.81it/s]\n",
      " 19%|\u001b[38;2;30;71;6m█▉        \u001b[0m| 488/2600 [00:00<00:00, 4871.13it/s]\n",
      " 39%|\u001b[38;2;30;71;6m███▊      \u001b[0m| 1003/2600 [00:00<00:00, 5033.45it/s]\n",
      " 58%|\u001b[38;2;30;71;6m█████▊    \u001b[0m| 1507/2600 [00:00<00:00, 4948.34it/s]\n",
      " 77%|\u001b[38;2;30;71;6m███████▋  \u001b[0m| 2003/2600 [00:00<00:00, 4952.19it/s]\n",
      "100%|\u001b[38;2;30;71;6m██████████\u001b[0m| 2600/2600 [00:00<00:00, 4944.55it/s]\n",
      " 82%|\u001b[38;2;30;71;6m████████▏ \u001b[0m| 534/651 [00:00<00:00, 5332.19it/s]\n",
      "\u001b[36m(tune_model pid=979740)\u001b[0m 2025-02-15 18:07:04.934 | INFO     | mads_datasets.base:download_data:121 - Folder already exists at /home/sarmad/.cache/mads_datasets/gestures\u001b[32m [repeated 2x across cluster]\u001b[0m\n",
      "100%|\u001b[38;2;30;71;6m██████████\u001b[0m| 651/651 [00:00<00:00, 5295.19it/s]\n",
      "  0%|\u001b[38;2;30;71;6m          \u001b[0m| 0/651 [00:00<?, ?it/s]\u001b[32m [repeated 4x across cluster]\u001b[0m\n",
      "  6%|\u001b[38;2;30;71;6m▌         \u001b[0m| 147/2600 [00:00<00:01, 1458.35it/s]\n",
      " 11%|\u001b[38;2;30;71;6m█▏        \u001b[0m| 293/2600 [00:00<00:01, 1242.67it/s]\n",
      " 21%|\u001b[38;2;30;71;6m██        \u001b[0m| 548/2600 [00:00<00:01, 1786.13it/s]\n",
      "\u001b[33m(raylet)\u001b[0m bash: /home/sarmad/anaconda3/lib/libtinfo.so.6: no version information available (required by bash)\u001b[32m [repeated 2x across cluster]\u001b[0m\n",
      " 33%|\u001b[38;2;30;71;6m███▎      \u001b[0m| 856/2600 [00:00<00:00, 2266.26it/s]\n",
      " 48%|\u001b[38;2;30;71;6m████▊     \u001b[0m| 1238/2600 [00:00<00:00, 2804.11it/s]\n",
      " 64%|\u001b[38;2;30;71;6m██████▍   \u001b[0m| 1662/2600 [00:00<00:00, 3278.67it/s]\n",
      " 79%|\u001b[38;2;30;71;6m███████▉  \u001b[0m| 2059/2600 [00:00<00:00, 3499.73it/s]\n",
      "100%|\u001b[38;2;30;71;6m██████████\u001b[0m| 2600/2600 [00:00<00:00, 3018.51it/s]\n",
      "100%|\u001b[38;2;30;71;6m██████████\u001b[0m| 651/651 [00:00<00:00, 4618.45it/s]\n",
      "\u001b[36m(tune_model pid=979848)\u001b[0m 2025-02-15 18:07:11.165 | INFO     | mads_datasets.base:download_data:121 - Folder already exists at /home/sarmad/.cache/mads_datasets/gestures\u001b[32m [repeated 2x across cluster]\u001b[0m\n",
      "  0%|\u001b[38;2;30;71;6m          \u001b[0m| 0/651 [00:00<?, ?it/s]\u001b[32m [repeated 2x across cluster]\u001b[0m\n",
      " 16%|\u001b[38;2;30;71;6m█▌        \u001b[0m| 415/2600 [00:00<00:00, 4138.44it/s]\n",
      " 33%|\u001b[38;2;30;71;6m███▎      \u001b[0m| 851/2600 [00:00<00:00, 4264.81it/s]\n",
      " 49%|\u001b[38;2;30;71;6m████▉     \u001b[0m| 1278/2600 [00:00<00:00, 3771.96it/s]\n",
      " 64%|\u001b[38;2;30;71;6m██████▍   \u001b[0m| 1662/2600 [00:00<00:00, 3744.96it/s]\n",
      " 78%|\u001b[38;2;30;71;6m███████▊  \u001b[0m| 2040/2600 [00:00<00:00, 3329.93it/s]\n",
      " 92%|\u001b[38;2;30;71;6m█████████▏\u001b[0m| 2381/2600 [00:00<00:00, 3157.87it/s]\n",
      "100%|\u001b[38;2;30;71;6m██████████\u001b[0m| 2600/2600 [00:00<00:00, 3380.21it/s]\n",
      "100%|\u001b[38;2;30;71;6m██████████\u001b[0m| 651/651 [00:00<00:00, 3782.59it/s]\n",
      "\u001b[33m(raylet)\u001b[0m bash: /home/sarmad/anaconda3/lib/libtinfo.so.6: no version information available (required by bash)\n",
      "  0%|\u001b[38;2;30;71;6m          \u001b[0m| 0/651 [00:00<?, ?it/s]\u001b[32m [repeated 2x across cluster]\u001b[0m\n",
      "\u001b[33m(raylet)\u001b[0m bash: /home/sarmad/anaconda3/lib/libtinfo.so.6: no version information available (required by bash)\n",
      "\u001b[36m(tune_model pid=980185)\u001b[0m 2025-02-15 18:09:59.102 | INFO     | mads_datasets.base:download_data:121 - Folder already exists at /home/sarmad/.cache/mads_datasets/gestures\n",
      " 21%|\u001b[38;2;30;71;6m██        \u001b[0m| 549/2600 [00:00<00:00, 5480.99it/s]\n",
      " 64%|\u001b[38;2;30;71;6m██████▎   \u001b[0m| 1654/2600 [00:00<00:00, 5513.85it/s]\n",
      " 86%|\u001b[38;2;30;71;6m████████▌ \u001b[0m| 2242/2600 [00:00<00:00, 5658.16it/s]\n",
      "100%|\u001b[38;2;30;71;6m██████████\u001b[0m| 2600/2600 [00:00<00:00, 5622.81it/s]\n",
      "100%|\u001b[38;2;30;71;6m██████████\u001b[0m| 651/651 [00:00<00:00, 5824.66it/s]\n",
      " 21%|\u001b[38;2;30;71;6m██        \u001b[0m| 551/2600 [00:00<00:00, 5508.32it/s]\n",
      " 43%|\u001b[38;2;30;71;6m████▎     \u001b[0m| 1115/2600 [00:00<00:00, 5583.42it/s]\n",
      "  0%|\u001b[38;2;30;71;6m          \u001b[0m| 0/2600 [00:00<?, ?it/s]\u001b[32m [repeated 3x across cluster]\u001b[0m\n",
      " 65%|\u001b[38;2;30;71;6m██████▍   \u001b[0m| 1687/2600 [00:00<00:00, 5643.61it/s]\n",
      " 87%|\u001b[38;2;30;71;6m████████▋ \u001b[0m| 2252/2600 [00:00<00:00, 5464.67it/s]\n",
      "100%|\u001b[38;2;30;71;6m██████████\u001b[0m| 2600/2600 [00:00<00:00, 5442.20it/s]\n",
      " 84%|\u001b[38;2;30;71;6m████████▍ \u001b[0m| 547/651 [00:00<00:00, 5468.47it/s]\n",
      "100%|\u001b[38;2;30;71;6m██████████\u001b[0m| 651/651 [00:00<00:00, 5454.67it/s]\n",
      "\u001b[33m(raylet)\u001b[0m bash: /home/sarmad/anaconda3/lib/libtinfo.so.6: no version information available (required by bash)\u001b[32m [repeated 2x across cluster]\u001b[0m\n",
      " 18%|\u001b[38;2;30;71;6m█▊        \u001b[0m| 469/2600 [00:00<00:00, 4684.13it/s]\n",
      " 38%|\u001b[38;2;30;71;6m███▊      \u001b[0m| 998/2600 [00:00<00:00, 5035.02it/s]\n",
      "\u001b[36m(tune_model pid=980294)\u001b[0m 2025-02-15 18:10:03.725 | INFO     | mads_datasets.base:download_data:121 - Folder already exists at /home/sarmad/.cache/mads_datasets/gestures\u001b[32m [repeated 2x across cluster]\u001b[0m\n",
      " 58%|\u001b[38;2;30;71;6m█████▊    \u001b[0m| 1502/2600 [00:00<00:00, 5002.51it/s]\n",
      " 77%|\u001b[38;2;30;71;6m███████▋  \u001b[0m| 2003/2600 [00:00<00:00, 5003.96it/s]\n",
      "100%|\u001b[38;2;30;71;6m██████████\u001b[0m| 2600/2600 [00:00<00:00, 4964.06it/s]\n",
      "100%|\u001b[38;2;30;71;6m██████████\u001b[0m| 651/651 [00:00<00:00, 5129.25it/s]\n",
      "  0%|\u001b[38;2;30;71;6m          \u001b[0m| 0/651 [00:00<?, ?it/s]\u001b[32m [repeated 3x across cluster]\u001b[0m\n",
      " 18%|\u001b[38;2;30;71;6m█▊        \u001b[0m| 455/2600 [00:00<00:00, 4549.00it/s]\n",
      " 35%|\u001b[38;2;30;71;6m███▌      \u001b[0m| 910/2600 [00:00<00:00, 4511.85it/s]\n",
      " 52%|\u001b[38;2;30;71;6m█████▏    \u001b[0m| 1363/2600 [00:00<00:00, 4518.99it/s]\n",
      " 70%|\u001b[38;2;30;71;6m██████▉   \u001b[0m| 1815/2600 [00:00<00:00, 3879.93it/s]\n",
      " 85%|\u001b[38;2;30;71;6m████████▌ \u001b[0m| 2215/2600 [00:00<00:00, 3294.55it/s]\n",
      "100%|\u001b[38;2;30;71;6m██████████\u001b[0m| 2600/2600 [00:00<00:00, 3697.77it/s]\n",
      " 63%|\u001b[38;2;30;71;6m██████▎   \u001b[0m| 411/651 [00:00<00:00, 4109.41it/s]\n",
      "100%|\u001b[38;2;30;71;6m██████████\u001b[0m| 651/651 [00:00<00:00, 4137.28it/s]\n",
      "\u001b[33m(raylet)\u001b[0m bash: /home/sarmad/anaconda3/lib/libtinfo.so.6: no version information available (required by bash)\u001b[32m [repeated 2x across cluster]\u001b[0m\n",
      "\u001b[36m(tune_model pid=980402)\u001b[0m 2025-02-15 18:10:10.995 | INFO     | mads_datasets.base:download_data:121 - Folder already exists at /home/sarmad/.cache/mads_datasets/gestures\u001b[32m [repeated 2x across cluster]\u001b[0m\n",
      " 15%|\u001b[38;2;30;71;6m█▌        \u001b[0m| 401/2600 [00:00<00:00, 4003.58it/s]\n",
      " 31%|\u001b[38;2;30;71;6m███       \u001b[0m| 802/2600 [00:00<00:00, 3813.93it/s]\n",
      " 47%|\u001b[38;2;30;71;6m████▋     \u001b[0m| 1220/2600 [00:00<00:00, 3975.23it/s]\n",
      " 63%|\u001b[38;2;30;71;6m██████▎   \u001b[0m| 1637/2600 [00:00<00:00, 4049.75it/s]\n",
      " 79%|\u001b[38;2;30;71;6m███████▊  \u001b[0m| 2043/2600 [00:00<00:00, 3990.42it/s]\n",
      "  0%|\u001b[38;2;30;71;6m          \u001b[0m| 0/2600 [00:00<?, ?it/s]\u001b[32m [repeated 3x across cluster]\u001b[0m\n",
      "100%|\u001b[38;2;30;71;6m██████████\u001b[0m| 2600/2600 [00:00<00:00, 4038.67it/s]\n",
      " 60%|\u001b[38;2;30;71;6m██████    \u001b[0m| 392/651 [00:00<00:00, 3915.68it/s]\n",
      "100%|\u001b[38;2;30;71;6m██████████\u001b[0m| 651/651 [00:00<00:00, 4008.67it/s]\n",
      "\u001b[33m(raylet)\u001b[0m bash: /home/sarmad/anaconda3/lib/libtinfo.so.6: no version information available (required by bash)\n",
      " 14%|\u001b[38;2;30;71;6m█▍        \u001b[0m| 371/2600 [00:00<00:00, 3701.58it/s]\n",
      "\u001b[36m(tune_model pid=980469)\u001b[0m 2025-02-15 18:10:15.560 | INFO     | mads_datasets.base:download_data:121 - Folder already exists at /home/sarmad/.cache/mads_datasets/gestures\n",
      " 30%|\u001b[38;2;30;71;6m██▉       \u001b[0m| 771/2600 [00:00<00:00, 3870.60it/s]\n",
      " 59%|\u001b[38;2;30;71;6m█████▉    \u001b[0m| 1542/2600 [00:00<00:00, 3779.39it/s]\n",
      " 74%|\u001b[38;2;30;71;6m███████▍  \u001b[0m| 1921/2600 [00:00<00:00, 3724.22it/s]\n",
      " 88%|\u001b[38;2;30;71;6m████████▊ \u001b[0m| 2294/2600 [00:00<00:00, 3682.63it/s]\n",
      "100%|\u001b[38;2;30;71;6m██████████\u001b[0m| 2600/2600 [00:00<00:00, 3727.08it/s]\n",
      " 59%|\u001b[38;2;30;71;6m█████▊    \u001b[0m| 381/651 [00:00<00:00, 3800.91it/s]\n",
      "100%|\u001b[38;2;30;71;6m██████████\u001b[0m| 651/651 [00:00<00:00, 3712.77it/s]\n",
      "  0%|\u001b[38;2;30;71;6m          \u001b[0m| 0/651 [00:00<?, ?it/s]\u001b[32m [repeated 3x across cluster]\u001b[0m\n",
      "\u001b[33m(raylet)\u001b[0m bash: /home/sarmad/anaconda3/lib/libtinfo.so.6: no version information available (required by bash)\n",
      "\u001b[36m(tune_model pid=980525)\u001b[0m 2025-02-15 18:10:20.163 | INFO     | mads_datasets.base:download_data:121 - Folder already exists at /home/sarmad/.cache/mads_datasets/gestures\n",
      "  8%|\u001b[38;2;30;71;6m▊         \u001b[0m| 221/2600 [00:00<00:01, 2209.70it/s]\n",
      " 17%|\u001b[38;2;30;71;6m█▋        \u001b[0m| 452/2600 [00:00<00:00, 2268.50it/s]\n",
      " 26%|\u001b[38;2;30;71;6m██▌       \u001b[0m| 679/2600 [00:00<00:00, 2204.37it/s]\n",
      " 44%|\u001b[38;2;30;71;6m████▎     \u001b[0m| 1136/2600 [00:00<00:00, 2222.76it/s]\n",
      " 54%|\u001b[38;2;30;71;6m█████▍    \u001b[0m| 1398/2600 [00:00<00:00, 2355.10it/s]\n",
      " 63%|\u001b[38;2;30;71;6m██████▎   \u001b[0m| 1635/2600 [00:00<00:00, 2258.07it/s]\n",
      " 72%|\u001b[38;2;30;71;6m███████▏  \u001b[0m| 1862/2600 [00:00<00:00, 2218.15it/s]\n",
      " 82%|\u001b[38;2;30;71;6m████████▏ \u001b[0m| 2124/2600 [00:00<00:00, 2336.58it/s]\n",
      " 92%|\u001b[38;2;30;71;6m█████████▎\u001b[0m| 2405/2600 [00:01<00:00, 2475.43it/s]\n",
      "100%|\u001b[38;2;30;71;6m██████████\u001b[0m| 2600/2600 [00:01<00:00, 2305.61it/s]\n",
      " 31%|\u001b[38;2;30;71;6m███       \u001b[0m| 199/651 [00:00<00:00, 1983.86it/s]\n",
      "100%|\u001b[38;2;30;71;6m██████████\u001b[0m| 651/651 [00:00<00:00, 2308.32it/s]\n",
      "  0%|\u001b[38;2;30;71;6m          \u001b[0m| 0/651 [00:00<?, ?it/s]\u001b[32m [repeated 2x across cluster]\u001b[0m\n",
      "\u001b[36m(tune_model pid=980579)\u001b[0m 2025-02-15 18:10:26.369 | INFO     | mads_datasets.base:download_data:121 - Folder already exists at /home/sarmad/.cache/mads_datasets/gestures\n",
      " 10%|\u001b[38;2;30;71;6m▉         \u001b[0m| 255/2600 [00:00<00:00, 2539.83it/s]\n",
      " 20%|\u001b[38;2;30;71;6m█▉        \u001b[0m| 509/2600 [00:00<00:00, 2355.96it/s]\n",
      "  0%|\u001b[38;2;30;71;6m          \u001b[0m| 0/2600 [00:00<?, ?it/s]\n",
      " 29%|\u001b[38;2;30;71;6m██▊       \u001b[0m| 746/2600 [00:00<00:00, 2202.08it/s]\n",
      " 38%|\u001b[38;2;30;71;6m███▊      \u001b[0m| 996/2600 [00:00<00:00, 2305.31it/s]\n",
      " 47%|\u001b[38;2;30;71;6m████▋     \u001b[0m| 1228/2600 [00:00<00:00, 2104.84it/s]\n",
      " 55%|\u001b[38;2;30;71;6m█████▌    \u001b[0m| 1442/2600 [00:00<00:00, 1704.55it/s]\n",
      " 63%|\u001b[38;2;30;71;6m██████▎   \u001b[0m| 1637/2600 [00:00<00:00, 1767.42it/s]\n",
      " 70%|\u001b[38;2;30;71;6m███████   \u001b[0m| 1823/2600 [00:01<00:00, 1353.42it/s]\n",
      " 77%|\u001b[38;2;30;71;6m███████▋  \u001b[0m| 2002/2600 [00:01<00:00, 1451.80it/s]\n",
      " 83%|\u001b[38;2;30;71;6m████████▎ \u001b[0m| 2167/2600 [00:01<00:00, 1500.12it/s]\n",
      " 90%|\u001b[38;2;30;71;6m████████▉ \u001b[0m| 2330/2600 [00:01<00:00, 910.22it/s] \n",
      " 95%|\u001b[38;2;30;71;6m█████████▌\u001b[0m| 2482/2600 [00:01<00:00, 1019.16it/s]\n",
      "100%|\u001b[38;2;30;71;6m██████████\u001b[0m| 2600/2600 [00:01<00:00, 1451.91it/s]\n",
      "  0%|\u001b[38;2;30;71;6m          \u001b[0m| 0/651 [00:00<?, ?it/s]\n",
      " 39%|\u001b[38;2;30;71;6m███▉      \u001b[0m| 257/651 [00:00<00:00, 2556.03it/s]\n",
      "100%|\u001b[38;2;30;71;6m██████████\u001b[0m| 651/651 [00:00<00:00, 2185.15it/s]\n",
      "\u001b[33m(raylet)\u001b[0m bash: /home/sarmad/anaconda3/lib/libtinfo.so.6: no version information available (required by bash)\n",
      "\u001b[36m(tune_model pid=981039)\u001b[0m 2025-02-15 18:14:35.975 | INFO     | mads_datasets.base:download_data:121 - Folder already exists at /home/sarmad/.cache/mads_datasets/gestures\n",
      "  0%|\u001b[38;2;30;71;6m          \u001b[0m| 0/2600 [00:00<?, ?it/s]\n",
      "  7%|\u001b[38;2;30;71;6m▋         \u001b[0m| 192/2600 [00:00<00:01, 1919.19it/s]\n",
      " 15%|\u001b[38;2;30;71;6m█▍        \u001b[0m| 384/2600 [00:00<00:01, 1770.44it/s]\n",
      " 22%|\u001b[38;2;30;71;6m██▏       \u001b[0m| 562/2600 [00:00<00:01, 1582.30it/s]\n",
      " 30%|\u001b[38;2;30;71;6m███       \u001b[0m| 787/2600 [00:00<00:00, 1818.71it/s]\n",
      " 38%|\u001b[38;2;30;71;6m███▊      \u001b[0m| 981/2600 [00:00<00:00, 1858.61it/s]\n",
      " 47%|\u001b[38;2;30;71;6m████▋     \u001b[0m| 1211/2600 [00:00<00:00, 2000.32it/s]\n",
      " 56%|\u001b[38;2;30;71;6m█████▌    \u001b[0m| 1444/2600 [00:00<00:00, 2103.63it/s]\n",
      " 64%|\u001b[38;2;30;71;6m██████▎   \u001b[0m| 1657/2600 [00:00<00:00, 2098.70it/s]\n",
      " 73%|\u001b[38;2;30;71;6m███████▎  \u001b[0m| 1907/2600 [00:00<00:00, 2219.99it/s]\n",
      " 83%|\u001b[38;2;30;71;6m████████▎ \u001b[0m| 2149/2600 [00:01<00:00, 2279.46it/s]\n",
      " 91%|\u001b[38;2;30;71;6m█████████▏\u001b[0m| 2378/2600 [00:01<00:00, 2068.42it/s]\n",
      "100%|\u001b[38;2;30;71;6m██████████\u001b[0m| 2600/2600 [00:01<00:00, 1986.09it/s]\n",
      "  0%|\u001b[38;2;30;71;6m          \u001b[0m| 0/651 [00:00<?, ?it/s]\n",
      " 25%|\u001b[38;2;30;71;6m██▍       \u001b[0m| 162/651 [00:00<00:00, 1606.13it/s]\n",
      " 52%|\u001b[38;2;30;71;6m█████▏    \u001b[0m| 339/651 [00:00<00:00, 1698.77it/s]\n",
      "100%|\u001b[38;2;30;71;6m██████████\u001b[0m| 651/651 [00:00<00:00, 1729.07it/s]\n",
      "\u001b[33m(raylet)\u001b[0m bash: /home/sarmad/anaconda3/lib/libtinfo.so.6: no version information available (required by bash)\n",
      "\u001b[36m(tune_model pid=981169)\u001b[0m 2025-02-15 18:15:22.619 | INFO     | mads_datasets.base:download_data:121 - Folder already exists at /home/sarmad/.cache/mads_datasets/gestures\n",
      "  0%|\u001b[38;2;30;71;6m          \u001b[0m| 0/2600 [00:00<?, ?it/s]\n",
      " 15%|\u001b[38;2;30;71;6m█▍        \u001b[0m| 386/2600 [00:00<00:00, 3855.87it/s]\n",
      " 30%|\u001b[38;2;30;71;6m███       \u001b[0m| 781/2600 [00:00<00:00, 3909.34it/s]\n",
      " 45%|\u001b[38;2;30;71;6m████▌     \u001b[0m| 1172/2600 [00:00<00:00, 3807.97it/s]\n",
      " 60%|\u001b[38;2;30;71;6m██████    \u001b[0m| 1568/2600 [00:00<00:00, 3864.52it/s]\n",
      " 76%|\u001b[38;2;30;71;6m███████▌  \u001b[0m| 1969/2600 [00:00<00:00, 3914.64it/s]\n",
      " 91%|\u001b[38;2;30;71;6m█████████ \u001b[0m| 2361/2600 [00:00<00:00, 3889.01it/s]\n",
      "100%|\u001b[38;2;30;71;6m██████████\u001b[0m| 2600/2600 [00:00<00:00, 3821.12it/s]\n",
      "  0%|\u001b[38;2;30;71;6m          \u001b[0m| 0/651 [00:00<?, ?it/s]\n",
      " 39%|\u001b[38;2;30;71;6m███▉      \u001b[0m| 254/651 [00:00<00:00, 2532.10it/s]\n",
      "100%|\u001b[38;2;30;71;6m██████████\u001b[0m| 651/651 [00:00<00:00, 2952.97it/s]\n",
      "\u001b[33m(raylet)\u001b[0m bash: /home/sarmad/anaconda3/lib/libtinfo.so.6: no version information available (required by bash)\n",
      "\u001b[36m(tune_model pid=981271)\u001b[0m 2025-02-15 18:16:09.673 | INFO     | mads_datasets.base:download_data:121 - Folder already exists at /home/sarmad/.cache/mads_datasets/gestures\n",
      "  0%|\u001b[38;2;30;71;6m          \u001b[0m| 0/2600 [00:00<?, ?it/s]\n",
      " 16%|\u001b[38;2;30;71;6m█▌        \u001b[0m| 417/2600 [00:00<00:00, 4167.90it/s]\n",
      "\u001b[33m(raylet)\u001b[0m bash: /home/sarmad/anaconda3/lib/libtinfo.so.6: no version information available (required by bash)\n",
      " 32%|\u001b[38;2;30;71;6m███▏      \u001b[0m| 834/2600 [00:00<00:00, 4165.56it/s]\n",
      " 48%|\u001b[38;2;30;71;6m████▊     \u001b[0m| 1251/2600 [00:00<00:00, 4099.34it/s]\n",
      " 64%|\u001b[38;2;30;71;6m██████▍   \u001b[0m| 1662/2600 [00:00<00:00, 3929.14it/s]\n",
      " 80%|\u001b[38;2;30;71;6m███████▉  \u001b[0m| 2072/2600 [00:00<00:00, 3986.55it/s]\n",
      "100%|\u001b[38;2;30;71;6m██████████\u001b[0m| 2600/2600 [00:00<00:00, 4017.89it/s]\n",
      "  0%|\u001b[38;2;30;71;6m          \u001b[0m| 0/651 [00:00<?, ?it/s]\n",
      " 59%|\u001b[38;2;30;71;6m█████▉    \u001b[0m| 386/651 [00:00<00:00, 3849.65it/s]\n",
      "100%|\u001b[38;2;30;71;6m██████████\u001b[0m| 651/651 [00:00<00:00, 3915.68it/s]\n",
      "\u001b[36m(tune_model pid=981345)\u001b[0m 2025-02-15 18:16:18.352 | INFO     | mads_datasets.base:download_data:121 - Folder already exists at /home/sarmad/.cache/mads_datasets/gestures\n",
      "  8%|\u001b[38;2;30;71;6m▊         \u001b[0m| 209/2600 [00:00<00:01, 2086.49it/s]\n",
      " 16%|\u001b[38;2;30;71;6m█▌        \u001b[0m| 418/2600 [00:00<00:01, 2069.90it/s]\n",
      " 24%|\u001b[38;2;30;71;6m██▍       \u001b[0m| 625/2600 [00:00<00:01, 1921.09it/s]\n",
      " 32%|\u001b[38;2;30;71;6m███▏      \u001b[0m| 819/2600 [00:00<00:00, 1828.42it/s]\n",
      " 39%|\u001b[38;2;30;71;6m███▊      \u001b[0m| 1003/2600 [00:00<00:00, 1796.45it/s]\n",
      " 46%|\u001b[38;2;30;71;6m████▌     \u001b[0m| 1184/2600 [00:00<00:00, 1764.25it/s]\n",
      " 52%|\u001b[38;2;30;71;6m█████▏    \u001b[0m| 1361/2600 [00:00<00:00, 1730.92it/s]\n",
      " 59%|\u001b[38;2;30;71;6m█████▉    \u001b[0m| 1535/2600 [00:00<00:00, 1694.59it/s]\n",
      " 66%|\u001b[38;2;30;71;6m██████▌   \u001b[0m| 1705/2600 [00:00<00:00, 1656.15it/s]\n",
      " 72%|\u001b[38;2;30;71;6m███████▏  \u001b[0m| 1871/2600 [00:01<00:00, 1640.83it/s]\n",
      " 78%|\u001b[38;2;30;71;6m███████▊  \u001b[0m| 2036/2600 [00:01<00:00, 1574.90it/s]\n",
      " 84%|\u001b[38;2;30;71;6m████████▍ \u001b[0m| 2194/2600 [00:01<00:00, 1505.30it/s]\n",
      " 90%|\u001b[38;2;30;71;6m█████████ \u001b[0m| 2346/2600 [00:01<00:00, 1482.50it/s]\n",
      " 96%|\u001b[38;2;30;71;6m█████████▌\u001b[0m| 2495/2600 [00:01<00:00, 1410.71it/s]\n",
      "100%|\u001b[38;2;30;71;6m██████████\u001b[0m| 2600/2600 [00:01<00:00, 1622.22it/s]\n",
      "  0%|\u001b[38;2;30;71;6m          \u001b[0m| 0/651 [00:00<?, ?it/s]\n",
      " 21%|\u001b[38;2;30;71;6m██        \u001b[0m| 138/651 [00:00<00:00, 1364.01it/s]\n",
      " 42%|\u001b[38;2;30;71;6m████▏     \u001b[0m| 275/651 [00:00<00:00, 1254.13it/s]\n",
      " 62%|\u001b[38;2;30;71;6m██████▏   \u001b[0m| 401/651 [00:00<00:00, 1175.31it/s]\n",
      " 86%|\u001b[38;2;30;71;6m████████▌ \u001b[0m| 561/651 [00:00<00:00, 1330.80it/s]\n",
      "100%|\u001b[38;2;30;71;6m██████████\u001b[0m| 651/651 [00:00<00:00, 1324.41it/s]\n",
      "\u001b[33m(raylet)\u001b[0m bash: /home/sarmad/anaconda3/lib/libtinfo.so.6: no version information available (required by bash)\n",
      "\u001b[36m(tune_model pid=981574)\u001b[0m 2025-02-15 18:17:33.754 | INFO     | mads_datasets.base:download_data:121 - Folder already exists at /home/sarmad/.cache/mads_datasets/gestures\n",
      "  0%|\u001b[38;2;30;71;6m          \u001b[0m| 0/2600 [00:00<?, ?it/s]\n",
      "  9%|\u001b[38;2;30;71;6m▉         \u001b[0m| 233/2600 [00:00<00:01, 2326.49it/s]\n",
      " 27%|\u001b[38;2;30;71;6m██▋       \u001b[0m| 698/2600 [00:00<00:00, 2290.57it/s]\n",
      " 36%|\u001b[38;2;30;71;6m███▌      \u001b[0m| 933/2600 [00:00<00:00, 2312.78it/s]\n",
      " 45%|\u001b[38;2;30;71;6m████▍     \u001b[0m| 1165/2600 [00:00<00:00, 2248.30it/s]\n",
      " 54%|\u001b[38;2;30;71;6m█████▎    \u001b[0m| 1391/2600 [00:00<00:00, 2140.06it/s]\n",
      " 62%|\u001b[38;2;30;71;6m██████▏   \u001b[0m| 1606/2600 [00:00<00:00, 2125.87it/s]\n",
      " 70%|\u001b[38;2;30;71;6m███████   \u001b[0m| 1820/2600 [00:00<00:00, 2084.97it/s]\n",
      " 78%|\u001b[38;2;30;71;6m███████▊  \u001b[0m| 2029/2600 [00:00<00:00, 2016.27it/s]\n",
      " 86%|\u001b[38;2;30;71;6m████████▌ \u001b[0m| 2236/2600 [00:01<00:00, 2031.65it/s]\n",
      " 94%|\u001b[38;2;30;71;6m█████████▍\u001b[0m| 2455/2600 [00:01<00:00, 2077.98it/s]\n",
      "100%|\u001b[38;2;30;71;6m██████████\u001b[0m| 2600/2600 [00:01<00:00, 2126.98it/s]\n",
      "  0%|\u001b[38;2;30;71;6m          \u001b[0m| 0/651 [00:00<?, ?it/s]\n",
      " 31%|\u001b[38;2;30;71;6m███       \u001b[0m| 199/651 [00:00<00:00, 1984.64it/s]\n",
      " 61%|\u001b[38;2;30;71;6m██████    \u001b[0m| 398/651 [00:00<00:00, 1852.31it/s]\n",
      " 93%|\u001b[38;2;30;71;6m█████████▎\u001b[0m| 608/651 [00:00<00:00, 1957.66it/s]\n",
      "100%|\u001b[38;2;30;71;6m██████████\u001b[0m| 651/651 [00:00<00:00, 1936.55it/s]\n",
      "\u001b[36m(tune_model pid=980185)\u001b[0m *** SIGSEGV received at time=1739611458 on cpu 1 ***\n",
      "\u001b[36m(tune_model pid=980185)\u001b[0m PC: @     0x7065e2ccfd8e  (unknown)  ray::gcs::TaskInfoAccessor::AsyncAddTaskEventData()\n",
      "\u001b[36m(tune_model pid=980185)\u001b[0m     @     0x7065e4245330       3664  (unknown)\n",
      "\u001b[36m(tune_model pid=980185)\u001b[0m     @     0x7065e2bb16a5       1392  ray::core::worker::TaskEventBufferImpl::FlushEvents()\n",
      "\u001b[36m(tune_model pid=980185)\u001b[0m     @     0x7065e2b3a4ac       1488  ray::core::CoreWorker::Disconnect()\n",
      "\u001b[36m(tune_model pid=980185)\u001b[0m     @     0x7065e2b3a85d       1152  ray::core::CoreWorker::ForceExit()\n",
      "\u001b[36m(tune_model pid=980185)\u001b[0m     @     0x7065e2b3ac8f       1680  ray::core::CoreWorker::HandleKillActor()\n",
      "\u001b[36m(tune_model pid=980185)\u001b[0m     @     0x7065e2b32194        192  ray::rpc::ServerCallImpl<>::HandleRequestImpl()\n",
      "\u001b[36m(tune_model pid=980185)\u001b[0m     @     0x7065e2e864c8       1168  EventTracker::RecordExecution()\n",
      "\u001b[36m(tune_model pid=980185)\u001b[0m     @     0x7065e2e8149e         48  std::_Function_handler<>::_M_invoke()\n",
      "\u001b[36m(tune_model pid=980185)\u001b[0m     @     0x7065e2e81916        112  boost::asio::detail::completion_handler<>::do_complete()\n",
      "\u001b[36m(tune_model pid=980185)\u001b[0m     @     0x7065e356882b        128  boost::asio::detail::scheduler::do_run_one()\n",
      "\u001b[36m(tune_model pid=980185)\u001b[0m     @     0x7065e356a1a9        288  boost::asio::detail::scheduler::run()\n",
      "\u001b[36m(tune_model pid=980185)\u001b[0m     @     0x7065e356a8b2         96  boost::asio::io_context::run()\n",
      "\u001b[36m(tune_model pid=980185)\u001b[0m     @     0x7065e2a95491       1280  ray::core::CoreWorker::RunIOService()\n",
      "\u001b[36m(tune_model pid=980185)\u001b[0m     @     0x7065e2f37df0         64  thread_proxy\n",
      "\u001b[36m(tune_model pid=980185)\u001b[0m     @     0x7065e429caa4        176  (unknown)\n",
      "\u001b[36m(tune_model pid=980185)\u001b[0m     @     0x7065e4329c3c  (unknown)  (unknown)\n",
      "\u001b[36m(tune_model pid=980185)\u001b[0m [2025-02-15 18:24:18,704 E 980185 980217] logging.cc:460: *** SIGSEGV received at time=1739611458 on cpu 1 ***\n",
      "\u001b[36m(tune_model pid=980185)\u001b[0m [2025-02-15 18:24:18,704 E 980185 980217] logging.cc:460: PC: @     0x7065e2ccfd8e  (unknown)  ray::gcs::TaskInfoAccessor::AsyncAddTaskEventData()\n",
      "\u001b[36m(tune_model pid=980185)\u001b[0m [2025-02-15 18:24:18,704 E 980185 980217] logging.cc:460:     @     0x7065e4245330       3664  (unknown)\n",
      "\u001b[36m(tune_model pid=980185)\u001b[0m [2025-02-15 18:24:18,704 E 980185 980217] logging.cc:460:     @     0x7065e2bb16a5       1392  ray::core::worker::TaskEventBufferImpl::FlushEvents()\n",
      "\u001b[36m(tune_model pid=980185)\u001b[0m [2025-02-15 18:24:18,704 E 980185 980217] logging.cc:460:     @     0x7065e2b3a4ac       1488  ray::core::CoreWorker::Disconnect()\n",
      "\u001b[36m(tune_model pid=980185)\u001b[0m [2025-02-15 18:24:18,704 E 980185 980217] logging.cc:460:     @     0x7065e2b3a85d       1152  ray::core::CoreWorker::ForceExit()\n",
      "\u001b[36m(tune_model pid=980185)\u001b[0m [2025-02-15 18:24:18,704 E 980185 980217] logging.cc:460:     @     0x7065e2b3ac8f       1680  ray::core::CoreWorker::HandleKillActor()\n",
      "\u001b[36m(tune_model pid=980185)\u001b[0m [2025-02-15 18:24:18,704 E 980185 980217] logging.cc:460:     @     0x7065e2b32194        192  ray::rpc::ServerCallImpl<>::HandleRequestImpl()\n",
      "\u001b[36m(tune_model pid=980185)\u001b[0m [2025-02-15 18:24:18,704 E 980185 980217] logging.cc:460:     @     0x7065e2e864c8       1168  EventTracker::RecordExecution()\n",
      "\u001b[36m(tune_model pid=980185)\u001b[0m [2025-02-15 18:24:18,704 E 980185 980217] logging.cc:460:     @     0x7065e2e8149e         48  std::_Function_handler<>::_M_invoke()\n",
      "\u001b[36m(tune_model pid=980185)\u001b[0m [2025-02-15 18:24:18,704 E 980185 980217] logging.cc:460:     @     0x7065e2e81916        112  boost::asio::detail::completion_handler<>::do_complete()\n",
      "\u001b[36m(tune_model pid=980185)\u001b[0m [2025-02-15 18:24:18,704 E 980185 980217] logging.cc:460:     @     0x7065e356882b        128  boost::asio::detail::scheduler::do_run_one()\n",
      "\u001b[36m(tune_model pid=980185)\u001b[0m [2025-02-15 18:24:18,704 E 980185 980217] logging.cc:460:     @     0x7065e356a1a9        288  boost::asio::detail::scheduler::run()\n",
      "\u001b[36m(tune_model pid=980185)\u001b[0m [2025-02-15 18:24:18,704 E 980185 980217] logging.cc:460:     @     0x7065e356a8b2         96  boost::asio::io_context::run()\n",
      "\u001b[36m(tune_model pid=980185)\u001b[0m [2025-02-15 18:24:18,704 E 980185 980217] logging.cc:460:     @     0x7065e2a95491       1280  ray::core::CoreWorker::RunIOService()\n",
      "\u001b[36m(tune_model pid=980185)\u001b[0m [2025-02-15 18:24:18,704 E 980185 980217] logging.cc:460:     @     0x7065e2f37df0         64  thread_proxy\n",
      "\u001b[36m(tune_model pid=980185)\u001b[0m [2025-02-15 18:24:18,704 E 980185 980217] logging.cc:460:     @     0x7065e429caa4        176  (unknown)\n",
      "\u001b[36m(tune_model pid=980185)\u001b[0m [2025-02-15 18:24:18,705 E 980185 980217] logging.cc:460:     @     0x7065e4329c3c  (unknown)  (unknown)\n",
      "\u001b[36m(tune_model pid=980185)\u001b[0m Fatal Python error: Segmentation fault\n",
      "\u001b[36m(tune_model pid=980185)\u001b[0m \n",
      "\u001b[36m(tune_model pid=980185)\u001b[0m \n",
      "\u001b[36m(tune_model pid=980185)\u001b[0m Extension modules: msgpack._cmsgpack, google._upb._message, psutil._psutil_linux, psutil._psutil_posix, setproctitle, yaml._yaml, charset_normalizer.md, requests.packages.charset_normalizer.md, requests.packages.chardet.md, ray._raylet, numpy._core._multiarray_umath, numpy.linalg._umath_linalg, pyarrow.lib, numpy.random._common, numpy.random.bit_generator, numpy.random._bounded_integers, numpy.random._mt19937, numpy.random.mtrand, numpy.random._philox, numpy.random._pcg64, numpy.random._sfc64, numpy.random._generator, pandas._libs.tslibs.ccalendar, pandas._libs.tslibs.np_datetime, pandas._libs.tslibs.dtypes, pandas._libs.tslibs.base, pandas._libs.tslibs.nattype, pandas._libs.tslibs.timezones, pandas._libs.tslibs.fields, pandas._libs.tslibs.timedeltas, pandas._libs.tslibs.tzconversion, pandas._libs.tslibs.timestamps, pandas._libs.properties, pandas._libs.tslibs.offsets, pandas._libs.tslibs.strptime, pandas._libs.tslibs.parsing, pandas._libs.tslibs.conversion, pandas._libs.tslibs.period, pandas._libs.tslibs.vectorized, pandas._libs.ops_dispatch, pandas._libs.missing, pandas._libs.hashtable, pandas._libs.algos, pandas._libs.interval, pandas._libs.lib, pyarrow._compute, pandas._libs.ops, pandas._libs.hashing, pandas._libs.arrays, pandas._libs.tslib, pandas._libs.sparse, pandas._libs.internals, pandas._libs.indexing, pandas._libs.index, pandas._libs.writers, pandas._libs.join, pandas._libs.window.aggregations, pandas._libs.window.indexers, pandas._libs.reshape, pandas._libs.groupby, pandas._libs.json, pandas._libs.parsers, pandas._libs.testing, pyarrow._fs, pyarrow._azurefs, pyarrow._hdfs, pyarrow._gcsfs, pyarrow._s3fs, pyarrow._parquet, torch._C, torch._C._fft, torch._C._linalg, torch._C._nested, torch._C._nn, torch._C._sparse, torch._C._special, pyarrow._json, _cffi_backend, scipy._lib._ccallback_c, scipy.sparse._sparsetools, _csparsetools, scipy.sparse._csparsetools, scipy.linalg._fblas, scipy.linalg._flapack, scipy.linalg.cython_lapack, scipy.linalg._cythonized_array_utils, scipy.linalg._solve_toeplitz, scipy.linalg._decomp_lu_cython, scipy.linalg._matfuncs_sqrtm_triu, scipy.linalg._matfuncs_expm, scipy.linalg._linalg_pythran, scipy.linalg.cython_blas, scipy.linalg._decomp_update, scipy.sparse.linalg._dsolve._superlu, scipy.sparse.linalg._eigen.arpack._arpack, scipy.sparse.linalg._propack._spropack, scipy.sparse.linalg._propack._dpropack, scipy.sparse.linalg._propack._cpropack, scipy.sparse.linalg._propack._zpropack, scipy.sparse.csgraph._tools, scipy.sparse.csgraph._shortest_path, scipy.sparse.csgraph._traversal, scipy.sparse.csgraph._min_spanning_tree, scipy.sparse.csgraph._flow, scipy.sparse.csgraph._matching, scipy.sparse.csgraph._reordering, PIL._imaging (total: 107)\n",
      "\u001b[33m(raylet)\u001b[0m bash: /home/sarmad/anaconda3/lib/libtinfo.so.6: no version information available (required by bash)\n",
      "\u001b[36m(tune_model pid=983638)\u001b[0m 2025-02-15 18:42:01.593 | INFO     | mads_datasets.base:download_data:121 - Folder already exists at /home/sarmad/.cache/mads_datasets/gestures\n",
      "  0%|\u001b[38;2;30;71;6m          \u001b[0m| 0/2600 [00:00<?, ?it/s]\n",
      " 21%|\u001b[38;2;30;71;6m██        \u001b[0m| 535/2600 [00:00<00:00, 5348.37it/s]\n",
      " 42%|\u001b[38;2;30;71;6m████▏     \u001b[0m| 1081/2600 [00:00<00:00, 5410.06it/s]\n",
      " 62%|\u001b[38;2;30;71;6m██████▏   \u001b[0m| 1623/2600 [00:00<00:00, 5340.20it/s]\n",
      "100%|\u001b[38;2;30;71;6m██████████\u001b[0m| 2600/2600 [00:00<00:00, 5498.89it/s]\n",
      "  0%|\u001b[38;2;30;71;6m          \u001b[0m| 0/651 [00:00<?, ?it/s]\n",
      " 91%|\u001b[38;2;30;71;6m█████████ \u001b[0m| 591/651 [00:00<00:00, 5904.25it/s]\n",
      "100%|\u001b[38;2;30;71;6m██████████\u001b[0m| 651/651 [00:00<00:00, 5885.25it/s]\n",
      " 23%|\u001b[38;2;30;71;6m██▎       \u001b[0m| 590/2600 [00:00<00:00, 5894.26it/s]\n",
      " 45%|\u001b[38;2;30;71;6m████▌     \u001b[0m| 1180/2600 [00:00<00:00, 5814.14it/s]\n",
      " 68%|\u001b[38;2;30;71;6m██████▊   \u001b[0m| 1762/2600 [00:00<00:00, 5795.72it/s]\n",
      "100%|\u001b[38;2;30;71;6m██████████\u001b[0m| 2600/2600 [00:00<00:00, 5821.81it/s]\n",
      "100%|\u001b[38;2;30;71;6m██████████\u001b[0m| 651/651 [00:00<00:00, 5575.73it/s]\n",
      "\u001b[33m(raylet)\u001b[0m bash: /home/sarmad/anaconda3/lib/libtinfo.so.6: no version information available (required by bash)\u001b[32m [repeated 7x across cluster]\u001b[0m\n",
      " 21%|\u001b[38;2;30;71;6m██▏       \u001b[0m| 558/2600 [00:00<00:00, 5574.26it/s]\n",
      " 43%|\u001b[38;2;30;71;6m████▎     \u001b[0m| 1120/2600 [00:00<00:00, 5596.53it/s]\n",
      " 65%|\u001b[38;2;30;71;6m██████▍   \u001b[0m| 1680/2600 [00:00<00:00, 5486.53it/s]\n",
      " 86%|\u001b[38;2;30;71;6m████████▌ \u001b[0m| 2234/2600 [00:00<00:00, 5505.04it/s]\n",
      "100%|\u001b[38;2;30;71;6m██████████\u001b[0m| 2600/2600 [00:00<00:00, 5505.63it/s]\n",
      "100%|\u001b[38;2;30;71;6m██████████\u001b[0m| 651/651 [00:00<00:00, 5293.80it/s]\n",
      " 19%|\u001b[38;2;30;71;6m█▉        \u001b[0m| 504/2600 [00:00<00:00, 5036.09it/s]\n",
      " 39%|\u001b[38;2;30;71;6m███▉      \u001b[0m| 1008/2600 [00:00<00:00, 5014.89it/s]\n",
      " 58%|\u001b[38;2;30;71;6m█████▊    \u001b[0m| 1510/2600 [00:00<00:00, 5016.56it/s]\n",
      " 78%|\u001b[38;2;30;71;6m███████▊  \u001b[0m| 2023/2600 [00:00<00:00, 5060.93it/s]\n",
      "100%|\u001b[38;2;30;71;6m██████████\u001b[0m| 2600/2600 [00:00<00:00, 5059.19it/s]\n",
      "100%|\u001b[38;2;30;71;6m██████████\u001b[0m| 651/651 [00:00<00:00, 4923.11it/s]\n",
      " 17%|\u001b[38;2;30;71;6m█▋        \u001b[0m| 439/2600 [00:00<00:00, 4386.28it/s]\n",
      " 35%|\u001b[38;2;30;71;6m███▍      \u001b[0m| 907/2600 [00:00<00:00, 4554.73it/s]\n",
      " 52%|\u001b[38;2;30;71;6m█████▏    \u001b[0m| 1363/2600 [00:00<00:00, 4493.60it/s]\n",
      " 71%|\u001b[38;2;30;71;6m███████   \u001b[0m| 1852/2600 [00:00<00:00, 4645.65it/s]\n",
      " 89%|\u001b[38;2;30;71;6m████████▉ \u001b[0m| 2317/2600 [00:00<00:00, 4377.06it/s]\n",
      "100%|\u001b[38;2;30;71;6m██████████\u001b[0m| 2600/2600 [00:00<00:00, 4354.15it/s]\n",
      "100%|\u001b[38;2;30;71;6m██████████\u001b[0m| 651/651 [00:00<00:00, 4431.34it/s]\n",
      " 16%|\u001b[38;2;30;71;6m█▋        \u001b[0m| 425/2600 [00:00<00:00, 4235.26it/s]\n",
      " 34%|\u001b[38;2;30;71;6m███▍      \u001b[0m| 880/2600 [00:00<00:00, 4416.51it/s]\n",
      " 51%|\u001b[38;2;30;71;6m█████     \u001b[0m| 1322/2600 [00:00<00:00, 4365.30it/s]\n",
      " 68%|\u001b[38;2;30;71;6m██████▊   \u001b[0m| 1760/2600 [00:00<00:00, 4369.68it/s]\n",
      " 85%|\u001b[38;2;30;71;6m████████▌ \u001b[0m| 2218/2600 [00:00<00:00, 4444.67it/s]\n",
      "100%|\u001b[38;2;30;71;6m██████████\u001b[0m| 2600/2600 [00:00<00:00, 4416.20it/s]\n",
      "100%|\u001b[38;2;30;71;6m██████████\u001b[0m| 651/651 [00:00<00:00, 4518.09it/s]\n",
      "\u001b[36m(tune_model pid=983637)\u001b[0m 2025-02-15 18:42:06.418 | INFO     | mads_datasets.base:download_data:121 - Folder already exists at /home/sarmad/.cache/mads_datasets/gestures\u001b[32m [repeated 6x across cluster]\u001b[0m\n",
      " 21%|\u001b[38;2;30;71;6m██        \u001b[0m| 544/2600 [00:00<00:00, 2645.78it/s]\n",
      " 10%|\u001b[38;2;30;71;6m█         \u001b[0m| 272/2600 [00:00<00:00, 2716.79it/s]\u001b[32m [repeated 11x across cluster]\u001b[0m\n",
      " 32%|\u001b[38;2;30;71;6m███▏      \u001b[0m| 839/2600 [00:00<00:00, 2779.75it/s]\n",
      " 44%|\u001b[38;2;30;71;6m████▎     \u001b[0m| 1137/2600 [00:00<00:00, 2852.99it/s]\n",
      " 55%|\u001b[38;2;30;71;6m█████▍    \u001b[0m| 1423/2600 [00:00<00:00, 2826.70it/s]\n",
      " 66%|\u001b[38;2;30;71;6m██████▌   \u001b[0m| 1706/2600 [00:00<00:00, 2810.90it/s]\n",
      " 77%|\u001b[38;2;30;71;6m███████▋  \u001b[0m| 1990/2600 [00:00<00:00, 2818.47it/s]\n",
      " 88%|\u001b[38;2;30;71;6m████████▊ \u001b[0m| 2289/2600 [00:00<00:00, 2871.00it/s]\n",
      "\u001b[36m(tune_model pid=983634)\u001b[0m *** SIGSEGV received at time=1739612527 on cpu 5 ***\n",
      "\u001b[36m(tune_model pid=983634)\u001b[0m PC: @     0x7eeb6c6cfd8e  (unknown)  ray::gcs::TaskInfoAccessor::AsyncAddTaskEventData()\n",
      "\u001b[36m(tune_model pid=983634)\u001b[0m     @     0x7eeb6da45330       3664  (unknown)\n",
      "\u001b[36m(tune_model pid=983634)\u001b[0m     @     0x7eeb6c5b16a5       1392  ray::core::worker::TaskEventBufferImpl::FlushEvents()\n",
      "\u001b[36m(tune_model pid=983634)\u001b[0m     @     0x7eeb6c53a4ac       1488  ray::core::CoreWorker::Disconnect()\n",
      "\u001b[36m(tune_model pid=983634)\u001b[0m     @     0x7eeb6c53a85d       1152  ray::core::CoreWorker::ForceExit()\n",
      "100%|\u001b[38;2;30;71;6m██████████\u001b[0m| 2600/2600 [00:00<00:00, 2808.21it/s]\n",
      "\u001b[36m(tune_model pid=983634)\u001b[0m     @     0x7eeb6c53ac8f       1680  ray::core::CoreWorker::HandleKillActor()\n",
      "\u001b[36m(tune_model pid=983634)\u001b[0m     @     0x7eeb6c532194        192  ray::rpc::ServerCallImpl<>::HandleRequestImpl()\n",
      "\u001b[36m(tune_model pid=983634)\u001b[0m     @     0x7eeb6c8864c8       1168  EventTracker::RecordExecution()\n",
      "\u001b[36m(tune_model pid=983634)\u001b[0m     @     0x7eeb6c88149e         48  std::_Function_handler<>::_M_invoke()\n",
      "\u001b[36m(tune_model pid=983634)\u001b[0m     @     0x7eeb6c881916        112  boost::asio::detail::completion_handler<>::do_complete()\n",
      "\u001b[36m(tune_model pid=983634)\u001b[0m     @     0x7eeb6cf6882b        128  boost::asio::detail::scheduler::do_run_one()\n",
      "\u001b[36m(tune_model pid=983634)\u001b[0m     @     0x7eeb6cf6a1a9        288  boost::asio::detail::scheduler::run()\n",
      "\u001b[36m(tune_model pid=983634)\u001b[0m     @     0x7eeb6cf6a8b2         96  boost::asio::io_context::run()\n",
      " 41%|\u001b[38;2;30;71;6m████▏     \u001b[0m| 270/651 [00:00<00:00, 2698.00it/s]\n",
      "\u001b[36m(tune_model pid=983634)\u001b[0m     @     0x7eeb6c495491       1280  ray::core::CoreWorker::RunIOService()\n",
      "\u001b[36m(tune_model pid=983634)\u001b[0m     @     0x7eeb6c937df0         64  thread_proxy\n",
      "\u001b[36m(tune_model pid=983634)\u001b[0m     @     0x7eeb6da9caa4        176  (unknown)\n",
      "\u001b[36m(tune_model pid=983634)\u001b[0m     @     0x7eeb6db29c3c  (unknown)  (unknown)\n",
      "\u001b[36m(tune_model pid=983634)\u001b[0m [2025-02-15 18:42:07,688 E 983634 983916] logging.cc:460: *** SIGSEGV received at time=1739612527 on cpu 5 ***\n",
      "\u001b[36m(tune_model pid=983634)\u001b[0m [2025-02-15 18:42:07,688 E 983634 983916] logging.cc:460: PC: @     0x7eeb6c6cfd8e  (unknown)  ray::gcs::TaskInfoAccessor::AsyncAddTaskEventData()\n",
      "\u001b[36m(tune_model pid=983634)\u001b[0m [2025-02-15 18:42:07,689 E 983634 983916] logging.cc:460:     @     0x7eeb6da45330       3664  (unknown)\n",
      "\u001b[36m(tune_model pid=983634)\u001b[0m [2025-02-15 18:42:07,689 E 983634 983916] logging.cc:460:     @     0x7eeb6c5b16a5       1392  ray::core::worker::TaskEventBufferImpl::FlushEvents()\n",
      "\u001b[36m(tune_model pid=983634)\u001b[0m [2025-02-15 18:42:07,689 E 983634 983916] logging.cc:460:     @     0x7eeb6c53a4ac       1488  ray::core::CoreWorker::Disconnect()\n",
      "\u001b[36m(tune_model pid=983634)\u001b[0m [2025-02-15 18:42:07,689 E 983634 983916] logging.cc:460:     @     0x7eeb6c53a85d       1152  ray::core::CoreWorker::ForceExit()\n",
      "\u001b[36m(tune_model pid=983634)\u001b[0m [2025-02-15 18:42:07,689 E 983634 983916] logging.cc:460:     @     0x7eeb6c53ac8f       1680  ray::core::CoreWorker::HandleKillActor()\n",
      "\u001b[36m(tune_model pid=983634)\u001b[0m [2025-02-15 18:42:07,689 E 983634 983916] logging.cc:460:     @     0x7eeb6c532194        192  ray::rpc::ServerCallImpl<>::HandleRequestImpl()\n",
      "\u001b[36m(tune_model pid=983634)\u001b[0m [2025-02-15 18:42:07,689 E 983634 983916] logging.cc:460:     @     0x7eeb6c8864c8       1168  EventTracker::RecordExecution()\n",
      "\u001b[36m(tune_model pid=983634)\u001b[0m [2025-02-15 18:42:07,689 E 983634 983916] logging.cc:460:     @     0x7eeb6c88149e         48  std::_Function_handler<>::_M_invoke()\n",
      "\u001b[36m(tune_model pid=983634)\u001b[0m [2025-02-15 18:42:07,689 E 983634 983916] logging.cc:460:     @     0x7eeb6c881916        112  boost::asio::detail::completion_handler<>::do_complete()\n",
      "\u001b[36m(tune_model pid=983634)\u001b[0m [2025-02-15 18:42:07,689 E 983634 983916] logging.cc:460:     @     0x7eeb6cf6882b        128  boost::asio::detail::scheduler::do_run_one()\n",
      "\u001b[36m(tune_model pid=983634)\u001b[0m [2025-02-15 18:42:07,689 E 983634 983916] logging.cc:460:     @     0x7eeb6cf6a1a9        288  boost::asio::detail::scheduler::run()\n",
      "\u001b[36m(tune_model pid=983634)\u001b[0m [2025-02-15 18:42:07,689 E 983634 983916] logging.cc:460:     @     0x7eeb6cf6a8b2         96  boost::asio::io_context::run()\n",
      "\u001b[36m(tune_model pid=983634)\u001b[0m [2025-02-15 18:42:07,689 E 983634 983916] logging.cc:460:     @     0x7eeb6c495491       1280  ray::core::CoreWorker::RunIOService()\n",
      "\u001b[36m(tune_model pid=983634)\u001b[0m [2025-02-15 18:42:07,689 E 983634 983916] logging.cc:460:     @     0x7eeb6c937df0         64  thread_proxy\n",
      "\u001b[36m(tune_model pid=983634)\u001b[0m [2025-02-15 18:42:07,689 E 983634 983916] logging.cc:460:     @     0x7eeb6da9caa4        176  (unknown)\n",
      "\u001b[36m(tune_model pid=983634)\u001b[0m [2025-02-15 18:42:07,689 E 983634 983916] logging.cc:460:     @     0x7eeb6db29c3c  (unknown)  (unknown)\n",
      "\u001b[36m(tune_model pid=983634)\u001b[0m Fatal Python error: Segmentation fault\n",
      "\u001b[36m(tune_model pid=983634)\u001b[0m \n",
      "\u001b[36m(tune_model pid=983634)\u001b[0m \n",
      "\u001b[36m(tune_model pid=983634)\u001b[0m Extension modules: msgpack._cmsgpack, google._upb._message, psutil._psutil_linux, psutil._psutil_posix, setproctitle, yaml._yaml, charset_normalizer.md, requests.packages.charset_normalizer.md, requests.packages.chardet.md, ray._raylet, numpy._core._multiarray_umath, numpy.linalg._umath_linalg, pyarrow.lib, numpy.random._common, numpy.random.bit_generator, numpy.random._bounded_integers, numpy.random._mt19937, numpy.random.mtrand, numpy.random._philox, numpy.random._pcg64, numpy.random._sfc64, numpy.random._generator, pandas._libs.tslibs.ccalendar, pandas._libs.tslibs.np_datetime, pandas._libs.tslibs.dtypes, pandas._libs.tslibs.base, pandas._libs.tslibs.nattype, pandas._libs.tslibs.timezones, pandas._libs.tslibs.fields, pandas._libs.tslibs.timedeltas, pandas._libs.tslibs.tzconversion, pandas._libs.tslibs.timestamps, pandas._libs.properties, pandas._libs.tslibs.offsets, pandas._libs.tslibs.strptime, pandas._libs.tslibs.parsing, pandas._libs.tslibs.conversion, pandas._libs.tslibs.period, pandas._libs.tslibs.vectorized, pandas._libs.ops_dispatch, pandas._libs.missing, pandas._libs.hashtable, pandas._libs.algos, pandas._libs.interval, pandas._libs.lib, pyarrow._compute, pandas._libs.ops, pandas._libs.hashing, pandas._libs.arrays, pandas._libs.tslib, pandas._libs.sparse, pandas._libs.internals, pandas._libs.indexing, pandas._libs.index, pandas._libs.writers, pandas._libs.join, pandas._libs.window.aggregations, pandas._libs.window.indexers, pandas._libs.reshape, pandas._libs.groupby, pandas._libs.json, pandas._libs.parsers, pandas._libs.testing, pyarrow._fs, pyarrow._azurefs, pyarrow._hdfs, pyarrow._gcsfs, pyarrow._s3fs, pyarrow._parquet, torch._C, torch._C._fft, torch._C._linalg, torch._C._nested, torch._C._nn, torch._C._sparse, torch._C._special, pyarrow._json, _cffi_backend, scipy._lib._ccallback_c, scipy.sparse._sparsetools, _csparsetools, scipy.sparse._csparsetools, scipy.linalg._fblas, scipy.linalg._flapack\n",
      "\u001b[36m(tune_model pid=983634)\u001b[0m , scipy.linalg.cython_lapack, scipy.linalg._cythonized_array_utils\n",
      "\u001b[36m(tune_model pid=983634)\u001b[0m , scipy.linalg._solve_toeplitz, scipy.linalg._decomp_lu_cython, scipy.linalg._matfuncs_sqrtm_triu, scipy.linalg._matfuncs_expm, scipy.linalg._linalg_pythran, scipy.linalg.cython_blas, scipy.linalg._decomp_update, scipy.sparse.linalg._dsolve._superlu, scipy.sparse.linalg._eigen.arpack._arpack, scipy.sparse.linalg._propack._spropack, scipy.sparse.linalg._propack._dpropack, scipy.sparse.linalg._propack._cpropack, scipy.sparse.linalg._propack._zpropack, scipy.sparse.csgraph._tools, scipy.sparse.csgraph._shortest_path, scipy.sparse.csgraph._traversal, scipy.sparse.csgraph._min_spanning_tree, scipy.sparse.csgraph._flow, scipy.sparse.csgraph._matching, scipy.sparse.csgraph._reordering, PIL._imaging (total: 107)\n",
      " 83%|\u001b[38;2;30;71;6m████████▎ \u001b[0m| 540/651 [00:00<00:00, 2634.95it/s]\n",
      "100%|\u001b[38;2;30;71;6m██████████\u001b[0m| 651/651 [00:00<00:00, 2648.15it/s]\n",
      "\u001b[36m(tune_model pid=983637)\u001b[0m /home/sarmad/anaconda3/envs/conda_kernel/lib/python3.11/site-packages/torch/nn/modules/rnn.py:83: UserWarning: dropout option adds dropout after all but last recurrent layer, so non-zero dropout expects num_layers greater than 1, but got dropout=0.1 and num_layers=1\n",
      "\u001b[36m(tune_model pid=983637)\u001b[0m   warnings.warn(\"dropout option adds dropout after all but last \"\n",
      "\u001b[33m(raylet)\u001b[0m bash: /home/sarmad/anaconda3/lib/libtinfo.so.6: no version information available (required by bash)\n",
      " 15%|\u001b[38;2;30;71;6m█▌        \u001b[0m| 397/2600 [00:00<00:00, 3968.45it/s]\n",
      " 32%|\u001b[38;2;30;71;6m███▏      \u001b[0m| 826/2600 [00:00<00:00, 4155.57it/s]\n",
      " 48%|\u001b[38;2;30;71;6m████▊     \u001b[0m| 1242/2600 [00:00<00:00, 3627.22it/s]\n",
      " 62%|\u001b[38;2;30;71;6m██████▏   \u001b[0m| 1612/2600 [00:00<00:00, 3503.74it/s]\n",
      " 76%|\u001b[38;2;30;71;6m███████▌  \u001b[0m| 1967/2600 [00:00<00:00, 3327.10it/s]\n",
      " 89%|\u001b[38;2;30;71;6m████████▊ \u001b[0m| 2303/2600 [00:00<00:00, 3020.32it/s]\n",
      "100%|\u001b[38;2;30;71;6m██████████\u001b[0m| 2600/2600 [00:00<00:00, 3261.44it/s]\n",
      " 39%|\u001b[38;2;30;71;6m███▉      \u001b[0m| 257/651 [00:00<00:00, 2562.51it/s]\n",
      "100%|\u001b[38;2;30;71;6m██████████\u001b[0m| 651/651 [00:00<00:00, 2549.44it/s]\n",
      "\u001b[36m(tune_model pid=983641)\u001b[0m 2025-02-15 18:42:07.843 | INFO     | mads_datasets.base:download_data:121 - Folder already exists at /home/sarmad/.cache/mads_datasets/gestures\n",
      "  0%|\u001b[38;2;30;71;6m          \u001b[0m| 0/651 [00:00<?, ?it/s]\u001b[32m [repeated 3x across cluster]\u001b[0m\n",
      "\u001b[33m(raylet)\u001b[0m bash: /home/sarmad/anaconda3/lib/libtinfo.so.6: no version information available (required by bash)\n",
      "\u001b[36m(tune_model pid=984067)\u001b[0m 2025-02-15 18:42:16.397 | INFO     | mads_datasets.base:download_data:121 - Folder already exists at /home/sarmad/.cache/mads_datasets/gestures\n",
      "  5%|\u001b[38;2;30;71;6m▌         \u001b[0m| 132/2600 [00:00<00:01, 1316.58it/s]\n",
      " 11%|\u001b[38;2;30;71;6m█▏        \u001b[0m| 297/2600 [00:00<00:01, 1510.00it/s]\n",
      " 17%|\u001b[38;2;30;71;6m█▋        \u001b[0m| 448/2600 [00:00<00:01, 1508.30it/s]\n",
      " 24%|\u001b[38;2;30;71;6m██▎       \u001b[0m| 615/2600 [00:00<00:01, 1566.06it/s]\n",
      " 38%|\u001b[38;2;30;71;6m███▊      \u001b[0m| 993/2600 [00:00<00:00, 1754.67it/s]\n",
      " 46%|\u001b[38;2;30;71;6m████▌     \u001b[0m| 1189/2600 [00:00<00:00, 1821.54it/s]\n",
      " 56%|\u001b[38;2;30;71;6m█████▌    \u001b[0m| 1445/2600 [00:00<00:00, 2055.36it/s]\n",
      " 64%|\u001b[38;2;30;71;6m██████▎   \u001b[0m| 1651/2600 [00:00<00:00, 1862.81it/s]\n",
      " 73%|\u001b[38;2;30;71;6m███████▎  \u001b[0m| 1886/2600 [00:01<00:00, 2001.41it/s]\n",
      " 82%|\u001b[38;2;30;71;6m████████▏ \u001b[0m| 2128/2600 [00:01<00:00, 2122.86it/s]\n",
      " 91%|\u001b[38;2;30;71;6m█████████ \u001b[0m| 2358/2600 [00:01<00:00, 2172.36it/s]\n",
      "100%|\u001b[38;2;30;71;6m██████████\u001b[0m| 2600/2600 [00:01<00:00, 1900.88it/s]\n",
      " 19%|\u001b[38;2;30;71;6m█▉        \u001b[0m| 126/651 [00:00<00:00, 1249.92it/s]\n",
      " 48%|\u001b[38;2;30;71;6m████▊     \u001b[0m| 313/651 [00:00<00:00, 1610.52it/s]\n",
      "100%|\u001b[38;2;30;71;6m██████████\u001b[0m| 651/651 [00:00<00:00, 1841.36it/s]\n",
      "\u001b[36m(tune_model pid=984067)\u001b[0m /home/sarmad/anaconda3/envs/conda_kernel/lib/python3.11/site-packages/torch/nn/modules/rnn.py:83: UserWarning: dropout option adds dropout after all but last recurrent layer, so non-zero dropout expects num_layers greater than 1, but got dropout=0.1 and num_layers=1\n",
      "\u001b[36m(tune_model pid=984067)\u001b[0m   warnings.warn(\"dropout option adds dropout after all but last \"\n",
      "  0%|\u001b[38;2;30;71;6m          \u001b[0m| 0/651 [00:00<?, ?it/s]\u001b[32m [repeated 2x across cluster]\u001b[0m\n",
      "\u001b[36m(tune_model pid=984191)\u001b[0m 2025-02-15 18:42:22.530 | INFO     | mads_datasets.base:download_data:121 - Folder already exists at /home/sarmad/.cache/mads_datasets/gestures\n",
      "  9%|\u001b[38;2;30;71;6m▊         \u001b[0m| 222/2600 [00:00<00:01, 2213.74it/s]\n",
      " 19%|\u001b[38;2;30;71;6m█▊        \u001b[0m| 487/2600 [00:00<00:00, 2466.73it/s]\n",
      " 28%|\u001b[38;2;30;71;6m██▊       \u001b[0m| 734/2600 [00:00<00:00, 2161.88it/s]\n",
      " 39%|\u001b[38;2;30;71;6m███▉      \u001b[0m| 1026/2600 [00:00<00:00, 2432.95it/s]\n",
      " 49%|\u001b[38;2;30;71;6m████▉     \u001b[0m| 1283/2600 [00:00<00:00, 2474.72it/s]\n",
      " 59%|\u001b[38;2;30;71;6m█████▉    \u001b[0m| 1534/2600 [00:00<00:00, 2480.88it/s]\n",
      " 80%|\u001b[38;2;30;71;6m████████  \u001b[0m| 2086/2600 [00:00<00:00, 2618.41it/s]\n",
      " 90%|\u001b[38;2;30;71;6m█████████ \u001b[0m| 2350/2600 [00:00<00:00, 2309.43it/s]\n",
      "100%|\u001b[38;2;30;71;6m██████████\u001b[0m| 2600/2600 [00:01<00:00, 2304.58it/s]\n",
      " 31%|\u001b[38;2;30;71;6m███▏      \u001b[0m| 205/651 [00:00<00:00, 2048.12it/s]\n",
      " 63%|\u001b[38;2;30;71;6m██████▎   \u001b[0m| 410/651 [00:00<00:00, 1999.19it/s]\n",
      "100%|\u001b[38;2;30;71;6m██████████\u001b[0m| 651/651 [00:00<00:00, 1983.08it/s]\n",
      "\u001b[33m(raylet)\u001b[0m bash: /home/sarmad/anaconda3/lib/libtinfo.so.6: no version information available (required by bash)\n",
      "  0%|\u001b[38;2;30;71;6m          \u001b[0m| 0/651 [00:00<?, ?it/s]\u001b[32m [repeated 2x across cluster]\u001b[0m\n",
      "\u001b[36m(tune_model pid=984270)\u001b[0m 2025-02-15 18:42:37.024 | INFO     | mads_datasets.base:download_data:121 - Folder already exists at /home/sarmad/.cache/mads_datasets/gestures\n",
      "\u001b[33m(raylet)\u001b[0m bash: /home/sarmad/anaconda3/lib/libtinfo.so.6: no version information available (required by bash)\u001b[32m [repeated 2x across cluster]\u001b[0m\n",
      "  0%|\u001b[38;2;30;71;6m          \u001b[0m| 0/2600 [00:00<?, ?it/s]\n",
      " 11%|\u001b[38;2;30;71;6m█         \u001b[0m| 289/2600 [00:00<00:00, 2877.05it/s]\n",
      " 22%|\u001b[38;2;30;71;6m██▏       \u001b[0m| 577/2600 [00:00<00:00, 2194.97it/s]\n",
      " 33%|\u001b[38;2;30;71;6m███▎      \u001b[0m| 855/2600 [00:00<00:00, 2421.60it/s]\n",
      " 46%|\u001b[38;2;30;71;6m████▌     \u001b[0m| 1189/2600 [00:00<00:00, 2747.79it/s]\n",
      " 57%|\u001b[38;2;30;71;6m█████▋    \u001b[0m| 1473/2600 [00:00<00:00, 2603.67it/s]\n",
      " 67%|\u001b[38;2;30;71;6m██████▋   \u001b[0m| 1740/2600 [00:00<00:00, 2371.79it/s]\n",
      " 76%|\u001b[38;2;30;71;6m███████▋  \u001b[0m| 1984/2600 [00:00<00:00, 2166.95it/s]\n",
      " 95%|\u001b[38;2;30;71;6m█████████▌\u001b[0m| 2474/2600 [00:01<00:00, 2307.12it/s]\n",
      "100%|\u001b[38;2;30;71;6m██████████\u001b[0m| 2600/2600 [00:01<00:00, 2333.04it/s]\n",
      "  0%|\u001b[38;2;30;71;6m          \u001b[0m| 0/651 [00:00<?, ?it/s]\n",
      " 31%|\u001b[38;2;30;71;6m███▏      \u001b[0m| 205/651 [00:00<00:00, 2040.70it/s]\n",
      "100%|\u001b[38;2;30;71;6m██████████\u001b[0m| 651/651 [00:00<00:00, 2395.46it/s]\n",
      " 12%|\u001b[38;2;30;71;6m█▏        \u001b[0m| 309/2600 [00:00<00:00, 3082.81it/s]\n",
      " 24%|\u001b[38;2;30;71;6m██▍       \u001b[0m| 618/2600 [00:00<00:00, 2746.20it/s]\n",
      " 34%|\u001b[38;2;30;71;6m███▍      \u001b[0m| 896/2600 [00:00<00:00, 2688.98it/s]\n",
      " 45%|\u001b[38;2;30;71;6m████▍     \u001b[0m| 1167/2600 [00:00<00:00, 2523.74it/s]\n",
      " 55%|\u001b[38;2;30;71;6m█████▍    \u001b[0m| 1421/2600 [00:00<00:00, 2370.21it/s]\n",
      " 66%|\u001b[38;2;30;71;6m██████▌   \u001b[0m| 1716/2600 [00:00<00:00, 2546.62it/s]\n",
      " 76%|\u001b[38;2;30;71;6m███████▌  \u001b[0m| 1974/2600 [00:00<00:00, 2199.31it/s]\n",
      " 85%|\u001b[38;2;30;71;6m████████▍ \u001b[0m| 2203/2600 [00:00<00:00, 2008.42it/s]\n",
      "100%|\u001b[38;2;30;71;6m██████████\u001b[0m| 2600/2600 [00:01<00:00, 2356.73it/s]\n",
      " 51%|\u001b[38;2;30;71;6m█████     \u001b[0m| 329/651 [00:00<00:00, 3276.12it/s]\n",
      "100%|\u001b[38;2;30;71;6m██████████\u001b[0m| 651/651 [00:00<00:00, 3040.87it/s]\n",
      " 12%|\u001b[38;2;30;71;6m█▏        \u001b[0m| 320/2600 [00:00<00:00, 3190.82it/s]\n",
      " 25%|\u001b[38;2;30;71;6m██▍       \u001b[0m| 640/2600 [00:00<00:00, 3138.37it/s]\n",
      " 37%|\u001b[38;2;30;71;6m███▋      \u001b[0m| 954/2600 [00:00<00:00, 2941.11it/s]\n",
      " 49%|\u001b[38;2;30;71;6m████▊     \u001b[0m| 1264/2600 [00:00<00:00, 3000.56it/s]\n",
      " 62%|\u001b[38;2;30;71;6m██████▏   \u001b[0m| 1599/2600 [00:00<00:00, 3119.21it/s]\n",
      " 74%|\u001b[38;2;30;71;6m███████▎  \u001b[0m| 1912/2600 [00:00<00:00, 3086.43it/s]\n",
      " 85%|\u001b[38;2;30;71;6m████████▌ \u001b[0m| 2222/2600 [00:00<00:00, 2536.05it/s]\n",
      "100%|\u001b[38;2;30;71;6m██████████\u001b[0m| 2600/2600 [00:00<00:00, 2791.13it/s]\n",
      " 47%|\u001b[38;2;30;71;6m████▋     \u001b[0m| 306/651 [00:00<00:00, 3043.96it/s]\n",
      "100%|\u001b[38;2;30;71;6m██████████\u001b[0m| 651/651 [00:00<00:00, 3179.81it/s]\n",
      "\u001b[36m(tune_model pid=984361)\u001b[0m 2025-02-15 18:42:40.316 | INFO     | mads_datasets.base:download_data:121 - Folder already exists at /home/sarmad/.cache/mads_datasets/gestures\u001b[32m [repeated 2x across cluster]\u001b[0m\n",
      "\u001b[33m(raylet)\u001b[0m bash: /home/sarmad/anaconda3/lib/libtinfo.so.6: no version information available (required by bash)\n",
      "  0%|\u001b[38;2;30;71;6m          \u001b[0m| 0/651 [00:00<?, ?it/s]\u001b[32m [repeated 4x across cluster]\u001b[0m\n",
      "\u001b[33m(raylet)\u001b[0m bash: /home/sarmad/anaconda3/lib/libtinfo.so.6: no version information available (required by bash)\n",
      "\u001b[36m(tune_model pid=984463)\u001b[0m 2025-02-15 18:42:50.573 | INFO     | mads_datasets.base:download_data:121 - Folder already exists at /home/sarmad/.cache/mads_datasets/gestures\n",
      "  0%|\u001b[38;2;30;71;6m          \u001b[0m| 0/2600 [00:00<?, ?it/s]\n",
      "  8%|\u001b[38;2;30;71;6m▊         \u001b[0m| 217/2600 [00:00<00:01, 2161.24it/s]\n",
      " 17%|\u001b[38;2;30;71;6m█▋        \u001b[0m| 434/2600 [00:00<00:01, 1938.08it/s]\n",
      " 25%|\u001b[38;2;30;71;6m██▍       \u001b[0m| 649/2600 [00:00<00:00, 2025.49it/s]\n",
      " 34%|\u001b[38;2;30;71;6m███▍      \u001b[0m| 883/2600 [00:00<00:00, 2143.14it/s]\n",
      " 44%|\u001b[38;2;30;71;6m████▍     \u001b[0m| 1143/2600 [00:00<00:00, 2301.41it/s]\n",
      " 53%|\u001b[38;2;30;71;6m█████▎    \u001b[0m| 1375/2600 [00:00<00:00, 2205.33it/s]\n",
      " 62%|\u001b[38;2;30;71;6m██████▏   \u001b[0m| 1604/2600 [00:00<00:00, 2228.46it/s]\n",
      " 72%|\u001b[38;2;30;71;6m███████▏  \u001b[0m| 1862/2600 [00:00<00:00, 2333.36it/s]\n",
      " 82%|\u001b[38;2;30;71;6m████████▏ \u001b[0m| 2143/2600 [00:00<00:00, 2478.66it/s]\n",
      " 92%|\u001b[38;2;30;71;6m█████████▏\u001b[0m| 2392/2600 [00:01<00:00, 2443.58it/s]\n",
      "100%|\u001b[38;2;30;71;6m██████████\u001b[0m| 2600/2600 [00:01<00:00, 2329.23it/s]\n",
      "  0%|\u001b[38;2;30;71;6m          \u001b[0m| 0/651 [00:00<?, ?it/s]\n",
      " 30%|\u001b[38;2;30;71;6m███       \u001b[0m| 198/651 [00:00<00:00, 1978.76it/s]\n",
      "100%|\u001b[38;2;30;71;6m██████████\u001b[0m| 651/651 [00:00<00:00, 2381.81it/s]\n",
      "\u001b[33m(raylet)\u001b[0m bash: /home/sarmad/anaconda3/lib/libtinfo.so.6: no version information available (required by bash)\n",
      "\u001b[36m(tune_model pid=984525)\u001b[0m 2025-02-15 18:42:56.545 | INFO     | mads_datasets.base:download_data:121 - Folder already exists at /home/sarmad/.cache/mads_datasets/gestures\n",
      "  0%|\u001b[38;2;30;71;6m          \u001b[0m| 0/2600 [00:00<?, ?it/s]\n",
      "  9%|\u001b[38;2;30;71;6m▊         \u001b[0m| 223/2600 [00:00<00:01, 2225.07it/s]\n",
      " 18%|\u001b[38;2;30;71;6m█▊        \u001b[0m| 464/2600 [00:00<00:00, 2331.97it/s]\n",
      " 27%|\u001b[38;2;30;71;6m██▋       \u001b[0m| 708/2600 [00:00<00:00, 2379.73it/s]\n",
      " 37%|\u001b[38;2;30;71;6m███▋      \u001b[0m| 960/2600 [00:00<00:00, 2434.00it/s]\n",
      " 47%|\u001b[38;2;30;71;6m████▋     \u001b[0m| 1225/2600 [00:00<00:00, 2508.44it/s]\n",
      " 57%|\u001b[38;2;30;71;6m█████▋    \u001b[0m| 1476/2600 [00:00<00:00, 2274.78it/s]\n",
      " 66%|\u001b[38;2;30;71;6m██████▌   \u001b[0m| 1708/2600 [00:00<00:00, 2164.74it/s]\n",
      " 74%|\u001b[38;2;30;71;6m███████▍  \u001b[0m| 1928/2600 [00:00<00:00, 1942.02it/s]\n",
      " 83%|\u001b[38;2;30;71;6m████████▎ \u001b[0m| 2149/2600 [00:00<00:00, 2013.57it/s]\n",
      " 91%|\u001b[38;2;30;71;6m█████████ \u001b[0m| 2355/2600 [00:01<00:00, 1893.48it/s]\n",
      "100%|\u001b[38;2;30;71;6m██████████\u001b[0m| 2600/2600 [00:01<00:00, 2117.47it/s]\n",
      "  0%|\u001b[38;2;30;71;6m          \u001b[0m| 0/651 [00:00<?, ?it/s]\n",
      " 32%|\u001b[38;2;30;71;6m███▏      \u001b[0m| 209/651 [00:00<00:00, 2089.08it/s]\n",
      " 64%|\u001b[38;2;30;71;6m██████▍   \u001b[0m| 418/651 [00:00<00:00, 1651.97it/s]\n",
      "100%|\u001b[38;2;30;71;6m██████████\u001b[0m| 651/651 [00:00<00:00, 1717.24it/s]\n",
      "\u001b[33m(raylet)\u001b[0m bash: /home/sarmad/anaconda3/lib/libtinfo.so.6: no version information available (required by bash)\n",
      "\u001b[36m(tune_model pid=984575)\u001b[0m 2025-02-15 18:42:59.819 | INFO     | mads_datasets.base:download_data:121 - Folder already exists at /home/sarmad/.cache/mads_datasets/gestures\n",
      "  9%|\u001b[38;2;30;71;6m▉         \u001b[0m| 240/2600 [00:00<00:00, 2399.31it/s]\n",
      " 18%|\u001b[38;2;30;71;6m█▊        \u001b[0m| 480/2600 [00:00<00:01, 2027.46it/s]\n",
      " 26%|\u001b[38;2;30;71;6m██▋       \u001b[0m| 687/2600 [00:00<00:01, 1653.97it/s]\n",
      " 33%|\u001b[38;2;30;71;6m███▎      \u001b[0m| 860/2600 [00:00<00:01, 1676.22it/s]\n",
      " 40%|\u001b[38;2;30;71;6m███▉      \u001b[0m| 1035/2600 [00:00<00:00, 1697.08it/s]\n",
      " 46%|\u001b[38;2;30;71;6m████▋     \u001b[0m| 1208/2600 [00:00<00:00, 1700.03it/s]\n",
      " 56%|\u001b[38;2;30;71;6m█████▌    \u001b[0m| 1461/2600 [00:00<00:00, 1952.73it/s]\n",
      " 66%|\u001b[38;2;30;71;6m██████▌   \u001b[0m| 1715/2600 [00:00<00:00, 2130.73it/s]\n",
      " 75%|\u001b[38;2;30;71;6m███████▌  \u001b[0m| 1961/2600 [00:00<00:00, 2229.08it/s]\n",
      " 84%|\u001b[38;2;30;71;6m████████▍ \u001b[0m| 2187/2600 [00:01<00:00, 2009.32it/s]\n",
      " 92%|\u001b[38;2;30;71;6m█████████▏\u001b[0m| 2394/2600 [00:01<00:00, 2020.83it/s]\n",
      "100%|\u001b[38;2;30;71;6m██████████\u001b[0m| 2600/2600 [00:01<00:00, 1975.10it/s]\n",
      " 37%|\u001b[38;2;30;71;6m███▋      \u001b[0m| 241/651 [00:00<00:00, 2408.02it/s]\n",
      "100%|\u001b[38;2;30;71;6m██████████\u001b[0m| 651/651 [00:00<00:00, 2482.11it/s]\n",
      "  0%|\u001b[38;2;30;71;6m          \u001b[0m| 0/651 [00:00<?, ?it/s]\u001b[32m [repeated 2x across cluster]\u001b[0m\n",
      "\u001b[33m(raylet)\u001b[0m bash: /home/sarmad/anaconda3/lib/libtinfo.so.6: no version information available (required by bash)\n",
      "\u001b[36m(tune_model pid=984639)\u001b[0m 2025-02-15 18:43:07.671 | INFO     | mads_datasets.base:download_data:121 - Folder already exists at /home/sarmad/.cache/mads_datasets/gestures\n",
      "  8%|\u001b[38;2;30;71;6m▊         \u001b[0m| 203/2600 [00:00<00:01, 2017.41it/s]\n",
      " 17%|\u001b[38;2;30;71;6m█▋        \u001b[0m| 451/2600 [00:00<00:00, 2287.86it/s]\n",
      " 26%|\u001b[38;2;30;71;6m██▌       \u001b[0m| 680/2600 [00:00<00:00, 2067.26it/s]\n",
      " 34%|\u001b[38;2;30;71;6m███▍      \u001b[0m| 890/2600 [00:00<00:00, 2037.99it/s]\n",
      " 42%|\u001b[38;2;30;71;6m████▏     \u001b[0m| 1096/2600 [00:00<00:00, 1966.65it/s]\n",
      " 51%|\u001b[38;2;30;71;6m█████▏    \u001b[0m| 1338/2600 [00:00<00:00, 2111.18it/s]\n",
      " 60%|\u001b[38;2;30;71;6m█████▉    \u001b[0m| 1551/2600 [00:00<00:00, 2068.58it/s]\n",
      " 68%|\u001b[38;2;30;71;6m██████▊   \u001b[0m| 1759/2600 [00:00<00:00, 2020.20it/s]\n",
      " 75%|\u001b[38;2;30;71;6m███████▌  \u001b[0m| 1962/2600 [00:00<00:00, 1989.88it/s]\n",
      " 83%|\u001b[38;2;30;71;6m████████▎ \u001b[0m| 2162/2600 [00:01<00:00, 1738.87it/s]\n",
      " 90%|\u001b[38;2;30;71;6m█████████ \u001b[0m| 2342/2600 [00:01<00:00, 1630.47it/s]\n",
      "100%|\u001b[38;2;30;71;6m██████████\u001b[0m| 2600/2600 [00:01<00:00, 1939.68it/s]\n",
      " 24%|\u001b[38;2;30;71;6m██▍       \u001b[0m| 155/651 [00:00<00:00, 1540.44it/s]\n",
      " 50%|\u001b[38;2;30;71;6m████▉     \u001b[0m| 325/651 [00:00<00:00, 1632.15it/s]\n",
      "100%|\u001b[38;2;30;71;6m██████████\u001b[0m| 651/651 [00:00<00:00, 1661.93it/s]\n",
      "  0%|\u001b[38;2;30;71;6m          \u001b[0m| 0/651 [00:00<?, ?it/s]\u001b[32m [repeated 2x across cluster]\u001b[0m\n",
      "\u001b[36m(tune_model pid=984694)\u001b[0m 2025-02-15 18:43:13.678 | INFO     | mads_datasets.base:download_data:121 - Folder already exists at /home/sarmad/.cache/mads_datasets/gestures\n",
      " 12%|\u001b[38;2;30;71;6m█▏        \u001b[0m| 315/2600 [00:00<00:00, 3147.59it/s]\n",
      " 24%|\u001b[38;2;30;71;6m██▍       \u001b[0m| 630/2600 [00:00<00:00, 2808.40it/s]\n",
      " 35%|\u001b[38;2;30;71;6m███▌      \u001b[0m| 914/2600 [00:00<00:00, 2769.91it/s]\n",
      " 46%|\u001b[38;2;30;71;6m████▌     \u001b[0m| 1193/2600 [00:00<00:00, 2718.02it/s]\n",
      " 57%|\u001b[38;2;30;71;6m█████▋    \u001b[0m| 1478/2600 [00:00<00:00, 2762.96it/s]\n",
      " 68%|\u001b[38;2;30;71;6m██████▊   \u001b[0m| 1763/2600 [00:00<00:00, 2790.22it/s]\n",
      " 79%|\u001b[38;2;30;71;6m███████▊  \u001b[0m| 2043/2600 [00:00<00:00, 2771.57it/s]\n",
      " 89%|\u001b[38;2;30;71;6m████████▉ \u001b[0m| 2322/2600 [00:00<00:00, 2775.58it/s]\n",
      "100%|\u001b[38;2;30;71;6m██████████\u001b[0m| 2600/2600 [00:00<00:00, 2769.26it/s]\n",
      " 42%|\u001b[38;2;30;71;6m████▏     \u001b[0m| 272/651 [00:00<00:00, 2713.16it/s]\n",
      "100%|\u001b[38;2;30;71;6m██████████\u001b[0m| 651/651 [00:00<00:00, 2666.98it/s]\n",
      "\u001b[33m(raylet)\u001b[0m bash: /home/sarmad/anaconda3/lib/libtinfo.so.6: no version information available (required by bash)\n",
      "\u001b[36m(tune_model pid=985337)\u001b[0m 2025-02-15 18:48:50.248 | INFO     | mads_datasets.base:download_data:121 - Folder already exists at /home/sarmad/.cache/mads_datasets/gestures\n",
      "  0%|\u001b[38;2;30;71;6m          \u001b[0m| 0/2600 [00:00<?, ?it/s]\n",
      " 21%|\u001b[38;2;30;71;6m██        \u001b[0m| 544/2600 [00:00<00:00, 5431.41it/s]\n",
      " 42%|\u001b[38;2;30;71;6m████▏     \u001b[0m| 1088/2600 [00:00<00:00, 5190.77it/s]\n",
      " 63%|\u001b[38;2;30;71;6m██████▎   \u001b[0m| 1631/2600 [00:00<00:00, 5293.03it/s]\n",
      " 83%|\u001b[38;2;30;71;6m████████▎ \u001b[0m| 2161/2600 [00:00<00:00, 5151.39it/s]\n",
      "100%|\u001b[38;2;30;71;6m██████████\u001b[0m| 2600/2600 [00:00<00:00, 5055.04it/s]\n",
      "  0%|\u001b[38;2;30;71;6m          \u001b[0m| 0/651 [00:00<?, ?it/s]\n",
      "100%|\u001b[38;2;30;71;6m██████████\u001b[0m| 651/651 [00:00<00:00, 5611.59it/s]\n",
      " 18%|\u001b[38;2;30;71;6m█▊        \u001b[0m| 464/2600 [00:00<00:00, 4637.48it/s]\n",
      " 37%|\u001b[38;2;30;71;6m███▋      \u001b[0m| 964/2600 [00:00<00:00, 4847.75it/s]\n",
      " 58%|\u001b[38;2;30;71;6m█████▊    \u001b[0m| 1507/2600 [00:00<00:00, 5111.57it/s]\n",
      "\u001b[33m(raylet)\u001b[0m bash: /home/sarmad/anaconda3/lib/libtinfo.so.6: no version information available (required by bash)\u001b[32m [repeated 2x across cluster]\u001b[0m\n",
      " 80%|\u001b[38;2;30;71;6m████████  \u001b[0m| 2081/2600 [00:00<00:00, 5358.12it/s]\n",
      "100%|\u001b[38;2;30;71;6m██████████\u001b[0m| 2600/2600 [00:00<00:00, 5231.72it/s]\n",
      "100%|\u001b[38;2;30;71;6m██████████\u001b[0m| 651/651 [00:00<00:00, 5494.89it/s]\n",
      " 20%|\u001b[38;2;30;71;6m██        \u001b[0m| 520/2600 [00:00<00:00, 5196.23it/s]\n",
      " 40%|\u001b[38;2;30;71;6m████      \u001b[0m| 1043/2600 [00:00<00:00, 5211.16it/s]\n",
      " 61%|\u001b[38;2;30;71;6m██████    \u001b[0m| 1579/2600 [00:00<00:00, 5276.55it/s]\n",
      " 82%|\u001b[38;2;30;71;6m████████▏ \u001b[0m| 2119/2600 [00:00<00:00, 5322.60it/s]\n",
      "100%|\u001b[38;2;30;71;6m██████████\u001b[0m| 2600/2600 [00:00<00:00, 5301.11it/s]\n",
      "100%|\u001b[38;2;30;71;6m██████████\u001b[0m| 651/651 [00:00<00:00, 5268.99it/s]\n",
      "\u001b[36m(tune_model pid=985441)\u001b[0m 2025-02-15 18:48:54.474 | INFO     | mads_datasets.base:download_data:121 - Folder already exists at /home/sarmad/.cache/mads_datasets/gestures\u001b[32m [repeated 2x across cluster]\u001b[0m\n",
      "  0%|\u001b[38;2;30;71;6m          \u001b[0m| 0/651 [00:00<?, ?it/s]\u001b[32m [repeated 4x across cluster]\u001b[0m\n",
      " 19%|\u001b[38;2;30;71;6m█▉        \u001b[0m| 501/2600 [00:00<00:00, 5006.65it/s]\n",
      " 39%|\u001b[38;2;30;71;6m███▊      \u001b[0m| 1002/2600 [00:00<00:00, 4865.87it/s]\n",
      " 57%|\u001b[38;2;30;71;6m█████▋    \u001b[0m| 1489/2600 [00:00<00:00, 3859.02it/s]\n",
      " 74%|\u001b[38;2;30;71;6m███████▍  \u001b[0m| 1921/2600 [00:00<00:00, 4013.21it/s]\n",
      " 90%|\u001b[38;2;30;71;6m████████▉ \u001b[0m| 2337/2600 [00:00<00:00, 3861.41it/s]\n",
      "100%|\u001b[38;2;30;71;6m██████████\u001b[0m| 2600/2600 [00:00<00:00, 3952.23it/s]\n",
      "100%|\u001b[38;2;30;71;6m██████████\u001b[0m| 651/651 [00:00<00:00, 3886.99it/s]\n",
      "\u001b[33m(raylet)\u001b[0m bash: /home/sarmad/anaconda3/lib/libtinfo.so.6: no version information available (required by bash)\u001b[32m [repeated 3x across cluster]\u001b[0m\n",
      " 18%|\u001b[38;2;30;71;6m█▊        \u001b[0m| 457/2600 [00:00<00:00, 4563.73it/s]\n",
      " 36%|\u001b[38;2;30;71;6m███▋      \u001b[0m| 944/2600 [00:00<00:00, 4738.69it/s]\n",
      " 55%|\u001b[38;2;30;71;6m█████▍    \u001b[0m| 1429/2600 [00:00<00:00, 4789.26it/s]\n",
      " 73%|\u001b[38;2;30;71;6m███████▎  \u001b[0m| 1908/2600 [00:00<00:00, 4669.53it/s]\n",
      " 91%|\u001b[38;2;30;71;6m█████████▏\u001b[0m| 2376/2600 [00:00<00:00, 4632.43it/s]\n",
      "100%|\u001b[38;2;30;71;6m██████████\u001b[0m| 2600/2600 [00:00<00:00, 4655.54it/s]\n",
      "100%|\u001b[38;2;30;71;6m██████████\u001b[0m| 651/651 [00:00<00:00, 4699.86it/s]\n",
      "\u001b[36m(tune_model pid=985549)\u001b[0m 2025-02-15 18:48:59.873 | INFO     | mads_datasets.base:download_data:121 - Folder already exists at /home/sarmad/.cache/mads_datasets/gestures\u001b[32m [repeated 2x across cluster]\u001b[0m\n",
      "  0%|\u001b[38;2;30;71;6m          \u001b[0m| 0/651 [00:00<?, ?it/s]\u001b[32m [repeated 4x across cluster]\u001b[0m\n",
      "\u001b[33m(raylet)\u001b[0m bash: /home/sarmad/anaconda3/lib/libtinfo.so.6: no version information available (required by bash)\n",
      " 16%|\u001b[38;2;30;71;6m█▌        \u001b[0m| 419/2600 [00:00<00:00, 4182.05it/s]\n",
      " 33%|\u001b[38;2;30;71;6m███▎      \u001b[0m| 849/2600 [00:00<00:00, 4249.09it/s]\n",
      " 49%|\u001b[38;2;30;71;6m████▉     \u001b[0m| 1274/2600 [00:00<00:00, 4191.30it/s]\n",
      " 65%|\u001b[38;2;30;71;6m██████▌   \u001b[0m| 1694/2600 [00:00<00:00, 4145.38it/s]\n",
      " 82%|\u001b[38;2;30;71;6m████████▏ \u001b[0m| 2122/2600 [00:00<00:00, 4191.81it/s]\n",
      " 98%|\u001b[38;2;30;71;6m█████████▊\u001b[0m| 2542/2600 [00:00<00:00, 4167.90it/s]\n",
      "100%|\u001b[38;2;30;71;6m██████████\u001b[0m| 2600/2600 [00:00<00:00, 4180.35it/s]\n",
      " 64%|\u001b[38;2;30;71;6m██████▍   \u001b[0m| 416/651 [00:00<00:00, 4153.48it/s]\n",
      "100%|\u001b[38;2;30;71;6m██████████\u001b[0m| 651/651 [00:00<00:00, 4083.53it/s]\n",
      "\u001b[33m(raylet)\u001b[0m bash: /home/sarmad/anaconda3/lib/libtinfo.so.6: no version information available (required by bash)\n",
      "\u001b[36m(tune_model pid=985663)\u001b[0m 2025-02-15 18:49:06.972 | INFO     | mads_datasets.base:download_data:121 - Folder already exists at /home/sarmad/.cache/mads_datasets/gestures\u001b[32m [repeated 2x across cluster]\u001b[0m\n",
      "  0%|\u001b[38;2;30;71;6m          \u001b[0m| 0/651 [00:00<?, ?it/s]\u001b[32m [repeated 2x across cluster]\u001b[0m\n",
      "  8%|\u001b[38;2;30;71;6m▊         \u001b[0m| 200/2600 [00:00<00:01, 1996.31it/s]\n",
      " 15%|\u001b[38;2;30;71;6m█▌        \u001b[0m| 400/2600 [00:00<00:02, 902.41it/s] \n",
      " 23%|\u001b[38;2;30;71;6m██▎       \u001b[0m| 605/2600 [00:00<00:01, 1216.90it/s]\n",
      " 32%|\u001b[38;2;30;71;6m███▏      \u001b[0m| 825/2600 [00:00<00:01, 1492.87it/s]\n",
      " 42%|\u001b[38;2;30;71;6m████▏     \u001b[0m| 1083/2600 [00:00<00:00, 1803.90it/s]\n",
      " 50%|\u001b[38;2;30;71;6m████▉     \u001b[0m| 1293/2600 [00:00<00:00, 1870.43it/s]\n",
      " 58%|\u001b[38;2;30;71;6m█████▊    \u001b[0m| 1518/2600 [00:00<00:00, 1979.79it/s]\n",
      " 68%|\u001b[38;2;30;71;6m██████▊   \u001b[0m| 1776/2600 [00:01<00:00, 2155.06it/s]\n",
      " 78%|\u001b[38;2;30;71;6m███████▊  \u001b[0m| 2041/2600 [00:01<00:00, 2299.59it/s]\n",
      " 88%|\u001b[38;2;30;71;6m████████▊ \u001b[0m| 2280/2600 [00:01<00:00, 2319.02it/s]\n",
      "100%|\u001b[38;2;30;71;6m██████████\u001b[0m| 2600/2600 [00:01<00:00, 1964.63it/s]\n",
      "100%|\u001b[38;2;30;71;6m██████████\u001b[0m| 651/651 [00:00<00:00, 3533.40it/s]\n",
      "\u001b[36m(tune_model pid=985663)\u001b[0m /home/sarmad/anaconda3/envs/conda_kernel/lib/python3.11/site-packages/torch/nn/modules/rnn.py:83: UserWarning: dropout option adds dropout after all but last recurrent layer, so non-zero dropout expects num_layers greater than 1, but got dropout=0.1 and num_layers=1\n",
      "\u001b[36m(tune_model pid=985663)\u001b[0m   warnings.warn(\"dropout option adds dropout after all but last \"\n",
      "\u001b[36m(tune_model pid=985722)\u001b[0m 2025-02-15 18:49:11.819 | INFO     | mads_datasets.base:download_data:121 - Folder already exists at /home/sarmad/.cache/mads_datasets/gestures\n",
      "  0%|\u001b[38;2;30;71;6m          \u001b[0m| 0/2600 [00:00<?, ?it/s]\u001b[32m [repeated 3x across cluster]\u001b[0m\n",
      "  9%|\u001b[38;2;30;71;6m▉         \u001b[0m| 237/2600 [00:00<00:00, 2364.42it/s]\n",
      "\u001b[33m(raylet)\u001b[0m bash: /home/sarmad/anaconda3/lib/libtinfo.so.6: no version information available (required by bash)\n",
      " 19%|\u001b[38;2;30;71;6m█▉        \u001b[0m| 496/2600 [00:00<00:00, 2492.05it/s]\n",
      " 29%|\u001b[38;2;30;71;6m██▉       \u001b[0m| 758/2600 [00:00<00:00, 2548.70it/s]\n",
      " 40%|\u001b[38;2;30;71;6m███▉      \u001b[0m| 1028/2600 [00:00<00:00, 2606.72it/s]\n",
      " 50%|\u001b[38;2;30;71;6m████▉     \u001b[0m| 1289/2600 [00:00<00:00, 2469.31it/s]\n",
      " 59%|\u001b[38;2;30;71;6m█████▉    \u001b[0m| 1538/2600 [00:00<00:00, 2266.96it/s]\n",
      " 72%|\u001b[38;2;30;71;6m███████▏  \u001b[0m| 1862/2600 [00:00<00:00, 2558.76it/s]\n",
      " 83%|\u001b[38;2;30;71;6m████████▎ \u001b[0m| 2152/2600 [00:00<00:00, 2657.29it/s]\n",
      " 93%|\u001b[38;2;30;71;6m█████████▎\u001b[0m| 2422/2600 [00:00<00:00, 2656.39it/s]\n",
      "100%|\u001b[38;2;30;71;6m██████████\u001b[0m| 2600/2600 [00:01<00:00, 2575.71it/s]\n",
      " 40%|\u001b[38;2;30;71;6m███▉      \u001b[0m| 260/651 [00:00<00:00, 2598.24it/s]\n",
      "100%|\u001b[38;2;30;71;6m██████████\u001b[0m| 651/651 [00:00<00:00, 2542.59it/s]\n",
      "\u001b[36m(tune_model pid=985800)\u001b[0m 2025-02-15 18:49:18.915 | INFO     | mads_datasets.base:download_data:121 - Folder already exists at /home/sarmad/.cache/mads_datasets/gestures\n",
      "  0%|\u001b[38;2;30;71;6m          \u001b[0m| 0/651 [00:00<?, ?it/s]\n",
      "  0%|\u001b[38;2;30;71;6m          \u001b[0m| 0/2600 [00:00<?, ?it/s]\n",
      " 25%|\u001b[38;2;30;71;6m██▌       \u001b[0m| 651/2600 [00:00<00:00, 3244.83it/s]\n",
      " 38%|\u001b[38;2;30;71;6m███▊      \u001b[0m| 976/2600 [00:00<00:00, 2720.49it/s]\n",
      " 48%|\u001b[38;2;30;71;6m████▊     \u001b[0m| 1257/2600 [00:00<00:00, 2581.88it/s]\n",
      " 58%|\u001b[38;2;30;71;6m█████▊    \u001b[0m| 1521/2600 [00:00<00:00, 2484.36it/s]\n",
      " 68%|\u001b[38;2;30;71;6m██████▊   \u001b[0m| 1773/2600 [00:00<00:00, 2440.67it/s]\n",
      " 78%|\u001b[38;2;30;71;6m███████▊  \u001b[0m| 2019/2600 [00:00<00:00, 2381.63it/s]\n",
      " 87%|\u001b[38;2;30;71;6m████████▋ \u001b[0m| 2259/2600 [00:00<00:00, 2356.56it/s]\n",
      " 96%|\u001b[38;2;30;71;6m█████████▌\u001b[0m| 2496/2600 [00:01<00:00, 2180.37it/s]\n",
      "100%|\u001b[38;2;30;71;6m██████████\u001b[0m| 2600/2600 [00:01<00:00, 2399.87it/s]\n",
      "  0%|\u001b[38;2;30;71;6m          \u001b[0m| 0/651 [00:00<?, ?it/s]\n",
      " 29%|\u001b[38;2;30;71;6m██▉       \u001b[0m| 192/651 [00:00<00:00, 1917.42it/s]\n",
      " 99%|\u001b[38;2;30;71;6m█████████▊\u001b[0m| 642/651 [00:00<00:00, 2174.59it/s]\n",
      "100%|\u001b[38;2;30;71;6m██████████\u001b[0m| 651/651 [00:00<00:00, 2097.27it/s]\n",
      "\u001b[36m(tune_model pid=985441)\u001b[0m *** SIGSEGV received at time=1739612960 on cpu 11 ***\n",
      "\u001b[36m(tune_model pid=985441)\u001b[0m PC: @     0x7165930cfd8e  (unknown)  ray::gcs::TaskInfoAccessor::AsyncAddTaskEventData()\n",
      "\u001b[36m(tune_model pid=985441)\u001b[0m     @     0x716594445330       3664  (unknown)\n",
      "\u001b[36m(tune_model pid=985441)\u001b[0m     @     0x716592fb16a5       1392  ray::core::worker::TaskEventBufferImpl::FlushEvents()\n",
      "\u001b[36m(tune_model pid=985441)\u001b[0m     @     0x716592f3a4ac       1488  ray::core::CoreWorker::Disconnect()\n",
      "\u001b[36m(tune_model pid=985441)\u001b[0m     @     0x716592f3a85d       1152  ray::core::CoreWorker::ForceExit()\n",
      "\u001b[36m(tune_model pid=985441)\u001b[0m     @     0x716592f3ac8f       1680  ray::core::CoreWorker::HandleKillActor()\n",
      "\u001b[36m(tune_model pid=985441)\u001b[0m     @     0x716592f32194        192  ray::rpc::ServerCallImpl<>::HandleRequestImpl()\n",
      "\u001b[36m(tune_model pid=985441)\u001b[0m     @     0x7165932864c8       1168  EventTracker::RecordExecution()\n",
      "\u001b[36m(tune_model pid=985441)\u001b[0m     @     0x71659328149e         48  std::_Function_handler<>::_M_invoke()\n",
      "\u001b[36m(tune_model pid=985441)\u001b[0m     @     0x716593281916        112  boost::asio::detail::completion_handler<>::do_complete()\n",
      "\u001b[36m(tune_model pid=985441)\u001b[0m     @     0x71659396882b        128  boost::asio::detail::scheduler::do_run_one()\n",
      "\u001b[36m(tune_model pid=985441)\u001b[0m     @     0x71659396a1a9        288  boost::asio::detail::scheduler::run()\n",
      "\u001b[36m(tune_model pid=985441)\u001b[0m     @     0x71659396a8b2         96  boost::asio::io_context::run()\n",
      "\u001b[36m(tune_model pid=985441)\u001b[0m     @     0x716592e95491       1280  ray::core::CoreWorker::RunIOService()\n",
      "\u001b[36m(tune_model pid=985441)\u001b[0m     @     0x716593337df0         64  thread_proxy\n",
      "\u001b[36m(tune_model pid=985441)\u001b[0m     @     0x71659449caa4        176  (unknown)\n",
      "\u001b[36m(tune_model pid=985441)\u001b[0m     @     0x716594529c3c  (unknown)  (unknown)\n",
      "\u001b[36m(tune_model pid=985441)\u001b[0m [2025-02-15 18:49:20,850 E 985441 985474] logging.cc:460: *** SIGSEGV received at time=1739612960 on cpu 11 ***\n",
      "\u001b[36m(tune_model pid=985441)\u001b[0m [2025-02-15 18:49:20,850 E 985441 985474] logging.cc:460: PC: @     0x7165930cfd8e  (unknown)  ray::gcs::TaskInfoAccessor::AsyncAddTaskEventData()\n",
      "\u001b[36m(tune_model pid=985441)\u001b[0m [2025-02-15 18:49:20,850 E 985441 985474] logging.cc:460:     @     0x716594445330       3664  (unknown)\n",
      "\u001b[36m(tune_model pid=985441)\u001b[0m [2025-02-15 18:49:20,850 E 985441 985474] logging.cc:460:     @     0x716592fb16a5       1392  ray::core::worker::TaskEventBufferImpl::FlushEvents()\n",
      "\u001b[36m(tune_model pid=985441)\u001b[0m [2025-02-15 18:49:20,850 E 985441 985474] logging.cc:460:     @     0x716592f3a4ac       1488  ray::core::CoreWorker::Disconnect()\n",
      "\u001b[36m(tune_model pid=985441)\u001b[0m [2025-02-15 18:49:20,850 E 985441 985474] logging.cc:460:     @     0x716592f3a85d       1152  ray::core::CoreWorker::ForceExit()\n",
      "\u001b[36m(tune_model pid=985441)\u001b[0m [2025-02-15 18:49:20,850 E 985441 985474] logging.cc:460:     @     0x716592f3ac8f       1680  ray::core::CoreWorker::HandleKillActor()\n",
      "\u001b[36m(tune_model pid=985441)\u001b[0m [2025-02-15 18:49:20,850 E 985441 985474] logging.cc:460:     @     0x716592f32194        192  ray::rpc::ServerCallImpl<>::HandleRequestImpl()\n",
      "\u001b[36m(tune_model pid=985441)\u001b[0m [2025-02-15 18:49:20,850 E 985441 985474] logging.cc:460:     @     0x7165932864c8       1168  EventTracker::RecordExecution()\n",
      "\u001b[36m(tune_model pid=985441)\u001b[0m [2025-02-15 18:49:20,850 E 985441 985474] logging.cc:460:     @     0x71659328149e         48  std::_Function_handler<>::_M_invoke()\n",
      "\u001b[36m(tune_model pid=985441)\u001b[0m [2025-02-15 18:49:20,850 E 985441 985474] logging.cc:460:     @     0x716593281916        112  boost::asio::detail::completion_handler<>::do_complete()\n",
      "\u001b[36m(tune_model pid=985441)\u001b[0m [2025-02-15 18:49:20,850 E 985441 985474] logging.cc:460:     @     0x71659396882b        128  boost::asio::detail::scheduler::do_run_one()\n",
      "\u001b[36m(tune_model pid=985441)\u001b[0m [2025-02-15 18:49:20,850 E 985441 985474] logging.cc:460:     @     0x71659396a1a9        288  boost::asio::detail::scheduler::run()\n",
      "\u001b[36m(tune_model pid=985441)\u001b[0m [2025-02-15 18:49:20,850 E 985441 985474] logging.cc:460:     @     0x71659396a8b2         96  boost::asio::io_context::run()\n",
      "\u001b[36m(tune_model pid=985441)\u001b[0m [2025-02-15 18:49:20,850 E 985441 985474] logging.cc:460:     @     0x716592e95491       1280  ray::core::CoreWorker::RunIOService()\n",
      "\u001b[36m(tune_model pid=985441)\u001b[0m [2025-02-15 18:49:20,850 E 985441 985474] logging.cc:460:     @     0x716593337df0         64  thread_proxy\n",
      "\u001b[36m(tune_model pid=985441)\u001b[0m [2025-02-15 18:49:20,850 E 985441 985474] logging.cc:460:     @     0x71659449caa4        176  (unknown)\n",
      "\u001b[36m(tune_model pid=985441)\u001b[0m [2025-02-15 18:49:20,851 E 985441 985474] logging.cc:460:     @     0x716594529c3c  (unknown)  (unknown)\n",
      "\u001b[36m(tune_model pid=985441)\u001b[0m Fatal Python error: Segmentation fault\n",
      "\u001b[36m(tune_model pid=985441)\u001b[0m \n",
      "\u001b[36m(tune_model pid=985441)\u001b[0m \n",
      "\u001b[36m(tune_model pid=985441)\u001b[0m Extension modules: msgpack._cmsgpack, google._upb._message, psutil._psutil_linux, psutil._psutil_posix, setproctitle, yaml._yaml, charset_normalizer.md, requests.packages.charset_normalizer.md, requests.packages.chardet.md, ray._raylet, numpy._core._multiarray_umath, numpy.linalg._umath_linalg, pyarrow.lib, numpy.random._common, numpy.random.bit_generator, numpy.random._bounded_integers, numpy.random._mt19937, numpy.random.mtrand, numpy.random._philox, numpy.random._pcg64, numpy.random._sfc64, numpy.random._generator, pandas._libs.tslibs.ccalendar, pandas._libs.tslibs.np_datetime, pandas._libs.tslibs.dtypes, pandas._libs.tslibs.base, pandas._libs.tslibs.nattype, pandas._libs.tslibs.timezones, pandas._libs.tslibs.fields, pandas._libs.tslibs.timedeltas, pandas._libs.tslibs.tzconversion, pandas._libs.tslibs.timestamps, pandas._libs.properties, pandas._libs.tslibs.offsets, pandas._libs.tslibs.strptime, pandas._libs.tslibs.parsing, pandas._libs.tslibs.conversion, pandas._libs.tslibs.period, pandas._libs.tslibs.vectorized, pandas._libs.ops_dispatch, pandas._libs.missing, pandas._libs.hashtable, pandas._libs.algos, pandas._libs.interval, pandas._libs.lib, pyarrow._compute, pandas._libs.ops, pandas._libs.hashing, pandas._libs.arrays, pandas._libs.tslib, pandas._libs.sparse, pandas._libs.internals, pandas._libs.indexing, pandas._libs.index, pandas._libs.writers, pandas._libs.join, pandas._libs.window.aggregations, pandas._libs.window.indexers, pandas._libs.reshape, pandas._libs.groupby, pandas._libs.json, pandas._libs.parsers, pandas._libs.testing, pyarrow._fs, pyarrow._azurefs, pyarrow._hdfs, pyarrow._gcsfs, pyarrow._s3fs, pyarrow._parquet, torch._C, torch._C._fft, torch._C._linalg, torch._C._nested, torch._C._nn, torch._C._sparse, torch._C._special, pyarrow._json, _cffi_backend, scipy._lib._ccallback_c, scipy.sparse._sparsetools, _csparsetools, scipy.sparse._csparsetools, scipy.linalg._fblas, scipy.linalg._flapack, scipy.linalg.cython_lapack, scipy.linalg._cythonized_array_utils, scipy.linalg._solve_toeplitz, scipy.linalg._decomp_lu_cython, scipy.linalg._matfuncs_sqrtm_triu, scipy.linalg._matfuncs_expm, scipy.linalg._linalg_pythran, scipy.linalg.cython_blas, scipy.linalg._decomp_update, scipy.sparse.linalg._dsolve._superlu, scipy.sparse.linalg._eigen.arpack._arpack, scipy.sparse.linalg._propack._spropack, scipy.sparse.linalg._propack._dpropack, scipy.sparse.linalg._propack._cpropack, scipy.sparse.linalg._propack._zpropack, scipy.sparse.csgraph._tools, scipy.sparse.csgraph._shortest_path, scipy.sparse.csgraph._traversal, scipy.sparse.csgraph._min_spanning_tree, scipy.sparse.csgraph._flow, scipy.sparse.csgraph._matching, scipy.sparse.csgraph._reordering, PIL._imaging (total: 107)\n",
      "\u001b[33m(raylet)\u001b[0m bash: /home/sarmad/anaconda3/lib/libtinfo.so.6: no version information available (required by bash)\n",
      "\u001b[36m(tune_model pid=985861)\u001b[0m 2025-02-15 18:49:29.072 | INFO     | mads_datasets.base:download_data:121 - Folder already exists at /home/sarmad/.cache/mads_datasets/gestures\n",
      "  0%|\u001b[38;2;30;71;6m          \u001b[0m| 0/2600 [00:00<?, ?it/s]\n",
      " 10%|\u001b[38;2;30;71;6m▉         \u001b[0m| 247/2600 [00:00<00:00, 2465.65it/s]\n",
      " 20%|\u001b[38;2;30;71;6m██        \u001b[0m| 529/2600 [00:00<00:00, 2666.95it/s]\n",
      " 31%|\u001b[38;2;30;71;6m███       \u001b[0m| 796/2600 [00:00<00:00, 2530.56it/s]\n",
      " 40%|\u001b[38;2;30;71;6m████      \u001b[0m| 1050/2600 [00:00<00:00, 2385.95it/s]\n",
      " 50%|\u001b[38;2;30;71;6m█████     \u001b[0m| 1306/2600 [00:00<00:00, 2444.86it/s]\n",
      "\u001b[33m(raylet)\u001b[0m bash: /home/sarmad/anaconda3/lib/libtinfo.so.6: no version information available (required by bash)\n",
      " 60%|\u001b[38;2;30;71;6m█████▉    \u001b[0m| 1552/2600 [00:00<00:00, 2387.85it/s]\n",
      " 69%|\u001b[38;2;30;71;6m██████▉   \u001b[0m| 1792/2600 [00:00<00:00, 2381.25it/s]\n",
      " 79%|\u001b[38;2;30;71;6m███████▊  \u001b[0m| 2047/2600 [00:00<00:00, 2431.43it/s]\n",
      " 89%|\u001b[38;2;30;71;6m████████▉ \u001b[0m| 2312/2600 [00:00<00:00, 2495.44it/s]\n",
      "100%|\u001b[38;2;30;71;6m██████████\u001b[0m| 2600/2600 [00:01<00:00, 2455.94it/s]\n",
      "  0%|\u001b[38;2;30;71;6m          \u001b[0m| 0/651 [00:00<?, ?it/s]\n",
      " 38%|\u001b[38;2;30;71;6m███▊      \u001b[0m| 249/651 [00:00<00:00, 2485.30it/s]\n",
      " 77%|\u001b[38;2;30;71;6m███████▋  \u001b[0m| 501/651 [00:00<00:00, 2502.00it/s]\n",
      "100%|\u001b[38;2;30;71;6m██████████\u001b[0m| 651/651 [00:00<00:00, 2493.45it/s]\n",
      "\u001b[33m(raylet)\u001b[0m bash: /home/sarmad/anaconda3/lib/libtinfo.so.6: no version information available (required by bash)\n",
      "\u001b[36m(tune_model pid=985929)\u001b[0m 2025-02-15 18:49:37.201 | INFO     | mads_datasets.base:download_data:121 - Folder already exists at /home/sarmad/.cache/mads_datasets/gestures\n",
      "  0%|\u001b[38;2;30;71;6m          \u001b[0m| 0/2600 [00:00<?, ?it/s]\n",
      "  9%|\u001b[38;2;30;71;6m▉         \u001b[0m| 240/2600 [00:00<00:00, 2395.86it/s]\n",
      " 18%|\u001b[38;2;30;71;6m█▊        \u001b[0m| 480/2600 [00:00<00:01, 2021.89it/s]\n",
      " 26%|\u001b[38;2;30;71;6m██▋       \u001b[0m| 686/2600 [00:00<00:00, 1917.05it/s]\n",
      " 36%|\u001b[38;2;30;71;6m███▌      \u001b[0m| 937/2600 [00:00<00:00, 2128.24it/s]\n",
      " 44%|\u001b[38;2;30;71;6m████▍     \u001b[0m| 1154/2600 [00:00<00:00, 1943.97it/s]\n",
      " 52%|\u001b[38;2;30;71;6m█████▏    \u001b[0m| 1353/2600 [00:00<00:00, 1781.57it/s]\n",
      " 61%|\u001b[38;2;30;71;6m██████    \u001b[0m| 1574/2600 [00:00<00:00, 1901.27it/s]\n",
      " 69%|\u001b[38;2;30;71;6m██████▉   \u001b[0m| 1793/2600 [00:00<00:00, 1983.45it/s]\n",
      " 81%|\u001b[38;2;30;71;6m████████  \u001b[0m| 2098/2600 [00:01<00:00, 2292.17it/s]\n",
      " 90%|\u001b[38;2;30;71;6m████████▉ \u001b[0m| 2332/2600 [00:01<00:00, 2149.26it/s]\n",
      "100%|\u001b[38;2;30;71;6m██████████\u001b[0m| 2600/2600 [00:01<00:00, 2130.32it/s]\n",
      "  0%|\u001b[38;2;30;71;6m          \u001b[0m| 0/651 [00:00<?, ?it/s]\n",
      " 49%|\u001b[38;2;30;71;6m████▊     \u001b[0m| 316/651 [00:00<00:00, 3153.59it/s]\n",
      "100%|\u001b[38;2;30;71;6m██████████\u001b[0m| 651/651 [00:00<00:00, 2748.92it/s]\n",
      "\u001b[36m(tune_model pid=985982)\u001b[0m 2025-02-15 18:49:43.841 | INFO     | mads_datasets.base:download_data:121 - Folder already exists at /home/sarmad/.cache/mads_datasets/gestures\n",
      "  0%|\u001b[38;2;30;71;6m          \u001b[0m| 0/2600 [00:00<?, ?it/s]\n",
      "  9%|\u001b[38;2;30;71;6m▊         \u001b[0m| 225/2600 [00:00<00:01, 2244.19it/s]\n",
      " 19%|\u001b[38;2;30;71;6m█▉        \u001b[0m| 493/2600 [00:00<00:00, 2495.91it/s]\n",
      " 30%|\u001b[38;2;30;71;6m███       \u001b[0m| 781/2600 [00:00<00:00, 2669.70it/s]\n",
      " 40%|\u001b[38;2;30;71;6m████      \u001b[0m| 1052/2600 [00:00<00:00, 2681.21it/s]\n",
      " 51%|\u001b[38;2;30;71;6m█████     \u001b[0m| 1321/2600 [00:00<00:00, 2348.78it/s]\n",
      " 60%|\u001b[38;2;30;71;6m██████    \u001b[0m| 1562/2600 [00:00<00:00, 2201.41it/s]\n",
      " 69%|\u001b[38;2;30;71;6m██████▊   \u001b[0m| 1787/2600 [00:00<00:00, 2152.70it/s]\n",
      " 78%|\u001b[38;2;30;71;6m███████▊  \u001b[0m| 2018/2600 [00:00<00:00, 2195.79it/s]\n",
      " 86%|\u001b[38;2;30;71;6m████████▌ \u001b[0m| 2241/2600 [00:00<00:00, 2198.34it/s]\n",
      "100%|\u001b[38;2;30;71;6m██████████\u001b[0m| 2600/2600 [00:01<00:00, 2388.24it/s]\n",
      "  0%|\u001b[38;2;30;71;6m          \u001b[0m| 0/651 [00:00<?, ?it/s]\n",
      " 41%|\u001b[38;2;30;71;6m████      \u001b[0m| 266/651 [00:00<00:00, 2658.17it/s]\n",
      " 82%|\u001b[38;2;30;71;6m████████▏ \u001b[0m| 532/651 [00:00<00:00, 2020.29it/s]\n",
      "100%|\u001b[38;2;30;71;6m██████████\u001b[0m| 651/651 [00:00<00:00, 1922.57it/s]\n",
      "\u001b[33m(raylet)\u001b[0m bash: /home/sarmad/anaconda3/lib/libtinfo.so.6: no version information available (required by bash)\n",
      "\u001b[36m(tune_model pid=986074)\u001b[0m 2025-02-15 18:49:54.743 | INFO     | mads_datasets.base:download_data:121 - Folder already exists at /home/sarmad/.cache/mads_datasets/gestures\n",
      "  0%|\u001b[38;2;30;71;6m          \u001b[0m| 0/2600 [00:00<?, ?it/s]\n",
      "  9%|\u001b[38;2;30;71;6m▉         \u001b[0m| 239/2600 [00:00<00:00, 2382.12it/s]\n",
      " 19%|\u001b[38;2;30;71;6m█▉        \u001b[0m| 496/2600 [00:00<00:00, 2492.33it/s]\n",
      " 29%|\u001b[38;2;30;71;6m██▉       \u001b[0m| 757/2600 [00:00<00:00, 2544.25it/s]\n",
      " 39%|\u001b[38;2;30;71;6m███▉      \u001b[0m| 1012/2600 [00:00<00:00, 2484.62it/s]\n",
      " 48%|\u001b[38;2;30;71;6m████▊     \u001b[0m| 1261/2600 [00:00<00:00, 2455.32it/s]\n",
      " 58%|\u001b[38;2;30;71;6m█████▊    \u001b[0m| 1515/2600 [00:00<00:00, 2481.29it/s]\n",
      " 69%|\u001b[38;2;30;71;6m██████▉   \u001b[0m| 1791/2600 [00:00<00:00, 2568.00it/s]\n",
      " 79%|\u001b[38;2;30;71;6m███████▉  \u001b[0m| 2048/2600 [00:00<00:00, 2414.33it/s]\n",
      " 88%|\u001b[38;2;30;71;6m████████▊ \u001b[0m| 2292/2600 [00:00<00:00, 2412.44it/s]\n",
      " 98%|\u001b[38;2;30;71;6m█████████▊\u001b[0m| 2560/2600 [00:01<00:00, 2491.66it/s]\n",
      "100%|\u001b[38;2;30;71;6m██████████\u001b[0m| 2600/2600 [00:01<00:00, 2470.00it/s]\n",
      "  0%|\u001b[38;2;30;71;6m          \u001b[0m| 0/651 [00:00<?, ?it/s]\n",
      " 29%|\u001b[38;2;30;71;6m██▉       \u001b[0m| 192/651 [00:00<00:00, 1913.42it/s]\n",
      " 59%|\u001b[38;2;30;71;6m█████▉    \u001b[0m| 384/651 [00:00<00:00, 1725.83it/s]\n",
      " 88%|\u001b[38;2;30;71;6m████████▊ \u001b[0m| 570/651 [00:00<00:00, 1776.43it/s]\n",
      "100%|\u001b[38;2;30;71;6m██████████\u001b[0m| 651/651 [00:00<00:00, 1785.09it/s]\n",
      "\u001b[33m(raylet)\u001b[0m bash: /home/sarmad/anaconda3/lib/libtinfo.so.6: no version information available (required by bash)\n",
      "\u001b[36m(tune_model pid=986140)\u001b[0m 2025-02-15 18:50:10.069 | INFO     | mads_datasets.base:download_data:121 - Folder already exists at /home/sarmad/.cache/mads_datasets/gestures\n",
      "  0%|\u001b[38;2;30;71;6m          \u001b[0m| 0/2600 [00:00<?, ?it/s]\n",
      "  8%|\u001b[38;2;30;71;6m▊         \u001b[0m| 197/2600 [00:00<00:01, 1965.44it/s]\n",
      " 16%|\u001b[38;2;30;71;6m█▌        \u001b[0m| 409/2600 [00:00<00:01, 2052.60it/s]\n",
      " 24%|\u001b[38;2;30;71;6m██▎       \u001b[0m| 615/2600 [00:00<00:00, 2023.77it/s]\n",
      " 34%|\u001b[38;2;30;71;6m███▍      \u001b[0m| 878/2600 [00:00<00:00, 2256.33it/s]\n",
      " 42%|\u001b[38;2;30;71;6m████▏     \u001b[0m| 1104/2600 [00:00<00:00, 2193.08it/s]\n",
      " 52%|\u001b[38;2;30;71;6m█████▏    \u001b[0m| 1342/2600 [00:00<00:00, 2252.93it/s]\n",
      " 61%|\u001b[38;2;30;71;6m██████    \u001b[0m| 1584/2600 [00:00<00:00, 2305.97it/s]\n",
      " 72%|\u001b[38;2;30;71;6m███████▏  \u001b[0m| 1882/2600 [00:00<00:00, 2516.38it/s]\n",
      " 83%|\u001b[38;2;30;71;6m████████▎ \u001b[0m| 2151/2600 [00:00<00:00, 2566.01it/s]\n",
      "100%|\u001b[38;2;30;71;6m██████████\u001b[0m| 2600/2600 [00:01<00:00, 2372.31it/s]\n",
      "  0%|\u001b[38;2;30;71;6m          \u001b[0m| 0/651 [00:00<?, ?it/s]\n",
      " 28%|\u001b[38;2;30;71;6m██▊       \u001b[0m| 182/651 [00:00<00:00, 1818.53it/s]\n",
      " 58%|\u001b[38;2;30;71;6m█████▊    \u001b[0m| 378/651 [00:00<00:00, 1897.63it/s]\n",
      " 87%|\u001b[38;2;30;71;6m████████▋ \u001b[0m| 568/651 [00:00<00:00, 1812.48it/s]\n",
      "100%|\u001b[38;2;30;71;6m██████████\u001b[0m| 651/651 [00:00<00:00, 1810.26it/s]\n",
      "\u001b[33m(raylet)\u001b[0m bash: /home/sarmad/anaconda3/lib/libtinfo.so.6: no version information available (required by bash)\n",
      "\u001b[33m(raylet)\u001b[0m bash: /home/sarmad/anaconda3/lib/libtinfo.so.6: no version information available (required by bash)\n",
      "\u001b[36m(tune_model pid=986229)\u001b[0m 2025-02-15 18:50:36.270 | INFO     | mads_datasets.base:download_data:121 - Folder already exists at /home/sarmad/.cache/mads_datasets/gestures\n",
      "  0%|\u001b[38;2;30;71;6m          \u001b[0m| 0/2600 [00:00<?, ?it/s]\n",
      "  8%|\u001b[38;2;30;71;6m▊         \u001b[0m| 196/2600 [00:00<00:01, 1953.09it/s]\n",
      " 16%|\u001b[38;2;30;71;6m█▌        \u001b[0m| 422/2600 [00:00<00:01, 2131.48it/s]\n",
      " 26%|\u001b[38;2;30;71;6m██▌       \u001b[0m| 666/2600 [00:00<00:00, 2271.35it/s]\n",
      " 46%|\u001b[38;2;30;71;6m████▌     \u001b[0m| 1184/2600 [00:00<00:00, 2457.66it/s]\n",
      " 55%|\u001b[38;2;30;71;6m█████▌    \u001b[0m| 1431/2600 [00:00<00:00, 2263.08it/s]\n",
      " 64%|\u001b[38;2;30;71;6m██████▍   \u001b[0m| 1661/2600 [00:00<00:00, 2215.16it/s]\n",
      " 73%|\u001b[38;2;30;71;6m███████▎  \u001b[0m| 1891/2600 [00:00<00:00, 2237.81it/s]\n",
      " 83%|\u001b[38;2;30;71;6m████████▎ \u001b[0m| 2146/2600 [00:00<00:00, 2322.91it/s]\n",
      " 93%|\u001b[38;2;30;71;6m█████████▎\u001b[0m| 2415/2600 [00:01<00:00, 2432.15it/s]\n",
      "100%|\u001b[38;2;30;71;6m██████████\u001b[0m| 2600/2600 [00:01<00:00, 2329.65it/s]\n",
      "  0%|\u001b[38;2;30;71;6m          \u001b[0m| 0/651 [00:00<?, ?it/s]\n",
      " 27%|\u001b[38;2;30;71;6m██▋       \u001b[0m| 177/651 [00:00<00:00, 1757.22it/s]\n",
      " 54%|\u001b[38;2;30;71;6m█████▍    \u001b[0m| 353/651 [00:00<00:00, 1676.90it/s]\n",
      "100%|\u001b[38;2;30;71;6m██████████\u001b[0m| 651/651 [00:00<00:00, 1494.51it/s]\n",
      "\u001b[36m(tune_model pid=986288)\u001b[0m 2025-02-15 18:50:44.831 | INFO     | mads_datasets.base:download_data:121 - Folder already exists at /home/sarmad/.cache/mads_datasets/gestures\n",
      "  0%|\u001b[38;2;30;71;6m          \u001b[0m| 0/2600 [00:00<?, ?it/s]\n",
      "  5%|\u001b[38;2;30;71;6m▍         \u001b[0m| 124/2600 [00:00<00:01, 1238.47it/s]\n",
      " 13%|\u001b[38;2;30;71;6m█▎        \u001b[0m| 347/2600 [00:00<00:01, 1819.20it/s]\n",
      " 23%|\u001b[38;2;30;71;6m██▎       \u001b[0m| 588/2600 [00:00<00:00, 2087.31it/s]\n",
      " 31%|\u001b[38;2;30;71;6m███       \u001b[0m| 797/2600 [00:00<00:00, 2079.15it/s]\n",
      " 39%|\u001b[38;2;30;71;6m███▉      \u001b[0m| 1025/2600 [00:00<00:00, 2147.15it/s]\n",
      " 48%|\u001b[38;2;30;71;6m████▊     \u001b[0m| 1240/2600 [00:00<00:00, 1850.51it/s]\n",
      " 55%|\u001b[38;2;30;71;6m█████▌    \u001b[0m| 1432/2600 [00:00<00:00, 1631.72it/s]\n",
      " 62%|\u001b[38;2;30;71;6m██████▏   \u001b[0m| 1605/2600 [00:00<00:00, 1656.56it/s]\n",
      " 71%|\u001b[38;2;30;71;6m███████   \u001b[0m| 1838/2600 [00:01<00:00, 1838.02it/s]\n",
      " 78%|\u001b[38;2;30;71;6m███████▊  \u001b[0m| 2041/2600 [00:01<00:00, 1889.46it/s]\n",
      " 86%|\u001b[38;2;30;71;6m████████▌ \u001b[0m| 2236/2600 [00:01<00:00, 1904.47it/s]\n",
      " 93%|\u001b[38;2;30;71;6m█████████▎\u001b[0m| 2430/2600 [00:01<00:00, 1912.09it/s]\n",
      "100%|\u001b[38;2;30;71;6m██████████\u001b[0m| 2600/2600 [00:01<00:00, 1891.20it/s]\n",
      " 40%|\u001b[38;2;30;71;6m████      \u001b[0m| 262/651 [00:00<00:00, 2617.55it/s]\n",
      " 81%|\u001b[38;2;30;71;6m████████  \u001b[0m| 526/651 [00:00<00:00, 2628.01it/s]\n",
      "100%|\u001b[38;2;30;71;6m██████████\u001b[0m| 651/651 [00:00<00:00, 2695.13it/s]\n",
      "\u001b[33m(raylet)\u001b[0m bash: /home/sarmad/anaconda3/lib/libtinfo.so.6: no version information available (required by bash)\n",
      "\u001b[36m(tune_model pid=986446)\u001b[0m 2025-02-15 18:51:42.418 | INFO     | mads_datasets.base:download_data:121 - Folder already exists at /home/sarmad/.cache/mads_datasets/gestures\n",
      "  0%|\u001b[38;2;30;71;6m          \u001b[0m| 0/2600 [00:00<?, ?it/s]\n",
      " 10%|\u001b[38;2;30;71;6m▉         \u001b[0m| 252/2600 [00:00<00:00, 2519.32it/s]\n",
      " 20%|\u001b[38;2;30;71;6m█▉        \u001b[0m| 512/2600 [00:00<00:00, 2555.55it/s]\n",
      " 31%|\u001b[38;2;30;71;6m███       \u001b[0m| 795/2600 [00:00<00:00, 2677.35it/s]\n",
      " 41%|\u001b[38;2;30;71;6m████      \u001b[0m| 1072/2600 [00:00<00:00, 2708.87it/s]\n",
      " 52%|\u001b[38;2;30;71;6m█████▏    \u001b[0m| 1343/2600 [00:00<00:00, 2578.13it/s]\n",
      " 64%|\u001b[38;2;30;71;6m██████▍   \u001b[0m| 1662/2600 [00:00<00:00, 2777.82it/s]\n",
      " 75%|\u001b[38;2;30;71;6m███████▍  \u001b[0m| 1942/2600 [00:00<00:00, 2762.12it/s]\n",
      " 85%|\u001b[38;2;30;71;6m████████▌ \u001b[0m| 2220/2600 [00:00<00:00, 2744.52it/s]\n",
      " 96%|\u001b[38;2;30;71;6m█████████▋\u001b[0m| 2509/2600 [00:00<00:00, 2788.29it/s]\n",
      "100%|\u001b[38;2;30;71;6m██████████\u001b[0m| 2600/2600 [00:00<00:00, 2685.71it/s]\n",
      "  0%|\u001b[38;2;30;71;6m          \u001b[0m| 0/651 [00:00<?, ?it/s]\n",
      " 38%|\u001b[38;2;30;71;6m███▊      \u001b[0m| 245/651 [00:00<00:00, 2443.99it/s]\n",
      "100%|\u001b[38;2;30;71;6m██████████\u001b[0m| 651/651 [00:00<00:00, 2381.75it/s]\n",
      "\u001b[33m(raylet)\u001b[0m bash: /home/sarmad/anaconda3/lib/libtinfo.so.6: no version information available (required by bash)\n",
      "\u001b[36m(tune_model pid=986547)\u001b[0m 2025-02-15 18:52:10.255 | INFO     | mads_datasets.base:download_data:121 - Folder already exists at /home/sarmad/.cache/mads_datasets/gestures\n",
      "  0%|\u001b[38;2;30;71;6m          \u001b[0m| 0/2600 [00:00<?, ?it/s]\n",
      " 12%|\u001b[38;2;30;71;6m█▎        \u001b[0m| 325/2600 [00:00<00:00, 3240.75it/s]\n",
      " 25%|\u001b[38;2;30;71;6m██▌       \u001b[0m| 650/2600 [00:00<00:00, 2769.61it/s]\n",
      " 36%|\u001b[38;2;30;71;6m███▌      \u001b[0m| 932/2600 [00:00<00:00, 2732.51it/s]\n",
      " 46%|\u001b[38;2;30;71;6m████▋     \u001b[0m| 1208/2600 [00:00<00:00, 2096.02it/s]\n",
      " 55%|\u001b[38;2;30;71;6m█████▌    \u001b[0m| 1434/2600 [00:00<00:00, 1666.39it/s]\n",
      " 62%|\u001b[38;2;30;71;6m██████▏   \u001b[0m| 1620/2600 [00:00<00:00, 1641.36it/s]\n",
      " 69%|\u001b[38;2;30;71;6m██████▉   \u001b[0m| 1796/2600 [00:00<00:00, 1655.52it/s]\n",
      " 76%|\u001b[38;2;30;71;6m███████▌  \u001b[0m| 1970/2600 [00:01<00:00, 1488.14it/s]\n",
      " 82%|\u001b[38;2;30;71;6m████████▏ \u001b[0m| 2126/2600 [00:01<00:00, 1335.99it/s]\n",
      " 87%|\u001b[38;2;30;71;6m████████▋ \u001b[0m| 2267/2600 [00:01<00:00, 1353.20it/s]\n",
      " 94%|\u001b[38;2;30;71;6m█████████▎\u001b[0m| 2436/2600 [00:01<00:00, 1438.12it/s]\n",
      "100%|\u001b[38;2;30;71;6m██████████\u001b[0m| 2600/2600 [00:01<00:00, 1659.16it/s]\n",
      "  0%|\u001b[38;2;30;71;6m          \u001b[0m| 0/651 [00:00<?, ?it/s]\n",
      " 10%|\u001b[38;2;30;71;6m▉         \u001b[0m| 65/651 [00:00<00:00, 647.30it/s]\n",
      " 39%|\u001b[38;2;30;71;6m███▉      \u001b[0m| 256/651 [00:00<00:00, 1387.86it/s]\n",
      " 75%|\u001b[38;2;30;71;6m███████▍  \u001b[0m| 487/651 [00:00<00:00, 1805.82it/s]\n",
      "100%|\u001b[38;2;30;71;6m██████████\u001b[0m| 651/651 [00:00<00:00, 1799.69it/s]\n",
      "\u001b[36m(tune_model pid=986229)\u001b[0m *** SIGSEGV received at time=1739613234 on cpu 3 ***\n",
      "\u001b[36m(tune_model pid=986229)\u001b[0m PC: @     0x773126ccfd8e  (unknown)  ray::gcs::TaskInfoAccessor::AsyncAddTaskEventData()\n",
      "\u001b[36m(tune_model pid=986229)\u001b[0m     @     0x773128045330       3664  (unknown)\n",
      "\u001b[36m(tune_model pid=986229)\u001b[0m     @     0x773126bb16a5       1392  ray::core::worker::TaskEventBufferImpl::FlushEvents()\n",
      "\u001b[36m(tune_model pid=986229)\u001b[0m     @     0x773126b3a4ac       1488  ray::core::CoreWorker::Disconnect()\n",
      "\u001b[36m(tune_model pid=986229)\u001b[0m     @     0x773126b3a85d       1152  ray::core::CoreWorker::ForceExit()\n",
      "\u001b[36m(tune_model pid=986229)\u001b[0m     @     0x773126b3ac8f       1680  ray::core::CoreWorker::HandleKillActor()\n",
      "\u001b[36m(tune_model pid=986229)\u001b[0m     @     0x773126b32194        192  ray::rpc::ServerCallImpl<>::HandleRequestImpl()\n",
      "\u001b[36m(tune_model pid=986229)\u001b[0m     @     0x773126e864c8       1168  EventTracker::RecordExecution()\n",
      "\u001b[36m(tune_model pid=986229)\u001b[0m     @     0x773126e8149e         48  std::_Function_handler<>::_M_invoke()\n",
      "\u001b[36m(tune_model pid=986229)\u001b[0m     @     0x773126e81916        112  boost::asio::detail::completion_handler<>::do_complete()\n",
      "\u001b[36m(tune_model pid=986229)\u001b[0m     @     0x77312756882b        128  boost::asio::detail::scheduler::do_run_one()\n",
      "\u001b[36m(tune_model pid=986229)\u001b[0m     @     0x77312756a1a9        288  boost::asio::detail::scheduler::run()\n",
      "\u001b[36m(tune_model pid=986229)\u001b[0m     @     0x77312756a8b2         96  boost::asio::io_context::run()\n",
      "\u001b[36m(tune_model pid=986229)\u001b[0m     @     0x773126a95491       1280  ray::core::CoreWorker::RunIOService()\n",
      "\u001b[36m(tune_model pid=986229)\u001b[0m     @     0x773126f37df0         64  thread_proxy\n",
      "\u001b[36m(tune_model pid=986229)\u001b[0m     @     0x77312809caa4        176  (unknown)\n",
      "\u001b[36m(tune_model pid=986229)\u001b[0m     @     0x773128129c3c  (unknown)  (unknown)\n",
      "\u001b[36m(tune_model pid=986229)\u001b[0m [2025-02-15 18:53:54,134 E 986229 986261] logging.cc:460: *** SIGSEGV received at time=1739613234 on cpu 3 ***\n",
      "\u001b[36m(tune_model pid=986229)\u001b[0m [2025-02-15 18:53:54,134 E 986229 986261] logging.cc:460: PC: @     0x773126ccfd8e  (unknown)  ray::gcs::TaskInfoAccessor::AsyncAddTaskEventData()\n",
      "\u001b[36m(tune_model pid=986229)\u001b[0m [2025-02-15 18:53:54,134 E 986229 986261] logging.cc:460:     @     0x773128045330       3664  (unknown)\n",
      "\u001b[36m(tune_model pid=986229)\u001b[0m [2025-02-15 18:53:54,134 E 986229 986261] logging.cc:460:     @     0x773126bb16a5       1392  ray::core::worker::TaskEventBufferImpl::FlushEvents()\n",
      "\u001b[36m(tune_model pid=986229)\u001b[0m [2025-02-15 18:53:54,134 E 986229 986261] logging.cc:460:     @     0x773126b3a4ac       1488  ray::core::CoreWorker::Disconnect()\n",
      "\u001b[36m(tune_model pid=986229)\u001b[0m [2025-02-15 18:53:54,134 E 986229 986261] logging.cc:460:     @     0x773126b3a85d       1152  ray::core::CoreWorker::ForceExit()\n",
      "\u001b[36m(tune_model pid=986229)\u001b[0m [2025-02-15 18:53:54,134 E 986229 986261] logging.cc:460:     @     0x773126b3ac8f       1680  ray::core::CoreWorker::HandleKillActor()\n",
      "\u001b[36m(tune_model pid=986229)\u001b[0m [2025-02-15 18:53:54,134 E 986229 986261] logging.cc:460:     @     0x773126b32194        192  ray::rpc::ServerCallImpl<>::HandleRequestImpl()\n",
      "\u001b[36m(tune_model pid=986229)\u001b[0m [2025-02-15 18:53:54,134 E 986229 986261] logging.cc:460:     @     0x773126e864c8       1168  EventTracker::RecordExecution()\n",
      "\u001b[36m(tune_model pid=986229)\u001b[0m [2025-02-15 18:53:54,134 E 986229 986261] logging.cc:460:     @     0x773126e8149e         48  std::_Function_handler<>::_M_invoke()\n",
      "\u001b[36m(tune_model pid=986229)\u001b[0m [2025-02-15 18:53:54,134 E 986229 986261] logging.cc:460:     @     0x773126e81916        112  boost::asio::detail::completion_handler<>::do_complete()\n",
      "\u001b[36m(tune_model pid=986229)\u001b[0m [2025-02-15 18:53:54,134 E 986229 986261] logging.cc:460:     @     0x77312756882b        128  boost::asio::detail::scheduler::do_run_one()\n",
      "\u001b[36m(tune_model pid=986229)\u001b[0m [2025-02-15 18:53:54,134 E 986229 986261] logging.cc:460:     @     0x77312756a1a9        288  boost::asio::detail::scheduler::run()\n",
      "\u001b[36m(tune_model pid=986229)\u001b[0m [2025-02-15 18:53:54,134 E 986229 986261] logging.cc:460:     @     0x77312756a8b2         96  boost::asio::io_context::run()\n",
      "\u001b[36m(tune_model pid=986229)\u001b[0m [2025-02-15 18:53:54,134 E 986229 986261] logging.cc:460:     @     0x773126a95491       1280  ray::core::CoreWorker::RunIOService()\n",
      "\u001b[36m(tune_model pid=986229)\u001b[0m [2025-02-15 18:53:54,134 E 986229 986261] logging.cc:460:     @     0x773126f37df0         64  thread_proxy\n",
      "\u001b[36m(tune_model pid=986229)\u001b[0m [2025-02-15 18:53:54,135 E 986229 986261] logging.cc:460:     @     0x77312809caa4        176  (unknown)\n",
      "\u001b[36m(tune_model pid=986229)\u001b[0m [2025-02-15 18:53:54,135 E 986229 986261] logging.cc:460:     @     0x773128129c3c  (unknown)  (unknown)\n",
      "\u001b[36m(tune_model pid=986229)\u001b[0m Fatal Python error: Segmentation fault\n",
      "\u001b[36m(tune_model pid=986229)\u001b[0m \n",
      "\u001b[36m(tune_model pid=986229)\u001b[0m \n",
      "\u001b[36m(tune_model pid=986229)\u001b[0m Extension modules: msgpack._cmsgpack, google._upb._message, psutil._psutil_linux, psutil._psutil_posix, setproctitle, yaml._yaml, charset_normalizer.md, requests.packages.charset_normalizer.md, requests.packages.chardet.md, ray._raylet, numpy._core._multiarray_umath, numpy.linalg._umath_linalg, pyarrow.lib, numpy.random._common, numpy.random.bit_generator, numpy.random._bounded_integers, numpy.random._mt19937, numpy.random.mtrand, numpy.random._philox, numpy.random._pcg64, numpy.random._sfc64, numpy.random._generator, pandas._libs.tslibs.ccalendar, pandas._libs.tslibs.np_datetime, pandas._libs.tslibs.dtypes, pandas._libs.tslibs.base, pandas._libs.tslibs.nattype, pandas._libs.tslibs.timezones, pandas._libs.tslibs.fields, pandas._libs.tslibs.timedeltas, pandas._libs.tslibs.tzconversion, pandas._libs.tslibs.timestamps, pandas._libs.properties, pandas._libs.tslibs.offsets, pandas._libs.tslibs.strptime, pandas._libs.tslibs.parsing, pandas._libs.tslibs.conversion, pandas._libs.tslibs.period, pandas._libs.tslibs.vectorized, pandas._libs.ops_dispatch, pandas._libs.missing, pandas._libs.hashtable, pandas._libs.algos, pandas._libs.interval, pandas._libs.lib, pyarrow._compute, pandas._libs.ops, pandas._libs.hashing, pandas._libs.arrays, pandas._libs.tslib, pandas._libs.sparse, pandas._libs.internals, pandas._libs.indexing, pandas._libs.index, pandas._libs.writers, pandas._libs.join, pandas._libs.window.aggregations, pandas._libs.window.indexers, pandas._libs.reshape, pandas._libs.groupby, pandas._libs.json, pandas._libs.parsers, pandas._libs.testing, pyarrow._fs, pyarrow._azurefs, pyarrow._hdfs, pyarrow._gcsfs, pyarrow._s3fs, pyarrow._parquet, torch._C, torch._C._fft, torch._C._linalg, torch._C._nested, torch._C._nn, torch._C._sparse, torch._C._special, pyarrow._json, _cffi_backend, scipy._lib._ccallback_c, scipy.sparse._sparsetools, _csparsetools, scipy.sparse._csparsetools, scipy.linalg._fblas, scipy.linalg._flapack, scipy.linalg.cython_lapack, scipy.linalg._cythonized_array_utils, scipy.linalg._solve_toeplitz, scipy.linalg._decomp_lu_cython, scipy.linalg._matfuncs_sqrtm_triu, scipy.linalg._matfuncs_expm, scipy.linalg._linalg_pythran, scipy.linalg.cython_blas, scipy.linalg._decomp_update, scipy.sparse.linalg._dsolve._superlu, scipy.sparse.linalg._eigen.arpack._arpack, scipy.sparse.linalg._propack._spropack, scipy.sparse.linalg._propack._dpropack, scipy.sparse.linalg._propack._cpropack, scipy.sparse.linalg._propack._zpropack, scipy.sparse.csgraph._tools, scipy.sparse.csgraph._shortest_path, scipy.sparse.csgraph._traversal, scipy.sparse.csgraph._min_spanning_tree, scipy.sparse.csgraph._flow, scipy.sparse.csgraph._matching, scipy.sparse.csgraph._reordering, PIL._imaging (total: 107)\n"
     ]
    },
    {
     "name": "stderr",
     "output_type": "stream",
     "text": [
      "2025-02-15 17:54:22,127\tINFO tune.py:1009 -- Wrote the latest version of all result files and experiment state to '/home/sarmad/Documents/code/upperkaam/notebooks_review/Deliverable_Part_1/notebooks/4_tuning_networks/models/ray/tune_model_2025-02-15_17-44-40' in 0.0035s.\n",
      "2025-02-15 17:54:22,132\tINFO tune.py:1041 -- Total run time: 581.75 seconds (581.71 seconds for the tuning loop).\n"
     ]
    }
   ],
   "source": [
    "\n",
    "tic = time.time()\n",
    "\n",
    "analysis = tune.run(\n",
    "    tune_model,\n",
    "    config=config,\n",
    "    metric=\"valid_loss\",\n",
    "    mode=\"min\",\n",
    "    storage_path=str(tune_dir),      # edit from 'local_dir' to 'storrage_path'\n",
    "    stop={\"training_iteration\": MAX_EPOCHS},\n",
    "    verbose=1,\n",
    "    max_concurrent_trials=8,    # edit To reduce the OEM error\n",
    ")\n",
    "\n",
    "timer[\"ray_grid\"] = time.time() - tic\n",
    "\n",
    "best = analysis.get_best_config()\n",
    "best[\"accuracy\"] = analysis.best_result[\"accuracy\"]\n",
    "best_config[\"grid\"] = best"
   ]
  },
  {
   "cell_type": "code",
   "execution_count": 20,
   "metadata": {},
   "outputs": [],
   "source": [
    "import pandas as pd\n",
    "all_results = pd.concat([all_results, analysis.results_df])"
   ]
  },
  {
   "cell_type": "code",
   "execution_count": 21,
   "metadata": {},
   "outputs": [
    {
     "data": {
      "application/vnd.plotly.v1+json": {
       "config": {
        "plotlyServerURL": "https://plot.ly"
       },
       "data": [
        {
         "colorbar": {
          "title": {
           "text": "Accuracy"
          }
         },
         "colorscale": [
          [
           0,
           "#0d0887"
          ],
          [
           0.1111111111111111,
           "#46039f"
          ],
          [
           0.2222222222222222,
           "#7201a8"
          ],
          [
           0.3333333333333333,
           "#9c179e"
          ],
          [
           0.4444444444444444,
           "#bd3786"
          ],
          [
           0.5555555555555556,
           "#d8576b"
          ],
          [
           0.6666666666666666,
           "#ed7953"
          ],
          [
           0.7777777777777778,
           "#fb9f3a"
          ],
          [
           0.8888888888888888,
           "#fdca26"
          ],
          [
           1,
           "#f0f921"
          ]
         ],
         "contours": {
          "coloring": "heatmap",
          "end": 1,
          "showlabels": true,
          "size": 0.01,
          "start": 0.7
         },
         "type": "contour",
         "x": {
          "bdata": "EAAgAEAAgAAAAQACEAAgAEAAgAAAAQACEAAgAEAAgAAAAQAC",
          "dtype": "i2"
         },
         "y": {
          "bdata": "AgICAgICBAQEBAQECAgICAgI",
          "dtype": "i1"
         },
         "z": [
          0.30156248807907104,
          0.42656248807907104,
          0.557812511920929,
          0.879687488079071,
          0.9609375,
          0.9859374761581421,
          0.23906250298023224,
          0.3968749940395355,
          0.5765625238418579,
          0.776562511920929,
          0.96875,
          0.9750000238418579,
          0.21250000596046448,
          0.4390625059604645,
          0.390625,
          0.3734374940395355,
          0.590624988079071,
          0.3890624940395355
         ]
        },
        {
         "customdata": [
          0.30156248807907104,
          0.42656248807907104,
          0.557812511920929,
          0.879687488079071,
          0.9609375,
          0.9859374761581421,
          0.23906250298023224,
          0.3968749940395355,
          0.5765625238418579,
          0.776562511920929,
          0.96875,
          0.9750000238418579,
          0.21250000596046448,
          0.4390625059604645,
          0.390625,
          0.3734374940395355,
          0.590624988079071,
          0.3890624940395355
         ],
         "hovertemplate": "Hidden Size: %{x}<br>Number of Layers: %{y}<br>Accuracy: %{customdata:.4f}<extra></extra>",
         "marker": {
          "color": "black",
          "size": 8,
          "symbol": "circle"
         },
         "mode": "markers",
         "name": "Data Points",
         "type": "scatter",
         "x": {
          "bdata": "EAAgAEAAgAAAAQACEAAgAEAAgAAAAQACEAAgAEAAgAAAAQAC",
          "dtype": "i2"
         },
         "y": {
          "bdata": "AgICAgICBAQEBAQECAgICAgI",
          "dtype": "i1"
         }
        }
       ],
       "layout": {
        "paper_bgcolor": "white",
        "plot_bgcolor": "white",
        "template": {
         "data": {
          "bar": [
           {
            "error_x": {
             "color": "#2a3f5f"
            },
            "error_y": {
             "color": "#2a3f5f"
            },
            "marker": {
             "line": {
              "color": "#E5ECF6",
              "width": 0.5
             },
             "pattern": {
              "fillmode": "overlay",
              "size": 10,
              "solidity": 0.2
             }
            },
            "type": "bar"
           }
          ],
          "barpolar": [
           {
            "marker": {
             "line": {
              "color": "#E5ECF6",
              "width": 0.5
             },
             "pattern": {
              "fillmode": "overlay",
              "size": 10,
              "solidity": 0.2
             }
            },
            "type": "barpolar"
           }
          ],
          "carpet": [
           {
            "aaxis": {
             "endlinecolor": "#2a3f5f",
             "gridcolor": "white",
             "linecolor": "white",
             "minorgridcolor": "white",
             "startlinecolor": "#2a3f5f"
            },
            "baxis": {
             "endlinecolor": "#2a3f5f",
             "gridcolor": "white",
             "linecolor": "white",
             "minorgridcolor": "white",
             "startlinecolor": "#2a3f5f"
            },
            "type": "carpet"
           }
          ],
          "choropleth": [
           {
            "colorbar": {
             "outlinewidth": 0,
             "ticks": ""
            },
            "type": "choropleth"
           }
          ],
          "contour": [
           {
            "colorbar": {
             "outlinewidth": 0,
             "ticks": ""
            },
            "colorscale": [
             [
              0,
              "#0d0887"
             ],
             [
              0.1111111111111111,
              "#46039f"
             ],
             [
              0.2222222222222222,
              "#7201a8"
             ],
             [
              0.3333333333333333,
              "#9c179e"
             ],
             [
              0.4444444444444444,
              "#bd3786"
             ],
             [
              0.5555555555555556,
              "#d8576b"
             ],
             [
              0.6666666666666666,
              "#ed7953"
             ],
             [
              0.7777777777777778,
              "#fb9f3a"
             ],
             [
              0.8888888888888888,
              "#fdca26"
             ],
             [
              1,
              "#f0f921"
             ]
            ],
            "type": "contour"
           }
          ],
          "contourcarpet": [
           {
            "colorbar": {
             "outlinewidth": 0,
             "ticks": ""
            },
            "type": "contourcarpet"
           }
          ],
          "heatmap": [
           {
            "colorbar": {
             "outlinewidth": 0,
             "ticks": ""
            },
            "colorscale": [
             [
              0,
              "#0d0887"
             ],
             [
              0.1111111111111111,
              "#46039f"
             ],
             [
              0.2222222222222222,
              "#7201a8"
             ],
             [
              0.3333333333333333,
              "#9c179e"
             ],
             [
              0.4444444444444444,
              "#bd3786"
             ],
             [
              0.5555555555555556,
              "#d8576b"
             ],
             [
              0.6666666666666666,
              "#ed7953"
             ],
             [
              0.7777777777777778,
              "#fb9f3a"
             ],
             [
              0.8888888888888888,
              "#fdca26"
             ],
             [
              1,
              "#f0f921"
             ]
            ],
            "type": "heatmap"
           }
          ],
          "histogram": [
           {
            "marker": {
             "pattern": {
              "fillmode": "overlay",
              "size": 10,
              "solidity": 0.2
             }
            },
            "type": "histogram"
           }
          ],
          "histogram2d": [
           {
            "colorbar": {
             "outlinewidth": 0,
             "ticks": ""
            },
            "colorscale": [
             [
              0,
              "#0d0887"
             ],
             [
              0.1111111111111111,
              "#46039f"
             ],
             [
              0.2222222222222222,
              "#7201a8"
             ],
             [
              0.3333333333333333,
              "#9c179e"
             ],
             [
              0.4444444444444444,
              "#bd3786"
             ],
             [
              0.5555555555555556,
              "#d8576b"
             ],
             [
              0.6666666666666666,
              "#ed7953"
             ],
             [
              0.7777777777777778,
              "#fb9f3a"
             ],
             [
              0.8888888888888888,
              "#fdca26"
             ],
             [
              1,
              "#f0f921"
             ]
            ],
            "type": "histogram2d"
           }
          ],
          "histogram2dcontour": [
           {
            "colorbar": {
             "outlinewidth": 0,
             "ticks": ""
            },
            "colorscale": [
             [
              0,
              "#0d0887"
             ],
             [
              0.1111111111111111,
              "#46039f"
             ],
             [
              0.2222222222222222,
              "#7201a8"
             ],
             [
              0.3333333333333333,
              "#9c179e"
             ],
             [
              0.4444444444444444,
              "#bd3786"
             ],
             [
              0.5555555555555556,
              "#d8576b"
             ],
             [
              0.6666666666666666,
              "#ed7953"
             ],
             [
              0.7777777777777778,
              "#fb9f3a"
             ],
             [
              0.8888888888888888,
              "#fdca26"
             ],
             [
              1,
              "#f0f921"
             ]
            ],
            "type": "histogram2dcontour"
           }
          ],
          "mesh3d": [
           {
            "colorbar": {
             "outlinewidth": 0,
             "ticks": ""
            },
            "type": "mesh3d"
           }
          ],
          "parcoords": [
           {
            "line": {
             "colorbar": {
              "outlinewidth": 0,
              "ticks": ""
             }
            },
            "type": "parcoords"
           }
          ],
          "pie": [
           {
            "automargin": true,
            "type": "pie"
           }
          ],
          "scatter": [
           {
            "fillpattern": {
             "fillmode": "overlay",
             "size": 10,
             "solidity": 0.2
            },
            "type": "scatter"
           }
          ],
          "scatter3d": [
           {
            "line": {
             "colorbar": {
              "outlinewidth": 0,
              "ticks": ""
             }
            },
            "marker": {
             "colorbar": {
              "outlinewidth": 0,
              "ticks": ""
             }
            },
            "type": "scatter3d"
           }
          ],
          "scattercarpet": [
           {
            "marker": {
             "colorbar": {
              "outlinewidth": 0,
              "ticks": ""
             }
            },
            "type": "scattercarpet"
           }
          ],
          "scattergeo": [
           {
            "marker": {
             "colorbar": {
              "outlinewidth": 0,
              "ticks": ""
             }
            },
            "type": "scattergeo"
           }
          ],
          "scattergl": [
           {
            "marker": {
             "colorbar": {
              "outlinewidth": 0,
              "ticks": ""
             }
            },
            "type": "scattergl"
           }
          ],
          "scattermap": [
           {
            "marker": {
             "colorbar": {
              "outlinewidth": 0,
              "ticks": ""
             }
            },
            "type": "scattermap"
           }
          ],
          "scattermapbox": [
           {
            "marker": {
             "colorbar": {
              "outlinewidth": 0,
              "ticks": ""
             }
            },
            "type": "scattermapbox"
           }
          ],
          "scatterpolar": [
           {
            "marker": {
             "colorbar": {
              "outlinewidth": 0,
              "ticks": ""
             }
            },
            "type": "scatterpolar"
           }
          ],
          "scatterpolargl": [
           {
            "marker": {
             "colorbar": {
              "outlinewidth": 0,
              "ticks": ""
             }
            },
            "type": "scatterpolargl"
           }
          ],
          "scatterternary": [
           {
            "marker": {
             "colorbar": {
              "outlinewidth": 0,
              "ticks": ""
             }
            },
            "type": "scatterternary"
           }
          ],
          "surface": [
           {
            "colorbar": {
             "outlinewidth": 0,
             "ticks": ""
            },
            "colorscale": [
             [
              0,
              "#0d0887"
             ],
             [
              0.1111111111111111,
              "#46039f"
             ],
             [
              0.2222222222222222,
              "#7201a8"
             ],
             [
              0.3333333333333333,
              "#9c179e"
             ],
             [
              0.4444444444444444,
              "#bd3786"
             ],
             [
              0.5555555555555556,
              "#d8576b"
             ],
             [
              0.6666666666666666,
              "#ed7953"
             ],
             [
              0.7777777777777778,
              "#fb9f3a"
             ],
             [
              0.8888888888888888,
              "#fdca26"
             ],
             [
              1,
              "#f0f921"
             ]
            ],
            "type": "surface"
           }
          ],
          "table": [
           {
            "cells": {
             "fill": {
              "color": "#EBF0F8"
             },
             "line": {
              "color": "white"
             }
            },
            "header": {
             "fill": {
              "color": "#C8D4E3"
             },
             "line": {
              "color": "white"
             }
            },
            "type": "table"
           }
          ]
         },
         "layout": {
          "annotationdefaults": {
           "arrowcolor": "#2a3f5f",
           "arrowhead": 0,
           "arrowwidth": 1
          },
          "autotypenumbers": "strict",
          "coloraxis": {
           "colorbar": {
            "outlinewidth": 0,
            "ticks": ""
           }
          },
          "colorscale": {
           "diverging": [
            [
             0,
             "#8e0152"
            ],
            [
             0.1,
             "#c51b7d"
            ],
            [
             0.2,
             "#de77ae"
            ],
            [
             0.3,
             "#f1b6da"
            ],
            [
             0.4,
             "#fde0ef"
            ],
            [
             0.5,
             "#f7f7f7"
            ],
            [
             0.6,
             "#e6f5d0"
            ],
            [
             0.7,
             "#b8e186"
            ],
            [
             0.8,
             "#7fbc41"
            ],
            [
             0.9,
             "#4d9221"
            ],
            [
             1,
             "#276419"
            ]
           ],
           "sequential": [
            [
             0,
             "#0d0887"
            ],
            [
             0.1111111111111111,
             "#46039f"
            ],
            [
             0.2222222222222222,
             "#7201a8"
            ],
            [
             0.3333333333333333,
             "#9c179e"
            ],
            [
             0.4444444444444444,
             "#bd3786"
            ],
            [
             0.5555555555555556,
             "#d8576b"
            ],
            [
             0.6666666666666666,
             "#ed7953"
            ],
            [
             0.7777777777777778,
             "#fb9f3a"
            ],
            [
             0.8888888888888888,
             "#fdca26"
            ],
            [
             1,
             "#f0f921"
            ]
           ],
           "sequentialminus": [
            [
             0,
             "#0d0887"
            ],
            [
             0.1111111111111111,
             "#46039f"
            ],
            [
             0.2222222222222222,
             "#7201a8"
            ],
            [
             0.3333333333333333,
             "#9c179e"
            ],
            [
             0.4444444444444444,
             "#bd3786"
            ],
            [
             0.5555555555555556,
             "#d8576b"
            ],
            [
             0.6666666666666666,
             "#ed7953"
            ],
            [
             0.7777777777777778,
             "#fb9f3a"
            ],
            [
             0.8888888888888888,
             "#fdca26"
            ],
            [
             1,
             "#f0f921"
            ]
           ]
          },
          "colorway": [
           "#636efa",
           "#EF553B",
           "#00cc96",
           "#ab63fa",
           "#FFA15A",
           "#19d3f3",
           "#FF6692",
           "#B6E880",
           "#FF97FF",
           "#FECB52"
          ],
          "font": {
           "color": "#2a3f5f"
          },
          "geo": {
           "bgcolor": "white",
           "lakecolor": "white",
           "landcolor": "#E5ECF6",
           "showlakes": true,
           "showland": true,
           "subunitcolor": "white"
          },
          "hoverlabel": {
           "align": "left"
          },
          "hovermode": "closest",
          "mapbox": {
           "style": "light"
          },
          "paper_bgcolor": "white",
          "plot_bgcolor": "#E5ECF6",
          "polar": {
           "angularaxis": {
            "gridcolor": "white",
            "linecolor": "white",
            "ticks": ""
           },
           "bgcolor": "#E5ECF6",
           "radialaxis": {
            "gridcolor": "white",
            "linecolor": "white",
            "ticks": ""
           }
          },
          "scene": {
           "xaxis": {
            "backgroundcolor": "#E5ECF6",
            "gridcolor": "white",
            "gridwidth": 2,
            "linecolor": "white",
            "showbackground": true,
            "ticks": "",
            "zerolinecolor": "white"
           },
           "yaxis": {
            "backgroundcolor": "#E5ECF6",
            "gridcolor": "white",
            "gridwidth": 2,
            "linecolor": "white",
            "showbackground": true,
            "ticks": "",
            "zerolinecolor": "white"
           },
           "zaxis": {
            "backgroundcolor": "#E5ECF6",
            "gridcolor": "white",
            "gridwidth": 2,
            "linecolor": "white",
            "showbackground": true,
            "ticks": "",
            "zerolinecolor": "white"
           }
          },
          "shapedefaults": {
           "line": {
            "color": "#2a3f5f"
           }
          },
          "ternary": {
           "aaxis": {
            "gridcolor": "white",
            "linecolor": "white",
            "ticks": ""
           },
           "baxis": {
            "gridcolor": "white",
            "linecolor": "white",
            "ticks": ""
           },
           "bgcolor": "#E5ECF6",
           "caxis": {
            "gridcolor": "white",
            "linecolor": "white",
            "ticks": ""
           }
          },
          "title": {
           "x": 0.05
          },
          "xaxis": {
           "automargin": true,
           "gridcolor": "white",
           "linecolor": "white",
           "ticks": "",
           "title": {
            "standoff": 15
           },
           "zerolinecolor": "white",
           "zerolinewidth": 2
          },
          "yaxis": {
           "automargin": true,
           "gridcolor": "white",
           "linecolor": "white",
           "ticks": "",
           "title": {
            "standoff": 15
           },
           "zerolinecolor": "white",
           "zerolinewidth": 2
          }
         }
        },
        "title": {
         "text": "Contour Plot"
        },
        "xaxis": {
         "showgrid": false,
         "title": {
          "text": "Hidden Size"
         }
        },
        "yaxis": {
         "showgrid": false,
         "title": {
          "text": "Number of Layers"
         }
        }
       }
      }
     },
     "metadata": {},
     "output_type": "display_data"
    }
   ],
   "source": [
    "grid = analysis.results_df\n",
    "plot_contour(grid, \"config/hidden_size\", \"config/num_layers\", \"accuracy\", start=0.7)"
   ]
  },
  {
   "cell_type": "markdown",
   "metadata": {},
   "source": [
    "As you can see, we get a systematic scan, but large parts of the space are still unexplored, and we also explored parts that are really not very promising."
   ]
  },
  {
   "cell_type": "code",
   "execution_count": 22,
   "metadata": {},
   "outputs": [
    {
     "data": {
      "application/vnd.plotly.v1+json": {
       "config": {
        "plotlyServerURL": "https://plot.ly"
       },
       "data": [
        {
         "dimensions": [
          {
           "label": "config/hidden_size",
           "values": {
            "bdata": "EAAgAEAAgAAAAQACEAAgAEAAgAAAAQACEAAgAEAAgAAAAQAC",
            "dtype": "i2"
           }
          },
          {
           "label": "config/num_layers",
           "values": {
            "bdata": "AgICAgICBAQEBAQECAgICAgI",
            "dtype": "i1"
           }
          }
         ],
         "domain": {
          "x": [
           0,
           1
          ],
          "y": [
           0,
           1
          ]
         },
         "line": {
          "color": [
           0.30156248807907104,
           0.42656248807907104,
           0.557812511920929,
           0.879687488079071,
           0.9609375,
           0.9859374761581421,
           0.23906250298023224,
           0.3968749940395355,
           0.5765625238418579,
           0.776562511920929,
           0.96875,
           0.9750000238418579,
           0.21250000596046448,
           0.4390625059604645,
           0.390625,
           0.3734374940395355,
           0.590624988079071,
           0.3890624940395355
          ],
          "coloraxis": "coloraxis"
         },
         "name": "",
         "type": "parcoords"
        }
       ],
       "layout": {
        "coloraxis": {
         "colorbar": {
          "title": {
           "text": "accuracy"
          }
         },
         "colorscale": [
          [
           0,
           "#0d0887"
          ],
          [
           0.1111111111111111,
           "#46039f"
          ],
          [
           0.2222222222222222,
           "#7201a8"
          ],
          [
           0.3333333333333333,
           "#9c179e"
          ],
          [
           0.4444444444444444,
           "#bd3786"
          ],
          [
           0.5555555555555556,
           "#d8576b"
          ],
          [
           0.6666666666666666,
           "#ed7953"
          ],
          [
           0.7777777777777778,
           "#fb9f3a"
          ],
          [
           0.8888888888888888,
           "#fdca26"
          ],
          [
           1,
           "#f0f921"
          ]
         ]
        },
        "legend": {
         "tracegroupgap": 0
        },
        "margin": {
         "t": 60
        },
        "template": {
         "data": {
          "bar": [
           {
            "error_x": {
             "color": "#2a3f5f"
            },
            "error_y": {
             "color": "#2a3f5f"
            },
            "marker": {
             "line": {
              "color": "#E5ECF6",
              "width": 0.5
             },
             "pattern": {
              "fillmode": "overlay",
              "size": 10,
              "solidity": 0.2
             }
            },
            "type": "bar"
           }
          ],
          "barpolar": [
           {
            "marker": {
             "line": {
              "color": "#E5ECF6",
              "width": 0.5
             },
             "pattern": {
              "fillmode": "overlay",
              "size": 10,
              "solidity": 0.2
             }
            },
            "type": "barpolar"
           }
          ],
          "carpet": [
           {
            "aaxis": {
             "endlinecolor": "#2a3f5f",
             "gridcolor": "white",
             "linecolor": "white",
             "minorgridcolor": "white",
             "startlinecolor": "#2a3f5f"
            },
            "baxis": {
             "endlinecolor": "#2a3f5f",
             "gridcolor": "white",
             "linecolor": "white",
             "minorgridcolor": "white",
             "startlinecolor": "#2a3f5f"
            },
            "type": "carpet"
           }
          ],
          "choropleth": [
           {
            "colorbar": {
             "outlinewidth": 0,
             "ticks": ""
            },
            "type": "choropleth"
           }
          ],
          "contour": [
           {
            "colorbar": {
             "outlinewidth": 0,
             "ticks": ""
            },
            "colorscale": [
             [
              0,
              "#0d0887"
             ],
             [
              0.1111111111111111,
              "#46039f"
             ],
             [
              0.2222222222222222,
              "#7201a8"
             ],
             [
              0.3333333333333333,
              "#9c179e"
             ],
             [
              0.4444444444444444,
              "#bd3786"
             ],
             [
              0.5555555555555556,
              "#d8576b"
             ],
             [
              0.6666666666666666,
              "#ed7953"
             ],
             [
              0.7777777777777778,
              "#fb9f3a"
             ],
             [
              0.8888888888888888,
              "#fdca26"
             ],
             [
              1,
              "#f0f921"
             ]
            ],
            "type": "contour"
           }
          ],
          "contourcarpet": [
           {
            "colorbar": {
             "outlinewidth": 0,
             "ticks": ""
            },
            "type": "contourcarpet"
           }
          ],
          "heatmap": [
           {
            "colorbar": {
             "outlinewidth": 0,
             "ticks": ""
            },
            "colorscale": [
             [
              0,
              "#0d0887"
             ],
             [
              0.1111111111111111,
              "#46039f"
             ],
             [
              0.2222222222222222,
              "#7201a8"
             ],
             [
              0.3333333333333333,
              "#9c179e"
             ],
             [
              0.4444444444444444,
              "#bd3786"
             ],
             [
              0.5555555555555556,
              "#d8576b"
             ],
             [
              0.6666666666666666,
              "#ed7953"
             ],
             [
              0.7777777777777778,
              "#fb9f3a"
             ],
             [
              0.8888888888888888,
              "#fdca26"
             ],
             [
              1,
              "#f0f921"
             ]
            ],
            "type": "heatmap"
           }
          ],
          "histogram": [
           {
            "marker": {
             "pattern": {
              "fillmode": "overlay",
              "size": 10,
              "solidity": 0.2
             }
            },
            "type": "histogram"
           }
          ],
          "histogram2d": [
           {
            "colorbar": {
             "outlinewidth": 0,
             "ticks": ""
            },
            "colorscale": [
             [
              0,
              "#0d0887"
             ],
             [
              0.1111111111111111,
              "#46039f"
             ],
             [
              0.2222222222222222,
              "#7201a8"
             ],
             [
              0.3333333333333333,
              "#9c179e"
             ],
             [
              0.4444444444444444,
              "#bd3786"
             ],
             [
              0.5555555555555556,
              "#d8576b"
             ],
             [
              0.6666666666666666,
              "#ed7953"
             ],
             [
              0.7777777777777778,
              "#fb9f3a"
             ],
             [
              0.8888888888888888,
              "#fdca26"
             ],
             [
              1,
              "#f0f921"
             ]
            ],
            "type": "histogram2d"
           }
          ],
          "histogram2dcontour": [
           {
            "colorbar": {
             "outlinewidth": 0,
             "ticks": ""
            },
            "colorscale": [
             [
              0,
              "#0d0887"
             ],
             [
              0.1111111111111111,
              "#46039f"
             ],
             [
              0.2222222222222222,
              "#7201a8"
             ],
             [
              0.3333333333333333,
              "#9c179e"
             ],
             [
              0.4444444444444444,
              "#bd3786"
             ],
             [
              0.5555555555555556,
              "#d8576b"
             ],
             [
              0.6666666666666666,
              "#ed7953"
             ],
             [
              0.7777777777777778,
              "#fb9f3a"
             ],
             [
              0.8888888888888888,
              "#fdca26"
             ],
             [
              1,
              "#f0f921"
             ]
            ],
            "type": "histogram2dcontour"
           }
          ],
          "mesh3d": [
           {
            "colorbar": {
             "outlinewidth": 0,
             "ticks": ""
            },
            "type": "mesh3d"
           }
          ],
          "parcoords": [
           {
            "line": {
             "colorbar": {
              "outlinewidth": 0,
              "ticks": ""
             }
            },
            "type": "parcoords"
           }
          ],
          "pie": [
           {
            "automargin": true,
            "type": "pie"
           }
          ],
          "scatter": [
           {
            "fillpattern": {
             "fillmode": "overlay",
             "size": 10,
             "solidity": 0.2
            },
            "type": "scatter"
           }
          ],
          "scatter3d": [
           {
            "line": {
             "colorbar": {
              "outlinewidth": 0,
              "ticks": ""
             }
            },
            "marker": {
             "colorbar": {
              "outlinewidth": 0,
              "ticks": ""
             }
            },
            "type": "scatter3d"
           }
          ],
          "scattercarpet": [
           {
            "marker": {
             "colorbar": {
              "outlinewidth": 0,
              "ticks": ""
             }
            },
            "type": "scattercarpet"
           }
          ],
          "scattergeo": [
           {
            "marker": {
             "colorbar": {
              "outlinewidth": 0,
              "ticks": ""
             }
            },
            "type": "scattergeo"
           }
          ],
          "scattergl": [
           {
            "marker": {
             "colorbar": {
              "outlinewidth": 0,
              "ticks": ""
             }
            },
            "type": "scattergl"
           }
          ],
          "scattermap": [
           {
            "marker": {
             "colorbar": {
              "outlinewidth": 0,
              "ticks": ""
             }
            },
            "type": "scattermap"
           }
          ],
          "scattermapbox": [
           {
            "marker": {
             "colorbar": {
              "outlinewidth": 0,
              "ticks": ""
             }
            },
            "type": "scattermapbox"
           }
          ],
          "scatterpolar": [
           {
            "marker": {
             "colorbar": {
              "outlinewidth": 0,
              "ticks": ""
             }
            },
            "type": "scatterpolar"
           }
          ],
          "scatterpolargl": [
           {
            "marker": {
             "colorbar": {
              "outlinewidth": 0,
              "ticks": ""
             }
            },
            "type": "scatterpolargl"
           }
          ],
          "scatterternary": [
           {
            "marker": {
             "colorbar": {
              "outlinewidth": 0,
              "ticks": ""
             }
            },
            "type": "scatterternary"
           }
          ],
          "surface": [
           {
            "colorbar": {
             "outlinewidth": 0,
             "ticks": ""
            },
            "colorscale": [
             [
              0,
              "#0d0887"
             ],
             [
              0.1111111111111111,
              "#46039f"
             ],
             [
              0.2222222222222222,
              "#7201a8"
             ],
             [
              0.3333333333333333,
              "#9c179e"
             ],
             [
              0.4444444444444444,
              "#bd3786"
             ],
             [
              0.5555555555555556,
              "#d8576b"
             ],
             [
              0.6666666666666666,
              "#ed7953"
             ],
             [
              0.7777777777777778,
              "#fb9f3a"
             ],
             [
              0.8888888888888888,
              "#fdca26"
             ],
             [
              1,
              "#f0f921"
             ]
            ],
            "type": "surface"
           }
          ],
          "table": [
           {
            "cells": {
             "fill": {
              "color": "#EBF0F8"
             },
             "line": {
              "color": "white"
             }
            },
            "header": {
             "fill": {
              "color": "#C8D4E3"
             },
             "line": {
              "color": "white"
             }
            },
            "type": "table"
           }
          ]
         },
         "layout": {
          "annotationdefaults": {
           "arrowcolor": "#2a3f5f",
           "arrowhead": 0,
           "arrowwidth": 1
          },
          "autotypenumbers": "strict",
          "coloraxis": {
           "colorbar": {
            "outlinewidth": 0,
            "ticks": ""
           }
          },
          "colorscale": {
           "diverging": [
            [
             0,
             "#8e0152"
            ],
            [
             0.1,
             "#c51b7d"
            ],
            [
             0.2,
             "#de77ae"
            ],
            [
             0.3,
             "#f1b6da"
            ],
            [
             0.4,
             "#fde0ef"
            ],
            [
             0.5,
             "#f7f7f7"
            ],
            [
             0.6,
             "#e6f5d0"
            ],
            [
             0.7,
             "#b8e186"
            ],
            [
             0.8,
             "#7fbc41"
            ],
            [
             0.9,
             "#4d9221"
            ],
            [
             1,
             "#276419"
            ]
           ],
           "sequential": [
            [
             0,
             "#0d0887"
            ],
            [
             0.1111111111111111,
             "#46039f"
            ],
            [
             0.2222222222222222,
             "#7201a8"
            ],
            [
             0.3333333333333333,
             "#9c179e"
            ],
            [
             0.4444444444444444,
             "#bd3786"
            ],
            [
             0.5555555555555556,
             "#d8576b"
            ],
            [
             0.6666666666666666,
             "#ed7953"
            ],
            [
             0.7777777777777778,
             "#fb9f3a"
            ],
            [
             0.8888888888888888,
             "#fdca26"
            ],
            [
             1,
             "#f0f921"
            ]
           ],
           "sequentialminus": [
            [
             0,
             "#0d0887"
            ],
            [
             0.1111111111111111,
             "#46039f"
            ],
            [
             0.2222222222222222,
             "#7201a8"
            ],
            [
             0.3333333333333333,
             "#9c179e"
            ],
            [
             0.4444444444444444,
             "#bd3786"
            ],
            [
             0.5555555555555556,
             "#d8576b"
            ],
            [
             0.6666666666666666,
             "#ed7953"
            ],
            [
             0.7777777777777778,
             "#fb9f3a"
            ],
            [
             0.8888888888888888,
             "#fdca26"
            ],
            [
             1,
             "#f0f921"
            ]
           ]
          },
          "colorway": [
           "#636efa",
           "#EF553B",
           "#00cc96",
           "#ab63fa",
           "#FFA15A",
           "#19d3f3",
           "#FF6692",
           "#B6E880",
           "#FF97FF",
           "#FECB52"
          ],
          "font": {
           "color": "#2a3f5f"
          },
          "geo": {
           "bgcolor": "white",
           "lakecolor": "white",
           "landcolor": "#E5ECF6",
           "showlakes": true,
           "showland": true,
           "subunitcolor": "white"
          },
          "hoverlabel": {
           "align": "left"
          },
          "hovermode": "closest",
          "mapbox": {
           "style": "light"
          },
          "paper_bgcolor": "white",
          "plot_bgcolor": "#E5ECF6",
          "polar": {
           "angularaxis": {
            "gridcolor": "white",
            "linecolor": "white",
            "ticks": ""
           },
           "bgcolor": "#E5ECF6",
           "radialaxis": {
            "gridcolor": "white",
            "linecolor": "white",
            "ticks": ""
           }
          },
          "scene": {
           "xaxis": {
            "backgroundcolor": "#E5ECF6",
            "gridcolor": "white",
            "gridwidth": 2,
            "linecolor": "white",
            "showbackground": true,
            "ticks": "",
            "zerolinecolor": "white"
           },
           "yaxis": {
            "backgroundcolor": "#E5ECF6",
            "gridcolor": "white",
            "gridwidth": 2,
            "linecolor": "white",
            "showbackground": true,
            "ticks": "",
            "zerolinecolor": "white"
           },
           "zaxis": {
            "backgroundcolor": "#E5ECF6",
            "gridcolor": "white",
            "gridwidth": 2,
            "linecolor": "white",
            "showbackground": true,
            "ticks": "",
            "zerolinecolor": "white"
           }
          },
          "shapedefaults": {
           "line": {
            "color": "#2a3f5f"
           }
          },
          "ternary": {
           "aaxis": {
            "gridcolor": "white",
            "linecolor": "white",
            "ticks": ""
           },
           "baxis": {
            "gridcolor": "white",
            "linecolor": "white",
            "ticks": ""
           },
           "bgcolor": "#E5ECF6",
           "caxis": {
            "gridcolor": "white",
            "linecolor": "white",
            "ticks": ""
           }
          },
          "title": {
           "x": 0.05
          },
          "xaxis": {
           "automargin": true,
           "gridcolor": "white",
           "linecolor": "white",
           "ticks": "",
           "title": {
            "standoff": 15
           },
           "zerolinecolor": "white",
           "zerolinewidth": 2
          },
          "yaxis": {
           "automargin": true,
           "gridcolor": "white",
           "linecolor": "white",
           "ticks": "",
           "title": {
            "standoff": 15
           },
           "zerolinecolor": "white",
           "zerolinewidth": 2
          }
         }
        }
       }
      }
     },
     "metadata": {},
     "output_type": "display_data"
    }
   ],
   "source": [
    "visualize.parallel_plot(analysis, columns)"
   ]
  },
  {
   "cell_type": "code",
   "execution_count": 23,
   "metadata": {},
   "outputs": [
    {
     "data": {
      "image/png": "[encoded data removed]",
      "text/plain": [
       "<Figure size 640x480 with 1 Axes>"
      ]
     },
     "metadata": {},
     "output_type": "display_data"
    }
   ],
   "source": [
    "visualize.plot_timers(timer)"
   ]
  },
  {
   "cell_type": "markdown",
   "metadata": {},
   "source": [
    "# Bayes"
   ]
  },
  {
   "cell_type": "markdown",
   "metadata": {},
   "source": [
    "Now, we improve the search algorithm with a bayesian optimization.\n",
    "\n",
    "Note that the bayesian search algorithm will only work with continuous parameters. This is a problem for the number of layers, which is a discrete parameter. I fixed this by simply casting the parameters to an integer inside the model, which is not very elegant but it works."
   ]
  },
  {
   "cell_type": "markdown",
   "metadata": {},
   "source": [
    "\n",
    "<font color='green'>\n",
    "\n",
    "**Code modified**\n",
    "</font>"
   ]
  },
  {
   "cell_type": "code",
   "execution_count": 25,
   "metadata": {},
   "outputs": [
    {
     "data": {
      "text/html": [
       "<div class=\"tuneStatus\">\n",
       "  <div style=\"display: flex;flex-direction: row\">\n",
       "    <div style=\"display: flex;flex-direction: column;\">\n",
       "      <h3>Tune Status</h3>\n",
       "      <table>\n",
       "<tbody>\n",
       "<tr><td>Current time:</td><td>2025-02-15 18:26:07</td></tr>\n",
       "<tr><td>Running for: </td><td>00:19:09.75        </td></tr>\n",
       "<tr><td>Memory:      </td><td>9.0/31.2 GiB       </td></tr>\n",
       "</tbody>\n",
       "</table>\n",
       "    </div>\n",
       "    <div class=\"vDivider\"></div>\n",
       "    <div class=\"systemInfo\">\n",
       "      <h3>System Info</h3>\n",
       "      Using FIFO scheduling algorithm.<br>Logical resource usage: 1.0/12 CPUs, 0/1 GPUs (0.0/1.0 accelerator_type:G)\n",
       "    </div>\n",
       "    \n",
       "  </div>\n",
       "  <div class=\"hDivider\"></div>\n",
       "  <div class=\"trialStatus\">\n",
       "    <h3>Trial Status</h3>\n",
       "    <table>\n",
       "<thead>\n",
       "<tr><th>Trial name         </th><th>status    </th><th>loc               </th><th style=\"text-align: right;\">  hidden_size</th><th style=\"text-align: right;\">  num_layers</th><th style=\"text-align: right;\">  iter</th><th style=\"text-align: right;\">  total time (s)</th><th style=\"text-align: right;\">  valid_loss</th><th style=\"text-align: right;\">  train_loss</th></tr>\n",
       "</thead>\n",
       "<tbody>\n",
       "<tr><td>tune_model_49798fdf</td><td>TERMINATED</td><td>192.168.0.5:979635</td><td style=\"text-align: right;\">     201.772 </td><td style=\"text-align: right;\">     7.655  </td><td style=\"text-align: right;\">     5</td><td style=\"text-align: right;\">        100.627 </td><td style=\"text-align: right;\">   0.581403 </td><td style=\"text-align: right;\">    0.798798</td></tr>\n",
       "<tr><td>tune_model_7ccaac34</td><td>TERMINATED</td><td>192.168.0.5:979687</td><td style=\"text-align: right;\">     379.069 </td><td style=\"text-align: right;\">     5.19061</td><td style=\"text-align: right;\">     5</td><td style=\"text-align: right;\">        174.514 </td><td style=\"text-align: right;\">   0.219768 </td><td style=\"text-align: right;\">    0.224297</td></tr>\n",
       "<tr><td>tune_model_7db92485</td><td>TERMINATED</td><td>192.168.0.5:979740</td><td style=\"text-align: right;\">      93.3852</td><td style=\"text-align: right;\">     2.09196</td><td style=\"text-align: right;\">     5</td><td style=\"text-align: right;\">         16.9271</td><td style=\"text-align: right;\">   0.958796 </td><td style=\"text-align: right;\">    0.950321</td></tr>\n",
       "<tr><td>tune_model_24a549e9</td><td>TERMINATED</td><td>192.168.0.5:979794</td><td style=\"text-align: right;\">      44.8095</td><td style=\"text-align: right;\">     7.06323</td><td style=\"text-align: right;\">     5</td><td style=\"text-align: right;\">         33.4224</td><td style=\"text-align: right;\">   1.68678  </td><td style=\"text-align: right;\">    1.6606  </td></tr>\n",
       "<tr><td>tune_model_b33937ee</td><td>TERMINATED</td><td>192.168.0.5:979848</td><td style=\"text-align: right;\">     314.153 </td><td style=\"text-align: right;\">     5.95651</td><td style=\"text-align: right;\">     5</td><td style=\"text-align: right;\">        131.34  </td><td style=\"text-align: right;\">   0.1587   </td><td style=\"text-align: right;\">    0.161863</td></tr>\n",
       "<tr><td>tune_model_56cab2d1</td><td>TERMINATED</td><td>192.168.0.5:980185</td><td style=\"text-align: right;\">     477.591 </td><td style=\"text-align: right;\">     8      </td><td style=\"text-align: right;\">     5</td><td style=\"text-align: right;\">        860.609 </td><td style=\"text-align: right;\">   1.09221  </td><td style=\"text-align: right;\">    1.22477 </td></tr>\n",
       "<tr><td>tune_model_ad836ced</td><td>TERMINATED</td><td>192.168.0.5:980235</td><td style=\"text-align: right;\">     314.181 </td><td style=\"text-align: right;\">     4.6282 </td><td style=\"text-align: right;\">     5</td><td style=\"text-align: right;\">        268.068 </td><td style=\"text-align: right;\">   0.161937 </td><td style=\"text-align: right;\">    0.171549</td></tr>\n",
       "<tr><td>tune_model_d7446c51</td><td>TERMINATED</td><td>192.168.0.5:980294</td><td style=\"text-align: right;\">     477.648 </td><td style=\"text-align: right;\">     8      </td><td style=\"text-align: right;\">     5</td><td style=\"text-align: right;\">        846.351 </td><td style=\"text-align: right;\">   1.54332  </td><td style=\"text-align: right;\">    1.57115 </td></tr>\n",
       "<tr><td>tune_model_c9e1bf8a</td><td>TERMINATED</td><td>192.168.0.5:980348</td><td style=\"text-align: right;\">     312.922 </td><td style=\"text-align: right;\">     6.40589</td><td style=\"text-align: right;\">     5</td><td style=\"text-align: right;\">        364.312 </td><td style=\"text-align: right;\">   0.396825 </td><td style=\"text-align: right;\">    0.479336</td></tr>\n",
       "<tr><td>tune_model_d8086b5c</td><td>TERMINATED</td><td>192.168.0.5:980402</td><td style=\"text-align: right;\">     314.844 </td><td style=\"text-align: right;\">     7.06091</td><td style=\"text-align: right;\">     5</td><td style=\"text-align: right;\">        438.281 </td><td style=\"text-align: right;\">   0.31641  </td><td style=\"text-align: right;\">    0.458327</td></tr>\n",
       "<tr><td>tune_model_8c0e18d0</td><td>TERMINATED</td><td>192.168.0.5:980469</td><td style=\"text-align: right;\">     477.727 </td><td style=\"text-align: right;\">     8      </td><td style=\"text-align: right;\">     5</td><td style=\"text-align: right;\">        844.64  </td><td style=\"text-align: right;\">   1.83755  </td><td style=\"text-align: right;\">    1.4216  </td></tr>\n",
       "<tr><td>tune_model_213fa062</td><td>TERMINATED</td><td>192.168.0.5:980525</td><td style=\"text-align: right;\">     314.104 </td><td style=\"text-align: right;\">     4.63165</td><td style=\"text-align: right;\">     5</td><td style=\"text-align: right;\">        296.901 </td><td style=\"text-align: right;\">   0.113115 </td><td style=\"text-align: right;\">    0.117527</td></tr>\n",
       "<tr><td>tune_model_b4fe48d3</td><td>TERMINATED</td><td>192.168.0.5:980579</td><td style=\"text-align: right;\">     315.334 </td><td style=\"text-align: right;\">     5.37744</td><td style=\"text-align: right;\">     5</td><td style=\"text-align: right;\">        336.9   </td><td style=\"text-align: right;\">   0.204719 </td><td style=\"text-align: right;\">    0.328274</td></tr>\n",
       "<tr><td>tune_model_3a279761</td><td>TERMINATED</td><td>192.168.0.5:981039</td><td style=\"text-align: right;\">     512     </td><td style=\"text-align: right;\">     8      </td><td style=\"text-align: right;\">     5</td><td style=\"text-align: right;\">        694.655 </td><td style=\"text-align: right;\">   2.02942  </td><td style=\"text-align: right;\">    1.81501 </td></tr>\n",
       "<tr><td>tune_model_b34bf313</td><td>TERMINATED</td><td>192.168.0.5:981169</td><td style=\"text-align: right;\">     312.259 </td><td style=\"text-align: right;\">     5.34544</td><td style=\"text-align: right;\">     5</td><td style=\"text-align: right;\">        283.816 </td><td style=\"text-align: right;\">   0.195383 </td><td style=\"text-align: right;\">    0.263994</td></tr>\n",
       "<tr><td>tune_model_128fc49b</td><td>TERMINATED</td><td>192.168.0.5:981271</td><td style=\"text-align: right;\">     312.368 </td><td style=\"text-align: right;\">     4.76062</td><td style=\"text-align: right;\">     5</td><td style=\"text-align: right;\">        236.197 </td><td style=\"text-align: right;\">   0.23371  </td><td style=\"text-align: right;\">    0.147023</td></tr>\n",
       "<tr><td>tune_model_91e192d0</td><td>TERMINATED</td><td>192.168.0.5:981345</td><td style=\"text-align: right;\">     312.458 </td><td style=\"text-align: right;\">     4.23171</td><td style=\"text-align: right;\">     5</td><td style=\"text-align: right;\">        229.418 </td><td style=\"text-align: right;\">   0.212369 </td><td style=\"text-align: right;\">    0.207164</td></tr>\n",
       "<tr><td>tune_model_5af29c99</td><td>TERMINATED</td><td>192.168.0.5:981574</td><td style=\"text-align: right;\">     312.307 </td><td style=\"text-align: right;\">     4.33875</td><td style=\"text-align: right;\">     5</td><td style=\"text-align: right;\">        190.41  </td><td style=\"text-align: right;\">   0.0700376</td><td style=\"text-align: right;\">    0.107258</td></tr>\n",
       "</tbody>\n",
       "</table>\n",
       "  </div>\n",
       "</div>\n",
       "<style>\n",
       ".tuneStatus {\n",
       "  color: var(--jp-ui-font-color1);\n",
       "}\n",
       ".tuneStatus .systemInfo {\n",
       "  display: flex;\n",
       "  flex-direction: column;\n",
       "}\n",
       ".tuneStatus td {\n",
       "  white-space: nowrap;\n",
       "}\n",
       ".tuneStatus .trialStatus {\n",
       "  display: flex;\n",
       "  flex-direction: column;\n",
       "}\n",
       ".tuneStatus h3 {\n",
       "  font-weight: bold;\n",
       "}\n",
       ".tuneStatus .hDivider {\n",
       "  border-bottom-width: var(--jp-border-width);\n",
       "  border-bottom-color: var(--jp-border-color0);\n",
       "  border-bottom-style: solid;\n",
       "}\n",
       ".tuneStatus .vDivider {\n",
       "  border-left-width: var(--jp-border-width);\n",
       "  border-left-color: var(--jp-border-color0);\n",
       "  border-left-style: solid;\n",
       "  margin: 0.5em 1em 0.5em 1em;\n",
       "}\n",
       "</style>\n"
      ],
      "text/plain": [
       "<IPython.core.display.HTML object>"
      ]
     },
     "metadata": {},
     "output_type": "display_data"
    },
    {
     "name": "stderr",
     "output_type": "stream",
     "text": [
      "2025-02-15 18:26:07,507\tINFO tune.py:1009 -- Wrote the latest version of all result files and experiment state to '/home/sarmad/Documents/code/upperkaam/notebooks_review/Deliverable_Part_1/notebooks/4_tuning_networks/models/ray/tune_model_2025-02-15_18-06-57' in 0.0045s.\n",
      "2025-02-15 18:26:07,512\tINFO tune.py:1041 -- Total run time: 1149.76 seconds (1149.74 seconds for the tuning loop).\n"
     ]
    }
   ],
   "source": [
    "from ray.tune.search.bayesopt import BayesOptSearch\n",
    "\n",
    "bayesopt = BayesOptSearch(random_search_steps=5)\n",
    "\n",
    "\n",
    "config = {\n",
    "    \"input_size\": 3,\n",
    "    \"output_size\": 20,\n",
    "    \"dropout\": 0.1,\n",
    "    \"epochs\": MAX_EPOCHS,\n",
    "    \"hidden_size\": tune.uniform(16, 512),\n",
    "    \"num_layers\": tune.uniform(1, 8),\n",
    "    \"tune_dir\": tune_dir,\n",
    "}\n",
    "\n",
    "tic = time.time()\n",
    "\n",
    "analysis = tune.run(\n",
    "    tune_model,\n",
    "    config=config,\n",
    "    metric=\"valid_loss\",\n",
    "    mode=\"min\",\n",
    "    storage_path=str(tune_dir),         # edit from 'local_dir' to 'storrage_path'\n",
    "    num_samples=N_EXPERIMENTS,\n",
    "    stop={\"training_iteration\": MAX_EPOCHS},\n",
    "    search_alg=bayesopt,\n",
    "    verbose=1,\n",
    "    max_concurrent_trials=8,    # edit To reduce the OEM error\n",
    ")\n",
    "\n",
    "timer[\"ray_bayes\"] = time.time() - tic\n",
    "\n",
    "best = analysis.get_best_config()\n",
    "best[\"accuracy\"] = analysis.best_result[\"accuracy\"]\n",
    "best_config[\"bayes\"] = best\n"
   ]
  },
  {
   "cell_type": "code",
   "execution_count": 27,
   "metadata": {},
   "outputs": [
    {
     "data": {
      "text/plain": [
       "{'input_size': 3,\n",
       " 'output_size': 20,\n",
       " 'dropout': 0.1,\n",
       " 'epochs': 5,\n",
       " 'hidden_size': np.float64(312.30710161419046),\n",
       " 'num_layers': np.float64(4.338745301097682),\n",
       " 'tune_dir': PosixPath('/home/sarmad/Documents/code/upperkaam/notebooks_review/Deliverable_Part_1/notebooks/4_tuning_networks/models/ray'),\n",
       " 'accuracy': array(0.9875, dtype=float32)}"
      ]
     },
     "execution_count": 27,
     "metadata": {},
     "output_type": "execute_result"
    }
   ],
   "source": [
    "best"
   ]
  },
  {
   "cell_type": "code",
   "execution_count": 28,
   "metadata": {},
   "outputs": [],
   "source": [
    "all_results = pd.concat([all_results, analysis.results_df])"
   ]
  },
  {
   "cell_type": "code",
   "execution_count": 29,
   "metadata": {},
   "outputs": [
    {
     "data": {
      "application/vnd.plotly.v1+json": {
       "config": {
        "plotlyServerURL": "https://plot.ly"
       },
       "data": [
        {
         "colorbar": {
          "title": {
           "text": "Accuracy"
          }
         },
         "colorscale": [
          [
           0,
           "#0d0887"
          ],
          [
           0.1111111111111111,
           "#46039f"
          ],
          [
           0.2222222222222222,
           "#7201a8"
          ],
          [
           0.3333333333333333,
           "#9c179e"
          ],
          [
           0.4444444444444444,
           "#bd3786"
          ],
          [
           0.5555555555555556,
           "#d8576b"
          ],
          [
           0.6666666666666666,
           "#ed7953"
          ],
          [
           0.7777777777777778,
           "#fb9f3a"
          ],
          [
           0.8888888888888888,
           "#fdca26"
          ],
          [
           1,
           "#f0f921"
          ]
         ],
         "contours": {
          "coloring": "heatmap",
          "end": 1,
          "showlabels": true,
          "size": 0.01,
          "start": 0.7
         },
         "type": "contour",
         "x": {
          "bdata": "XVdsZbM4aUAWdKWaGrF3QHgQad2nWFdAYpk8xJxnRkBQuS3gcqJzQFts0cZ02X1AGNcveuSic0BjFowRX9p9QFqdeeO+jnNAeZlUi3+tc0DldgGSott9QN3ip+SpoXNArw/Y5Vm1c0AAAAAAAACAQAIUEg0lhHNAfNbkrOSFc0DEDfh9VIdzQPPXYePphHNA",
          "dtype": "f8"
         },
         "y": {
          "bdata": "ilukW7ieHkAax5YbL8MUQLEns2JWvABAvgArKMBAHEAyMkfYdtMXQAAAAAAAACBAlH/EgkeDEkAAAAAAAAAgQHKQ+GOhnxlAJchof2A+HEAAAAAAAAAgQH6inqPOhhJA8uWopX6CFUAAAAAAAAAgQCp6RCK6YRVAj9wrN+EKE0AjXe0lRe0QQImNVwzgWhFA",
          "dtype": "f8"
         },
         "z": [
          0.817187488079071,
          0.940625011920929,
          0.6343749761581421,
          0.26249998807907104,
          0.9609375,
          0.526562511920929,
          0.953125,
          0.29374998807907104,
          0.8921874761581421,
          0.893750011920929,
          0.3125,
          0.971875011920929,
          0.953125,
          0.2562499940395355,
          0.940625011920929,
          0.932812511920929,
          0.932812511920929,
          0.987500011920929
         ]
        },
        {
         "customdata": [
          0.817187488079071,
          0.940625011920929,
          0.6343749761581421,
          0.26249998807907104,
          0.9609375,
          0.526562511920929,
          0.953125,
          0.29374998807907104,
          0.8921874761581421,
          0.893750011920929,
          0.3125,
          0.971875011920929,
          0.953125,
          0.2562499940395355,
          0.940625011920929,
          0.932812511920929,
          0.932812511920929,
          0.987500011920929
         ],
         "hovertemplate": "Hidden Size: %{x}<br>Number of Layers: %{y}<br>Accuracy: %{customdata:.4f}<extra></extra>",
         "marker": {
          "color": "black",
          "size": 8,
          "symbol": "circle"
         },
         "mode": "markers",
         "name": "Data Points",
         "type": "scatter",
         "x": {
          "bdata": "XVdsZbM4aUAWdKWaGrF3QHgQad2nWFdAYpk8xJxnRkBQuS3gcqJzQFts0cZ02X1AGNcveuSic0BjFowRX9p9QFqdeeO+jnNAeZlUi3+tc0DldgGSott9QN3ip+SpoXNArw/Y5Vm1c0AAAAAAAACAQAIUEg0lhHNAfNbkrOSFc0DEDfh9VIdzQPPXYePphHNA",
          "dtype": "f8"
         },
         "y": {
          "bdata": "ilukW7ieHkAax5YbL8MUQLEns2JWvABAvgArKMBAHEAyMkfYdtMXQAAAAAAAACBAlH/EgkeDEkAAAAAAAAAgQHKQ+GOhnxlAJchof2A+HEAAAAAAAAAgQH6inqPOhhJA8uWopX6CFUAAAAAAAAAgQCp6RCK6YRVAj9wrN+EKE0AjXe0lRe0QQImNVwzgWhFA",
          "dtype": "f8"
         }
        }
       ],
       "layout": {
        "paper_bgcolor": "white",
        "plot_bgcolor": "white",
        "template": {
         "data": {
          "bar": [
           {
            "error_x": {
             "color": "#2a3f5f"
            },
            "error_y": {
             "color": "#2a3f5f"
            },
            "marker": {
             "line": {
              "color": "#E5ECF6",
              "width": 0.5
             },
             "pattern": {
              "fillmode": "overlay",
              "size": 10,
              "solidity": 0.2
             }
            },
            "type": "bar"
           }
          ],
          "barpolar": [
           {
            "marker": {
             "line": {
              "color": "#E5ECF6",
              "width": 0.5
             },
             "pattern": {
              "fillmode": "overlay",
              "size": 10,
              "solidity": 0.2
             }
            },
            "type": "barpolar"
           }
          ],
          "carpet": [
           {
            "aaxis": {
             "endlinecolor": "#2a3f5f",
             "gridcolor": "white",
             "linecolor": "white",
             "minorgridcolor": "white",
             "startlinecolor": "#2a3f5f"
            },
            "baxis": {
             "endlinecolor": "#2a3f5f",
             "gridcolor": "white",
             "linecolor": "white",
             "minorgridcolor": "white",
             "startlinecolor": "#2a3f5f"
            },
            "type": "carpet"
           }
          ],
          "choropleth": [
           {
            "colorbar": {
             "outlinewidth": 0,
             "ticks": ""
            },
            "type": "choropleth"
           }
          ],
          "contour": [
           {
            "colorbar": {
             "outlinewidth": 0,
             "ticks": ""
            },
            "colorscale": [
             [
              0,
              "#0d0887"
             ],
             [
              0.1111111111111111,
              "#46039f"
             ],
             [
              0.2222222222222222,
              "#7201a8"
             ],
             [
              0.3333333333333333,
              "#9c179e"
             ],
             [
              0.4444444444444444,
              "#bd3786"
             ],
             [
              0.5555555555555556,
              "#d8576b"
             ],
             [
              0.6666666666666666,
              "#ed7953"
             ],
             [
              0.7777777777777778,
              "#fb9f3a"
             ],
             [
              0.8888888888888888,
              "#fdca26"
             ],
             [
              1,
              "#f0f921"
             ]
            ],
            "type": "contour"
           }
          ],
          "contourcarpet": [
           {
            "colorbar": {
             "outlinewidth": 0,
             "ticks": ""
            },
            "type": "contourcarpet"
           }
          ],
          "heatmap": [
           {
            "colorbar": {
             "outlinewidth": 0,
             "ticks": ""
            },
            "colorscale": [
             [
              0,
              "#0d0887"
             ],
             [
              0.1111111111111111,
              "#46039f"
             ],
             [
              0.2222222222222222,
              "#7201a8"
             ],
             [
              0.3333333333333333,
              "#9c179e"
             ],
             [
              0.4444444444444444,
              "#bd3786"
             ],
             [
              0.5555555555555556,
              "#d8576b"
             ],
             [
              0.6666666666666666,
              "#ed7953"
             ],
             [
              0.7777777777777778,
              "#fb9f3a"
             ],
             [
              0.8888888888888888,
              "#fdca26"
             ],
             [
              1,
              "#f0f921"
             ]
            ],
            "type": "heatmap"
           }
          ],
          "histogram": [
           {
            "marker": {
             "pattern": {
              "fillmode": "overlay",
              "size": 10,
              "solidity": 0.2
             }
            },
            "type": "histogram"
           }
          ],
          "histogram2d": [
           {
            "colorbar": {
             "outlinewidth": 0,
             "ticks": ""
            },
            "colorscale": [
             [
              0,
              "#0d0887"
             ],
             [
              0.1111111111111111,
              "#46039f"
             ],
             [
              0.2222222222222222,
              "#7201a8"
             ],
             [
              0.3333333333333333,
              "#9c179e"
             ],
             [
              0.4444444444444444,
              "#bd3786"
             ],
             [
              0.5555555555555556,
              "#d8576b"
             ],
             [
              0.6666666666666666,
              "#ed7953"
             ],
             [
              0.7777777777777778,
              "#fb9f3a"
             ],
             [
              0.8888888888888888,
              "#fdca26"
             ],
             [
              1,
              "#f0f921"
             ]
            ],
            "type": "histogram2d"
           }
          ],
          "histogram2dcontour": [
           {
            "colorbar": {
             "outlinewidth": 0,
             "ticks": ""
            },
            "colorscale": [
             [
              0,
              "#0d0887"
             ],
             [
              0.1111111111111111,
              "#46039f"
             ],
             [
              0.2222222222222222,
              "#7201a8"
             ],
             [
              0.3333333333333333,
              "#9c179e"
             ],
             [
              0.4444444444444444,
              "#bd3786"
             ],
             [
              0.5555555555555556,
              "#d8576b"
             ],
             [
              0.6666666666666666,
              "#ed7953"
             ],
             [
              0.7777777777777778,
              "#fb9f3a"
             ],
             [
              0.8888888888888888,
              "#fdca26"
             ],
             [
              1,
              "#f0f921"
             ]
            ],
            "type": "histogram2dcontour"
           }
          ],
          "mesh3d": [
           {
            "colorbar": {
             "outlinewidth": 0,
             "ticks": ""
            },
            "type": "mesh3d"
           }
          ],
          "parcoords": [
           {
            "line": {
             "colorbar": {
              "outlinewidth": 0,
              "ticks": ""
             }
            },
            "type": "parcoords"
           }
          ],
          "pie": [
           {
            "automargin": true,
            "type": "pie"
           }
          ],
          "scatter": [
           {
            "fillpattern": {
             "fillmode": "overlay",
             "size": 10,
             "solidity": 0.2
            },
            "type": "scatter"
           }
          ],
          "scatter3d": [
           {
            "line": {
             "colorbar": {
              "outlinewidth": 0,
              "ticks": ""
             }
            },
            "marker": {
             "colorbar": {
              "outlinewidth": 0,
              "ticks": ""
             }
            },
            "type": "scatter3d"
           }
          ],
          "scattercarpet": [
           {
            "marker": {
             "colorbar": {
              "outlinewidth": 0,
              "ticks": ""
             }
            },
            "type": "scattercarpet"
           }
          ],
          "scattergeo": [
           {
            "marker": {
             "colorbar": {
              "outlinewidth": 0,
              "ticks": ""
             }
            },
            "type": "scattergeo"
           }
          ],
          "scattergl": [
           {
            "marker": {
             "colorbar": {
              "outlinewidth": 0,
              "ticks": ""
             }
            },
            "type": "scattergl"
           }
          ],
          "scattermap": [
           {
            "marker": {
             "colorbar": {
              "outlinewidth": 0,
              "ticks": ""
             }
            },
            "type": "scattermap"
           }
          ],
          "scattermapbox": [
           {
            "marker": {
             "colorbar": {
              "outlinewidth": 0,
              "ticks": ""
             }
            },
            "type": "scattermapbox"
           }
          ],
          "scatterpolar": [
           {
            "marker": {
             "colorbar": {
              "outlinewidth": 0,
              "ticks": ""
             }
            },
            "type": "scatterpolar"
           }
          ],
          "scatterpolargl": [
           {
            "marker": {
             "colorbar": {
              "outlinewidth": 0,
              "ticks": ""
             }
            },
            "type": "scatterpolargl"
           }
          ],
          "scatterternary": [
           {
            "marker": {
             "colorbar": {
              "outlinewidth": 0,
              "ticks": ""
             }
            },
            "type": "scatterternary"
           }
          ],
          "surface": [
           {
            "colorbar": {
             "outlinewidth": 0,
             "ticks": ""
            },
            "colorscale": [
             [
              0,
              "#0d0887"
             ],
             [
              0.1111111111111111,
              "#46039f"
             ],
             [
              0.2222222222222222,
              "#7201a8"
             ],
             [
              0.3333333333333333,
              "#9c179e"
             ],
             [
              0.4444444444444444,
              "#bd3786"
             ],
             [
              0.5555555555555556,
              "#d8576b"
             ],
             [
              0.6666666666666666,
              "#ed7953"
             ],
             [
              0.7777777777777778,
              "#fb9f3a"
             ],
             [
              0.8888888888888888,
              "#fdca26"
             ],
             [
              1,
              "#f0f921"
             ]
            ],
            "type": "surface"
           }
          ],
          "table": [
           {
            "cells": {
             "fill": {
              "color": "#EBF0F8"
             },
             "line": {
              "color": "white"
             }
            },
            "header": {
             "fill": {
              "color": "#C8D4E3"
             },
             "line": {
              "color": "white"
             }
            },
            "type": "table"
           }
          ]
         },
         "layout": {
          "annotationdefaults": {
           "arrowcolor": "#2a3f5f",
           "arrowhead": 0,
           "arrowwidth": 1
          },
          "autotypenumbers": "strict",
          "coloraxis": {
           "colorbar": {
            "outlinewidth": 0,
            "ticks": ""
           }
          },
          "colorscale": {
           "diverging": [
            [
             0,
             "#8e0152"
            ],
            [
             0.1,
             "#c51b7d"
            ],
            [
             0.2,
             "#de77ae"
            ],
            [
             0.3,
             "#f1b6da"
            ],
            [
             0.4,
             "#fde0ef"
            ],
            [
             0.5,
             "#f7f7f7"
            ],
            [
             0.6,
             "#e6f5d0"
            ],
            [
             0.7,
             "#b8e186"
            ],
            [
             0.8,
             "#7fbc41"
            ],
            [
             0.9,
             "#4d9221"
            ],
            [
             1,
             "#276419"
            ]
           ],
           "sequential": [
            [
             0,
             "#0d0887"
            ],
            [
             0.1111111111111111,
             "#46039f"
            ],
            [
             0.2222222222222222,
             "#7201a8"
            ],
            [
             0.3333333333333333,
             "#9c179e"
            ],
            [
             0.4444444444444444,
             "#bd3786"
            ],
            [
             0.5555555555555556,
             "#d8576b"
            ],
            [
             0.6666666666666666,
             "#ed7953"
            ],
            [
             0.7777777777777778,
             "#fb9f3a"
            ],
            [
             0.8888888888888888,
             "#fdca26"
            ],
            [
             1,
             "#f0f921"
            ]
           ],
           "sequentialminus": [
            [
             0,
             "#0d0887"
            ],
            [
             0.1111111111111111,
             "#46039f"
            ],
            [
             0.2222222222222222,
             "#7201a8"
            ],
            [
             0.3333333333333333,
             "#9c179e"
            ],
            [
             0.4444444444444444,
             "#bd3786"
            ],
            [
             0.5555555555555556,
             "#d8576b"
            ],
            [
             0.6666666666666666,
             "#ed7953"
            ],
            [
             0.7777777777777778,
             "#fb9f3a"
            ],
            [
             0.8888888888888888,
             "#fdca26"
            ],
            [
             1,
             "#f0f921"
            ]
           ]
          },
          "colorway": [
           "#636efa",
           "#EF553B",
           "#00cc96",
           "#ab63fa",
           "#FFA15A",
           "#19d3f3",
           "#FF6692",
           "#B6E880",
           "#FF97FF",
           "#FECB52"
          ],
          "font": {
           "color": "#2a3f5f"
          },
          "geo": {
           "bgcolor": "white",
           "lakecolor": "white",
           "landcolor": "#E5ECF6",
           "showlakes": true,
           "showland": true,
           "subunitcolor": "white"
          },
          "hoverlabel": {
           "align": "left"
          },
          "hovermode": "closest",
          "mapbox": {
           "style": "light"
          },
          "paper_bgcolor": "white",
          "plot_bgcolor": "#E5ECF6",
          "polar": {
           "angularaxis": {
            "gridcolor": "white",
            "linecolor": "white",
            "ticks": ""
           },
           "bgcolor": "#E5ECF6",
           "radialaxis": {
            "gridcolor": "white",
            "linecolor": "white",
            "ticks": ""
           }
          },
          "scene": {
           "xaxis": {
            "backgroundcolor": "#E5ECF6",
            "gridcolor": "white",
            "gridwidth": 2,
            "linecolor": "white",
            "showbackground": true,
            "ticks": "",
            "zerolinecolor": "white"
           },
           "yaxis": {
            "backgroundcolor": "#E5ECF6",
            "gridcolor": "white",
            "gridwidth": 2,
            "linecolor": "white",
            "showbackground": true,
            "ticks": "",
            "zerolinecolor": "white"
           },
           "zaxis": {
            "backgroundcolor": "#E5ECF6",
            "gridcolor": "white",
            "gridwidth": 2,
            "linecolor": "white",
            "showbackground": true,
            "ticks": "",
            "zerolinecolor": "white"
           }
          },
          "shapedefaults": {
           "line": {
            "color": "#2a3f5f"
           }
          },
          "ternary": {
           "aaxis": {
            "gridcolor": "white",
            "linecolor": "white",
            "ticks": ""
           },
           "baxis": {
            "gridcolor": "white",
            "linecolor": "white",
            "ticks": ""
           },
           "bgcolor": "#E5ECF6",
           "caxis": {
            "gridcolor": "white",
            "linecolor": "white",
            "ticks": ""
           }
          },
          "title": {
           "x": 0.05
          },
          "xaxis": {
           "automargin": true,
           "gridcolor": "white",
           "linecolor": "white",
           "ticks": "",
           "title": {
            "standoff": 15
           },
           "zerolinecolor": "white",
           "zerolinewidth": 2
          },
          "yaxis": {
           "automargin": true,
           "gridcolor": "white",
           "linecolor": "white",
           "ticks": "",
           "title": {
            "standoff": 15
           },
           "zerolinecolor": "white",
           "zerolinewidth": 2
          }
         }
        },
        "title": {
         "text": "Contour Plot"
        },
        "xaxis": {
         "showgrid": false,
         "title": {
          "text": "Hidden Size"
         }
        },
        "yaxis": {
         "showgrid": false,
         "title": {
          "text": "Number of Layers"
         }
        }
       }
      }
     },
     "metadata": {},
     "output_type": "display_data"
    }
   ],
   "source": [
    "bayes = analysis.results_df\n",
    "plot_contour(bayes, \"config/hidden_size\", \"config/num_layers\", \"accuracy\", start=0.7)"
   ]
  },
  {
   "cell_type": "markdown",
   "metadata": {},
   "source": [
    "As you can see, bayes really focuses on the promising areas. It is much more efficient than random search, and also more efficient than grid search.\n",
    "We have set the `random_search_steps` to 5, this means that we will do 5 random searches first, to get a good initial idea of the space. As you can see, 5 is a bit low, because it might lead to premature converging to a local optimum. You can increase this number to get a better initial idea of the space, but you will also need to increase the number of iterations after the initial random scan."
   ]
  },
  {
   "cell_type": "code",
   "execution_count": 30,
   "metadata": {},
   "outputs": [
    {
     "data": {
      "application/vnd.plotly.v1+json": {
       "config": {
        "plotlyServerURL": "https://plot.ly"
       },
       "data": [
        {
         "dimensions": [
          {
           "label": "config/hidden_size",
           "values": {
            "bdata": "XVdsZbM4aUAWdKWaGrF3QHgQad2nWFdAYpk8xJxnRkBQuS3gcqJzQFts0cZ02X1AGNcveuSic0BjFowRX9p9QFqdeeO+jnNAeZlUi3+tc0DldgGSott9QN3ip+SpoXNArw/Y5Vm1c0AAAAAAAACAQAIUEg0lhHNAfNbkrOSFc0DEDfh9VIdzQPPXYePphHNA",
            "dtype": "f8"
           }
          },
          {
           "label": "config/num_layers",
           "values": {
            "bdata": "ilukW7ieHkAax5YbL8MUQLEns2JWvABAvgArKMBAHEAyMkfYdtMXQAAAAAAAACBAlH/EgkeDEkAAAAAAAAAgQHKQ+GOhnxlAJchof2A+HEAAAAAAAAAgQH6inqPOhhJA8uWopX6CFUAAAAAAAAAgQCp6RCK6YRVAj9wrN+EKE0AjXe0lRe0QQImNVwzgWhFA",
            "dtype": "f8"
           }
          }
         ],
         "domain": {
          "x": [
           0,
           1
          ],
          "y": [
           0,
           1
          ]
         },
         "line": {
          "color": [
           0.817187488079071,
           0.940625011920929,
           0.6343749761581421,
           0.26249998807907104,
           0.9609375,
           0.526562511920929,
           0.953125,
           0.29374998807907104,
           0.8921874761581421,
           0.893750011920929,
           0.3125,
           0.971875011920929,
           0.953125,
           0.2562499940395355,
           0.940625011920929,
           0.932812511920929,
           0.932812511920929,
           0.987500011920929
          ],
          "coloraxis": "coloraxis"
         },
         "name": "",
         "type": "parcoords"
        }
       ],
       "layout": {
        "coloraxis": {
         "colorbar": {
          "title": {
           "text": "accuracy"
          }
         },
         "colorscale": [
          [
           0,
           "#0d0887"
          ],
          [
           0.1111111111111111,
           "#46039f"
          ],
          [
           0.2222222222222222,
           "#7201a8"
          ],
          [
           0.3333333333333333,
           "#9c179e"
          ],
          [
           0.4444444444444444,
           "#bd3786"
          ],
          [
           0.5555555555555556,
           "#d8576b"
          ],
          [
           0.6666666666666666,
           "#ed7953"
          ],
          [
           0.7777777777777778,
           "#fb9f3a"
          ],
          [
           0.8888888888888888,
           "#fdca26"
          ],
          [
           1,
           "#f0f921"
          ]
         ]
        },
        "legend": {
         "tracegroupgap": 0
        },
        "margin": {
         "t": 60
        },
        "template": {
         "data": {
          "bar": [
           {
            "error_x": {
             "color": "#2a3f5f"
            },
            "error_y": {
             "color": "#2a3f5f"
            },
            "marker": {
             "line": {
              "color": "#E5ECF6",
              "width": 0.5
             },
             "pattern": {
              "fillmode": "overlay",
              "size": 10,
              "solidity": 0.2
             }
            },
            "type": "bar"
           }
          ],
          "barpolar": [
           {
            "marker": {
             "line": {
              "color": "#E5ECF6",
              "width": 0.5
             },
             "pattern": {
              "fillmode": "overlay",
              "size": 10,
              "solidity": 0.2
             }
            },
            "type": "barpolar"
           }
          ],
          "carpet": [
           {
            "aaxis": {
             "endlinecolor": "#2a3f5f",
             "gridcolor": "white",
             "linecolor": "white",
             "minorgridcolor": "white",
             "startlinecolor": "#2a3f5f"
            },
            "baxis": {
             "endlinecolor": "#2a3f5f",
             "gridcolor": "white",
             "linecolor": "white",
             "minorgridcolor": "white",
             "startlinecolor": "#2a3f5f"
            },
            "type": "carpet"
           }
          ],
          "choropleth": [
           {
            "colorbar": {
             "outlinewidth": 0,
             "ticks": ""
            },
            "type": "choropleth"
           }
          ],
          "contour": [
           {
            "colorbar": {
             "outlinewidth": 0,
             "ticks": ""
            },
            "colorscale": [
             [
              0,
              "#0d0887"
             ],
             [
              0.1111111111111111,
              "#46039f"
             ],
             [
              0.2222222222222222,
              "#7201a8"
             ],
             [
              0.3333333333333333,
              "#9c179e"
             ],
             [
              0.4444444444444444,
              "#bd3786"
             ],
             [
              0.5555555555555556,
              "#d8576b"
             ],
             [
              0.6666666666666666,
              "#ed7953"
             ],
             [
              0.7777777777777778,
              "#fb9f3a"
             ],
             [
              0.8888888888888888,
              "#fdca26"
             ],
             [
              1,
              "#f0f921"
             ]
            ],
            "type": "contour"
           }
          ],
          "contourcarpet": [
           {
            "colorbar": {
             "outlinewidth": 0,
             "ticks": ""
            },
            "type": "contourcarpet"
           }
          ],
          "heatmap": [
           {
            "colorbar": {
             "outlinewidth": 0,
             "ticks": ""
            },
            "colorscale": [
             [
              0,
              "#0d0887"
             ],
             [
              0.1111111111111111,
              "#46039f"
             ],
             [
              0.2222222222222222,
              "#7201a8"
             ],
             [
              0.3333333333333333,
              "#9c179e"
             ],
             [
              0.4444444444444444,
              "#bd3786"
             ],
             [
              0.5555555555555556,
              "#d8576b"
             ],
             [
              0.6666666666666666,
              "#ed7953"
             ],
             [
              0.7777777777777778,
              "#fb9f3a"
             ],
             [
              0.8888888888888888,
              "#fdca26"
             ],
             [
              1,
              "#f0f921"
             ]
            ],
            "type": "heatmap"
           }
          ],
          "histogram": [
           {
            "marker": {
             "pattern": {
              "fillmode": "overlay",
              "size": 10,
              "solidity": 0.2
             }
            },
            "type": "histogram"
           }
          ],
          "histogram2d": [
           {
            "colorbar": {
             "outlinewidth": 0,
             "ticks": ""
            },
            "colorscale": [
             [
              0,
              "#0d0887"
             ],
             [
              0.1111111111111111,
              "#46039f"
             ],
             [
              0.2222222222222222,
              "#7201a8"
             ],
             [
              0.3333333333333333,
              "#9c179e"
             ],
             [
              0.4444444444444444,
              "#bd3786"
             ],
             [
              0.5555555555555556,
              "#d8576b"
             ],
             [
              0.6666666666666666,
              "#ed7953"
             ],
             [
              0.7777777777777778,
              "#fb9f3a"
             ],
             [
              0.8888888888888888,
              "#fdca26"
             ],
             [
              1,
              "#f0f921"
             ]
            ],
            "type": "histogram2d"
           }
          ],
          "histogram2dcontour": [
           {
            "colorbar": {
             "outlinewidth": 0,
             "ticks": ""
            },
            "colorscale": [
             [
              0,
              "#0d0887"
             ],
             [
              0.1111111111111111,
              "#46039f"
             ],
             [
              0.2222222222222222,
              "#7201a8"
             ],
             [
              0.3333333333333333,
              "#9c179e"
             ],
             [
              0.4444444444444444,
              "#bd3786"
             ],
             [
              0.5555555555555556,
              "#d8576b"
             ],
             [
              0.6666666666666666,
              "#ed7953"
             ],
             [
              0.7777777777777778,
              "#fb9f3a"
             ],
             [
              0.8888888888888888,
              "#fdca26"
             ],
             [
              1,
              "#f0f921"
             ]
            ],
            "type": "histogram2dcontour"
           }
          ],
          "mesh3d": [
           {
            "colorbar": {
             "outlinewidth": 0,
             "ticks": ""
            },
            "type": "mesh3d"
           }
          ],
          "parcoords": [
           {
            "line": {
             "colorbar": {
              "outlinewidth": 0,
              "ticks": ""
             }
            },
            "type": "parcoords"
           }
          ],
          "pie": [
           {
            "automargin": true,
            "type": "pie"
           }
          ],
          "scatter": [
           {
            "fillpattern": {
             "fillmode": "overlay",
             "size": 10,
             "solidity": 0.2
            },
            "type": "scatter"
           }
          ],
          "scatter3d": [
           {
            "line": {
             "colorbar": {
              "outlinewidth": 0,
              "ticks": ""
             }
            },
            "marker": {
             "colorbar": {
              "outlinewidth": 0,
              "ticks": ""
             }
            },
            "type": "scatter3d"
           }
          ],
          "scattercarpet": [
           {
            "marker": {
             "colorbar": {
              "outlinewidth": 0,
              "ticks": ""
             }
            },
            "type": "scattercarpet"
           }
          ],
          "scattergeo": [
           {
            "marker": {
             "colorbar": {
              "outlinewidth": 0,
              "ticks": ""
             }
            },
            "type": "scattergeo"
           }
          ],
          "scattergl": [
           {
            "marker": {
             "colorbar": {
              "outlinewidth": 0,
              "ticks": ""
             }
            },
            "type": "scattergl"
           }
          ],
          "scattermap": [
           {
            "marker": {
             "colorbar": {
              "outlinewidth": 0,
              "ticks": ""
             }
            },
            "type": "scattermap"
           }
          ],
          "scattermapbox": [
           {
            "marker": {
             "colorbar": {
              "outlinewidth": 0,
              "ticks": ""
             }
            },
            "type": "scattermapbox"
           }
          ],
          "scatterpolar": [
           {
            "marker": {
             "colorbar": {
              "outlinewidth": 0,
              "ticks": ""
             }
            },
            "type": "scatterpolar"
           }
          ],
          "scatterpolargl": [
           {
            "marker": {
             "colorbar": {
              "outlinewidth": 0,
              "ticks": ""
             }
            },
            "type": "scatterpolargl"
           }
          ],
          "scatterternary": [
           {
            "marker": {
             "colorbar": {
              "outlinewidth": 0,
              "ticks": ""
             }
            },
            "type": "scatterternary"
           }
          ],
          "surface": [
           {
            "colorbar": {
             "outlinewidth": 0,
             "ticks": ""
            },
            "colorscale": [
             [
              0,
              "#0d0887"
             ],
             [
              0.1111111111111111,
              "#46039f"
             ],
             [
              0.2222222222222222,
              "#7201a8"
             ],
             [
              0.3333333333333333,
              "#9c179e"
             ],
             [
              0.4444444444444444,
              "#bd3786"
             ],
             [
              0.5555555555555556,
              "#d8576b"
             ],
             [
              0.6666666666666666,
              "#ed7953"
             ],
             [
              0.7777777777777778,
              "#fb9f3a"
             ],
             [
              0.8888888888888888,
              "#fdca26"
             ],
             [
              1,
              "#f0f921"
             ]
            ],
            "type": "surface"
           }
          ],
          "table": [
           {
            "cells": {
             "fill": {
              "color": "#EBF0F8"
             },
             "line": {
              "color": "white"
             }
            },
            "header": {
             "fill": {
              "color": "#C8D4E3"
             },
             "line": {
              "color": "white"
             }
            },
            "type": "table"
           }
          ]
         },
         "layout": {
          "annotationdefaults": {
           "arrowcolor": "#2a3f5f",
           "arrowhead": 0,
           "arrowwidth": 1
          },
          "autotypenumbers": "strict",
          "coloraxis": {
           "colorbar": {
            "outlinewidth": 0,
            "ticks": ""
           }
          },
          "colorscale": {
           "diverging": [
            [
             0,
             "#8e0152"
            ],
            [
             0.1,
             "#c51b7d"
            ],
            [
             0.2,
             "#de77ae"
            ],
            [
             0.3,
             "#f1b6da"
            ],
            [
             0.4,
             "#fde0ef"
            ],
            [
             0.5,
             "#f7f7f7"
            ],
            [
             0.6,
             "#e6f5d0"
            ],
            [
             0.7,
             "#b8e186"
            ],
            [
             0.8,
             "#7fbc41"
            ],
            [
             0.9,
             "#4d9221"
            ],
            [
             1,
             "#276419"
            ]
           ],
           "sequential": [
            [
             0,
             "#0d0887"
            ],
            [
             0.1111111111111111,
             "#46039f"
            ],
            [
             0.2222222222222222,
             "#7201a8"
            ],
            [
             0.3333333333333333,
             "#9c179e"
            ],
            [
             0.4444444444444444,
             "#bd3786"
            ],
            [
             0.5555555555555556,
             "#d8576b"
            ],
            [
             0.6666666666666666,
             "#ed7953"
            ],
            [
             0.7777777777777778,
             "#fb9f3a"
            ],
            [
             0.8888888888888888,
             "#fdca26"
            ],
            [
             1,
             "#f0f921"
            ]
           ],
           "sequentialminus": [
            [
             0,
             "#0d0887"
            ],
            [
             0.1111111111111111,
             "#46039f"
            ],
            [
             0.2222222222222222,
             "#7201a8"
            ],
            [
             0.3333333333333333,
             "#9c179e"
            ],
            [
             0.4444444444444444,
             "#bd3786"
            ],
            [
             0.5555555555555556,
             "#d8576b"
            ],
            [
             0.6666666666666666,
             "#ed7953"
            ],
            [
             0.7777777777777778,
             "#fb9f3a"
            ],
            [
             0.8888888888888888,
             "#fdca26"
            ],
            [
             1,
             "#f0f921"
            ]
           ]
          },
          "colorway": [
           "#636efa",
           "#EF553B",
           "#00cc96",
           "#ab63fa",
           "#FFA15A",
           "#19d3f3",
           "#FF6692",
           "#B6E880",
           "#FF97FF",
           "#FECB52"
          ],
          "font": {
           "color": "#2a3f5f"
          },
          "geo": {
           "bgcolor": "white",
           "lakecolor": "white",
           "landcolor": "#E5ECF6",
           "showlakes": true,
           "showland": true,
           "subunitcolor": "white"
          },
          "hoverlabel": {
           "align": "left"
          },
          "hovermode": "closest",
          "mapbox": {
           "style": "light"
          },
          "paper_bgcolor": "white",
          "plot_bgcolor": "#E5ECF6",
          "polar": {
           "angularaxis": {
            "gridcolor": "white",
            "linecolor": "white",
            "ticks": ""
           },
           "bgcolor": "#E5ECF6",
           "radialaxis": {
            "gridcolor": "white",
            "linecolor": "white",
            "ticks": ""
           }
          },
          "scene": {
           "xaxis": {
            "backgroundcolor": "#E5ECF6",
            "gridcolor": "white",
            "gridwidth": 2,
            "linecolor": "white",
            "showbackground": true,
            "ticks": "",
            "zerolinecolor": "white"
           },
           "yaxis": {
            "backgroundcolor": "#E5ECF6",
            "gridcolor": "white",
            "gridwidth": 2,
            "linecolor": "white",
            "showbackground": true,
            "ticks": "",
            "zerolinecolor": "white"
           },
           "zaxis": {
            "backgroundcolor": "#E5ECF6",
            "gridcolor": "white",
            "gridwidth": 2,
            "linecolor": "white",
            "showbackground": true,
            "ticks": "",
            "zerolinecolor": "white"
           }
          },
          "shapedefaults": {
           "line": {
            "color": "#2a3f5f"
           }
          },
          "ternary": {
           "aaxis": {
            "gridcolor": "white",
            "linecolor": "white",
            "ticks": ""
           },
           "baxis": {
            "gridcolor": "white",
            "linecolor": "white",
            "ticks": ""
           },
           "bgcolor": "#E5ECF6",
           "caxis": {
            "gridcolor": "white",
            "linecolor": "white",
            "ticks": ""
           }
          },
          "title": {
           "x": 0.05
          },
          "xaxis": {
           "automargin": true,
           "gridcolor": "white",
           "linecolor": "white",
           "ticks": "",
           "title": {
            "standoff": 15
           },
           "zerolinecolor": "white",
           "zerolinewidth": 2
          },
          "yaxis": {
           "automargin": true,
           "gridcolor": "white",
           "linecolor": "white",
           "ticks": "",
           "title": {
            "standoff": 15
           },
           "zerolinecolor": "white",
           "zerolinewidth": 2
          }
         }
        }
       }
      }
     },
     "metadata": {},
     "output_type": "display_data"
    }
   ],
   "source": [
    "visualize.parallel_plot(analysis, columns)"
   ]
  },
  {
   "cell_type": "code",
   "execution_count": 31,
   "metadata": {},
   "outputs": [
    {
     "data": {
      "image/png": "[encoded data removed]",
      "text/plain": [
       "<Figure size 640x480 with 1 Axes>"
      ]
     },
     "metadata": {},
     "output_type": "display_data"
    }
   ],
   "source": [
    "visualize.plot_timers(timer)"
   ]
  },
  {
   "cell_type": "code",
   "execution_count": 32,
   "metadata": {},
   "outputs": [
    {
     "data": {
      "text/html": [
       "<div>\n",
       "<style scoped>\n",
       "    .dataframe tbody tr th:only-of-type {\n",
       "        vertical-align: middle;\n",
       "    }\n",
       "\n",
       "    .dataframe tbody tr th {\n",
       "        vertical-align: top;\n",
       "    }\n",
       "\n",
       "    .dataframe thead th {\n",
       "        text-align: right;\n",
       "    }\n",
       "</style>\n",
       "<table border=\"1\" class=\"dataframe\">\n",
       "  <thead>\n",
       "    <tr style=\"text-align: right;\">\n",
       "      <th></th>\n",
       "      <th>input_size</th>\n",
       "      <th>output_size</th>\n",
       "      <th>dropout</th>\n",
       "      <th>epochs</th>\n",
       "      <th>hidden_size</th>\n",
       "      <th>num_layers</th>\n",
       "      <th>tune_dir</th>\n",
       "      <th>accuracy</th>\n",
       "    </tr>\n",
       "  </thead>\n",
       "  <tbody>\n",
       "    <tr>\n",
       "      <th>random</th>\n",
       "      <td>3</td>\n",
       "      <td>20</td>\n",
       "      <td>0.05</td>\n",
       "      <td>5</td>\n",
       "      <td>486.000000</td>\n",
       "      <td>1.000000</td>\n",
       "      <td>/home/sarmad/Documents/code/upperkaam/notebook...</td>\n",
       "      <td>0.9875</td>\n",
       "    </tr>\n",
       "    <tr>\n",
       "      <th>grid</th>\n",
       "      <td>3</td>\n",
       "      <td>20</td>\n",
       "      <td>0.10</td>\n",
       "      <td>5</td>\n",
       "      <td>512.000000</td>\n",
       "      <td>2.000000</td>\n",
       "      <td>/home/sarmad/Documents/code/upperkaam/notebook...</td>\n",
       "      <td>0.9859375</td>\n",
       "    </tr>\n",
       "    <tr>\n",
       "      <th>bayes</th>\n",
       "      <td>3</td>\n",
       "      <td>20</td>\n",
       "      <td>0.10</td>\n",
       "      <td>5</td>\n",
       "      <td>312.307102</td>\n",
       "      <td>4.338745</td>\n",
       "      <td>/home/sarmad/Documents/code/upperkaam/notebook...</td>\n",
       "      <td>0.9875</td>\n",
       "    </tr>\n",
       "  </tbody>\n",
       "</table>\n",
       "</div>"
      ],
      "text/plain": [
       "        input_size  output_size  dropout  epochs  hidden_size  num_layers  \\\n",
       "random           3           20     0.05       5   486.000000    1.000000   \n",
       "grid             3           20     0.10       5   512.000000    2.000000   \n",
       "bayes            3           20     0.10       5   312.307102    4.338745   \n",
       "\n",
       "                                                 tune_dir   accuracy  \n",
       "random  /home/sarmad/Documents/code/upperkaam/notebook...     0.9875  \n",
       "grid    /home/sarmad/Documents/code/upperkaam/notebook...  0.9859375  \n",
       "bayes   /home/sarmad/Documents/code/upperkaam/notebook...     0.9875  "
      ]
     },
     "execution_count": 32,
     "metadata": {},
     "output_type": "execute_result"
    }
   ],
   "source": [
    "import pandas as pd\n",
    "\n",
    "pd.DataFrame.from_dict(best_config, orient=\"index\")\n"
   ]
  },
  {
   "cell_type": "markdown",
   "metadata": {},
   "source": [
    "# Hyperband\n",
    "\n",
    "Hyperband aborts runs early. Configs that are unpromising are abandoned before they complete."
   ]
  },
  {
   "cell_type": "markdown",
   "metadata": {},
   "source": [
    "\n",
    "<font color='green'>\n",
    "\n",
    "**Code modified**\n",
    "</font>"
   ]
  },
  {
   "cell_type": "code",
   "execution_count": 33,
   "metadata": {},
   "outputs": [
    {
     "data": {
      "text/html": [
       "<div class=\"tuneStatus\">\n",
       "  <div style=\"display: flex;flex-direction: row\">\n",
       "    <div style=\"display: flex;flex-direction: column;\">\n",
       "      <h3>Tune Status</h3>\n",
       "      <table>\n",
       "<tbody>\n",
       "<tr><td>Current time:</td><td>2025-02-15 18:47:23</td></tr>\n",
       "<tr><td>Running for: </td><td>00:05:25.91        </td></tr>\n",
       "<tr><td>Memory:      </td><td>9.2/31.2 GiB       </td></tr>\n",
       "</tbody>\n",
       "</table>\n",
       "    </div>\n",
       "    <div class=\"vDivider\"></div>\n",
       "    <div class=\"systemInfo\">\n",
       "      <h3>System Info</h3>\n",
       "      Using AsyncHyperBand: num_stopped=12<br>Bracket: Iter 3.000: -0.8350977440675099 | Iter 1.000: -2.0335526287555696<br>Logical resource usage: 1.0/12 CPUs, 0/1 GPUs (0.0/1.0 accelerator_type:G)\n",
       "    </div>\n",
       "    \n",
       "  </div>\n",
       "  <div class=\"hDivider\"></div>\n",
       "  <div class=\"trialStatus\">\n",
       "    <h3>Trial Status</h3>\n",
       "    <table>\n",
       "<thead>\n",
       "<tr><th>Trial name            </th><th>status    </th><th>loc               </th><th style=\"text-align: right;\">  hidden_size</th><th style=\"text-align: right;\">  num_layers</th><th style=\"text-align: right;\">  iter</th><th style=\"text-align: right;\">  total time (s)</th><th style=\"text-align: right;\">  valid_loss</th><th style=\"text-align: right;\">  train_loss</th></tr>\n",
       "</thead>\n",
       "<tbody>\n",
       "<tr><td>tune_model_1919f_00000</td><td>TERMINATED</td><td>192.168.0.5:983639</td><td style=\"text-align: right;\">           71</td><td style=\"text-align: right;\">           6</td><td style=\"text-align: right;\">     1</td><td style=\"text-align: right;\">        13.2069 </td><td style=\"text-align: right;\">   2.34167  </td><td style=\"text-align: right;\">   2.60318  </td></tr>\n",
       "<tr><td>tune_model_1919f_00001</td><td>TERMINATED</td><td>192.168.0.5:983638</td><td style=\"text-align: right;\">          121</td><td style=\"text-align: right;\">           3</td><td style=\"text-align: right;\">     5</td><td style=\"text-align: right;\">        41.5657 </td><td style=\"text-align: right;\">   0.522898 </td><td style=\"text-align: right;\">   0.706218 </td></tr>\n",
       "<tr><td>tune_model_1919f_00002</td><td>TERMINATED</td><td>192.168.0.5:983640</td><td style=\"text-align: right;\">          225</td><td style=\"text-align: right;\">           2</td><td style=\"text-align: right;\">     5</td><td style=\"text-align: right;\">        69.8429 </td><td style=\"text-align: right;\">   0.162549 </td><td style=\"text-align: right;\">   0.220952 </td></tr>\n",
       "<tr><td>tune_model_1919f_00003</td><td>TERMINATED</td><td>192.168.0.5:983636</td><td style=\"text-align: right;\">          421</td><td style=\"text-align: right;\">           3</td><td style=\"text-align: right;\">     5</td><td style=\"text-align: right;\">       179.605  </td><td style=\"text-align: right;\">   0.0973716</td><td style=\"text-align: right;\">   0.0940042</td></tr>\n",
       "<tr><td>tune_model_1919f_00004</td><td>TERMINATED</td><td>192.168.0.5:983637</td><td style=\"text-align: right;\">          321</td><td style=\"text-align: right;\">           1</td><td style=\"text-align: right;\">     5</td><td style=\"text-align: right;\">        58.1952 </td><td style=\"text-align: right;\">   0.190632 </td><td style=\"text-align: right;\">   0.335702 </td></tr>\n",
       "<tr><td>tune_model_1919f_00005</td><td>TERMINATED</td><td>192.168.0.5:983634</td><td style=\"text-align: right;\">           79</td><td style=\"text-align: right;\">           2</td><td style=\"text-align: right;\">     1</td><td style=\"text-align: right;\">         7.04491</td><td style=\"text-align: right;\">   2.35024  </td><td style=\"text-align: right;\">   2.66643  </td></tr>\n",
       "<tr><td>tune_model_1919f_00006</td><td>TERMINATED</td><td>192.168.0.5:983635</td><td style=\"text-align: right;\">          117</td><td style=\"text-align: right;\">           3</td><td style=\"text-align: right;\">     3</td><td style=\"text-align: right;\">        30.9248 </td><td style=\"text-align: right;\">   1.18158  </td><td style=\"text-align: right;\">   1.45054  </td></tr>\n",
       "<tr><td>tune_model_1919f_00007</td><td>TERMINATED</td><td>192.168.0.5:983641</td><td style=\"text-align: right;\">          203</td><td style=\"text-align: right;\">           2</td><td style=\"text-align: right;\">     5</td><td style=\"text-align: right;\">        64.6841 </td><td style=\"text-align: right;\">   0.172749 </td><td style=\"text-align: right;\">   0.295345 </td></tr>\n",
       "<tr><td>tune_model_1919f_00008</td><td>TERMINATED</td><td>192.168.0.5:984067</td><td style=\"text-align: right;\">          287</td><td style=\"text-align: right;\">           1</td><td style=\"text-align: right;\">     1</td><td style=\"text-align: right;\">        16.5251 </td><td style=\"text-align: right;\">   2.30273  </td><td style=\"text-align: right;\">   2.55761  </td></tr>\n",
       "<tr><td>tune_model_1919f_00009</td><td>TERMINATED</td><td>192.168.0.5:984191</td><td style=\"text-align: right;\">           50</td><td style=\"text-align: right;\">           2</td><td style=\"text-align: right;\">     1</td><td style=\"text-align: right;\">        10.5912 </td><td style=\"text-align: right;\">   2.39097  </td><td style=\"text-align: right;\">   2.75583  </td></tr>\n",
       "<tr><td>tune_model_1919f_00010</td><td>TERMINATED</td><td>192.168.0.5:984270</td><td style=\"text-align: right;\">          389</td><td style=\"text-align: right;\">           7</td><td style=\"text-align: right;\">     3</td><td style=\"text-align: right;\">       189.087  </td><td style=\"text-align: right;\">   1.44772  </td><td style=\"text-align: right;\">   1.46276  </td></tr>\n",
       "<tr><td>tune_model_1919f_00011</td><td>TERMINATED</td><td>192.168.0.5:984272</td><td style=\"text-align: right;\">           72</td><td style=\"text-align: right;\">           5</td><td style=\"text-align: right;\">     1</td><td style=\"text-align: right;\">        16.2977 </td><td style=\"text-align: right;\">   2.31109  </td><td style=\"text-align: right;\">   2.53659  </td></tr>\n",
       "<tr><td>tune_model_1919f_00012</td><td>TERMINATED</td><td>192.168.0.5:984361</td><td style=\"text-align: right;\">          102</td><td style=\"text-align: right;\">           2</td><td style=\"text-align: right;\">     1</td><td style=\"text-align: right;\">        11.5834 </td><td style=\"text-align: right;\">   2.25267  </td><td style=\"text-align: right;\">   2.58835  </td></tr>\n",
       "<tr><td>tune_model_1919f_00013</td><td>TERMINATED</td><td>192.168.0.5:984463</td><td style=\"text-align: right;\">          146</td><td style=\"text-align: right;\">           6</td><td style=\"text-align: right;\">     3</td><td style=\"text-align: right;\">        59.8399 </td><td style=\"text-align: right;\">   1.24278  </td><td style=\"text-align: right;\">   1.46868  </td></tr>\n",
       "<tr><td>tune_model_1919f_00014</td><td>TERMINATED</td><td>192.168.0.5:984525</td><td style=\"text-align: right;\">          171</td><td style=\"text-align: right;\">           7</td><td style=\"text-align: right;\">     3</td><td style=\"text-align: right;\">        71.0453 </td><td style=\"text-align: right;\">   1.39311  </td><td style=\"text-align: right;\">   1.54481  </td></tr>\n",
       "<tr><td>tune_model_1919f_00015</td><td>TERMINATED</td><td>192.168.0.5:984575</td><td style=\"text-align: right;\">          494</td><td style=\"text-align: right;\">           5</td><td style=\"text-align: right;\">     5</td><td style=\"text-align: right;\">       266.605  </td><td style=\"text-align: right;\">   0.157894 </td><td style=\"text-align: right;\">   0.202729 </td></tr>\n",
       "<tr><td>tune_model_1919f_00016</td><td>TERMINATED</td><td>192.168.0.5:984639</td><td style=\"text-align: right;\">           46</td><td style=\"text-align: right;\">           7</td><td style=\"text-align: right;\">     1</td><td style=\"text-align: right;\">        16.8288 </td><td style=\"text-align: right;\">   2.38668  </td><td style=\"text-align: right;\">   2.68022  </td></tr>\n",
       "<tr><td>tune_model_1919f_00017</td><td>TERMINATED</td><td>192.168.0.5:984694</td><td style=\"text-align: right;\">          157</td><td style=\"text-align: right;\">           7</td><td style=\"text-align: right;\">     3</td><td style=\"text-align: right;\">        57.2419 </td><td style=\"text-align: right;\">   1.329    </td><td style=\"text-align: right;\">   1.50155  </td></tr>\n",
       "</tbody>\n",
       "</table>\n",
       "  </div>\n",
       "</div>\n",
       "<style>\n",
       ".tuneStatus {\n",
       "  color: var(--jp-ui-font-color1);\n",
       "}\n",
       ".tuneStatus .systemInfo {\n",
       "  display: flex;\n",
       "  flex-direction: column;\n",
       "}\n",
       ".tuneStatus td {\n",
       "  white-space: nowrap;\n",
       "}\n",
       ".tuneStatus .trialStatus {\n",
       "  display: flex;\n",
       "  flex-direction: column;\n",
       "}\n",
       ".tuneStatus h3 {\n",
       "  font-weight: bold;\n",
       "}\n",
       ".tuneStatus .hDivider {\n",
       "  border-bottom-width: var(--jp-border-width);\n",
       "  border-bottom-color: var(--jp-border-color0);\n",
       "  border-bottom-style: solid;\n",
       "}\n",
       ".tuneStatus .vDivider {\n",
       "  border-left-width: var(--jp-border-width);\n",
       "  border-left-color: var(--jp-border-color0);\n",
       "  border-left-style: solid;\n",
       "  margin: 0.5em 1em 0.5em 1em;\n",
       "}\n",
       "</style>\n"
      ],
      "text/plain": [
       "<IPython.core.display.HTML object>"
      ]
     },
     "metadata": {},
     "output_type": "display_data"
    },
    {
     "name": "stderr",
     "output_type": "stream",
     "text": [
      "2025-02-15 18:47:23,530\tINFO tune.py:1009 -- Wrote the latest version of all result files and experiment state to '/home/sarmad/Documents/code/upperkaam/notebooks_review/Deliverable_Part_1/notebooks/4_tuning_networks/models/ray/tune_model_2025-02-15_18-41-57' in 0.0041s.\n",
      "2025-02-15 18:47:23,537\tINFO tune.py:1041 -- Total run time: 325.92 seconds (325.90 seconds for the tuning loop).\n"
     ]
    }
   ],
   "source": [
    "from ray.tune.schedulers import AsyncHyperBandScheduler\n",
    "\n",
    "scheduler = AsyncHyperBandScheduler(\n",
    "    time_attr=\"training_iteration\", grace_period=1, reduction_factor=3, max_t=MAX_EPOCHS\n",
    ")\n",
    "\n",
    "config = {\n",
    "    \"input_size\": 3,\n",
    "    \"output_size\": 20,\n",
    "    \"dropout\": 0.1,\n",
    "    \"epochs\": MAX_EPOCHS,\n",
    "    \"hidden_size\": tune.randint(16, 512),\n",
    "    \"num_layers\": tune.randint(1, 8),\n",
    "    \"tune_dir\": tune_dir,\n",
    "}\n",
    "\n",
    "tic = time.time()\n",
    "analysis = tune.run(\n",
    "    tune_model,\n",
    "    config=config,\n",
    "    metric=\"valid_loss\",\n",
    "    mode=\"min\",\n",
    "    storage_path=str(tune_dir),             # edit from 'local_dir' to 'storrage_path'\n",
    "    num_samples=N_EXPERIMENTS,\n",
    "    stop={\"training_iteration\": MAX_EPOCHS},\n",
    "    scheduler=scheduler,\n",
    "    verbose=1,\n",
    "    max_concurrent_trials=8,    # edit To reduce the OEM error\n",
    ")\n",
    "\n",
    "timer[\"ray_hyperband\"] = time.time() - tic\n",
    "\n",
    "best = analysis.get_best_config()\n",
    "best[\"accuracy\"] = analysis.best_result[\"accuracy\"]\n",
    "best_config[\"hyperband\"] = best\n"
   ]
  },
  {
   "cell_type": "markdown",
   "metadata": {},
   "source": [
    "If you study the iter column, you will see that some runs have been stopped early. This is exactly the point of hyperband: it tries to allocate resources to the most promising configurations.\n",
    "\n",
    "The downside of this, is that if you try to get a good view of the space, you get distorted results because comparing a model that has trained just 1 or 3 epochs with a model that has trained 100 epochs is not very fair..."
   ]
  },
  {
   "cell_type": "code",
   "execution_count": 34,
   "metadata": {},
   "outputs": [],
   "source": [
    "all_results = pd.concat([all_results, analysis.results_df])"
   ]
  },
  {
   "cell_type": "code",
   "execution_count": 35,
   "metadata": {},
   "outputs": [
    {
     "data": {
      "application/vnd.plotly.v1+json": {
       "config": {
        "plotlyServerURL": "https://plot.ly"
       },
       "data": [
        {
         "colorbar": {
          "title": {
           "text": "Accuracy"
          }
         },
         "colorscale": [
          [
           0,
           "#0d0887"
          ],
          [
           0.1111111111111111,
           "#46039f"
          ],
          [
           0.2222222222222222,
           "#7201a8"
          ],
          [
           0.3333333333333333,
           "#9c179e"
          ],
          [
           0.4444444444444444,
           "#bd3786"
          ],
          [
           0.5555555555555556,
           "#d8576b"
          ],
          [
           0.6666666666666666,
           "#ed7953"
          ],
          [
           0.7777777777777778,
           "#fb9f3a"
          ],
          [
           0.8888888888888888,
           "#fdca26"
          ],
          [
           1,
           "#f0f921"
          ]
         ],
         "contours": {
          "coloring": "heatmap",
          "end": 1,
          "showlabels": true,
          "size": 0.01,
          "start": 0.7
         },
         "type": "contour",
         "x": {
          "bdata": "RwB5AOEApQFBAU8AdQDLAB8BMgCFAUgAZgCSAKsA7gEuAJ0A",
          "dtype": "i2"
         },
         "y": {
          "bdata": "BgMCAwECAwIBAgcFAgYHBQcH",
          "dtype": "i1"
         },
         "z": [
          0.14374999701976776,
          0.817187488079071,
          0.957812488079071,
          0.9765625,
          0.9546874761581421,
          0.18906250596046448,
          0.5703125,
          0.9671875238418579,
          0.17812499403953552,
          0.12812499701976776,
          0.36250001192092896,
          0.16562500596046448,
          0.23125000298023224,
          0.4468750059604645,
          0.4000000059604645,
          0.9671875238418579,
          0.16562500596046448,
          0.44218748807907104
         ]
        },
        {
         "customdata": [
          0.14374999701976776,
          0.817187488079071,
          0.957812488079071,
          0.9765625,
          0.9546874761581421,
          0.18906250596046448,
          0.5703125,
          0.9671875238418579,
          0.17812499403953552,
          0.12812499701976776,
          0.36250001192092896,
          0.16562500596046448,
          0.23125000298023224,
          0.4468750059604645,
          0.4000000059604645,
          0.9671875238418579,
          0.16562500596046448,
          0.44218748807907104
         ],
         "hovertemplate": "Hidden Size: %{x}<br>Number of Layers: %{y}<br>Accuracy: %{customdata:.4f}<extra></extra>",
         "marker": {
          "color": "black",
          "size": 8,
          "symbol": "circle"
         },
         "mode": "markers",
         "name": "Data Points",
         "type": "scatter",
         "x": {
          "bdata": "RwB5AOEApQFBAU8AdQDLAB8BMgCFAUgAZgCSAKsA7gEuAJ0A",
          "dtype": "i2"
         },
         "y": {
          "bdata": "BgMCAwECAwIBAgcFAgYHBQcH",
          "dtype": "i1"
         }
        }
       ],
       "layout": {
        "paper_bgcolor": "white",
        "plot_bgcolor": "white",
        "template": {
         "data": {
          "bar": [
           {
            "error_x": {
             "color": "#2a3f5f"
            },
            "error_y": {
             "color": "#2a3f5f"
            },
            "marker": {
             "line": {
              "color": "#E5ECF6",
              "width": 0.5
             },
             "pattern": {
              "fillmode": "overlay",
              "size": 10,
              "solidity": 0.2
             }
            },
            "type": "bar"
           }
          ],
          "barpolar": [
           {
            "marker": {
             "line": {
              "color": "#E5ECF6",
              "width": 0.5
             },
             "pattern": {
              "fillmode": "overlay",
              "size": 10,
              "solidity": 0.2
             }
            },
            "type": "barpolar"
           }
          ],
          "carpet": [
           {
            "aaxis": {
             "endlinecolor": "#2a3f5f",
             "gridcolor": "white",
             "linecolor": "white",
             "minorgridcolor": "white",
             "startlinecolor": "#2a3f5f"
            },
            "baxis": {
             "endlinecolor": "#2a3f5f",
             "gridcolor": "white",
             "linecolor": "white",
             "minorgridcolor": "white",
             "startlinecolor": "#2a3f5f"
            },
            "type": "carpet"
           }
          ],
          "choropleth": [
           {
            "colorbar": {
             "outlinewidth": 0,
             "ticks": ""
            },
            "type": "choropleth"
           }
          ],
          "contour": [
           {
            "colorbar": {
             "outlinewidth": 0,
             "ticks": ""
            },
            "colorscale": [
             [
              0,
              "#0d0887"
             ],
             [
              0.1111111111111111,
              "#46039f"
             ],
             [
              0.2222222222222222,
              "#7201a8"
             ],
             [
              0.3333333333333333,
              "#9c179e"
             ],
             [
              0.4444444444444444,
              "#bd3786"
             ],
             [
              0.5555555555555556,
              "#d8576b"
             ],
             [
              0.6666666666666666,
              "#ed7953"
             ],
             [
              0.7777777777777778,
              "#fb9f3a"
             ],
             [
              0.8888888888888888,
              "#fdca26"
             ],
             [
              1,
              "#f0f921"
             ]
            ],
            "type": "contour"
           }
          ],
          "contourcarpet": [
           {
            "colorbar": {
             "outlinewidth": 0,
             "ticks": ""
            },
            "type": "contourcarpet"
           }
          ],
          "heatmap": [
           {
            "colorbar": {
             "outlinewidth": 0,
             "ticks": ""
            },
            "colorscale": [
             [
              0,
              "#0d0887"
             ],
             [
              0.1111111111111111,
              "#46039f"
             ],
             [
              0.2222222222222222,
              "#7201a8"
             ],
             [
              0.3333333333333333,
              "#9c179e"
             ],
             [
              0.4444444444444444,
              "#bd3786"
             ],
             [
              0.5555555555555556,
              "#d8576b"
             ],
             [
              0.6666666666666666,
              "#ed7953"
             ],
             [
              0.7777777777777778,
              "#fb9f3a"
             ],
             [
              0.8888888888888888,
              "#fdca26"
             ],
             [
              1,
              "#f0f921"
             ]
            ],
            "type": "heatmap"
           }
          ],
          "histogram": [
           {
            "marker": {
             "pattern": {
              "fillmode": "overlay",
              "size": 10,
              "solidity": 0.2
             }
            },
            "type": "histogram"
           }
          ],
          "histogram2d": [
           {
            "colorbar": {
             "outlinewidth": 0,
             "ticks": ""
            },
            "colorscale": [
             [
              0,
              "#0d0887"
             ],
             [
              0.1111111111111111,
              "#46039f"
             ],
             [
              0.2222222222222222,
              "#7201a8"
             ],
             [
              0.3333333333333333,
              "#9c179e"
             ],
             [
              0.4444444444444444,
              "#bd3786"
             ],
             [
              0.5555555555555556,
              "#d8576b"
             ],
             [
              0.6666666666666666,
              "#ed7953"
             ],
             [
              0.7777777777777778,
              "#fb9f3a"
             ],
             [
              0.8888888888888888,
              "#fdca26"
             ],
             [
              1,
              "#f0f921"
             ]
            ],
            "type": "histogram2d"
           }
          ],
          "histogram2dcontour": [
           {
            "colorbar": {
             "outlinewidth": 0,
             "ticks": ""
            },
            "colorscale": [
             [
              0,
              "#0d0887"
             ],
             [
              0.1111111111111111,
              "#46039f"
             ],
             [
              0.2222222222222222,
              "#7201a8"
             ],
             [
              0.3333333333333333,
              "#9c179e"
             ],
             [
              0.4444444444444444,
              "#bd3786"
             ],
             [
              0.5555555555555556,
              "#d8576b"
             ],
             [
              0.6666666666666666,
              "#ed7953"
             ],
             [
              0.7777777777777778,
              "#fb9f3a"
             ],
             [
              0.8888888888888888,
              "#fdca26"
             ],
             [
              1,
              "#f0f921"
             ]
            ],
            "type": "histogram2dcontour"
           }
          ],
          "mesh3d": [
           {
            "colorbar": {
             "outlinewidth": 0,
             "ticks": ""
            },
            "type": "mesh3d"
           }
          ],
          "parcoords": [
           {
            "line": {
             "colorbar": {
              "outlinewidth": 0,
              "ticks": ""
             }
            },
            "type": "parcoords"
           }
          ],
          "pie": [
           {
            "automargin": true,
            "type": "pie"
           }
          ],
          "scatter": [
           {
            "fillpattern": {
             "fillmode": "overlay",
             "size": 10,
             "solidity": 0.2
            },
            "type": "scatter"
           }
          ],
          "scatter3d": [
           {
            "line": {
             "colorbar": {
              "outlinewidth": 0,
              "ticks": ""
             }
            },
            "marker": {
             "colorbar": {
              "outlinewidth": 0,
              "ticks": ""
             }
            },
            "type": "scatter3d"
           }
          ],
          "scattercarpet": [
           {
            "marker": {
             "colorbar": {
              "outlinewidth": 0,
              "ticks": ""
             }
            },
            "type": "scattercarpet"
           }
          ],
          "scattergeo": [
           {
            "marker": {
             "colorbar": {
              "outlinewidth": 0,
              "ticks": ""
             }
            },
            "type": "scattergeo"
           }
          ],
          "scattergl": [
           {
            "marker": {
             "colorbar": {
              "outlinewidth": 0,
              "ticks": ""
             }
            },
            "type": "scattergl"
           }
          ],
          "scattermap": [
           {
            "marker": {
             "colorbar": {
              "outlinewidth": 0,
              "ticks": ""
             }
            },
            "type": "scattermap"
           }
          ],
          "scattermapbox": [
           {
            "marker": {
             "colorbar": {
              "outlinewidth": 0,
              "ticks": ""
             }
            },
            "type": "scattermapbox"
           }
          ],
          "scatterpolar": [
           {
            "marker": {
             "colorbar": {
              "outlinewidth": 0,
              "ticks": ""
             }
            },
            "type": "scatterpolar"
           }
          ],
          "scatterpolargl": [
           {
            "marker": {
             "colorbar": {
              "outlinewidth": 0,
              "ticks": ""
             }
            },
            "type": "scatterpolargl"
           }
          ],
          "scatterternary": [
           {
            "marker": {
             "colorbar": {
              "outlinewidth": 0,
              "ticks": ""
             }
            },
            "type": "scatterternary"
           }
          ],
          "surface": [
           {
            "colorbar": {
             "outlinewidth": 0,
             "ticks": ""
            },
            "colorscale": [
             [
              0,
              "#0d0887"
             ],
             [
              0.1111111111111111,
              "#46039f"
             ],
             [
              0.2222222222222222,
              "#7201a8"
             ],
             [
              0.3333333333333333,
              "#9c179e"
             ],
             [
              0.4444444444444444,
              "#bd3786"
             ],
             [
              0.5555555555555556,
              "#d8576b"
             ],
             [
              0.6666666666666666,
              "#ed7953"
             ],
             [
              0.7777777777777778,
              "#fb9f3a"
             ],
             [
              0.8888888888888888,
              "#fdca26"
             ],
             [
              1,
              "#f0f921"
             ]
            ],
            "type": "surface"
           }
          ],
          "table": [
           {
            "cells": {
             "fill": {
              "color": "#EBF0F8"
             },
             "line": {
              "color": "white"
             }
            },
            "header": {
             "fill": {
              "color": "#C8D4E3"
             },
             "line": {
              "color": "white"
             }
            },
            "type": "table"
           }
          ]
         },
         "layout": {
          "annotationdefaults": {
           "arrowcolor": "#2a3f5f",
           "arrowhead": 0,
           "arrowwidth": 1
          },
          "autotypenumbers": "strict",
          "coloraxis": {
           "colorbar": {
            "outlinewidth": 0,
            "ticks": ""
           }
          },
          "colorscale": {
           "diverging": [
            [
             0,
             "#8e0152"
            ],
            [
             0.1,
             "#c51b7d"
            ],
            [
             0.2,
             "#de77ae"
            ],
            [
             0.3,
             "#f1b6da"
            ],
            [
             0.4,
             "#fde0ef"
            ],
            [
             0.5,
             "#f7f7f7"
            ],
            [
             0.6,
             "#e6f5d0"
            ],
            [
             0.7,
             "#b8e186"
            ],
            [
             0.8,
             "#7fbc41"
            ],
            [
             0.9,
             "#4d9221"
            ],
            [
             1,
             "#276419"
            ]
           ],
           "sequential": [
            [
             0,
             "#0d0887"
            ],
            [
             0.1111111111111111,
             "#46039f"
            ],
            [
             0.2222222222222222,
             "#7201a8"
            ],
            [
             0.3333333333333333,
             "#9c179e"
            ],
            [
             0.4444444444444444,
             "#bd3786"
            ],
            [
             0.5555555555555556,
             "#d8576b"
            ],
            [
             0.6666666666666666,
             "#ed7953"
            ],
            [
             0.7777777777777778,
             "#fb9f3a"
            ],
            [
             0.8888888888888888,
             "#fdca26"
            ],
            [
             1,
             "#f0f921"
            ]
           ],
           "sequentialminus": [
            [
             0,
             "#0d0887"
            ],
            [
             0.1111111111111111,
             "#46039f"
            ],
            [
             0.2222222222222222,
             "#7201a8"
            ],
            [
             0.3333333333333333,
             "#9c179e"
            ],
            [
             0.4444444444444444,
             "#bd3786"
            ],
            [
             0.5555555555555556,
             "#d8576b"
            ],
            [
             0.6666666666666666,
             "#ed7953"
            ],
            [
             0.7777777777777778,
             "#fb9f3a"
            ],
            [
             0.8888888888888888,
             "#fdca26"
            ],
            [
             1,
             "#f0f921"
            ]
           ]
          },
          "colorway": [
           "#636efa",
           "#EF553B",
           "#00cc96",
           "#ab63fa",
           "#FFA15A",
           "#19d3f3",
           "#FF6692",
           "#B6E880",
           "#FF97FF",
           "#FECB52"
          ],
          "font": {
           "color": "#2a3f5f"
          },
          "geo": {
           "bgcolor": "white",
           "lakecolor": "white",
           "landcolor": "#E5ECF6",
           "showlakes": true,
           "showland": true,
           "subunitcolor": "white"
          },
          "hoverlabel": {
           "align": "left"
          },
          "hovermode": "closest",
          "mapbox": {
           "style": "light"
          },
          "paper_bgcolor": "white",
          "plot_bgcolor": "#E5ECF6",
          "polar": {
           "angularaxis": {
            "gridcolor": "white",
            "linecolor": "white",
            "ticks": ""
           },
           "bgcolor": "#E5ECF6",
           "radialaxis": {
            "gridcolor": "white",
            "linecolor": "white",
            "ticks": ""
           }
          },
          "scene": {
           "xaxis": {
            "backgroundcolor": "#E5ECF6",
            "gridcolor": "white",
            "gridwidth": 2,
            "linecolor": "white",
            "showbackground": true,
            "ticks": "",
            "zerolinecolor": "white"
           },
           "yaxis": {
            "backgroundcolor": "#E5ECF6",
            "gridcolor": "white",
            "gridwidth": 2,
            "linecolor": "white",
            "showbackground": true,
            "ticks": "",
            "zerolinecolor": "white"
           },
           "zaxis": {
            "backgroundcolor": "#E5ECF6",
            "gridcolor": "white",
            "gridwidth": 2,
            "linecolor": "white",
            "showbackground": true,
            "ticks": "",
            "zerolinecolor": "white"
           }
          },
          "shapedefaults": {
           "line": {
            "color": "#2a3f5f"
           }
          },
          "ternary": {
           "aaxis": {
            "gridcolor": "white",
            "linecolor": "white",
            "ticks": ""
           },
           "baxis": {
            "gridcolor": "white",
            "linecolor": "white",
            "ticks": ""
           },
           "bgcolor": "#E5ECF6",
           "caxis": {
            "gridcolor": "white",
            "linecolor": "white",
            "ticks": ""
           }
          },
          "title": {
           "x": 0.05
          },
          "xaxis": {
           "automargin": true,
           "gridcolor": "white",
           "linecolor": "white",
           "ticks": "",
           "title": {
            "standoff": 15
           },
           "zerolinecolor": "white",
           "zerolinewidth": 2
          },
          "yaxis": {
           "automargin": true,
           "gridcolor": "white",
           "linecolor": "white",
           "ticks": "",
           "title": {
            "standoff": 15
           },
           "zerolinecolor": "white",
           "zerolinewidth": 2
          }
         }
        },
        "title": {
         "text": "Contour Plot"
        },
        "xaxis": {
         "showgrid": false,
         "title": {
          "text": "Hidden Size"
         }
        },
        "yaxis": {
         "showgrid": false,
         "title": {
          "text": "Number of Layers"
         }
        }
       }
      }
     },
     "metadata": {},
     "output_type": "display_data"
    }
   ],
   "source": [
    "hyperband = analysis.results_df\n",
    "plot_contour(hyperband, \"config/hidden_size\", \"config/num_layers\", \"accuracy\", start=0.7)"
   ]
  },
  {
   "cell_type": "code",
   "execution_count": 36,
   "metadata": {},
   "outputs": [
    {
     "data": {
      "application/vnd.plotly.v1+json": {
       "config": {
        "plotlyServerURL": "https://plot.ly"
       },
       "data": [
        {
         "dimensions": [
          {
           "label": "config/hidden_size",
           "values": {
            "bdata": "RwB5AOEApQFBAU8AdQDLAB8BMgCFAUgAZgCSAKsA7gEuAJ0A",
            "dtype": "i2"
           }
          },
          {
           "label": "config/num_layers",
           "values": {
            "bdata": "BgMCAwECAwIBAgcFAgYHBQcH",
            "dtype": "i1"
           }
          }
         ],
         "domain": {
          "x": [
           0,
           1
          ],
          "y": [
           0,
           1
          ]
         },
         "line": {
          "color": [
           0.14374999701976776,
           0.817187488079071,
           0.957812488079071,
           0.9765625,
           0.9546874761581421,
           0.18906250596046448,
           0.5703125,
           0.9671875238418579,
           0.17812499403953552,
           0.12812499701976776,
           0.36250001192092896,
           0.16562500596046448,
           0.23125000298023224,
           0.4468750059604645,
           0.4000000059604645,
           0.9671875238418579,
           0.16562500596046448,
           0.44218748807907104
          ],
          "coloraxis": "coloraxis"
         },
         "name": "",
         "type": "parcoords"
        }
       ],
       "layout": {
        "coloraxis": {
         "colorbar": {
          "title": {
           "text": "accuracy"
          }
         },
         "colorscale": [
          [
           0,
           "#0d0887"
          ],
          [
           0.1111111111111111,
           "#46039f"
          ],
          [
           0.2222222222222222,
           "#7201a8"
          ],
          [
           0.3333333333333333,
           "#9c179e"
          ],
          [
           0.4444444444444444,
           "#bd3786"
          ],
          [
           0.5555555555555556,
           "#d8576b"
          ],
          [
           0.6666666666666666,
           "#ed7953"
          ],
          [
           0.7777777777777778,
           "#fb9f3a"
          ],
          [
           0.8888888888888888,
           "#fdca26"
          ],
          [
           1,
           "#f0f921"
          ]
         ]
        },
        "legend": {
         "tracegroupgap": 0
        },
        "margin": {
         "t": 60
        },
        "template": {
         "data": {
          "bar": [
           {
            "error_x": {
             "color": "#2a3f5f"
            },
            "error_y": {
             "color": "#2a3f5f"
            },
            "marker": {
             "line": {
              "color": "#E5ECF6",
              "width": 0.5
             },
             "pattern": {
              "fillmode": "overlay",
              "size": 10,
              "solidity": 0.2
             }
            },
            "type": "bar"
           }
          ],
          "barpolar": [
           {
            "marker": {
             "line": {
              "color": "#E5ECF6",
              "width": 0.5
             },
             "pattern": {
              "fillmode": "overlay",
              "size": 10,
              "solidity": 0.2
             }
            },
            "type": "barpolar"
           }
          ],
          "carpet": [
           {
            "aaxis": {
             "endlinecolor": "#2a3f5f",
             "gridcolor": "white",
             "linecolor": "white",
             "minorgridcolor": "white",
             "startlinecolor": "#2a3f5f"
            },
            "baxis": {
             "endlinecolor": "#2a3f5f",
             "gridcolor": "white",
             "linecolor": "white",
             "minorgridcolor": "white",
             "startlinecolor": "#2a3f5f"
            },
            "type": "carpet"
           }
          ],
          "choropleth": [
           {
            "colorbar": {
             "outlinewidth": 0,
             "ticks": ""
            },
            "type": "choropleth"
           }
          ],
          "contour": [
           {
            "colorbar": {
             "outlinewidth": 0,
             "ticks": ""
            },
            "colorscale": [
             [
              0,
              "#0d0887"
             ],
             [
              0.1111111111111111,
              "#46039f"
             ],
             [
              0.2222222222222222,
              "#7201a8"
             ],
             [
              0.3333333333333333,
              "#9c179e"
             ],
             [
              0.4444444444444444,
              "#bd3786"
             ],
             [
              0.5555555555555556,
              "#d8576b"
             ],
             [
              0.6666666666666666,
              "#ed7953"
             ],
             [
              0.7777777777777778,
              "#fb9f3a"
             ],
             [
              0.8888888888888888,
              "#fdca26"
             ],
             [
              1,
              "#f0f921"
             ]
            ],
            "type": "contour"
           }
          ],
          "contourcarpet": [
           {
            "colorbar": {
             "outlinewidth": 0,
             "ticks": ""
            },
            "type": "contourcarpet"
           }
          ],
          "heatmap": [
           {
            "colorbar": {
             "outlinewidth": 0,
             "ticks": ""
            },
            "colorscale": [
             [
              0,
              "#0d0887"
             ],
             [
              0.1111111111111111,
              "#46039f"
             ],
             [
              0.2222222222222222,
              "#7201a8"
             ],
             [
              0.3333333333333333,
              "#9c179e"
             ],
             [
              0.4444444444444444,
              "#bd3786"
             ],
             [
              0.5555555555555556,
              "#d8576b"
             ],
             [
              0.6666666666666666,
              "#ed7953"
             ],
             [
              0.7777777777777778,
              "#fb9f3a"
             ],
             [
              0.8888888888888888,
              "#fdca26"
             ],
             [
              1,
              "#f0f921"
             ]
            ],
            "type": "heatmap"
           }
          ],
          "histogram": [
           {
            "marker": {
             "pattern": {
              "fillmode": "overlay",
              "size": 10,
              "solidity": 0.2
             }
            },
            "type": "histogram"
           }
          ],
          "histogram2d": [
           {
            "colorbar": {
             "outlinewidth": 0,
             "ticks": ""
            },
            "colorscale": [
             [
              0,
              "#0d0887"
             ],
             [
              0.1111111111111111,
              "#46039f"
             ],
             [
              0.2222222222222222,
              "#7201a8"
             ],
             [
              0.3333333333333333,
              "#9c179e"
             ],
             [
              0.4444444444444444,
              "#bd3786"
             ],
             [
              0.5555555555555556,
              "#d8576b"
             ],
             [
              0.6666666666666666,
              "#ed7953"
             ],
             [
              0.7777777777777778,
              "#fb9f3a"
             ],
             [
              0.8888888888888888,
              "#fdca26"
             ],
             [
              1,
              "#f0f921"
             ]
            ],
            "type": "histogram2d"
           }
          ],
          "histogram2dcontour": [
           {
            "colorbar": {
             "outlinewidth": 0,
             "ticks": ""
            },
            "colorscale": [
             [
              0,
              "#0d0887"
             ],
             [
              0.1111111111111111,
              "#46039f"
             ],
             [
              0.2222222222222222,
              "#7201a8"
             ],
             [
              0.3333333333333333,
              "#9c179e"
             ],
             [
              0.4444444444444444,
              "#bd3786"
             ],
             [
              0.5555555555555556,
              "#d8576b"
             ],
             [
              0.6666666666666666,
              "#ed7953"
             ],
             [
              0.7777777777777778,
              "#fb9f3a"
             ],
             [
              0.8888888888888888,
              "#fdca26"
             ],
             [
              1,
              "#f0f921"
             ]
            ],
            "type": "histogram2dcontour"
           }
          ],
          "mesh3d": [
           {
            "colorbar": {
             "outlinewidth": 0,
             "ticks": ""
            },
            "type": "mesh3d"
           }
          ],
          "parcoords": [
           {
            "line": {
             "colorbar": {
              "outlinewidth": 0,
              "ticks": ""
             }
            },
            "type": "parcoords"
           }
          ],
          "pie": [
           {
            "automargin": true,
            "type": "pie"
           }
          ],
          "scatter": [
           {
            "fillpattern": {
             "fillmode": "overlay",
             "size": 10,
             "solidity": 0.2
            },
            "type": "scatter"
           }
          ],
          "scatter3d": [
           {
            "line": {
             "colorbar": {
              "outlinewidth": 0,
              "ticks": ""
             }
            },
            "marker": {
             "colorbar": {
              "outlinewidth": 0,
              "ticks": ""
             }
            },
            "type": "scatter3d"
           }
          ],
          "scattercarpet": [
           {
            "marker": {
             "colorbar": {
              "outlinewidth": 0,
              "ticks": ""
             }
            },
            "type": "scattercarpet"
           }
          ],
          "scattergeo": [
           {
            "marker": {
             "colorbar": {
              "outlinewidth": 0,
              "ticks": ""
             }
            },
            "type": "scattergeo"
           }
          ],
          "scattergl": [
           {
            "marker": {
             "colorbar": {
              "outlinewidth": 0,
              "ticks": ""
             }
            },
            "type": "scattergl"
           }
          ],
          "scattermap": [
           {
            "marker": {
             "colorbar": {
              "outlinewidth": 0,
              "ticks": ""
             }
            },
            "type": "scattermap"
           }
          ],
          "scattermapbox": [
           {
            "marker": {
             "colorbar": {
              "outlinewidth": 0,
              "ticks": ""
             }
            },
            "type": "scattermapbox"
           }
          ],
          "scatterpolar": [
           {
            "marker": {
             "colorbar": {
              "outlinewidth": 0,
              "ticks": ""
             }
            },
            "type": "scatterpolar"
           }
          ],
          "scatterpolargl": [
           {
            "marker": {
             "colorbar": {
              "outlinewidth": 0,
              "ticks": ""
             }
            },
            "type": "scatterpolargl"
           }
          ],
          "scatterternary": [
           {
            "marker": {
             "colorbar": {
              "outlinewidth": 0,
              "ticks": ""
             }
            },
            "type": "scatterternary"
           }
          ],
          "surface": [
           {
            "colorbar": {
             "outlinewidth": 0,
             "ticks": ""
            },
            "colorscale": [
             [
              0,
              "#0d0887"
             ],
             [
              0.1111111111111111,
              "#46039f"
             ],
             [
              0.2222222222222222,
              "#7201a8"
             ],
             [
              0.3333333333333333,
              "#9c179e"
             ],
             [
              0.4444444444444444,
              "#bd3786"
             ],
             [
              0.5555555555555556,
              "#d8576b"
             ],
             [
              0.6666666666666666,
              "#ed7953"
             ],
             [
              0.7777777777777778,
              "#fb9f3a"
             ],
             [
              0.8888888888888888,
              "#fdca26"
             ],
             [
              1,
              "#f0f921"
             ]
            ],
            "type": "surface"
           }
          ],
          "table": [
           {
            "cells": {
             "fill": {
              "color": "#EBF0F8"
             },
             "line": {
              "color": "white"
             }
            },
            "header": {
             "fill": {
              "color": "#C8D4E3"
             },
             "line": {
              "color": "white"
             }
            },
            "type": "table"
           }
          ]
         },
         "layout": {
          "annotationdefaults": {
           "arrowcolor": "#2a3f5f",
           "arrowhead": 0,
           "arrowwidth": 1
          },
          "autotypenumbers": "strict",
          "coloraxis": {
           "colorbar": {
            "outlinewidth": 0,
            "ticks": ""
           }
          },
          "colorscale": {
           "diverging": [
            [
             0,
             "#8e0152"
            ],
            [
             0.1,
             "#c51b7d"
            ],
            [
             0.2,
             "#de77ae"
            ],
            [
             0.3,
             "#f1b6da"
            ],
            [
             0.4,
             "#fde0ef"
            ],
            [
             0.5,
             "#f7f7f7"
            ],
            [
             0.6,
             "#e6f5d0"
            ],
            [
             0.7,
             "#b8e186"
            ],
            [
             0.8,
             "#7fbc41"
            ],
            [
             0.9,
             "#4d9221"
            ],
            [
             1,
             "#276419"
            ]
           ],
           "sequential": [
            [
             0,
             "#0d0887"
            ],
            [
             0.1111111111111111,
             "#46039f"
            ],
            [
             0.2222222222222222,
             "#7201a8"
            ],
            [
             0.3333333333333333,
             "#9c179e"
            ],
            [
             0.4444444444444444,
             "#bd3786"
            ],
            [
             0.5555555555555556,
             "#d8576b"
            ],
            [
             0.6666666666666666,
             "#ed7953"
            ],
            [
             0.7777777777777778,
             "#fb9f3a"
            ],
            [
             0.8888888888888888,
             "#fdca26"
            ],
            [
             1,
             "#f0f921"
            ]
           ],
           "sequentialminus": [
            [
             0,
             "#0d0887"
            ],
            [
             0.1111111111111111,
             "#46039f"
            ],
            [
             0.2222222222222222,
             "#7201a8"
            ],
            [
             0.3333333333333333,
             "#9c179e"
            ],
            [
             0.4444444444444444,
             "#bd3786"
            ],
            [
             0.5555555555555556,
             "#d8576b"
            ],
            [
             0.6666666666666666,
             "#ed7953"
            ],
            [
             0.7777777777777778,
             "#fb9f3a"
            ],
            [
             0.8888888888888888,
             "#fdca26"
            ],
            [
             1,
             "#f0f921"
            ]
           ]
          },
          "colorway": [
           "#636efa",
           "#EF553B",
           "#00cc96",
           "#ab63fa",
           "#FFA15A",
           "#19d3f3",
           "#FF6692",
           "#B6E880",
           "#FF97FF",
           "#FECB52"
          ],
          "font": {
           "color": "#2a3f5f"
          },
          "geo": {
           "bgcolor": "white",
           "lakecolor": "white",
           "landcolor": "#E5ECF6",
           "showlakes": true,
           "showland": true,
           "subunitcolor": "white"
          },
          "hoverlabel": {
           "align": "left"
          },
          "hovermode": "closest",
          "mapbox": {
           "style": "light"
          },
          "paper_bgcolor": "white",
          "plot_bgcolor": "#E5ECF6",
          "polar": {
           "angularaxis": {
            "gridcolor": "white",
            "linecolor": "white",
            "ticks": ""
           },
           "bgcolor": "#E5ECF6",
           "radialaxis": {
            "gridcolor": "white",
            "linecolor": "white",
            "ticks": ""
           }
          },
          "scene": {
           "xaxis": {
            "backgroundcolor": "#E5ECF6",
            "gridcolor": "white",
            "gridwidth": 2,
            "linecolor": "white",
            "showbackground": true,
            "ticks": "",
            "zerolinecolor": "white"
           },
           "yaxis": {
            "backgroundcolor": "#E5ECF6",
            "gridcolor": "white",
            "gridwidth": 2,
            "linecolor": "white",
            "showbackground": true,
            "ticks": "",
            "zerolinecolor": "white"
           },
           "zaxis": {
            "backgroundcolor": "#E5ECF6",
            "gridcolor": "white",
            "gridwidth": 2,
            "linecolor": "white",
            "showbackground": true,
            "ticks": "",
            "zerolinecolor": "white"
           }
          },
          "shapedefaults": {
           "line": {
            "color": "#2a3f5f"
           }
          },
          "ternary": {
           "aaxis": {
            "gridcolor": "white",
            "linecolor": "white",
            "ticks": ""
           },
           "baxis": {
            "gridcolor": "white",
            "linecolor": "white",
            "ticks": ""
           },
           "bgcolor": "#E5ECF6",
           "caxis": {
            "gridcolor": "white",
            "linecolor": "white",
            "ticks": ""
           }
          },
          "title": {
           "x": 0.05
          },
          "xaxis": {
           "automargin": true,
           "gridcolor": "white",
           "linecolor": "white",
           "ticks": "",
           "title": {
            "standoff": 15
           },
           "zerolinecolor": "white",
           "zerolinewidth": 2
          },
          "yaxis": {
           "automargin": true,
           "gridcolor": "white",
           "linecolor": "white",
           "ticks": "",
           "title": {
            "standoff": 15
           },
           "zerolinecolor": "white",
           "zerolinewidth": 2
          }
         }
        }
       }
      }
     },
     "metadata": {},
     "output_type": "display_data"
    }
   ],
   "source": [
    "visualize.parallel_plot(analysis, columns)\n"
   ]
  },
  {
   "cell_type": "markdown",
   "metadata": {},
   "source": [
    "But note that it is faster! This means you could do more runs in the same time, which might be a good tradeoff!\n",
    "Typically you will get better results if you scan the searchspace better by doing more runs, aborting the ones that are not promising and going on with the ones that seem to yield good results."
   ]
  },
  {
   "cell_type": "code",
   "execution_count": 37,
   "metadata": {},
   "outputs": [
    {
     "data": {
      "image/png": "[encoded data removed]",
      "text/plain": [
       "<Figure size 640x480 with 1 Axes>"
      ]
     },
     "metadata": {},
     "output_type": "display_data"
    }
   ],
   "source": [
    "visualize.plot_timers(timer)\n"
   ]
  },
  {
   "cell_type": "code",
   "execution_count": 38,
   "metadata": {},
   "outputs": [
    {
     "data": {
      "text/html": [
       "<div>\n",
       "<style scoped>\n",
       "    .dataframe tbody tr th:only-of-type {\n",
       "        vertical-align: middle;\n",
       "    }\n",
       "\n",
       "    .dataframe tbody tr th {\n",
       "        vertical-align: top;\n",
       "    }\n",
       "\n",
       "    .dataframe thead th {\n",
       "        text-align: right;\n",
       "    }\n",
       "</style>\n",
       "<table border=\"1\" class=\"dataframe\">\n",
       "  <thead>\n",
       "    <tr style=\"text-align: right;\">\n",
       "      <th></th>\n",
       "      <th>input_size</th>\n",
       "      <th>output_size</th>\n",
       "      <th>dropout</th>\n",
       "      <th>epochs</th>\n",
       "      <th>hidden_size</th>\n",
       "      <th>num_layers</th>\n",
       "      <th>tune_dir</th>\n",
       "      <th>accuracy</th>\n",
       "    </tr>\n",
       "  </thead>\n",
       "  <tbody>\n",
       "    <tr>\n",
       "      <th>random</th>\n",
       "      <td>3</td>\n",
       "      <td>20</td>\n",
       "      <td>0.05</td>\n",
       "      <td>5</td>\n",
       "      <td>486.000000</td>\n",
       "      <td>1.000000</td>\n",
       "      <td>/home/sarmad/Documents/code/upperkaam/notebook...</td>\n",
       "      <td>0.9875</td>\n",
       "    </tr>\n",
       "    <tr>\n",
       "      <th>grid</th>\n",
       "      <td>3</td>\n",
       "      <td>20</td>\n",
       "      <td>0.10</td>\n",
       "      <td>5</td>\n",
       "      <td>512.000000</td>\n",
       "      <td>2.000000</td>\n",
       "      <td>/home/sarmad/Documents/code/upperkaam/notebook...</td>\n",
       "      <td>0.9859375</td>\n",
       "    </tr>\n",
       "    <tr>\n",
       "      <th>bayes</th>\n",
       "      <td>3</td>\n",
       "      <td>20</td>\n",
       "      <td>0.10</td>\n",
       "      <td>5</td>\n",
       "      <td>312.307102</td>\n",
       "      <td>4.338745</td>\n",
       "      <td>/home/sarmad/Documents/code/upperkaam/notebook...</td>\n",
       "      <td>0.9875</td>\n",
       "    </tr>\n",
       "    <tr>\n",
       "      <th>hyperband</th>\n",
       "      <td>3</td>\n",
       "      <td>20</td>\n",
       "      <td>0.10</td>\n",
       "      <td>5</td>\n",
       "      <td>421.000000</td>\n",
       "      <td>3.000000</td>\n",
       "      <td>/home/sarmad/Documents/code/upperkaam/notebook...</td>\n",
       "      <td>0.9765625</td>\n",
       "    </tr>\n",
       "  </tbody>\n",
       "</table>\n",
       "</div>"
      ],
      "text/plain": [
       "           input_size  output_size  dropout  epochs  hidden_size  num_layers  \\\n",
       "random              3           20     0.05       5   486.000000    1.000000   \n",
       "grid                3           20     0.10       5   512.000000    2.000000   \n",
       "bayes               3           20     0.10       5   312.307102    4.338745   \n",
       "hyperband           3           20     0.10       5   421.000000    3.000000   \n",
       "\n",
       "                                                    tune_dir   accuracy  \n",
       "random     /home/sarmad/Documents/code/upperkaam/notebook...     0.9875  \n",
       "grid       /home/sarmad/Documents/code/upperkaam/notebook...  0.9859375  \n",
       "bayes      /home/sarmad/Documents/code/upperkaam/notebook...     0.9875  \n",
       "hyperband  /home/sarmad/Documents/code/upperkaam/notebook...  0.9765625  "
      ]
     },
     "execution_count": 38,
     "metadata": {},
     "output_type": "execute_result"
    }
   ],
   "source": [
    "pd.DataFrame.from_dict(best_config, orient=\"index\")"
   ]
  },
  {
   "cell_type": "markdown",
   "metadata": {},
   "source": [
    "# Hyperbayes"
   ]
  },
  {
   "cell_type": "markdown",
   "metadata": {},
   "source": [
    "It is possible to combine Hyperband with Bayesian optimization, implemented as `TuneBOHB` in ray.\n",
    "However, `TuneBOHB` in ray is dependent on `hpbandster`, which is not mainained anymore.\n",
    "Unfortunately, a dependency of `hpbandster` is `netifaces`, which is also not maintained anymore.\n",
    "While `netifaces` does work on some hardware, it fails to build on some other hardware, which is a problem.\n",
    "\n",
    "To still use BOHB type algoritms, I am planning to implement either SMAC3 or BEHB in the future.\n"
   ]
  },
  {
   "cell_type": "markdown",
   "metadata": {},
   "source": [
    "# HyperOpt"
   ]
  },
  {
   "cell_type": "code",
   "execution_count": 39,
   "metadata": {},
   "outputs": [],
   "source": [
    "from ray.tune.search.hyperopt import HyperOptSearch\n",
    "search = HyperOptSearch()\n",
    "\n",
    "scheduler = AsyncHyperBandScheduler(\n",
    "    time_attr=\"training_iteration\", grace_period=1, reduction_factor=3, max_t=MAX_EPOCHS\n",
    ")"
   ]
  },
  {
   "cell_type": "markdown",
   "metadata": {},
   "source": [
    "<font color='green'>\n",
    "\n",
    "**Code modified**\n",
    "</font>"
   ]
  },
  {
   "cell_type": "code",
   "execution_count": 40,
   "metadata": {},
   "outputs": [
    {
     "data": {
      "text/html": [
       "<div class=\"tuneStatus\">\n",
       "  <div style=\"display: flex;flex-direction: row\">\n",
       "    <div style=\"display: flex;flex-direction: column;\">\n",
       "      <h3>Tune Status</h3>\n",
       "      <table>\n",
       "<tbody>\n",
       "<tr><td>Current time:</td><td>2025-02-15 18:53:54</td></tr>\n",
       "<tr><td>Running for: </td><td>00:05:06.92        </td></tr>\n",
       "<tr><td>Memory:      </td><td>9.2/31.2 GiB       </td></tr>\n",
       "</tbody>\n",
       "</table>\n",
       "    </div>\n",
       "    <div class=\"vDivider\"></div>\n",
       "    <div class=\"systemInfo\">\n",
       "      <h3>System Info</h3>\n",
       "      Using AsyncHyperBand: num_stopped=12<br>Bracket: Iter 3.000: -0.5513627452154953 | Iter 1.000: -1.847689551115036<br>Logical resource usage: 1.0/12 CPUs, 0/1 GPUs (0.0/1.0 accelerator_type:G)\n",
       "    </div>\n",
       "    \n",
       "  </div>\n",
       "  <div class=\"hDivider\"></div>\n",
       "  <div class=\"trialStatus\">\n",
       "    <h3>Trial Status</h3>\n",
       "    <table>\n",
       "<thead>\n",
       "<tr><th>Trial name         </th><th>status    </th><th>loc               </th><th style=\"text-align: right;\">  dropout</th><th style=\"text-align: right;\">  epochs</th><th style=\"text-align: right;\">  hidden_size</th><th style=\"text-align: right;\">  input_size</th><th style=\"text-align: right;\">  num_layers</th><th style=\"text-align: right;\">  output_size</th><th>tune_dir            </th><th style=\"text-align: right;\">  iter</th><th style=\"text-align: right;\">  total time (s)</th><th style=\"text-align: right;\">  valid_loss</th><th style=\"text-align: right;\">  train_loss</th></tr>\n",
       "</thead>\n",
       "<tbody>\n",
       "<tr><td>tune_model_303064ae</td><td>TERMINATED</td><td>192.168.0.5:985337</td><td style=\"text-align: right;\">      0.1</td><td style=\"text-align: right;\">       5</td><td style=\"text-align: right;\">          153</td><td style=\"text-align: right;\">           3</td><td style=\"text-align: right;\">           6</td><td style=\"text-align: right;\">           20</td><td>/home/sarmad/Do_db40</td><td style=\"text-align: right;\">     3</td><td style=\"text-align: right;\">        56.5816 </td><td style=\"text-align: right;\">   1.34419  </td><td style=\"text-align: right;\">   1.34975  </td></tr>\n",
       "<tr><td>tune_model_c19b6c4a</td><td>TERMINATED</td><td>192.168.0.5:985388</td><td style=\"text-align: right;\">      0.1</td><td style=\"text-align: right;\">       5</td><td style=\"text-align: right;\">          144</td><td style=\"text-align: right;\">           3</td><td style=\"text-align: right;\">           6</td><td style=\"text-align: right;\">           20</td><td>/home/sarmad/Do_db40</td><td style=\"text-align: right;\">     5</td><td style=\"text-align: right;\">        94.9377 </td><td style=\"text-align: right;\">   0.612411 </td><td style=\"text-align: right;\">   0.758278 </td></tr>\n",
       "<tr><td>tune_model_60936020</td><td>TERMINATED</td><td>192.168.0.5:985441</td><td style=\"text-align: right;\">      0.1</td><td style=\"text-align: right;\">       5</td><td style=\"text-align: right;\">           60</td><td style=\"text-align: right;\">           3</td><td style=\"text-align: right;\">           6</td><td style=\"text-align: right;\">           20</td><td>/home/sarmad/Do_db40</td><td style=\"text-align: right;\">     3</td><td style=\"text-align: right;\">        27.4781 </td><td style=\"text-align: right;\">   1.49964  </td><td style=\"text-align: right;\">   1.75572  </td></tr>\n",
       "<tr><td>tune_model_d3c47a21</td><td>TERMINATED</td><td>192.168.0.5:985495</td><td style=\"text-align: right;\">      0.1</td><td style=\"text-align: right;\">       5</td><td style=\"text-align: right;\">          151</td><td style=\"text-align: right;\">           3</td><td style=\"text-align: right;\">           2</td><td style=\"text-align: right;\">           20</td><td>/home/sarmad/Do_db40</td><td style=\"text-align: right;\">     5</td><td style=\"text-align: right;\">        34.0809 </td><td style=\"text-align: right;\">   0.335088 </td><td style=\"text-align: right;\">   0.480215 </td></tr>\n",
       "<tr><td>tune_model_0bdad70e</td><td>TERMINATED</td><td>192.168.0.5:985549</td><td style=\"text-align: right;\">      0.1</td><td style=\"text-align: right;\">       5</td><td style=\"text-align: right;\">          364</td><td style=\"text-align: right;\">           3</td><td style=\"text-align: right;\">           4</td><td style=\"text-align: right;\">           20</td><td>/home/sarmad/Do_db40</td><td style=\"text-align: right;\">     5</td><td style=\"text-align: right;\">       291.514  </td><td style=\"text-align: right;\">   0.0616831</td><td style=\"text-align: right;\">   0.0553795</td></tr>\n",
       "<tr><td>tune_model_b3ed59ad</td><td>TERMINATED</td><td>192.168.0.5:985606</td><td style=\"text-align: right;\">      0.1</td><td style=\"text-align: right;\">       5</td><td style=\"text-align: right;\">          122</td><td style=\"text-align: right;\">           3</td><td style=\"text-align: right;\">           3</td><td style=\"text-align: right;\">           20</td><td>/home/sarmad/Do_db40</td><td style=\"text-align: right;\">     3</td><td style=\"text-align: right;\">        27.9045 </td><td style=\"text-align: right;\">   1.23416  </td><td style=\"text-align: right;\">   1.45169  </td></tr>\n",
       "<tr><td>tune_model_ee5191e0</td><td>TERMINATED</td><td>192.168.0.5:985663</td><td style=\"text-align: right;\">      0.1</td><td style=\"text-align: right;\">       5</td><td style=\"text-align: right;\">          109</td><td style=\"text-align: right;\">           3</td><td style=\"text-align: right;\">           1</td><td style=\"text-align: right;\">           20</td><td>/home/sarmad/Do_db40</td><td style=\"text-align: right;\">     1</td><td style=\"text-align: right;\">         6.89561</td><td style=\"text-align: right;\">   2.32643  </td><td style=\"text-align: right;\">   2.75018  </td></tr>\n",
       "<tr><td>tune_model_048af760</td><td>TERMINATED</td><td>192.168.0.5:985722</td><td style=\"text-align: right;\">      0.1</td><td style=\"text-align: right;\">       5</td><td style=\"text-align: right;\">          488</td><td style=\"text-align: right;\">           3</td><td style=\"text-align: right;\">           2</td><td style=\"text-align: right;\">           20</td><td>/home/sarmad/Do_db40</td><td style=\"text-align: right;\">     5</td><td style=\"text-align: right;\">       253.268  </td><td style=\"text-align: right;\">   0.104742 </td><td style=\"text-align: right;\">   0.0532805</td></tr>\n",
       "<tr><td>tune_model_ff540bad</td><td>TERMINATED</td><td>192.168.0.5:985800</td><td style=\"text-align: right;\">      0.1</td><td style=\"text-align: right;\">       5</td><td style=\"text-align: right;\">          273</td><td style=\"text-align: right;\">           3</td><td style=\"text-align: right;\">           4</td><td style=\"text-align: right;\">           20</td><td>/home/sarmad/Do_db40</td><td style=\"text-align: right;\">     5</td><td style=\"text-align: right;\">       227.111  </td><td style=\"text-align: right;\">   0.119122 </td><td style=\"text-align: right;\">   0.152061 </td></tr>\n",
       "<tr><td>tune_model_58af4bc5</td><td>TERMINATED</td><td>192.168.0.5:985861</td><td style=\"text-align: right;\">      0.1</td><td style=\"text-align: right;\">       5</td><td style=\"text-align: right;\">          169</td><td style=\"text-align: right;\">           3</td><td style=\"text-align: right;\">           6</td><td style=\"text-align: right;\">           20</td><td>/home/sarmad/Do_db40</td><td style=\"text-align: right;\">     1</td><td style=\"text-align: right;\">        34.0353 </td><td style=\"text-align: right;\">   2.17494  </td><td style=\"text-align: right;\">   2.4194   </td></tr>\n",
       "<tr><td>tune_model_41e6a002</td><td>TERMINATED</td><td>192.168.0.5:985929</td><td style=\"text-align: right;\">      0.1</td><td style=\"text-align: right;\">       5</td><td style=\"text-align: right;\">          370</td><td style=\"text-align: right;\">           3</td><td style=\"text-align: right;\">           4</td><td style=\"text-align: right;\">           20</td><td>/home/sarmad/Do_db40</td><td style=\"text-align: right;\">     3</td><td style=\"text-align: right;\">       217.223  </td><td style=\"text-align: right;\">   0.603632 </td><td style=\"text-align: right;\">   0.75156  </td></tr>\n",
       "<tr><td>tune_model_8cb956a4</td><td>TERMINATED</td><td>192.168.0.5:985982</td><td style=\"text-align: right;\">      0.1</td><td style=\"text-align: right;\">       5</td><td style=\"text-align: right;\">          348</td><td style=\"text-align: right;\">           3</td><td style=\"text-align: right;\">           6</td><td style=\"text-align: right;\">           20</td><td>/home/sarmad/Do_db40</td><td style=\"text-align: right;\">     3</td><td style=\"text-align: right;\">       249.083  </td><td style=\"text-align: right;\">   0.878839 </td><td style=\"text-align: right;\">   1.1225   </td></tr>\n",
       "<tr><td>tune_model_a5bda7c4</td><td>TERMINATED</td><td>192.168.0.5:986074</td><td style=\"text-align: right;\">      0.1</td><td style=\"text-align: right;\">       5</td><td style=\"text-align: right;\">          279</td><td style=\"text-align: right;\">           3</td><td style=\"text-align: right;\">           5</td><td style=\"text-align: right;\">           20</td><td>/home/sarmad/Do_db40</td><td style=\"text-align: right;\">     3</td><td style=\"text-align: right;\">       184.907  </td><td style=\"text-align: right;\">   0.752983 </td><td style=\"text-align: right;\">   0.951784 </td></tr>\n",
       "<tr><td>tune_model_bd32e689</td><td>TERMINATED</td><td>192.168.0.5:986140</td><td style=\"text-align: right;\">      0.1</td><td style=\"text-align: right;\">       5</td><td style=\"text-align: right;\">          169</td><td style=\"text-align: right;\">           3</td><td style=\"text-align: right;\">           4</td><td style=\"text-align: right;\">           20</td><td>/home/sarmad/Do_db40</td><td style=\"text-align: right;\">     1</td><td style=\"text-align: right;\">        28.5245 </td><td style=\"text-align: right;\">   2.20051  </td><td style=\"text-align: right;\">   2.44593  </td></tr>\n",
       "<tr><td>tune_model_867cd611</td><td>TERMINATED</td><td>192.168.0.5:986229</td><td style=\"text-align: right;\">      0.1</td><td style=\"text-align: right;\">       5</td><td style=\"text-align: right;\">          470</td><td style=\"text-align: right;\">           3</td><td style=\"text-align: right;\">           2</td><td style=\"text-align: right;\">           20</td><td>/home/sarmad/Do_db40</td><td style=\"text-align: right;\">     5</td><td style=\"text-align: right;\">       201.242  </td><td style=\"text-align: right;\">   0.0348321</td><td style=\"text-align: right;\">   0.0626941</td></tr>\n",
       "<tr><td>tune_model_7e6d072d</td><td>TERMINATED</td><td>192.168.0.5:986288</td><td style=\"text-align: right;\">      0.1</td><td style=\"text-align: right;\">       5</td><td style=\"text-align: right;\">          199</td><td style=\"text-align: right;\">           3</td><td style=\"text-align: right;\">           6</td><td style=\"text-align: right;\">           20</td><td>/home/sarmad/Do_db40</td><td style=\"text-align: right;\">     1</td><td style=\"text-align: right;\">        51.0676 </td><td style=\"text-align: right;\">   1.86643  </td><td style=\"text-align: right;\">   2.35959  </td></tr>\n",
       "<tr><td>tune_model_86f6cd73</td><td>TERMINATED</td><td>192.168.0.5:986446</td><td style=\"text-align: right;\">      0.1</td><td style=\"text-align: right;\">       5</td><td style=\"text-align: right;\">           66</td><td style=\"text-align: right;\">           3</td><td style=\"text-align: right;\">           7</td><td style=\"text-align: right;\">           20</td><td>/home/sarmad/Do_db40</td><td style=\"text-align: right;\">     1</td><td style=\"text-align: right;\">        21.4193 </td><td style=\"text-align: right;\">   2.26117  </td><td style=\"text-align: right;\">   2.63451  </td></tr>\n",
       "<tr><td>tune_model_dcb19317</td><td>TERMINATED</td><td>192.168.0.5:986547</td><td style=\"text-align: right;\">      0.1</td><td style=\"text-align: right;\">       5</td><td style=\"text-align: right;\">          142</td><td style=\"text-align: right;\">           3</td><td style=\"text-align: right;\">           3</td><td style=\"text-align: right;\">           20</td><td>/home/sarmad/Do_db40</td><td style=\"text-align: right;\">     1</td><td style=\"text-align: right;\">        20.4008 </td><td style=\"text-align: right;\">   2.08829  </td><td style=\"text-align: right;\">   2.42412  </td></tr>\n",
       "</tbody>\n",
       "</table>\n",
       "  </div>\n",
       "</div>\n",
       "<style>\n",
       ".tuneStatus {\n",
       "  color: var(--jp-ui-font-color1);\n",
       "}\n",
       ".tuneStatus .systemInfo {\n",
       "  display: flex;\n",
       "  flex-direction: column;\n",
       "}\n",
       ".tuneStatus td {\n",
       "  white-space: nowrap;\n",
       "}\n",
       ".tuneStatus .trialStatus {\n",
       "  display: flex;\n",
       "  flex-direction: column;\n",
       "}\n",
       ".tuneStatus h3 {\n",
       "  font-weight: bold;\n",
       "}\n",
       ".tuneStatus .hDivider {\n",
       "  border-bottom-width: var(--jp-border-width);\n",
       "  border-bottom-color: var(--jp-border-color0);\n",
       "  border-bottom-style: solid;\n",
       "}\n",
       ".tuneStatus .vDivider {\n",
       "  border-left-width: var(--jp-border-width);\n",
       "  border-left-color: var(--jp-border-color0);\n",
       "  border-left-style: solid;\n",
       "  margin: 0.5em 1em 0.5em 1em;\n",
       "}\n",
       "</style>\n"
      ],
      "text/plain": [
       "<IPython.core.display.HTML object>"
      ]
     },
     "metadata": {},
     "output_type": "display_data"
    },
    {
     "name": "stderr",
     "output_type": "stream",
     "text": [
      "2025-02-15 18:49:11,705\tINFO tensorboardx.py:308 -- Removed the following hyperparameter values when logging to tensorboard: {'tune_dir': ('__ref_ph', 'b1421250')}\n",
      "2025-02-15 18:49:20,760\tINFO tensorboardx.py:308 -- Removed the following hyperparameter values when logging to tensorboard: {'tune_dir': ('__ref_ph', 'b1421250')}\n",
      "2025-02-15 18:49:29,211\tINFO tensorboardx.py:308 -- Removed the following hyperparameter values when logging to tensorboard: {'tune_dir': ('__ref_ph', 'b1421250')}\n",
      "2025-02-15 18:49:29,570\tINFO tensorboardx.py:308 -- Removed the following hyperparameter values when logging to tensorboard: {'tune_dir': ('__ref_ph', 'b1421250')}\n",
      "2025-02-15 18:49:45,825\tINFO tensorboardx.py:308 -- Removed the following hyperparameter values when logging to tensorboard: {'tune_dir': ('__ref_ph', 'b1421250')}\n",
      "2025-02-15 18:49:59,982\tINFO tensorboardx.py:308 -- Removed the following hyperparameter values when logging to tensorboard: {'tune_dir': ('__ref_ph', 'b1421250')}\n",
      "2025-02-15 18:50:26,180\tINFO tensorboardx.py:308 -- Removed the following hyperparameter values when logging to tensorboard: {'tune_dir': ('__ref_ph', 'b1421250')}\n",
      "2025-02-15 18:50:35,059\tINFO tensorboardx.py:308 -- Removed the following hyperparameter values when logging to tensorboard: {'tune_dir': ('__ref_ph', 'b1421250')}\n",
      "2025-02-15 18:51:32,368\tINFO tensorboardx.py:308 -- Removed the following hyperparameter values when logging to tensorboard: {'tune_dir': ('__ref_ph', 'b1421250')}\n",
      "2025-02-15 18:52:00,407\tINFO tensorboardx.py:308 -- Removed the following hyperparameter values when logging to tensorboard: {'tune_dir': ('__ref_ph', 'b1421250')}\n",
      "2025-02-15 18:52:27,076\tINFO tensorboardx.py:308 -- Removed the following hyperparameter values when logging to tensorboard: {'tune_dir': ('__ref_ph', 'b1421250')}\n",
      "2025-02-15 18:52:56,622\tINFO tensorboardx.py:308 -- Removed the following hyperparameter values when logging to tensorboard: {'tune_dir': ('__ref_ph', 'b1421250')}\n",
      "2025-02-15 18:53:03,547\tINFO tensorboardx.py:308 -- Removed the following hyperparameter values when logging to tensorboard: {'tune_dir': ('__ref_ph', 'b1421250')}\n",
      "2025-02-15 18:53:11,550\tINFO tensorboardx.py:308 -- Removed the following hyperparameter values when logging to tensorboard: {'tune_dir': ('__ref_ph', 'b1421250')}\n",
      "2025-02-15 18:53:22,572\tINFO tensorboardx.py:308 -- Removed the following hyperparameter values when logging to tensorboard: {'tune_dir': ('__ref_ph', 'b1421250')}\n",
      "2025-02-15 18:53:49,469\tINFO tensorboardx.py:308 -- Removed the following hyperparameter values when logging to tensorboard: {'tune_dir': ('__ref_ph', 'b1421250')}\n",
      "2025-02-15 18:53:49,787\tINFO tensorboardx.py:308 -- Removed the following hyperparameter values when logging to tensorboard: {'tune_dir': ('__ref_ph', 'b1421250')}\n",
      "2025-02-15 18:53:54,082\tINFO tensorboardx.py:308 -- Removed the following hyperparameter values when logging to tensorboard: {'tune_dir': ('__ref_ph', 'b1421250')}\n",
      "2025-02-15 18:53:54,090\tINFO tune.py:1009 -- Wrote the latest version of all result files and experiment state to '/home/sarmad/Documents/code/upperkaam/notebooks_review/Deliverable_Part_1/notebooks/4_tuning_networks/models/ray/tune_model_2025-02-15_18-48-47' in 0.0065s.\n",
      "2025-02-15 18:53:54,098\tINFO tune.py:1041 -- Total run time: 306.94 seconds (306.91 seconds for the tuning loop).\n"
     ]
    }
   ],
   "source": [
    "config = {\n",
    "    \"input_size\": 3,\n",
    "    \"output_size\": 20,\n",
    "    \"dropout\": 0.1,\n",
    "    \"epochs\": MAX_EPOCHS,\n",
    "    \"hidden_size\": tune.randint(16, 512),\n",
    "    \"num_layers\": tune.randint(1, 8),\n",
    "    \"tune_dir\": tune_dir,\n",
    "}\n",
    "\n",
    "tic = time.time()\n",
    "analysis = tune.run(\n",
    "    tune_model,\n",
    "    config=config,\n",
    "    metric=\"valid_loss\",\n",
    "    mode=\"min\",\n",
    "    storage_path=str(tune_dir),             # edit from 'local_dir' to 'storrage_path'\n",
    "    num_samples=N_EXPERIMENTS,\n",
    "    stop={\"training_iteration\": MAX_EPOCHS},\n",
    "    search_alg=search,\n",
    "    scheduler=scheduler,\n",
    "    verbose=1,\n",
    "    max_concurrent_trials=8,    # edit To reduce the OEM error\n",
    ")\n",
    "\n",
    "timer[\"ray_hyperopt\"] = time.time() - tic\n",
    "\n",
    "best = analysis.get_best_config()\n",
    "best[\"accuracy\"] = analysis.best_result[\"accuracy\"]\n",
    "best_config[\"hyperopt\"] = best\n"
   ]
  },
  {
   "cell_type": "code",
   "execution_count": 41,
   "metadata": {},
   "outputs": [],
   "source": [
    "all_results = pd.concat([all_results, analysis.results_df])"
   ]
  },
  {
   "cell_type": "code",
   "execution_count": 42,
   "metadata": {},
   "outputs": [
    {
     "data": {
      "application/vnd.plotly.v1+json": {
       "config": {
        "plotlyServerURL": "https://plot.ly"
       },
       "data": [
        {
         "colorbar": {
          "title": {
           "text": "Accuracy"
          }
         },
         "colorscale": [
          [
           0,
           "#0d0887"
          ],
          [
           0.1111111111111111,
           "#46039f"
          ],
          [
           0.2222222222222222,
           "#7201a8"
          ],
          [
           0.3333333333333333,
           "#9c179e"
          ],
          [
           0.4444444444444444,
           "#bd3786"
          ],
          [
           0.5555555555555556,
           "#d8576b"
          ],
          [
           0.6666666666666666,
           "#ed7953"
          ],
          [
           0.7777777777777778,
           "#fb9f3a"
          ],
          [
           0.8888888888888888,
           "#fdca26"
          ],
          [
           1,
           "#f0f921"
          ]
         ],
         "contours": {
          "coloring": "heatmap",
          "end": 1,
          "showlabels": true,
          "size": 0.05,
          "start": 0.3
         },
         "type": "contour",
         "x": {
          "bdata": "mQCQADwAlwBsAXoAbQDoAREBqQByAVwBFwGpANYBxwBCAI4A",
          "dtype": "i2"
         },
         "y": {
          "bdata": "BgYGAgQDAQIEBgQGBQQCBgcD",
          "dtype": "i1"
         },
         "z": [
          0.44218748807907104,
          0.831250011920929,
          0.40156251192092896,
          0.909375011920929,
          0.9906250238418579,
          0.49687498807907104,
          0.14531250298023224,
          0.957812488079071,
          0.9671875238418579,
          0.24375000596046448,
          0.807812511920929,
          0.6796875,
          0.7281249761581421,
          0.21406249701976776,
          0.9906250238418579,
          0.28125,
          0.20937499403953552,
          0.26249998807907104
         ]
        },
        {
         "customdata": [
          0.44218748807907104,
          0.831250011920929,
          0.40156251192092896,
          0.909375011920929,
          0.9906250238418579,
          0.49687498807907104,
          0.14531250298023224,
          0.957812488079071,
          0.9671875238418579,
          0.24375000596046448,
          0.807812511920929,
          0.6796875,
          0.7281249761581421,
          0.21406249701976776,
          0.9906250238418579,
          0.28125,
          0.20937499403953552,
          0.26249998807907104
         ],
         "hovertemplate": "Hidden Size: %{x}<br>Number of Layers: %{y}<br>Accuracy: %{customdata:.4f}<extra></extra>",
         "marker": {
          "color": "black",
          "size": 8,
          "symbol": "circle"
         },
         "mode": "markers",
         "name": "Data Points",
         "type": "scatter",
         "x": {
          "bdata": "mQCQADwAlwBsAXoAbQDoAREBqQByAVwBFwGpANYBxwBCAI4A",
          "dtype": "i2"
         },
         "y": {
          "bdata": "BgYGAgQDAQIEBgQGBQQCBgcD",
          "dtype": "i1"
         }
        }
       ],
       "layout": {
        "paper_bgcolor": "white",
        "plot_bgcolor": "white",
        "template": {
         "data": {
          "bar": [
           {
            "error_x": {
             "color": "#2a3f5f"
            },
            "error_y": {
             "color": "#2a3f5f"
            },
            "marker": {
             "line": {
              "color": "#E5ECF6",
              "width": 0.5
             },
             "pattern": {
              "fillmode": "overlay",
              "size": 10,
              "solidity": 0.2
             }
            },
            "type": "bar"
           }
          ],
          "barpolar": [
           {
            "marker": {
             "line": {
              "color": "#E5ECF6",
              "width": 0.5
             },
             "pattern": {
              "fillmode": "overlay",
              "size": 10,
              "solidity": 0.2
             }
            },
            "type": "barpolar"
           }
          ],
          "carpet": [
           {
            "aaxis": {
             "endlinecolor": "#2a3f5f",
             "gridcolor": "white",
             "linecolor": "white",
             "minorgridcolor": "white",
             "startlinecolor": "#2a3f5f"
            },
            "baxis": {
             "endlinecolor": "#2a3f5f",
             "gridcolor": "white",
             "linecolor": "white",
             "minorgridcolor": "white",
             "startlinecolor": "#2a3f5f"
            },
            "type": "carpet"
           }
          ],
          "choropleth": [
           {
            "colorbar": {
             "outlinewidth": 0,
             "ticks": ""
            },
            "type": "choropleth"
           }
          ],
          "contour": [
           {
            "colorbar": {
             "outlinewidth": 0,
             "ticks": ""
            },
            "colorscale": [
             [
              0,
              "#0d0887"
             ],
             [
              0.1111111111111111,
              "#46039f"
             ],
             [
              0.2222222222222222,
              "#7201a8"
             ],
             [
              0.3333333333333333,
              "#9c179e"
             ],
             [
              0.4444444444444444,
              "#bd3786"
             ],
             [
              0.5555555555555556,
              "#d8576b"
             ],
             [
              0.6666666666666666,
              "#ed7953"
             ],
             [
              0.7777777777777778,
              "#fb9f3a"
             ],
             [
              0.8888888888888888,
              "#fdca26"
             ],
             [
              1,
              "#f0f921"
             ]
            ],
            "type": "contour"
           }
          ],
          "contourcarpet": [
           {
            "colorbar": {
             "outlinewidth": 0,
             "ticks": ""
            },
            "type": "contourcarpet"
           }
          ],
          "heatmap": [
           {
            "colorbar": {
             "outlinewidth": 0,
             "ticks": ""
            },
            "colorscale": [
             [
              0,
              "#0d0887"
             ],
             [
              0.1111111111111111,
              "#46039f"
             ],
             [
              0.2222222222222222,
              "#7201a8"
             ],
             [
              0.3333333333333333,
              "#9c179e"
             ],
             [
              0.4444444444444444,
              "#bd3786"
             ],
             [
              0.5555555555555556,
              "#d8576b"
             ],
             [
              0.6666666666666666,
              "#ed7953"
             ],
             [
              0.7777777777777778,
              "#fb9f3a"
             ],
             [
              0.8888888888888888,
              "#fdca26"
             ],
             [
              1,
              "#f0f921"
             ]
            ],
            "type": "heatmap"
           }
          ],
          "histogram": [
           {
            "marker": {
             "pattern": {
              "fillmode": "overlay",
              "size": 10,
              "solidity": 0.2
             }
            },
            "type": "histogram"
           }
          ],
          "histogram2d": [
           {
            "colorbar": {
             "outlinewidth": 0,
             "ticks": ""
            },
            "colorscale": [
             [
              0,
              "#0d0887"
             ],
             [
              0.1111111111111111,
              "#46039f"
             ],
             [
              0.2222222222222222,
              "#7201a8"
             ],
             [
              0.3333333333333333,
              "#9c179e"
             ],
             [
              0.4444444444444444,
              "#bd3786"
             ],
             [
              0.5555555555555556,
              "#d8576b"
             ],
             [
              0.6666666666666666,
              "#ed7953"
             ],
             [
              0.7777777777777778,
              "#fb9f3a"
             ],
             [
              0.8888888888888888,
              "#fdca26"
             ],
             [
              1,
              "#f0f921"
             ]
            ],
            "type": "histogram2d"
           }
          ],
          "histogram2dcontour": [
           {
            "colorbar": {
             "outlinewidth": 0,
             "ticks": ""
            },
            "colorscale": [
             [
              0,
              "#0d0887"
             ],
             [
              0.1111111111111111,
              "#46039f"
             ],
             [
              0.2222222222222222,
              "#7201a8"
             ],
             [
              0.3333333333333333,
              "#9c179e"
             ],
             [
              0.4444444444444444,
              "#bd3786"
             ],
             [
              0.5555555555555556,
              "#d8576b"
             ],
             [
              0.6666666666666666,
              "#ed7953"
             ],
             [
              0.7777777777777778,
              "#fb9f3a"
             ],
             [
              0.8888888888888888,
              "#fdca26"
             ],
             [
              1,
              "#f0f921"
             ]
            ],
            "type": "histogram2dcontour"
           }
          ],
          "mesh3d": [
           {
            "colorbar": {
             "outlinewidth": 0,
             "ticks": ""
            },
            "type": "mesh3d"
           }
          ],
          "parcoords": [
           {
            "line": {
             "colorbar": {
              "outlinewidth": 0,
              "ticks": ""
             }
            },
            "type": "parcoords"
           }
          ],
          "pie": [
           {
            "automargin": true,
            "type": "pie"
           }
          ],
          "scatter": [
           {
            "fillpattern": {
             "fillmode": "overlay",
             "size": 10,
             "solidity": 0.2
            },
            "type": "scatter"
           }
          ],
          "scatter3d": [
           {
            "line": {
             "colorbar": {
              "outlinewidth": 0,
              "ticks": ""
             }
            },
            "marker": {
             "colorbar": {
              "outlinewidth": 0,
              "ticks": ""
             }
            },
            "type": "scatter3d"
           }
          ],
          "scattercarpet": [
           {
            "marker": {
             "colorbar": {
              "outlinewidth": 0,
              "ticks": ""
             }
            },
            "type": "scattercarpet"
           }
          ],
          "scattergeo": [
           {
            "marker": {
             "colorbar": {
              "outlinewidth": 0,
              "ticks": ""
             }
            },
            "type": "scattergeo"
           }
          ],
          "scattergl": [
           {
            "marker": {
             "colorbar": {
              "outlinewidth": 0,
              "ticks": ""
             }
            },
            "type": "scattergl"
           }
          ],
          "scattermap": [
           {
            "marker": {
             "colorbar": {
              "outlinewidth": 0,
              "ticks": ""
             }
            },
            "type": "scattermap"
           }
          ],
          "scattermapbox": [
           {
            "marker": {
             "colorbar": {
              "outlinewidth": 0,
              "ticks": ""
             }
            },
            "type": "scattermapbox"
           }
          ],
          "scatterpolar": [
           {
            "marker": {
             "colorbar": {
              "outlinewidth": 0,
              "ticks": ""
             }
            },
            "type": "scatterpolar"
           }
          ],
          "scatterpolargl": [
           {
            "marker": {
             "colorbar": {
              "outlinewidth": 0,
              "ticks": ""
             }
            },
            "type": "scatterpolargl"
           }
          ],
          "scatterternary": [
           {
            "marker": {
             "colorbar": {
              "outlinewidth": 0,
              "ticks": ""
             }
            },
            "type": "scatterternary"
           }
          ],
          "surface": [
           {
            "colorbar": {
             "outlinewidth": 0,
             "ticks": ""
            },
            "colorscale": [
             [
              0,
              "#0d0887"
             ],
             [
              0.1111111111111111,
              "#46039f"
             ],
             [
              0.2222222222222222,
              "#7201a8"
             ],
             [
              0.3333333333333333,
              "#9c179e"
             ],
             [
              0.4444444444444444,
              "#bd3786"
             ],
             [
              0.5555555555555556,
              "#d8576b"
             ],
             [
              0.6666666666666666,
              "#ed7953"
             ],
             [
              0.7777777777777778,
              "#fb9f3a"
             ],
             [
              0.8888888888888888,
              "#fdca26"
             ],
             [
              1,
              "#f0f921"
             ]
            ],
            "type": "surface"
           }
          ],
          "table": [
           {
            "cells": {
             "fill": {
              "color": "#EBF0F8"
             },
             "line": {
              "color": "white"
             }
            },
            "header": {
             "fill": {
              "color": "#C8D4E3"
             },
             "line": {
              "color": "white"
             }
            },
            "type": "table"
           }
          ]
         },
         "layout": {
          "annotationdefaults": {
           "arrowcolor": "#2a3f5f",
           "arrowhead": 0,
           "arrowwidth": 1
          },
          "autotypenumbers": "strict",
          "coloraxis": {
           "colorbar": {
            "outlinewidth": 0,
            "ticks": ""
           }
          },
          "colorscale": {
           "diverging": [
            [
             0,
             "#8e0152"
            ],
            [
             0.1,
             "#c51b7d"
            ],
            [
             0.2,
             "#de77ae"
            ],
            [
             0.3,
             "#f1b6da"
            ],
            [
             0.4,
             "#fde0ef"
            ],
            [
             0.5,
             "#f7f7f7"
            ],
            [
             0.6,
             "#e6f5d0"
            ],
            [
             0.7,
             "#b8e186"
            ],
            [
             0.8,
             "#7fbc41"
            ],
            [
             0.9,
             "#4d9221"
            ],
            [
             1,
             "#276419"
            ]
           ],
           "sequential": [
            [
             0,
             "#0d0887"
            ],
            [
             0.1111111111111111,
             "#46039f"
            ],
            [
             0.2222222222222222,
             "#7201a8"
            ],
            [
             0.3333333333333333,
             "#9c179e"
            ],
            [
             0.4444444444444444,
             "#bd3786"
            ],
            [
             0.5555555555555556,
             "#d8576b"
            ],
            [
             0.6666666666666666,
             "#ed7953"
            ],
            [
             0.7777777777777778,
             "#fb9f3a"
            ],
            [
             0.8888888888888888,
             "#fdca26"
            ],
            [
             1,
             "#f0f921"
            ]
           ],
           "sequentialminus": [
            [
             0,
             "#0d0887"
            ],
            [
             0.1111111111111111,
             "#46039f"
            ],
            [
             0.2222222222222222,
             "#7201a8"
            ],
            [
             0.3333333333333333,
             "#9c179e"
            ],
            [
             0.4444444444444444,
             "#bd3786"
            ],
            [
             0.5555555555555556,
             "#d8576b"
            ],
            [
             0.6666666666666666,
             "#ed7953"
            ],
            [
             0.7777777777777778,
             "#fb9f3a"
            ],
            [
             0.8888888888888888,
             "#fdca26"
            ],
            [
             1,
             "#f0f921"
            ]
           ]
          },
          "colorway": [
           "#636efa",
           "#EF553B",
           "#00cc96",
           "#ab63fa",
           "#FFA15A",
           "#19d3f3",
           "#FF6692",
           "#B6E880",
           "#FF97FF",
           "#FECB52"
          ],
          "font": {
           "color": "#2a3f5f"
          },
          "geo": {
           "bgcolor": "white",
           "lakecolor": "white",
           "landcolor": "#E5ECF6",
           "showlakes": true,
           "showland": true,
           "subunitcolor": "white"
          },
          "hoverlabel": {
           "align": "left"
          },
          "hovermode": "closest",
          "mapbox": {
           "style": "light"
          },
          "paper_bgcolor": "white",
          "plot_bgcolor": "#E5ECF6",
          "polar": {
           "angularaxis": {
            "gridcolor": "white",
            "linecolor": "white",
            "ticks": ""
           },
           "bgcolor": "#E5ECF6",
           "radialaxis": {
            "gridcolor": "white",
            "linecolor": "white",
            "ticks": ""
           }
          },
          "scene": {
           "xaxis": {
            "backgroundcolor": "#E5ECF6",
            "gridcolor": "white",
            "gridwidth": 2,
            "linecolor": "white",
            "showbackground": true,
            "ticks": "",
            "zerolinecolor": "white"
           },
           "yaxis": {
            "backgroundcolor": "#E5ECF6",
            "gridcolor": "white",
            "gridwidth": 2,
            "linecolor": "white",
            "showbackground": true,
            "ticks": "",
            "zerolinecolor": "white"
           },
           "zaxis": {
            "backgroundcolor": "#E5ECF6",
            "gridcolor": "white",
            "gridwidth": 2,
            "linecolor": "white",
            "showbackground": true,
            "ticks": "",
            "zerolinecolor": "white"
           }
          },
          "shapedefaults": {
           "line": {
            "color": "#2a3f5f"
           }
          },
          "ternary": {
           "aaxis": {
            "gridcolor": "white",
            "linecolor": "white",
            "ticks": ""
           },
           "baxis": {
            "gridcolor": "white",
            "linecolor": "white",
            "ticks": ""
           },
           "bgcolor": "#E5ECF6",
           "caxis": {
            "gridcolor": "white",
            "linecolor": "white",
            "ticks": ""
           }
          },
          "title": {
           "x": 0.05
          },
          "xaxis": {
           "automargin": true,
           "gridcolor": "white",
           "linecolor": "white",
           "ticks": "",
           "title": {
            "standoff": 15
           },
           "zerolinecolor": "white",
           "zerolinewidth": 2
          },
          "yaxis": {
           "automargin": true,
           "gridcolor": "white",
           "linecolor": "white",
           "ticks": "",
           "title": {
            "standoff": 15
           },
           "zerolinecolor": "white",
           "zerolinewidth": 2
          }
         }
        },
        "title": {
         "text": "Contour Plot"
        },
        "xaxis": {
         "showgrid": false,
         "title": {
          "text": "Hidden Size"
         }
        },
        "yaxis": {
         "showgrid": false,
         "title": {
          "text": "Number of Layers"
         }
        }
       }
      }
     },
     "metadata": {},
     "output_type": "display_data"
    }
   ],
   "source": [
    "hyperbayes = analysis.results_df\n",
    "plot_contour(hyperbayes, \"config/hidden_size\", \"config/num_layers\", \"accuracy\", start=0.3, size=0.05)\n"
   ]
  },
  {
   "cell_type": "markdown",
   "metadata": {},
   "source": [
    "This model combines bayesian optimization with hyperband. This is a good idea, because it combines the efficiency of bayesian optimization with the speed of hyperband."
   ]
  },
  {
   "cell_type": "code",
   "execution_count": 43,
   "metadata": {},
   "outputs": [
    {
     "data": {
      "application/vnd.plotly.v1+json": {
       "config": {
        "plotlyServerURL": "https://plot.ly"
       },
       "data": [
        {
         "dimensions": [
          {
           "label": "config/hidden_size",
           "values": {
            "bdata": "mQCQADwAlwBsAXoAbQDoAREBqQByAVwBFwGpANYBxwBCAI4A",
            "dtype": "i2"
           }
          },
          {
           "label": "config/num_layers",
           "values": {
            "bdata": "BgYGAgQDAQIEBgQGBQQCBgcD",
            "dtype": "i1"
           }
          }
         ],
         "domain": {
          "x": [
           0,
           1
          ],
          "y": [
           0,
           1
          ]
         },
         "line": {
          "color": [
           0.44218748807907104,
           0.831250011920929,
           0.40156251192092896,
           0.909375011920929,
           0.9906250238418579,
           0.49687498807907104,
           0.14531250298023224,
           0.957812488079071,
           0.9671875238418579,
           0.24375000596046448,
           0.807812511920929,
           0.6796875,
           0.7281249761581421,
           0.21406249701976776,
           0.9906250238418579,
           0.28125,
           0.20937499403953552,
           0.26249998807907104
          ],
          "coloraxis": "coloraxis"
         },
         "name": "",
         "type": "parcoords"
        }
       ],
       "layout": {
        "coloraxis": {
         "colorbar": {
          "title": {
           "text": "accuracy"
          }
         },
         "colorscale": [
          [
           0,
           "#0d0887"
          ],
          [
           0.1111111111111111,
           "#46039f"
          ],
          [
           0.2222222222222222,
           "#7201a8"
          ],
          [
           0.3333333333333333,
           "#9c179e"
          ],
          [
           0.4444444444444444,
           "#bd3786"
          ],
          [
           0.5555555555555556,
           "#d8576b"
          ],
          [
           0.6666666666666666,
           "#ed7953"
          ],
          [
           0.7777777777777778,
           "#fb9f3a"
          ],
          [
           0.8888888888888888,
           "#fdca26"
          ],
          [
           1,
           "#f0f921"
          ]
         ]
        },
        "legend": {
         "tracegroupgap": 0
        },
        "margin": {
         "t": 60
        },
        "template": {
         "data": {
          "bar": [
           {
            "error_x": {
             "color": "#2a3f5f"
            },
            "error_y": {
             "color": "#2a3f5f"
            },
            "marker": {
             "line": {
              "color": "#E5ECF6",
              "width": 0.5
             },
             "pattern": {
              "fillmode": "overlay",
              "size": 10,
              "solidity": 0.2
             }
            },
            "type": "bar"
           }
          ],
          "barpolar": [
           {
            "marker": {
             "line": {
              "color": "#E5ECF6",
              "width": 0.5
             },
             "pattern": {
              "fillmode": "overlay",
              "size": 10,
              "solidity": 0.2
             }
            },
            "type": "barpolar"
           }
          ],
          "carpet": [
           {
            "aaxis": {
             "endlinecolor": "#2a3f5f",
             "gridcolor": "white",
             "linecolor": "white",
             "minorgridcolor": "white",
             "startlinecolor": "#2a3f5f"
            },
            "baxis": {
             "endlinecolor": "#2a3f5f",
             "gridcolor": "white",
             "linecolor": "white",
             "minorgridcolor": "white",
             "startlinecolor": "#2a3f5f"
            },
            "type": "carpet"
           }
          ],
          "choropleth": [
           {
            "colorbar": {
             "outlinewidth": 0,
             "ticks": ""
            },
            "type": "choropleth"
           }
          ],
          "contour": [
           {
            "colorbar": {
             "outlinewidth": 0,
             "ticks": ""
            },
            "colorscale": [
             [
              0,
              "#0d0887"
             ],
             [
              0.1111111111111111,
              "#46039f"
             ],
             [
              0.2222222222222222,
              "#7201a8"
             ],
             [
              0.3333333333333333,
              "#9c179e"
             ],
             [
              0.4444444444444444,
              "#bd3786"
             ],
             [
              0.5555555555555556,
              "#d8576b"
             ],
             [
              0.6666666666666666,
              "#ed7953"
             ],
             [
              0.7777777777777778,
              "#fb9f3a"
             ],
             [
              0.8888888888888888,
              "#fdca26"
             ],
             [
              1,
              "#f0f921"
             ]
            ],
            "type": "contour"
           }
          ],
          "contourcarpet": [
           {
            "colorbar": {
             "outlinewidth": 0,
             "ticks": ""
            },
            "type": "contourcarpet"
           }
          ],
          "heatmap": [
           {
            "colorbar": {
             "outlinewidth": 0,
             "ticks": ""
            },
            "colorscale": [
             [
              0,
              "#0d0887"
             ],
             [
              0.1111111111111111,
              "#46039f"
             ],
             [
              0.2222222222222222,
              "#7201a8"
             ],
             [
              0.3333333333333333,
              "#9c179e"
             ],
             [
              0.4444444444444444,
              "#bd3786"
             ],
             [
              0.5555555555555556,
              "#d8576b"
             ],
             [
              0.6666666666666666,
              "#ed7953"
             ],
             [
              0.7777777777777778,
              "#fb9f3a"
             ],
             [
              0.8888888888888888,
              "#fdca26"
             ],
             [
              1,
              "#f0f921"
             ]
            ],
            "type": "heatmap"
           }
          ],
          "histogram": [
           {
            "marker": {
             "pattern": {
              "fillmode": "overlay",
              "size": 10,
              "solidity": 0.2
             }
            },
            "type": "histogram"
           }
          ],
          "histogram2d": [
           {
            "colorbar": {
             "outlinewidth": 0,
             "ticks": ""
            },
            "colorscale": [
             [
              0,
              "#0d0887"
             ],
             [
              0.1111111111111111,
              "#46039f"
             ],
             [
              0.2222222222222222,
              "#7201a8"
             ],
             [
              0.3333333333333333,
              "#9c179e"
             ],
             [
              0.4444444444444444,
              "#bd3786"
             ],
             [
              0.5555555555555556,
              "#d8576b"
             ],
             [
              0.6666666666666666,
              "#ed7953"
             ],
             [
              0.7777777777777778,
              "#fb9f3a"
             ],
             [
              0.8888888888888888,
              "#fdca26"
             ],
             [
              1,
              "#f0f921"
             ]
            ],
            "type": "histogram2d"
           }
          ],
          "histogram2dcontour": [
           {
            "colorbar": {
             "outlinewidth": 0,
             "ticks": ""
            },
            "colorscale": [
             [
              0,
              "#0d0887"
             ],
             [
              0.1111111111111111,
              "#46039f"
             ],
             [
              0.2222222222222222,
              "#7201a8"
             ],
             [
              0.3333333333333333,
              "#9c179e"
             ],
             [
              0.4444444444444444,
              "#bd3786"
             ],
             [
              0.5555555555555556,
              "#d8576b"
             ],
             [
              0.6666666666666666,
              "#ed7953"
             ],
             [
              0.7777777777777778,
              "#fb9f3a"
             ],
             [
              0.8888888888888888,
              "#fdca26"
             ],
             [
              1,
              "#f0f921"
             ]
            ],
            "type": "histogram2dcontour"
           }
          ],
          "mesh3d": [
           {
            "colorbar": {
             "outlinewidth": 0,
             "ticks": ""
            },
            "type": "mesh3d"
           }
          ],
          "parcoords": [
           {
            "line": {
             "colorbar": {
              "outlinewidth": 0,
              "ticks": ""
             }
            },
            "type": "parcoords"
           }
          ],
          "pie": [
           {
            "automargin": true,
            "type": "pie"
           }
          ],
          "scatter": [
           {
            "fillpattern": {
             "fillmode": "overlay",
             "size": 10,
             "solidity": 0.2
            },
            "type": "scatter"
           }
          ],
          "scatter3d": [
           {
            "line": {
             "colorbar": {
              "outlinewidth": 0,
              "ticks": ""
             }
            },
            "marker": {
             "colorbar": {
              "outlinewidth": 0,
              "ticks": ""
             }
            },
            "type": "scatter3d"
           }
          ],
          "scattercarpet": [
           {
            "marker": {
             "colorbar": {
              "outlinewidth": 0,
              "ticks": ""
             }
            },
            "type": "scattercarpet"
           }
          ],
          "scattergeo": [
           {
            "marker": {
             "colorbar": {
              "outlinewidth": 0,
              "ticks": ""
             }
            },
            "type": "scattergeo"
           }
          ],
          "scattergl": [
           {
            "marker": {
             "colorbar": {
              "outlinewidth": 0,
              "ticks": ""
             }
            },
            "type": "scattergl"
           }
          ],
          "scattermap": [
           {
            "marker": {
             "colorbar": {
              "outlinewidth": 0,
              "ticks": ""
             }
            },
            "type": "scattermap"
           }
          ],
          "scattermapbox": [
           {
            "marker": {
             "colorbar": {
              "outlinewidth": 0,
              "ticks": ""
             }
            },
            "type": "scattermapbox"
           }
          ],
          "scatterpolar": [
           {
            "marker": {
             "colorbar": {
              "outlinewidth": 0,
              "ticks": ""
             }
            },
            "type": "scatterpolar"
           }
          ],
          "scatterpolargl": [
           {
            "marker": {
             "colorbar": {
              "outlinewidth": 0,
              "ticks": ""
             }
            },
            "type": "scatterpolargl"
           }
          ],
          "scatterternary": [
           {
            "marker": {
             "colorbar": {
              "outlinewidth": 0,
              "ticks": ""
             }
            },
            "type": "scatterternary"
           }
          ],
          "surface": [
           {
            "colorbar": {
             "outlinewidth": 0,
             "ticks": ""
            },
            "colorscale": [
             [
              0,
              "#0d0887"
             ],
             [
              0.1111111111111111,
              "#46039f"
             ],
             [
              0.2222222222222222,
              "#7201a8"
             ],
             [
              0.3333333333333333,
              "#9c179e"
             ],
             [
              0.4444444444444444,
              "#bd3786"
             ],
             [
              0.5555555555555556,
              "#d8576b"
             ],
             [
              0.6666666666666666,
              "#ed7953"
             ],
             [
              0.7777777777777778,
              "#fb9f3a"
             ],
             [
              0.8888888888888888,
              "#fdca26"
             ],
             [
              1,
              "#f0f921"
             ]
            ],
            "type": "surface"
           }
          ],
          "table": [
           {
            "cells": {
             "fill": {
              "color": "#EBF0F8"
             },
             "line": {
              "color": "white"
             }
            },
            "header": {
             "fill": {
              "color": "#C8D4E3"
             },
             "line": {
              "color": "white"
             }
            },
            "type": "table"
           }
          ]
         },
         "layout": {
          "annotationdefaults": {
           "arrowcolor": "#2a3f5f",
           "arrowhead": 0,
           "arrowwidth": 1
          },
          "autotypenumbers": "strict",
          "coloraxis": {
           "colorbar": {
            "outlinewidth": 0,
            "ticks": ""
           }
          },
          "colorscale": {
           "diverging": [
            [
             0,
             "#8e0152"
            ],
            [
             0.1,
             "#c51b7d"
            ],
            [
             0.2,
             "#de77ae"
            ],
            [
             0.3,
             "#f1b6da"
            ],
            [
             0.4,
             "#fde0ef"
            ],
            [
             0.5,
             "#f7f7f7"
            ],
            [
             0.6,
             "#e6f5d0"
            ],
            [
             0.7,
             "#b8e186"
            ],
            [
             0.8,
             "#7fbc41"
            ],
            [
             0.9,
             "#4d9221"
            ],
            [
             1,
             "#276419"
            ]
           ],
           "sequential": [
            [
             0,
             "#0d0887"
            ],
            [
             0.1111111111111111,
             "#46039f"
            ],
            [
             0.2222222222222222,
             "#7201a8"
            ],
            [
             0.3333333333333333,
             "#9c179e"
            ],
            [
             0.4444444444444444,
             "#bd3786"
            ],
            [
             0.5555555555555556,
             "#d8576b"
            ],
            [
             0.6666666666666666,
             "#ed7953"
            ],
            [
             0.7777777777777778,
             "#fb9f3a"
            ],
            [
             0.8888888888888888,
             "#fdca26"
            ],
            [
             1,
             "#f0f921"
            ]
           ],
           "sequentialminus": [
            [
             0,
             "#0d0887"
            ],
            [
             0.1111111111111111,
             "#46039f"
            ],
            [
             0.2222222222222222,
             "#7201a8"
            ],
            [
             0.3333333333333333,
             "#9c179e"
            ],
            [
             0.4444444444444444,
             "#bd3786"
            ],
            [
             0.5555555555555556,
             "#d8576b"
            ],
            [
             0.6666666666666666,
             "#ed7953"
            ],
            [
             0.7777777777777778,
             "#fb9f3a"
            ],
            [
             0.8888888888888888,
             "#fdca26"
            ],
            [
             1,
             "#f0f921"
            ]
           ]
          },
          "colorway": [
           "#636efa",
           "#EF553B",
           "#00cc96",
           "#ab63fa",
           "#FFA15A",
           "#19d3f3",
           "#FF6692",
           "#B6E880",
           "#FF97FF",
           "#FECB52"
          ],
          "font": {
           "color": "#2a3f5f"
          },
          "geo": {
           "bgcolor": "white",
           "lakecolor": "white",
           "landcolor": "#E5ECF6",
           "showlakes": true,
           "showland": true,
           "subunitcolor": "white"
          },
          "hoverlabel": {
           "align": "left"
          },
          "hovermode": "closest",
          "mapbox": {
           "style": "light"
          },
          "paper_bgcolor": "white",
          "plot_bgcolor": "#E5ECF6",
          "polar": {
           "angularaxis": {
            "gridcolor": "white",
            "linecolor": "white",
            "ticks": ""
           },
           "bgcolor": "#E5ECF6",
           "radialaxis": {
            "gridcolor": "white",
            "linecolor": "white",
            "ticks": ""
           }
          },
          "scene": {
           "xaxis": {
            "backgroundcolor": "#E5ECF6",
            "gridcolor": "white",
            "gridwidth": 2,
            "linecolor": "white",
            "showbackground": true,
            "ticks": "",
            "zerolinecolor": "white"
           },
           "yaxis": {
            "backgroundcolor": "#E5ECF6",
            "gridcolor": "white",
            "gridwidth": 2,
            "linecolor": "white",
            "showbackground": true,
            "ticks": "",
            "zerolinecolor": "white"
           },
           "zaxis": {
            "backgroundcolor": "#E5ECF6",
            "gridcolor": "white",
            "gridwidth": 2,
            "linecolor": "white",
            "showbackground": true,
            "ticks": "",
            "zerolinecolor": "white"
           }
          },
          "shapedefaults": {
           "line": {
            "color": "#2a3f5f"
           }
          },
          "ternary": {
           "aaxis": {
            "gridcolor": "white",
            "linecolor": "white",
            "ticks": ""
           },
           "baxis": {
            "gridcolor": "white",
            "linecolor": "white",
            "ticks": ""
           },
           "bgcolor": "#E5ECF6",
           "caxis": {
            "gridcolor": "white",
            "linecolor": "white",
            "ticks": ""
           }
          },
          "title": {
           "x": 0.05
          },
          "xaxis": {
           "automargin": true,
           "gridcolor": "white",
           "linecolor": "white",
           "ticks": "",
           "title": {
            "standoff": 15
           },
           "zerolinecolor": "white",
           "zerolinewidth": 2
          },
          "yaxis": {
           "automargin": true,
           "gridcolor": "white",
           "linecolor": "white",
           "ticks": "",
           "title": {
            "standoff": 15
           },
           "zerolinecolor": "white",
           "zerolinewidth": 2
          }
         }
        }
       }
      }
     },
     "metadata": {},
     "output_type": "display_data"
    }
   ],
   "source": [
    "visualize.parallel_plot(analysis, columns)\n"
   ]
  },
  {
   "cell_type": "code",
   "execution_count": 44,
   "metadata": {},
   "outputs": [
    {
     "data": {
      "image/png": "[encoded data removed]",
      "text/plain": [
       "<Figure size 640x480 with 1 Axes>"
      ]
     },
     "metadata": {},
     "output_type": "display_data"
    }
   ],
   "source": [
    "visualize.plot_timers(timer)\n"
   ]
  },
  {
   "cell_type": "code",
   "execution_count": 45,
   "metadata": {},
   "outputs": [
    {
     "data": {
      "text/html": [
       "<div>\n",
       "<style scoped>\n",
       "    .dataframe tbody tr th:only-of-type {\n",
       "        vertical-align: middle;\n",
       "    }\n",
       "\n",
       "    .dataframe tbody tr th {\n",
       "        vertical-align: top;\n",
       "    }\n",
       "\n",
       "    .dataframe thead th {\n",
       "        text-align: right;\n",
       "    }\n",
       "</style>\n",
       "<table border=\"1\" class=\"dataframe\">\n",
       "  <thead>\n",
       "    <tr style=\"text-align: right;\">\n",
       "      <th></th>\n",
       "      <th>input_size</th>\n",
       "      <th>output_size</th>\n",
       "      <th>dropout</th>\n",
       "      <th>epochs</th>\n",
       "      <th>hidden_size</th>\n",
       "      <th>num_layers</th>\n",
       "      <th>tune_dir</th>\n",
       "      <th>accuracy</th>\n",
       "    </tr>\n",
       "  </thead>\n",
       "  <tbody>\n",
       "    <tr>\n",
       "      <th>random</th>\n",
       "      <td>3</td>\n",
       "      <td>20</td>\n",
       "      <td>0.05</td>\n",
       "      <td>5</td>\n",
       "      <td>486.000000</td>\n",
       "      <td>1.000000</td>\n",
       "      <td>/home/sarmad/Documents/code/upperkaam/notebook...</td>\n",
       "      <td>0.9875</td>\n",
       "    </tr>\n",
       "    <tr>\n",
       "      <th>grid</th>\n",
       "      <td>3</td>\n",
       "      <td>20</td>\n",
       "      <td>0.10</td>\n",
       "      <td>5</td>\n",
       "      <td>512.000000</td>\n",
       "      <td>2.000000</td>\n",
       "      <td>/home/sarmad/Documents/code/upperkaam/notebook...</td>\n",
       "      <td>0.9859375</td>\n",
       "    </tr>\n",
       "    <tr>\n",
       "      <th>bayes</th>\n",
       "      <td>3</td>\n",
       "      <td>20</td>\n",
       "      <td>0.10</td>\n",
       "      <td>5</td>\n",
       "      <td>312.307102</td>\n",
       "      <td>4.338745</td>\n",
       "      <td>/home/sarmad/Documents/code/upperkaam/notebook...</td>\n",
       "      <td>0.9875</td>\n",
       "    </tr>\n",
       "    <tr>\n",
       "      <th>hyperband</th>\n",
       "      <td>3</td>\n",
       "      <td>20</td>\n",
       "      <td>0.10</td>\n",
       "      <td>5</td>\n",
       "      <td>421.000000</td>\n",
       "      <td>3.000000</td>\n",
       "      <td>/home/sarmad/Documents/code/upperkaam/notebook...</td>\n",
       "      <td>0.9765625</td>\n",
       "    </tr>\n",
       "    <tr>\n",
       "      <th>hyperopt</th>\n",
       "      <td>3</td>\n",
       "      <td>20</td>\n",
       "      <td>0.10</td>\n",
       "      <td>5</td>\n",
       "      <td>470.000000</td>\n",
       "      <td>2.000000</td>\n",
       "      <td>/home/sarmad/Documents/code/upperkaam/notebook...</td>\n",
       "      <td>0.990625</td>\n",
       "    </tr>\n",
       "  </tbody>\n",
       "</table>\n",
       "</div>"
      ],
      "text/plain": [
       "           input_size  output_size  dropout  epochs  hidden_size  num_layers  \\\n",
       "random              3           20     0.05       5   486.000000    1.000000   \n",
       "grid                3           20     0.10       5   512.000000    2.000000   \n",
       "bayes               3           20     0.10       5   312.307102    4.338745   \n",
       "hyperband           3           20     0.10       5   421.000000    3.000000   \n",
       "hyperopt            3           20     0.10       5   470.000000    2.000000   \n",
       "\n",
       "                                                    tune_dir   accuracy  \n",
       "random     /home/sarmad/Documents/code/upperkaam/notebook...     0.9875  \n",
       "grid       /home/sarmad/Documents/code/upperkaam/notebook...  0.9859375  \n",
       "bayes      /home/sarmad/Documents/code/upperkaam/notebook...     0.9875  \n",
       "hyperband  /home/sarmad/Documents/code/upperkaam/notebook...  0.9765625  \n",
       "hyperopt   /home/sarmad/Documents/code/upperkaam/notebook...   0.990625  "
      ]
     },
     "execution_count": 45,
     "metadata": {},
     "output_type": "execute_result"
    }
   ],
   "source": [
    "pd.DataFrame.from_dict(best_config, orient=\"index\")\n"
   ]
  },
  {
   "cell_type": "code",
   "execution_count": 46,
   "metadata": {},
   "outputs": [
    {
     "data": {
      "application/vnd.plotly.v1+json": {
       "config": {
        "plotlyServerURL": "https://plot.ly"
       },
       "data": [
        {
         "colorbar": {
          "title": {
           "text": "Accuracy"
          }
         },
         "colorscale": [
          [
           0,
           "#0d0887"
          ],
          [
           0.1111111111111111,
           "#46039f"
          ],
          [
           0.2222222222222222,
           "#7201a8"
          ],
          [
           0.3333333333333333,
           "#9c179e"
          ],
          [
           0.4444444444444444,
           "#bd3786"
          ],
          [
           0.5555555555555556,
           "#d8576b"
          ],
          [
           0.6666666666666666,
           "#ed7953"
          ],
          [
           0.7777777777777778,
           "#fb9f3a"
          ],
          [
           0.8888888888888888,
           "#fdca26"
          ],
          [
           1,
           "#f0f921"
          ]
         ],
         "contours": {
          "coloring": "heatmap",
          "end": 1,
          "showlabels": true,
          "size": 0.01,
          "start": 0.8
         },
         "type": "contour",
         "x": {
          "bdata": "AAAAAACAd0AAAAAAAEBwQAAAAAAAAElAAAAAAACgZkAAAAAAAABFQAAAAAAAYG1AAAAAAACQeUAAAAAAAGB+QAAAAAAAwFZAAAAAAADAbEAAAAAAAGBnQAAAAAAAgHdAAAAAAACwcUAAAAAAAMBtQAAAAAAAgHVAAAAAAAAARUAAAAAAAFB8QAAAAAAAAH1AAAAAAAAAMEAAAAAAAABAQAAAAAAAAFBAAAAAAAAAYEAAAAAAAABwQAAAAAAAAIBAAAAAAAAAMEAAAAAAAABAQAAAAAAAAFBAAAAAAAAAYEAAAAAAAABwQAAAAAAAAIBAAAAAAAAAMEAAAAAAAABAQAAAAAAAAFBAAAAAAAAAYEAAAAAAAABwQAAAAAAAAIBAXVdsZbM4aUAWdKWaGrF3QHgQad2nWFdAYpk8xJxnRkBQuS3gcqJzQFts0cZ02X1AGNcveuSic0BjFowRX9p9QFqdeeO+jnNAeZlUi3+tc0DldgGSott9QN3ip+SpoXNArw/Y5Vm1c0AAAAAAAACAQAIUEg0lhHNAfNbkrOSFc0DEDfh9VIdzQPPXYePphHNAAAAAAABAXkAAAAAAACBsQAAAAAAAUHpAAAAAAAAQdEAAAAAAAGBpQAAAAAAA4H5AAAAAAAAAYkAAAAAAAOBiQAAAAAAAwHZAAAAAAACAfkAAAAAAABBxQAAAAAAAYH1A",
          "dtype": "f8"
         },
         "y": {
          "bdata": "AAAAAAAA8D8AAAAAAAAcQAAAAAAAABBAAAAAAAAACEAAAAAAAAAIQAAAAAAAAAhAAAAAAAAACEAAAAAAAADwPwAAAAAAABhAAAAAAAAAAEAAAAAAAAAQQAAAAAAAABBAAAAAAAAA8D8AAAAAAADwPwAAAAAAAABAAAAAAAAACEAAAAAAAAAUQAAAAAAAAABAAAAAAAAAAEAAAAAAAAAAQAAAAAAAAABAAAAAAAAAAEAAAAAAAAAAQAAAAAAAAABAAAAAAAAAEEAAAAAAAAAQQAAAAAAAABBAAAAAAAAAEEAAAAAAAAAQQAAAAAAAABBAAAAAAAAAIEAAAAAAAAAgQAAAAAAAACBAAAAAAAAAIEAAAAAAAAAgQAAAAAAAACBAilukW7ieHkAax5YbL8MUQLEns2JWvABAvgArKMBAHEAyMkfYdtMXQAAAAAAAACBAlH/EgkeDEkAAAAAAAAAgQHKQ+GOhnxlAJchof2A+HEAAAAAAAAAgQH6inqPOhhJA8uWopX6CFUAAAAAAAAAgQCp6RCK6YRVAj9wrN+EKE0AjXe0lRe0QQImNVwzgWhFAAAAAAAAACEAAAAAAAAAAQAAAAAAAAAhAAAAAAAAA8D8AAAAAAAAAQAAAAAAAABRAAAAAAAAAGEAAAAAAAAAAQAAAAAAAABBAAAAAAAAAAEAAAAAAAAAQQAAAAAAAAABA",
          "dtype": "f8"
         },
         "z": [
          0.9671875238418579,
          0.6890624761581421,
          0.5531250238418579,
          0.9609375,
          0.4468750059604645,
          0.9671875238418579,
          0.981249988079071,
          0.987500011920929,
          0.41718751192092896,
          0.957812488079071,
          0.949999988079071,
          0.9828125238418579,
          0.964062511920929,
          0.9140625,
          0.9546874761581421,
          0.453125,
          0.948437511920929,
          0.981249988079071,
          0.30156248807907104,
          0.42656248807907104,
          0.557812511920929,
          0.879687488079071,
          0.9609375,
          0.9859374761581421,
          0.23906250298023224,
          0.3968749940395355,
          0.5765625238418579,
          0.776562511920929,
          0.96875,
          0.9750000238418579,
          0.21250000596046448,
          0.4390625059604645,
          0.390625,
          0.3734374940395355,
          0.590624988079071,
          0.3890624940395355,
          0.817187488079071,
          0.940625011920929,
          0.6343749761581421,
          0.26249998807907104,
          0.9609375,
          0.526562511920929,
          0.953125,
          0.29374998807907104,
          0.8921874761581421,
          0.893750011920929,
          0.3125,
          0.971875011920929,
          0.953125,
          0.2562499940395355,
          0.940625011920929,
          0.932812511920929,
          0.932812511920929,
          0.987500011920929,
          0.817187488079071,
          0.957812488079071,
          0.9765625,
          0.9546874761581421,
          0.9671875238418579,
          0.9671875238418579,
          0.831250011920929,
          0.909375011920929,
          0.9906250238418579,
          0.957812488079071,
          0.9671875238418579,
          0.9906250238418579
         ]
        },
        {
         "customdata": [
          0.9671875238418579,
          0.6890624761581421,
          0.5531250238418579,
          0.9609375,
          0.4468750059604645,
          0.9671875238418579,
          0.981249988079071,
          0.987500011920929,
          0.41718751192092896,
          0.957812488079071,
          0.949999988079071,
          0.9828125238418579,
          0.964062511920929,
          0.9140625,
          0.9546874761581421,
          0.453125,
          0.948437511920929,
          0.981249988079071,
          0.30156248807907104,
          0.42656248807907104,
          0.557812511920929,
          0.879687488079071,
          0.9609375,
          0.9859374761581421,
          0.23906250298023224,
          0.3968749940395355,
          0.5765625238418579,
          0.776562511920929,
          0.96875,
          0.9750000238418579,
          0.21250000596046448,
          0.4390625059604645,
          0.390625,
          0.3734374940395355,
          0.590624988079071,
          0.3890624940395355,
          0.817187488079071,
          0.940625011920929,
          0.6343749761581421,
          0.26249998807907104,
          0.9609375,
          0.526562511920929,
          0.953125,
          0.29374998807907104,
          0.8921874761581421,
          0.893750011920929,
          0.3125,
          0.971875011920929,
          0.953125,
          0.2562499940395355,
          0.940625011920929,
          0.932812511920929,
          0.932812511920929,
          0.987500011920929,
          0.817187488079071,
          0.957812488079071,
          0.9765625,
          0.9546874761581421,
          0.9671875238418579,
          0.9671875238418579,
          0.831250011920929,
          0.909375011920929,
          0.9906250238418579,
          0.957812488079071,
          0.9671875238418579,
          0.9906250238418579
         ],
         "hovertemplate": "Hidden Size: %{x}<br>Number of Layers: %{y}<br>Accuracy: %{customdata:.4f}<extra></extra>",
         "marker": {
          "color": "black",
          "size": 8,
          "symbol": "circle"
         },
         "mode": "markers",
         "name": "Data Points",
         "type": "scatter",
         "x": {
          "bdata": "AAAAAACAd0AAAAAAAEBwQAAAAAAAAElAAAAAAACgZkAAAAAAAABFQAAAAAAAYG1AAAAAAACQeUAAAAAAAGB+QAAAAAAAwFZAAAAAAADAbEAAAAAAAGBnQAAAAAAAgHdAAAAAAACwcUAAAAAAAMBtQAAAAAAAgHVAAAAAAAAARUAAAAAAAFB8QAAAAAAAAH1AAAAAAAAAMEAAAAAAAABAQAAAAAAAAFBAAAAAAAAAYEAAAAAAAABwQAAAAAAAAIBAAAAAAAAAMEAAAAAAAABAQAAAAAAAAFBAAAAAAAAAYEAAAAAAAABwQAAAAAAAAIBAAAAAAAAAMEAAAAAAAABAQAAAAAAAAFBAAAAAAAAAYEAAAAAAAABwQAAAAAAAAIBAXVdsZbM4aUAWdKWaGrF3QHgQad2nWFdAYpk8xJxnRkBQuS3gcqJzQFts0cZ02X1AGNcveuSic0BjFowRX9p9QFqdeeO+jnNAeZlUi3+tc0DldgGSott9QN3ip+SpoXNArw/Y5Vm1c0AAAAAAAACAQAIUEg0lhHNAfNbkrOSFc0DEDfh9VIdzQPPXYePphHNAAAAAAABAXkAAAAAAACBsQAAAAAAAUHpAAAAAAAAQdEAAAAAAAGBpQAAAAAAA4H5AAAAAAAAAYkAAAAAAAOBiQAAAAAAAwHZAAAAAAACAfkAAAAAAABBxQAAAAAAAYH1A",
          "dtype": "f8"
         },
         "y": {
          "bdata": "AAAAAAAA8D8AAAAAAAAcQAAAAAAAABBAAAAAAAAACEAAAAAAAAAIQAAAAAAAAAhAAAAAAAAACEAAAAAAAADwPwAAAAAAABhAAAAAAAAAAEAAAAAAAAAQQAAAAAAAABBAAAAAAAAA8D8AAAAAAADwPwAAAAAAAABAAAAAAAAACEAAAAAAAAAUQAAAAAAAAABAAAAAAAAAAEAAAAAAAAAAQAAAAAAAAABAAAAAAAAAAEAAAAAAAAAAQAAAAAAAAABAAAAAAAAAEEAAAAAAAAAQQAAAAAAAABBAAAAAAAAAEEAAAAAAAAAQQAAAAAAAABBAAAAAAAAAIEAAAAAAAAAgQAAAAAAAACBAAAAAAAAAIEAAAAAAAAAgQAAAAAAAACBAilukW7ieHkAax5YbL8MUQLEns2JWvABAvgArKMBAHEAyMkfYdtMXQAAAAAAAACBAlH/EgkeDEkAAAAAAAAAgQHKQ+GOhnxlAJchof2A+HEAAAAAAAAAgQH6inqPOhhJA8uWopX6CFUAAAAAAAAAgQCp6RCK6YRVAj9wrN+EKE0AjXe0lRe0QQImNVwzgWhFAAAAAAAAACEAAAAAAAAAAQAAAAAAAAAhAAAAAAAAA8D8AAAAAAAAAQAAAAAAAABRAAAAAAAAAGEAAAAAAAAAAQAAAAAAAABBAAAAAAAAAAEAAAAAAAAAQQAAAAAAAAABA",
          "dtype": "f8"
         }
        }
       ],
       "layout": {
        "paper_bgcolor": "white",
        "plot_bgcolor": "white",
        "template": {
         "data": {
          "bar": [
           {
            "error_x": {
             "color": "#2a3f5f"
            },
            "error_y": {
             "color": "#2a3f5f"
            },
            "marker": {
             "line": {
              "color": "#E5ECF6",
              "width": 0.5
             },
             "pattern": {
              "fillmode": "overlay",
              "size": 10,
              "solidity": 0.2
             }
            },
            "type": "bar"
           }
          ],
          "barpolar": [
           {
            "marker": {
             "line": {
              "color": "#E5ECF6",
              "width": 0.5
             },
             "pattern": {
              "fillmode": "overlay",
              "size": 10,
              "solidity": 0.2
             }
            },
            "type": "barpolar"
           }
          ],
          "carpet": [
           {
            "aaxis": {
             "endlinecolor": "#2a3f5f",
             "gridcolor": "white",
             "linecolor": "white",
             "minorgridcolor": "white",
             "startlinecolor": "#2a3f5f"
            },
            "baxis": {
             "endlinecolor": "#2a3f5f",
             "gridcolor": "white",
             "linecolor": "white",
             "minorgridcolor": "white",
             "startlinecolor": "#2a3f5f"
            },
            "type": "carpet"
           }
          ],
          "choropleth": [
           {
            "colorbar": {
             "outlinewidth": 0,
             "ticks": ""
            },
            "type": "choropleth"
           }
          ],
          "contour": [
           {
            "colorbar": {
             "outlinewidth": 0,
             "ticks": ""
            },
            "colorscale": [
             [
              0,
              "#0d0887"
             ],
             [
              0.1111111111111111,
              "#46039f"
             ],
             [
              0.2222222222222222,
              "#7201a8"
             ],
             [
              0.3333333333333333,
              "#9c179e"
             ],
             [
              0.4444444444444444,
              "#bd3786"
             ],
             [
              0.5555555555555556,
              "#d8576b"
             ],
             [
              0.6666666666666666,
              "#ed7953"
             ],
             [
              0.7777777777777778,
              "#fb9f3a"
             ],
             [
              0.8888888888888888,
              "#fdca26"
             ],
             [
              1,
              "#f0f921"
             ]
            ],
            "type": "contour"
           }
          ],
          "contourcarpet": [
           {
            "colorbar": {
             "outlinewidth": 0,
             "ticks": ""
            },
            "type": "contourcarpet"
           }
          ],
          "heatmap": [
           {
            "colorbar": {
             "outlinewidth": 0,
             "ticks": ""
            },
            "colorscale": [
             [
              0,
              "#0d0887"
             ],
             [
              0.1111111111111111,
              "#46039f"
             ],
             [
              0.2222222222222222,
              "#7201a8"
             ],
             [
              0.3333333333333333,
              "#9c179e"
             ],
             [
              0.4444444444444444,
              "#bd3786"
             ],
             [
              0.5555555555555556,
              "#d8576b"
             ],
             [
              0.6666666666666666,
              "#ed7953"
             ],
             [
              0.7777777777777778,
              "#fb9f3a"
             ],
             [
              0.8888888888888888,
              "#fdca26"
             ],
             [
              1,
              "#f0f921"
             ]
            ],
            "type": "heatmap"
           }
          ],
          "histogram": [
           {
            "marker": {
             "pattern": {
              "fillmode": "overlay",
              "size": 10,
              "solidity": 0.2
             }
            },
            "type": "histogram"
           }
          ],
          "histogram2d": [
           {
            "colorbar": {
             "outlinewidth": 0,
             "ticks": ""
            },
            "colorscale": [
             [
              0,
              "#0d0887"
             ],
             [
              0.1111111111111111,
              "#46039f"
             ],
             [
              0.2222222222222222,
              "#7201a8"
             ],
             [
              0.3333333333333333,
              "#9c179e"
             ],
             [
              0.4444444444444444,
              "#bd3786"
             ],
             [
              0.5555555555555556,
              "#d8576b"
             ],
             [
              0.6666666666666666,
              "#ed7953"
             ],
             [
              0.7777777777777778,
              "#fb9f3a"
             ],
             [
              0.8888888888888888,
              "#fdca26"
             ],
             [
              1,
              "#f0f921"
             ]
            ],
            "type": "histogram2d"
           }
          ],
          "histogram2dcontour": [
           {
            "colorbar": {
             "outlinewidth": 0,
             "ticks": ""
            },
            "colorscale": [
             [
              0,
              "#0d0887"
             ],
             [
              0.1111111111111111,
              "#46039f"
             ],
             [
              0.2222222222222222,
              "#7201a8"
             ],
             [
              0.3333333333333333,
              "#9c179e"
             ],
             [
              0.4444444444444444,
              "#bd3786"
             ],
             [
              0.5555555555555556,
              "#d8576b"
             ],
             [
              0.6666666666666666,
              "#ed7953"
             ],
             [
              0.7777777777777778,
              "#fb9f3a"
             ],
             [
              0.8888888888888888,
              "#fdca26"
             ],
             [
              1,
              "#f0f921"
             ]
            ],
            "type": "histogram2dcontour"
           }
          ],
          "mesh3d": [
           {
            "colorbar": {
             "outlinewidth": 0,
             "ticks": ""
            },
            "type": "mesh3d"
           }
          ],
          "parcoords": [
           {
            "line": {
             "colorbar": {
              "outlinewidth": 0,
              "ticks": ""
             }
            },
            "type": "parcoords"
           }
          ],
          "pie": [
           {
            "automargin": true,
            "type": "pie"
           }
          ],
          "scatter": [
           {
            "fillpattern": {
             "fillmode": "overlay",
             "size": 10,
             "solidity": 0.2
            },
            "type": "scatter"
           }
          ],
          "scatter3d": [
           {
            "line": {
             "colorbar": {
              "outlinewidth": 0,
              "ticks": ""
             }
            },
            "marker": {
             "colorbar": {
              "outlinewidth": 0,
              "ticks": ""
             }
            },
            "type": "scatter3d"
           }
          ],
          "scattercarpet": [
           {
            "marker": {
             "colorbar": {
              "outlinewidth": 0,
              "ticks": ""
             }
            },
            "type": "scattercarpet"
           }
          ],
          "scattergeo": [
           {
            "marker": {
             "colorbar": {
              "outlinewidth": 0,
              "ticks": ""
             }
            },
            "type": "scattergeo"
           }
          ],
          "scattergl": [
           {
            "marker": {
             "colorbar": {
              "outlinewidth": 0,
              "ticks": ""
             }
            },
            "type": "scattergl"
           }
          ],
          "scattermap": [
           {
            "marker": {
             "colorbar": {
              "outlinewidth": 0,
              "ticks": ""
             }
            },
            "type": "scattermap"
           }
          ],
          "scattermapbox": [
           {
            "marker": {
             "colorbar": {
              "outlinewidth": 0,
              "ticks": ""
             }
            },
            "type": "scattermapbox"
           }
          ],
          "scatterpolar": [
           {
            "marker": {
             "colorbar": {
              "outlinewidth": 0,
              "ticks": ""
             }
            },
            "type": "scatterpolar"
           }
          ],
          "scatterpolargl": [
           {
            "marker": {
             "colorbar": {
              "outlinewidth": 0,
              "ticks": ""
             }
            },
            "type": "scatterpolargl"
           }
          ],
          "scatterternary": [
           {
            "marker": {
             "colorbar": {
              "outlinewidth": 0,
              "ticks": ""
             }
            },
            "type": "scatterternary"
           }
          ],
          "surface": [
           {
            "colorbar": {
             "outlinewidth": 0,
             "ticks": ""
            },
            "colorscale": [
             [
              0,
              "#0d0887"
             ],
             [
              0.1111111111111111,
              "#46039f"
             ],
             [
              0.2222222222222222,
              "#7201a8"
             ],
             [
              0.3333333333333333,
              "#9c179e"
             ],
             [
              0.4444444444444444,
              "#bd3786"
             ],
             [
              0.5555555555555556,
              "#d8576b"
             ],
             [
              0.6666666666666666,
              "#ed7953"
             ],
             [
              0.7777777777777778,
              "#fb9f3a"
             ],
             [
              0.8888888888888888,
              "#fdca26"
             ],
             [
              1,
              "#f0f921"
             ]
            ],
            "type": "surface"
           }
          ],
          "table": [
           {
            "cells": {
             "fill": {
              "color": "#EBF0F8"
             },
             "line": {
              "color": "white"
             }
            },
            "header": {
             "fill": {
              "color": "#C8D4E3"
             },
             "line": {
              "color": "white"
             }
            },
            "type": "table"
           }
          ]
         },
         "layout": {
          "annotationdefaults": {
           "arrowcolor": "#2a3f5f",
           "arrowhead": 0,
           "arrowwidth": 1
          },
          "autotypenumbers": "strict",
          "coloraxis": {
           "colorbar": {
            "outlinewidth": 0,
            "ticks": ""
           }
          },
          "colorscale": {
           "diverging": [
            [
             0,
             "#8e0152"
            ],
            [
             0.1,
             "#c51b7d"
            ],
            [
             0.2,
             "#de77ae"
            ],
            [
             0.3,
             "#f1b6da"
            ],
            [
             0.4,
             "#fde0ef"
            ],
            [
             0.5,
             "#f7f7f7"
            ],
            [
             0.6,
             "#e6f5d0"
            ],
            [
             0.7,
             "#b8e186"
            ],
            [
             0.8,
             "#7fbc41"
            ],
            [
             0.9,
             "#4d9221"
            ],
            [
             1,
             "#276419"
            ]
           ],
           "sequential": [
            [
             0,
             "#0d0887"
            ],
            [
             0.1111111111111111,
             "#46039f"
            ],
            [
             0.2222222222222222,
             "#7201a8"
            ],
            [
             0.3333333333333333,
             "#9c179e"
            ],
            [
             0.4444444444444444,
             "#bd3786"
            ],
            [
             0.5555555555555556,
             "#d8576b"
            ],
            [
             0.6666666666666666,
             "#ed7953"
            ],
            [
             0.7777777777777778,
             "#fb9f3a"
            ],
            [
             0.8888888888888888,
             "#fdca26"
            ],
            [
             1,
             "#f0f921"
            ]
           ],
           "sequentialminus": [
            [
             0,
             "#0d0887"
            ],
            [
             0.1111111111111111,
             "#46039f"
            ],
            [
             0.2222222222222222,
             "#7201a8"
            ],
            [
             0.3333333333333333,
             "#9c179e"
            ],
            [
             0.4444444444444444,
             "#bd3786"
            ],
            [
             0.5555555555555556,
             "#d8576b"
            ],
            [
             0.6666666666666666,
             "#ed7953"
            ],
            [
             0.7777777777777778,
             "#fb9f3a"
            ],
            [
             0.8888888888888888,
             "#fdca26"
            ],
            [
             1,
             "#f0f921"
            ]
           ]
          },
          "colorway": [
           "#636efa",
           "#EF553B",
           "#00cc96",
           "#ab63fa",
           "#FFA15A",
           "#19d3f3",
           "#FF6692",
           "#B6E880",
           "#FF97FF",
           "#FECB52"
          ],
          "font": {
           "color": "#2a3f5f"
          },
          "geo": {
           "bgcolor": "white",
           "lakecolor": "white",
           "landcolor": "#E5ECF6",
           "showlakes": true,
           "showland": true,
           "subunitcolor": "white"
          },
          "hoverlabel": {
           "align": "left"
          },
          "hovermode": "closest",
          "mapbox": {
           "style": "light"
          },
          "paper_bgcolor": "white",
          "plot_bgcolor": "#E5ECF6",
          "polar": {
           "angularaxis": {
            "gridcolor": "white",
            "linecolor": "white",
            "ticks": ""
           },
           "bgcolor": "#E5ECF6",
           "radialaxis": {
            "gridcolor": "white",
            "linecolor": "white",
            "ticks": ""
           }
          },
          "scene": {
           "xaxis": {
            "backgroundcolor": "#E5ECF6",
            "gridcolor": "white",
            "gridwidth": 2,
            "linecolor": "white",
            "showbackground": true,
            "ticks": "",
            "zerolinecolor": "white"
           },
           "yaxis": {
            "backgroundcolor": "#E5ECF6",
            "gridcolor": "white",
            "gridwidth": 2,
            "linecolor": "white",
            "showbackground": true,
            "ticks": "",
            "zerolinecolor": "white"
           },
           "zaxis": {
            "backgroundcolor": "#E5ECF6",
            "gridcolor": "white",
            "gridwidth": 2,
            "linecolor": "white",
            "showbackground": true,
            "ticks": "",
            "zerolinecolor": "white"
           }
          },
          "shapedefaults": {
           "line": {
            "color": "#2a3f5f"
           }
          },
          "ternary": {
           "aaxis": {
            "gridcolor": "white",
            "linecolor": "white",
            "ticks": ""
           },
           "baxis": {
            "gridcolor": "white",
            "linecolor": "white",
            "ticks": ""
           },
           "bgcolor": "#E5ECF6",
           "caxis": {
            "gridcolor": "white",
            "linecolor": "white",
            "ticks": ""
           }
          },
          "title": {
           "x": 0.05
          },
          "xaxis": {
           "automargin": true,
           "gridcolor": "white",
           "linecolor": "white",
           "ticks": "",
           "title": {
            "standoff": 15
           },
           "zerolinecolor": "white",
           "zerolinewidth": 2
          },
          "yaxis": {
           "automargin": true,
           "gridcolor": "white",
           "linecolor": "white",
           "ticks": "",
           "title": {
            "standoff": 15
           },
           "zerolinecolor": "white",
           "zerolinewidth": 2
          }
         }
        },
        "title": {
         "text": "Contour Plot"
        },
        "xaxis": {
         "showgrid": false,
         "title": {
          "text": "Hidden Size"
         }
        },
        "yaxis": {
         "showgrid": false,
         "title": {
          "text": "Number of Layers"
         }
        }
       }
      }
     },
     "metadata": {},
     "output_type": "display_data"
    }
   ],
   "source": [
    "contour = all_results[all_results[\"training_iteration\"] == MAX_EPOCHS]\n",
    "plot_contour(contour, \"config/hidden_size\", \"config/num_layers\", \"accuracy\", start=0.8)"
   ]
  },
  {
   "cell_type": "code",
   "execution_count": 47,
   "metadata": {},
   "outputs": [
    {
     "name": "stdout",
     "output_type": "stream",
     "text": [
      "4609.082547664642\n"
     ]
    }
   ],
   "source": [
    "stop = time.time() - start\n",
    "print(stop)"
   ]
  }
 ],
 "metadata": {
  "kernelspec": {
   "display_name": "conda_kernel",
   "language": "python",
   "name": "python3"
  },
  "language_info": {
   "codemirror_mode": {
    "name": "ipython",
    "version": 3
   },
   "file_extension": ".py",
   "mimetype": "text/x-python",
   "name": "python",
   "nbconvert_exporter": "python",
   "pygments_lexer": "ipython3",
   "version": "3.11.11"
  }
 },
 "nbformat": 4,
 "nbformat_minor": 2
}
