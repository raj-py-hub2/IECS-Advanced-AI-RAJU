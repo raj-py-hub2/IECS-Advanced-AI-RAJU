{
 "cells": [
  {
   "cell_type": "markdown",
   "id": "336c8c63",
   "metadata": {},
   "source": [
    "<font color='green'>\n",
    "\n",
    "## Import Libraries\n",
    "\n",
    "</font>"
   ]
  },
  {
   "cell_type": "code",
   "execution_count": 1,
   "id": "3ebd0551",
   "metadata": {},
   "outputs": [],
   "source": [
    "import time\n",
    "import numpy as np\n",
    "from plotly import graph_objects as go\n",
    "import matplotlib.pyplot as plt\n",
    "\n",
    "from loguru import logger\n",
    "\n",
    "import ray\n",
    "from ray import tune\n",
    "\n",
    "import torch\n",
    "from torch import optim\n",
    "from torch import nn\n",
    "\n",
    "from pathlib import Path\n",
    "import gin\n",
    "\n",
    "import warnings\n",
    "warnings.simplefilter(\"ignore\", UserWarning)\n",
    "\n",
    "%matplotlib inline\n",
    "plt.style.use('dark_background')\n",
    "# import plotly.io as pio\n",
    "# pio.renderers.default = 'plotly_mimetype+notebook'\n",
    "\n",
    "import visualize\n",
    "start = time.time()"
   ]
  },
  {
   "cell_type": "markdown",
   "id": "95f263dc",
   "metadata": {},
   "source": [
    "<font color='green'>\n",
    "\n",
    "## Training and validation function\n",
    "\n",
    "Similar to the prvious lesson, we will include the the training and validation functions to perform the Bayes search on the parameters. \n",
    "\n",
    "</font>"
   ]
  },
  {
   "cell_type": "code",
   "execution_count": 2,
   "id": "ffbc3ccd",
   "metadata": {},
   "outputs": [],
   "source": [
    "def train_fn(model, trainstreamer, lossfn, optimizer, steps):\n",
    "    model.train()\n",
    "    train_loss: float = 0.0\n",
    "    for _ in range(steps):\n",
    "        x, y = next(trainstreamer)\n",
    "        optimizer.zero_grad()\n",
    "        yhat = model(x)\n",
    "        loss = lossfn(yhat, y)\n",
    "        loss.backward()\n",
    "        optimizer.step()\n",
    "        train_loss += loss.item()\n",
    "    return train_loss\n",
    "\n",
    "def validate(model, validstreamer, lossfn, metric, steps):\n",
    "    model.eval()\n",
    "    valid_loss: float = 0.0\n",
    "    acc: float = 0.0\n",
    "    with torch.no_grad():\n",
    "        for _ in range(steps):\n",
    "            x, y = next(validstreamer)\n",
    "            yhat = model(x)\n",
    "            loss = lossfn(yhat, y)\n",
    "            valid_loss += loss.item()\n",
    "            acc += metric(y, yhat)\n",
    "    acc /= steps\n",
    "    return valid_loss, acc"
   ]
  },
  {
   "cell_type": "markdown",
   "id": "71637cf7",
   "metadata": {},
   "source": [
    "### Data\n",
    "You can pick the gestures dataset, which is pretty fast en easy to reach high accuracy on.\n",
    "You could also pick the flowers if you want to test images, or the ants/bees, or any other datasets from `mads_datasets` or even another set you like from [torchvision](https://pytorch.org/vision/0.8/datasets.html) or [torchtext](https://pytorch.org/text/stable/datasets.html#imdb).\n",
    "\n",
    "Keep in mind that your hardware will limit what you can do with the images; if you have a GPU or use a free GPU from google colab, it's much faster to run tests.\n",
    "\n",
    "<font color='green'>\n",
    "\n",
    "**Tasks performed:**\n",
    "- For this task we use the `GESTURES` dataset for GRU model and `FASHION` dataset for RESNET model from the `mads_datasets`.\n",
    "- `GESTURES` is a time-series data with x, y and z accelerometer data for 20 gestures.\n",
    "- `FASHION` is a image data with 60k images sized 28x28 pixels for 10 classes.\n",
    "- The `get_data` funciton is implemented with MLtrainer, similar to our previous lessons to get the data.\n",
    "- The `get_data` function will handle the condition of whether we require time-series data or image data through an if-statement.\n",
    "- The image data requires few extra steps, like data augmentation. So, added the augmentation process for the image dataset in the next code-section.\n",
    "\n",
    "</font>\n"
   ]
  },
  {
   "cell_type": "code",
   "execution_count": 3,
   "id": "3513a5a1",
   "metadata": {},
   "outputs": [],
   "source": [
    "from torchvision import transforms\n",
    "data_transforms = {\n",
    "    'train': transforms.Compose([\n",
    "        transforms.RandomResizedCrop(224),\n",
    "        transforms.RandomHorizontalFlip(),\n",
    "        transforms.Normalize([0.485, 0.456, 0.406], [0.229, 0.224, 0.225])\n",
    "    ]),\n",
    "    'val': transforms.Compose([\n",
    "        transforms.Resize(256),\n",
    "        transforms.CenterCrop(224),\n",
    "        transforms.Normalize([0.485, 0.456, 0.406], [0.229, 0.224, 0.225])\n",
    "    ]),\n",
    "}\n",
    "\n",
    "class AugmentPreprocessor():\n",
    "    def __init__(self, transform):\n",
    "        self.transform = transform\n",
    "    def __call__(self, batch: list[tuple]) -> tuple[torch.Tensor, torch.Tensor]:\n",
    "        X, y = zip(*batch)\n",
    "        X = [self.transform(x) for x in X]\n",
    "        return torch.stack(X), torch.stack(y)"
   ]
  },
  {
   "cell_type": "code",
   "execution_count": 4,
   "id": "22bb52ba",
   "metadata": {},
   "outputs": [],
   "source": [
    "def get_data(tune_dir, dataname):\n",
    "    from filelock import FileLock\n",
    "    from mads_datasets import DatasetFactoryProvider, DatasetType\n",
    "    from mltrainer.preprocessors import PaddedPreprocessor\n",
    "    from mads_datasets import DatasetFactoryProvider, DatasetType\n",
    "    with FileLock(tune_dir / \".lock\"):\n",
    "        # we lock the datadir to avoid parallel instances trying to\n",
    "        # access the datadir\n",
    "        if dataname == 'GRU':\n",
    "            preprocessor = PaddedPreprocessor()\n",
    "            datasetfactory = DatasetFactoryProvider.create_factory(DatasetType.GESTURES)\n",
    "            streamers = datasetfactory.create_datastreamer(\n",
    "                batchsize=32, preprocessor=preprocessor\n",
    "            )\n",
    "            train = streamers[\"train\"]\n",
    "            valid = streamers[\"valid\"]\n",
    "\n",
    "        elif dataname == 'RESNET':\n",
    "            # Loading image data\n",
    "            datasetfactory = DatasetFactoryProvider.create_factory(DatasetType.FLOWERS)\n",
    "            streamers = datasetfactory.create_datastreamer(batchsize=32)\n",
    "            trainprocessor= AugmentPreprocessor(data_transforms[\"train\"])\n",
    "            validprocessor = AugmentPreprocessor(data_transforms[\"val\"])\n",
    "            train = streamers[\"train\"]\n",
    "            valid = streamers[\"valid\"]\n",
    "            train.preprocessor = trainprocessor\n",
    "            valid.preprocessor = validprocessor\n",
    "        \n",
    "    return train, valid"
   ]
  },
  {
   "cell_type": "markdown",
   "id": "5f7683c6",
   "metadata": {},
   "source": [
    "## Create a model\n",
    "We have worked with a few types of layers:\n",
    "- linear\n",
    "- conv2d\n",
    "- RNNs (GRU, LSTM)\n",
    "- dropout, batchnorm\n",
    "\n",
    "and we have also seen architectures like resnet (skiplayers), squeeze-excite and googlenet (inception).\n",
    "It's up to you to create a configurable model now that can be hypertuned.\n",
    "\n",
    "<font color='green'>\n",
    "\n",
    "## Creating model for the parameter search\n",
    "- For the purpose of the completeness of the excercise. I will be using GRU and a RESNET model to perform the parameter search.\n",
    "- Both the models will be used for parameter search. \n",
    "- I have tried to make these models configurable through `gin-config`, but it is not working with `tune` library.\n",
    "- It is also not necessary to make a configurable model, as we will be searching for parameters. So, defining one parameter through config file, and getting overridden by parameter search algorithm.\n",
    "\n",
    "</font>"
   ]
  },
  {
   "cell_type": "markdown",
   "id": "3bb7ba57",
   "metadata": {},
   "source": [
    "<font color='green'>\n",
    "\n",
    "##### **Defining GRUmodel.**\n",
    "\n",
    "- The `GRU` model is defined in the following code section.\n",
    "- It will take config dictonary as an argument and built a GRU model.\n",
    "- For this model, we will search for `hidden_size`, `num_layers`, and `dropout` variables.\n",
    "\n",
    "</font>"
   ]
  },
  {
   "cell_type": "code",
   "execution_count": 5,
   "id": "873a1840",
   "metadata": {},
   "outputs": [],
   "source": [
    "class GRUmodel(nn.Module):\n",
    "    def __init__(\n",
    "        self,\n",
    "        config: dict,\n",
    "    ) -> None:\n",
    "        super().__init__()\n",
    "        self.rnn = nn.GRU(\n",
    "            input_size=config[\"input_size\"],\n",
    "            hidden_size=int(config[\"hidden_size\"]),\n",
    "            dropout=config[\"dropout\"],\n",
    "            batch_first=True,\n",
    "            num_layers=int(config[\"num_layers\"]),\n",
    "        )\n",
    "        self.linear = nn.Linear(int(config[\"hidden_size\"]), config[\"output_size\"])\n",
    "\n",
    "    def forward(self, x):\n",
    "        x, _ = self.rnn(x)\n",
    "        last_step = x[:, -1, :]\n",
    "        yhat = self.linear(last_step)\n",
    "        return yhat"
   ]
  },
  {
   "cell_type": "markdown",
   "id": "c6dce9c4",
   "metadata": {},
   "source": [
    "<font color='green'>\n",
    "\n",
    "##### **Defining RESNET model.**\n",
    "\n",
    "- The `Resnet` model is defined in the following code section.\n",
    "- First, we import the trained weights from the torch repository.\n",
    "- Then, we freeze the trained model weights to make it converge faster.\n",
    "- Lastly, we define a linear layer to make the last classification.\n",
    "- For this model, we will search for `fc_layer` and `dropout` variables.\n",
    "\n",
    "</font>\n"
   ]
  },
  {
   "cell_type": "code",
   "execution_count": 25,
   "id": "db1410e2",
   "metadata": {},
   "outputs": [],
   "source": [
    "import torchvision.models as models\n",
    "from torchvision.models import ResNet18_Weights\n",
    "\n",
    "class ResNetModel(nn.Module):\n",
    "    def __init__(self, config) -> None:\n",
    "        super().__init__()\n",
    "        self.resnet = models.resnet18(weights=ResNet18_Weights.DEFAULT)  # Load pretrained ResNet18\n",
    "\n",
    "        for name, param in self.resnet.named_parameters():\n",
    "            param.requires_grad = False\n",
    "        # Modify the final fully connected layer\n",
    "        in_features = self.resnet.fc.in_features\n",
    "        self.resnet.fc = nn.Sequential(\n",
    "                            nn.Linear(in_features, int(config['fc_layer'])), \n",
    "                            nn.ReLU(), \n",
    "                            nn.Dropout(config['dropout']), \n",
    "                            nn.Linear(int(config['fc_layer']), int(config['output_size']))\n",
    "                        )\n",
    "\n",
    "    def forward(self, x):\n",
    "        return self.resnet(x)"
   ]
  },
  {
   "cell_type": "markdown",
   "id": "b85115c6",
   "metadata": {},
   "source": [
    "\n",
    "<font color='green'>\n",
    "\n",
    "We will now define a function to used to serach the best parameters for our method. This function will first loads the data with a lock then creates the model, after that it trains and validates the model and finally reports the results to ray.\n",
    "</font>\n"
   ]
  },
  {
   "cell_type": "code",
   "execution_count": 26,
   "id": "5f754f1f",
   "metadata": {},
   "outputs": [],
   "source": [
    "tune_dir = Path(\"models/ray/\").resolve()\n",
    "MAX_EPOCHS = 5\n",
    "N_EXPERIMENTS = 18"
   ]
  },
  {
   "cell_type": "code",
   "execution_count": 27,
   "id": "4e259cb6",
   "metadata": {},
   "outputs": [],
   "source": [
    "def tune_model(config: dict):\n",
    "    from mltrainer.metrics import Accuracy\n",
    "\n",
    "    # load data\n",
    "    train, valid = get_data(config[\"tune_dir\"], config[\"model_name\"])\n",
    "    trainsteps = len(train)\n",
    "    validsteps = len(valid)\n",
    "    trainstreamer = train.stream()\n",
    "    validstreamer = valid.stream()\n",
    "\n",
    "    # create model with config\n",
    "    if config[\"model_name\"] == \"GRU\":\n",
    "        model = GRUmodel(config)\n",
    "    elif config[\"model_name\"] == \"RESNET\":\n",
    "        model = ResNetModel(config)\n",
    "\n",
    "    optimizer = optim.Adam(model.parameters(), lr=0.001)\n",
    "    loss_fn = torch.nn.CrossEntropyLoss()\n",
    "    metric = Accuracy()\n",
    "\n",
    "    for _ in range(config[\"epochs\"]):\n",
    "        # train and validate\n",
    "        train_loss = train_fn(model, trainstreamer, loss_fn, optimizer, trainsteps)\n",
    "        valid_loss, accuracy = validate(model, validstreamer, loss_fn, metric, validsteps)\n",
    "\n",
    "        # report to ray\n",
    "        ray.train.report({\n",
    "            \"valid_loss\": valid_loss / validsteps,\n",
    "            \"train_loss\": train_loss / trainsteps,\n",
    "            \"accuracy\" : accuracy.cpu().detach().numpy(), # edit to also work with cuda ('ray' does not work with Tensor object)\n",
    "            })\n"
   ]
  },
  {
   "cell_type": "code",
   "execution_count": 28,
   "id": "ccb940bc",
   "metadata": {},
   "outputs": [],
   "source": [
    "def plot_contour(df, x, y, z, start=0.90, end=1.0, size=0.01):\n",
    "    fig = go.Figure()\n",
    "\n",
    "    fig.add_trace(\n",
    "        go.Contour(\n",
    "            z=df[z],\n",
    "            x=df[x],\n",
    "            y=df[y],\n",
    "            contours=dict(\n",
    "                coloring='heatmap',\n",
    "                showlabels=True,  # show labels on contours\n",
    "                start=start,       # start of the contour range\n",
    "                end=end,          # end of the contour range\n",
    "                size=size,\n",
    "            ),\n",
    "            colorscale=\"plasma\",\n",
    "            colorbar=dict(\n",
    "                title='Accuracy'\n",
    "            )\n",
    "        )\n",
    "    )\n",
    "\n",
    "    fig.add_trace(\n",
    "        go.Scatter(\n",
    "            x=df[x],\n",
    "            y=df[y],\n",
    "            mode='markers',\n",
    "            marker=dict(\n",
    "                color='black',\n",
    "                size=8,\n",
    "                symbol='circle'\n",
    "            ),\n",
    "            customdata=df['accuracy'],  # Pass accuracy values for hover text\n",
    "            hovertemplate=(\n",
    "                'Hidden Size: %{x}<br>'\n",
    "                'Dropout: %{y:.2f}<br>'\n",
    "                'Accuracy: %{customdata:.4f}<extra></extra>'\n",
    "            ),\n",
    "            name='Data Points'\n",
    "        )\n",
    "    )\n",
    "\n",
    "    fig.update_layout(\n",
    "        title=\"Contour Plot\",\n",
    "        xaxis_title=\"Hidden Size\",\n",
    "        yaxis_title=\"Dropout\",\n",
    "        xaxis=dict(showgrid=False),  # Remove x-axis grid lines\n",
    "        yaxis=dict(showgrid=False),\n",
    "        plot_bgcolor='white',        # Set background color to white\n",
    "        paper_bgcolor='white'\n",
    "    )\n",
    "\n",
    "    fig.show()"
   ]
  },
  {
   "cell_type": "markdown",
   "id": "67773c96",
   "metadata": {},
   "source": [
    "<font color='green'>\n",
    "\n",
    "## Bayes search \n",
    "\n",
    "We will perform the Bayes search on the `dropout` and `hidden_size` for the provided model. \n",
    "\n",
    "As the dropout directly dependent on the number of hidden neurons in the model, so it will be a intresting to visualize the relations of these two hyper-parameters. Bayes search takes the continous values of the parameters to search, hence the dropout will work as it is, whereas the hidden_size values are casted within model function to make it work.\n",
    "\n",
    "- The value of dropout range from 0 to 1.0 (where 1.0 to drops all the neurons from learning)\n",
    "- Whereas, the value of hidden_size ranges from 16 to 512. In practical, the value of hidden_size should in a multiple of 2 ranging from 16 to 512, but in Bayes search we are complied to use the 'uniform' search between those ranging without explicitly mentioning the factor 2 value.\n",
    "\n",
    "</font>\n"
   ]
  },
  {
   "cell_type": "markdown",
   "id": "6fdfc984",
   "metadata": {},
   "source": [
    "<font color='green'>\n",
    "To make sure that ray uses less RAM. Currently, it is set to use 1GB memory.\n",
    "</font>"
   ]
  },
  {
   "cell_type": "code",
   "execution_count": null,
   "id": "5d595c65",
   "metadata": {},
   "outputs": [],
   "source": [
    "ray.init(object_store_memory=10**9)"
   ]
  },
  {
   "cell_type": "code",
   "execution_count": 11,
   "id": "a4a1f36a",
   "metadata": {},
   "outputs": [
    {
     "data": {
      "text/html": [
       "<div class=\"tuneStatus\">\n",
       "  <div style=\"display: flex;flex-direction: row\">\n",
       "    <div style=\"display: flex;flex-direction: column;\">\n",
       "      <h3>Tune Status</h3>\n",
       "      <table>\n",
       "<tbody>\n",
       "<tr><td>Current time:</td><td>2025-02-18 07:08:54</td></tr>\n",
       "<tr><td>Running for: </td><td>00:17:36.95        </td></tr>\n",
       "<tr><td>Memory:      </td><td>6.6/31.2 GiB       </td></tr>\n",
       "</tbody>\n",
       "</table>\n",
       "    </div>\n",
       "    <div class=\"vDivider\"></div>\n",
       "    <div class=\"systemInfo\">\n",
       "      <h3>System Info</h3>\n",
       "      Using FIFO scheduling algorithm.<br>Logical resource usage: 1.0/12 CPUs, 0/1 GPUs (0.0/1.0 accelerator_type:G)\n",
       "    </div>\n",
       "    \n",
       "  </div>\n",
       "  <div class=\"hDivider\"></div>\n",
       "  <div class=\"trialStatus\">\n",
       "    <h3>Trial Status</h3>\n",
       "    <table>\n",
       "<thead>\n",
       "<tr><th>Trial name         </th><th>status    </th><th>loc              </th><th style=\"text-align: right;\">  dropout</th><th style=\"text-align: right;\">  hidden_size</th><th style=\"text-align: right;\">  num_layers</th><th style=\"text-align: right;\">  iter</th><th style=\"text-align: right;\">  total time (s)</th><th style=\"text-align: right;\">  valid_loss</th><th style=\"text-align: right;\">  train_loss</th></tr>\n",
       "</thead>\n",
       "<tbody>\n",
       "<tr><td>tune_model_d8a6fd18</td><td>TERMINATED</td><td>192.168.0.5:27677</td><td style=\"text-align: right;\">0.37454  </td><td style=\"text-align: right;\">     487.554 </td><td style=\"text-align: right;\">     6.12396</td><td style=\"text-align: right;\">     5</td><td style=\"text-align: right;\">        304.864 </td><td style=\"text-align: right;\">   0.659732 </td><td style=\"text-align: right;\">   0.661849 </td></tr>\n",
       "<tr><td>tune_model_b2a42774</td><td>TERMINATED</td><td>192.168.0.5:27730</td><td style=\"text-align: right;\">0.598658 </td><td style=\"text-align: right;\">      93.3852</td><td style=\"text-align: right;\">     2.09196</td><td style=\"text-align: right;\">     5</td><td style=\"text-align: right;\">         13.3871</td><td style=\"text-align: right;\">   0.839639 </td><td style=\"text-align: right;\">   1.05621  </td></tr>\n",
       "<tr><td>tune_model_e2afa840</td><td>TERMINATED</td><td>192.168.0.5:27804</td><td style=\"text-align: right;\">0.0580836</td><td style=\"text-align: right;\">     445.623 </td><td style=\"text-align: right;\">     5.20781</td><td style=\"text-align: right;\">     5</td><td style=\"text-align: right;\">        226.25  </td><td style=\"text-align: right;\">   0.161848 </td><td style=\"text-align: right;\">   0.139989 </td></tr>\n",
       "<tr><td>tune_model_4625aefd</td><td>TERMINATED</td><td>192.168.0.5:27861</td><td style=\"text-align: right;\">0.708073 </td><td style=\"text-align: right;\">      26.2099</td><td style=\"text-align: right;\">     7.78937</td><td style=\"text-align: right;\">     5</td><td style=\"text-align: right;\">         26.1603</td><td style=\"text-align: right;\">   2.1678   </td><td style=\"text-align: right;\">   2.27585  </td></tr>\n",
       "<tr><td>tune_model_e312683a</td><td>TERMINATED</td><td>192.168.0.5:27929</td><td style=\"text-align: right;\">0.832443 </td><td style=\"text-align: right;\">     121.32  </td><td style=\"text-align: right;\">     2.27277</td><td style=\"text-align: right;\">     5</td><td style=\"text-align: right;\">         16.2824</td><td style=\"text-align: right;\">   0.993093 </td><td style=\"text-align: right;\">   1.10923  </td></tr>\n",
       "<tr><td>tune_model_946d2bf7</td><td>TERMINATED</td><td>192.168.0.5:28322</td><td style=\"text-align: right;\">0.991924 </td><td style=\"text-align: right;\">     398.137 </td><td style=\"text-align: right;\">     8      </td><td style=\"text-align: right;\">     5</td><td style=\"text-align: right;\">        735.389 </td><td style=\"text-align: right;\">   3.00346  </td><td style=\"text-align: right;\">   3.09289  </td></tr>\n",
       "<tr><td>tune_model_9c708b96</td><td>TERMINATED</td><td>192.168.0.5:28372</td><td style=\"text-align: right;\">0.113046 </td><td style=\"text-align: right;\">     446.418 </td><td style=\"text-align: right;\">     4.3354 </td><td style=\"text-align: right;\">     5</td><td style=\"text-align: right;\">        507.076 </td><td style=\"text-align: right;\">   0.0899314</td><td style=\"text-align: right;\">   0.105433 </td></tr>\n",
       "<tr><td>tune_model_37703843</td><td>TERMINATED</td><td>192.168.0.5:28432</td><td style=\"text-align: right;\">0.265604 </td><td style=\"text-align: right;\">     446.785 </td><td style=\"text-align: right;\">     5.14236</td><td style=\"text-align: right;\">     5</td><td style=\"text-align: right;\">        617.54  </td><td style=\"text-align: right;\">   0.267396 </td><td style=\"text-align: right;\">   0.286652 </td></tr>\n",
       "<tr><td>tune_model_08a34b76</td><td>TERMINATED</td><td>192.168.0.5:28486</td><td style=\"text-align: right;\">0.602507 </td><td style=\"text-align: right;\">     445.459 </td><td style=\"text-align: right;\">     6.29124</td><td style=\"text-align: right;\">     5</td><td style=\"text-align: right;\">        716.024 </td><td style=\"text-align: right;\">   1.33644  </td><td style=\"text-align: right;\">   1.44467  </td></tr>\n",
       "<tr><td>tune_model_4e6992ee</td><td>TERMINATED</td><td>192.168.0.5:28541</td><td style=\"text-align: right;\">1        </td><td style=\"text-align: right;\">     398.246 </td><td style=\"text-align: right;\">     1      </td><td style=\"text-align: right;\">     5</td><td style=\"text-align: right;\">         88.4372</td><td style=\"text-align: right;\">   0.330255 </td><td style=\"text-align: right;\">   0.189432 </td></tr>\n",
       "<tr><td>tune_model_695cc06d</td><td>TERMINATED</td><td>192.168.0.5:28598</td><td style=\"text-align: right;\">0.384501 </td><td style=\"text-align: right;\">     445.793 </td><td style=\"text-align: right;\">     6.27448</td><td style=\"text-align: right;\">     5</td><td style=\"text-align: right;\">        701.968 </td><td style=\"text-align: right;\">   0.320478 </td><td style=\"text-align: right;\">   0.250394 </td></tr>\n",
       "<tr><td>tune_model_2049fc9b</td><td>TERMINATED</td><td>192.168.0.5:28657</td><td style=\"text-align: right;\">0.181142 </td><td style=\"text-align: right;\">     398.13  </td><td style=\"text-align: right;\">     8      </td><td style=\"text-align: right;\">     5</td><td style=\"text-align: right;\">        721.268 </td><td style=\"text-align: right;\">   2.17568  </td><td style=\"text-align: right;\">   1.93512  </td></tr>\n",
       "<tr><td>tune_model_35d5a483</td><td>TERMINATED</td><td>192.168.0.5:28720</td><td style=\"text-align: right;\">0.18202  </td><td style=\"text-align: right;\">     446.685 </td><td style=\"text-align: right;\">     4.70294</td><td style=\"text-align: right;\">     5</td><td style=\"text-align: right;\">        521     </td><td style=\"text-align: right;\">   0.134015 </td><td style=\"text-align: right;\">   0.0640132</td></tr>\n",
       "<tr><td>tune_model_96e1a124</td><td>TERMINATED</td><td>192.168.0.5:28847</td><td style=\"text-align: right;\">0        </td><td style=\"text-align: right;\">     315.684 </td><td style=\"text-align: right;\">     8      </td><td style=\"text-align: right;\">     5</td><td style=\"text-align: right;\">        545.877 </td><td style=\"text-align: right;\">   1.32112  </td><td style=\"text-align: right;\">   1.35855  </td></tr>\n",
       "<tr><td>tune_model_0bf3a4af</td><td>TERMINATED</td><td>192.168.0.5:29145</td><td style=\"text-align: right;\">1        </td><td style=\"text-align: right;\">     463.098 </td><td style=\"text-align: right;\">     1      </td><td style=\"text-align: right;\">     5</td><td style=\"text-align: right;\">        104.604 </td><td style=\"text-align: right;\">   0.164701 </td><td style=\"text-align: right;\">   0.185875 </td></tr>\n",
       "<tr><td>tune_model_b710cf34</td><td>TERMINATED</td><td>192.168.0.5:29228</td><td style=\"text-align: right;\">0        </td><td style=\"text-align: right;\">     428.785 </td><td style=\"text-align: right;\">     1      </td><td style=\"text-align: right;\">     5</td><td style=\"text-align: right;\">         80.1542</td><td style=\"text-align: right;\">   0.180631 </td><td style=\"text-align: right;\">   0.146549 </td></tr>\n",
       "<tr><td>tune_model_d98d7477</td><td>TERMINATED</td><td>192.168.0.5:29325</td><td style=\"text-align: right;\">0.802236 </td><td style=\"text-align: right;\">     425.575 </td><td style=\"text-align: right;\">     1.05465</td><td style=\"text-align: right;\">     5</td><td style=\"text-align: right;\">         74.6333</td><td style=\"text-align: right;\">   0.353769 </td><td style=\"text-align: right;\">   0.143407 </td></tr>\n",
       "<tr><td>tune_model_0b0cf0f3</td><td>TERMINATED</td><td>192.168.0.5:29382</td><td style=\"text-align: right;\">0.478608 </td><td style=\"text-align: right;\">     450.222 </td><td style=\"text-align: right;\">     1.63403</td><td style=\"text-align: right;\">     5</td><td style=\"text-align: right;\">         71.8773</td><td style=\"text-align: right;\">   0.16097  </td><td style=\"text-align: right;\">   0.146493 </td></tr>\n",
       "</tbody>\n",
       "</table>\n",
       "  </div>\n",
       "</div>\n",
       "<style>\n",
       ".tuneStatus {\n",
       "  color: var(--jp-ui-font-color1);\n",
       "}\n",
       ".tuneStatus .systemInfo {\n",
       "  display: flex;\n",
       "  flex-direction: column;\n",
       "}\n",
       ".tuneStatus td {\n",
       "  white-space: nowrap;\n",
       "}\n",
       ".tuneStatus .trialStatus {\n",
       "  display: flex;\n",
       "  flex-direction: column;\n",
       "}\n",
       ".tuneStatus h3 {\n",
       "  font-weight: bold;\n",
       "}\n",
       ".tuneStatus .hDivider {\n",
       "  border-bottom-width: var(--jp-border-width);\n",
       "  border-bottom-color: var(--jp-border-color0);\n",
       "  border-bottom-style: solid;\n",
       "}\n",
       ".tuneStatus .vDivider {\n",
       "  border-left-width: var(--jp-border-width);\n",
       "  border-left-color: var(--jp-border-color0);\n",
       "  border-left-style: solid;\n",
       "  margin: 0.5em 1em 0.5em 1em;\n",
       "}\n",
       "</style>\n"
      ],
      "text/plain": [
       "<IPython.core.display.HTML object>"
      ]
     },
     "metadata": {},
     "output_type": "display_data"
    },
    {
     "name": "stderr",
     "output_type": "stream",
     "text": [
      "\u001b[33m(raylet)\u001b[0m bash: /home/sarmad/anaconda3/lib/libtinfo.so.6: no version information available (required by bash)\n",
      "\u001b[36m(tune_model pid=27677)\u001b[0m 2025-02-18 06:51:21.156 | INFO     | mads_datasets.base:download_data:121 - Folder already exists at /home/sarmad/.cache/mads_datasets/gestures\n",
      "  0%|\u001b[38;2;30;71;6m          \u001b[0m| 0/2600 [00:00<?, ?it/s]\n",
      " 22%|\u001b[38;2;30;71;6m██▏       \u001b[0m| 573/2600 [00:00<00:00, 5725.11it/s]\n",
      " 44%|\u001b[38;2;30;71;6m████▍     \u001b[0m| 1153/2600 [00:00<00:00, 5767.32it/s]\n",
      " 67%|\u001b[38;2;30;71;6m██████▋   \u001b[0m| 1741/2600 [00:00<00:00, 5817.59it/s]\n",
      "100%|\u001b[38;2;30;71;6m██████████\u001b[0m| 2600/2600 [00:00<00:00, 5831.88it/s]\n",
      "  0%|\u001b[38;2;30;71;6m          \u001b[0m| 0/651 [00:00<?, ?it/s]\n",
      " 92%|\u001b[38;2;30;71;6m█████████▏\u001b[0m| 597/651 [00:00<00:00, 5964.97it/s]\n",
      "100%|\u001b[38;2;30;71;6m██████████\u001b[0m| 651/651 [00:00<00:00, 5938.73it/s]\n",
      "\u001b[33m(raylet)\u001b[0m bash: /home/sarmad/anaconda3/lib/libtinfo.so.6: no version information available (required by bash)\u001b[32m [repeated 2x across cluster] (Ray deduplicates logs by default. Set RAY_DEDUP_LOGS=0 to disable log deduplication, or see https://docs.ray.io/en/master/ray-observability/user-guides/configure-logging.html#log-deduplication for more options.)\u001b[0m\n",
      " 20%|\u001b[38;2;30;71;6m██        \u001b[0m| 532/2600 [00:00<00:00, 5312.13it/s]\n",
      " 41%|\u001b[38;2;30;71;6m████      \u001b[0m| 1069/2600 [00:00<00:00, 5342.27it/s]\n",
      " 62%|\u001b[38;2;30;71;6m██████▏   \u001b[0m| 1604/2600 [00:00<00:00, 5313.20it/s]\n",
      " 82%|\u001b[38;2;30;71;6m████████▏ \u001b[0m| 2136/2600 [00:00<00:00, 5302.65it/s]\n",
      "100%|\u001b[38;2;30;71;6m██████████\u001b[0m| 2600/2600 [00:00<00:00, 5296.08it/s]\n",
      "100%|\u001b[38;2;30;71;6m██████████\u001b[0m| 651/651 [00:00<00:00, 5320.50it/s]\n",
      "\u001b[36m(tune_model pid=27804)\u001b[0m 2025-02-18 06:51:26.808 | INFO     | mads_datasets.base:download_data:121 - Folder already exists at /home/sarmad/.cache/mads_datasets/gestures\u001b[32m [repeated 2x across cluster]\u001b[0m\n",
      "  0%|\u001b[38;2;30;71;6m          \u001b[0m| 0/651 [00:00<?, ?it/s]\u001b[32m [repeated 2x across cluster]\u001b[0m\n",
      " 20%|\u001b[38;2;30;71;6m█▉        \u001b[0m| 512/2600 [00:00<00:00, 5110.94it/s]\n",
      " 40%|\u001b[38;2;30;71;6m███▉      \u001b[0m| 1027/2600 [00:00<00:00, 5133.19it/s]\n",
      " 59%|\u001b[38;2;30;71;6m█████▉    \u001b[0m| 1541/2600 [00:00<00:00, 5125.49it/s]\n",
      " 80%|\u001b[38;2;30;71;6m███████▉  \u001b[0m| 2067/2600 [00:00<00:00, 5177.28it/s]\n",
      "100%|\u001b[38;2;30;71;6m██████████\u001b[0m| 2600/2600 [00:00<00:00, 5208.84it/s]\n",
      "100%|\u001b[38;2;30;71;6m██████████\u001b[0m| 651/651 [00:00<00:00, 5243.68it/s]\n",
      "\u001b[33m(raylet)\u001b[0m bash: /home/sarmad/anaconda3/lib/libtinfo.so.6: no version information available (required by bash)\u001b[32m [repeated 2x across cluster]\u001b[0m\n",
      " 18%|\u001b[38;2;30;71;6m█▊        \u001b[0m| 468/2600 [00:00<00:00, 4676.80it/s]\n",
      " 36%|\u001b[38;2;30;71;6m███▌      \u001b[0m| 936/2600 [00:00<00:00, 4577.38it/s]\n",
      " 54%|\u001b[38;2;30;71;6m█████▎    \u001b[0m| 1394/2600 [00:00<00:00, 4512.51it/s]\n",
      " 73%|\u001b[38;2;30;71;6m███████▎  \u001b[0m| 1888/2600 [00:00<00:00, 4672.93it/s]\n",
      " 92%|\u001b[38;2;30;71;6m█████████▏\u001b[0m| 2395/2600 [00:00<00:00, 4812.69it/s]\n",
      "100%|\u001b[38;2;30;71;6m██████████\u001b[0m| 2600/2600 [00:00<00:00, 4706.48it/s]\n",
      "100%|\u001b[38;2;30;71;6m██████████\u001b[0m| 651/651 [00:00<00:00, 4820.09it/s]\n",
      "\u001b[36m(tune_model pid=27929)\u001b[0m 2025-02-18 06:51:34.024 | INFO     | mads_datasets.base:download_data:121 - Folder already exists at /home/sarmad/.cache/mads_datasets/gestures\u001b[32m [repeated 2x across cluster]\u001b[0m\n",
      "  0%|\u001b[38;2;30;71;6m          \u001b[0m| 0/651 [00:00<?, ?it/s]\u001b[32m [repeated 4x across cluster]\u001b[0m\n",
      " 16%|\u001b[38;2;30;71;6m█▋        \u001b[0m| 429/2600 [00:00<00:00, 4287.59it/s]\n",
      " 35%|\u001b[38;2;30;71;6m███▍      \u001b[0m| 905/2600 [00:00<00:00, 4563.91it/s]\n",
      " 53%|\u001b[38;2;30;71;6m█████▎    \u001b[0m| 1375/2600 [00:00<00:00, 4625.10it/s]\n",
      " 71%|\u001b[38;2;30;71;6m███████   \u001b[0m| 1838/2600 [00:00<00:00, 4439.62it/s]\n",
      " 88%|\u001b[38;2;30;71;6m████████▊ \u001b[0m| 2288/2600 [00:00<00:00, 4457.62it/s]\n",
      "100%|\u001b[38;2;30;71;6m██████████\u001b[0m| 2600/2600 [00:00<00:00, 4475.15it/s]\n",
      "100%|\u001b[38;2;30;71;6m██████████\u001b[0m| 651/651 [00:00<00:00, 4529.70it/s]\n",
      "\u001b[33m(raylet)\u001b[0m bash: /home/sarmad/anaconda3/lib/libtinfo.so.6: no version information available (required by bash)\n",
      "  0%|\u001b[38;2;30;71;6m          \u001b[0m| 0/651 [00:00<?, ?it/s]\u001b[32m [repeated 2x across cluster]\u001b[0m\n",
      "\u001b[36m(tune_model pid=28322)\u001b[0m 2025-02-18 06:56:28.567 | INFO     | mads_datasets.base:download_data:121 - Folder already exists at /home/sarmad/.cache/mads_datasets/gestures\n",
      " 23%|\u001b[38;2;30;71;6m██▎       \u001b[0m| 586/2600 [00:00<00:00, 5853.03it/s]\n",
      " 45%|\u001b[38;2;30;71;6m████▌     \u001b[0m| 1172/2600 [00:00<00:00, 5794.50it/s]\n",
      " 67%|\u001b[38;2;30;71;6m██████▋   \u001b[0m| 1752/2600 [00:00<00:00, 5789.82it/s]\n",
      "100%|\u001b[38;2;30;71;6m██████████\u001b[0m| 2600/2600 [00:00<00:00, 5801.16it/s]\n",
      "100%|\u001b[38;2;30;71;6m██████████\u001b[0m| 651/651 [00:00<00:00, 5908.81it/s]\n",
      "\u001b[33m(raylet)\u001b[0m bash: /home/sarmad/anaconda3/lib/libtinfo.so.6: no version information available (required by bash)\u001b[32m [repeated 2x across cluster]\u001b[0m\n",
      "  0%|\u001b[38;2;30;71;6m          \u001b[0m| 0/651 [00:00<?, ?it/s]\u001b[32m [repeated 2x across cluster]\u001b[0m\n",
      " 22%|\u001b[38;2;30;71;6m██▏       \u001b[0m| 569/2600 [00:00<00:00, 5685.84it/s]\n",
      " 44%|\u001b[38;2;30;71;6m████▍     \u001b[0m| 1138/2600 [00:00<00:00, 5564.31it/s]\n",
      " 65%|\u001b[38;2;30;71;6m██████▌   \u001b[0m| 1695/2600 [00:00<00:00, 5385.12it/s]\n",
      " 86%|\u001b[38;2;30;71;6m████████▌ \u001b[0m| 2235/2600 [00:00<00:00, 5121.03it/s]\n",
      "100%|\u001b[38;2;30;71;6m██████████\u001b[0m| 2600/2600 [00:00<00:00, 5234.94it/s]\n",
      "100%|\u001b[38;2;30;71;6m██████████\u001b[0m| 651/651 [00:00<00:00, 5660.96it/s]\n",
      "\u001b[36m(tune_model pid=28432)\u001b[0m 2025-02-18 06:56:34.281 | INFO     | mads_datasets.base:download_data:121 - Folder already exists at /home/sarmad/.cache/mads_datasets/gestures\u001b[32m [repeated 2x across cluster]\u001b[0m\n",
      " 15%|\u001b[38;2;30;71;6m█▌        \u001b[0m| 390/2600 [00:00<00:00, 3898.05it/s]\n",
      " 34%|\u001b[38;2;30;71;6m███▍      \u001b[0m| 890/2600 [00:00<00:00, 4543.11it/s]\n",
      " 54%|\u001b[38;2;30;71;6m█████▍    \u001b[0m| 1407/2600 [00:00<00:00, 4828.27it/s]\n",
      " 74%|\u001b[38;2;30;71;6m███████▍  \u001b[0m| 1929/2600 [00:00<00:00, 4981.29it/s]\n",
      "100%|\u001b[38;2;30;71;6m██████████\u001b[0m| 2600/2600 [00:00<00:00, 4785.66it/s]\n",
      "100%|\u001b[38;2;30;71;6m██████████\u001b[0m| 651/651 [00:00<00:00, 4927.36it/s]\n",
      "\u001b[33m(raylet)\u001b[0m bash: /home/sarmad/anaconda3/lib/libtinfo.so.6: no version information available (required by bash)\u001b[32m [repeated 2x across cluster]\u001b[0m\n",
      "  0%|\u001b[38;2;30;71;6m          \u001b[0m| 0/651 [00:00<?, ?it/s]\u001b[32m [repeated 4x across cluster]\u001b[0m\n",
      " 19%|\u001b[38;2;30;71;6m█▊        \u001b[0m| 487/2600 [00:00<00:00, 4862.17it/s]\n",
      " 38%|\u001b[38;2;30;71;6m███▊      \u001b[0m| 982/2600 [00:00<00:00, 4906.51it/s]\n",
      " 57%|\u001b[38;2;30;71;6m█████▋    \u001b[0m| 1473/2600 [00:00<00:00, 4875.13it/s]\n",
      " 75%|\u001b[38;2;30;71;6m███████▌  \u001b[0m| 1961/2600 [00:00<00:00, 4846.47it/s]\n",
      "100%|\u001b[38;2;30;71;6m██████████\u001b[0m| 2600/2600 [00:00<00:00, 4751.83it/s]\n",
      " 77%|\u001b[38;2;30;71;6m███████▋  \u001b[0m| 503/651 [00:00<00:00, 5019.12it/s]\n",
      "\u001b[36m(tune_model pid=28486)\u001b[0m 2025-02-18 06:56:38.309 | INFO     | mads_datasets.base:download_data:121 - Folder already exists at /home/sarmad/.cache/mads_datasets/gestures\n",
      "100%|\u001b[38;2;30;71;6m██████████\u001b[0m| 651/651 [00:00<00:00, 4987.16it/s]\n",
      "\u001b[33m(raylet)\u001b[0m bash: /home/sarmad/anaconda3/lib/libtinfo.so.6: no version information available (required by bash)\n",
      "  0%|\u001b[38;2;30;71;6m          \u001b[0m| 0/651 [00:00<?, ?it/s]\u001b[32m [repeated 2x across cluster]\u001b[0m\n",
      "\u001b[36m(tune_model pid=28541)\u001b[0m 2025-02-18 06:56:43.446 | INFO     | mads_datasets.base:download_data:121 - Folder already exists at /home/sarmad/.cache/mads_datasets/gestures\n",
      " 16%|\u001b[38;2;30;71;6m█▌        \u001b[0m| 414/2600 [00:00<00:00, 4130.15it/s]\n",
      " 32%|\u001b[38;2;30;71;6m███▏      \u001b[0m| 841/2600 [00:00<00:00, 4208.83it/s]\n",
      " 49%|\u001b[38;2;30;71;6m████▊     \u001b[0m| 1262/2600 [00:00<00:00, 3959.74it/s]\n",
      " 66%|\u001b[38;2;30;71;6m██████▌   \u001b[0m| 1707/2600 [00:00<00:00, 4141.55it/s]\n",
      " 83%|\u001b[38;2;30;71;6m████████▎ \u001b[0m| 2153/2600 [00:00<00:00, 4249.95it/s]\n",
      "100%|\u001b[38;2;30;71;6m██████████\u001b[0m| 2600/2600 [00:00<00:00, 4237.11it/s]\n",
      "100%|\u001b[38;2;30;71;6m██████████\u001b[0m| 651/651 [00:00<00:00, 3787.51it/s]\n",
      "\u001b[36m(tune_model pid=28541)\u001b[0m /home/sarmad/anaconda3/envs/conda_kernel/lib/python3.11/site-packages/torch/nn/modules/rnn.py:83: UserWarning: dropout option adds dropout after all but last recurrent layer, so non-zero dropout expects num_layers greater than 1, but got dropout=1.0 and num_layers=1\n",
      "\u001b[36m(tune_model pid=28541)\u001b[0m   warnings.warn(\"dropout option adds dropout after all but last \"\n",
      "\u001b[33m(raylet)\u001b[0m bash: /home/sarmad/anaconda3/lib/libtinfo.so.6: no version information available (required by bash)\n",
      "  0%|\u001b[38;2;30;71;6m          \u001b[0m| 0/651 [00:00<?, ?it/s]\u001b[32m [repeated 2x across cluster]\u001b[0m\n",
      "\u001b[36m(tune_model pid=28598)\u001b[0m 2025-02-18 06:56:49.999 | INFO     | mads_datasets.base:download_data:121 - Folder already exists at /home/sarmad/.cache/mads_datasets/gestures\n",
      " 30%|\u001b[38;2;30;71;6m██▉       \u001b[0m| 776/2600 [00:00<00:00, 3902.14it/s]\n",
      " 45%|\u001b[38;2;30;71;6m████▍     \u001b[0m| 1167/2600 [00:00<00:00, 3868.23it/s]\n",
      " 60%|\u001b[38;2;30;71;6m██████    \u001b[0m| 1570/2600 [00:00<00:00, 3927.86it/s]\n",
      " 76%|\u001b[38;2;30;71;6m███████▌  \u001b[0m| 1963/2600 [00:00<00:00, 3832.89it/s]\n",
      " 90%|\u001b[38;2;30;71;6m█████████ \u001b[0m| 2353/2600 [00:00<00:00, 3850.83it/s]\n",
      "100%|\u001b[38;2;30;71;6m██████████\u001b[0m| 2600/2600 [00:00<00:00, 3822.28it/s]\n",
      " 58%|\u001b[38;2;30;71;6m█████▊    \u001b[0m| 376/651 [00:00<00:00, 3752.14it/s]\n",
      "100%|\u001b[38;2;30;71;6m██████████\u001b[0m| 651/651 [00:00<00:00, 3664.10it/s]\n",
      "\u001b[33m(raylet)\u001b[0m bash: /home/sarmad/anaconda3/lib/libtinfo.so.6: no version information available (required by bash)\n",
      "  0%|\u001b[38;2;30;71;6m          \u001b[0m| 0/651 [00:00<?, ?it/s]\u001b[32m [repeated 2x across cluster]\u001b[0m\n",
      "\u001b[36m(tune_model pid=28657)\u001b[0m 2025-02-18 06:56:55.759 | INFO     | mads_datasets.base:download_data:121 - Folder already exists at /home/sarmad/.cache/mads_datasets/gestures\n",
      "  6%|\u001b[38;2;30;71;6m▌         \u001b[0m| 156/2600 [00:00<00:01, 1557.32it/s]\n",
      " 16%|\u001b[38;2;30;71;6m█▌        \u001b[0m| 412/2600 [00:00<00:01, 2145.83it/s]\n",
      " 25%|\u001b[38;2;30;71;6m██▌       \u001b[0m| 651/2600 [00:00<00:00, 2257.00it/s]\n",
      " 34%|\u001b[38;2;30;71;6m███▍      \u001b[0m| 886/2600 [00:00<00:00, 2292.66it/s]\n",
      " 45%|\u001b[38;2;30;71;6m████▍     \u001b[0m| 1166/2600 [00:00<00:00, 2469.89it/s]\n",
      " 56%|\u001b[38;2;30;71;6m█████▌    \u001b[0m| 1462/2600 [00:00<00:00, 2635.71it/s]\n",
      " 70%|\u001b[38;2;30;71;6m███████   \u001b[0m| 1833/2600 [00:00<00:00, 2982.97it/s]\n",
      " 84%|\u001b[38;2;30;71;6m████████▍ \u001b[0m| 2181/2600 [00:00<00:00, 3140.18it/s]\n",
      "100%|\u001b[38;2;30;71;6m██████████\u001b[0m| 2600/2600 [00:00<00:00, 2828.24it/s]\n",
      " 44%|\u001b[38;2;30;71;6m████▍     \u001b[0m| 289/651 [00:00<00:00, 2886.76it/s]\n",
      "100%|\u001b[38;2;30;71;6m██████████\u001b[0m| 651/651 [00:00<00:00, 2879.95it/s]\n",
      "\u001b[36m(tune_model pid=28720)\u001b[0m 2025-02-18 06:57:04.236 | INFO     | mads_datasets.base:download_data:121 - Folder already exists at /home/sarmad/.cache/mads_datasets/gestures\n",
      "  0%|\u001b[38;2;30;71;6m          \u001b[0m| 0/651 [00:00<?, ?it/s]\u001b[32m [repeated 2x across cluster]\u001b[0m\n",
      "  6%|\u001b[38;2;30;71;6m▌         \u001b[0m| 143/2600 [00:00<00:01, 1426.32it/s]\n",
      " 13%|\u001b[38;2;30;71;6m█▎        \u001b[0m| 331/2600 [00:00<00:01, 1689.68it/s]\n",
      " 19%|\u001b[38;2;30;71;6m█▉        \u001b[0m| 501/2600 [00:00<00:01, 1693.41it/s]\n",
      " 28%|\u001b[38;2;30;71;6m██▊       \u001b[0m| 735/2600 [00:00<00:00, 1945.35it/s]\n",
      " 36%|\u001b[38;2;30;71;6m███▌      \u001b[0m| 930/2600 [00:00<00:00, 1784.66it/s]\n",
      " 45%|\u001b[38;2;30;71;6m████▌     \u001b[0m| 1177/2600 [00:00<00:00, 2003.55it/s]\n",
      " 59%|\u001b[38;2;30;71;6m█████▊    \u001b[0m| 1527/2600 [00:00<00:00, 2471.25it/s]\n",
      " 71%|\u001b[38;2;30;71;6m███████▏  \u001b[0m| 1856/2600 [00:00<00:00, 2720.94it/s]\n",
      " 82%|\u001b[38;2;30;71;6m████████▏ \u001b[0m| 2132/2600 [00:00<00:00, 2702.80it/s]\n",
      " 93%|\u001b[38;2;30;71;6m█████████▎\u001b[0m| 2406/2600 [00:01<00:00, 2712.79it/s]\n",
      "100%|\u001b[38;2;30;71;6m██████████\u001b[0m| 2600/2600 [00:01<00:00, 2372.20it/s]\n",
      " 40%|\u001b[38;2;30;71;6m████      \u001b[0m| 263/651 [00:00<00:00, 2626.52it/s]\n",
      "100%|\u001b[38;2;30;71;6m██████████\u001b[0m| 651/651 [00:00<00:00, 2894.64it/s]\n",
      "\u001b[33m(raylet)\u001b[0m bash: /home/sarmad/anaconda3/lib/libtinfo.so.6: no version information available (required by bash)\n",
      "  0%|\u001b[38;2;30;71;6m          \u001b[0m| 0/651 [00:00<?, ?it/s]\u001b[32m [repeated 2x across cluster]\u001b[0m\n",
      "\u001b[36m(tune_model pid=28847)\u001b[0m 2025-02-18 06:58:21.525 | INFO     | mads_datasets.base:download_data:121 - Folder already exists at /home/sarmad/.cache/mads_datasets/gestures\n",
      "  0%|\u001b[38;2;30;71;6m          \u001b[0m| 0/2600 [00:00<?, ?it/s]\n",
      "  9%|\u001b[38;2;30;71;6m▊         \u001b[0m| 223/2600 [00:00<00:01, 2228.33it/s]\n",
      " 17%|\u001b[38;2;30;71;6m█▋        \u001b[0m| 446/2600 [00:00<00:00, 2175.42it/s]\n",
      " 26%|\u001b[38;2;30;71;6m██▌       \u001b[0m| 664/2600 [00:00<00:01, 1751.38it/s]\n",
      " 35%|\u001b[38;2;30;71;6m███▌      \u001b[0m| 921/2600 [00:00<00:00, 2030.22it/s]\n",
      " 44%|\u001b[38;2;30;71;6m████▍     \u001b[0m| 1145/2600 [00:00<00:00, 2098.87it/s]\n",
      " 55%|\u001b[38;2;30;71;6m█████▍    \u001b[0m| 1421/2600 [00:00<00:00, 2308.85it/s]\n",
      " 66%|\u001b[38;2;30;71;6m██████▋   \u001b[0m| 1725/2600 [00:00<00:00, 2534.78it/s]\n",
      " 78%|\u001b[38;2;30;71;6m███████▊  \u001b[0m| 2040/2600 [00:00<00:00, 2724.06it/s]\n",
      " 89%|\u001b[38;2;30;71;6m████████▉ \u001b[0m| 2317/2600 [00:01<00:00, 2424.89it/s]\n",
      "100%|\u001b[38;2;30;71;6m██████████\u001b[0m| 2600/2600 [00:01<00:00, 2280.66it/s]\n",
      "  0%|\u001b[38;2;30;71;6m          \u001b[0m| 0/651 [00:00<?, ?it/s]\n",
      " 44%|\u001b[38;2;30;71;6m████▎     \u001b[0m| 284/651 [00:00<00:00, 2836.32it/s]\n",
      " 87%|\u001b[38;2;30;71;6m████████▋ \u001b[0m| 568/651 [00:00<00:00, 2482.28it/s]\n",
      "100%|\u001b[38;2;30;71;6m██████████\u001b[0m| 651/651 [00:00<00:00, 2089.92it/s]\n",
      "\u001b[33m(raylet)\u001b[0m bash: /home/sarmad/anaconda3/lib/libtinfo.so.6: no version information available (required by bash)\n",
      "\u001b[36m(tune_model pid=29145)\u001b[0m 2025-02-18 07:05:07.356 | INFO     | mads_datasets.base:download_data:121 - Folder already exists at /home/sarmad/.cache/mads_datasets/gestures\n",
      "  0%|\u001b[38;2;30;71;6m          \u001b[0m| 0/2600 [00:00<?, ?it/s]\n",
      " 12%|\u001b[38;2;30;71;6m█▏        \u001b[0m| 306/2600 [00:00<00:00, 3058.17it/s]\n",
      " 24%|\u001b[38;2;30;71;6m██▍       \u001b[0m| 634/2600 [00:00<00:00, 3187.44it/s]\n",
      " 37%|\u001b[38;2;30;71;6m███▋      \u001b[0m| 953/2600 [00:00<00:00, 2946.43it/s]\n",
      " 50%|\u001b[38;2;30;71;6m████▉     \u001b[0m| 1287/2600 [00:00<00:00, 3092.89it/s]\n",
      " 62%|\u001b[38;2;30;71;6m██████▏   \u001b[0m| 1599/2600 [00:00<00:00, 2768.33it/s]\n",
      " 72%|\u001b[38;2;30;71;6m███████▏  \u001b[0m| 1882/2600 [00:00<00:00, 2169.63it/s]\n",
      " 82%|\u001b[38;2;30;71;6m████████▏ \u001b[0m| 2119/2600 [00:00<00:00, 2071.58it/s]\n",
      " 90%|\u001b[38;2;30;71;6m████████▉ \u001b[0m| 2339/2600 [00:00<00:00, 1977.97it/s]\n",
      " 98%|\u001b[38;2;30;71;6m█████████▊\u001b[0m| 2545/2600 [00:01<00:00, 1816.91it/s]\n",
      "100%|\u001b[38;2;30;71;6m██████████\u001b[0m| 2600/2600 [00:01<00:00, 2232.60it/s]\n",
      "  0%|\u001b[38;2;30;71;6m          \u001b[0m| 0/651 [00:00<?, ?it/s]\n",
      " 29%|\u001b[38;2;30;71;6m██▉       \u001b[0m| 190/651 [00:00<00:00, 1887.99it/s]\n",
      " 64%|\u001b[38;2;30;71;6m██████▎   \u001b[0m| 414/651 [00:00<00:00, 2094.25it/s]\n",
      "100%|\u001b[38;2;30;71;6m██████████\u001b[0m| 651/651 [00:00<00:00, 1816.47it/s]\n",
      "\u001b[36m(tune_model pid=29145)\u001b[0m /home/sarmad/anaconda3/envs/conda_kernel/lib/python3.11/site-packages/torch/nn/modules/rnn.py:83: UserWarning: dropout option adds dropout after all but last recurrent layer, so non-zero dropout expects num_layers greater than 1, but got dropout=1.0 and num_layers=1\n",
      "\u001b[36m(tune_model pid=29145)\u001b[0m   warnings.warn(\"dropout option adds dropout after all but last \"\n",
      "\u001b[33m(raylet)\u001b[0m bash: /home/sarmad/anaconda3/lib/libtinfo.so.6: no version information available (required by bash)\n",
      "\u001b[36m(tune_model pid=29228)\u001b[0m 2025-02-18 07:05:53.082 | INFO     | mads_datasets.base:download_data:121 - Folder already exists at /home/sarmad/.cache/mads_datasets/gestures\n",
      "  0%|\u001b[38;2;30;71;6m          \u001b[0m| 0/2600 [00:00<?, ?it/s]\n",
      " 13%|\u001b[38;2;30;71;6m█▎        \u001b[0m| 327/2600 [00:00<00:00, 3255.94it/s]\n",
      " 39%|\u001b[38;2;30;71;6m███▉      \u001b[0m| 1020/2600 [00:00<00:00, 3428.27it/s]\n",
      " 52%|\u001b[38;2;30;71;6m█████▏    \u001b[0m| 1363/2600 [00:00<00:00, 3110.54it/s]\n",
      " 65%|\u001b[38;2;30;71;6m██████▍   \u001b[0m| 1678/2600 [00:00<00:00, 2462.97it/s]\n",
      " 75%|\u001b[38;2;30;71;6m███████▍  \u001b[0m| 1943/2600 [00:00<00:00, 2067.58it/s]\n",
      " 83%|\u001b[38;2;30;71;6m████████▎ \u001b[0m| 2169/2600 [00:00<00:00, 1780.95it/s]\n",
      " 91%|\u001b[38;2;30;71;6m█████████ \u001b[0m| 2363/2600 [00:01<00:00, 1672.81it/s]\n",
      " 98%|\u001b[38;2;30;71;6m█████████▊\u001b[0m| 2540/2600 [00:01<00:00, 1546.54it/s]\n",
      "100%|\u001b[38;2;30;71;6m██████████\u001b[0m| 2600/2600 [00:01<00:00, 2046.21it/s]\n",
      " 40%|\u001b[38;2;30;71;6m███▉      \u001b[0m| 258/651 [00:00<00:00, 2576.18it/s]\n",
      " 79%|\u001b[38;2;30;71;6m███████▉  \u001b[0m| 516/651 [00:00<00:00, 2057.12it/s]\n",
      "100%|\u001b[38;2;30;71;6m██████████\u001b[0m| 651/651 [00:00<00:00, 2100.56it/s]\n",
      "\u001b[33m(raylet)\u001b[0m bash: /home/sarmad/anaconda3/lib/libtinfo.so.6: no version information available (required by bash)\n",
      "\u001b[33m(raylet)\u001b[0m bash: /home/sarmad/anaconda3/lib/libtinfo.so.6: no version information available (required by bash)\n",
      "\u001b[36m(tune_model pid=29325)\u001b[0m 2025-02-18 07:06:57.822 | INFO     | mads_datasets.base:download_data:121 - Folder already exists at /home/sarmad/.cache/mads_datasets/gestures\n",
      "  0%|\u001b[38;2;30;71;6m          \u001b[0m| 0/2600 [00:00<?, ?it/s]\n",
      "  8%|\u001b[38;2;30;71;6m▊         \u001b[0m| 216/2600 [00:00<00:01, 2155.01it/s]\n",
      " 17%|\u001b[38;2;30;71;6m█▋        \u001b[0m| 433/2600 [00:00<00:01, 2160.05it/s]\n",
      " 33%|\u001b[38;2;30;71;6m███▎      \u001b[0m| 869/2600 [00:00<00:00, 2142.99it/s]\n",
      " 42%|\u001b[38;2;30;71;6m████▏     \u001b[0m| 1090/2600 [00:00<00:00, 2166.75it/s]\n",
      " 51%|\u001b[38;2;30;71;6m█████     \u001b[0m| 1315/2600 [00:00<00:00, 2194.05it/s]\n",
      " 59%|\u001b[38;2;30;71;6m█████▉    \u001b[0m| 1535/2600 [00:00<00:00, 2061.16it/s]\n",
      " 69%|\u001b[38;2;30;71;6m██████▉   \u001b[0m| 1798/2600 [00:00<00:00, 2232.25it/s]\n",
      " 78%|\u001b[38;2;30;71;6m███████▊  \u001b[0m| 2041/2600 [00:00<00:00, 2291.74it/s]\n",
      " 88%|\u001b[38;2;30;71;6m████████▊ \u001b[0m| 2285/2600 [00:01<00:00, 2335.88it/s]\n",
      " 98%|\u001b[38;2;30;71;6m█████████▊\u001b[0m| 2547/2600 [00:01<00:00, 2421.38it/s]\n",
      "100%|\u001b[38;2;30;71;6m██████████\u001b[0m| 2600/2600 [00:01<00:00, 2255.51it/s]\n",
      "  0%|\u001b[38;2;30;71;6m          \u001b[0m| 0/651 [00:00<?, ?it/s]\n",
      " 32%|\u001b[38;2;30;71;6m███▏      \u001b[0m| 210/651 [00:00<00:00, 2097.38it/s]\n",
      " 65%|\u001b[38;2;30;71;6m██████▍   \u001b[0m| 420/651 [00:00<00:00, 2083.39it/s]\n",
      " 97%|\u001b[38;2;30;71;6m█████████▋\u001b[0m| 629/651 [00:00<00:00, 2050.89it/s]\n",
      "100%|\u001b[38;2;30;71;6m██████████\u001b[0m| 651/651 [00:00<00:00, 2048.01it/s]\n",
      "\u001b[36m(tune_model pid=29325)\u001b[0m /home/sarmad/anaconda3/envs/conda_kernel/lib/python3.11/site-packages/torch/nn/modules/rnn.py:83: UserWarning: dropout option adds dropout after all but last recurrent layer, so non-zero dropout expects num_layers greater than 1, but got dropout=0.8022363409699608 and num_layers=1\n",
      "\u001b[36m(tune_model pid=29325)\u001b[0m   warnings.warn(\"dropout option adds dropout after all but last \"\n",
      "\u001b[36m(tune_model pid=29382)\u001b[0m 2025-02-18 07:07:04.150 | INFO     | mads_datasets.base:download_data:121 - Folder already exists at /home/sarmad/.cache/mads_datasets/gestures\n",
      "  0%|\u001b[38;2;30;71;6m          \u001b[0m| 0/2600 [00:00<?, ?it/s]\n",
      "  7%|\u001b[38;2;30;71;6m▋         \u001b[0m| 190/2600 [00:00<00:01, 1898.01it/s]\n",
      " 15%|\u001b[38;2;30;71;6m█▍        \u001b[0m| 387/2600 [00:00<00:01, 1937.75it/s]\n",
      " 24%|\u001b[38;2;30;71;6m██▎       \u001b[0m| 611/2600 [00:00<00:00, 2072.93it/s]\n",
      " 32%|\u001b[38;2;30;71;6m███▏      \u001b[0m| 819/2600 [00:00<00:00, 1990.50it/s]\n",
      " 41%|\u001b[38;2;30;71;6m████      \u001b[0m| 1070/2600 [00:00<00:00, 2169.00it/s]\n",
      " 50%|\u001b[38;2;30;71;6m████▉     \u001b[0m| 1288/2600 [00:00<00:00, 2082.73it/s]\n",
      " 59%|\u001b[38;2;30;71;6m█████▊    \u001b[0m| 1524/2600 [00:00<00:00, 2168.20it/s]\n",
      " 68%|\u001b[38;2;30;71;6m██████▊   \u001b[0m| 1761/2600 [00:00<00:00, 2228.21it/s]\n",
      " 76%|\u001b[38;2;30;71;6m███████▋  \u001b[0m| 1985/2600 [00:00<00:00, 2048.33it/s]\n",
      " 84%|\u001b[38;2;30;71;6m████████▍ \u001b[0m| 2193/2600 [00:01<00:00, 1990.10it/s]\n",
      " 93%|\u001b[38;2;30;71;6m█████████▎\u001b[0m| 2407/2600 [00:01<00:00, 2032.04it/s]\n",
      "100%|\u001b[38;2;30;71;6m██████████\u001b[0m| 2600/2600 [00:01<00:00, 2047.53it/s]\n",
      "  0%|\u001b[38;2;30;71;6m          \u001b[0m| 0/651 [00:00<?, ?it/s]\n",
      " 30%|\u001b[38;2;30;71;6m██▉       \u001b[0m| 193/651 [00:00<00:00, 1922.85it/s]\n",
      " 61%|\u001b[38;2;30;71;6m██████    \u001b[0m| 396/651 [00:00<00:00, 1985.72it/s]\n",
      "100%|\u001b[38;2;30;71;6m██████████\u001b[0m| 651/651 [00:00<00:00, 1928.58it/s]\n",
      "\u001b[36m(tune_model pid=29382)\u001b[0m /home/sarmad/anaconda3/envs/conda_kernel/lib/python3.11/site-packages/torch/nn/modules/rnn.py:83: UserWarning: dropout option adds dropout after all but last recurrent layer, so non-zero dropout expects num_layers greater than 1, but got dropout=0.4786081087096695 and num_layers=1\n",
      "\u001b[36m(tune_model pid=29382)\u001b[0m   warnings.warn(\"dropout option adds dropout after all but last \"\n",
      "\u001b[33m(raylet)\u001b[0m bash: /home/sarmad/anaconda3/lib/libtinfo.so.6: no version information available (required by bash)\n",
      "\u001b[36m(tune_model pid=30940)\u001b[0m 2025-02-18 13:55:18.738 | INFO     | mads_datasets.base:download_data:121 - Folder already exists at /home/sarmad/.cache/mads_datasets/flowers\n",
      "\u001b[33m(raylet)\u001b[0m bash: /home/sarmad/anaconda3/lib/libtinfo.so.6: no version information available (required by bash)\n",
      "\u001b[36m(tune_model pid=31703)\u001b[0m 2025-02-18 14:08:55.895 | INFO     | mads_datasets.base:download_data:121 - Folder already exists at /home/sarmad/.cache/mads_datasets/flowers\n",
      "\u001b[33m(raylet)\u001b[0m bash: /home/sarmad/anaconda3/lib/libtinfo.so.6: no version information available (required by bash)\n",
      "\u001b[36m(tune_model pid=32535)\u001b[0m 2025-02-18 14:22:39.702 | INFO     | mads_datasets.base:download_data:121 - Folder already exists at /home/sarmad/.cache/mads_datasets/flowers\n",
      "\u001b[33m(raylet)\u001b[0m bash: /home/sarmad/anaconda3/lib/libtinfo.so.6: no version information available (required by bash)\n",
      "\u001b[36m(tune_model pid=33109)\u001b[0m 2025-02-18 14:36:25.008 | INFO     | mads_datasets.base:download_data:121 - Folder already exists at /home/sarmad/.cache/mads_datasets/flowers\n",
      "\u001b[33m(raylet)\u001b[0m bash: /home/sarmad/anaconda3/lib/libtinfo.so.6: no version information available (required by bash)\n",
      "\u001b[36m(tune_model pid=33652)\u001b[0m 2025-02-18 14:50:10.632 | INFO     | mads_datasets.base:download_data:121 - Folder already exists at /home/sarmad/.cache/mads_datasets/flowers\n",
      "\u001b[33m(raylet)\u001b[0m bash: /home/sarmad/anaconda3/lib/libtinfo.so.6: no version information available (required by bash)\n",
      "\u001b[36m(tune_model pid=34271)\u001b[0m 2025-02-18 15:03:57.972 | INFO     | mads_datasets.base:download_data:121 - Folder already exists at /home/sarmad/.cache/mads_datasets/flowers\n",
      "\u001b[33m(raylet)\u001b[0m bash: /home/sarmad/anaconda3/lib/libtinfo.so.6: no version information available (required by bash)\n",
      "\u001b[36m(tune_model pid=34794)\u001b[0m 2025-02-18 15:17:42.659 | INFO     | mads_datasets.base:download_data:121 - Folder already exists at /home/sarmad/.cache/mads_datasets/flowers\n",
      "\u001b[33m(raylet)\u001b[0m bash: /home/sarmad/anaconda3/lib/libtinfo.so.6: no version information available (required by bash)\n",
      "\u001b[36m(tune_model pid=35327)\u001b[0m 2025-02-18 15:31:24.788 | INFO     | mads_datasets.base:download_data:121 - Folder already exists at /home/sarmad/.cache/mads_datasets/flowers\n",
      "\u001b[33m(raylet)\u001b[0m bash: /home/sarmad/anaconda3/lib/libtinfo.so.6: no version information available (required by bash)\n",
      "\u001b[36m(tune_model pid=35937)\u001b[0m 2025-02-18 15:45:11.910 | INFO     | mads_datasets.base:download_data:121 - Folder already exists at /home/sarmad/.cache/mads_datasets/flowers\n",
      "\u001b[33m(raylet)\u001b[0m bash: /home/sarmad/anaconda3/lib/libtinfo.so.6: no version information available (required by bash)\n",
      "\u001b[36m(tune_model pid=36470)\u001b[0m 2025-02-18 15:58:53.756 | INFO     | mads_datasets.base:download_data:121 - Folder already exists at /home/sarmad/.cache/mads_datasets/flowers\n",
      "\u001b[33m(raylet)\u001b[0m bash: /home/sarmad/anaconda3/lib/libtinfo.so.6: no version information available (required by bash)\n",
      "\u001b[36m(tune_model pid=37139)\u001b[0m 2025-02-18 16:12:36.581 | INFO     | mads_datasets.base:download_data:121 - Folder already exists at /home/sarmad/.cache/mads_datasets/flowers\n",
      "\u001b[33m(raylet)\u001b[0m bash: /home/sarmad/anaconda3/lib/libtinfo.so.6: no version information available (required by bash)\n",
      "\u001b[36m(tune_model pid=38547)\u001b[0m 2025-02-18 16:26:18.858 | INFO     | mads_datasets.base:download_data:121 - Folder already exists at /home/sarmad/.cache/mads_datasets/flowers\n",
      "\u001b[33m(raylet)\u001b[0m bash: /home/sarmad/anaconda3/lib/libtinfo.so.6: no version information available (required by bash)\n",
      "\u001b[36m(tune_model pid=39677)\u001b[0m 2025-02-18 16:40:08.218 | INFO     | mads_datasets.base:download_data:121 - Folder already exists at /home/sarmad/.cache/mads_datasets/flowers\n",
      "\u001b[33m(raylet)\u001b[0m bash: /home/sarmad/anaconda3/lib/libtinfo.so.6: no version information available (required by bash)\n",
      "\u001b[36m(tune_model pid=40590)\u001b[0m 2025-02-18 16:53:55.060 | INFO     | mads_datasets.base:download_data:121 - Folder already exists at /home/sarmad/.cache/mads_datasets/flowers\n",
      "\u001b[36m(tune_model pid=40590)\u001b[0m *** SIGSEGV received at time=1739866057 on cpu 5 ***\n",
      "\u001b[36m(tune_model pid=40590)\u001b[0m PC: @     0x71a3cd0cfd8e  (unknown)  ray::gcs::TaskInfoAccessor::AsyncAddTaskEventData()\n",
      "\u001b[36m(tune_model pid=40590)\u001b[0m     @     0x71a3ce445330       3664  (unknown)\n",
      "\u001b[36m(tune_model pid=40590)\u001b[0m     @     0x71a3ccfb16a5       1392  ray::core::worker::TaskEventBufferImpl::FlushEvents()\n",
      "\u001b[36m(tune_model pid=40590)\u001b[0m     @     0x71a3ccf3a4ac       1488  ray::core::CoreWorker::Disconnect()\n",
      "\u001b[36m(tune_model pid=40590)\u001b[0m     @     0x71a3ccf3a85d       1152  ray::core::CoreWorker::ForceExit()\n",
      "\u001b[36m(tune_model pid=40590)\u001b[0m     @     0x71a3ccf3ac8f       1680  ray::core::CoreWorker::HandleKillActor()\n",
      "\u001b[36m(tune_model pid=40590)\u001b[0m     @     0x71a3ccf32194        192  ray::rpc::ServerCallImpl<>::HandleRequestImpl()\n",
      "\u001b[36m(tune_model pid=40590)\u001b[0m     @     0x71a3cd2864c8       1168  EventTracker::RecordExecution()\n",
      "\u001b[36m(tune_model pid=40590)\u001b[0m     @     0x71a3cd28149e         48  std::_Function_handler<>::_M_invoke()\n",
      "\u001b[36m(tune_model pid=40590)\u001b[0m     @     0x71a3cd281916        112  boost::asio::detail::completion_handler<>::do_complete()\n",
      "\u001b[36m(tune_model pid=40590)\u001b[0m     @     0x71a3cd96882b        128  boost::asio::detail::scheduler::do_run_one()\n",
      "\u001b[36m(tune_model pid=40590)\u001b[0m     @     0x71a3cd96a1a9        288  boost::asio::detail::scheduler::run()\n",
      "\u001b[36m(tune_model pid=40590)\u001b[0m     @     0x71a3cd96a8b2         96  boost::asio::io_context::run()\n",
      "\u001b[36m(tune_model pid=40590)\u001b[0m     @     0x71a3cce95491       1280  ray::core::CoreWorker::RunIOService()\n",
      "\u001b[36m(tune_model pid=40590)\u001b[0m     @     0x71a3cd337df0         64  thread_proxy\n",
      "\u001b[36m(tune_model pid=40590)\u001b[0m     @     0x71a3ce49caa4        176  (unknown)\n",
      "\u001b[36m(tune_model pid=40590)\u001b[0m     @     0x71a3ce529c3c  (unknown)  (unknown)\n",
      "\u001b[36m(tune_model pid=40590)\u001b[0m [2025-02-18 17:07:37,265 E 40590 40622] logging.cc:460: *** SIGSEGV received at time=1739866057 on cpu 5 ***\n",
      "\u001b[36m(tune_model pid=40590)\u001b[0m [2025-02-18 17:07:37,265 E 40590 40622] logging.cc:460: PC: @     0x71a3cd0cfd8e  (unknown)  ray::gcs::TaskInfoAccessor::AsyncAddTaskEventData()\n",
      "\u001b[36m(tune_model pid=40590)\u001b[0m [2025-02-18 17:07:37,265 E 40590 40622] logging.cc:460:     @     0x71a3ce445330       3664  (unknown)\n",
      "\u001b[36m(tune_model pid=40590)\u001b[0m [2025-02-18 17:07:37,265 E 40590 40622] logging.cc:460:     @     0x71a3ccfb16a5       1392  ray::core::worker::TaskEventBufferImpl::FlushEvents()\n",
      "\u001b[36m(tune_model pid=40590)\u001b[0m [2025-02-18 17:07:37,265 E 40590 40622] logging.cc:460:     @     0x71a3ccf3a4ac       1488  ray::core::CoreWorker::Disconnect()\n",
      "\u001b[36m(tune_model pid=40590)\u001b[0m [2025-02-18 17:07:37,265 E 40590 40622] logging.cc:460:     @     0x71a3ccf3a85d       1152  ray::core::CoreWorker::ForceExit()\n",
      "\u001b[36m(tune_model pid=40590)\u001b[0m [2025-02-18 17:07:37,265 E 40590 40622] logging.cc:460:     @     0x71a3ccf3ac8f       1680  ray::core::CoreWorker::HandleKillActor()\n",
      "\u001b[36m(tune_model pid=40590)\u001b[0m [2025-02-18 17:07:37,265 E 40590 40622] logging.cc:460:     @     0x71a3ccf32194        192  ray::rpc::ServerCallImpl<>::HandleRequestImpl()\n",
      "\u001b[36m(tune_model pid=40590)\u001b[0m [2025-02-18 17:07:37,265 E 40590 40622] logging.cc:460:     @     0x71a3cd2864c8       1168  EventTracker::RecordExecution()\n",
      "\u001b[36m(tune_model pid=40590)\u001b[0m [2025-02-18 17:07:37,265 E 40590 40622] logging.cc:460:     @     0x71a3cd28149e         48  std::_Function_handler<>::_M_invoke()\n",
      "\u001b[36m(tune_model pid=40590)\u001b[0m [2025-02-18 17:07:37,265 E 40590 40622] logging.cc:460:     @     0x71a3cd281916        112  boost::asio::detail::completion_handler<>::do_complete()\n",
      "\u001b[36m(tune_model pid=40590)\u001b[0m [2025-02-18 17:07:37,265 E 40590 40622] logging.cc:460:     @     0x71a3cd96882b        128  boost::asio::detail::scheduler::do_run_one()\n",
      "\u001b[36m(tune_model pid=40590)\u001b[0m [2025-02-18 17:07:37,265 E 40590 40622] logging.cc:460:     @     0x71a3cd96a1a9        288  boost::asio::detail::scheduler::run()\n",
      "\u001b[36m(tune_model pid=40590)\u001b[0m [2025-02-18 17:07:37,265 E 40590 40622] logging.cc:460:     @     0x71a3cd96a8b2         96  boost::asio::io_context::run()\n",
      "\u001b[36m(tune_model pid=40590)\u001b[0m [2025-02-18 17:07:37,265 E 40590 40622] logging.cc:460:     @     0x71a3cce95491       1280  ray::core::CoreWorker::RunIOService()\n",
      "\u001b[36m(tune_model pid=40590)\u001b[0m [2025-02-18 17:07:37,265 E 40590 40622] logging.cc:460:     @     0x71a3cd337df0         64  thread_proxy\n",
      "\u001b[36m(tune_model pid=40590)\u001b[0m [2025-02-18 17:07:37,265 E 40590 40622] logging.cc:460:     @     0x71a3ce49caa4        176  (unknown)\n",
      "\u001b[36m(tune_model pid=40590)\u001b[0m [2025-02-18 17:07:37,265 E 40590 40622] logging.cc:460:     @     0x71a3ce529c3c  (unknown)  (unknown)\n",
      "\u001b[36m(tune_model pid=40590)\u001b[0m Fatal Python error: Segmentation fault\n",
      "\u001b[36m(tune_model pid=40590)\u001b[0m \n",
      "\u001b[36m(tune_model pid=40590)\u001b[0m \n",
      "\u001b[36m(tune_model pid=40590)\u001b[0m Extension modules: msgpack._cmsgpack, google._upb._message, psutil._psutil_linux, psutil._psutil_posix, setproctitle, yaml._yaml, charset_normalizer.md, requests.packages.charset_normalizer.md, requests.packages.chardet.md, ray._raylet, numpy._core._multiarray_umath, numpy.linalg._umath_linalg, pyarrow.lib, numpy.random._common, numpy.random.bit_generator, numpy.random._bounded_integers, numpy.random._mt19937, numpy.random.mtrand, numpy.random._philox, numpy.random._pcg64, numpy.random._sfc64, numpy.random._generator, pandas._libs.tslibs.ccalendar, pandas._libs.tslibs.np_datetime, pandas._libs.tslibs.dtypes, pandas._libs.tslibs.base, pandas._libs.tslibs.nattype, pandas._libs.tslibs.timezones, pandas._libs.tslibs.fields, pandas._libs.tslibs.timedeltas, pandas._libs.tslibs.tzconversion, pandas._libs.tslibs.timestamps, pandas._libs.properties, pandas._libs.tslibs.offsets, pandas._libs.tslibs.strptime, pandas._libs.tslibs.parsing, pandas._libs.tslibs.conversion, pandas._libs.tslibs.period, pandas._libs.tslibs.vectorized, pandas._libs.ops_dispatch, pandas._libs.missing, pandas._libs.hashtable, pandas._libs.algos, pandas._libs.interval, pandas._libs.lib, pyarrow._compute, pandas._libs.ops, pandas._libs.hashing, pandas._libs.arrays, pandas._libs.tslib, pandas._libs.sparse, pandas._libs.internals, pandas._libs.indexing, pandas._libs.index, pandas._libs.writers, pandas._libs.join, pandas._libs.window.aggregations, pandas._libs.window.indexers, pandas._libs.reshape, pandas._libs.groupby, pandas._libs.json, pandas._libs.parsers, pandas._libs.testing, pyarrow._fs, pyarrow._azurefs, pyarrow._hdfs, pyarrow._gcsfs, pyarrow._s3fs, pyarrow._parquet, torch._C, torch._C._fft, torch._C._linalg, torch._C._nested, torch._C._nn, torch._C._sparse, torch._C._special, PIL._imaging, PIL._imagingft, pyarrow._json, _cffi_backend, scipy._lib._ccallback_c, scipy.sparse._sparsetools, _csparsetools, scipy.sparse._csparsetools, scipy.linalg._fblas, scipy.linalg._flapack, scipy.linalg.cython_lapack, scipy.linalg._cythonized_array_utils, scipy.linalg._solve_toeplitz, scipy.linalg._decomp_lu_cython, scipy.linalg._matfuncs_sqrtm_triu, scipy.linalg._matfuncs_expm, scipy.linalg._linalg_pythran, scipy.linalg.cython_blas, scipy.linalg._decomp_update, scipy.sparse.linalg._dsolve._superlu, scipy.sparse.linalg._eigen.arpack._arpack, scipy.sparse.linalg._propack._spropack, scipy.sparse.linalg._propack._dpropack, scipy.sparse.linalg._propack._cpropack, scipy.sparse.linalg._propack._zpropack, scipy.sparse.csgraph._tools, scipy.sparse.csgraph._shortest_path, scipy.sparse.csgraph._traversal, scipy.sparse.csgraph._min_spanning_tree, scipy.sparse.csgraph._flow, scipy.sparse.csgraph._matching, scipy.sparse.csgraph._reordering, PIL._imagingmath (total: 109)\n",
      "\u001b[33m(raylet)\u001b[0m bash: /home/sarmad/anaconda3/lib/libtinfo.so.6: no version information available (required by bash)\n",
      "\u001b[36m(tune_model pid=41576)\u001b[0m 2025-02-18 17:07:40.313 | INFO     | mads_datasets.base:download_data:121 - Folder already exists at /home/sarmad/.cache/mads_datasets/flowers\n",
      "\u001b[33m(raylet)\u001b[0m bash: /home/sarmad/anaconda3/lib/libtinfo.so.6: no version information available (required by bash)\n",
      "\u001b[36m(tune_model pid=42488)\u001b[0m 2025-02-18 17:21:30.383 | INFO     | mads_datasets.base:download_data:121 - Folder already exists at /home/sarmad/.cache/mads_datasets/flowers\n",
      "\u001b[33m(raylet)\u001b[0m bash: /home/sarmad/anaconda3/lib/libtinfo.so.6: no version information available (required by bash)\n",
      "\u001b[36m(tune_model pid=43336)\u001b[0m 2025-02-18 17:35:16.704 | INFO     | mads_datasets.base:download_data:121 - Folder already exists at /home/sarmad/.cache/mads_datasets/flowers\n",
      "\u001b[33m(raylet)\u001b[0m bash: /home/sarmad/anaconda3/lib/libtinfo.so.6: no version information available (required by bash)\n",
      "\u001b[36m(tune_model pid=44259)\u001b[0m 2025-02-18 17:48:55.983 | INFO     | mads_datasets.base:download_data:121 - Folder already exists at /home/sarmad/.cache/mads_datasets/flowers\n"
     ]
    },
    {
     "name": "stderr",
     "output_type": "stream",
     "text": [
      "2025-02-18 07:08:54,662\tINFO tune.py:1009 -- Wrote the latest version of all result files and experiment state to '/home/sarmad/Documents/code/upperkaam/notebooks_review/Deliverable_Part_1/notebooks/4_tuning_networks/models/ray/tune_model_2025-02-18_06-51-17' in 0.0054s.\n",
      "2025-02-18 07:08:54,667\tINFO tune.py:1041 -- Total run time: 1056.97 seconds (1056.94 seconds for the tuning loop).\n"
     ]
    }
   ],
   "source": [
    "from ray.tune.search.bayesopt import BayesOptSearch\n",
    "\n",
    "bayesopt = BayesOptSearch(random_search_steps=5)\n",
    "\n",
    "\n",
    "config = {\n",
    "    \"input_size\": 3,\n",
    "    \"output_size\": 20,\n",
    "    \"dropout\": tune.uniform(0, 1.0),\n",
    "    \"epochs\": MAX_EPOCHS,\n",
    "    \"hidden_size\": tune.uniform(16, 512),\n",
    "    \"num_layers\": tune.uniform(1, 8),\n",
    "    \"tune_dir\": tune_dir,\n",
    "    \"model_name\": \"GRU\",\n",
    "}\n",
    "\n",
    "tic = time.time()\n",
    "\n",
    "analysis_bayes = tune.run(\n",
    "    tune_model,\n",
    "    config=config,\n",
    "    metric=\"valid_loss\",\n",
    "    mode=\"min\",\n",
    "    storage_path=str(tune_dir),         # edit from 'local_dir' to 'storrage_path'\n",
    "    num_samples=N_EXPERIMENTS,\n",
    "    stop={\"training_iteration\": MAX_EPOCHS},\n",
    "    search_alg=bayesopt,\n",
    "    verbose=1,\n",
    "    max_concurrent_trials=8,    # edit To reduce the OEM error\n",
    ")\n",
    "\n",
    "timer = time.time() - tic\n",
    "\n",
    "best_bayes = analysis_bayes.get_best_config()\n",
    "best_bayes[\"accuracy\"] = analysis_bayes.best_result[\"accuracy\"]"
   ]
  },
  {
   "cell_type": "code",
   "execution_count": 12,
   "id": "6dccd76f",
   "metadata": {},
   "outputs": [],
   "source": [
    "best_bayes = analysis_bayes.get_best_config()\n",
    "best_bayes[\"accuracy\"] = analysis_bayes.best_result[\"accuracy\"]"
   ]
  },
  {
   "cell_type": "code",
   "execution_count": 17,
   "id": "33d17ebb",
   "metadata": {},
   "outputs": [
    {
     "data": {
      "application/vnd.plotly.v1+json": {
       "config": {
        "plotlyServerURL": "https://plot.ly"
       },
       "data": [
        {
         "colorbar": {
          "title": {
           "text": "Accuracy"
          }
         },
         "colorscale": [
          [
           0,
           "#0d0887"
          ],
          [
           0.1111111111111111,
           "#46039f"
          ],
          [
           0.2222222222222222,
           "#7201a8"
          ],
          [
           0.3333333333333333,
           "#9c179e"
          ],
          [
           0.4444444444444444,
           "#bd3786"
          ],
          [
           0.5555555555555556,
           "#d8576b"
          ],
          [
           0.6666666666666666,
           "#ed7953"
          ],
          [
           0.7777777777777778,
           "#fb9f3a"
          ],
          [
           0.8888888888888888,
           "#fdca26"
          ],
          [
           1,
           "#f0f921"
          ]
         ],
         "contours": {
          "coloring": "heatmap",
          "end": 1,
          "showlabels": true,
          "size": 0.01,
          "start": 0.7
         },
         "type": "contour",
         "x": {
          "bdata": "ofd1Zd54fkB4EGndp1hXQPcJC1H52XtARl1/m7w1OkATF4MjflReQGCkii0v4nhAXMOHxbHme0DpASGtjux7QN9vD41Y13tAfN2g3fDjeEACZAtNsdx7QBroSIAU4nhA6dm55/Pqe0ATTmLX8rpzQK5PH56Q8XxAAZJrvo7MekALAATxNJl6QG/njZ+NI3xA",
          "dtype": "f8"
         },
         "y": {
          "bdata": "7FFfHnf41z+wLGPWNSjjP3BVZJ0iva0/goKa0oeo5j/2E8G/XqPqP97RGGTXve8/EOpw8Y/wvD81PudEqf/QP4UBDXe9R+M/AAAAAAAA8D9Iu/6HqpvYP2W2fsasL8c/McQ2k25Mxz8AAAAAAAAAAAAAAAAAAPA/AAAAAAAAAAAzHgSM66vpP1aKoOeDod4/",
          "dtype": "f8"
         },
         "z": [
          0.776562511920929,
          0.653124988079071,
          0.948437511920929,
          0.21718749403953552,
          0.621874988079071,
          0.04374999925494194,
          0.9765625,
          0.9140625,
          0.421875,
          0.934374988079071,
          0.887499988079071,
          0.18906250596046448,
          0.9609375,
          0.4078125059604645,
          0.964062511920929,
          0.953125,
          0.8765624761581421,
          0.9515625238418579
         ]
        },
        {
         "customdata": [
          0.776562511920929,
          0.653124988079071,
          0.948437511920929,
          0.21718749403953552,
          0.621874988079071,
          0.04374999925494194,
          0.9765625,
          0.9140625,
          0.421875,
          0.934374988079071,
          0.887499988079071,
          0.18906250596046448,
          0.9609375,
          0.4078125059604645,
          0.964062511920929,
          0.953125,
          0.8765624761581421,
          0.9515625238418579
         ],
         "hovertemplate": "Hidden Size: %{x}<br>Dropout: %{y:.2f}<br>Accuracy: %{customdata:.4f}<extra></extra>",
         "marker": {
          "color": "black",
          "size": 8,
          "symbol": "circle"
         },
         "mode": "markers",
         "name": "Data Points",
         "type": "scatter",
         "x": {
          "bdata": "ofd1Zd54fkB4EGndp1hXQPcJC1H52XtARl1/m7w1OkATF4MjflReQGCkii0v4nhAXMOHxbHme0DpASGtjux7QN9vD41Y13tAfN2g3fDjeEACZAtNsdx7QBroSIAU4nhA6dm55/Pqe0ATTmLX8rpzQK5PH56Q8XxAAZJrvo7MekALAATxNJl6QG/njZ+NI3xA",
          "dtype": "f8"
         },
         "y": {
          "bdata": "7FFfHnf41z+wLGPWNSjjP3BVZJ0iva0/goKa0oeo5j/2E8G/XqPqP97RGGTXve8/EOpw8Y/wvD81PudEqf/QP4UBDXe9R+M/AAAAAAAA8D9Iu/6HqpvYP2W2fsasL8c/McQ2k25Mxz8AAAAAAAAAAAAAAAAAAPA/AAAAAAAAAAAzHgSM66vpP1aKoOeDod4/",
          "dtype": "f8"
         }
        }
       ],
       "layout": {
        "paper_bgcolor": "white",
        "plot_bgcolor": "white",
        "template": {
         "data": {
          "bar": [
           {
            "error_x": {
             "color": "#2a3f5f"
            },
            "error_y": {
             "color": "#2a3f5f"
            },
            "marker": {
             "line": {
              "color": "#E5ECF6",
              "width": 0.5
             },
             "pattern": {
              "fillmode": "overlay",
              "size": 10,
              "solidity": 0.2
             }
            },
            "type": "bar"
           }
          ],
          "barpolar": [
           {
            "marker": {
             "line": {
              "color": "#E5ECF6",
              "width": 0.5
             },
             "pattern": {
              "fillmode": "overlay",
              "size": 10,
              "solidity": 0.2
             }
            },
            "type": "barpolar"
           }
          ],
          "carpet": [
           {
            "aaxis": {
             "endlinecolor": "#2a3f5f",
             "gridcolor": "white",
             "linecolor": "white",
             "minorgridcolor": "white",
             "startlinecolor": "#2a3f5f"
            },
            "baxis": {
             "endlinecolor": "#2a3f5f",
             "gridcolor": "white",
             "linecolor": "white",
             "minorgridcolor": "white",
             "startlinecolor": "#2a3f5f"
            },
            "type": "carpet"
           }
          ],
          "choropleth": [
           {
            "colorbar": {
             "outlinewidth": 0,
             "ticks": ""
            },
            "type": "choropleth"
           }
          ],
          "contour": [
           {
            "colorbar": {
             "outlinewidth": 0,
             "ticks": ""
            },
            "colorscale": [
             [
              0,
              "#0d0887"
             ],
             [
              0.1111111111111111,
              "#46039f"
             ],
             [
              0.2222222222222222,
              "#7201a8"
             ],
             [
              0.3333333333333333,
              "#9c179e"
             ],
             [
              0.4444444444444444,
              "#bd3786"
             ],
             [
              0.5555555555555556,
              "#d8576b"
             ],
             [
              0.6666666666666666,
              "#ed7953"
             ],
             [
              0.7777777777777778,
              "#fb9f3a"
             ],
             [
              0.8888888888888888,
              "#fdca26"
             ],
             [
              1,
              "#f0f921"
             ]
            ],
            "type": "contour"
           }
          ],
          "contourcarpet": [
           {
            "colorbar": {
             "outlinewidth": 0,
             "ticks": ""
            },
            "type": "contourcarpet"
           }
          ],
          "heatmap": [
           {
            "colorbar": {
             "outlinewidth": 0,
             "ticks": ""
            },
            "colorscale": [
             [
              0,
              "#0d0887"
             ],
             [
              0.1111111111111111,
              "#46039f"
             ],
             [
              0.2222222222222222,
              "#7201a8"
             ],
             [
              0.3333333333333333,
              "#9c179e"
             ],
             [
              0.4444444444444444,
              "#bd3786"
             ],
             [
              0.5555555555555556,
              "#d8576b"
             ],
             [
              0.6666666666666666,
              "#ed7953"
             ],
             [
              0.7777777777777778,
              "#fb9f3a"
             ],
             [
              0.8888888888888888,
              "#fdca26"
             ],
             [
              1,
              "#f0f921"
             ]
            ],
            "type": "heatmap"
           }
          ],
          "histogram": [
           {
            "marker": {
             "pattern": {
              "fillmode": "overlay",
              "size": 10,
              "solidity": 0.2
             }
            },
            "type": "histogram"
           }
          ],
          "histogram2d": [
           {
            "colorbar": {
             "outlinewidth": 0,
             "ticks": ""
            },
            "colorscale": [
             [
              0,
              "#0d0887"
             ],
             [
              0.1111111111111111,
              "#46039f"
             ],
             [
              0.2222222222222222,
              "#7201a8"
             ],
             [
              0.3333333333333333,
              "#9c179e"
             ],
             [
              0.4444444444444444,
              "#bd3786"
             ],
             [
              0.5555555555555556,
              "#d8576b"
             ],
             [
              0.6666666666666666,
              "#ed7953"
             ],
             [
              0.7777777777777778,
              "#fb9f3a"
             ],
             [
              0.8888888888888888,
              "#fdca26"
             ],
             [
              1,
              "#f0f921"
             ]
            ],
            "type": "histogram2d"
           }
          ],
          "histogram2dcontour": [
           {
            "colorbar": {
             "outlinewidth": 0,
             "ticks": ""
            },
            "colorscale": [
             [
              0,
              "#0d0887"
             ],
             [
              0.1111111111111111,
              "#46039f"
             ],
             [
              0.2222222222222222,
              "#7201a8"
             ],
             [
              0.3333333333333333,
              "#9c179e"
             ],
             [
              0.4444444444444444,
              "#bd3786"
             ],
             [
              0.5555555555555556,
              "#d8576b"
             ],
             [
              0.6666666666666666,
              "#ed7953"
             ],
             [
              0.7777777777777778,
              "#fb9f3a"
             ],
             [
              0.8888888888888888,
              "#fdca26"
             ],
             [
              1,
              "#f0f921"
             ]
            ],
            "type": "histogram2dcontour"
           }
          ],
          "mesh3d": [
           {
            "colorbar": {
             "outlinewidth": 0,
             "ticks": ""
            },
            "type": "mesh3d"
           }
          ],
          "parcoords": [
           {
            "line": {
             "colorbar": {
              "outlinewidth": 0,
              "ticks": ""
             }
            },
            "type": "parcoords"
           }
          ],
          "pie": [
           {
            "automargin": true,
            "type": "pie"
           }
          ],
          "scatter": [
           {
            "fillpattern": {
             "fillmode": "overlay",
             "size": 10,
             "solidity": 0.2
            },
            "type": "scatter"
           }
          ],
          "scatter3d": [
           {
            "line": {
             "colorbar": {
              "outlinewidth": 0,
              "ticks": ""
             }
            },
            "marker": {
             "colorbar": {
              "outlinewidth": 0,
              "ticks": ""
             }
            },
            "type": "scatter3d"
           }
          ],
          "scattercarpet": [
           {
            "marker": {
             "colorbar": {
              "outlinewidth": 0,
              "ticks": ""
             }
            },
            "type": "scattercarpet"
           }
          ],
          "scattergeo": [
           {
            "marker": {
             "colorbar": {
              "outlinewidth": 0,
              "ticks": ""
             }
            },
            "type": "scattergeo"
           }
          ],
          "scattergl": [
           {
            "marker": {
             "colorbar": {
              "outlinewidth": 0,
              "ticks": ""
             }
            },
            "type": "scattergl"
           }
          ],
          "scattermap": [
           {
            "marker": {
             "colorbar": {
              "outlinewidth": 0,
              "ticks": ""
             }
            },
            "type": "scattermap"
           }
          ],
          "scattermapbox": [
           {
            "marker": {
             "colorbar": {
              "outlinewidth": 0,
              "ticks": ""
             }
            },
            "type": "scattermapbox"
           }
          ],
          "scatterpolar": [
           {
            "marker": {
             "colorbar": {
              "outlinewidth": 0,
              "ticks": ""
             }
            },
            "type": "scatterpolar"
           }
          ],
          "scatterpolargl": [
           {
            "marker": {
             "colorbar": {
              "outlinewidth": 0,
              "ticks": ""
             }
            },
            "type": "scatterpolargl"
           }
          ],
          "scatterternary": [
           {
            "marker": {
             "colorbar": {
              "outlinewidth": 0,
              "ticks": ""
             }
            },
            "type": "scatterternary"
           }
          ],
          "surface": [
           {
            "colorbar": {
             "outlinewidth": 0,
             "ticks": ""
            },
            "colorscale": [
             [
              0,
              "#0d0887"
             ],
             [
              0.1111111111111111,
              "#46039f"
             ],
             [
              0.2222222222222222,
              "#7201a8"
             ],
             [
              0.3333333333333333,
              "#9c179e"
             ],
             [
              0.4444444444444444,
              "#bd3786"
             ],
             [
              0.5555555555555556,
              "#d8576b"
             ],
             [
              0.6666666666666666,
              "#ed7953"
             ],
             [
              0.7777777777777778,
              "#fb9f3a"
             ],
             [
              0.8888888888888888,
              "#fdca26"
             ],
             [
              1,
              "#f0f921"
             ]
            ],
            "type": "surface"
           }
          ],
          "table": [
           {
            "cells": {
             "fill": {
              "color": "#EBF0F8"
             },
             "line": {
              "color": "white"
             }
            },
            "header": {
             "fill": {
              "color": "#C8D4E3"
             },
             "line": {
              "color": "white"
             }
            },
            "type": "table"
           }
          ]
         },
         "layout": {
          "annotationdefaults": {
           "arrowcolor": "#2a3f5f",
           "arrowhead": 0,
           "arrowwidth": 1
          },
          "autotypenumbers": "strict",
          "coloraxis": {
           "colorbar": {
            "outlinewidth": 0,
            "ticks": ""
           }
          },
          "colorscale": {
           "diverging": [
            [
             0,
             "#8e0152"
            ],
            [
             0.1,
             "#c51b7d"
            ],
            [
             0.2,
             "#de77ae"
            ],
            [
             0.3,
             "#f1b6da"
            ],
            [
             0.4,
             "#fde0ef"
            ],
            [
             0.5,
             "#f7f7f7"
            ],
            [
             0.6,
             "#e6f5d0"
            ],
            [
             0.7,
             "#b8e186"
            ],
            [
             0.8,
             "#7fbc41"
            ],
            [
             0.9,
             "#4d9221"
            ],
            [
             1,
             "#276419"
            ]
           ],
           "sequential": [
            [
             0,
             "#0d0887"
            ],
            [
             0.1111111111111111,
             "#46039f"
            ],
            [
             0.2222222222222222,
             "#7201a8"
            ],
            [
             0.3333333333333333,
             "#9c179e"
            ],
            [
             0.4444444444444444,
             "#bd3786"
            ],
            [
             0.5555555555555556,
             "#d8576b"
            ],
            [
             0.6666666666666666,
             "#ed7953"
            ],
            [
             0.7777777777777778,
             "#fb9f3a"
            ],
            [
             0.8888888888888888,
             "#fdca26"
            ],
            [
             1,
             "#f0f921"
            ]
           ],
           "sequentialminus": [
            [
             0,
             "#0d0887"
            ],
            [
             0.1111111111111111,
             "#46039f"
            ],
            [
             0.2222222222222222,
             "#7201a8"
            ],
            [
             0.3333333333333333,
             "#9c179e"
            ],
            [
             0.4444444444444444,
             "#bd3786"
            ],
            [
             0.5555555555555556,
             "#d8576b"
            ],
            [
             0.6666666666666666,
             "#ed7953"
            ],
            [
             0.7777777777777778,
             "#fb9f3a"
            ],
            [
             0.8888888888888888,
             "#fdca26"
            ],
            [
             1,
             "#f0f921"
            ]
           ]
          },
          "colorway": [
           "#636efa",
           "#EF553B",
           "#00cc96",
           "#ab63fa",
           "#FFA15A",
           "#19d3f3",
           "#FF6692",
           "#B6E880",
           "#FF97FF",
           "#FECB52"
          ],
          "font": {
           "color": "#2a3f5f"
          },
          "geo": {
           "bgcolor": "white",
           "lakecolor": "white",
           "landcolor": "#E5ECF6",
           "showlakes": true,
           "showland": true,
           "subunitcolor": "white"
          },
          "hoverlabel": {
           "align": "left"
          },
          "hovermode": "closest",
          "mapbox": {
           "style": "light"
          },
          "paper_bgcolor": "white",
          "plot_bgcolor": "#E5ECF6",
          "polar": {
           "angularaxis": {
            "gridcolor": "white",
            "linecolor": "white",
            "ticks": ""
           },
           "bgcolor": "#E5ECF6",
           "radialaxis": {
            "gridcolor": "white",
            "linecolor": "white",
            "ticks": ""
           }
          },
          "scene": {
           "xaxis": {
            "backgroundcolor": "#E5ECF6",
            "gridcolor": "white",
            "gridwidth": 2,
            "linecolor": "white",
            "showbackground": true,
            "ticks": "",
            "zerolinecolor": "white"
           },
           "yaxis": {
            "backgroundcolor": "#E5ECF6",
            "gridcolor": "white",
            "gridwidth": 2,
            "linecolor": "white",
            "showbackground": true,
            "ticks": "",
            "zerolinecolor": "white"
           },
           "zaxis": {
            "backgroundcolor": "#E5ECF6",
            "gridcolor": "white",
            "gridwidth": 2,
            "linecolor": "white",
            "showbackground": true,
            "ticks": "",
            "zerolinecolor": "white"
           }
          },
          "shapedefaults": {
           "line": {
            "color": "#2a3f5f"
           }
          },
          "ternary": {
           "aaxis": {
            "gridcolor": "white",
            "linecolor": "white",
            "ticks": ""
           },
           "baxis": {
            "gridcolor": "white",
            "linecolor": "white",
            "ticks": ""
           },
           "bgcolor": "#E5ECF6",
           "caxis": {
            "gridcolor": "white",
            "linecolor": "white",
            "ticks": ""
           }
          },
          "title": {
           "x": 0.05
          },
          "xaxis": {
           "automargin": true,
           "gridcolor": "white",
           "linecolor": "white",
           "ticks": "",
           "title": {
            "standoff": 15
           },
           "zerolinecolor": "white",
           "zerolinewidth": 2
          },
          "yaxis": {
           "automargin": true,
           "gridcolor": "white",
           "linecolor": "white",
           "ticks": "",
           "title": {
            "standoff": 15
           },
           "zerolinecolor": "white",
           "zerolinewidth": 2
          }
         }
        },
        "title": {
         "text": "Contour Plot"
        },
        "xaxis": {
         "showgrid": false,
         "title": {
          "text": "Hidden Size"
         }
        },
        "yaxis": {
         "showgrid": false,
         "title": {
          "text": "Dropout"
         }
        }
       }
      }
     },
     "metadata": {},
     "output_type": "display_data"
    }
   ],
   "source": [
    "bayes = analysis_bayes.results_df\n",
    "plot_contour(bayes, \"config/hidden_size\", \"config/dropout\", \"accuracy\", start=0.7)"
   ]
  },
  {
   "cell_type": "markdown",
   "id": "af2d011c",
   "metadata": {},
   "source": [
    "<font color='green'>\n",
    "\n",
    "##### Explanation\n",
    "\n",
    "This contour plot visualizes how different combinations of hidden size and dropout rate affect model accuracy. The x-axis represents the hidden layer size, ranging from around 16 to 512, while the y-axis represents the dropout rate, varying from 0 to 1. \n",
    "\n",
    "The color gradient, indicated by the scale on the right, represents model accuracy, with lighter shades (yellow) indicating higher accuracy and darker shades (blue) indicating lower accuracy. \n",
    "\n",
    "The contour lines mark accuracy levels, showing how performance changes with different hyperparameter values. From the plot, we can see that higher hidden sizes (above 400) and lower dropout rates (below 0.4) tend to achieve the best accuracy, reaching values close to 1. Conversely, models with very high dropout rates (above 0.8) or smaller hidden sizes (below 200) generally perform worse. \n",
    "\n",
    "</font>"
   ]
  },
  {
   "cell_type": "code",
   "execution_count": null,
   "id": "f9d3be45",
   "metadata": {},
   "outputs": [
    {
     "data": {
      "application/vnd.plotly.v1+json": {
       "config": {
        "plotlyServerURL": "https://plot.ly"
       },
       "data": [
        {
         "dimensions": [
          {
           "label": "config/hidden_size",
           "values": {
            "bdata": "ofd1Zd54fkB4EGndp1hXQPcJC1H52XtARl1/m7w1OkATF4MjflReQGCkii0v4nhAXMOHxbHme0DpASGtjux7QN9vD41Y13tAfN2g3fDjeEACZAtNsdx7QBroSIAU4nhA6dm55/Pqe0ATTmLX8rpzQK5PH56Q8XxAAZJrvo7MekALAATxNJl6QG/njZ+NI3xA",
            "dtype": "f8"
           }
          },
          {
           "label": "config/dropout",
           "values": {
            "bdata": "7FFfHnf41z+wLGPWNSjjP3BVZJ0iva0/goKa0oeo5j/2E8G/XqPqP97RGGTXve8/EOpw8Y/wvD81PudEqf/QP4UBDXe9R+M/AAAAAAAA8D9Iu/6HqpvYP2W2fsasL8c/McQ2k25Mxz8AAAAAAAAAAAAAAAAAAPA/AAAAAAAAAAAzHgSM66vpP1aKoOeDod4/",
            "dtype": "f8"
           }
          },
          {
           "label": "config/num_layers",
           "values": {
            "bdata": "Z5o6ve5+GECxJ7NiVrwAQDcCANvK1BRAMOmGVlAoH0AIC/KJpC4CQAAAAAAAACBA/sAUAXJXEUBYeLQox5EUQBm53ZI5KhlAAAAAAAAA8D/Qxp2bEBkZQAAAAAAAACBAz0fqGtDPEkAAAAAAAAAgQAAAAAAAAPA/AAAAAAAA8D+aOmSj19/wP4PhAJn+JPo/",
            "dtype": "f8"
           }
          }
         ],
         "domain": {
          "x": [
           0,
           1
          ],
          "y": [
           0,
           1
          ]
         },
         "line": {
          "color": [
           0.776562511920929,
           0.653124988079071,
           0.948437511920929,
           0.21718749403953552,
           0.621874988079071,
           0.04374999925494194,
           0.9765625,
           0.9140625,
           0.421875,
           0.934374988079071,
           0.887499988079071,
           0.18906250596046448,
           0.9609375,
           0.4078125059604645,
           0.964062511920929,
           0.953125,
           0.8765624761581421,
           0.9515625238418579
          ],
          "coloraxis": "coloraxis"
         },
         "name": "",
         "type": "parcoords"
        }
       ],
       "layout": {
        "coloraxis": {
         "colorbar": {
          "title": {
           "text": "accuracy"
          }
         },
         "colorscale": [
          [
           0,
           "#0d0887"
          ],
          [
           0.1111111111111111,
           "#46039f"
          ],
          [
           0.2222222222222222,
           "#7201a8"
          ],
          [
           0.3333333333333333,
           "#9c179e"
          ],
          [
           0.4444444444444444,
           "#bd3786"
          ],
          [
           0.5555555555555556,
           "#d8576b"
          ],
          [
           0.6666666666666666,
           "#ed7953"
          ],
          [
           0.7777777777777778,
           "#fb9f3a"
          ],
          [
           0.8888888888888888,
           "#fdca26"
          ],
          [
           1,
           "#f0f921"
          ]
         ]
        },
        "legend": {
         "tracegroupgap": 0
        },
        "margin": {
         "t": 60
        },
        "template": {
         "data": {
          "bar": [
           {
            "error_x": {
             "color": "#2a3f5f"
            },
            "error_y": {
             "color": "#2a3f5f"
            },
            "marker": {
             "line": {
              "color": "#E5ECF6",
              "width": 0.5
             },
             "pattern": {
              "fillmode": "overlay",
              "size": 10,
              "solidity": 0.2
             }
            },
            "type": "bar"
           }
          ],
          "barpolar": [
           {
            "marker": {
             "line": {
              "color": "#E5ECF6",
              "width": 0.5
             },
             "pattern": {
              "fillmode": "overlay",
              "size": 10,
              "solidity": 0.2
             }
            },
            "type": "barpolar"
           }
          ],
          "carpet": [
           {
            "aaxis": {
             "endlinecolor": "#2a3f5f",
             "gridcolor": "white",
             "linecolor": "white",
             "minorgridcolor": "white",
             "startlinecolor": "#2a3f5f"
            },
            "baxis": {
             "endlinecolor": "#2a3f5f",
             "gridcolor": "white",
             "linecolor": "white",
             "minorgridcolor": "white",
             "startlinecolor": "#2a3f5f"
            },
            "type": "carpet"
           }
          ],
          "choropleth": [
           {
            "colorbar": {
             "outlinewidth": 0,
             "ticks": ""
            },
            "type": "choropleth"
           }
          ],
          "contour": [
           {
            "colorbar": {
             "outlinewidth": 0,
             "ticks": ""
            },
            "colorscale": [
             [
              0,
              "#0d0887"
             ],
             [
              0.1111111111111111,
              "#46039f"
             ],
             [
              0.2222222222222222,
              "#7201a8"
             ],
             [
              0.3333333333333333,
              "#9c179e"
             ],
             [
              0.4444444444444444,
              "#bd3786"
             ],
             [
              0.5555555555555556,
              "#d8576b"
             ],
             [
              0.6666666666666666,
              "#ed7953"
             ],
             [
              0.7777777777777778,
              "#fb9f3a"
             ],
             [
              0.8888888888888888,
              "#fdca26"
             ],
             [
              1,
              "#f0f921"
             ]
            ],
            "type": "contour"
           }
          ],
          "contourcarpet": [
           {
            "colorbar": {
             "outlinewidth": 0,
             "ticks": ""
            },
            "type": "contourcarpet"
           }
          ],
          "heatmap": [
           {
            "colorbar": {
             "outlinewidth": 0,
             "ticks": ""
            },
            "colorscale": [
             [
              0,
              "#0d0887"
             ],
             [
              0.1111111111111111,
              "#46039f"
             ],
             [
              0.2222222222222222,
              "#7201a8"
             ],
             [
              0.3333333333333333,
              "#9c179e"
             ],
             [
              0.4444444444444444,
              "#bd3786"
             ],
             [
              0.5555555555555556,
              "#d8576b"
             ],
             [
              0.6666666666666666,
              "#ed7953"
             ],
             [
              0.7777777777777778,
              "#fb9f3a"
             ],
             [
              0.8888888888888888,
              "#fdca26"
             ],
             [
              1,
              "#f0f921"
             ]
            ],
            "type": "heatmap"
           }
          ],
          "histogram": [
           {
            "marker": {
             "pattern": {
              "fillmode": "overlay",
              "size": 10,
              "solidity": 0.2
             }
            },
            "type": "histogram"
           }
          ],
          "histogram2d": [
           {
            "colorbar": {
             "outlinewidth": 0,
             "ticks": ""
            },
            "colorscale": [
             [
              0,
              "#0d0887"
             ],
             [
              0.1111111111111111,
              "#46039f"
             ],
             [
              0.2222222222222222,
              "#7201a8"
             ],
             [
              0.3333333333333333,
              "#9c179e"
             ],
             [
              0.4444444444444444,
              "#bd3786"
             ],
             [
              0.5555555555555556,
              "#d8576b"
             ],
             [
              0.6666666666666666,
              "#ed7953"
             ],
             [
              0.7777777777777778,
              "#fb9f3a"
             ],
             [
              0.8888888888888888,
              "#fdca26"
             ],
             [
              1,
              "#f0f921"
             ]
            ],
            "type": "histogram2d"
           }
          ],
          "histogram2dcontour": [
           {
            "colorbar": {
             "outlinewidth": 0,
             "ticks": ""
            },
            "colorscale": [
             [
              0,
              "#0d0887"
             ],
             [
              0.1111111111111111,
              "#46039f"
             ],
             [
              0.2222222222222222,
              "#7201a8"
             ],
             [
              0.3333333333333333,
              "#9c179e"
             ],
             [
              0.4444444444444444,
              "#bd3786"
             ],
             [
              0.5555555555555556,
              "#d8576b"
             ],
             [
              0.6666666666666666,
              "#ed7953"
             ],
             [
              0.7777777777777778,
              "#fb9f3a"
             ],
             [
              0.8888888888888888,
              "#fdca26"
             ],
             [
              1,
              "#f0f921"
             ]
            ],
            "type": "histogram2dcontour"
           }
          ],
          "mesh3d": [
           {
            "colorbar": {
             "outlinewidth": 0,
             "ticks": ""
            },
            "type": "mesh3d"
           }
          ],
          "parcoords": [
           {
            "line": {
             "colorbar": {
              "outlinewidth": 0,
              "ticks": ""
             }
            },
            "type": "parcoords"
           }
          ],
          "pie": [
           {
            "automargin": true,
            "type": "pie"
           }
          ],
          "scatter": [
           {
            "fillpattern": {
             "fillmode": "overlay",
             "size": 10,
             "solidity": 0.2
            },
            "type": "scatter"
           }
          ],
          "scatter3d": [
           {
            "line": {
             "colorbar": {
              "outlinewidth": 0,
              "ticks": ""
             }
            },
            "marker": {
             "colorbar": {
              "outlinewidth": 0,
              "ticks": ""
             }
            },
            "type": "scatter3d"
           }
          ],
          "scattercarpet": [
           {
            "marker": {
             "colorbar": {
              "outlinewidth": 0,
              "ticks": ""
             }
            },
            "type": "scattercarpet"
           }
          ],
          "scattergeo": [
           {
            "marker": {
             "colorbar": {
              "outlinewidth": 0,
              "ticks": ""
             }
            },
            "type": "scattergeo"
           }
          ],
          "scattergl": [
           {
            "marker": {
             "colorbar": {
              "outlinewidth": 0,
              "ticks": ""
             }
            },
            "type": "scattergl"
           }
          ],
          "scattermap": [
           {
            "marker": {
             "colorbar": {
              "outlinewidth": 0,
              "ticks": ""
             }
            },
            "type": "scattermap"
           }
          ],
          "scattermapbox": [
           {
            "marker": {
             "colorbar": {
              "outlinewidth": 0,
              "ticks": ""
             }
            },
            "type": "scattermapbox"
           }
          ],
          "scatterpolar": [
           {
            "marker": {
             "colorbar": {
              "outlinewidth": 0,
              "ticks": ""
             }
            },
            "type": "scatterpolar"
           }
          ],
          "scatterpolargl": [
           {
            "marker": {
             "colorbar": {
              "outlinewidth": 0,
              "ticks": ""
             }
            },
            "type": "scatterpolargl"
           }
          ],
          "scatterternary": [
           {
            "marker": {
             "colorbar": {
              "outlinewidth": 0,
              "ticks": ""
             }
            },
            "type": "scatterternary"
           }
          ],
          "surface": [
           {
            "colorbar": {
             "outlinewidth": 0,
             "ticks": ""
            },
            "colorscale": [
             [
              0,
              "#0d0887"
             ],
             [
              0.1111111111111111,
              "#46039f"
             ],
             [
              0.2222222222222222,
              "#7201a8"
             ],
             [
              0.3333333333333333,
              "#9c179e"
             ],
             [
              0.4444444444444444,
              "#bd3786"
             ],
             [
              0.5555555555555556,
              "#d8576b"
             ],
             [
              0.6666666666666666,
              "#ed7953"
             ],
             [
              0.7777777777777778,
              "#fb9f3a"
             ],
             [
              0.8888888888888888,
              "#fdca26"
             ],
             [
              1,
              "#f0f921"
             ]
            ],
            "type": "surface"
           }
          ],
          "table": [
           {
            "cells": {
             "fill": {
              "color": "#EBF0F8"
             },
             "line": {
              "color": "white"
             }
            },
            "header": {
             "fill": {
              "color": "#C8D4E3"
             },
             "line": {
              "color": "white"
             }
            },
            "type": "table"
           }
          ]
         },
         "layout": {
          "annotationdefaults": {
           "arrowcolor": "#2a3f5f",
           "arrowhead": 0,
           "arrowwidth": 1
          },
          "autotypenumbers": "strict",
          "coloraxis": {
           "colorbar": {
            "outlinewidth": 0,
            "ticks": ""
           }
          },
          "colorscale": {
           "diverging": [
            [
             0,
             "#8e0152"
            ],
            [
             0.1,
             "#c51b7d"
            ],
            [
             0.2,
             "#de77ae"
            ],
            [
             0.3,
             "#f1b6da"
            ],
            [
             0.4,
             "#fde0ef"
            ],
            [
             0.5,
             "#f7f7f7"
            ],
            [
             0.6,
             "#e6f5d0"
            ],
            [
             0.7,
             "#b8e186"
            ],
            [
             0.8,
             "#7fbc41"
            ],
            [
             0.9,
             "#4d9221"
            ],
            [
             1,
             "#276419"
            ]
           ],
           "sequential": [
            [
             0,
             "#0d0887"
            ],
            [
             0.1111111111111111,
             "#46039f"
            ],
            [
             0.2222222222222222,
             "#7201a8"
            ],
            [
             0.3333333333333333,
             "#9c179e"
            ],
            [
             0.4444444444444444,
             "#bd3786"
            ],
            [
             0.5555555555555556,
             "#d8576b"
            ],
            [
             0.6666666666666666,
             "#ed7953"
            ],
            [
             0.7777777777777778,
             "#fb9f3a"
            ],
            [
             0.8888888888888888,
             "#fdca26"
            ],
            [
             1,
             "#f0f921"
            ]
           ],
           "sequentialminus": [
            [
             0,
             "#0d0887"
            ],
            [
             0.1111111111111111,
             "#46039f"
            ],
            [
             0.2222222222222222,
             "#7201a8"
            ],
            [
             0.3333333333333333,
             "#9c179e"
            ],
            [
             0.4444444444444444,
             "#bd3786"
            ],
            [
             0.5555555555555556,
             "#d8576b"
            ],
            [
             0.6666666666666666,
             "#ed7953"
            ],
            [
             0.7777777777777778,
             "#fb9f3a"
            ],
            [
             0.8888888888888888,
             "#fdca26"
            ],
            [
             1,
             "#f0f921"
            ]
           ]
          },
          "colorway": [
           "#636efa",
           "#EF553B",
           "#00cc96",
           "#ab63fa",
           "#FFA15A",
           "#19d3f3",
           "#FF6692",
           "#B6E880",
           "#FF97FF",
           "#FECB52"
          ],
          "font": {
           "color": "#2a3f5f"
          },
          "geo": {
           "bgcolor": "white",
           "lakecolor": "white",
           "landcolor": "#E5ECF6",
           "showlakes": true,
           "showland": true,
           "subunitcolor": "white"
          },
          "hoverlabel": {
           "align": "left"
          },
          "hovermode": "closest",
          "mapbox": {
           "style": "light"
          },
          "paper_bgcolor": "white",
          "plot_bgcolor": "#E5ECF6",
          "polar": {
           "angularaxis": {
            "gridcolor": "white",
            "linecolor": "white",
            "ticks": ""
           },
           "bgcolor": "#E5ECF6",
           "radialaxis": {
            "gridcolor": "white",
            "linecolor": "white",
            "ticks": ""
           }
          },
          "scene": {
           "xaxis": {
            "backgroundcolor": "#E5ECF6",
            "gridcolor": "white",
            "gridwidth": 2,
            "linecolor": "white",
            "showbackground": true,
            "ticks": "",
            "zerolinecolor": "white"
           },
           "yaxis": {
            "backgroundcolor": "#E5ECF6",
            "gridcolor": "white",
            "gridwidth": 2,
            "linecolor": "white",
            "showbackground": true,
            "ticks": "",
            "zerolinecolor": "white"
           },
           "zaxis": {
            "backgroundcolor": "#E5ECF6",
            "gridcolor": "white",
            "gridwidth": 2,
            "linecolor": "white",
            "showbackground": true,
            "ticks": "",
            "zerolinecolor": "white"
           }
          },
          "shapedefaults": {
           "line": {
            "color": "#2a3f5f"
           }
          },
          "ternary": {
           "aaxis": {
            "gridcolor": "white",
            "linecolor": "white",
            "ticks": ""
           },
           "baxis": {
            "gridcolor": "white",
            "linecolor": "white",
            "ticks": ""
           },
           "bgcolor": "#E5ECF6",
           "caxis": {
            "gridcolor": "white",
            "linecolor": "white",
            "ticks": ""
           }
          },
          "title": {
           "x": 0.05
          },
          "xaxis": {
           "automargin": true,
           "gridcolor": "white",
           "linecolor": "white",
           "ticks": "",
           "title": {
            "standoff": 15
           },
           "zerolinecolor": "white",
           "zerolinewidth": 2
          },
          "yaxis": {
           "automargin": true,
           "gridcolor": "white",
           "linecolor": "white",
           "ticks": "",
           "title": {
            "standoff": 15
           },
           "zerolinecolor": "white",
           "zerolinewidth": 2
          }
         }
        }
       }
      }
     },
     "metadata": {},
     "output_type": "display_data"
    }
   ],
   "source": [
    "columns = [\"config/hidden_size\", \"config/dropout\", \"config/num_layers\", \"accuracy\"]\n",
    "visualize.parallel_plot(analysis_bayes, columns)"
   ]
  },
  {
   "cell_type": "markdown",
   "id": "a193cfb8",
   "metadata": {},
   "source": [
    "<font color='green'>\n",
    "\n",
    "##### **Explaination**\n",
    "\n",
    "Similar to the contour-plot, this parallel coordinates plot visualizes the relationship between different hyperparameters and model accuracy. \n",
    "\n",
    "- The first axis represents the hidden layer size, ranging from around 16 to 512.\n",
    "- The second axis shows the dropout rate, which varies between 0 and 1. \n",
    "- The third axis shows number of layers of the GRU model, whaich varies from 1 to 8.\n",
    "- The colorbar indicates model accuracy, where higher values correspond to better performance. \n",
    "\n",
    "Each line represents an experiment with a unique combination of these parameters, and the color of the lines reflects accuracy, with darker shades indicating lower accuracy and lighter shades representing higher accuracy. \n",
    "\n",
    "**From this plot, we can observe that larger hidden sizes tend to be associated with higher accuracy, while higher dropout values generally lead to lower accuracy. This suggests that while dropout is useful for regularization, too much of it may negatively impact performance because it stops neurons to learn any meaningful weights. By analyzing this visualization, we can identify the best-performing configurations and fine-tune hyperparameters accordingly to optimize model accuracy.**\n",
    "\n",
    "</font>"
   ]
  },
  {
   "cell_type": "code",
   "execution_count": 23,
   "id": "a3b370de",
   "metadata": {},
   "outputs": [
    {
     "data": {
      "image/png": "[encoded data removed]",
      "text/plain": [
       "<Figure size 1500x1200 with 2 Axes>"
      ]
     },
     "metadata": {},
     "output_type": "display_data"
    }
   ],
   "source": [
    "import matplotlib.pyplot as plt\n",
    "from mpl_toolkits.mplot3d import Axes3D\n",
    "\n",
    "fig = plt.figure(figsize=(15,12))\n",
    "ax = fig.add_subplot(111, projection='3d')\n",
    "\n",
    "# Scatter plot with color representing accuracy\n",
    "sc = ax.scatter(bayes[\"config/hidden_size\"], bayes[\"config/dropout\"], bayes[\"config/num_layers\"], \n",
    "                c=bayes[\"accuracy\"], cmap=\"viridis\")\n",
    "\n",
    "# Labels\n",
    "ax.set_xlabel(\"hidden_size\")\n",
    "ax.set_ylabel(\"dropout\")\n",
    "ax.set_zlabel(\"num_layers\")\n",
    "fig.colorbar(sc, label=\"Accuracy\")\n",
    "\n",
    "plt.show()"
   ]
  },
  {
   "cell_type": "markdown",
   "id": "4e6f2d81",
   "metadata": {},
   "source": [
    "<font color='green'>\n",
    "\n",
    "##### **Explaination**\n",
    "\n",
    "Similar to the contour-plot, this parallel coordinates plot visualizes the relationship between different hyperparameters and model accuracy. \n",
    "\n",
    "- The first axis represents the hidden layer size, ranging from around 16 to 512.\n",
    "- The second axis shows the dropout rate, which varies between 0 and 1. \n",
    "- The third axis shows number of layers of the GRU model, whaich varies from 1 to 8.\n",
    "- The colorbar indicates model accuracy, where higher values correspond to better performance. \n",
    "\n",
    "Each line represents an experiment with a unique combination of these parameters, and the color of the lines reflects accuracy, with darker shades indicating lower accuracy and lighter shades representing higher accuracy. \n",
    "\n",
    "**From this plot, we can observe that larger hidden sizes tend to be associated with higher accuracy, while higher dropout values generally lead to lower accuracy. This suggests that while dropout is useful for regularization, too much of it may negatively impact performance because it stops neurons to learn any meaningful weights. By analyzing this visualization, we can identify the best-performing configurations and fine-tune hyperparameters accordingly to optimize model accuracy.**\n",
    "\n",
    "</font>\n"
   ]
  },
  {
   "cell_type": "code",
   "execution_count": 18,
   "id": "0bb5ceb6",
   "metadata": {},
   "outputs": [
    {
     "data": {
      "text/html": [
       "<div class=\"tuneStatus\">\n",
       "  <div style=\"display: flex;flex-direction: row\">\n",
       "    <div style=\"display: flex;flex-direction: column;\">\n",
       "      <h3>Tune Status</h3>\n",
       "      <table>\n",
       "<tbody>\n",
       "<tr><td>Current time:</td><td>2025-02-18 18:02:20</td></tr>\n",
       "<tr><td>Running for: </td><td>04:07:05.50        </td></tr>\n",
       "<tr><td>Memory:      </td><td>13.1/31.2 GiB      </td></tr>\n",
       "</tbody>\n",
       "</table>\n",
       "    </div>\n",
       "    <div class=\"vDivider\"></div>\n",
       "    <div class=\"systemInfo\">\n",
       "      <h3>System Info</h3>\n",
       "      Using FIFO scheduling algorithm.<br>Logical resource usage: 1.0/12 CPUs, 0/1 GPUs (0.0/1.0 accelerator_type:G)\n",
       "    </div>\n",
       "    \n",
       "  </div>\n",
       "  <div class=\"hDivider\"></div>\n",
       "  <div class=\"trialStatus\">\n",
       "    <h3>Trial Status</h3>\n",
       "    <table>\n",
       "<thead>\n",
       "<tr><th>Trial name         </th><th>status    </th><th>loc              </th><th style=\"text-align: right;\">  dropout</th><th style=\"text-align: right;\">  fc_layer</th><th style=\"text-align: right;\">  iter</th><th style=\"text-align: right;\">  total time (s)</th><th style=\"text-align: right;\">  valid_loss</th><th style=\"text-align: right;\">  train_loss</th></tr>\n",
       "</thead>\n",
       "<tbody>\n",
       "<tr><td>tune_model_34442f59</td><td>TERMINATED</td><td>192.168.0.5:30940</td><td style=\"text-align: right;\">0.37454  </td><td style=\"text-align: right;\">   974.32 </td><td style=\"text-align: right;\">     5</td><td style=\"text-align: right;\">         814.899</td><td style=\"text-align: right;\">    0.279078</td><td style=\"text-align: right;\">    0.392268</td></tr>\n",
       "<tr><td>tune_model_f87df9f3</td><td>TERMINATED</td><td>192.168.0.5:31703</td><td style=\"text-align: right;\">0.731994 </td><td style=\"text-align: right;\">   619.448</td><td style=\"text-align: right;\">     5</td><td style=\"text-align: right;\">         821.73 </td><td style=\"text-align: right;\">    0.3111  </td><td style=\"text-align: right;\">    0.501592</td></tr>\n",
       "<tr><td>tune_model_1b81b0d4</td><td>TERMINATED</td><td>192.168.0.5:32535</td><td style=\"text-align: right;\">0.156019 </td><td style=\"text-align: right;\">   173.242</td><td style=\"text-align: right;\">     5</td><td style=\"text-align: right;\">         822.977</td><td style=\"text-align: right;\">    0.332064</td><td style=\"text-align: right;\">    0.407659</td></tr>\n",
       "<tr><td>tune_model_3f5470e1</td><td>TERMINATED</td><td>192.168.0.5:33109</td><td style=\"text-align: right;\">0.0580836</td><td style=\"text-align: right;\">   889.106</td><td style=\"text-align: right;\">     5</td><td style=\"text-align: right;\">         823.491</td><td style=\"text-align: right;\">    0.314759</td><td style=\"text-align: right;\">    0.355615</td></tr>\n",
       "<tr><td>tune_model_3829e7a0</td><td>TERMINATED</td><td>192.168.0.5:33652</td><td style=\"text-align: right;\">0.601115 </td><td style=\"text-align: right;\">   729.737</td><td style=\"text-align: right;\">     5</td><td style=\"text-align: right;\">         825.011</td><td style=\"text-align: right;\">    0.303416</td><td style=\"text-align: right;\">    0.447458</td></tr>\n",
       "<tr><td>tune_model_cf428ef3</td><td>TERMINATED</td><td>192.168.0.5:34271</td><td style=\"text-align: right;\">0.967164 </td><td style=\"text-align: right;\">   973.561</td><td style=\"text-align: right;\">     5</td><td style=\"text-align: right;\">         822.066</td><td style=\"text-align: right;\">    0.822839</td><td style=\"text-align: right;\">    1.2765  </td></tr>\n",
       "<tr><td>tune_model_3bd3decc</td><td>TERMINATED</td><td>192.168.0.5:34794</td><td style=\"text-align: right;\">0.597888 </td><td style=\"text-align: right;\">   729.813</td><td style=\"text-align: right;\">     5</td><td style=\"text-align: right;\">         819.759</td><td style=\"text-align: right;\">    0.292319</td><td style=\"text-align: right;\">    0.468956</td></tr>\n",
       "<tr><td>tune_model_2bfc62dc</td><td>TERMINATED</td><td>192.168.0.5:35327</td><td style=\"text-align: right;\">0.324335 </td><td style=\"text-align: right;\">   975.067</td><td style=\"text-align: right;\">     5</td><td style=\"text-align: right;\">         824.675</td><td style=\"text-align: right;\">    0.304438</td><td style=\"text-align: right;\">    0.417527</td></tr>\n",
       "<tr><td>tune_model_7938b55d</td><td>TERMINATED</td><td>192.168.0.5:35937</td><td style=\"text-align: right;\">0.133118 </td><td style=\"text-align: right;\">   730.835</td><td style=\"text-align: right;\">     5</td><td style=\"text-align: right;\">         819.648</td><td style=\"text-align: right;\">    0.362396</td><td style=\"text-align: right;\">    0.395516</td></tr>\n",
       "<tr><td>tune_model_0f04e00f</td><td>TERMINATED</td><td>192.168.0.5:36470</td><td style=\"text-align: right;\">0.0812251</td><td style=\"text-align: right;\">   620.167</td><td style=\"text-align: right;\">     5</td><td style=\"text-align: right;\">         820.49 </td><td style=\"text-align: right;\">    0.355918</td><td style=\"text-align: right;\">    0.388175</td></tr>\n",
       "<tr><td>tune_model_dd535def</td><td>TERMINATED</td><td>192.168.0.5:37139</td><td style=\"text-align: right;\">0.790436 </td><td style=\"text-align: right;\">   889.813</td><td style=\"text-align: right;\">     5</td><td style=\"text-align: right;\">         819.752</td><td style=\"text-align: right;\">    0.332681</td><td style=\"text-align: right;\">    0.548386</td></tr>\n",
       "<tr><td>tune_model_44015409</td><td>TERMINATED</td><td>192.168.0.5:38547</td><td style=\"text-align: right;\">0.968121 </td><td style=\"text-align: right;\">   730.49 </td><td style=\"text-align: right;\">     5</td><td style=\"text-align: right;\">         827.074</td><td style=\"text-align: right;\">    0.944111</td><td style=\"text-align: right;\">    1.33864 </td></tr>\n",
       "<tr><td>tune_model_0723450b</td><td>TERMINATED</td><td>192.168.0.5:39677</td><td style=\"text-align: right;\">0.139775 </td><td style=\"text-align: right;\">   889.793</td><td style=\"text-align: right;\">     5</td><td style=\"text-align: right;\">         824.601</td><td style=\"text-align: right;\">    0.30453 </td><td style=\"text-align: right;\">    0.369536</td></tr>\n",
       "<tr><td>tune_model_72c3144f</td><td>TERMINATED</td><td>192.168.0.5:40590</td><td style=\"text-align: right;\">0.141019 </td><td style=\"text-align: right;\">   889.776</td><td style=\"text-align: right;\">     5</td><td style=\"text-align: right;\">         822.944</td><td style=\"text-align: right;\">    0.375942</td><td style=\"text-align: right;\">    0.374789</td></tr>\n",
       "<tr><td>tune_model_daec86fc</td><td>TERMINATED</td><td>192.168.0.5:41576</td><td style=\"text-align: right;\">0.116436 </td><td style=\"text-align: right;\">   889.965</td><td style=\"text-align: right;\">     5</td><td style=\"text-align: right;\">         827.684</td><td style=\"text-align: right;\">    0.380996</td><td style=\"text-align: right;\">    0.390876</td></tr>\n",
       "<tr><td>tune_model_0683b91f</td><td>TERMINATED</td><td>192.168.0.5:42488</td><td style=\"text-align: right;\">0.0796418</td><td style=\"text-align: right;\">   620.179</td><td style=\"text-align: right;\">     5</td><td style=\"text-align: right;\">         823.919</td><td style=\"text-align: right;\">    0.329503</td><td style=\"text-align: right;\">    0.397689</td></tr>\n",
       "<tr><td>tune_model_c641bb17</td><td>TERMINATED</td><td>192.168.0.5:43336</td><td style=\"text-align: right;\">0.513243 </td><td style=\"text-align: right;\">   974.32 </td><td style=\"text-align: right;\">     5</td><td style=\"text-align: right;\">         816.943</td><td style=\"text-align: right;\">    0.267518</td><td style=\"text-align: right;\">    0.421106</td></tr>\n",
       "<tr><td>tune_model_ef791a5f</td><td>TERMINATED</td><td>192.168.0.5:44259</td><td style=\"text-align: right;\">0.799457 </td><td style=\"text-align: right;\">   729.807</td><td style=\"text-align: right;\">     5</td><td style=\"text-align: right;\">         805.816</td><td style=\"text-align: right;\">    0.301095</td><td style=\"text-align: right;\">    0.572978</td></tr>\n",
       "</tbody>\n",
       "</table>\n",
       "  </div>\n",
       "</div>\n",
       "<style>\n",
       ".tuneStatus {\n",
       "  color: var(--jp-ui-font-color1);\n",
       "}\n",
       ".tuneStatus .systemInfo {\n",
       "  display: flex;\n",
       "  flex-direction: column;\n",
       "}\n",
       ".tuneStatus td {\n",
       "  white-space: nowrap;\n",
       "}\n",
       ".tuneStatus .trialStatus {\n",
       "  display: flex;\n",
       "  flex-direction: column;\n",
       "}\n",
       ".tuneStatus h3 {\n",
       "  font-weight: bold;\n",
       "}\n",
       ".tuneStatus .hDivider {\n",
       "  border-bottom-width: var(--jp-border-width);\n",
       "  border-bottom-color: var(--jp-border-color0);\n",
       "  border-bottom-style: solid;\n",
       "}\n",
       ".tuneStatus .vDivider {\n",
       "  border-left-width: var(--jp-border-width);\n",
       "  border-left-color: var(--jp-border-color0);\n",
       "  border-left-style: solid;\n",
       "  margin: 0.5em 1em 0.5em 1em;\n",
       "}\n",
       "</style>\n"
      ],
      "text/plain": [
       "<IPython.core.display.HTML object>"
      ]
     },
     "metadata": {},
     "output_type": "display_data"
    },
    {
     "name": "stderr",
     "output_type": "stream",
     "text": [
      "2025-02-18 18:02:20,887\tINFO tune.py:1009 -- Wrote the latest version of all result files and experiment state to '/home/sarmad/Documents/code/upperkaam/notebooks_review/Deliverable_Part_1/notebooks/4_tuning_networks/models/ray/tune_model_2025-02-18_13-55-15' in 0.0042s.\n",
      "2025-02-18 18:02:20,892\tINFO tune.py:1041 -- Total run time: 14825.55 seconds (14825.50 seconds for the tuning loop).\n"
     ]
    }
   ],
   "source": [
    "from ray.tune.search.bayesopt import BayesOptSearch\n",
    "\n",
    "bayesopt = BayesOptSearch(random_search_steps=5)\n",
    "\n",
    "# Defining config for the RESNET model\n",
    "config = {\n",
    "    \"output_size\": 5,\n",
    "    \"dropout\": tune.uniform(0, 1.0),\n",
    "    \"fc_layer\": tune.uniform(16, 1024),\n",
    "    \"model_name\": \"RESNET\",\n",
    "    \"epochs\": MAX_EPOCHS,\n",
    "    \"tune_dir\": tune_dir,\n",
    "}\n",
    "\n",
    "tic = time.time()\n",
    "\n",
    "analysis_conv = tune.run(\n",
    "    tune_model,\n",
    "    config=config,\n",
    "    metric=\"valid_loss\",\n",
    "    mode=\"min\",\n",
    "    storage_path=str(tune_dir),\n",
    "    num_samples=N_EXPERIMENTS,\n",
    "    stop={\"training_iteration\": MAX_EPOCHS},\n",
    "    search_alg=bayesopt,\n",
    "    verbose=1,\n",
    "    max_concurrent_trials=1,    # To reduce the OEM error\n",
    ")\n",
    "\n",
    "time_resnet = time.time() - tic"
   ]
  },
  {
   "cell_type": "code",
   "execution_count": 19,
   "id": "0e900203",
   "metadata": {},
   "outputs": [],
   "source": [
    "best_conv = analysis_conv.get_best_config()\n",
    "best_conv[\"accuracy\"] = analysis_conv.best_result[\"accuracy\"]"
   ]
  },
  {
   "cell_type": "code",
   "execution_count": 20,
   "id": "2582683c",
   "metadata": {},
   "outputs": [],
   "source": [
    "conv_df = analysis_conv.results_df"
   ]
  },
  {
   "cell_type": "code",
   "execution_count": 24,
   "id": "37938a1a",
   "metadata": {},
   "outputs": [
    {
     "data": {
      "application/vnd.plotly.v1+json": {
       "config": {
        "plotlyServerURL": "https://plot.ly"
       },
       "data": [
        {
         "dimensions": [
          {
           "label": "config/fc_layer",
           "values": {
            "bdata": "++YYZ49yjkD9nwn/lFuDQE8ZE17Cp2VA1mAwLdjIi0B4GFCz5c2GQEH3mhV8bI5A9m4HZIHOhkBWg2xSiHiOQJfFOd6t1oZAnwlm71Vhg0AGiQ/ggc6LQG7dV3jr04ZAbG/1K1fOi0A1GGWCNc6LQFLYqiO5z4tA3P53qm1hg0B8KOZjj3KOQEzdx191zoZA",
            "dtype": "f8"
           }
          },
          {
           "label": "config/dropout",
           "values": {
            "bdata": "7FFfHnf41z9RZx6PfmznP4QhIjdr+MM/cFVknSK9rT+tS5KMVTzjP32iVQgC8+4/HT4pnuUh4z9aUqkq6MHUP0xsKoECCsE/yNBaYyrLtD+6iVUbQEvpPybxcQ/Z+u4/AA9hgCHkwT8cZuGB6wzCPxgybNfHzr0/AIt892djtD8Dud4OfWzgP8qm/Qknlek/",
            "dtype": "f8"
           }
          }
         ],
         "domain": {
          "x": [
           0,
           1
          ],
          "y": [
           0,
           1
          ]
         },
         "line": {
          "color": [
           0.8920454382896423,
           0.8920454382896423,
           0.890625,
           0.8977272510528564,
           0.8920454382896423,
           0.7982954382896423,
           0.90625,
           0.9119318127632141,
           0.8707386255264282,
           0.8849431872367859,
           0.8650568127632141,
           0.6931818127632141,
           0.890625,
           0.8664772510528564,
           0.8579545617103577,
           0.8948863744735718,
           0.9105113744735718,
           0.9019886255264282
          ],
          "coloraxis": "coloraxis"
         },
         "name": "",
         "type": "parcoords"
        }
       ],
       "layout": {
        "coloraxis": {
         "colorbar": {
          "title": {
           "text": "accuracy"
          }
         },
         "colorscale": [
          [
           0,
           "#0d0887"
          ],
          [
           0.1111111111111111,
           "#46039f"
          ],
          [
           0.2222222222222222,
           "#7201a8"
          ],
          [
           0.3333333333333333,
           "#9c179e"
          ],
          [
           0.4444444444444444,
           "#bd3786"
          ],
          [
           0.5555555555555556,
           "#d8576b"
          ],
          [
           0.6666666666666666,
           "#ed7953"
          ],
          [
           0.7777777777777778,
           "#fb9f3a"
          ],
          [
           0.8888888888888888,
           "#fdca26"
          ],
          [
           1,
           "#f0f921"
          ]
         ]
        },
        "legend": {
         "tracegroupgap": 0
        },
        "margin": {
         "t": 60
        },
        "template": {
         "data": {
          "bar": [
           {
            "error_x": {
             "color": "#2a3f5f"
            },
            "error_y": {
             "color": "#2a3f5f"
            },
            "marker": {
             "line": {
              "color": "#E5ECF6",
              "width": 0.5
             },
             "pattern": {
              "fillmode": "overlay",
              "size": 10,
              "solidity": 0.2
             }
            },
            "type": "bar"
           }
          ],
          "barpolar": [
           {
            "marker": {
             "line": {
              "color": "#E5ECF6",
              "width": 0.5
             },
             "pattern": {
              "fillmode": "overlay",
              "size": 10,
              "solidity": 0.2
             }
            },
            "type": "barpolar"
           }
          ],
          "carpet": [
           {
            "aaxis": {
             "endlinecolor": "#2a3f5f",
             "gridcolor": "white",
             "linecolor": "white",
             "minorgridcolor": "white",
             "startlinecolor": "#2a3f5f"
            },
            "baxis": {
             "endlinecolor": "#2a3f5f",
             "gridcolor": "white",
             "linecolor": "white",
             "minorgridcolor": "white",
             "startlinecolor": "#2a3f5f"
            },
            "type": "carpet"
           }
          ],
          "choropleth": [
           {
            "colorbar": {
             "outlinewidth": 0,
             "ticks": ""
            },
            "type": "choropleth"
           }
          ],
          "contour": [
           {
            "colorbar": {
             "outlinewidth": 0,
             "ticks": ""
            },
            "colorscale": [
             [
              0,
              "#0d0887"
             ],
             [
              0.1111111111111111,
              "#46039f"
             ],
             [
              0.2222222222222222,
              "#7201a8"
             ],
             [
              0.3333333333333333,
              "#9c179e"
             ],
             [
              0.4444444444444444,
              "#bd3786"
             ],
             [
              0.5555555555555556,
              "#d8576b"
             ],
             [
              0.6666666666666666,
              "#ed7953"
             ],
             [
              0.7777777777777778,
              "#fb9f3a"
             ],
             [
              0.8888888888888888,
              "#fdca26"
             ],
             [
              1,
              "#f0f921"
             ]
            ],
            "type": "contour"
           }
          ],
          "contourcarpet": [
           {
            "colorbar": {
             "outlinewidth": 0,
             "ticks": ""
            },
            "type": "contourcarpet"
           }
          ],
          "heatmap": [
           {
            "colorbar": {
             "outlinewidth": 0,
             "ticks": ""
            },
            "colorscale": [
             [
              0,
              "#0d0887"
             ],
             [
              0.1111111111111111,
              "#46039f"
             ],
             [
              0.2222222222222222,
              "#7201a8"
             ],
             [
              0.3333333333333333,
              "#9c179e"
             ],
             [
              0.4444444444444444,
              "#bd3786"
             ],
             [
              0.5555555555555556,
              "#d8576b"
             ],
             [
              0.6666666666666666,
              "#ed7953"
             ],
             [
              0.7777777777777778,
              "#fb9f3a"
             ],
             [
              0.8888888888888888,
              "#fdca26"
             ],
             [
              1,
              "#f0f921"
             ]
            ],
            "type": "heatmap"
           }
          ],
          "histogram": [
           {
            "marker": {
             "pattern": {
              "fillmode": "overlay",
              "size": 10,
              "solidity": 0.2
             }
            },
            "type": "histogram"
           }
          ],
          "histogram2d": [
           {
            "colorbar": {
             "outlinewidth": 0,
             "ticks": ""
            },
            "colorscale": [
             [
              0,
              "#0d0887"
             ],
             [
              0.1111111111111111,
              "#46039f"
             ],
             [
              0.2222222222222222,
              "#7201a8"
             ],
             [
              0.3333333333333333,
              "#9c179e"
             ],
             [
              0.4444444444444444,
              "#bd3786"
             ],
             [
              0.5555555555555556,
              "#d8576b"
             ],
             [
              0.6666666666666666,
              "#ed7953"
             ],
             [
              0.7777777777777778,
              "#fb9f3a"
             ],
             [
              0.8888888888888888,
              "#fdca26"
             ],
             [
              1,
              "#f0f921"
             ]
            ],
            "type": "histogram2d"
           }
          ],
          "histogram2dcontour": [
           {
            "colorbar": {
             "outlinewidth": 0,
             "ticks": ""
            },
            "colorscale": [
             [
              0,
              "#0d0887"
             ],
             [
              0.1111111111111111,
              "#46039f"
             ],
             [
              0.2222222222222222,
              "#7201a8"
             ],
             [
              0.3333333333333333,
              "#9c179e"
             ],
             [
              0.4444444444444444,
              "#bd3786"
             ],
             [
              0.5555555555555556,
              "#d8576b"
             ],
             [
              0.6666666666666666,
              "#ed7953"
             ],
             [
              0.7777777777777778,
              "#fb9f3a"
             ],
             [
              0.8888888888888888,
              "#fdca26"
             ],
             [
              1,
              "#f0f921"
             ]
            ],
            "type": "histogram2dcontour"
           }
          ],
          "mesh3d": [
           {
            "colorbar": {
             "outlinewidth": 0,
             "ticks": ""
            },
            "type": "mesh3d"
           }
          ],
          "parcoords": [
           {
            "line": {
             "colorbar": {
              "outlinewidth": 0,
              "ticks": ""
             }
            },
            "type": "parcoords"
           }
          ],
          "pie": [
           {
            "automargin": true,
            "type": "pie"
           }
          ],
          "scatter": [
           {
            "fillpattern": {
             "fillmode": "overlay",
             "size": 10,
             "solidity": 0.2
            },
            "type": "scatter"
           }
          ],
          "scatter3d": [
           {
            "line": {
             "colorbar": {
              "outlinewidth": 0,
              "ticks": ""
             }
            },
            "marker": {
             "colorbar": {
              "outlinewidth": 0,
              "ticks": ""
             }
            },
            "type": "scatter3d"
           }
          ],
          "scattercarpet": [
           {
            "marker": {
             "colorbar": {
              "outlinewidth": 0,
              "ticks": ""
             }
            },
            "type": "scattercarpet"
           }
          ],
          "scattergeo": [
           {
            "marker": {
             "colorbar": {
              "outlinewidth": 0,
              "ticks": ""
             }
            },
            "type": "scattergeo"
           }
          ],
          "scattergl": [
           {
            "marker": {
             "colorbar": {
              "outlinewidth": 0,
              "ticks": ""
             }
            },
            "type": "scattergl"
           }
          ],
          "scattermap": [
           {
            "marker": {
             "colorbar": {
              "outlinewidth": 0,
              "ticks": ""
             }
            },
            "type": "scattermap"
           }
          ],
          "scattermapbox": [
           {
            "marker": {
             "colorbar": {
              "outlinewidth": 0,
              "ticks": ""
             }
            },
            "type": "scattermapbox"
           }
          ],
          "scatterpolar": [
           {
            "marker": {
             "colorbar": {
              "outlinewidth": 0,
              "ticks": ""
             }
            },
            "type": "scatterpolar"
           }
          ],
          "scatterpolargl": [
           {
            "marker": {
             "colorbar": {
              "outlinewidth": 0,
              "ticks": ""
             }
            },
            "type": "scatterpolargl"
           }
          ],
          "scatterternary": [
           {
            "marker": {
             "colorbar": {
              "outlinewidth": 0,
              "ticks": ""
             }
            },
            "type": "scatterternary"
           }
          ],
          "surface": [
           {
            "colorbar": {
             "outlinewidth": 0,
             "ticks": ""
            },
            "colorscale": [
             [
              0,
              "#0d0887"
             ],
             [
              0.1111111111111111,
              "#46039f"
             ],
             [
              0.2222222222222222,
              "#7201a8"
             ],
             [
              0.3333333333333333,
              "#9c179e"
             ],
             [
              0.4444444444444444,
              "#bd3786"
             ],
             [
              0.5555555555555556,
              "#d8576b"
             ],
             [
              0.6666666666666666,
              "#ed7953"
             ],
             [
              0.7777777777777778,
              "#fb9f3a"
             ],
             [
              0.8888888888888888,
              "#fdca26"
             ],
             [
              1,
              "#f0f921"
             ]
            ],
            "type": "surface"
           }
          ],
          "table": [
           {
            "cells": {
             "fill": {
              "color": "#EBF0F8"
             },
             "line": {
              "color": "white"
             }
            },
            "header": {
             "fill": {
              "color": "#C8D4E3"
             },
             "line": {
              "color": "white"
             }
            },
            "type": "table"
           }
          ]
         },
         "layout": {
          "annotationdefaults": {
           "arrowcolor": "#2a3f5f",
           "arrowhead": 0,
           "arrowwidth": 1
          },
          "autotypenumbers": "strict",
          "coloraxis": {
           "colorbar": {
            "outlinewidth": 0,
            "ticks": ""
           }
          },
          "colorscale": {
           "diverging": [
            [
             0,
             "#8e0152"
            ],
            [
             0.1,
             "#c51b7d"
            ],
            [
             0.2,
             "#de77ae"
            ],
            [
             0.3,
             "#f1b6da"
            ],
            [
             0.4,
             "#fde0ef"
            ],
            [
             0.5,
             "#f7f7f7"
            ],
            [
             0.6,
             "#e6f5d0"
            ],
            [
             0.7,
             "#b8e186"
            ],
            [
             0.8,
             "#7fbc41"
            ],
            [
             0.9,
             "#4d9221"
            ],
            [
             1,
             "#276419"
            ]
           ],
           "sequential": [
            [
             0,
             "#0d0887"
            ],
            [
             0.1111111111111111,
             "#46039f"
            ],
            [
             0.2222222222222222,
             "#7201a8"
            ],
            [
             0.3333333333333333,
             "#9c179e"
            ],
            [
             0.4444444444444444,
             "#bd3786"
            ],
            [
             0.5555555555555556,
             "#d8576b"
            ],
            [
             0.6666666666666666,
             "#ed7953"
            ],
            [
             0.7777777777777778,
             "#fb9f3a"
            ],
            [
             0.8888888888888888,
             "#fdca26"
            ],
            [
             1,
             "#f0f921"
            ]
           ],
           "sequentialminus": [
            [
             0,
             "#0d0887"
            ],
            [
             0.1111111111111111,
             "#46039f"
            ],
            [
             0.2222222222222222,
             "#7201a8"
            ],
            [
             0.3333333333333333,
             "#9c179e"
            ],
            [
             0.4444444444444444,
             "#bd3786"
            ],
            [
             0.5555555555555556,
             "#d8576b"
            ],
            [
             0.6666666666666666,
             "#ed7953"
            ],
            [
             0.7777777777777778,
             "#fb9f3a"
            ],
            [
             0.8888888888888888,
             "#fdca26"
            ],
            [
             1,
             "#f0f921"
            ]
           ]
          },
          "colorway": [
           "#636efa",
           "#EF553B",
           "#00cc96",
           "#ab63fa",
           "#FFA15A",
           "#19d3f3",
           "#FF6692",
           "#B6E880",
           "#FF97FF",
           "#FECB52"
          ],
          "font": {
           "color": "#2a3f5f"
          },
          "geo": {
           "bgcolor": "white",
           "lakecolor": "white",
           "landcolor": "#E5ECF6",
           "showlakes": true,
           "showland": true,
           "subunitcolor": "white"
          },
          "hoverlabel": {
           "align": "left"
          },
          "hovermode": "closest",
          "mapbox": {
           "style": "light"
          },
          "paper_bgcolor": "white",
          "plot_bgcolor": "#E5ECF6",
          "polar": {
           "angularaxis": {
            "gridcolor": "white",
            "linecolor": "white",
            "ticks": ""
           },
           "bgcolor": "#E5ECF6",
           "radialaxis": {
            "gridcolor": "white",
            "linecolor": "white",
            "ticks": ""
           }
          },
          "scene": {
           "xaxis": {
            "backgroundcolor": "#E5ECF6",
            "gridcolor": "white",
            "gridwidth": 2,
            "linecolor": "white",
            "showbackground": true,
            "ticks": "",
            "zerolinecolor": "white"
           },
           "yaxis": {
            "backgroundcolor": "#E5ECF6",
            "gridcolor": "white",
            "gridwidth": 2,
            "linecolor": "white",
            "showbackground": true,
            "ticks": "",
            "zerolinecolor": "white"
           },
           "zaxis": {
            "backgroundcolor": "#E5ECF6",
            "gridcolor": "white",
            "gridwidth": 2,
            "linecolor": "white",
            "showbackground": true,
            "ticks": "",
            "zerolinecolor": "white"
           }
          },
          "shapedefaults": {
           "line": {
            "color": "#2a3f5f"
           }
          },
          "ternary": {
           "aaxis": {
            "gridcolor": "white",
            "linecolor": "white",
            "ticks": ""
           },
           "baxis": {
            "gridcolor": "white",
            "linecolor": "white",
            "ticks": ""
           },
           "bgcolor": "#E5ECF6",
           "caxis": {
            "gridcolor": "white",
            "linecolor": "white",
            "ticks": ""
           }
          },
          "title": {
           "x": 0.05
          },
          "xaxis": {
           "automargin": true,
           "gridcolor": "white",
           "linecolor": "white",
           "ticks": "",
           "title": {
            "standoff": 15
           },
           "zerolinecolor": "white",
           "zerolinewidth": 2
          },
          "yaxis": {
           "automargin": true,
           "gridcolor": "white",
           "linecolor": "white",
           "ticks": "",
           "title": {
            "standoff": 15
           },
           "zerolinecolor": "white",
           "zerolinewidth": 2
          }
         }
        }
       }
      }
     },
     "metadata": {},
     "output_type": "display_data"
    }
   ],
   "source": [
    "columns = [\"config/fc_layer\", \"config/dropout\", \"accuracy\"]\n",
    "visualize.parallel_plot(analysis_conv, columns)"
   ]
  },
  {
   "cell_type": "markdown",
   "id": "a285fbf7",
   "metadata": {},
   "source": [
    "<font color='green'>\n",
    "\n",
    "Similar to previous parallel coordinates plot for GRU model visualizes how different configurations of the fully connected (FC) layer size and dropout rate affect the accuracy of a ResNet model with only the last two layers modified. The color gradient represents accuracy, where lighter shades indicate higher accuracy and darker shades indicate lower accuracy.\n",
    "\n",
    "- The color of each line shows the model's accuracy, where warmer colors (yellow, orange) indicate better accuracy and cooler colors (blue, purple) indicate worse accuracy.\n",
    "- Some configurations (higher FC layer sizes with moderate dropout) seem to have achieved better accuracy, while some high dropout values negatively impacted accuracy.\n",
    "\n",
    "**Take aways:**\n",
    "- Larger FC layers generally help in achieving higher accuracy, but only to a certain extent.\n",
    "- Very high dropout rates tend to degrade performance, as they remove too many neurons, making learning difficult.\n",
    "- Moderate dropout values with a reasonably large FC layer seem to perform the best.\n",
    "\n",
    "</font>"
   ]
  },
  {
   "cell_type": "markdown",
   "id": "e129de25",
   "metadata": {},
   "source": []
  }
 ],
 "metadata": {
  "kernelspec": {
   "display_name": "Python 3 (ipykernel)",
   "language": "python",
   "name": "python3"
  },
  "language_info": {
   "codemirror_mode": {
    "name": "ipython",
    "version": 3
   },
   "file_extension": ".py",
   "mimetype": "text/x-python",
   "name": "python",
   "nbconvert_exporter": "python",
   "pygments_lexer": "ipython3",
   "version": "3.11.5"
  }
 },
 "nbformat": 4,
 "nbformat_minor": 5
}
