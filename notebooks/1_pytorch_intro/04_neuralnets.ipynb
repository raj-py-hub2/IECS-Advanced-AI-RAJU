{
 "cells": [
  {
   "attachments": {},
   "cell_type": "markdown",
   "metadata": {},
   "source": [
    "# Linear and Non Linear models"
   ]
  },
  {
   "cell_type": "code",
   "execution_count": 37,
   "metadata": {},
   "outputs": [],
   "source": [
    "import torch\n",
    "import seaborn as sns"
   ]
  },
  {
   "attachments": {},
   "cell_type": "markdown",
   "metadata": {},
   "source": [
    "## 1 Linear models\n",
    "One of the simplest models is the linear model. The basic shape of the formula is:\n",
    "\n",
    "$$\n",
    "y = wx + b\n",
    "$$\n",
    "Here, $x$ is a variable, $w$ and $b$ are constants that determine the slope and intercept of the line.\n",
    "\n",
    "We can scale this formula for multiple variables, like this:\n",
    "$$\n",
    "y = w_1 x_1 + w_2 x_2 + \\dots + w_n x_n + b\n",
    "$$\n",
    "\n",
    "Because it is easier to do this calculation as a dotproduct, we will typically use matrices.\n",
    "\n",
    "So, let us have $n$ observations of $m$ features, and we will represent that in a matrix $X$ with dimensions $(n,m)$. We will generate random observations:"
   ]
  },
  {
   "cell_type": "code",
   "execution_count": 38,
   "metadata": {},
   "outputs": [
    {
     "data": {
      "text/plain": [
       "torch.Size([100, 3])"
      ]
     },
     "execution_count": 38,
     "metadata": {},
     "output_type": "execute_result"
    }
   ],
   "source": [
    "n = 100\n",
    "m = 3\n",
    "X = torch.rand(n, m)\n",
    "X.shape"
   ]
  },
  {
   "attachments": {},
   "cell_type": "markdown",
   "metadata": {},
   "source": [
    "This matrix $X$ is our data. Now we want to have $m$ weights, and we want to sum that up untill we have a single number, so our weight $W$ will have dimensions $(m, 1)$. To get matrix multiplication to work, we need the last dimension of $X$ and the first dimension of $W$ to match. So because $X$ has 3 features (last dimension of $X$)$ our $W$ needs to have 3 numbers as its first dimension for `jnp.dot(X, W)` to work."
   ]
  },
  {
   "cell_type": "code",
   "execution_count": 39,
   "metadata": {},
   "outputs": [
    {
     "data": {
      "text/plain": [
       "(tensor([[ 0.0668],\n",
       "         [ 0.0526],\n",
       "         [-0.0719]]),\n",
       " tensor([0.0037]))"
      ]
     },
     "execution_count": 39,
     "metadata": {},
     "output_type": "execute_result"
    }
   ],
   "source": [
    "W = torch.normal(0., 0.1, (m, 1))\n",
    "b = torch.normal(0, 0.1, (1,))\n",
    "W, b"
   ]
  },
  {
   "cell_type": "code",
   "execution_count": 40,
   "metadata": {},
   "outputs": [
    {
     "data": {
      "text/plain": [
       "(torch.Size([3, 1]), torch.Size([1]))"
      ]
     },
     "execution_count": 40,
     "metadata": {},
     "output_type": "execute_result"
    }
   ],
   "source": [
    "W.shape, b.shape"
   ]
  },
  {
   "attachments": {},
   "cell_type": "markdown",
   "metadata": {},
   "source": [
    "Instead of using a forloop to calculate this linear formula $n$ times, we will use a dotproduct. This will calcute \n",
    "\n",
    "$$ \n",
    "y = w_1 x_1 + w_2 x_2 + w_3 x_3 + b\n",
    "$$\n",
    "\n",
    "for all $n$ observations."
   ]
  },
  {
   "cell_type": "code",
   "execution_count": 41,
   "metadata": {},
   "outputs": [
    {
     "data": {
      "text/plain": [
       "torch.Size([100, 1])"
      ]
     },
     "execution_count": 41,
     "metadata": {},
     "output_type": "execute_result"
    }
   ],
   "source": [
    "yhat = torch.matmul(X, W) + b\n",
    "yhat.shape"
   ]
  },
  {
   "attachments": {},
   "cell_type": "markdown",
   "metadata": {},
   "source": [
    "All we have to do is to learn the right weights, and we have a linear model. \n",
    "We could easily generate a 2 dimensional output instead of a 1 dimensional output by increasing the dimension of $W$"
   ]
  },
  {
   "cell_type": "code",
   "execution_count": 42,
   "metadata": {},
   "outputs": [
    {
     "data": {
      "text/plain": [
       "torch.Size([100, 2])"
      ]
     },
     "execution_count": 42,
     "metadata": {},
     "output_type": "execute_result"
    }
   ],
   "source": [
    "W = torch.normal(0., 0.1, (m, 2))\n",
    "yhat = torch.matmul(X, W)\n",
    "yhat.shape"
   ]
  },
  {
   "attachments": {},
   "cell_type": "markdown",
   "metadata": {},
   "source": [
    "## 2 Non linear models\n",
    "However, the simplicity of linear models is both their strength and weakness:\n",
    "- The simplicity protects against overfitting\n",
    "- The simplicity will underfit on non-linear datasets\n",
    "\n",
    "While a lot of things can be approached as a linear model, there are often more complex and non-linear relations in datasets. A naive idea could be to chain multiple linear models together, like this:\n",
    "\n",
    "$$\n",
    "y = f_2(f_1(x))\n",
    "$$\n",
    "\n",
    "which is equal to:\n",
    "\n",
    "$$\n",
    "y = W_2 (W_1 X + b_1) + b_2\n",
    "$$\n",
    "\n",
    "The idea is simply to feed the output of one model to the next. However, the problem here will be that you will end up with something that is equal to a single linear model:\n",
    "\n",
    "\\begin{align}\n",
    "y &= W_2 W_1 X + W_2 b_1 + b_2\\\\\n",
    "y &= W_3 X + b_3\\\\\n",
    "\\end{align}\n",
    "\n",
    "If you simplify $W_2 W_1$ to $W_3$ and $W_2 b_1 + b_2$ to $b_3$. \n",
    "\n",
    "## 3 Activation functions\n",
    "However, what will work for chaining is to add an activation function. There are a lot of functions that will work as an activation function; the main requirement is that they are non-linear."
   ]
  },
  {
   "cell_type": "code",
   "execution_count": 43,
   "metadata": {},
   "outputs": [],
   "source": [
    "def sigmoid(x: torch.Tensor) -> torch.Tensor:\n",
    "    return 1 / (1 + torch.exp(-x))"
   ]
  },
  {
   "cell_type": "code",
   "execution_count": 44,
   "metadata": {},
   "outputs": [
    {
     "data": {
      "text/plain": [
       "<Axes: xlabel='None', ylabel='None'>"
      ]
     },
     "execution_count": 44,
     "metadata": {},
     "output_type": "execute_result"
    },
    {
     "data": {
      "image/png": "[encoded data removed]",
      "text/plain": [
       "<Figure size 640x480 with 1 Axes>"
      ]
     },
     "metadata": {},
     "output_type": "display_data"
    }
   ],
   "source": [
    "k = 100\n",
    "x = torch.linspace(-5,5, k)\n",
    "sns.lineplot(x=x, y=sigmoid(x))"
   ]
  },
  {
   "attachments": {},
   "cell_type": "markdown",
   "metadata": {},
   "source": [
    "Intuitively, you can understand an activation function as a threshold. For example, the sensation of your chair usually lies below the threshold for noticing the sensation. If you increase the input (on the x-axis) you will get above the threshold as output (on the y-axis) at some point.  \n",
    "\n",
    "There are many types of activation functions. The simplest one is the ReLu, which is 0 if $x \\le 0$ and the identity function otherwise."
   ]
  },
  {
   "cell_type": "code",
   "execution_count": 45,
   "metadata": {},
   "outputs": [
    {
     "data": {
      "text/plain": [
       "<Axes: xlabel='None', ylabel='None'>"
      ]
     },
     "execution_count": 45,
     "metadata": {},
     "output_type": "execute_result"
    },
    {
     "data": {
      "image/png": "[encoded data removed]",
      "text/plain": [
       "<Figure size 640x480 with 1 Axes>"
      ]
     },
     "metadata": {},
     "output_type": "display_data"
    }
   ],
   "source": [
    "def relu(x: torch.Tensor) -> torch.Tensor:\n",
    "    return torch.maximum(torch.Tensor([0.]), x)\n",
    "\n",
    "sns.lineplot(x=x, y=relu(x))"
   ]
  },
  {
   "attachments": {},
   "cell_type": "markdown",
   "metadata": {},
   "source": [
    "This gives us all the building blocks needed for a neural network:\n",
    "\n",
    "![neural net](https://res.cloudinary.com/dyd911kmh/image/upload/f_auto,q_auto:best/v1547672259/2_i1cdwq.png)"
   ]
  },
  {
   "attachments": {},
   "cell_type": "markdown",
   "metadata": {},
   "source": [
    "Here, every observation has $n$ features, in this case three.\n",
    "Every input has a corresponding weight $w$, which is summed up with a linear model. \n",
    "The output of the linear model is the fed through an activation function.\n",
    "\n",
    "Let's test that. First we will generate Tuples $(W, b)$. We will make sure the dimensions of output and input will match."
   ]
  },
  {
   "cell_type": "code",
   "execution_count": 46,
   "metadata": {},
   "outputs": [],
   "source": [
    "import torch\n",
    "from typing import Tuple\n",
    "\n",
    "def init_weights(\n",
    "    m: int, n: int, scale: float = 1e-1, seed: int = 42\n",
    ") -> Tuple[torch.Tensor, torch.Tensor]:\n",
    "\n",
    "    torch.manual_seed(seed)\n",
    "\n",
    "    W = scale * torch.normal(0.0, scale, (m, n))\n",
    "    b = scale * torch.normal(0.0, scale, (n,))\n",
    "    return W, b"
   ]
  },
  {
   "cell_type": "code",
   "execution_count": 47,
   "metadata": {},
   "outputs": [
    {
     "data": {
      "text/plain": [
       "(torch.Size([10, 2]), torch.Size([2]))"
      ]
     },
     "execution_count": 47,
     "metadata": {},
     "output_type": "execute_result"
    }
   ],
   "source": [
    "W,b = init_weights(10, 2)\n",
    "W.shape, b.shape"
   ]
  },
  {
   "cell_type": "code",
   "execution_count": 48,
   "metadata": {},
   "outputs": [],
   "source": [
    "from typing import List\n",
    "def torch_network(\n",
    "    sizes: List[int],\n",
    "    scale: float = 1e-1,\n",
    "    seed: int = 42,\n",
    ") -> List[Tuple[torch.Tensor, torch.Tensor]]:\n",
    "\n",
    "    params = [init_weights(m, n, scale, seed) for m, n in zip(sizes[:-1], sizes[1:])]\n",
    "\n",
    "    return params"
   ]
  },
  {
   "cell_type": "code",
   "execution_count": 49,
   "metadata": {},
   "outputs": [
    {
     "name": "stdout",
     "output_type": "stream",
     "text": [
      "torch.Size([2, 8])\n",
      "torch.Size([8, 2])\n",
      "torch.Size([2, 1])\n"
     ]
    }
   ],
   "source": [
    "\n",
    "layersizes = [2, 8, 2, 1]\n",
    "params = torch_network(layersizes, seed=42)\n",
    "for w,_ in params:\n",
    "    print(w.shape)"
   ]
  },
  {
   "cell_type": "code",
   "execution_count": 50,
   "metadata": {},
   "outputs": [
    {
     "name": "stdout",
     "output_type": "stream",
     "text": [
      "tensor([[ 0.0193,  0.0149,  0.0090, -0.0211,  0.0068, -0.0123, -0.0004, -0.0160],\n",
      "        [-0.0075,  0.0165, -0.0039, -0.0140, -0.0073, -0.0056, -0.0077,  0.0076]]) \n",
      "\n",
      "tensor([ 0.0046,  0.0027,  0.0053,  0.0081,  0.0111, -0.0169, -0.0099,  0.0096]) \n",
      "\n",
      "tensor([[ 0.0193,  0.0149],\n",
      "        [ 0.0090, -0.0211],\n",
      "        [ 0.0068, -0.0123],\n",
      "        [-0.0004, -0.0160],\n",
      "        [-0.0075,  0.0165],\n",
      "        [-0.0039, -0.0140],\n",
      "        [-0.0073, -0.0056],\n",
      "        [-0.0077,  0.0076]]) \n",
      "\n",
      "tensor([0.0046, 0.0027]) \n",
      "\n",
      "tensor([[0.0034],\n",
      "        [0.0013]]) \n",
      "\n",
      "tensor([0.0023]) \n",
      "\n"
     ]
    }
   ],
   "source": [
    "for w,b in params:\n",
    "    print(w, \"\\n\")\n",
    "    print(b, \"\\n\")"
   ]
  },
  {
   "attachments": {},
   "cell_type": "markdown",
   "metadata": {},
   "source": [
    "We have three matrices. The first receives 2 features as input, 8 as output with dimensions $(2,8)$, the second will receive these 8 features as input, 2 as output and thus has $(8,2)$ dimensions, and the final layer transforms 2 dimensions into 1.\n",
    "\n",
    "This would similar to $f_1(f_2(f_3(x)))$, so chaining 3 models. However, because chaining linear models adds nothing, this could be reduced to $f(x)$ where $f$ is a linear model.\n",
    "\n",
    "Let's visualize this. First, I will build a 2D grid on the domain $[0,1]$ with a granularity of 100, so I will have $100*100$ coordinates."
   ]
  },
  {
   "cell_type": "code",
   "execution_count": 51,
   "metadata": {},
   "outputs": [],
   "source": [
    "import numpy as np\n",
    "def build_grid(k: int) -> Tuple[np.ndarray, np.ndarray, np.ndarray]:\n",
    "    \"\"\"creates a grid on [0,1] domain\n",
    "    with a granularity k\n",
    "\n",
    "    Args:\n",
    "        k (int): granularity\n",
    "\n",
    "    Returns:\n",
    "        np.ndarray: 2D coordinate grid on [0,1]\n",
    "    \"\"\"\n",
    "    x = np.linspace(0, 1, k)\n",
    "    y = np.linspace(0, 1, k)\n",
    "    xv, yv = np.meshgrid(x, y)\n",
    "    grid = np.c_[xv.ravel(), yv.ravel()]\n",
    "    return grid, x, y"
   ]
  },
  {
   "cell_type": "code",
   "execution_count": 52,
   "metadata": {},
   "outputs": [],
   "source": [
    "k = 100\n",
    "grid, x, y = build_grid(k=k)"
   ]
  },
  {
   "cell_type": "code",
   "execution_count": 53,
   "metadata": {},
   "outputs": [
    {
     "data": {
      "text/plain": [
       "array([[0.        , 0.        ],\n",
       "       [0.01010101, 0.        ],\n",
       "       [0.02020202, 0.        ]])"
      ]
     },
     "execution_count": 53,
     "metadata": {},
     "output_type": "execute_result"
    }
   ],
   "source": [
    "grid[:3] # grid has coordinates"
   ]
  },
  {
   "cell_type": "code",
   "execution_count": 54,
   "metadata": {},
   "outputs": [
    {
     "data": {
      "text/plain": [
       "array([[0.97979798, 1.        ],\n",
       "       [0.98989899, 1.        ],\n",
       "       [1.        , 1.        ]])"
      ]
     },
     "execution_count": 54,
     "metadata": {},
     "output_type": "execute_result"
    }
   ],
   "source": [
    "grid[-3:] # from (0,0) up to (1,1)"
   ]
  },
  {
   "cell_type": "code",
   "execution_count": 55,
   "metadata": {},
   "outputs": [
    {
     "data": {
      "text/plain": [
       "((100,), array([0.        , 0.01010101, 0.02020202, 0.03030303, 0.04040404]))"
      ]
     },
     "execution_count": 55,
     "metadata": {},
     "output_type": "execute_result"
    }
   ],
   "source": [
    "x.shape, x[:5] # x and y contain k values on the range [0,1]"
   ]
  },
  {
   "cell_type": "code",
   "execution_count": 56,
   "metadata": {},
   "outputs": [
    {
     "data": {
      "text/plain": [
       "torch.float32"
      ]
     },
     "execution_count": 56,
     "metadata": {},
     "output_type": "execute_result"
    }
   ],
   "source": [
    "grid = torch.from_numpy(grid).type(torch.float32)\n",
    "W, b = params[0]\n",
    "W.dtype"
   ]
  },
  {
   "cell_type": "code",
   "execution_count": 57,
   "metadata": {},
   "outputs": [],
   "source": [
    "from loguru import logger\n",
    "def predict(params, activations):\n",
    "    for w, b in params:\n",
    "        outputs = torch.matmul(activations, w) + b\n",
    "        logger.info(f\"Shape: {outputs.shape}\")\n",
    "        activations = outputs\n",
    "\n",
    "    return outputs"
   ]
  },
  {
   "cell_type": "markdown",
   "metadata": {},
   "source": [
    "<font color='green'>\n",
    "\n",
    "**Code modified**\n",
    "</font>"
   ]
  },
  {
   "cell_type": "code",
   "execution_count": 58,
   "metadata": {},
   "outputs": [
    {
     "name": "stderr",
     "output_type": "stream",
     "text": [
      "\u001b[32m2025-02-15 10:57:28.334\u001b[0m | \u001b[1mINFO    \u001b[0m | \u001b[36m__main__\u001b[0m:\u001b[36mpredict\u001b[0m:\u001b[36m5\u001b[0m - \u001b[1mShape: torch.Size([10000, 8])\u001b[0m\n",
      "\u001b[32m2025-02-15 10:57:28.335\u001b[0m | \u001b[1mINFO    \u001b[0m | \u001b[36m__main__\u001b[0m:\u001b[36mpredict\u001b[0m:\u001b[36m5\u001b[0m - \u001b[1mShape: torch.Size([10000, 2])\u001b[0m\n",
      "\u001b[32m2025-02-15 10:57:28.336\u001b[0m | \u001b[1mINFO    \u001b[0m | \u001b[36m__main__\u001b[0m:\u001b[36mpredict\u001b[0m:\u001b[36m5\u001b[0m - \u001b[1mShape: torch.Size([10000, 1])\u001b[0m\n"
     ]
    },
    {
     "data": {
      "application/vnd.plotly.v1+json": {
       "config": {
        "plotlyServerURL": "https://plot.ly"
       },
       "data": [
        {
         "type": "surface",
         "x": {
          "bdata": "AAAAAAAAAABbv1Kg1q+EP1u/UqDWr5Q/CB988MEHnz9bv1Kg1q+kPzJvZ0jM26k/CB988MEHrz9wZ0jM2xmyP1u/UqDWr7Q/RhdddNFFtz8yb2dIzNu5Px3HcRzHcbw/CB988MEHvz96O0Ni3s7AP3BnSMzbGcI/ZZNNNtlkwz9bv1Kg1q/EP1HrVwrU+sU/RhdddNFFxz88Q2LezpDIPzJvZ0jM28k/J5tssskmyz8dx3Ecx3HMPxPzdobEvM0/CB988MEHzz9/pUCtXynQP3o7Q2LeztA/ddFFF1100T9wZ0jM2xnSP2r9SoFav9I/ZZNNNtlk0z9gKVDrVwrUP1u/UqDWr9Q/VlVVVVVV1T9R61cK1PrVP0yBWr9SoNY/RhdddNFF1z9BrV8pUOvXPzxDYt7OkNg/N9lkk0022T8yb2dIzNvZPy0Fav1Kgdo/J5tssskm2z8iMW9nSMzbPx3HcRzHcdw/GF100UUX3T8T83aGxLzdPw6JeTtDYt4/CB988MEH3z8DtX6lQK3fP3+lQK1fKeA/ffDBBx984D96O0Ni3s7gP3eGxLydIeE/ddFFF1104T9yHMdxHMfhP3BnSMzbGeI/bbLJJpts4j9q/UqBWr/iP2hIzNsZEuM/ZZNNNtlk4z9j3s6QmLfjP2ApUOtXCuQ/XnTRRRdd5D9bv1Kg1q/kP1gK1PqVAuU/VlVVVVVV5T9ToNavFKjlP1HrVwrU+uU/TjbZZJNN5j9MgVq/UqDmP0nM2xkS8+Y/RhdddNFF5z9EYt7OkJjnP0GtXylQ6+c/P/jggw8+6D88Q2LezpDoPzmO4ziO4+g/N9lkk0026T80JObtDInpPzJvZ0jM2+k/L7rooosu6j8tBWr9SoHqPypQ61cK1Oo/J5tssskm6z8l5u0MiXnrPyIxb2dIzOs/IHzwwQcf7D8dx3Ecx3HsPxsS83aGxOw/GF100UUX7T8VqPUrBWrtPxPzdobEvO0/ED744IMP7j8OiXk7Q2LuPwvU+pUCte4/CB988MEH7z8Gav1KgVrvPwO1fqVAre8/AAAAAAAA8D8=",
          "dtype": "f8"
         },
         "y": {
          "bdata": "AAAAAAAAAABbv1Kg1q+EP1u/UqDWr5Q/CB988MEHnz9bv1Kg1q+kPzJvZ0jM26k/CB988MEHrz9wZ0jM2xmyP1u/UqDWr7Q/RhdddNFFtz8yb2dIzNu5Px3HcRzHcbw/CB988MEHvz96O0Ni3s7AP3BnSMzbGcI/ZZNNNtlkwz9bv1Kg1q/EP1HrVwrU+sU/RhdddNFFxz88Q2LezpDIPzJvZ0jM28k/J5tssskmyz8dx3Ecx3HMPxPzdobEvM0/CB988MEHzz9/pUCtXynQP3o7Q2LeztA/ddFFF1100T9wZ0jM2xnSP2r9SoFav9I/ZZNNNtlk0z9gKVDrVwrUP1u/UqDWr9Q/VlVVVVVV1T9R61cK1PrVP0yBWr9SoNY/RhdddNFF1z9BrV8pUOvXPzxDYt7OkNg/N9lkk0022T8yb2dIzNvZPy0Fav1Kgdo/J5tssskm2z8iMW9nSMzbPx3HcRzHcdw/GF100UUX3T8T83aGxLzdPw6JeTtDYt4/CB988MEH3z8DtX6lQK3fP3+lQK1fKeA/ffDBBx984D96O0Ni3s7gP3eGxLydIeE/ddFFF1104T9yHMdxHMfhP3BnSMzbGeI/bbLJJpts4j9q/UqBWr/iP2hIzNsZEuM/ZZNNNtlk4z9j3s6QmLfjP2ApUOtXCuQ/XnTRRRdd5D9bv1Kg1q/kP1gK1PqVAuU/VlVVVVVV5T9ToNavFKjlP1HrVwrU+uU/TjbZZJNN5j9MgVq/UqDmP0nM2xkS8+Y/RhdddNFF5z9EYt7OkJjnP0GtXylQ6+c/P/jggw8+6D88Q2LezpDoPzmO4ziO4+g/N9lkk0026T80JObtDInpPzJvZ0jM2+k/L7rooosu6j8tBWr9SoHqPypQ61cK1Oo/J5tssskm6z8l5u0MiXnrPyIxb2dIzOs/IHzwwQcf7D8dx3Ecx3HsPxsS83aGxOw/GF100UUX7T8VqPUrBWrtPxPzdobEvO0/ED744IMP7j8OiXk7Q2LuPwvU+pUCte4/CB988MEH7z8Gav1KgVrvPwO1fqVAre8/AAAAAAAA8D8=",
          "dtype": "f8"
         },
         "z": {
          "bdata": "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",
          "dtype": "f4",
          "shape": "100, 100"
         }
        }
       ],
       "layout": {
        "template": {
         "data": {
          "bar": [
           {
            "error_x": {
             "color": "#2a3f5f"
            },
            "error_y": {
             "color": "#2a3f5f"
            },
            "marker": {
             "line": {
              "color": "#E5ECF6",
              "width": 0.5
             },
             "pattern": {
              "fillmode": "overlay",
              "size": 10,
              "solidity": 0.2
             }
            },
            "type": "bar"
           }
          ],
          "barpolar": [
           {
            "marker": {
             "line": {
              "color": "#E5ECF6",
              "width": 0.5
             },
             "pattern": {
              "fillmode": "overlay",
              "size": 10,
              "solidity": 0.2
             }
            },
            "type": "barpolar"
           }
          ],
          "carpet": [
           {
            "aaxis": {
             "endlinecolor": "#2a3f5f",
             "gridcolor": "white",
             "linecolor": "white",
             "minorgridcolor": "white",
             "startlinecolor": "#2a3f5f"
            },
            "baxis": {
             "endlinecolor": "#2a3f5f",
             "gridcolor": "white",
             "linecolor": "white",
             "minorgridcolor": "white",
             "startlinecolor": "#2a3f5f"
            },
            "type": "carpet"
           }
          ],
          "choropleth": [
           {
            "colorbar": {
             "outlinewidth": 0,
             "ticks": ""
            },
            "type": "choropleth"
           }
          ],
          "contour": [
           {
            "colorbar": {
             "outlinewidth": 0,
             "ticks": ""
            },
            "colorscale": [
             [
              0,
              "#0d0887"
             ],
             [
              0.1111111111111111,
              "#46039f"
             ],
             [
              0.2222222222222222,
              "#7201a8"
             ],
             [
              0.3333333333333333,
              "#9c179e"
             ],
             [
              0.4444444444444444,
              "#bd3786"
             ],
             [
              0.5555555555555556,
              "#d8576b"
             ],
             [
              0.6666666666666666,
              "#ed7953"
             ],
             [
              0.7777777777777778,
              "#fb9f3a"
             ],
             [
              0.8888888888888888,
              "#fdca26"
             ],
             [
              1,
              "#f0f921"
             ]
            ],
            "type": "contour"
           }
          ],
          "contourcarpet": [
           {
            "colorbar": {
             "outlinewidth": 0,
             "ticks": ""
            },
            "type": "contourcarpet"
           }
          ],
          "heatmap": [
           {
            "colorbar": {
             "outlinewidth": 0,
             "ticks": ""
            },
            "colorscale": [
             [
              0,
              "#0d0887"
             ],
             [
              0.1111111111111111,
              "#46039f"
             ],
             [
              0.2222222222222222,
              "#7201a8"
             ],
             [
              0.3333333333333333,
              "#9c179e"
             ],
             [
              0.4444444444444444,
              "#bd3786"
             ],
             [
              0.5555555555555556,
              "#d8576b"
             ],
             [
              0.6666666666666666,
              "#ed7953"
             ],
             [
              0.7777777777777778,
              "#fb9f3a"
             ],
             [
              0.8888888888888888,
              "#fdca26"
             ],
             [
              1,
              "#f0f921"
             ]
            ],
            "type": "heatmap"
           }
          ],
          "histogram": [
           {
            "marker": {
             "pattern": {
              "fillmode": "overlay",
              "size": 10,
              "solidity": 0.2
             }
            },
            "type": "histogram"
           }
          ],
          "histogram2d": [
           {
            "colorbar": {
             "outlinewidth": 0,
             "ticks": ""
            },
            "colorscale": [
             [
              0,
              "#0d0887"
             ],
             [
              0.1111111111111111,
              "#46039f"
             ],
             [
              0.2222222222222222,
              "#7201a8"
             ],
             [
              0.3333333333333333,
              "#9c179e"
             ],
             [
              0.4444444444444444,
              "#bd3786"
             ],
             [
              0.5555555555555556,
              "#d8576b"
             ],
             [
              0.6666666666666666,
              "#ed7953"
             ],
             [
              0.7777777777777778,
              "#fb9f3a"
             ],
             [
              0.8888888888888888,
              "#fdca26"
             ],
             [
              1,
              "#f0f921"
             ]
            ],
            "type": "histogram2d"
           }
          ],
          "histogram2dcontour": [
           {
            "colorbar": {
             "outlinewidth": 0,
             "ticks": ""
            },
            "colorscale": [
             [
              0,
              "#0d0887"
             ],
             [
              0.1111111111111111,
              "#46039f"
             ],
             [
              0.2222222222222222,
              "#7201a8"
             ],
             [
              0.3333333333333333,
              "#9c179e"
             ],
             [
              0.4444444444444444,
              "#bd3786"
             ],
             [
              0.5555555555555556,
              "#d8576b"
             ],
             [
              0.6666666666666666,
              "#ed7953"
             ],
             [
              0.7777777777777778,
              "#fb9f3a"
             ],
             [
              0.8888888888888888,
              "#fdca26"
             ],
             [
              1,
              "#f0f921"
             ]
            ],
            "type": "histogram2dcontour"
           }
          ],
          "mesh3d": [
           {
            "colorbar": {
             "outlinewidth": 0,
             "ticks": ""
            },
            "type": "mesh3d"
           }
          ],
          "parcoords": [
           {
            "line": {
             "colorbar": {
              "outlinewidth": 0,
              "ticks": ""
             }
            },
            "type": "parcoords"
           }
          ],
          "pie": [
           {
            "automargin": true,
            "type": "pie"
           }
          ],
          "scatter": [
           {
            "fillpattern": {
             "fillmode": "overlay",
             "size": 10,
             "solidity": 0.2
            },
            "type": "scatter"
           }
          ],
          "scatter3d": [
           {
            "line": {
             "colorbar": {
              "outlinewidth": 0,
              "ticks": ""
             }
            },
            "marker": {
             "colorbar": {
              "outlinewidth": 0,
              "ticks": ""
             }
            },
            "type": "scatter3d"
           }
          ],
          "scattercarpet": [
           {
            "marker": {
             "colorbar": {
              "outlinewidth": 0,
              "ticks": ""
             }
            },
            "type": "scattercarpet"
           }
          ],
          "scattergeo": [
           {
            "marker": {
             "colorbar": {
              "outlinewidth": 0,
              "ticks": ""
             }
            },
            "type": "scattergeo"
           }
          ],
          "scattergl": [
           {
            "marker": {
             "colorbar": {
              "outlinewidth": 0,
              "ticks": ""
             }
            },
            "type": "scattergl"
           }
          ],
          "scattermap": [
           {
            "marker": {
             "colorbar": {
              "outlinewidth": 0,
              "ticks": ""
             }
            },
            "type": "scattermap"
           }
          ],
          "scattermapbox": [
           {
            "marker": {
             "colorbar": {
              "outlinewidth": 0,
              "ticks": ""
             }
            },
            "type": "scattermapbox"
           }
          ],
          "scatterpolar": [
           {
            "marker": {
             "colorbar": {
              "outlinewidth": 0,
              "ticks": ""
             }
            },
            "type": "scatterpolar"
           }
          ],
          "scatterpolargl": [
           {
            "marker": {
             "colorbar": {
              "outlinewidth": 0,
              "ticks": ""
             }
            },
            "type": "scatterpolargl"
           }
          ],
          "scatterternary": [
           {
            "marker": {
             "colorbar": {
              "outlinewidth": 0,
              "ticks": ""
             }
            },
            "type": "scatterternary"
           }
          ],
          "surface": [
           {
            "colorbar": {
             "outlinewidth": 0,
             "ticks": ""
            },
            "colorscale": [
             [
              0,
              "#0d0887"
             ],
             [
              0.1111111111111111,
              "#46039f"
             ],
             [
              0.2222222222222222,
              "#7201a8"
             ],
             [
              0.3333333333333333,
              "#9c179e"
             ],
             [
              0.4444444444444444,
              "#bd3786"
             ],
             [
              0.5555555555555556,
              "#d8576b"
             ],
             [
              0.6666666666666666,
              "#ed7953"
             ],
             [
              0.7777777777777778,
              "#fb9f3a"
             ],
             [
              0.8888888888888888,
              "#fdca26"
             ],
             [
              1,
              "#f0f921"
             ]
            ],
            "type": "surface"
           }
          ],
          "table": [
           {
            "cells": {
             "fill": {
              "color": "#EBF0F8"
             },
             "line": {
              "color": "white"
             }
            },
            "header": {
             "fill": {
              "color": "#C8D4E3"
             },
             "line": {
              "color": "white"
             }
            },
            "type": "table"
           }
          ]
         },
         "layout": {
          "annotationdefaults": {
           "arrowcolor": "#2a3f5f",
           "arrowhead": 0,
           "arrowwidth": 1
          },
          "autotypenumbers": "strict",
          "coloraxis": {
           "colorbar": {
            "outlinewidth": 0,
            "ticks": ""
           }
          },
          "colorscale": {
           "diverging": [
            [
             0,
             "#8e0152"
            ],
            [
             0.1,
             "#c51b7d"
            ],
            [
             0.2,
             "#de77ae"
            ],
            [
             0.3,
             "#f1b6da"
            ],
            [
             0.4,
             "#fde0ef"
            ],
            [
             0.5,
             "#f7f7f7"
            ],
            [
             0.6,
             "#e6f5d0"
            ],
            [
             0.7,
             "#b8e186"
            ],
            [
             0.8,
             "#7fbc41"
            ],
            [
             0.9,
             "#4d9221"
            ],
            [
             1,
             "#276419"
            ]
           ],
           "sequential": [
            [
             0,
             "#0d0887"
            ],
            [
             0.1111111111111111,
             "#46039f"
            ],
            [
             0.2222222222222222,
             "#7201a8"
            ],
            [
             0.3333333333333333,
             "#9c179e"
            ],
            [
             0.4444444444444444,
             "#bd3786"
            ],
            [
             0.5555555555555556,
             "#d8576b"
            ],
            [
             0.6666666666666666,
             "#ed7953"
            ],
            [
             0.7777777777777778,
             "#fb9f3a"
            ],
            [
             0.8888888888888888,
             "#fdca26"
            ],
            [
             1,
             "#f0f921"
            ]
           ],
           "sequentialminus": [
            [
             0,
             "#0d0887"
            ],
            [
             0.1111111111111111,
             "#46039f"
            ],
            [
             0.2222222222222222,
             "#7201a8"
            ],
            [
             0.3333333333333333,
             "#9c179e"
            ],
            [
             0.4444444444444444,
             "#bd3786"
            ],
            [
             0.5555555555555556,
             "#d8576b"
            ],
            [
             0.6666666666666666,
             "#ed7953"
            ],
            [
             0.7777777777777778,
             "#fb9f3a"
            ],
            [
             0.8888888888888888,
             "#fdca26"
            ],
            [
             1,
             "#f0f921"
            ]
           ]
          },
          "colorway": [
           "#636efa",
           "#EF553B",
           "#00cc96",
           "#ab63fa",
           "#FFA15A",
           "#19d3f3",
           "#FF6692",
           "#B6E880",
           "#FF97FF",
           "#FECB52"
          ],
          "font": {
           "color": "#2a3f5f"
          },
          "geo": {
           "bgcolor": "white",
           "lakecolor": "white",
           "landcolor": "#E5ECF6",
           "showlakes": true,
           "showland": true,
           "subunitcolor": "white"
          },
          "hoverlabel": {
           "align": "left"
          },
          "hovermode": "closest",
          "mapbox": {
           "style": "light"
          },
          "paper_bgcolor": "white",
          "plot_bgcolor": "#E5ECF6",
          "polar": {
           "angularaxis": {
            "gridcolor": "white",
            "linecolor": "white",
            "ticks": ""
           },
           "bgcolor": "#E5ECF6",
           "radialaxis": {
            "gridcolor": "white",
            "linecolor": "white",
            "ticks": ""
           }
          },
          "scene": {
           "xaxis": {
            "backgroundcolor": "#E5ECF6",
            "gridcolor": "white",
            "gridwidth": 2,
            "linecolor": "white",
            "showbackground": true,
            "ticks": "",
            "zerolinecolor": "white"
           },
           "yaxis": {
            "backgroundcolor": "#E5ECF6",
            "gridcolor": "white",
            "gridwidth": 2,
            "linecolor": "white",
            "showbackground": true,
            "ticks": "",
            "zerolinecolor": "white"
           },
           "zaxis": {
            "backgroundcolor": "#E5ECF6",
            "gridcolor": "white",
            "gridwidth": 2,
            "linecolor": "white",
            "showbackground": true,
            "ticks": "",
            "zerolinecolor": "white"
           }
          },
          "shapedefaults": {
           "line": {
            "color": "#2a3f5f"
           }
          },
          "ternary": {
           "aaxis": {
            "gridcolor": "white",
            "linecolor": "white",
            "ticks": ""
           },
           "baxis": {
            "gridcolor": "white",
            "linecolor": "white",
            "ticks": ""
           },
           "bgcolor": "#E5ECF6",
           "caxis": {
            "gridcolor": "white",
            "linecolor": "white",
            "ticks": ""
           }
          },
          "title": {
           "x": 0.05
          },
          "xaxis": {
           "automargin": true,
           "gridcolor": "white",
           "linecolor": "white",
           "ticks": "",
           "title": {
            "standoff": 15
           },
           "zerolinecolor": "white",
           "zerolinewidth": 2
          },
          "yaxis": {
           "automargin": true,
           "gridcolor": "white",
           "linecolor": "white",
           "ticks": "",
           "title": {
            "standoff": 15
           },
           "zerolinecolor": "white",
           "zerolinewidth": 2
          }
         }
        }
       }
      }
     },
     "metadata": {},
     "output_type": "display_data"
    }
   ],
   "source": [
    "import plotly.io as pio\n",
    "\n",
    "#modified it to use within vscode, if you want to use with notebook, then change \"vscode\" to \"notebook\"\n",
    "pio.renderers.default = \"vscode\"     \n",
    "\n",
    "out = predict(params, grid)\n",
    "z = out.reshape(k,k)\n",
    "\n",
    "import plotly.graph_objects as go\n",
    "fig = go.Figure(data=go.Surface(x=x, y=y, z=z))\n",
    "fig.show()\n"
   ]
  },
  {
   "attachments": {},
   "cell_type": "markdown",
   "metadata": {},
   "source": [
    "Exactly what we expected. We have a 2D hyperplane. If we are doing classification, this hyperplane splits the 3D datapoints into two classes, and we could classify the group of point that fall above or below the hyperplane as belonging to one or another class.\n",
    "\n",
    "In the case of regression, we would want the point to fall on the hyperplane, as much as possible.\n",
    "\n",
    "Even though we could scale this to more dimensions easily, the limitations of a linear model should be clear: a lot of data simply is not linear.\n",
    "\n",
    "To avoid this, we can add tricks to our model:\n",
    "\n",
    "- a simple approach would be to do basis expansion. E.g. points $X = (x_1, x_2)$ might not be linear serparable, but $\\phi(X) = (x_1, x_2, x_1 x_2, x_1^2, x_2^2)$ is a basis expansion that might be linear.\n",
    "- because basis expansion runs into scaling problems pretty fast (it scales roughly $O(n^2)$) we could use the kernel trick, like a Support Vector Machine does. \n",
    "- We could use a decision tree or randomm model, which is a way to chain linear models that result in non linear models) we could use the kernel trick, like a Support Vector Machine does. \n",
    "- We could use a decision tree or randomm model, which is a way to chain linear models that result in non linear models.\n",
    "\n",
    "These \"tricks\" cover most of the classic models you can find in the scikit-learn library. While they have advantages, there will still be cases where these models are not commplex enough. \n",
    "\n",
    "# Neural Networks\n",
    "A neural network chains linear models with an activation function. The only thing that is different in the next model is that after every linear transformation we will apply the relu function.\n",
    "\n",
    "![full network](../../reports/figures/nnet.png)\n",
    "\n",
    "This is what a fully connected neural network would look like.\n",
    "We can recognize the single units with the multiple inputs.\n",
    "\n",
    "Rebuild the parameters a few times and see how the model changes."
   ]
  },
  {
   "cell_type": "code",
   "execution_count": 59,
   "metadata": {},
   "outputs": [],
   "source": [
    "layersizes = [2, 8, 16, 4, 1]\n",
    "random_seed = 5\n",
    "params = torch_network(layersizes, scale=1e-1, seed=random_seed)"
   ]
  },
  {
   "cell_type": "code",
   "execution_count": 60,
   "metadata": {},
   "outputs": [
    {
     "data": {
      "text/plain": [
       "torch.Size([16, 4])"
      ]
     },
     "execution_count": 60,
     "metadata": {},
     "output_type": "execute_result"
    }
   ],
   "source": [
    "params[2][0].shape"
   ]
  },
  {
   "cell_type": "code",
   "execution_count": 61,
   "metadata": {},
   "outputs": [],
   "source": [
    "def nn_predict(params, activations):\n",
    "    for w, b in params[:-1]:\n",
    "        outputs = torch.matmul(activations, w) + b\n",
    "        logger.info(f\"Shape: {outputs.shape}\")\n",
    "        activations = relu(outputs)\n",
    "\n",
    "    final_w, final_b = params[-1]\n",
    "    logits = torch.matmul(activations, final_w) + final_b\n",
    "    logger.info(f\"Shape: {logits.shape}\")\n",
    "    return logits"
   ]
  },
  {
   "cell_type": "code",
   "execution_count": 62,
   "metadata": {},
   "outputs": [
    {
     "name": "stderr",
     "output_type": "stream",
     "text": [
      "\u001b[32m2025-02-15 10:57:28.364\u001b[0m | \u001b[1mINFO    \u001b[0m | \u001b[36m__main__\u001b[0m:\u001b[36mnn_predict\u001b[0m:\u001b[36m4\u001b[0m - \u001b[1mShape: torch.Size([10000, 8])\u001b[0m\n",
      "\u001b[32m2025-02-15 10:57:28.365\u001b[0m | \u001b[1mINFO    \u001b[0m | \u001b[36m__main__\u001b[0m:\u001b[36mnn_predict\u001b[0m:\u001b[36m4\u001b[0m - \u001b[1mShape: torch.Size([10000, 16])\u001b[0m\n",
      "\u001b[32m2025-02-15 10:57:28.365\u001b[0m | \u001b[1mINFO    \u001b[0m | \u001b[36m__main__\u001b[0m:\u001b[36mnn_predict\u001b[0m:\u001b[36m4\u001b[0m - \u001b[1mShape: torch.Size([10000, 4])\u001b[0m\n",
      "\u001b[32m2025-02-15 10:57:28.366\u001b[0m | \u001b[1mINFO    \u001b[0m | \u001b[36m__main__\u001b[0m:\u001b[36mnn_predict\u001b[0m:\u001b[36m9\u001b[0m - \u001b[1mShape: torch.Size([10000, 1])\u001b[0m\n"
     ]
    },
    {
     "data": {
      "application/vnd.plotly.v1+json": {
       "config": {
        "plotlyServerURL": "https://plot.ly"
       },
       "data": [
        {
         "type": "surface",
         "x": {
          "bdata": "AAAAAAAAAABbv1Kg1q+EP1u/UqDWr5Q/CB988MEHnz9bv1Kg1q+kPzJvZ0jM26k/CB988MEHrz9wZ0jM2xmyP1u/UqDWr7Q/RhdddNFFtz8yb2dIzNu5Px3HcRzHcbw/CB988MEHvz96O0Ni3s7AP3BnSMzbGcI/ZZNNNtlkwz9bv1Kg1q/EP1HrVwrU+sU/RhdddNFFxz88Q2LezpDIPzJvZ0jM28k/J5tssskmyz8dx3Ecx3HMPxPzdobEvM0/CB988MEHzz9/pUCtXynQP3o7Q2LeztA/ddFFF1100T9wZ0jM2xnSP2r9SoFav9I/ZZNNNtlk0z9gKVDrVwrUP1u/UqDWr9Q/VlVVVVVV1T9R61cK1PrVP0yBWr9SoNY/RhdddNFF1z9BrV8pUOvXPzxDYt7OkNg/N9lkk0022T8yb2dIzNvZPy0Fav1Kgdo/J5tssskm2z8iMW9nSMzbPx3HcRzHcdw/GF100UUX3T8T83aGxLzdPw6JeTtDYt4/CB988MEH3z8DtX6lQK3fP3+lQK1fKeA/ffDBBx984D96O0Ni3s7gP3eGxLydIeE/ddFFF1104T9yHMdxHMfhP3BnSMzbGeI/bbLJJpts4j9q/UqBWr/iP2hIzNsZEuM/ZZNNNtlk4z9j3s6QmLfjP2ApUOtXCuQ/XnTRRRdd5D9bv1Kg1q/kP1gK1PqVAuU/VlVVVVVV5T9ToNavFKjlP1HrVwrU+uU/TjbZZJNN5j9MgVq/UqDmP0nM2xkS8+Y/RhdddNFF5z9EYt7OkJjnP0GtXylQ6+c/P/jggw8+6D88Q2LezpDoPzmO4ziO4+g/N9lkk0026T80JObtDInpPzJvZ0jM2+k/L7rooosu6j8tBWr9SoHqPypQ61cK1Oo/J5tssskm6z8l5u0MiXnrPyIxb2dIzOs/IHzwwQcf7D8dx3Ecx3HsPxsS83aGxOw/GF100UUX7T8VqPUrBWrtPxPzdobEvO0/ED744IMP7j8OiXk7Q2LuPwvU+pUCte4/CB988MEH7z8Gav1KgVrvPwO1fqVAre8/AAAAAAAA8D8=",
          "dtype": "f8"
         },
         "y": {
          "bdata": "AAAAAAAAAABbv1Kg1q+EP1u/UqDWr5Q/CB988MEHnz9bv1Kg1q+kPzJvZ0jM26k/CB988MEHrz9wZ0jM2xmyP1u/UqDWr7Q/RhdddNFFtz8yb2dIzNu5Px3HcRzHcbw/CB988MEHvz96O0Ni3s7AP3BnSMzbGcI/ZZNNNtlkwz9bv1Kg1q/EP1HrVwrU+sU/RhdddNFFxz88Q2LezpDIPzJvZ0jM28k/J5tssskmyz8dx3Ecx3HMPxPzdobEvM0/CB988MEHzz9/pUCtXynQP3o7Q2LeztA/ddFFF1100T9wZ0jM2xnSP2r9SoFav9I/ZZNNNtlk0z9gKVDrVwrUP1u/UqDWr9Q/VlVVVVVV1T9R61cK1PrVP0yBWr9SoNY/RhdddNFF1z9BrV8pUOvXPzxDYt7OkNg/N9lkk0022T8yb2dIzNvZPy0Fav1Kgdo/J5tssskm2z8iMW9nSMzbPx3HcRzHcdw/GF100UUX3T8T83aGxLzdPw6JeTtDYt4/CB988MEH3z8DtX6lQK3fP3+lQK1fKeA/ffDBBx984D96O0Ni3s7gP3eGxLydIeE/ddFFF1104T9yHMdxHMfhP3BnSMzbGeI/bbLJJpts4j9q/UqBWr/iP2hIzNsZEuM/ZZNNNtlk4z9j3s6QmLfjP2ApUOtXCuQ/XnTRRRdd5D9bv1Kg1q/kP1gK1PqVAuU/VlVVVVVV5T9ToNavFKjlP1HrVwrU+uU/TjbZZJNN5j9MgVq/UqDmP0nM2xkS8+Y/RhdddNFF5z9EYt7OkJjnP0GtXylQ6+c/P/jggw8+6D88Q2LezpDoPzmO4ziO4+g/N9lkk0026T80JObtDInpPzJvZ0jM2+k/L7rooosu6j8tBWr9SoHqPypQ61cK1Oo/J5tssskm6z8l5u0MiXnrPyIxb2dIzOs/IHzwwQcf7D8dx3Ecx3HsPxsS83aGxOw/GF100UUX7T8VqPUrBWrtPxPzdobEvO0/ED744IMP7j8OiXk7Q2LuPwvU+pUCte4/CB988MEH7z8Gav1KgVrvPwO1fqVAre8/AAAAAAAA8D8=",
          "dtype": "f8"
         },
         "z": {
          "bdata": "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",
          "dtype": "f4",
          "shape": "100, 100"
         }
        }
       ],
       "layout": {
        "template": {
         "data": {
          "bar": [
           {
            "error_x": {
             "color": "#2a3f5f"
            },
            "error_y": {
             "color": "#2a3f5f"
            },
            "marker": {
             "line": {
              "color": "#E5ECF6",
              "width": 0.5
             },
             "pattern": {
              "fillmode": "overlay",
              "size": 10,
              "solidity": 0.2
             }
            },
            "type": "bar"
           }
          ],
          "barpolar": [
           {
            "marker": {
             "line": {
              "color": "#E5ECF6",
              "width": 0.5
             },
             "pattern": {
              "fillmode": "overlay",
              "size": 10,
              "solidity": 0.2
             }
            },
            "type": "barpolar"
           }
          ],
          "carpet": [
           {
            "aaxis": {
             "endlinecolor": "#2a3f5f",
             "gridcolor": "white",
             "linecolor": "white",
             "minorgridcolor": "white",
             "startlinecolor": "#2a3f5f"
            },
            "baxis": {
             "endlinecolor": "#2a3f5f",
             "gridcolor": "white",
             "linecolor": "white",
             "minorgridcolor": "white",
             "startlinecolor": "#2a3f5f"
            },
            "type": "carpet"
           }
          ],
          "choropleth": [
           {
            "colorbar": {
             "outlinewidth": 0,
             "ticks": ""
            },
            "type": "choropleth"
           }
          ],
          "contour": [
           {
            "colorbar": {
             "outlinewidth": 0,
             "ticks": ""
            },
            "colorscale": [
             [
              0,
              "#0d0887"
             ],
             [
              0.1111111111111111,
              "#46039f"
             ],
             [
              0.2222222222222222,
              "#7201a8"
             ],
             [
              0.3333333333333333,
              "#9c179e"
             ],
             [
              0.4444444444444444,
              "#bd3786"
             ],
             [
              0.5555555555555556,
              "#d8576b"
             ],
             [
              0.6666666666666666,
              "#ed7953"
             ],
             [
              0.7777777777777778,
              "#fb9f3a"
             ],
             [
              0.8888888888888888,
              "#fdca26"
             ],
             [
              1,
              "#f0f921"
             ]
            ],
            "type": "contour"
           }
          ],
          "contourcarpet": [
           {
            "colorbar": {
             "outlinewidth": 0,
             "ticks": ""
            },
            "type": "contourcarpet"
           }
          ],
          "heatmap": [
           {
            "colorbar": {
             "outlinewidth": 0,
             "ticks": ""
            },
            "colorscale": [
             [
              0,
              "#0d0887"
             ],
             [
              0.1111111111111111,
              "#46039f"
             ],
             [
              0.2222222222222222,
              "#7201a8"
             ],
             [
              0.3333333333333333,
              "#9c179e"
             ],
             [
              0.4444444444444444,
              "#bd3786"
             ],
             [
              0.5555555555555556,
              "#d8576b"
             ],
             [
              0.6666666666666666,
              "#ed7953"
             ],
             [
              0.7777777777777778,
              "#fb9f3a"
             ],
             [
              0.8888888888888888,
              "#fdca26"
             ],
             [
              1,
              "#f0f921"
             ]
            ],
            "type": "heatmap"
           }
          ],
          "histogram": [
           {
            "marker": {
             "pattern": {
              "fillmode": "overlay",
              "size": 10,
              "solidity": 0.2
             }
            },
            "type": "histogram"
           }
          ],
          "histogram2d": [
           {
            "colorbar": {
             "outlinewidth": 0,
             "ticks": ""
            },
            "colorscale": [
             [
              0,
              "#0d0887"
             ],
             [
              0.1111111111111111,
              "#46039f"
             ],
             [
              0.2222222222222222,
              "#7201a8"
             ],
             [
              0.3333333333333333,
              "#9c179e"
             ],
             [
              0.4444444444444444,
              "#bd3786"
             ],
             [
              0.5555555555555556,
              "#d8576b"
             ],
             [
              0.6666666666666666,
              "#ed7953"
             ],
             [
              0.7777777777777778,
              "#fb9f3a"
             ],
             [
              0.8888888888888888,
              "#fdca26"
             ],
             [
              1,
              "#f0f921"
             ]
            ],
            "type": "histogram2d"
           }
          ],
          "histogram2dcontour": [
           {
            "colorbar": {
             "outlinewidth": 0,
             "ticks": ""
            },
            "colorscale": [
             [
              0,
              "#0d0887"
             ],
             [
              0.1111111111111111,
              "#46039f"
             ],
             [
              0.2222222222222222,
              "#7201a8"
             ],
             [
              0.3333333333333333,
              "#9c179e"
             ],
             [
              0.4444444444444444,
              "#bd3786"
             ],
             [
              0.5555555555555556,
              "#d8576b"
             ],
             [
              0.6666666666666666,
              "#ed7953"
             ],
             [
              0.7777777777777778,
              "#fb9f3a"
             ],
             [
              0.8888888888888888,
              "#fdca26"
             ],
             [
              1,
              "#f0f921"
             ]
            ],
            "type": "histogram2dcontour"
           }
          ],
          "mesh3d": [
           {
            "colorbar": {
             "outlinewidth": 0,
             "ticks": ""
            },
            "type": "mesh3d"
           }
          ],
          "parcoords": [
           {
            "line": {
             "colorbar": {
              "outlinewidth": 0,
              "ticks": ""
             }
            },
            "type": "parcoords"
           }
          ],
          "pie": [
           {
            "automargin": true,
            "type": "pie"
           }
          ],
          "scatter": [
           {
            "fillpattern": {
             "fillmode": "overlay",
             "size": 10,
             "solidity": 0.2
            },
            "type": "scatter"
           }
          ],
          "scatter3d": [
           {
            "line": {
             "colorbar": {
              "outlinewidth": 0,
              "ticks": ""
             }
            },
            "marker": {
             "colorbar": {
              "outlinewidth": 0,
              "ticks": ""
             }
            },
            "type": "scatter3d"
           }
          ],
          "scattercarpet": [
           {
            "marker": {
             "colorbar": {
              "outlinewidth": 0,
              "ticks": ""
             }
            },
            "type": "scattercarpet"
           }
          ],
          "scattergeo": [
           {
            "marker": {
             "colorbar": {
              "outlinewidth": 0,
              "ticks": ""
             }
            },
            "type": "scattergeo"
           }
          ],
          "scattergl": [
           {
            "marker": {
             "colorbar": {
              "outlinewidth": 0,
              "ticks": ""
             }
            },
            "type": "scattergl"
           }
          ],
          "scattermap": [
           {
            "marker": {
             "colorbar": {
              "outlinewidth": 0,
              "ticks": ""
             }
            },
            "type": "scattermap"
           }
          ],
          "scattermapbox": [
           {
            "marker": {
             "colorbar": {
              "outlinewidth": 0,
              "ticks": ""
             }
            },
            "type": "scattermapbox"
           }
          ],
          "scatterpolar": [
           {
            "marker": {
             "colorbar": {
              "outlinewidth": 0,
              "ticks": ""
             }
            },
            "type": "scatterpolar"
           }
          ],
          "scatterpolargl": [
           {
            "marker": {
             "colorbar": {
              "outlinewidth": 0,
              "ticks": ""
             }
            },
            "type": "scatterpolargl"
           }
          ],
          "scatterternary": [
           {
            "marker": {
             "colorbar": {
              "outlinewidth": 0,
              "ticks": ""
             }
            },
            "type": "scatterternary"
           }
          ],
          "surface": [
           {
            "colorbar": {
             "outlinewidth": 0,
             "ticks": ""
            },
            "colorscale": [
             [
              0,
              "#0d0887"
             ],
             [
              0.1111111111111111,
              "#46039f"
             ],
             [
              0.2222222222222222,
              "#7201a8"
             ],
             [
              0.3333333333333333,
              "#9c179e"
             ],
             [
              0.4444444444444444,
              "#bd3786"
             ],
             [
              0.5555555555555556,
              "#d8576b"
             ],
             [
              0.6666666666666666,
              "#ed7953"
             ],
             [
              0.7777777777777778,
              "#fb9f3a"
             ],
             [
              0.8888888888888888,
              "#fdca26"
             ],
             [
              1,
              "#f0f921"
             ]
            ],
            "type": "surface"
           }
          ],
          "table": [
           {
            "cells": {
             "fill": {
              "color": "#EBF0F8"
             },
             "line": {
              "color": "white"
             }
            },
            "header": {
             "fill": {
              "color": "#C8D4E3"
             },
             "line": {
              "color": "white"
             }
            },
            "type": "table"
           }
          ]
         },
         "layout": {
          "annotationdefaults": {
           "arrowcolor": "#2a3f5f",
           "arrowhead": 0,
           "arrowwidth": 1
          },
          "autotypenumbers": "strict",
          "coloraxis": {
           "colorbar": {
            "outlinewidth": 0,
            "ticks": ""
           }
          },
          "colorscale": {
           "diverging": [
            [
             0,
             "#8e0152"
            ],
            [
             0.1,
             "#c51b7d"
            ],
            [
             0.2,
             "#de77ae"
            ],
            [
             0.3,
             "#f1b6da"
            ],
            [
             0.4,
             "#fde0ef"
            ],
            [
             0.5,
             "#f7f7f7"
            ],
            [
             0.6,
             "#e6f5d0"
            ],
            [
             0.7,
             "#b8e186"
            ],
            [
             0.8,
             "#7fbc41"
            ],
            [
             0.9,
             "#4d9221"
            ],
            [
             1,
             "#276419"
            ]
           ],
           "sequential": [
            [
             0,
             "#0d0887"
            ],
            [
             0.1111111111111111,
             "#46039f"
            ],
            [
             0.2222222222222222,
             "#7201a8"
            ],
            [
             0.3333333333333333,
             "#9c179e"
            ],
            [
             0.4444444444444444,
             "#bd3786"
            ],
            [
             0.5555555555555556,
             "#d8576b"
            ],
            [
             0.6666666666666666,
             "#ed7953"
            ],
            [
             0.7777777777777778,
             "#fb9f3a"
            ],
            [
             0.8888888888888888,
             "#fdca26"
            ],
            [
             1,
             "#f0f921"
            ]
           ],
           "sequentialminus": [
            [
             0,
             "#0d0887"
            ],
            [
             0.1111111111111111,
             "#46039f"
            ],
            [
             0.2222222222222222,
             "#7201a8"
            ],
            [
             0.3333333333333333,
             "#9c179e"
            ],
            [
             0.4444444444444444,
             "#bd3786"
            ],
            [
             0.5555555555555556,
             "#d8576b"
            ],
            [
             0.6666666666666666,
             "#ed7953"
            ],
            [
             0.7777777777777778,
             "#fb9f3a"
            ],
            [
             0.8888888888888888,
             "#fdca26"
            ],
            [
             1,
             "#f0f921"
            ]
           ]
          },
          "colorway": [
           "#636efa",
           "#EF553B",
           "#00cc96",
           "#ab63fa",
           "#FFA15A",
           "#19d3f3",
           "#FF6692",
           "#B6E880",
           "#FF97FF",
           "#FECB52"
          ],
          "font": {
           "color": "#2a3f5f"
          },
          "geo": {
           "bgcolor": "white",
           "lakecolor": "white",
           "landcolor": "#E5ECF6",
           "showlakes": true,
           "showland": true,
           "subunitcolor": "white"
          },
          "hoverlabel": {
           "align": "left"
          },
          "hovermode": "closest",
          "mapbox": {
           "style": "light"
          },
          "paper_bgcolor": "white",
          "plot_bgcolor": "#E5ECF6",
          "polar": {
           "angularaxis": {
            "gridcolor": "white",
            "linecolor": "white",
            "ticks": ""
           },
           "bgcolor": "#E5ECF6",
           "radialaxis": {
            "gridcolor": "white",
            "linecolor": "white",
            "ticks": ""
           }
          },
          "scene": {
           "xaxis": {
            "backgroundcolor": "#E5ECF6",
            "gridcolor": "white",
            "gridwidth": 2,
            "linecolor": "white",
            "showbackground": true,
            "ticks": "",
            "zerolinecolor": "white"
           },
           "yaxis": {
            "backgroundcolor": "#E5ECF6",
            "gridcolor": "white",
            "gridwidth": 2,
            "linecolor": "white",
            "showbackground": true,
            "ticks": "",
            "zerolinecolor": "white"
           },
           "zaxis": {
            "backgroundcolor": "#E5ECF6",
            "gridcolor": "white",
            "gridwidth": 2,
            "linecolor": "white",
            "showbackground": true,
            "ticks": "",
            "zerolinecolor": "white"
           }
          },
          "shapedefaults": {
           "line": {
            "color": "#2a3f5f"
           }
          },
          "ternary": {
           "aaxis": {
            "gridcolor": "white",
            "linecolor": "white",
            "ticks": ""
           },
           "baxis": {
            "gridcolor": "white",
            "linecolor": "white",
            "ticks": ""
           },
           "bgcolor": "#E5ECF6",
           "caxis": {
            "gridcolor": "white",
            "linecolor": "white",
            "ticks": ""
           }
          },
          "title": {
           "x": 0.05
          },
          "xaxis": {
           "automargin": true,
           "gridcolor": "white",
           "linecolor": "white",
           "ticks": "",
           "title": {
            "standoff": 15
           },
           "zerolinecolor": "white",
           "zerolinewidth": 2
          },
          "yaxis": {
           "automargin": true,
           "gridcolor": "white",
           "linecolor": "white",
           "ticks": "",
           "title": {
            "standoff": 15
           },
           "zerolinecolor": "white",
           "zerolinewidth": 2
          }
         }
        }
       }
      }
     },
     "metadata": {},
     "output_type": "display_data"
    }
   ],
   "source": [
    "out = nn_predict(params, grid)\n",
    "z = out.reshape(k,k)\n",
    "fig = go.Figure(data=go.Surface(x=x, y=y, z=z))\n",
    "fig.show()"
   ]
  },
  {
   "cell_type": "markdown",
   "metadata": {},
   "source": [
    "Et voila! We have a non-linear model. We will need to add a learning process, so that the model can learn to adjust its weights in order to fit the training data, but this is the basics of a neural network.\n",
    "\n",
    "Change the random_seed to see the impact of different starting values.\n",
    "Also, experiment with the sizes and shapes of the weights.\n",
    "\n",
    "\n",
    "- **TAKE AWAY 1**: A neural network is a combination of linear models and activation functions\n",
    "- **TAKE AWAY 2**: Neural networks are in theory *universal function approximators*. So never NEVER never say that a combination of Linear layers + activation functions is a \"simple model\". They can approximate EVERY function, you just need to make the network deep & wide enough and train it for long enough!\n",
    "- **TAKE AWAY 3**: However, you CAN make neural networks very simple. The simplest case is a single linear layer with no activation, which is just a linear model. If you reduce the amount of units, the model will also be simpler."
   ]
  },
  {
   "cell_type": "markdown",
   "metadata": {},
   "source": [
    "<font color='green'>\n",
    "\n",
    "### Experimenting with the random_seed varaible to see the output change ...\n",
    "\n",
    "</font>"
   ]
  },
  {
   "cell_type": "code",
   "execution_count": 63,
   "metadata": {},
   "outputs": [
    {
     "data": {
      "text/plain": [
       "tensor([[ 0.0079],\n",
       "        [-0.0064],\n",
       "        [ 0.0017],\n",
       "        [ 0.0016]])"
      ]
     },
     "execution_count": 63,
     "metadata": {},
     "output_type": "execute_result"
    }
   ],
   "source": [
    "layersizes = [2, 8, 16, 4, 1]\n",
    "random_seed = 41\n",
    "params = torch_network(layersizes, scale=1e-1, seed=random_seed)\n",
    "params[3][0]"
   ]
  },
  {
   "cell_type": "code",
   "execution_count": 64,
   "metadata": {},
   "outputs": [
    {
     "data": {
      "text/plain": [
       "tensor([[0.0034],\n",
       "        [0.0013],\n",
       "        [0.0023],\n",
       "        [0.0023]])"
      ]
     },
     "execution_count": 64,
     "metadata": {},
     "output_type": "execute_result"
    }
   ],
   "source": [
    "layersizes = [2, 8, 16, 4, 1]\n",
    "random_seed = 42\n",
    "params = torch_network(layersizes, scale=1e-1, seed=random_seed)\n",
    "params[3][0]"
   ]
  },
  {
   "cell_type": "markdown",
   "metadata": {},
   "source": [
    "<font color='green'>\n",
    "Despite having same 'params' shape, the weights are initialized with different values only due to 'random_seed' variable. Basically, 'random_seed\" variable make sure to produce same weights values for every iteration, otherwise, in every iteration the weigths will be initialized with different values hence producing different final output. \n",
    "</font>"
   ]
  },
  {
   "cell_type": "markdown",
   "metadata": {},
   "source": [
    "<font color='green'>\n",
    "\n",
    "### Now, experimenting with the sizes and shapes of the weights. \n",
    "</font>"
   ]
  },
  {
   "cell_type": "code",
   "execution_count": 65,
   "metadata": {},
   "outputs": [],
   "source": [
    "layersizes = [2, 4, 8, 2, 1]\n",
    "random_seed = 5\n",
    "params = torch_network(layersizes, scale=1e-1, seed=random_seed)"
   ]
  },
  {
   "cell_type": "code",
   "execution_count": 66,
   "metadata": {},
   "outputs": [
    {
     "name": "stderr",
     "output_type": "stream",
     "text": [
      "\u001b[32m2025-02-15 10:57:28.401\u001b[0m | \u001b[1mINFO    \u001b[0m | \u001b[36m__main__\u001b[0m:\u001b[36mnn_predict\u001b[0m:\u001b[36m4\u001b[0m - \u001b[1mShape: torch.Size([10000, 4])\u001b[0m\n",
      "\u001b[32m2025-02-15 10:57:28.401\u001b[0m | \u001b[1mINFO    \u001b[0m | \u001b[36m__main__\u001b[0m:\u001b[36mnn_predict\u001b[0m:\u001b[36m4\u001b[0m - \u001b[1mShape: torch.Size([10000, 8])\u001b[0m\n",
      "\u001b[32m2025-02-15 10:57:28.402\u001b[0m | \u001b[1mINFO    \u001b[0m | \u001b[36m__main__\u001b[0m:\u001b[36mnn_predict\u001b[0m:\u001b[36m4\u001b[0m - \u001b[1mShape: torch.Size([10000, 2])\u001b[0m\n",
      "\u001b[32m2025-02-15 10:57:28.403\u001b[0m | \u001b[1mINFO    \u001b[0m | \u001b[36m__main__\u001b[0m:\u001b[36mnn_predict\u001b[0m:\u001b[36m9\u001b[0m - \u001b[1mShape: torch.Size([10000, 1])\u001b[0m\n"
     ]
    },
    {
     "data": {
      "application/vnd.plotly.v1+json": {
       "config": {
        "plotlyServerURL": "https://plot.ly"
       },
       "data": [
        {
         "type": "surface",
         "x": {
          "bdata": "AAAAAAAAAABbv1Kg1q+EP1u/UqDWr5Q/CB988MEHnz9bv1Kg1q+kPzJvZ0jM26k/CB988MEHrz9wZ0jM2xmyP1u/UqDWr7Q/RhdddNFFtz8yb2dIzNu5Px3HcRzHcbw/CB988MEHvz96O0Ni3s7AP3BnSMzbGcI/ZZNNNtlkwz9bv1Kg1q/EP1HrVwrU+sU/RhdddNFFxz88Q2LezpDIPzJvZ0jM28k/J5tssskmyz8dx3Ecx3HMPxPzdobEvM0/CB988MEHzz9/pUCtXynQP3o7Q2LeztA/ddFFF1100T9wZ0jM2xnSP2r9SoFav9I/ZZNNNtlk0z9gKVDrVwrUP1u/UqDWr9Q/VlVVVVVV1T9R61cK1PrVP0yBWr9SoNY/RhdddNFF1z9BrV8pUOvXPzxDYt7OkNg/N9lkk0022T8yb2dIzNvZPy0Fav1Kgdo/J5tssskm2z8iMW9nSMzbPx3HcRzHcdw/GF100UUX3T8T83aGxLzdPw6JeTtDYt4/CB988MEH3z8DtX6lQK3fP3+lQK1fKeA/ffDBBx984D96O0Ni3s7gP3eGxLydIeE/ddFFF1104T9yHMdxHMfhP3BnSMzbGeI/bbLJJpts4j9q/UqBWr/iP2hIzNsZEuM/ZZNNNtlk4z9j3s6QmLfjP2ApUOtXCuQ/XnTRRRdd5D9bv1Kg1q/kP1gK1PqVAuU/VlVVVVVV5T9ToNavFKjlP1HrVwrU+uU/TjbZZJNN5j9MgVq/UqDmP0nM2xkS8+Y/RhdddNFF5z9EYt7OkJjnP0GtXylQ6+c/P/jggw8+6D88Q2LezpDoPzmO4ziO4+g/N9lkk0026T80JObtDInpPzJvZ0jM2+k/L7rooosu6j8tBWr9SoHqPypQ61cK1Oo/J5tssskm6z8l5u0MiXnrPyIxb2dIzOs/IHzwwQcf7D8dx3Ecx3HsPxsS83aGxOw/GF100UUX7T8VqPUrBWrtPxPzdobEvO0/ED744IMP7j8OiXk7Q2LuPwvU+pUCte4/CB988MEH7z8Gav1KgVrvPwO1fqVAre8/AAAAAAAA8D8=",
          "dtype": "f8"
         },
         "y": {
          "bdata": "AAAAAAAAAABbv1Kg1q+EP1u/UqDWr5Q/CB988MEHnz9bv1Kg1q+kPzJvZ0jM26k/CB988MEHrz9wZ0jM2xmyP1u/UqDWr7Q/RhdddNFFtz8yb2dIzNu5Px3HcRzHcbw/CB988MEHvz96O0Ni3s7AP3BnSMzbGcI/ZZNNNtlkwz9bv1Kg1q/EP1HrVwrU+sU/RhdddNFFxz88Q2LezpDIPzJvZ0jM28k/J5tssskmyz8dx3Ecx3HMPxPzdobEvM0/CB988MEHzz9/pUCtXynQP3o7Q2LeztA/ddFFF1100T9wZ0jM2xnSP2r9SoFav9I/ZZNNNtlk0z9gKVDrVwrUP1u/UqDWr9Q/VlVVVVVV1T9R61cK1PrVP0yBWr9SoNY/RhdddNFF1z9BrV8pUOvXPzxDYt7OkNg/N9lkk0022T8yb2dIzNvZPy0Fav1Kgdo/J5tssskm2z8iMW9nSMzbPx3HcRzHcdw/GF100UUX3T8T83aGxLzdPw6JeTtDYt4/CB988MEH3z8DtX6lQK3fP3+lQK1fKeA/ffDBBx984D96O0Ni3s7gP3eGxLydIeE/ddFFF1104T9yHMdxHMfhP3BnSMzbGeI/bbLJJpts4j9q/UqBWr/iP2hIzNsZEuM/ZZNNNtlk4z9j3s6QmLfjP2ApUOtXCuQ/XnTRRRdd5D9bv1Kg1q/kP1gK1PqVAuU/VlVVVVVV5T9ToNavFKjlP1HrVwrU+uU/TjbZZJNN5j9MgVq/UqDmP0nM2xkS8+Y/RhdddNFF5z9EYt7OkJjnP0GtXylQ6+c/P/jggw8+6D88Q2LezpDoPzmO4ziO4+g/N9lkk0026T80JObtDInpPzJvZ0jM2+k/L7rooosu6j8tBWr9SoHqPypQ61cK1Oo/J5tssskm6z8l5u0MiXnrPyIxb2dIzOs/IHzwwQcf7D8dx3Ecx3HsPxsS83aGxOw/GF100UUX7T8VqPUrBWrtPxPzdobEvO0/ED744IMP7j8OiXk7Q2LuPwvU+pUCte4/CB988MEH7z8Gav1KgVrvPwO1fqVAre8/AAAAAAAA8D8=",
          "dtype": "f8"
         },
         "z": {
          "bdata": "VuC3u1bgt7tW4Le7VuC3u1bgt7tW4Le7VuC3u1bgt7tW4Le7VuC3u1bgt7tW4Le7VuC3u1bgt7tW4Le7VuC3u1bgt7tW4Le7VuC3u1bgt7tW4Le7V+C3u1fgt7tX4Le7V+C3u1fgt7tX4Le7V+C3u1fgt7tX4Le7V+C3u1fgt7tX4Le7V+C3u1fgt7tX4Le7V+C3u1fgt7tX4Le7V+C3u1fgt7tX4Le7V+C3u1fgt7tX4Le7V+C3u1fgt7tX4Le7V+C3u1fgt7tX4Le7V+C3u1fgt7tX4Le7WOC3u1jgt7tY4Le7WOC3u1jgt7tY4Le7WOC3u1jgt7tY4Le7WOC3u1jgt7tY4Le7WOC3u1jgt7tY4Le7WOC3u1jgt7tY4Le7WOC3u1jgt7tY4Le7WOC3u1jgt7tY4Le7WOC3u1jgt7tY4Le7WOC3u1jgt7tY4Le7WOC3u1jgt7tY4Le7WOC3u1ngt7tZ4Le7WeC3u1ngt7tZ4Le7WeC3u1ngt7tZ4Le7WeC3u1ngt7tZ4Le7WeC3u1bgt7tW4Le7VuC3u1bgt7tW4Le7VuC3u1bgt7tW4Le7VuC3u1bgt7tW4Le7VuC3u1fgt7tX4Le7V+C3u1fgt7tX4Le7V+C3u1fgt7tX4Le7V+C3u1fgt7tX4Le7V+C3u1fgt7tX4Le7V+C3u1fgt7tX4Le7V+C3u1fgt7tX4Le7V+C3u1fgt7tX4Le7V+C3u1fgt7tX4Le7V+C3u1fgt7tX4Le7V+C3u1fgt7tX4Le7V+C3u1fgt7tY4Le7WOC3u1jgt7tY4Le7WOC3u1jgt7tY4Le7WOC3u1jgt7tY4Le7WOC3u1jgt7tY4Le7WOC3u1jgt7tY4Le7WOC3u1jgt7tY4Le7WOC3u1jgt7tY4Le7WOC3u1jgt7tY4Le7WOC3u1jgt7tY4Le7WOC3u1jgt7tY4Le7WOC3u1jgt7tZ4Le7WeC3u1ngt7tZ4Le7WeC3u1ngt7tZ4Le7WeC3u1ngt7tZ4Le7WeC3u1ngt7tZ4Le7WeC3u1ngt7tZ4Le7WeC3u1ngt7tZ4Le7WeC3u1ngt7tW4Le7VuC3u1bgt7tX4Le7V+C3u1fgt7tX4Le7V+C3u1fgt7tX4Le7V+C3u1fgt7tX4Le7V+C3u1fgt7tX4Le7V+C3u1fgt7tX4Le7V+C3u1fgt7tX4Le7V+C3u1fgt7tX4Le7V+C3u1fgt7tX4Le7V+C3u1fgt7tX4Le7V+C3u1fgt7tX4Le7V+C3u1fgt7tX4Le7WOC3u1jgt7tY4Le7WOC3u1jgt7tY4Le7WOC3u1jgt7tY4Le7WOC3u1jgt7tY4Le7WOC3u1jgt7tY4Le7WOC3u1jgt7tY4Le7WOC3u1jgt7tY4Le7WOC3u1jgt7tY4Le7WOC3u1jgt7tY4Le7WOC3u1jgt7tY4Le7WOC3u1jgt7tY4Le7WOC3u1ngt7tZ4Le7WeC3u1ngt7tZ4Le7WeC3u1ngt7tZ4Le7WeC3u1ngt7tZ4Le7WeC3u1ngt7tZ4Le7WeC3u1ngt7tZ4Le7WeC3u1ngt7tZ4Le7WeC3u1ngt7tZ4Le7WeC3u1ngt7tZ4Le7WeC3u1ngt7tZ4Le7V+C3u1fgt7tX4Le7V+C3u1fgt7tX4Le7V+C3u1fgt7tX4Le7V+C3u1fgt7tX4Le7V+C3u1fgt7tX4Le7V+C3u1fgt7tX4Le7V+C3u1fgt7tX4Le7V+C3u1fgt7tX4Le7V+C3u1fgt7tX4Le7V+C3u1jgt7tY4Le7WOC3u1jgt7tY4Le7WOC3u1jgt7tY4Le7WOC3u1jgt7tY4Le7WOC3u1jgt7tY4Le7WOC3u1jgt7tY4Le7WOC3u1jgt7tY4Le7WOC3u1jgt7tY4Le7WOC3u1jgt7tY4Le7WOC3u1jgt7tY4Le7WOC3u1jgt7tY4Le7WOC3u1jgt7tZ4Le7WeC3u1ngt7tZ4Le7WeC3u1ngt7tZ4Le7WeC3u1ngt7tZ4Le7WeC3u1ngt7tZ4Le7WeC3u1ngt7tZ4Le7WeC3u1ngt7tZ4Le7WeC3u1ngt7tZ4Le7WeC3u1ngt7tZ4Le7WeC3u1ngt7tZ4Le7WeC3u1ngt7tZ4Le7WeC3u1ngt7tZ4Le7WuC3u1rgt7ta4Le7WuC3u1fgt7tX4Le7V+C3u1fgt7tX4Le7V+C3u1fgt7tX4Le7V+C3u1fgt7tX4Le7V+C3u1fgt7tX4Le7V+C3u1fgt7tX4Le7V+C3u1fgt7tX4Le7WOC3u1jgt7tY4Le7WOC3u1jgt7tY4Le7WOC3u1jgt7tY4Le7WOC3u1jgt7tY4Le7WOC3u1jgt7tY4Le7WOC3u1jgt7tY4Le7WOC3u1jgt7tY4Le7WOC3u1jgt7tY4Le7WOC3u1jgt7tY4Le7WOC3u1jgt7tY4Le7WOC3u1jgt7tY4Le7WOC3u1ngt7tZ4Le7WeC3u1ngt7tZ4Le7WeC3u1ngt7tZ4Le7WeC3u1ngt7tZ4Le7WeC3u1ngt7tZ4Le7WeC3u1ngt7tZ4Le7WeC3u1ngt7tZ4Le7WeC3u1ngt7tZ4Le7WeC3u1ngt7tZ4Le7WeC3u1ngt7tZ4Le7WeC3u1ngt7tZ4Le7WeC3u1rgt7ta4Le7WuC3u1rgt7ta4Le7WuC3u1rgt7ta4Le7WuC3u1rgt7ta4Le7WuC3u1rgt7tX4Le7V+C3u1fgt7tX4Le7V+C3u1fgt7tX4Le7V+C3u1fgt7tX4Le7V+C3u1jgt7tY4Le7WOC3u1jgt7tY4Le7WOC3u1jgt7tY4Le7WOC3u1jgt7tY4Le7WOC3u1jgt7tY4Le7WOC3u1jgt7tY4Le7WOC3u1jgt7tY4Le7WOC3u1jgt7tY4Le7WOC3u1jgt7tY4Le7WOC3u1jgt7tY4Le7WOC3u1jgt7tY4Le7WOC3u1jgt7tZ4Le7WeC3u1ngt7tZ4Le7WeC3u1ngt7tZ4Le7WeC3u1ngt7tZ4Le7WeC3u1ngt7tZ4Le7WeC3u1ngt7tZ4Le7WeC3u1ngt7tZ4Le7WeC3u1ngt7tZ4Le7WeC3u1ngt7tZ4Le7WeC3u1ngt7tZ4Le7WeC3u1ngt7tZ4Le7WeC3u1ngt7ta4Le7WuC3u1rgt7ta4Le7WuC3u1rgt7ta4Le7WuC3u1rgt7ta4Le7WuC3u1rgt7ta4Le7WuC3u1rgt7ta4Le7WuC3u1rgt7ta4Le7WuC3u1rgt7ta4Le7V+C3u1fgt7tX4Le7WOC3u1jgt7tY4Le7WOC3u1jgt7tY4Le7WOC3u1jgt7tY4Le7WOC3u1jgt7tY4Le7WOC3u1jgt7tY4Le7WOC3u1jgt7tY4Le7WOC3u1jgt7tY4Le7WOC3u1jgt7tY4Le7WOC3u1jgt7tY4Le7WOC3u1jgt7tY4Le7WOC3u1jgt7tY4Le7WeC3u1ngt7tZ4Le7WeC3u1ngt7tZ4Le7WeC3u1ngt7tZ4Le7WeC3u1ngt7tZ4Le7WeC3u1ngt7tZ4Le7WeC3u1ngt7tZ4Le7WeC3u1ngt7tZ4Le7WeC3u1ngt7tZ4Le7WeC3u1ngt7tZ4Le7WeC3u1ngt7tZ4Le7WeC3u1ngt7tZ4Le7WeC3u1rgt7ta4Le7WuC3u1rgt7ta4Le7WuC3u1rgt7ta4Le7WuC3u1rgt7ta4Le7WuC3u1rgt7ta4Le7WuC3u1rgt7ta4Le7WuC3u1rgt7ta4Le7WuC3u1rgt7ta4Le7WuC3u1rgt7ta4Le7WuC3u1rgt7ta4Le7WuC3u1jgt7tY4Le7WOC3u1jgt7tY4Le7WOC3u1jgt7tY4Le7WOC3u1jgt7tY4Le7WOC3u1jgt7tY4Le7WOC3u1jgt7tY4Le7WOC3u1jgt7tY4Le7WOC3u1jgt7tY4Le7WOC3u1jgt7tY4Le7WOC3u1jgt7tZ4Le7WeC3u1ngt7tZ4Le7WeC3u1ngt7tZ4Le7WeC3u1ngt7tZ4Le7WeC3u1ngt7tZ4Le7WeC3u1ngt7tZ4Le7WeC3u1ngt7tZ4Le7WeC3u1ngt7tZ4Le7WeC3u1ngt7tZ4Le7WeC3u1ngt7tZ4Le7WeC3u1ngt7tZ4Le7WeC3u1ngt7ta4Le7WuC3u1rgt7ta4Le7WuC3u1rgt7ta4Le7WuC3u1rgt7ta4Le7WuC3u1rgt7ta4Le7WuC3u1rgt7ta4Le7WuC3u1rgt7ta4Le7WuC3u1rgt7ta4Le7WuC3u1rgt7ta4Le7WuC3u1rgt7ta4Le7WuC3u1rgt7ta4Le7WuC3u1rgt7ta4Le7W+C3u1vgt7tb4Le7W+C3u1vgt7tY4Le7WOC3u1jgt7tY4Le7WOC3u1jgt7tY4Le7WOC3u1jgt7tY4Le7WOC3u1jgt7tY4Le7WOC3u1jgt7tY4Le7WOC3u1jgt7tY4Le7WeC3u1ngt7tZ4Le7WeC3u1ngt7tZ4Le7WeC3u1ngt7tZ4Le7WeC3u1ngt7tZ4Le7WeC3u1ngt7tZ4Le7WeC3u1ngt7tZ4Le7WeC3u1ngt7tZ4Le7WeC3u1ngt7tZ4Le7WeC3u1ngt7tZ4Le7WeC3u1ngt7tZ4Le7WeC3u1ngt7tZ4Le7WeC3u1rgt7ta4Le7WuC3u1rgt7ta4Le7WuC3u1rgt7ta4Le7WuC3u1rgt7ta4Le7WuC3u1rgt7ta4Le7WuC3u1rgt7ta4Le7WuC3u1rgt7ta4Le7WuC3u1rgt7ta4Le7WuC3u1rgt7ta4Le7WuC3u1rgt7ta4Le7WuC3u1rgt7ta4Le7WuC3u1vgt7tb4Le7W+C3u1vgt7tb4Le7W+C3u1vgt7tb4Le7W+C3u1vgt7tb4Le7W+C3u1vgt7tb4Le7WOC3u1jgt7tY4Le7WOC3u1jgt7tY4Le7WOC3u1jgt7tY4Le7WOC3u1jgt7tZ4Le7WeC3u1ngt7tZ4Le7WeC3u1ngt7tZ4Le7WeC3u1ngt7tZ4Le7WeC3u1ngt7tZ4Le7WeC3u1ngt7tZ4Le7WeC3u1ngt7tZ4Le7WeC3u1ngt7tZ4Le7WeC3u1ngt7tZ4Le7WeC3u1ngt7tZ4Le7WeC3u1ngt7tZ4Le7WeC3u1ngt7ta4Le7WuC3u1rgt7ta4Le7WuC3u1rgt7ta4Le7WuC3u1rgt7ta4Le7WuC3u1rgt7ta4Le7WuC3u1rgt7ta4Le7WuC3u1rgt7ta4Le7WuC3u1rgt7ta4Le7WuC3u1rgt7ta4Le7WuC3u1rgt7ta4Le7WuC3u1rgt7ta4Le7WuC3u1rgt7ta4Le7W+C3u1vgt7tb4Le7W+C3u1vgt7tb4Le7W+C3u1vgt7tb4Le7W+C3u1vgt7tb4Le7W+C3u1vgt7tb4Le7W+C3u1vgt7tb4Le7W+C3u1vgt7tb4Le7W+C3u1jgt7tY4Le7WeC3u1ngt7tZ4Le7WeC3u1ngt7tZ4Le7WeC3u1ngt7tZ4Le7WeC3u1ngt7tZ4Le7WeC3u1ngt7tZ4Le7WeC3u1ngt7tZ4Le7WeC3u1ngt7tZ4Le7WeC3u1ngt7tZ4Le7WeC3u1ngt7tZ4Le7WeC3u1ngt7tZ4Le7WeC3u1ngt7tZ4Le7WeC3u1rgt7ta4Le7WuC3u1rgt7ta4Le7WuC3u1rgt7ta4Le7WuC3u1rgt7ta4Le7WuC3u1rgt7ta4Le7WuC3u1rgt7ta4Le7WuC3u1rgt7ta4Le7WuC3u1rgt7ta4Le7WuC3u1rgt7ta4Le7WuC3u1rgt7ta4Le7WuC3u1rgt7ta4Le7WuC3u1vgt7tb4Le7W+C3u1vgt7tb4Le7W+C3u1vgt7tb4Le7W+C3u1vgt7tb4Le7W+C3u1vgt7tb4Le7W+C3u1vgt7tb4Le7W+C3u1vgt7tb4Le7W+C3u1vgt7tb4Le7W+C3u1vgt7tb4Le7W+C3u1vgt7tb4Le7W+C3u1vgt7tZ4Le7WeC3u1ngt7tZ4Le7WeC3u1ngt7tZ4Le7WeC3u1ngt7tZ4Le7WeC3u1ngt7tZ4Le7WeC3u1ngt7tZ4Le7WeC3u1ngt7tZ4Le7WeC3u1ngt7tZ4Le7WeC3u1ngt7tZ4Le7WeC3u1ngt7ta4Le7WuC3u1rgt7ta4Le7WuC3u1rgt7ta4Le7WuC3u1rgt7ta4Le7WuC3u1rgt7ta4Le7WuC3u1rgt7ta4Le7WuC3u1rgt7ta4Le7WuC3u1rgt7ta4Le7WuC3u1rgt7ta4Le7WuC3u1rgt7ta4Le7WuC3u1rgt7ta4Le7WuC3u1rgt7ta4Le7W+C3u1vgt7tb4Le7W+C3u1vgt7tb4Le7W+C3u1vgt7tb4Le7W+C3u1vgt7tb4Le7W+C3u1vgt7tb4Le7W+C3u1vgt7tb4Le7W+C3u1vgt7tb4Le7W+C3u1vgt7tb4Le7W+C3u1vgt7tb4Le7W+C3u1vgt7tb4Le7W+C3u1vgt7tb4Le7XOC3u1zgt7tc4Le7XOC3u1zgt7tc4Le7WeC3u1ngt7tZ4Le7WeC3u1ngt7tZ4Le7WeC3u1ngt7tZ4Le7WeC3u1ngt7tZ4Le7WeC3u1ngt7tZ4Le7WeC3u1ngt7tZ4Le7WuC3u1rgt7ta4Le7WuC3u1rgt7ta4Le7WuC3u1rgt7ta4Le7WuC3u1rgt7ta4Le7WuC3u1rgt7ta4Le7WuC3u1rgt7ta4Le7WuC3u1rgt7ta4Le7WuC3u1rgt7ta4Le7WuC3u1rgt7ta4Le7WuC3u1rgt7ta4Le7WuC3u1rgt7ta4Le7WuC3u1vgt7tb4Le7W+C3u1vgt7tb4Le7W+C3u1vgt7tb4Le7W+C3u1vgt7tb4Le7W+C3u1vgt7tb4Le7W+C3u1vgt7tb4Le7W+C3u1vgt7tb4Le7W+C3u1vgt7tb4Le7W+C3u1vgt7tb4Le7W+C3u1vgt7tb4Le7W+C3u1vgt7tb4Le7W+C3u1vgt7tc4Le7XOC3u1zgt7tc4Le7XOC3u1zgt7tc4Le7XOC3u1zgt7tc4Le7XOC3u1zgt7tc4Le7XOC3u1ngt7tZ4Le7WeC3u1ngt7tZ4Le7WeC3u1ngt7tZ4Le7WeC3u1ngt7ta4Le7WuC3u1rgt7ta4Le7WuC3u1rgt7ta4Le7WuC3u1rgt7ta4Le7WuC3u1rgt7ta4Le7WuC3u1rgt7ta4Le7WuC3u1rgt7ta4Le7WuC3u1rgt7ta4Le7WuC3u1rgt7ta4Le7WuC3u1rgt7ta4Le7WuC3u1rgt7ta4Le7WuC3u1rgt7ta4Le7W+C3u1vgt7tb4Le7W+C3u1vgt7tb4Le7W+C3u1vgt7tb4Le7W+C3u1vgt7tb4Le7W+C3u1vgt7tb4Le7W+C3u1vgt7tb4Le7W+C3u1vgt7tb4Le7W+C3u1vgt7tb4Le7W+C3u1vgt7tb4Le7W+C3u1vgt7tb4Le7W+C3u1vgt7tb4Le7XOC3u1zgt7tc4Le7XOC3u1zgt7tc4Le7XOC3u1zgt7tc4Le7XOC3u1zgt7tc4Le7XOC3u1zgt7tc4Le7XOC3u1zgt7tc4Le7XOC3u1zgt7tc4Le7XOC3u1zgt7tZ4Le7WuC3u1rgt7ta4Le7WuC3u1rgt7ta4Le7WuC3u1rgt7ta4Le7WuC3u1rgt7ta4Le7WuC3u1rgt7ta4Le7WuC3u1rgt7ta4Le7WuC3u1rgt7ta4Le7WuC3u1rgt7ta4Le7WuC3u1rgt7ta4Le7WuC3u1rgt7ta4Le7WuC3u1rgt7ta4Le7WuC3u1vgt7tb4Le7W+C3u1vgt7tb4Le7W+C3u1vgt7tb4Le7W+C3u1vgt7tb4Le7W+C3u1vgt7tb4Le7W+C3u1vgt7tb4Le7W+C3u1vgt7tb4Le7W+C3u1vgt7tb4Le7W+C3u1vgt7tb4Le7W+C3u1vgt7tb4Le7W+C3u1vgt7tb4Le7W+C3u1zgt7tc4Le7XOC3u1zgt7tc4Le7XOC3u1zgt7tc4Le7XOC3u1zgt7tc4Le7XOC3u1zgt7tc4Le7XOC3u1zgt7tc4Le7XOC3u1zgt7tc4Le7XOC3u1zgt7tc4Le7XOC3u1zgt7tc4Le7XOC3u1zgt7tc4Le7XOC3u1zgt7tc4Le7WuC3u1rgt7ta4Le7WuC3u1rgt7ta4Le7WuC3u1rgt7ta4Le7WuC3u1rgt7ta4Le7WuC3u1rgt7ta4Le7WuC3u1rgt7ta4Le7WuC3u1rgt7ta4Le7WuC3u1rgt7ta4Le7WuC3u1rgt7tb4Le7W+C3u1vgt7tb4Le7W+C3u1vgt7tb4Le7W+C3u1vgt7tb4Le7W+C3u1vgt7tb4Le7W+C3u1vgt7tb4Le7W+C3u1vgt7tb4Le7W+C3u1vgt7tb4Le7W+C3u1vgt7tb4Le7W+C3u1vgt7tb4Le7W+C3u1vgt7tb4Le7W+C3u1vgt7tb4Le7XOC3u1zgt7tc4Le7XOC3u1zgt7tc4Le7XOC3u1zgt7tc4Le7XOC3u1zgt7tc4Le7XOC3u1zgt7tc4Le7XOC3u1zgt7tc4Le7XOC3u1zgt7tc4Le7XOC3u1zgt7tc4Le7XOC3u1zgt7tc4Le7XOC3u1zgt7tc4Le7XOC3u1zgt7tc4Le7XOC3u13gt7td4Le7XeC3u13gt7td4Le7XeC3u1rgt7ta4Le7WuC3u1rgt7ta4Le7WuC3u1rgt7ta4Le7WuC3u1rgt7ta4Le7WuC3u1rgt7ta4Le7WuC3u1rgt7ta4Le7WuC3u1vgt7tb4Le7W+C3u1vgt7tb4Le7W+C3u1vgt7tb4Le7W+C3u1vgt7tb4Le7W+C3u1vgt7tb4Le7W+C3u1vgt7tb4Le7W+C3u1vgt7tb4Le7W+C3u1vgt7tb4Le7W+C3u1vgt7tb4Le7W+C3u1vgt7tb4Le7W+C3u1vgt7tb4Le7W+C3u1zgt7tc4Le7XOC3u1zgt7tc4Le7XOC3u1zgt7tc4Le7XOC3u1zgt7tc4Le7XOC3u1zgt7tc4Le7XOC3u1zgt7tc4Le7XOC3u1zgt7tc4Le7XOC3u1zgt7tc4Le7XOC3u1zgt7tc4Le7XOC3u1zgt7tc4Le7XOC3u1zgt7tc4Le7XOC3u1zgt7td4Le7XeC3u13gt7td4Le7XeC3u13gt7td4Le7XeC3u13gt7td4Le7XeC3u13gt7td4Le7XeC3u13gt7ta4Le7WuC3u1rgt7ta4Le7WuC3u1rgt7ta4Le7WuC3u1rgt7tb4Le7W+C3u1vgt7tb4Le7W+C3u1vgt7tb4Le7W+C3u1vgt7tb4Le7W+C3u1vgt7tb4Le7W+C3u1vgt7tb4Le7W+C3u1vgt7tb4Le7W+C3u1vgt7tb4Le7W+C3u1vgt7tb4Le7W+C3u1vgt7tb4Le7W+C3u1vgt7tb4Le7W+C3u1vgt7tb4Le7XOC3u1zgt7tc4Le7XOC3u1zgt7tc4Le7XOC3u1zgt7tc4Le7XOC3u1zgt7tc4Le7XOC3u1zgt7tc4Le7XOC3u1zgt7tc4Le7XOC3u1zgt7tc4Le7XOC3u1zgt7tc4Le7XOC3u1zgt7tc4Le7XOC3u1zgt7tc4Le7XOC3u1zgt7tc4Le7XOC3u13gt7td4Le7XeC3u13gt7td4Le7XeC3u13gt7td4Le7XeC3u13gt7td4Le7XeC3u13gt7td4Le7XeC3u13gt7td4Le7XeC3u13gt7td4Le7XeC3u13gt7td4Le7WuC3u1vgt7tb4Le7W+C3u1vgt7tb4Le7W+C3u1vgt7tb4Le7W+C3u1vgt7tb4Le7W+C3u1vgt7tb4Le7W+C3u1vgt7tb4Le7W+C3u1vgt7tb4Le7W+C3u1vgt7tb4Le7W+C3u1vgt7tb4Le7W+C3u1vgt7tb4Le7W+C3u1vgt7tb4Le7W+C3u1zgt7tc4Le7XOC3u1zgt7tc4Le7XOC3u1zgt7tc4Le7XOC3u1zgt7tc4Le7XOC3u1zgt7tc4Le7XOC3u1zgt7tc4Le7XOC3u1zgt7tc4Le7XOC3u1zgt7tc4Le7XOC3u1zgt7tc4Le7XOC3u1zgt7tc4Le7XOC3u1zgt7tc4Le7XOC3u1zgt7td4Le7XeC3u13gt7td4Le7XeC3u13gt7td4Le7XeC3u13gt7td4Le7XeC3u13gt7td4Le7XeC3u13gt7td4Le7XeC3u13gt7td4Le7XeC3u13gt7td4Le7XeC3u13gt7td4Le7XeC3u13gt7td4Le7XeC3u13gt7td4Le7XeC3u1vgt7tb4Le7W+C3u1vgt7tb4Le7W+C3u1vgt7tb4Le7W+C3u1vgt7tb4Le7W+C3u1vgt7tb4Le7W+C3u1vgt7tb4Le7W+C3u1vgt7tb4Le7W+C3u1vgt7tb4Le7W+C3u1vgt7tb4Le7XOC3u1zgt7tc4Le7XOC3u1zgt7tc4Le7XOC3u1zgt7tc4Le7XOC3u1zgt7tc4Le7XOC3u1zgt7tc4Le7XOC3u1zgt7tc4Le7XOC3u1zgt7tc4Le7XOC3u1zgt7tc4Le7XOC3u1zgt7tc4Le7XOC3u1zgt7tc4Le7XOC3u1zgt7tc4Le7XeC3u13gt7td4Le7XeC3u13gt7td4Le7XeC3u13gt7td4Le7XeC3u13gt7td4Le7XeC3u13gt7td4Le7XeC3u13gt7td4Le7XeC3u13gt7td4Le7XeC3u13gt7td4Le7XeC3u13gt7td4Le7XeC3u13gt7td4Le7XeC3u13gt7td4Le7XeC3u17gt7te4Le7XuC3u17gt7te4Le7XuC3u17gt7tb4Le7W+C3u1vgt7tb4Le7W+C3u1vgt7tb4Le7W+C3u1vgt7tb4Le7W+C3u1vgt7tb4Le7W+C3u1vgt7tb4Le7W+C3u1zgt7tc4Le7XOC3u1zgt7tc4Le7XOC3u1zgt7tc4Le7XOC3u1zgt7tc4Le7XOC3u1zgt7tc4Le7XOC3u1zgt7tc4Le7XOC3u1zgt7tc4Le7XOC3u1zgt7tc4Le7XOC3u1zgt7tc4Le7XOC3u1zgt7tc4Le7XOC3u1zgt7tc4Le7XOC3u1zgt7td4Le7XeC3u13gt7td4Le7XeC3u13gt7td4Le7XeC3u13gt7td4Le7XeC3u13gt7td4Le7XeC3u13gt7td4Le7XeC3u13gt7td4Le7XeC3u13gt7td4Le7XeC3u13gt7td4Le7XeC3u13gt7td4Le7XeC3u13gt7td4Le7XeC3u13gt7te4Le7XuC3u17gt7te4Le7XuC3u17gt7te4Le7XuC3u17gt7te4Le7XuC3u17gt7te4Le7XuC3u17gt7te4Le7W+C3u1vgt7tb4Le7W+C3u1vgt7tb4Le7W+C3u1vgt7tc4Le7XOC3u1zgt7tc4Le7XOC3u1zgt7tc4Le7XOC3u1zgt7tc4Le7XOC3u1zgt7tc4Le7XOC3u1zgt7tc4Le7XOC3u1zgt7tc4Le7XOC3u1zgt7tc4Le7XOC3u1zgt7tc4Le7XOC3u1zgt7tc4Le7XOC3u1zgt7tc4Le7XOC3u1zgt7tc4Le7XeC3u13gt7td4Le7XeC3u13gt7td4Le7XeC3u13gt7td4Le7XeC3u13gt7td4Le7XeC3u13gt7td4Le7XeC3u13gt7td4Le7XeC3u13gt7td4Le7XeC3u13gt7td4Le7XeC3u13gt7td4Le7XeC3u13gt7td4Le7XeC3u13gt7td4Le7XeC3u17gt7te4Le7XuC3u17gt7te4Le7XuC3u17gt7te4Le7XuC3u17gt7te4Le7XuC3u17gt7te4Le7XuC3u17gt7te4Le7XuC3u17gt7te4Le7XuC3u17gt7te4Le7XuC3u1zgt7tc4Le7XOC3u1zgt7tc4Le7XOC3u1zgt7tc4Le7XOC3u1zgt7tc4Le7XOC3u1zgt7tc4Le7XOC3u1zgt7tc4Le7XOC3u1zgt7tc4Le7XOC3u1zgt7tc4Le7XOC3u1zgt7tc4Le7XOC3u1zgt7tc4Le7XOC3u1zgt7tc4Le7XOC3u1zgt7td4Le7XeC3u13gt7td4Le7XeC3u13gt7td4Le7XeC3u13gt7td4Le7XeC3u13gt7td4Le7XeC3u13gt7td4Le7XeC3u13gt7td4Le7XeC3u13gt7td4Le7XeC3u13gt7td4Le7XeC3u13gt7td4Le7XeC3u13gt7td4Le7XeC3u13gt7te4Le7XuC3u17gt7te4Le7XuC3u17gt7te4Le7XuC3u17gt7te4Le7XuC3u17gt7te4Le7XuC3u17gt7te4Le7XuC3u17gt7te4Le7XuC3u17gt7te4Le7XuC3u17gt7te4Le7XuC3u17gt7te4Le7XuC3u17gt7te4Le7XuC3u17gt7tc4Le7XOC3u1zgt7tc4Le7XOC3u1zgt7tc4Le7XOC3u1zgt7tc4Le7XOC3u1zgt7tc4Le7XOC3u1zgt7tc4Le7XOC3u1zgt7tc4Le7XOC3u1zgt7tc4Le7XOC3u1zgt7tc4Le7XeC3u13gt7td4Le7XeC3u13gt7td4Le7XeC3u13gt7td4Le7XeC3u13gt7td4Le7XeC3u13gt7td4Le7XeC3u13gt7td4Le7XeC3u13gt7td4Le7XeC3u13gt7td4Le7XeC3u13gt7td4Le7XeC3u13gt7td4Le7XeC3u13gt7td4Le7XuC3u17gt7te4Le7XuC3u17gt7te4Le7XuC3u17gt7te4Le7XuC3u17gt7te4Le7XuC3u17gt7te4Le7XuC3u17gt7te4Le7XuC3u17gt7te4Le7XuC3u17gt7te4Le7XuC3u17gt7te4Le7XuC3u17gt7te4Le7XuC3u17gt7te4Le7XuC3u1/gt7tf4Le7X+C3u1/gt7tf4Le7X+C3u1/gt7tf4Le7XOC3u1zgt7tc4Le7XOC3u1zgt7tc4Le7XOC3u1zgt7tc4Le7XOC3u1zgt7tc4Le7XOC3u1zgt7tc4Le7XOC3u1zgt7td4Le7XeC3u13gt7td4Le7XeC3u13gt7td4Le7XeC3u13gt7td4Le7XeC3u13gt7td4Le7XeC3u13gt7td4Le7XeC3u13gt7td4Le7XeC3u13gt7td4Le7XeC3u13gt7td4Le7XeC3u13gt7td4Le7XeC3u13gt7td4Le7XeC3u13gt7te4Le7XuC3u17gt7te4Le7XuC3u17gt7te4Le7XuC3u17gt7te4Le7XuC3u17gt7te4Le7XuC3u17gt7te4Le7XuC3u17gt7te4Le7XuC3u17gt7te4Le7XuC3u17gt7te4Le7XuC3u17gt7te4Le7XuC3u17gt7te4Le7XuC3u17gt7te4Le7X+C3u1/gt7tf4Le7X+C3u1/gt7tf4Le7X+C3u1/gt7tf4Le7X+C3u1/gt7tf4Le7X+C3u1/gt7tf4Le7X+C3u1zgt7tc4Le7XOC3u1zgt7tc4Le7XOC3u1zgt7tc4Le7XeC3u13gt7td4Le7XeC3u13gt7td4Le7XeC3u13gt7td4Le7XeC3u13gt7td4Le7XeC3u13gt7td4Le7XeC3u13gt7td4Le7XeC3u13gt7td4Le7XeC3u13gt7td4Le7XeC3u13gt7td4Le7XeC3u13gt7td4Le7XeC3u13gt7td4Le7XuC3u17gt7te4Le7XuC3u17gt7te4Le7XuC3u17gt7te4Le7XuC3u17gt7te4Le7XuC3u17gt7te4Le7XuC3u17gt7te4Le7XuC3u17gt7te4Le7XuC3u17gt7te4Le7XuC3u17gt7te4Le7XuC3u17gt7te4Le7XuC3u17gt7te4Le7XuC3u1/gt7tf4Le7X+C3u1/gt7tf4Le7X+C3u1/gt7tf4Le7X+C3u1/gt7tf4Le7X+C3u1/gt7tf4Le7X+C3u1/gt7tf4Le7X+C3u1/gt7tf4Le7X+C3u1/gt7tf4Le7X+C3u1/gt7td4Le7XeC3u13gt7td4Le7XeC3u13gt7td4Le7XeC3u13gt7td4Le7XeC3u13gt7td4Le7XeC3u13gt7td4Le7XeC3u13gt7td4Le7XeC3u13gt7td4Le7XeC3u13gt7td4Le7XeC3u13gt7td4Le7XeC3u13gt7td4Le7XeC3u13gt7te4Le7XuC3u17gt7te4Le7XuC3u17gt7te4Le7XuC3u17gt7te4Le7XuC3u17gt7te4Le7XuC3u17gt7te4Le7XuC3u17gt7te4Le7XuC3u17gt7te4Le7XuC3u17gt7te4Le7XuC3u17gt7te4Le7XuC3u17gt7te4Le7XuC3u17gt7tf4Le7X+C3u1/gt7tf4Le7X+C3u1/gt7tf4Le7X+C3u1/gt7tf4Le7X+C3u1/gt7tf4Le7X+C3u1/gt7tf4Le7X+C3u1/gt7tf4Le7X+C3u1/gt7tf4Le7X+C3u1/gt7tf4Le7X+C3u1/gt7tf4Le7X+C3u1/gt7tf4Le7X+C3u1/gt7tf4Le7XeC3u13gt7td4Le7XeC3u13gt7td4Le7XeC3u13gt7td4Le7XeC3u13gt7td4Le7XeC3u13gt7td4Le7XeC3u13gt7td4Le7XeC3u13gt7td4Le7XeC3u13gt7td4Le7XuC3u17gt7te4Le7XuC3u17gt7te4Le7XuC3u17gt7te4Le7XuC3u17gt7te4Le7XuC3u17gt7te4Le7XuC3u17gt7te4Le7XuC3u17gt7te4Le7XuC3u17gt7te4Le7XuC3u17gt7te4Le7XuC3u17gt7te4Le7XuC3u17gt7te4Le7XuC3u1/gt7tf4Le7X+C3u1/gt7tf4Le7X+C3u1/gt7tf4Le7X+C3u1/gt7tf4Le7X+C3u1/gt7tf4Le7X+C3u1/gt7tf4Le7X+C3u1/gt7tf4Le7X+C3u1/gt7tf4Le7X+C3u1/gt7tf4Le7X+C3u1/gt7tf4Le7X+C3u1/gt7tf4Le7X+C3u2Dgt7tg4Le7YOC3u2Dgt7tg4Le7YOC3u2Dgt7tg4Le7YOC3u13gt7td4Le7XeC3u13gt7td4Le7XeC3u13gt7td4Le7XeC3u13gt7td4Le7XeC3u13gt7td4Le7XeC3u13gt7te4Le7XuC3u17gt7te4Le7XuC3u17gt7te4Le7XuC3u17gt7te4Le7XuC3u17gt7te4Le7XuC3u17gt7te4Le7XuC3u17gt7te4Le7XuC3u17gt7te4Le7XuC3u17gt7te4Le7XuC3u17gt7te4Le7XuC3u17gt7te4Le7XuC3u17gt7tf4Le7X+C3u1/gt7tf4Le7X+C3u1/gt7tf4Le7X+C3u1/gt7tf4Le7X+C3u1/gt7tf4Le7X+C3u1/gt7tf4Le7X+C3u1/gt7tf4Le7X+C3u1/gt7tf4Le7X+C3u1/gt7tf4Le7X+C3u1/gt7tf4Le7X+C3u1/gt7tf4Le7X+C3u1/gt7tf4Le7YOC3u2Dgt7tg4Le7YOC3u2Dgt7tg4Le7YOC3u2Dgt7tg4Le7YOC3u2Dgt7tg4Le7YOC3u2Dgt7tg4Le7YOC3u2Dgt7td4Le7XeC3u13gt7td4Le7XeC3u13gt7td4Le7XuC3u17gt7te4Le7XuC3u17gt7te4Le7XuC3u17gt7te4Le7XuC3u17gt7te4Le7XuC3u17gt7te4Le7XuC3u17gt7te4Le7XuC3u17gt7te4Le7XuC3u17gt7te4Le7XuC3u17gt7te4Le7XuC3u17gt7te4Le7XuC3u17gt7te4Le7XuC3u1/gt7tf4Le7X+C3u1/gt7tf4Le7X+C3u1/gt7tf4Le7X+C3u1/gt7tf4Le7X+C3u1/gt7tf4Le7X+C3u1/gt7tf4Le7X+C3u1/gt7tf4Le7X+C3u1/gt7tf4Le7X+C3u1/gt7tf4Le7X+C3u1/gt7tf4Le7X+C3u1/gt7tf4Le7X+C3u2Dgt7tg4Le7YOC3u2Dgt7tg4Le7YOC3u2Dgt7tg4Le7YOC3u2Dgt7tg4Le7YOC3u2Dgt7tg4Le7YOC3u2Dgt7tg4Le7YOC3u2Dgt7tg4Le7YOC3u2Dgt7tg4Le7YOC3u2Dgt7tg4Le7XuC3u17gt7te4Le7XuC3u17gt7te4Le7XuC3u17gt7te4Le7XuC3u17gt7te4Le7XuC3u17gt7te4Le7XuC3u17gt7te4Le7XuC3u17gt7te4Le7XuC3u17gt7te4Le7XuC3u17gt7te4Le7XuC3u17gt7te4Le7XuC3u17gt7tf4Le7X+C3u1/gt7tf4Le7X+C3u1/gt7tf4Le7X+C3u1/gt7tf4Le7X+C3u1/gt7tf4Le7X+C3u1/gt7tf4Le7X+C3u1/gt7tf4Le7X+C3u1/gt7tf4Le7X+C3u1/gt7tf4Le7X+C3u1/gt7tf4Le7X+C3u1/gt7tf4Le7X+C3u1/gt7tf4Le7YOC3u2Dgt7tg4Le7YOC3u2Dgt7tg4Le7YOC3u2Dgt7tg4Le7YOC3u2Dgt7tg4Le7YOC3u2Dgt7tg4Le7YOC3u2Dgt7tg4Le7YOC3u2Dgt7tg4Le7YOC3u2Dgt7tg4Le7YOC3u2Dgt7tg4Le7YOC3u2Dgt7tg4Le7YOC3u2Dgt7tg4Le7YeC3u17gt7te4Le7XuC3u17gt7te4Le7XuC3u17gt7te4Le7XuC3u17gt7te4Le7XuC3u17gt7te4Le7XuC3u17gt7te4Le7XuC3u17gt7te4Le7XuC3u17gt7te4Le7XuC3u1/gt7tf4Le7X+C3u1/gt7tf4Le7X+C3u1/gt7tf4Le7X+C3u1/gt7tf4Le7X+C3u1/gt7tf4Le7X+C3u1/gt7tf4Le7X+C3u1/gt7tf4Le7X+C3u1/gt7tf4Le7X+C3u1/gt7tf4Le7X+C3u1/gt7tf4Le7X+C3u1/gt7tf4Le7X+C3u2Dgt7tg4Le7YOC3u2Dgt7tg4Le7YOC3u2Dgt7tg4Le7YOC3u2Dgt7tg4Le7YOC3u2Dgt7tg4Le7YOC3u2Dgt7tg4Le7YOC3u2Dgt7tg4Le7YOC3u2Dgt7tg4Le7YOC3u2Dgt7tg4Le7YOC3u2Dgt7tg4Le7YOC3u2Dgt7tg4Le7YOC3u2Dgt7th4Le7YeC3u2Hgt7th4Le7YeC3u2Hgt7th4Le7YeC3u2Hgt7te4Le7XuC3u17gt7te4Le7XuC3u17gt7te4Le7XuC3u17gt7te4Le7XuC3u17gt7te4Le7XuC3u17gt7tf4Le7X+C3u1/gt7tf4Le7X+C3u1/gt7tf4Le7X+C3u1/gt7tf4Le7X+C3u1/gt7tf4Le7X+C3u1/gt7tf4Le7X+C3u1/gt7tf4Le7X+C3u1/gt7tf4Le7X+C3u1/gt7tf4Le7X+C3u1/gt7tf4Le7X+C3u1/gt7tf4Le7X+C3u1/gt7tf4Le7YOC3u2Dgt7tg4Le7YOC3u2Dgt7tg4Le7YOC3u2Dgt7tg4Le7YOC3u2Dgt7tg4Le7YOC3u2Dgt7tg4Le7YOC3u2Dgt7tg4Le7YOC3u2Dgt7tg4Le7YOC3u2Dgt7tg4Le7YOC3u2Dgt7tg4Le7YOC3u2Dgt7tg4Le7YOC3u2Dgt7tg4Le7YeC3u2Hgt7th4Le7YeC3u2Hgt7th4Le7YeC3u2Hgt7th4Le7YeC3u2Hgt7th4Le7YeC3u2Hgt7th4Le7YeC3u2Hgt7th4Le7XuC3u17gt7te4Le7XuC3u17gt7te4Le7X+C3u1/gt7tf4Le7X+C3u1/gt7tf4Le7X+C3u1/gt7tf4Le7X+C3u1/gt7tf4Le7X+C3u1/gt7tf4Le7X+C3u1/gt7tf4Le7X+C3u1/gt7tf4Le7X+C3u1/gt7tf4Le7X+C3u1/gt7tf4Le7X+C3u1/gt7tf4Le7X+C3u1/gt7tf4Le7X+C3u2Dgt7tg4Le7YOC3u2Dgt7tg4Le7YOC3u2Dgt7tg4Le7YOC3u2Dgt7tg4Le7YOC3u2Dgt7tg4Le7YOC3u2Dgt7tg4Le7YOC3u2Dgt7tg4Le7YOC3u2Dgt7tg4Le7YOC3u2Dgt7tg4Le7YOC3u2Dgt7tg4Le7YOC3u2Dgt7tg4Le7YOC3u2Dgt7th4Le7YeC3u2Hgt7th4Le7YeC3u2Hgt7th4Le7YeC3u2Hgt7th4Le7YeC3u2Hgt7th4Le7YeC3u2Hgt7th4Le7YeC3u2Hgt7th4Le7YeC3u2Hgt7th4Le7YeC3u2Hgt7th4Le7YeC3u1/gt7tf4Le7X+C3u1/gt7tf4Le7X+C3u1/gt7tf4Le7X+C3u1/gt7tf4Le7X+C3u1/gt7tf4Le7X+C3u1/gt7tf4Le7X+C3u1/gt7tf4Le7X+C3u1/gt7tf4Le7X+C3u1/gt7tf4Le7X+C3u1/gt7tf4Le7X+C3u1/gt7tg4Le7YOC3u2Dgt7tg4Le7YOC3u2Dgt7tg4Le7YOC3u2Dgt7tg4Le7YOC3u2Dgt7tg4Le7YOC3u2Dgt7tg4Le7YOC3u2Dgt7tg4Le7YOC3u2Dgt7tg4Le7YOC3u2Dgt7tg4Le7YOC3u2Dgt7tg4Le7YOC3u2Dgt7tg4Le7YOC3u2Dgt7tg4Le7YeC3u2Hgt7th4Le7YeC3u2Hgt7th4Le7YeC3u2Hgt7th4Le7YeC3u2Hgt7th4Le7YeC3u2Hgt7th4Le7YeC3u2Hgt7th4Le7YeC3u2Hgt7th4Le7YeC3u2Hgt7th4Le7YeC3u2Hgt7th4Le7YeC3u2Hgt7th4Le7YeC3u2Hgt7th4Le7YeC3u2Lgt7tf4Le7X+C3u1/gt7tf4Le7X+C3u1/gt7tf4Le7X+C3u1/gt7tf4Le7X+C3u1/gt7tf4Le7X+C3u1/gt7tf4Le7X+C3u1/gt7tf4Le7X+C3u1/gt7tf4Le7X+C3u2Dgt7tg4Le7YOC3u2Dgt7tg4Le7YOC3u2Dgt7tg4Le7YOC3u2Dgt7tg4Le7YOC3u2Dgt7tg4Le7YOC3u2Dgt7tg4Le7YOC3u2Dgt7tg4Le7YOC3u2Dgt7tg4Le7YOC3u2Dgt7tg4Le7YOC3u2Dgt7tg4Le7YOC3u2Dgt7tg4Le7YOC3u2Dgt7th4Le7YeC3u2Hgt7th4Le7YeC3u2Hgt7th4Le7YeC3u2Hgt7th4Le7YeC3u2Hgt7th4Le7YeC3u2Hgt7th4Le7YeC3u2Hgt7th4Le7YeC3u2Hgt7th4Le7YeC3u2Hgt7th4Le7YeC3u2Hgt7th4Le7YeC3u2Hgt7th4Le7YeC3u2Hgt7ti4Le7YuC3u2Lgt7ti4Le7YuC3u2Lgt7ti4Le7YuC3u2Lgt7ti4Le7X+C3u1/gt7tf4Le7X+C3u1/gt7tf4Le7X+C3u1/gt7tf4Le7X+C3u1/gt7tf4Le7X+C3u1/gt7tg4Le7YOC3u2Dgt7tg4Le7YOC3u2Dgt7tg4Le7YOC3u2Dgt7tg4Le7YOC3u2Dgt7tg4Le7YOC3u2Dgt7tg4Le7YOC3u2Dgt7tg4Le7YOC3u2Dgt7tg4Le7YOC3u2Dgt7tg4Le7YOC3u2Dgt7tg4Le7YOC3u2Dgt7tg4Le7YOC3u2Dgt7tg4Le7YeC3u2Hgt7th4Le7YeC3u2Hgt7th4Le7YeC3u2Hgt7th4Le7YeC3u2Hgt7th4Le7YeC3u2Hgt7th4Le7YeC3u2Hgt7th4Le7YeC3u2Hgt7th4Le7YeC3u2Hgt7th4Le7YeC3u2Hgt7th4Le7YeC3u2Hgt7th4Le7YeC3u2Hgt7th4Le7YuC3u2Lgt7ti4Le7YuC3u2Lgt7ti4Le7YuC3u2Lgt7ti4Le7YuC3u2Lgt7ti4Le7YuC3u2Lgt7ti4Le7YuC3u2Lgt7ti4Le7YuC3u1/gt7tf4Le7X+C3u1/gt7tf4Le7X+C3u2Dgt7tg4Le7YOC3u2Dgt7tg4Le7YOC3u2Dgt7tg4Le7YOC3u2Dgt7tg4Le7YOC3u2Dgt7tg4Le7YOC3u2Dgt7tg4Le7YOC3u2Dgt7tg4Le7YOC3u2Dgt7tg4Le7YOC3u2Dgt7tg4Le7YOC3u2Dgt7tg4Le7YOC3u2Dgt7tg4Le7YOC3u2Hgt7th4Le7YeC3u2Hgt7th4Le7YeC3u2Hgt7th4Le7YeC3u2Hgt7th4Le7YeC3u2Hgt7th4Le7YeC3u2Hgt7th4Le7YeC3u2Hgt7th4Le7YeC3u2Hgt7th4Le7YeC3u2Hgt7th4Le7YeC3u2Hgt7th4Le7YeC3u2Hgt7th4Le7YeC3u2Hgt7ti4Le7YuC3u2Lgt7ti4Le7YuC3u2Lgt7ti4Le7YuC3u2Lgt7ti4Le7YuC3u2Lgt7ti4Le7YuC3u2Lgt7ti4Le7YuC3u2Lgt7ti4Le7YuC3u2Lgt7ti4Le7YuC3u2Lgt7ti4Le7YuC3u2Lgt7tg4Le7YOC3u2Dgt7tg4Le7YOC3u2Dgt7tg4Le7YOC3u2Dgt7tg4Le7YOC3u2Dgt7tg4Le7YOC3u2Dgt7tg4Le7YOC3u2Dgt7tg4Le7YOC3u2Dgt7tg4Le7YOC3u2Dgt7tg4Le7YOC3u2Dgt7tg4Le7YOC3u2Dgt7tg4Le7YeC3u2Hgt7th4Le7YeC3u2Hgt7th4Le7YeC3u2Hgt7th4Le7YeC3u2Hgt7th4Le7YeC3u2Hgt7th4Le7YeC3u2Hgt7th4Le7YeC3u2Hgt7th4Le7YeC3u2Hgt7th4Le7YeC3u2Hgt7th4Le7YeC3u2Hgt7th4Le7YeC3u2Hgt7th4Le7YuC3u2Lgt7ti4Le7YuC3u2Lgt7ti4Le7YuC3u2Lgt7ti4Le7YuC3u2Lgt7ti4Le7YuC3u2Lgt7ti4Le7YuC3u2Lgt7ti4Le7YuC3u2Lgt7ti4Le7YuC3u2Lgt7ti4Le7YuC3u2Lgt7ti4Le7YuC3u2Lgt7ti4Le7YuC3u2Lgt7ti4Le7YuC3u2Pgt7tj4Le7YOC3u2Dgt7tg4Le7YOC3u2Dgt7tg4Le7YOC3u2Dgt7tg4Le7YOC3u2Dgt7tg4Le7YOC3u2Dgt7tg4Le7YOC3u2Dgt7tg4Le7YOC3u2Dgt7tg4Le7YOC3u2Hgt7th4Le7YeC3u2Hgt7th4Le7YeC3u2Hgt7th4Le7YeC3u2Hgt7th4Le7YeC3u2Hgt7th4Le7YeC3u2Hgt7th4Le7YeC3u2Hgt7th4Le7YeC3u2Hgt7th4Le7YeC3u2Hgt7th4Le7YeC3u2Hgt7th4Le7YeC3u2Hgt7th4Le7YeC3u2Hgt7ti4Le7YuC3u2Lgt7ti4Le7YuC3u2Lgt7ti4Le7YuC3u2Lgt7ti4Le7YuC3u2Lgt7ti4Le7YuC3u2Lgt7ti4Le7YuC3u2Lgt7ti4Le7YuC3u2Lgt7ti4Le7YuC3u2Lgt7ti4Le7YuC3u2Lgt7ti4Le7YuC3u2Lgt7ti4Le7YuC3u2Lgt7tj4Le7Y+C3u2Pgt7tj4Le7Y+C3u2Pgt7tj4Le7Y+C3u2Pgt7tj4Le7Y+C3u2Dgt7tg4Le7YOC3u2Dgt7tg4Le7YOC3u2Dgt7tg4Le7YOC3u2Dgt7tg4Le7YOC3u2Dgt7tg4Le7YeC3u2Hgt7th4Le7YeC3u2Hgt7th4Le7YeC3u2Hgt7th4Le7YeC3u2Hgt7th4Le7YeC3u2Hgt7th4Le7YeC3u2Hgt7th4Le7YeC3u2Hgt7th4Le7YeC3u2Hgt7th4Le7YeC3u2Hgt7th4Le7YeC3u2Hgt7th4Le7YeC3u2Hgt7th4Le7YuC3u2Lgt7ti4Le7YuC3u2Lgt7ti4Le7YuC3u2Lgt7ti4Le7YuC3u2Lgt7ti4Le7YuC3u2Lgt7ti4Le7YuC3u2Lgt7ti4Le7YuC3u2Lgt7ti4Le7YuC3u2Lgt7ti4Le7YuC3u2Lgt7ti4Le7YuC3u2Lgt7ti4Le7YuC3u2Lgt7ti4Le7YuC3u2Pgt7tj4Le7Y+C3u2Pgt7tj4Le7Y+C3u2Pgt7tj4Le7Y+C3u2Pgt7tj4Le7Y+C3u2Pgt7tj4Le7Y+C3u2Pgt7tj4Le7Y+C3u2Pgt7tg4Le7YOC3u2Dgt7tg4Le7YOC3u2Hgt7th4Le7YeC3u2Hgt7th4Le7YeC3u2Hgt7th4Le7YeC3u2Hgt7th4Le7YeC3u2Hgt7th4Le7YeC3u2Hgt7th4Le7YeC3u2Hgt7th4Le7YeC3u2Hgt7th4Le7YeC3u2Hgt7th4Le7YeC3u2Hgt7th4Le7YeC3u2Hgt7th4Le7YeC3u2Hgt7ti4Le7YuC3u2Lgt7ti4Le7YuC3u2Lgt7ti4Le7YuC3u2Lgt7ti4Le7YuC3u2Lgt7ti4Le7YuC3u2Lgt7ti4Le7YuC3u2Lgt7ti4Le7YuC3u2Lgt7ti4Le7YuC3u2Lgt7ti4Le7YuC3u2Lgt7ti4Le7YuC3u2Lgt7ti4Le7YuC3u2Lgt7tj4Le7Y+C3u2Pgt7tj4Le7Y+C3u2Pgt7tj4Le7Y+C3u2Pgt7tj4Le7Y+C3u2Pgt7tj4Le7Y+C3u2Pgt7tj4Le7Y+C3u2Pgt7tj4Le7Y+C3u2Pgt7tj4Le7Y+C3u2Pgt7tj4Le7Y+C3u2Pgt7tj4Le7YeC3u2Hgt7th4Le7YeC3u2Hgt7th4Le7YeC3u2Hgt7th4Le7YeC3u2Hgt7th4Le7YeC3u2Hgt7th4Le7YeC3u2Hgt7th4Le7YeC3u2Hgt7th4Le7YeC3u2Hgt7th4Le7YeC3u2Hgt7th4Le7YeC3u2Hgt7th4Le7YuC3u2Lgt7ti4Le7YuC3u2Lgt7ti4Le7YuC3u2Lgt7ti4Le7YuC3u2Lgt7ti4Le7YuC3u2Lgt7ti4Le7YuC3u2Lgt7ti4Le7YuC3u2Lgt7ti4Le7YuC3u2Lgt7ti4Le7YuC3u2Lgt7ti4Le7YuC3u2Lgt7ti4Le7YuC3u2Lgt7ti4Le7YuC3u2Pgt7tj4Le7Y+C3u2Pgt7tj4Le7Y+C3u2Pgt7tj4Le7Y+C3u2Pgt7tj4Le7Y+C3u2Pgt7tj4Le7Y+C3u2Pgt7tj4Le7Y+C3u2Pgt7tj4Le7Y+C3u2Pgt7tj4Le7Y+C3u2Pgt7tj4Le7Y+C3u2Pgt7tj4Le7Y+C3u2Pgt7tj4Le7Y+C3u2Tgt7tk4Le7ZOC3u2Hgt7th4Le7YeC3u2Hgt7th4Le7YeC3u2Hgt7th4Le7YeC3u2Hgt7th4Le7YeC3u2Hgt7th4Le7YeC3u2Hgt7th4Le7YeC3u2Hgt7th4Le7YeC3u2Hgt7ti4Le7YuC3u2Lgt7ti4Le7YuC3u2Lgt7ti4Le7YuC3u2Lgt7ti4Le7YuC3u2Lgt7ti4Le7YuC3u2Lgt7ti4Le7YuC3u2Lgt7ti4Le7YuC3u2Lgt7ti4Le7YuC3u2Lgt7ti4Le7YuC3u2Lgt7ti4Le7YuC3u2Lgt7ti4Le7YuC3u2Lgt7tj4Le7Y+C3u2Pgt7tj4Le7Y+C3u2Pgt7tj4Le7Y+C3u2Pgt7tj4Le7Y+C3u2Pgt7tj4Le7Y+C3u2Pgt7tj4Le7Y+C3u2Pgt7tj4Le7Y+C3u2Pgt7tj4Le7Y+C3u2Pgt7tj4Le7Y+C3u2Pgt7tj4Le7Y+C3u2Pgt7tj4Le7Y+C3u2Pgt7tj4Le7ZOC3u2Tgt7tk4Le7ZOC3u2Tgt7tk4Le7ZOC3u2Tgt7tk4Le7ZOC3u2Tgt7th4Le7YeC3u2Hgt7th4Le7YeC3u2Hgt7th4Le7YeC3u2Hgt7th4Le7YeC3u2Hgt7th4Le7YuC3u2Lgt7ti4Le7YuC3u2Lgt7ti4Le7YuC3u2Lgt7ti4Le7YuC3u2Lgt7ti4Le7YuC3u2Lgt7ti4Le7YuC3u2Lgt7ti4Le7YuC3u2Lgt7ti4Le7YuC3u2Lgt7ti4Le7YuC3u2Lgt7ti4Le7YuC3u2Lgt7ti4Le7YuC3u2Lgt7ti4Le7YuC3u2Pgt7tj4Le7Y+C3u2Pgt7tj4Le7Y+C3u2Pgt7tj4Le7Y+C3u2Pgt7tj4Le7Y+C3u2Pgt7tj4Le7Y+C3u2Pgt7tj4Le7Y+C3u2Pgt7tj4Le7Y+C3u2Pgt7tj4Le7Y+C3u2Pgt7tj4Le7Y+C3u2Pgt7tj4Le7Y+C3u2Pgt7tj4Le7Y+C3u2Tgt7tk4Le7ZOC3u2Tgt7tk4Le7ZOC3u2Tgt7tk4Le7ZOC3u2Tgt7tk4Le7ZOC3u2Tgt7tk4Le7ZOC3u2Tgt7tk4Le7ZOC3u2Tgt7tk4Le7YeC3u2Hgt7th4Le7YeC3u2Lgt7ti4Le7YuC3u2Lgt7ti4Le7YuC3u2Lgt7ti4Le7YuC3u2Lgt7ti4Le7YuC3u2Lgt7ti4Le7YuC3u2Lgt7ti4Le7YuC3u2Lgt7ti4Le7YuC3u2Lgt7ti4Le7YuC3u2Lgt7ti4Le7YuC3u2Lgt7ti4Le7YuC3u2Lgt7ti4Le7YuC3u2Lgt7tj4Le7Y+C3u2Pgt7tj4Le7Y+C3u2Pgt7tj4Le7Y+C3u2Pgt7tj4Le7Y+C3u2Pgt7tj4Le7Y+C3u2Pgt7tj4Le7Y+C3u2Pgt7tj4Le7Y+C3u2Pgt7tj4Le7Y+C3u2Pgt7tj4Le7Y+C3u2Pgt7tj4Le7Y+C3u2Pgt7tj4Le7Y+C3u2Pgt7tj4Le7ZOC3u2Tgt7tk4Le7ZOC3u2Tgt7tk4Le7ZOC3u2Tgt7tk4Le7ZOC3u2Tgt7tk4Le7ZOC3u2Tgt7tk4Le7ZOC3u2Tgt7tk4Le7ZOC3u2Tgt7tk4Le7ZOC3u2Tgt7tk4Le7ZOC3u2Tgt7tk4Le7ZOC3u2Lgt7ti4Le7YuC3u2Lgt7ti4Le7YuC3u2Lgt7ti4Le7YuC3u2Lgt7ti4Le7YuC3u2Lgt7ti4Le7YuC3u2Lgt7ti4Le7YuC3u2Lgt7ti4Le7YuC3u2Lgt7ti4Le7YuC3u2Lgt7ti4Le7YuC3u2Lgt7ti4Le7Y+C3u2Pgt7tj4Le7Y+C3u2Pgt7tj4Le7Y+C3u2Pgt7tj4Le7Y+C3u2Pgt7tj4Le7Y+C3u2Pgt7tj4Le7Y+C3u2Pgt7tj4Le7Y+C3u2Pgt7tj4Le7Y+C3u2Pgt7tj4Le7Y+C3u2Pgt7tj4Le7Y+C3u2Pgt7tj4Le7Y+C3u2Pgt7tj4Le7Y+C3u2Tgt7tk4Le7ZOC3u2Tgt7tk4Le7ZOC3u2Tgt7tk4Le7ZOC3u2Tgt7tk4Le7ZOC3u2Tgt7tk4Le7ZOC3u2Tgt7tk4Le7ZOC3u2Tgt7tk4Le7ZOC3u2Tgt7tk4Le7ZOC3u2Tgt7tk4Le7ZOC3u2Tgt7tk4Le7ZOC3u2Tgt7tk4Le7ZOC3u2Tgt7tl4Le7ZeC3u2Xgt7th4Le7YeC3u2Lgt7ti4Le7YuC3u2Lgt7ti4Le7YuC3u2Lgt7ti4Le7YuC3u2Lgt7ti4Le7YuC3u2Lgt7ti4Le7YuC3u2Lgt7ti4Le7YuC3u2Lgt7tj4Le7Y+C3u2Pgt7tj4Le7Y+C3u2Pgt7tj4Le7Y+C3u2Pgt7tj4Le7Y+C3u2Pgt7tj4Le7Y+C3u2Pgt7tj4Le7Y+C3u2Pgt7tj4Le7Y+C3u2Pgt7tj4Le7Y+C3u2Pgt7tj4Le7Y+C3u2Pgt7tj4Le7Y+C3u2Pgt7tj4Le7Y+C3u2Pgt7tk4Le7ZOC3u2Tgt7tk4Le7ZOC3u2Tgt7tk4Le7ZOC3u2Tgt7tk4Le7ZOC3u2Tgt7tk4Le7ZOC3u2Tgt7tk4Le7ZOC3u2Tgt7tk4Le7ZOC3u2Tgt7tk4Le7ZOC3u2Tgt7tk4Le7ZOC3u2Tgt7tk4Le7ZOC3u2Tgt7tk4Le7ZOC3u2Tgt7tk4Le7ZeC3u2Xgt7tl4Le7ZeC3u2Xgt7tl4Le7ZeC3u2Xgt7tl4Le7ZeC3u2Xgt7tl4Le7YeC3u2Hgt7th4Le7YuC3u2Lgt7ti4Le7YuC3u2Lgt7ti4Le7YuC3u2Lgt7ti4Le7Y+C3u2Pgt7tj4Le7Y+C3u2Pgt7tj4Le7Y+C3u2Pgt7tj4Le7Y+C3u2Pgt7tj4Le7Y+C3u2Pgt7tj4Le7Y+C3u2Pgt7tj4Le7Y+C3u2Pgt7tj4Le7Y+C3u2Pgt7tj4Le7Y+C3u2Pgt7tj4Le7Y+C3u2Pgt7tj4Le7Y+C3u2Pgt7tj4Le7Y+C3u2Tgt7tk4Le7ZOC3u2Tgt7tk4Le7ZOC3u2Tgt7tk4Le7ZOC3u2Tgt7tk4Le7ZOC3u2Tgt7tk4Le7ZOC3u2Tgt7tk4Le7ZOC3u2Tgt7tk4Le7ZOC3u2Tgt7tk4Le7ZOC3u2Tgt7tk4Le7ZOC3u2Tgt7tk4Le7ZOC3u2Tgt7tk4Le7ZOC3u2Tgt7tl4Le7ZeC3u2Xgt7tl4Le7ZeC3u2Xgt7tl4Le7ZeC3u2Xgt7tl4Le7ZeC3u2Xgt7tl4Le7ZeC3u2Xgt7tl4Le7ZeC3u2Xgt7tl4Le7ZeC3u2Hgt7th4Le7YeC3u2Hgt7th4Le7YuC3u2Lgt7ti4Le7YuC3u2Lgt7tj4Le7Y+C3u2Pgt7tj4Le7Y+C3u2Pgt7tj4Le7Y+C3u2Pgt7tj4Le7Y+C3u2Pgt7tj4Le7Y+C3u2Pgt7tj4Le7Y+C3u2Pgt7tj4Le7Y+C3u2Pgt7tj4Le7Y+C3u2Pgt7tj4Le7Y+C3u2Pgt7tk4Le7ZOC3u2Tgt7tk4Le7ZOC3u2Tgt7tk4Le7ZOC3u2Tgt7tk4Le7ZOC3u2Tgt7tk4Le7ZOC3u2Tgt7tk4Le7ZOC3u2Tgt7tk4Le7ZOC3u2Tgt7tk4Le7ZOC3u2Tgt7tk4Le7ZOC3u2Tgt7tk4Le7ZOC3u2Tgt7tk4Le7ZOC3u2Tgt7tk4Le7ZeC3u2Xgt7tl4Le7ZeC3u2Xgt7tl4Le7ZeC3u2Xgt7tl4Le7ZeC3u2Xgt7tl4Le7ZeC3u2Xgt7tl4Le7ZeC3u2Xgt7tl4Le7ZeC3u2Xgt7tl4Le7ZeC3u2Xgt7tl4Le7ZeC3u2Xgt7tl4Le7ZeC3u2Xgt7tg4Le7YOC3u2Hgt7th4Le7YeC3u2Hgt7th4Le7YuC3u2Lgt7ti4Le7YuC3u2Pgt7tj4Le7Y+C3u2Pgt7tj4Le7Y+C3u2Pgt7tj4Le7Y+C3u2Pgt7tj4Le7Y+C3u2Pgt7tj4Le7Y+C3u2Pgt7tj4Le7Y+C3u2Tgt7tk4Le7ZOC3u2Tgt7tk4Le7ZOC3u2Tgt7tk4Le7ZOC3u2Tgt7tk4Le7ZOC3u2Tgt7tk4Le7ZOC3u2Tgt7tk4Le7ZOC3u2Tgt7tk4Le7ZOC3u2Tgt7tk4Le7ZOC3u2Tgt7tk4Le7ZOC3u2Tgt7tk4Le7ZOC3u2Tgt7tk4Le7ZOC3u2Xgt7tl4Le7ZeC3u2Xgt7tl4Le7ZeC3u2Xgt7tl4Le7ZeC3u2Xgt7tl4Le7ZeC3u2Xgt7tl4Le7ZeC3u2Xgt7tl4Le7ZeC3u2Xgt7tl4Le7ZeC3u2Xgt7tl4Le7ZeC3u2Xgt7tl4Le7ZeC3u2Xgt7tl4Le7ZeC3u2Xgt7tl4Le7ZeC3u2Xgt7tm4Le7ZuC3u2bgt7tm4Le7YOC3u2Dgt7tg4Le7YeC3u2Hgt7th4Le7YeC3u2Hgt7ti4Le7YuC3u2Lgt7ti4Le7YuC3u2Pgt7tj4Le7Y+C3u2Pgt7tj4Le7Y+C3u2Pgt7tk4Le7ZOC3u2Tgt7tk4Le7ZOC3u2Tgt7tk4Le7ZOC3u2Tgt7tk4Le7ZOC3u2Tgt7tk4Le7ZOC3u2Tgt7tk4Le7ZOC3u2Tgt7tk4Le7ZOC3u2Tgt7tk4Le7ZOC3u2Tgt7tk4Le7ZOC3u2Tgt7tk4Le7ZOC3u2Tgt7tk4Le7ZOC3u2Tgt7tk4Le7ZeC3u2Xgt7tl4Le7ZeC3u2Xgt7tl4Le7ZeC3u2Xgt7tl4Le7ZeC3u2Xgt7tl4Le7ZeC3u2Xgt7tl4Le7ZeC3u2Xgt7tl4Le7ZeC3u2Xgt7tl4Le7ZeC3u2Xgt7tl4Le7ZeC3u2Xgt7tl4Le7ZeC3u2Xgt7tl4Le7ZeC3u2Xgt7tl4Le7ZuC3u2bgt7tm4Le7ZuC3u2bgt7tm4Le7ZuC3u2bgt7tm4Le7ZuC3u2bgt7tm4Le7ZuC3u2Dgt7tg4Le7YOC3u2Dgt7tg4Le7YeC3u2Hgt7th4Le7YeC3u2Hgt7ti4Le7YuC3u2Lgt7ti4Le7Y+C3u2Pgt7tj4Le7Y+C3u2Pgt7tk4Le7ZOC3u2Tgt7tk4Le7ZOC3u2Tgt7tk4Le7ZOC3u2Tgt7tk4Le7ZOC3u2Tgt7tk4Le7ZOC3u2Tgt7tk4Le7ZOC3u2Tgt7tk4Le7ZOC3u2Tgt7tk4Le7ZOC3u2Tgt7tk4Le7ZOC3u2Xgt7tl4Le7ZeC3u2Xgt7tl4Le7ZeC3u2Xgt7tl4Le7ZeC3u2Xgt7tl4Le7ZeC3u2Xgt7tl4Le7ZeC3u2Xgt7tl4Le7ZeC3u2Xgt7tl4Le7ZeC3u2Xgt7tl4Le7ZeC3u2Xgt7tl4Le7ZeC3u2Xgt7tl4Le7ZeC3u2Xgt7tl4Le7ZeC3u2Xgt7tm4Le7ZuC3u2bgt7tm4Le7ZuC3u2bgt7tm4Le7ZuC3u2bgt7tm4Le7ZuC3u2bgt7tm4Le7ZuC3u2bgt7tm4Le7ZuC3u2bgt7tm4Le7ZuC3u2bgt7tf4Le7X+C3u2Dgt7tg4Le7YOC3u2Dgt7th4Le7YeC3u2Hgt7th4Le7YeC3u2Lgt7ti4Le7YuC3u2Lgt7ti4Le7Y+C3u2Pgt7tj4Le7Y+C3u2Pgt7tk4Le7ZOC3u2Tgt7tk4Le7ZOC3u2Tgt7tk4Le7ZOC3u2Tgt7tk4Le7ZOC3u2Tgt7tk4Le7ZOC3u2Tgt7tk4Le7ZeC3u2Xgt7tl4Le7ZeC3u2Xgt7tl4Le7ZeC3u2Xgt7tl4Le7ZeC3u2Xgt7tl4Le7ZeC3u2Xgt7tl4Le7ZeC3u2Xgt7tl4Le7ZeC3u2Xgt7tl4Le7ZeC3u2Xgt7tl4Le7ZeC3u2Xgt7tl4Le7ZeC3u2Xgt7tl4Le7ZeC3u2Xgt7tl4Le7ZuC3u2bgt7tm4Le7ZuC3u2bgt7tm4Le7ZuC3u2bgt7tm4Le7ZuC3u2bgt7tm4Le7ZuC3u2bgt7tm4Le7ZuC3u2bgt7tm4Le7ZuC3u2bgt7tm4Le7ZuC3u2bgt7tm4Le7ZuC3u2bgt7tm4Le7ZuC3u2bgt7tm4Le7X+C3u1/gt7tf4Le7YOC3u2Dgt7tg4Le7YOC3u2Dgt7th4Le7YeC3u2Hgt7th4Le7YeC3u2Lgt7ti4Le7YuC3u2Lgt7tj4Le7Y+C3u2Pgt7tj4Le7Y+C3u2Tgt7tk4Le7ZOC3u2Tgt7tk4Le7ZOC3u2Xgt7tl4Le7ZeC3u2Xgt7tl4Le7ZeC3u2Xgt7tl4Le7ZeC3u2Xgt7tl4Le7ZeC3u2Xgt7tl4Le7ZeC3u2Xgt7tl4Le7ZeC3u2Xgt7tl4Le7ZeC3u2Xgt7tl4Le7ZeC3u2Xgt7tl4Le7ZeC3u2Xgt7tl4Le7ZeC3u2Xgt7tl4Le7ZeC3u2Xgt7tm4Le7ZuC3u2bgt7tm4Le7ZuC3u2bgt7tm4Le7ZuC3u2bgt7tm4Le7ZuC3u2bgt7tm4Le7ZuC3u2bgt7tm4Le7ZuC3u2bgt7tm4Le7ZuC3u2bgt7tm4Le7ZuC3u2bgt7tm4Le7ZuC3u2bgt7tm4Le7ZuC3u2bgt7tm4Le7ZuC3u2bgt7tn4Le7Z+C3u2fgt7tn4Le7Z+C3u1/gt7tf4Le7X+C3u1/gt7tf4Le7YOC3u2Dgt7tg4Le7YOC3u2Hgt7th4Le7YeC3u2Hgt7th4Le7YuC3u2Lgt7ti4Le7YuC3u2Lgt7tj4Le7Y+C3u2Pgt7tj4Le7Y+C3u2Tgt7tk4Le7ZOC3u2Tgt7tk4Le7ZeC3u2Xgt7tl4Le7ZeC3u2Xgt7tl4Le7ZeC3u2Xgt7tl4Le7ZeC3u2Xgt7tl4Le7ZeC3u2Xgt7tl4Le7ZeC3u2Xgt7tl4Le7ZeC3u2Xgt7tl4Le7ZeC3u2Xgt7tl4Le7ZuC3u2bgt7tm4Le7ZuC3u2bgt7tm4Le7ZuC3u2bgt7tm4Le7ZuC3u2bgt7tm4Le7ZuC3u2bgt7tm4Le7ZuC3u2bgt7tm4Le7ZuC3u2bgt7tm4Le7ZuC3u2bgt7tm4Le7ZuC3u2bgt7tm4Le7ZuC3u2bgt7tm4Le7ZuC3u2bgt7tm4Le7ZuC3u2fgt7tn4Le7Z+C3u2fgt7tn4Le7Z+C3u2fgt7tn4Le7Z+C3u2fgt7tn4Le7Z+C3u2fgt7te4Le7X+C3u1/gt7tf4Le7X+C3u1/gt7tg4Le7YOC3u2Dgt7tg4Le7YOC3u2Hgt7th4Le7YeC3u2Hgt7th4Le7YuC3u2Lgt7ti4Le7YuC3u2Lgt7tj4Le7Y+C3u2Pgt7tj4Le7ZOC3u2Tgt7tk4Le7ZOC3u2Tgt7tl4Le7ZeC3u2Xgt7tl4Le7ZeC3u2Xgt7tl4Le7ZeC3u2Xgt7tl4Le7ZeC3u2Xgt7tl4Le7ZeC3u2Xgt7tm4Le7ZuC3u2bgt7tm4Le7ZuC3u2bgt7tm4Le7ZuC3u2bgt7tm4Le7ZuC3u2bgt7tm4Le7ZuC3u2bgt7tm4Le7ZuC3u2bgt7tm4Le7ZuC3u2bgt7tm4Le7ZuC3u2bgt7tm4Le7ZuC3u2bgt7tm4Le7ZuC3u2bgt7tm4Le7ZuC3u2bgt7tn4Le7Z+C3u2fgt7tn4Le7Z+C3u2fgt7tn4Le7Z+C3u2fgt7tn4Le7Z+C3u2fgt7tn4Le7Z+C3u2fgt7tn4Le7Z+C3u2fgt7tn4Le7Z+C3u2fgt7tn4Le7XuC3u17gt7te4Le7X+C3u1/gt7tf4Le7X+C3u1/gt7tg4Le7YOC3u2Dgt7tg4Le7YOC3u2Hgt7th4Le7YeC3u2Hgt7ti4Le7YuC3u2Lgt7ti4Le7YuC3u2Pgt7tj4Le7Y+C3u2Pgt7tj4Le7ZOC3u2Tgt7tk4Le7ZOC3u2Tgt7tl4Le7ZeC3u2Xgt7tl4Le7ZuC3u2bgt7tm4Le7ZuC3u2bgt7tm4Le7ZuC3u2bgt7tm4Le7ZuC3u2bgt7tm4Le7ZuC3u2bgt7tm4Le7ZuC3u2bgt7tm4Le7ZuC3u2bgt7tm4Le7ZuC3u2bgt7tm4Le7ZuC3u2bgt7tm4Le7ZuC3u2bgt7tm4Le7ZuC3u2bgt7tm4Le7ZuC3u2fgt7tn4Le7Z+C3u2fgt7tn4Le7Z+C3u2fgt7tn4Le7Z+C3u2fgt7tn4Le7Z+C3u2fgt7tn4Le7Z+C3u2fgt7tn4Le7Z+C3u2fgt7tn4Le7Z+C3u2fgt7tn4Le7Z+C3u2fgt7tn4Le7Z+C3u2fgt7tn4Le7Z+C3u17gt7te4Le7XuC3u17gt7te4Le7X+C3u1/gt7tf4Le7X+C3u2Dgt7tg4Le7YOC3u2Dgt7tg4Le7YeC3u2Hgt7th4Le7YeC3u2Hgt7ti4Le7YuC3u2Lgt7ti4Le7YuC3u2Pgt7tj4Le7Y+C3u2Pgt7tk4Le7ZOC3u2Tgt7tk4Le7ZOC3u2Xgt7tl4Le7ZeC3u2Xgt7tl4Le7ZuC3u2bgt7tm4Le7ZuC3u2bgt7tm4Le7ZuC3u2bgt7tm4Le7ZuC3u2bgt7tm4Le7ZuC3u2bgt7tm4Le7ZuC3u2bgt7tm4Le7ZuC3u2bgt7tm4Le7ZuC3u2bgt7tn4Le7Z+C3u2fgt7tn4Le7Z+C3u2fgt7tn4Le7Z+C3u2fgt7tn4Le7Z+C3u2fgt7tn4Le7Z+C3u2fgt7tn4Le7Z+C3u2fgt7tn4Le7Z+C3u2fgt7tn4Le7Z+C3u2fgt7tn4Le7Z+C3u2fgt7tn4Le7Z+C3u2fgt7tn4Le7Z+C3u2fgt7tn4Le7aOC3u2jgt7to4Le7aOC3u2jgt7td4Le7XuC3u17gt7te4Le7XuC3u17gt7tf4Le7X+C3u1/gt7tf4Le7X+C3u2Dgt7tg4Le7YOC3u2Dgt7tg4Le7YeC3u2Hgt7th4Le7YeC3u2Lgt7ti4Le7YuC3u2Lgt7ti4Le7Y+C3u2Pgt7tj4Le7Y+C3u2Pgt7tk4Le7ZOC3u2Tgt7tk4Le7ZOC3u2Xgt7tl4Le7ZeC3u2Xgt7tm4Le7ZuC3u2bgt7tm4Le7ZuC3u2bgt7tm4Le7ZuC3u2bgt7tm4Le7ZuC3u2bgt7tm4Le7Z+C3u2fgt7tn4Le7Z+C3u2fgt7tn4Le7Z+C3u2fgt7tn4Le7Z+C3u2fgt7tn4Le7Z+C3u2fgt7tn4Le7Z+C3u2fgt7tn4Le7Z+C3u2fgt7tn4Le7Z+C3u2fgt7tn4Le7Z+C3u2fgt7tn4Le7Z+C3u2fgt7tn4Le7Z+C3u2fgt7tn4Le7Z+C3u2jgt7to4Le7aOC3u2jgt7to4Le7aOC3u2jgt7to4Le7aOC3u2jgt7to4Le7aOC3u2jgt7to4Le7XeC3u13gt7td4Le7XuC3u17gt7te4Le7XuC3u17gt7tf4Le7X+C3u1/gt7tf4Le7YOC3u2Dgt7tg4Le7YOC3u2Dgt7th4Le7YeC3u2Hgt7th4Le7YeC3u2Lgt7ti4Le7YuC3u2Lgt7ti4Le7Y+C3u2Pgt7tj4Le7Y+C3u2Tgt7tk4Le7ZOC3u2Tgt7tk4Le7ZeC3u2Xgt7tl4Le7ZeC3u2Xgt7tm4Le7ZuC3u2bgt7tm4Le7ZuC3u2fgt7tn4Le7Z+C3u2fgt7tn4Le7Z+C3u2fgt7tn4Le7Z+C3u2fgt7tn4Le7Z+C3u2fgt7tn4Le7Z+C3u2fgt7tn4Le7Z+C3u2fgt7tn4Le7Z+C3u2fgt7tn4Le7Z+C3u2fgt7tn4Le7Z+C3u2fgt7tn4Le7Z+C3u2fgt7to4Le7aOC3u2jgt7to4Le7aOC3u2jgt7to4Le7aOC3u2jgt7to4Le7aOC3u2jgt7to4Le7aOC3u2jgt7to4Le7aOC3u2jgt7to4Le7aOC3u2jgt7to4Le7aOC3u13gt7td4Le7XeC3u13gt7te4Le7XuC3u17gt7te4Le7XuC3u1/gt7tf4Le7X+C3u1/gt7tf4Le7YOC3u2Dgt7tg4Le7YOC3u2Dgt7th4Le7YeC3u2Hgt7th4Le7YuC3u2Lgt7ti4Le7YuC3u2Lgt7tj4Le7Y+C3u2Pgt7tj4Le7Y+C3u2Tgt7tk4Le7ZOC3u2Tgt7tk4Le7ZeC3u2Xgt7tl4Le7ZeC3u2Xgt7tm4Le7ZuC3u2bgt7tm4Le7Z+C3u2fgt7tn4Le7Z+C3u2fgt7tn4Le7Z+C3u2fgt7tn4Le7Z+C3u2fgt7tn4Le7Z+C3u2fgt7tn4Le7Z+C3u2fgt7tn4Le7Z+C3u2fgt7tn4Le7Z+C3u2jgt7to4Le7aOC3u2jgt7to4Le7aOC3u2jgt7to4Le7aOC3u2jgt7to4Le7aOC3u2jgt7to4Le7aOC3u2jgt7to4Le7aOC3u2jgt7to4Le7aOC3u2jgt7to4Le7aOC3u2jgt7to4Le7aOC3u2jgt7to4Le7aOC3u2jgt7tc4Le7XeC3u13gt7td4Le7XeC3u13gt7te4Le7XuC3u17gt7te4Le7XuC3u1/gt7tf4Le7X+C3u1/gt7tg4Le7YOC3u2Dgt7tg4Le7YOC3u2Hgt7th4Le7YeC3u2Hgt7th4Le7YuC3u2Lgt7ti4Le7YuC3u2Lgt7tj4Le7Y+C3u2Pgt7tj4Le7Y+C3u2Tgt7tk4Le7ZOC3u2Tgt7tl4Le7ZeC3u2Xgt7tl4Le7ZeC3u2bgt7tm4Le7ZuC3u2bgt7tm4Le7Z+C3u2fgt7tn4Le7Z+C3u2fgt7tn4Le7Z+C3u2fgt7tn4Le7Z+C3u2fgt7to4Le7aOC3u2jgt7to4Le7aOC3u2jgt7to4Le7aOC3u2jgt7to4Le7aOC3u2jgt7to4Le7aOC3u2jgt7to4Le7aOC3u2jgt7to4Le7aOC3u2jgt7to4Le7aOC3u2jgt7to4Le7aOC3u2jgt7to4Le7aOC3u2jgt7to4Le7aOC3u2jgt7to4Le7aeC3u2ngt7tp4Le7aeC3u2ngt7tp4Le7XOC3u1zgt7tc4Le7XeC3u13gt7td4Le7XeC3u17gt7te4Le7XuC3u17gt7te4Le7X+C3u1/gt7tf4Le7X+C3u1/gt7tg4Le7YOC3u2Dgt7tg4Le7YOC3u2Hgt7th4Le7YeC3u2Hgt7th4Le7YuC3u2Lgt7ti4Le7YuC3u2Pgt7tj4Le7Y+C3u2Pgt7tj4Le7ZOC3u2Tgt7tk4Le7ZOC3u2Tgt7tl4Le7ZeC3u2Xgt7tl4Le7ZeC3u2bgt7tm4Le7ZuC3u2bgt7tn4Le7Z+C3u2fgt7tn4Le7Z+C3u2jgt7to4Le7aOC3u2jgt7to4Le7aOC3u2jgt7to4Le7aOC3u2jgt7to4Le7aOC3u2jgt7to4Le7aOC3u2jgt7to4Le7aOC3u2jgt7to4Le7aOC3u2jgt7to4Le7aOC3u2jgt7to4Le7aOC3u2jgt7to4Le7aOC3u2ngt7tp4Le7aeC3u2ngt7tp4Le7aeC3u2ngt7tp4Le7aeC3u2ngt7tp4Le7aeC3u2ngt7tp4Le7aeC3u1zgt7tc4Le7XOC3u1zgt7td4Le7XeC3u13gt7td4Le7XeC3u17gt7te4Le7XuC3u17gt7te4Le7X+C3u1/gt7tf4Le7X+C3u1/gt7tg4Le7YOC3u2Dgt7tg4Le7YeC3u2Hgt7th4Le7YeC3u2Hgt7ti4Le7YuC3u2Lgt7ti4Le7YuC3u2Pgt7tj4Le7Y+C3u2Pgt7tj4Le7ZOC3u2Tgt7tk4Le7ZOC3u2Xgt7tl4Le7ZeC3u2Xgt7tl4Le7ZuC3u2bgt7tm4Le7ZuC3u2bgt7tn4Le7Z+C3u2fgt7tn4Le7Z+C3u2jgt7to4Le7aOC3u2jgt7to4Le7aOC3u2jgt7to4Le7aOC3u2jgt7to4Le7aOC3u2jgt7to4Le7aOC3u2jgt7to4Le7aOC3u2jgt7to4Le7aeC3u2ngt7tp4Le7aeC3u2ngt7tp4Le7aeC3u2ngt7tp4Le7aeC3u2ngt7tp4Le7aeC3u2ngt7tp4Le7aeC3u2ngt7tp4Le7aeC3u2ngt7tp4Le7aeC3u2ngt7tb4Le7XOC3u1zgt7tc4Le7XOC3u1zgt7td4Le7XeC3u13gt7td4Le7XeC3u17gt7te4Le7XuC3u17gt7tf4Le7X+C3u1/gt7tf4Le7X+C3u2Dgt7tg4Le7YOC3u2Dgt7tg4Le7YeC3u2Hgt7th4Le7YeC3u2Hgt7ti4Le7YuC3u2Lgt7ti4Le7Y+C3u2Pgt7tj4Le7Y+C3u2Pgt7tk4Le7ZOC3u2Tgt7tk4Le7ZOC3u2Xgt7tl4Le7ZeC3u2Xgt7tl4Le7ZuC3u2bgt7tm4Le7ZuC3u2bgt7tn4Le7Z+C3u2fgt7tn4Le7aOC3u2jgt7to4Le7aOC3u2jgt7to4Le7aOC3u2jgt7to4Le7aOC3u2ngt7tp4Le7aeC3u2ngt7tp4Le7aeC3u2ngt7tp4Le7aeC3u2ngt7tp4Le7aeC3u2ngt7tp4Le7aeC3u2ngt7tp4Le7aeC3u2ngt7tp4Le7aeC3u2ngt7tp4Le7aeC3u2ngt7tp4Le7aeC3u2ngt7tp4Le7aeC3u2ngt7tp4Le7W+C3u1vgt7tb4Le7XOC3u1zgt7tc4Le7XOC3u13gt7td4Le7XeC3u13gt7td4Le7XuC3u17gt7te4Le7XuC3u17gt7tf4Le7X+C3u1/gt7tf4Le7X+C3u2Dgt7tg4Le7YOC3u2Dgt7th4Le7YeC3u2Hgt7th4Le7YeC3u2Lgt7ti4Le7YuC3u2Lgt7ti4Le7Y+C3u2Pgt7tj4Le7Y+C3u2Pgt7tk4Le7ZOC3u2Tgt7tk4Le7ZOC3u2Xgt7tl4Le7ZeC3u2Xgt7tm4Le7ZuC3u2bgt7tm4Le7ZuC3u2fgt7tn4Le7Z+C3u2fgt7tn4Le7aOC3u2jgt7to4Le7aOC3u2jgt7tp4Le7aeC3u2ngt7tp4Le7aeC3u2ngt7tp4Le7aeC3u2ngt7tp4Le7aeC3u2ngt7tp4Le7aeC3u2ngt7tp4Le7aeC3u2ngt7tp4Le7aeC3u2ngt7tp4Le7aeC3u2ngt7tp4Le7aeC3u2ngt7tp4Le7auC3u2rgt7tq4Le7auC3u2rgt7tq4Le7auC3u1vgt7tb4Le7W+C3u1vgt7tc4Le7XOC3u1zgt7tc4Le7XOC3u13gt7td4Le7XeC3u13gt7td4Le7XuC3u17gt7te4Le7XuC3u1/gt7tf4Le7X+C3u1/gt7tf4Le7YOC3u2Dgt7tg4Le7YOC3u2Dgt7th4Le7YeC3u2Hgt7th4Le7YeC3u2Lgt7ti4Le7YuC3u2Lgt7ti4Le7Y+C3u2Pgt7tj4Le7Y+C3u2Tgt7tk4Le7ZOC3u2Tgt7tk4Le7ZeC3u2Xgt7tl4Le7ZeC3u2Xgt7tm4Le7ZuC3u2bgt7tm4Le7ZuC3u2fgt7tn4Le7Z+C3u2fgt7to4Le7aOC3u2jgt7to4Le7aOC3u2ngt7tp4Le7aeC3u2ngt7tp4Le7aeC3u2ngt7tp4Le7aeC3u2ngt7tp4Le7aeC3u2ngt7tp4Le7aeC3u2ngt7tp4Le7aeC3u2rgt7tq4Le7auC3u2rgt7tq4Le7auC3u2rgt7tq4Le7auC3u2rgt7tq4Le7auC3u2rgt7tq4Le7auC3u2rgt7ta4Le7W+C3u1vgt7tb4Le7W+C3u1vgt7tc4Le7XOC3u1zgt7tc4Le7XeC3u13gt7td4Le7XeC3u13gt7te4Le7XuC3u17gt7te4Le7XuC3u1/gt7tf4Le7X+C3u1/gt7tf4Le7YOC3u2Dgt7tg4Le7YOC3u2Dgt7th4Le7YeC3u2Hgt7th4Le7YuC3u2Lgt7ti4Le7YuC3u2Lgt7tj4Le7Y+C3u2Pgt7tj4Le7Y+C3u2Tgt7tk4Le7ZOC3u2Tgt7tk4Le7ZeC3u2Xgt7tl4Le7ZeC3u2bgt7tm4Le7ZuC3u2bgt7tm4Le7Z+C3u2fgt7tn4Le7Z+C3u2fgt7to4Le7aOC3u2jgt7to4Le7aOC3u2ngt7tp4Le7aeC3u2ngt7tp4Le7aeC3u2ngt7tp4Le7auC3u2rgt7tq4Le7auC3u2rgt7tq4Le7auC3u2rgt7tq4Le7auC3u2rgt7tq4Le7auC3u2rgt7tq4Le7auC3u2rgt7tq4Le7auC3u2rgt7tq4Le7auC3u2rgt7tq4Le7WuC3u1rgt7tb4Le7W+C3u1vgt7tb4Le7W+C3u1zgt7tc4Le7XOC3u1zgt7tc4Le7XeC3u13gt7td4Le7XeC3u13gt7te4Le7XuC3u17gt7te4Le7XuC3u1/gt7tf4Le7X+C3u1/gt7tg4Le7YOC3u2Dgt7tg4Le7YOC3u2Hgt7th4Le7YeC3u2Hgt7th4Le7YuC3u2Lgt7ti4Le7YuC3u2Lgt7tj4Le7Y+C3u2Pgt7tj4Le7ZOC3u2Tgt7tk4Le7ZOC3u2Tgt7tl4Le7ZeC3u2Xgt7tl4Le7ZeC3u2bgt7tm4Le7ZuC3u2bgt7tm4Le7Z+C3u2fgt7tn4Le7Z+C3u2jgt7to4Le7aOC3u2jgt7to4Le7aeC3u2ngt7tp4Le7aeC3u2ngt7tq4Le7auC3u2rgt7tq4Le7auC3u2rgt7tq4Le7auC3u2rgt7tq4Le7auC3u2rgt7tq4Le7auC3u2rgt7tq4Le7auC3u2rgt7tq4Le7auC3u2rgt7tq4Le7auC3u2rgt7tq4Le7auC3u1rgt7ta4Le7WuC3u1rgt7tb4Le7W+C3u1vgt7tb4Le7W+C3u1zgt7tc4Le7XOC3u1zgt7tc4Le7XeC3u13gt7td4Le7XeC3u17gt7te4Le7XuC3u17gt7te4Le7X+C3u1/gt7tf4Le7X+C3u1/gt7tg4Le7YOC3u2Dgt7tg4Le7YOC3u2Hgt7th4Le7YeC3u2Hgt7ti4Le7YuC3u2Lgt7ti4Le7YuC3u2Pgt7tj4Le7Y+C3u2Pgt7tj4Le7ZOC3u2Tgt7tk4Le7ZOC3u2Tgt7tl4Le7ZeC3u2Xgt7tl4Le7ZuC3u2bgt7tm4Le7ZuC3u2bgt7tn4Le7Z+C3u2fgt7tn4Le7Z+C3u2jgt7to4Le7aOC3u2jgt7to4Le7aeC3u2ngt7tp4Le7aeC3u2ngt7tq4Le7auC3u2rgt7tq4Le7auC3u2rgt7tq4Le7auC3u2rgt7tq4Le7auC3u2rgt7tq4Le7auC3u2rgt7tq4Le7auC3u2vgt7tr4Le7a+C3u2vgt7tr4Le7a+C3u2vgt7tZ4Le7WuC3u1rgt7ta4Le7WuC3u1rgt7tb4Le7W+C3u1vgt7tb4Le7XOC3u1zgt7tc4Le7XOC3u1zgt7td4Le7XeC3u13gt7td4Le7XeC3u17gt7te4Le7XuC3u17gt7te4Le7X+C3u1/gt7tf4Le7X+C3u2Dgt7tg4Le7YOC3u2Dgt7tg4Le7YeC3u2Hgt7th4Le7YeC3u2Hgt7ti4Le7YuC3u2Lgt7ti4Le7YuC3u2Pgt7tj4Le7Y+C3u2Pgt7tk4Le7ZOC3u2Tgt7tk4Le7ZOC3u2Xgt7tl4Le7ZeC3u2Xgt7tl4Le7ZuC3u2bgt7tm4Le7ZuC3u2bgt7tn4Le7Z+C3u2fgt7tn4Le7Z+C3u2jgt7to4Le7aOC3u2jgt7tp4Le7aeC3u2ngt7tp4Le7aeC3u2rgt7tq4Le7auC3u2rgt7tq4Le7auC3u2rgt7tr4Le7a+C3u2vgt7tr4Le7a+C3u2vgt7tr4Le7a+C3u2vgt7tr4Le7a+C3u2vgt7tr4Le7a+C3u2vgt7tr4Le7WeC3u1ngt7ta4Le7WuC3u1rgt7ta4Le7WuC3u1vgt7tb4Le7W+C3u1vgt7tb4Le7XOC3u1zgt7tc4Le7XOC3u1zgt7td4Le7XeC3u13gt7td4Le7XuC3u17gt7te4Le7XuC3u17gt7tf4Le7X+C3u1/gt7tf4Le7X+C3u2Dgt7tg4Le7YOC3u2Dgt7tg4Le7YeC3u2Hgt7th4Le7YeC3u2Lgt7ti4Le7YuC3u2Lgt7ti4Le7Y+C3u2Pgt7tj4Le7Y+C3u2Pgt7tk4Le7ZOC3u2Tgt7tk4Le7ZOC3u2Xgt7tl4Le7ZeC3u2Xgt7tl4Le7ZuC3u2bgt7tm4Le7ZuC3u2fgt7tn4Le7Z+C3u2fgt7tn4Le7aOC3u2jgt7to4Le7aOC3u2jgt7tp4Le7aeC3u2ngt7tp4Le7aeC3u2rgt7tq4Le7auC3u2rgt7tr4Le7a+C3u2vgt7tr4Le7a+C3u2vgt7tr4Le7a+C3u2vgt7tr4Le7a+C3u2vgt7tr4Le7a+C3u2vgt7tr4Le7a+C3u1ngt7tZ4Le7WeC3u1ngt7ta4Le7WuC3u1rgt7ta4Le7WuC3u1vgt7tb4Le7W+C3u1vgt7tc4Le7XOC3u1zgt7tc4Le7XOC3u13gt7td4Le7XeC3u13gt7td4Le7XuC3u17gt7te4Le7XuC3u17gt7tf4Le7X+C3u1/gt7tf4Le7YOC3u2Dgt7tg4Le7YOC3u2Dgt7th4Le7YeC3u2Hgt7th4Le7YeC3u2Lgt7ti4Le7YuC3u2Lgt7ti4Le7Y+C3u2Pgt7tj4Le7Y+C3u2Pgt7tk4Le7ZOC3u2Tgt7tk4Le7ZeC3u2Xgt7tl4Le7ZeC3u2Xgt7tm4Le7ZuC3u2bgt7tm4Le7ZuC3u2fgt7tn4Le7Z+C3u2fgt7tn4Le7aOC3u2jgt7to4Le7aOC3u2ngt7tp4Le7aeC3u2ngt7tp4Le7auC3u2rgt7tq4Le7auC3u2rgt7tr4Le7a+C3u2vgt7tr4Le7a+C3u2vgt7tr4Le7a+C3u2vgt7tr4Le7a+C3u2vgt7tr4Le7a+C3u2vgt7tY4Le7WeC3u1ngt7tZ4Le7WeC3u1rgt7ta4Le7WuC3u1rgt7ta4Le7W+C3u1vgt7tb4Le7W+C3u1vgt7tc4Le7XOC3u1zgt7tc4Le7XOC3u13gt7td4Le7XeC3u13gt7te4Le7XuC3u17gt7te4Le7XuC3u1/gt7tf4Le7X+C3u1/gt7tf4Le7YOC3u2Dgt7tg4Le7YOC3u2Dgt7th4Le7YeC3u2Hgt7th4Le7YeC3u2Lgt7ti4Le7YuC3u2Lgt7tj4Le7Y+C3u2Pgt7tj4Le7Y+C3u2Tgt7tk4Le7ZOC3u2Tgt7tk4Le7ZeC3u2Xgt7tl4Le7ZeC3u2Xgt7tm4Le7ZuC3u2bgt7tm4Le7Z+C3u2fgt7tn4Le7Z+C3u2fgt7to4Le7aOC3u2jgt7to4Le7aOC3u2ngt7tp4Le7aeC3u2ngt7tp4Le7auC3u2rgt7tq4Le7auC3u2rgt7tr4Le7a+C3u2vgt7tr4Le7a+C3u2zgt7ts4Le7bOC3u2zgt7ts4Le7bOC3u2zgt7ts4Le7WOC3u1jgt7tZ4Le7WeC3u1ngt7tZ4Le7WeC3u1rgt7ta4Le7WuC3u1rgt7ta4Le7W+C3u1vgt7tb4Le7W+C3u1zgt7tc4Le7XOC3u1zgt7tc4Le7XeC3u13gt7td4Le7XeC3u13gt7te4Le7XuC3u17gt7te4Le7XuC3u1/gt7tf4Le7X+C3u1/gt7tf4Le7YOC3u2Dgt7tg4Le7YOC3u2Hgt7th4Le7YeC3u2Hgt7th4Le7YuC3u2Lgt7ti4Le7YuC3u2Lgt7tj4Le7Y+C3u2Pgt7tj4Le7Y+C3u2Tgt7tk4Le7ZOC3u2Tgt7tl4Le7ZeC3u2Xgt7tl4Le7ZeC3u2bgt7tm4Le7ZuC3u2bgt7tm4Le7Z+C3u2fgt7tn4Le7Z+C3u2fgt7to4Le7aOC3u2jgt7to4Le7aOC3u2ngt7tp4Le7aeC3u2ngt7tq4Le7auC3u2rgt7tq4Le7auC3u2vgt7tr4Le7a+C3u2vgt7tr4Le7bOC3u2zgt7ts4Le7bOC3u2zgt7ts4Le7bOC3u1jgt7tY4Le7WOC3u1jgt7tZ4Le7WeC3u1ngt7tZ4Le7WuC3u1rgt7ta4Le7WuC3u1rgt7tb4Le7W+C3u1vgt7tb4Le7W+C3u1zgt7tc4Le7XOC3u1zgt7tc4Le7XeC3u13gt7td4Le7XeC3u13gt7te4Le7XuC3u17gt7te4Le7X+C3u1/gt7tf4Le7X+C3u1/gt7tg4Le7YOC3u2Dgt7tg4Le7YOC3u2Hgt7th4Le7YeC3u2Hgt7th4Le7YuC3u2Lgt7ti4Le7YuC3u2Pgt7tj4Le7Y+C3u2Pgt7tj4Le7ZOC3u2Tgt7tk4Le7ZOC3u2Tgt7tl4Le7ZeC3u2Xgt7tl4Le7ZeC3u2bgt7tm4Le7ZuC3u2bgt7tm4Le7Z+C3u2fgt7tn4Le7Z+C3u2jgt7to4Le7aOC3u2jgt7to4Le7aeC3u2ngt7tp4Le7aeC3u2ngt7tq4Le7auC3u2rgt7tq4Le7auC3u2vgt7tr4Le7a+C3u2vgt7ts4Le7bOC3u2zgt7ts4Le7bOC3u2zgt7tY4Le7WOC3u1jgt7tY4Le7WOC3u1ngt7tZ4Le7WeC3u1ngt7tZ4Le7WuC3u1rgt7ta4Le7WuC3u1rgt7tb4Le7W+C3u1vgt7tb4Le7W+C3u1zgt7tc4Le7XOC3u1zgt7td4Le7XeC3u13gt7td4Le7XeC3u17gt7te4Le7XuC3u17gt7te4Le7X+C3u1/gt7tf4Le7X+C3u1/gt7tg4Le7YOC3u2Dgt7tg4Le7YeC3u2Hgt7th4Le7YeC3u2Hgt7ti4Le7YuC3u2Lgt7ti4Le7YuC3u2Pgt7tj4Le7Y+C3u2Pgt7tj4Le7ZOC3u2Tgt7tk4Le7ZOC3u2Xgt7tl4Le7ZeC3u2Xgt7tl4Le7ZuC3u2bgt7tm4Le7ZuC3u2bgt7tn4Le7Z+C3u2fgt7tn4Le7Z+C3u2jgt7to4Le7aOC3u2jgt7to4Le7aeC3u2ngt7tp4Le7aeC3u2rgt7tq4Le7auC3u2rgt7tq4Le7a+C3u2vgt7tr4Le7a+C3u2vgt7ts4Le7bOC3u2zgt7ts4Le7V+C3u1fgt7tY4Le7WOC3u1jgt7tY4Le7WOC3u1ngt7tZ4Le7WeC3u1ngt7tZ4Le7WuC3u1rgt7ta4Le7WuC3u1vgt7tb4Le7W+C3u1vgt7tb4Le7XOC3u1zgt7tc4Le7XOC3u1zgt7td4Le7XeC3u13gt7td4Le7XeC3u17gt7te4Le7XuC3u17gt7tf4Le7X+C3u1/gt7tf4Le7X+C3u2Dgt7tg4Le7YOC3u2Dgt7tg4Le7YeC3u2Hgt7th4Le7YeC3u2Hgt7ti4Le7YuC3u2Lgt7ti4Le7Y+C3u2Pgt7tj4Le7Y+C3u2Pgt7tk4Le7ZOC3u2Tgt7tk4Le7ZOC3u2Xgt7tl4Le7ZeC3u2Xgt7tl4Le7ZuC3u2bgt7tm4Le7ZuC3u2bgt7tn4Le7Z+C3u2fgt7tn4Le7aOC3u2jgt7to4Le7aOC3u2jgt7tp4Le7aeC3u2ngt7tp4Le7aeC3u2rgt7tq4Le7auC3u2rgt7tq4Le7a+C3u2vgt7tr4Le7a+C3u2vgt7tr4Le7bOC3u1fgt7tX4Le7V+C3u1fgt7tY4Le7WOC3u1jgt7tY4Le7WeC3u1ngt7tZ4Le7WeC3u1ngt7ta4Le7WuC3u1rgt7ta4Le7WuC3u1vgt7tb4Le7W+C3u1vgt7tb4Le7XOC3u1zgt7tc4Le7XOC3u13gt7td4Le7XeC3u13gt7td4Le7XuC3u17gt7te4Le7XuC3u17gt7tf4Le7X+C3u1/gt7tf4Le7X+C3u2Dgt7tg4Le7YOC3u2Dgt7th4Le7YeC3u2Hgt7th4Le7YeC3u2Lgt7ti4Le7YuC3u2Lgt7ti4Le7Y+C3u2Pgt7tj4Le7Y+C3u2Pgt7tk4Le7ZOC3u2Tgt7tk4Le7ZOC3u2Xgt7tl4Le7ZeC3u2Xgt7tm4Le7ZuC3u2bgt7tm4Le7ZuC3u2fgt7tn4Le7Z+C3u2fgt7tn4Le7aOC3u2jgt7to4Le7aOC3u2jgt7tp4Le7aeC3u2ngt7tp4Le7auC3u2rgt7tq4Le7auC3u2rgt7tr4Le7a+C3u2vgt7tr4Le7a+C3u2vgt7tX4Le7V+C3u1fgt7tX4Le7V+C3u1jgt7tY4Le7WOC3u1jgt7tY4Le7WeC3u1ngt7tZ4Le7WeC3u1ngt7ta4Le7WuC3u1rgt7ta4Le7W+C3u1vgt7tb4Le7W+C3u1vgt7tc4Le7XOC3u1zgt7tc4Le7XOC3u13gt7td4Le7XeC3u13gt7td4Le7XuC3u17gt7te4Le7XuC3u1/gt7tf4Le7X+C3u1/gt7tf4Le7YOC3u2Dgt7tg4Le7YOC3u2Dgt7th4Le7YeC3u2Hgt7th4Le7YeC3u2Lgt7ti4Le7YuC3u2Lgt7ti4Le7Y+C3u2Pgt7tj4Le7Y+C3u2Tgt7tk4Le7ZOC3u2Tgt7tk4Le7ZeC3u2Xgt7tl4Le7ZeC3u2Xgt7tm4Le7ZuC3u2bgt7tm4Le7ZuC3u2fgt7tn4Le7Z+C3u2fgt7to4Le7aOC3u2jgt7to4Le7aOC3u2ngt7tp4Le7aeC3u2ngt7tp4Le7auC3u2rgt7tq4Le7auC3u2rgt7tr4Le7a+C3u2vgt7tr4Le7VuC3u1bgt7tX4Le7V+C3u1fgt7tX4Le7V+C3u1jgt7tY4Le7WOC3u1jgt7tZ4Le7WeC3u1ngt7tZ4Le7WeC3u1rgt7ta4Le7WuC3u1rgt7ta4Le7W+C3u1vgt7tb4Le7W+C3u1vgt7tc4Le7XOC3u1zgt7tc4Le7XOC3u13gt7td4Le7XeC3u13gt7te4Le7XuC3u17gt7te4Le7XuC3u1/gt7tf4Le7X+C3u1/gt7tf4Le7YOC3u2Dgt7tg4Le7YOC3u2Dgt7th4Le7YeC3u2Hgt7th4Le7YuC3u2Lgt7ti4Le7YuC3u2Lgt7tj4Le7Y+C3u2Pgt7tj4Le7Y+C3u2Tgt7tk4Le7ZOC3u2Tgt7tk4Le7ZeC3u2Xgt7tl4Le7ZeC3u2bgt7tm4Le7ZuC3u2bgt7tm4Le7Z+C3u2fgt7tn4Le7Z+C3u2fgt7to4Le7aOC3u2jgt7to4Le7aOC3u2ngt7tp4Le7aeC3u2ngt7tp4Le7auC3u2rgt7tq4Le7auC3u2rgt7tq4Le7auC3u1bgt7tW4Le7VuC3u1fgt7tX4Le7V+C3u1fgt7tX4Le7WOC3u1jgt7tY4Le7WOC3u1jgt7tZ4Le7WeC3u1ngt7tZ4Le7WeC3u1rgt7ta4Le7WuC3u1rgt7tb4Le7W+C3u1vgt7tb4Le7W+C3u1zgt7tc4Le7XOC3u1zgt7tc4Le7XeC3u13gt7td4Le7XeC3u13gt7te4Le7XuC3u17gt7te4Le7XuC3u1/gt7tf4Le7X+C3u1/gt7tg4Le7YOC3u2Dgt7tg4Le7YOC3u2Hgt7th4Le7YeC3u2Hgt7th4Le7YuC3u2Lgt7ti4Le7YuC3u2Lgt7tj4Le7Y+C3u2Pgt7tj4Le7ZOC3u2Tgt7tk4Le7ZOC3u2Tgt7tl4Le7ZeC3u2Xgt7tl4Le7ZeC3u2bgt7tm4Le7ZuC3u2bgt7tm4Le7Z+C3u2fgt7tn4Le7Z+C3u2fgt7to4Le7aOC3u2jgt7to4Le7aeC3u2ngt7tp4Le7aeC3u2ngt7tq4Le7auC3u2rgt7tq4Le7auC3u2rgt7tW4Le7VuC3u1bgt7tW4Le7VuC3u1fgt7tX4Le7V+C3u1fgt7tX4Le7WOC3u1jgt7tY4Le7WOC3u1ngt7tZ4Le7WeC3u1ngt7tZ4Le7WuC3u1rgt7ta4Le7WuC3u1rgt7tb4Le7W+C3u1vgt7tb4Le7W+C3u1zgt7tc4Le7XOC3u1zgt7tc4Le7XeC3u13gt7td4Le7XeC3u17gt7te4Le7XuC3u17gt7te4Le7X+C3u1/gt7tf4Le7X+C3u1/gt7tg4Le7YOC3u2Dgt7tg4Le7YOC3u2Hgt7th4Le7YeC3u2Hgt7ti4Le7YuC3u2Lgt7ti4Le7YuC3u2Pgt7tj4Le7Y+C3u2Pgt7tj4Le7ZOC3u2Tgt7tk4Le7ZOC3u2Tgt7tl4Le7ZeC3u2Xgt7tl4Le7ZeC3u2bgt7tm4Le7ZuC3u2bgt7tn4Le7Z+C3u2fgt7tn4Le7Z+C3u2jgt7to4Le7aOC3u2jgt7to4Le7aeC3u2ngt7tp4Le7aeC3u2ngt7tp4Le7aeC3u2ngt7tq4Le7VeC3u1Xgt7tW4Le7VuC3u1bgt7tW4Le7V+C3u1fgt7tX4Le7V+C3u1fgt7tY4Le7WOC3u1jgt7tY4Le7WOC3u1ngt7tZ4Le7WeC3u1ngt7tZ4Le7WuC3u1rgt7ta4Le7WuC3u1rgt7tb4Le7W+C3u1vgt7tb4Le7XOC3u1zgt7tc4Le7XOC3u1zgt7td4Le7XeC3u13gt7td4Le7XeC3u17gt7te4Le7XuC3u17gt7te4Le7X+C3u1/gt7tf4Le7X+C3u2Dgt7tg4Le7YOC3u2Dgt7tg4Le7YeC3u2Hgt7th4Le7YeC3u2Hgt7ti4Le7YuC3u2Lgt7ti4Le7YuC3u2Pgt7tj4Le7Y+C3u2Pgt7tj4Le7ZOC3u2Tgt7tk4Le7ZOC3u2Xgt7tl4Le7ZeC3u2Xgt7tl4Le7ZuC3u2bgt7tm4Le7ZuC3u2bgt7tn4Le7Z+C3u2fgt7tn4Le7Z+C3u2jgt7to4Le7aOC3u2jgt7tp4Le7aeC3u2ngt7tp4Le7aeC3u2ngt7tp4Le7aeC3u1Xgt7tV4Le7VeC3u1bgt7tW4Le7VuC3u1bgt7tW4Le7V+C3u1fgt7tX4Le7V+C3u1fgt7tY4Le7WOC3u1jgt7tY4Le7WOC3u1ngt7tZ4Le7WeC3u1ngt7ta4Le7WuC3u1rgt7ta4Le7WuC3u1vgt7tb4Le7W+C3u1vgt7tb4Le7XOC3u1zgt7tc4Le7XOC3u1zgt7td4Le7XeC3u13gt7td4Le7XuC3u17gt7te4Le7XuC3u17gt7tf4Le7X+C3u1/gt7tf4Le7X+C3u2Dgt7tg4Le7YOC3u2Dgt7tg4Le7YeC3u2Hgt7th4Le7YeC3u2Hgt7ti4Le7YuC3u2Lgt7ti4Le7Y+C3u2Pgt7tj4Le7Y+C3u2Pgt7tk4Le7ZOC3u2Tgt7tk4Le7ZOC3u2Xgt7tl4Le7ZeC3u2Xgt7tl4Le7ZuC3u2bgt7tm4Le7ZuC3u2fgt7tn4Le7Z+C3u2fgt7tn4Le7aOC3u2jgt7to4Le7aOC3u2jgt7tp4Le7aeC3u2ngt7tp4Le7aeC3u2ngt7tV4Le7VeC3u1Xgt7tV4Le7VeC3u1bgt7tW4Le7VuC3u1bgt7tW4Le7V+C3u1fgt7tX4Le7V+C3u1jgt7tY4Le7WOC3u1jgt7tY4Le7WeC3u1ngt7tZ4Le7WeC3u1ngt7ta4Le7WuC3u1rgt7ta4Le7WuC3u1vgt7tb4Le7W+C3u1vgt7tc4Le7XOC3u1zgt7tc4Le7XOC3u13gt7td4Le7XeC3u13gt7td4Le7XuC3u17gt7te4Le7XuC3u17gt7tf4Le7X+C3u1/gt7tf4Le7X+C3u2Dgt7tg4Le7YOC3u2Dgt7th4Le7YeC3u2Hgt7th4Le7YeC3u2Lgt7ti4Le7YuC3u2Lgt7ti4Le7Y+C3u2Pgt7tj4Le7Y+C3u2Pgt7tk4Le7ZOC3u2Tgt7tk4Le7ZeC3u2Xgt7tl4Le7ZeC3u2Xgt7tm4Le7ZuC3u2bgt7tm4Le7ZuC3u2fgt7tn4Le7Z+C3u2fgt7tn4Le7aOC3u2jgt7to4Le7aOC3u2jgt7to4Le7aOC3u2jgt7to4Le7VOC3u1Tgt7tV4Le7VeC3u1Xgt7tV4Le7VuC3u1bgt7tW4Le7VuC3u1bgt7tX4Le7V+C3u1fgt7tX4Le7V+C3u1jgt7tY4Le7WOC3u1jgt7tY4Le7WeC3u1ngt7tZ4Le7WeC3u1rgt7ta4Le7WuC3u1rgt7ta4Le7W+C3u1vgt7tb4Le7W+C3u1vgt7tc4Le7XOC3u1zgt7tc4Le7XOC3u13gt7td4Le7XeC3u13gt7te4Le7XuC3u17gt7te4Le7XuC3u1/gt7tf4Le7X+C3u1/gt7tf4Le7YOC3u2Dgt7tg4Le7YOC3u2Dgt7th4Le7YeC3u2Hgt7th4Le7YeC3u2Lgt7ti4Le7YuC3u2Lgt7tj4Le7Y+C3u2Pgt7tj4Le7Y+C3u2Tgt7tk4Le7ZOC3u2Tgt7tk4Le7ZeC3u2Xgt7tl4Le7ZeC3u2Xgt7tm4Le7ZuC3u2bgt7tm4Le7Z+C3u2fgt7tn4Le7Z+C3u2fgt7to4Le7aOC3u2jgt7to4Le7aOC3u2jgt7to4Le7aOC3u1Tgt7tU4Le7VOC3u1Xgt7tV4Le7VeC3u1Xgt7tV4Le7VuC3u1bgt7tW4Le7VuC3u1bgt7tX4Le7V+C3u1fgt7tX4Le7WOC3u1jgt7tY4Le7WOC3u1jgt7tZ4Le7WeC3u1ngt7tZ4Le7WeC3u1rgt7ta4Le7WuC3u1rgt7ta4Le7W+C3u1vgt7tb4Le7W+C3u1zgt7tc4Le7XOC3u1zgt7tc4Le7XeC3u13gt7td4Le7XeC3u13gt7te4Le7XuC3u17gt7te4Le7XuC3u1/gt7tf4Le7X+C3u1/gt7tf4Le7YOC3u2Dgt7tg4Le7YOC3u2Hgt7th4Le7YeC3u2Hgt7th4Le7YuC3u2Lgt7ti4Le7YuC3u2Lgt7tj4Le7Y+C3u2Pgt7tj4Le7Y+C3u2Tgt7tk4Le7ZOC3u2Tgt7tl4Le7ZeC3u2Xgt7tl4Le7ZeC3u2bgt7tm4Le7ZuC3u2bgt7tm4Le7Z+C3u2fgt7tn4Le7Z+C3u2fgt7tn4Le7Z+C3u2fgt7tn4Le7Z+C3u2jgt7tU4Le7VOC3u1Tgt7tU4Le7VOC3u1Xgt7tV4Le7VeC3u1Xgt7tW4Le7VuC3u1bgt7tW4Le7VuC3u1fgt7tX4Le7V+C3u1fgt7tX4Le7WOC3u1jgt7tY4Le7WOC3u1jgt7tZ4Le7WeC3u1ngt7tZ4Le7WeC3u1rgt7ta4Le7WuC3u1rgt7tb4Le7W+C3u1vgt7tb4Le7W+C3u1zgt7tc4Le7XOC3u1zgt7tc4Le7XeC3u13gt7td4Le7XeC3u13gt7te4Le7XuC3u17gt7te4Le7X+C3u1/gt7tf4Le7X+C3u1/gt7tg4Le7YOC3u2Dgt7tg4Le7YOC3u2Hgt7th4Le7YeC3u2Hgt7th4Le7YuC3u2Lgt7ti4Le7YuC3u2Pgt7tj4Le7Y+C3u2Pgt7tj4Le7ZOC3u2Tgt7tk4Le7ZOC3u2Tgt7tl4Le7ZeC3u2Xgt7tl4Le7ZeC3u2bgt7tm4Le7ZuC3u2bgt7tm4Le7Z+C3u2fgt7tn4Le7Z+C3u2fgt7tn4Le7Z+C3u2fgt7tn4Le7U+C3u1Tgt7tU4Le7VOC3u1Tgt7tU4Le7VeC3u1Xgt7tV4Le7VeC3u1Xgt7tW4Le7VuC3u1bgt7tW4Le7VuC3u1fgt7tX4Le7V+C3u1fgt7tX4Le7WOC3u1jgt7tY4Le7WOC3u1ngt7tZ4Le7WeC3u1ngt7tZ4Le7WuC3u1rgt7ta4Le7WuC3u1rgt7tb4Le7W+C3u1vgt7tb4Le7W+C3u1zgt7tc4Le7XOC3u1zgt7td4Le7XeC3u13gt7td4Le7XeC3u17gt7te4Le7XuC3u17gt7te4Le7X+C3u1/gt7tf4Le7X+C3u1/gt7tg4Le7YOC3u2Dgt7tg4Le7YeC3u2Hgt7th4Le7YeC3u2Hgt7ti4Le7YuC3u2Lgt7ti4Le7YuC3u2Pgt7tj4Le7Y+C3u2Pgt7tj4Le7ZOC3u2Tgt7tk4Le7ZOC3u2Tgt7tl4Le7ZeC3u2Xgt7tl4Le7ZuC3u2bgt7tm4Le7ZuC3u2bgt7tn4Le7Z+C3u2fgt7tn4Le7Z+C3u2fgt7tn4Le7Z+C3u1Pgt7tT4Le7U+C3u1Tgt7tU4Le7VOC3u1Tgt7tU4Le7VeC3u1Xgt7tV4Le7VeC3u1bgt7tW4Le7VuC3u1bgt7tW4Le7V+C3u1fgt7tX4Le7V+C3u1fgt7tY4Le7WOC3u1jgt7tY4Le7WOC3u1ngt7tZ4Le7WeC3u1ngt7tZ4Le7WuC3u1rgt7ta4Le7WuC3u1vgt7tb4Le7W+C3u1vgt7tb4Le7XOC3u1zgt7tc4Le7XOC3u1zgt7td4Le7XeC3u13gt7td4Le7XeC3u17gt7te4Le7XuC3u17gt7tf4Le7X+C3u1/gt7tf4Le7X+C3u2Dgt7tg4Le7YOC3u2Dgt7tg4Le7YeC3u2Hgt7th4Le7YeC3u2Hgt7ti4Le7YuC3u2Lgt7ti4Le7YuC3u2Pgt7tj4Le7Y+C3u2Pgt7tk4Le7ZOC3u2Tgt7tk4Le7ZOC3u2Xgt7tl4Le7ZeC3u2Xgt7tl4Le7ZuC3u2bgt7tm4Le7ZuC3u2bgt7tm4Le7ZuC3u2bgt7tm4Le7ZuC3u2bgt7tS4Le7U+C3u1Pgt7tT4Le7VOC3u1Tgt7tU4Le7VOC3u1Tgt7tV4Le7VeC3u1Xgt7tV4Le7VeC3u1bgt7tW4Le7VuC3u1bgt7tW4Le7V+C3u1fgt7tX4Le7V+C3u1fgt7tY4Le7WOC3u1jgt7tY4Le7WeC3u1ngt7tZ4Le7WeC3u1ngt7ta4Le7WuC3u1rgt7ta4Le7WuC3u1vgt7tb4Le7W+C3u1vgt7tb4Le7XOC3u1zgt7tc4Le7XOC3u13gt7td4Le7XeC3u13gt7td4Le7XuC3u17gt7te4Le7XuC3u17gt7tf4Le7X+C3u1/gt7tf4Le7X+C3u2Dgt7tg4Le7YOC3u2Dgt7tg4Le7YeC3u2Hgt7th4Le7YeC3u2Lgt7ti4Le7YuC3u2Lgt7ti4Le7Y+C3u2Pgt7tj4Le7Y+C3u2Pgt7tk4Le7ZOC3u2Tgt7tk4Le7ZOC3u2Xgt7tl4Le7ZeC3u2Xgt7tm4Le7ZuC3u2bgt7tm4Le7ZuC3u2bgt7tm4Le7ZuC3u2bgt7tm4Le7UuC3u1Lgt7tS4Le7U+C3u1Pgt7tT4Le7VOC3u1Tgt7tU4Le7VOC3u1Tgt7tV4Le7VeC3u1Xgt7tV4Le7VeC3u1bgt7tW4Le7VuC3u1bgt7tX4Le7V+C3u1fgt7tX4Le7V+C3u1jgt7tY4Le7WOC3u1jgt7tY4Le7WeC3u1ngt7tZ4Le7WeC3u1ngt7ta4Le7WuC3u1rgt7ta4Le7W+C3u1vgt7tb4Le7W+C3u1vgt7tc4Le7XOC3u1zgt7tc4Le7XOC3u13gt7td4Le7XeC3u13gt7td4Le7XuC3u17gt7te4Le7XuC3u17gt7tf4Le7X+C3u1/gt7tf4Le7YOC3u2Dgt7tg4Le7YOC3u2Dgt7th4Le7YeC3u2Hgt7th4Le7YeC3u2Lgt7ti4Le7YuC3u2Lgt7ti4Le7Y+C3u2Pgt7tj4Le7Y+C3u2Tgt7tk4Le7ZOC3u2Tgt7tk4Le7ZeC3u2Xgt7tl4Le7ZeC3u2Xgt7tl4Le7ZeC3u2Xgt7tl4Le7ZeC3u2Xgt7tm4Le7ZuC3u1Hgt7tS4Le7UuC3u1Lgt7tT4Le7U+C3u1Pgt7tT4Le7VOC3u1Tgt7tU4Le7VOC3u1Xgt7tV4Le7VeC3u1Xgt7tV4Le7VuC3u1bgt7tW4Le7VuC3u1bgt7tX4Le7V+C3u1fgt7tX4Le7V+C3u1jgt7tY4Le7WOC3u1jgt7tZ4Le7WeC3u1ngt7tZ4Le7WeC3u1rgt7ta4Le7WuC3u1rgt7ta4Le7W+C3u1vgt7tb4Le7W+C3u1vgt7tc4Le7XOC3u1zgt7tc4Le7XOC3u13gt7td4Le7XeC3u13gt7te4Le7XuC3u17gt7te4Le7XuC3u1/gt7tf4Le7X+C3u1/gt7tf4Le7YOC3u2Dgt7tg4Le7YOC3u2Dgt7th4Le7YeC3u2Hgt7th4Le7YuC3u2Lgt7ti4Le7YuC3u2Lgt7tj4Le7Y+C3u2Pgt7tj4Le7Y+C3u2Tgt7tk4Le7ZOC3u2Tgt7tk4Le7ZeC3u2Xgt7tl4Le7ZeC3u2Xgt7tl4Le7ZeC3u2Xgt7tl4Le7ZeC3u2Xgt7tR4Le7UeC3u1Hgt7tS4Le7UuC3u1Pgt7tT4Le7U+C3u1Pgt7tU4Le7VOC3u1Tgt7tU4Le7VOC3u1Xgt7tV4Le7VeC3u1Xgt7tV4Le7VuC3u1bgt7tW4Le7VuC3u1fgt7tX4Le7V+C3u1fgt7tX4Le7WOC3u1jgt7tY4Le7WOC3u1jgt7tZ4Le7WeC3u1ngt7tZ4Le7WeC3u1rgt7ta4Le7WuC3u1rgt7ta4Le7W+C3u1vgt7tb4Le7W+C3u1zgt7tc4Le7XOC3u1zgt7tc4Le7XeC3u13gt7td4Le7XeC3u13gt7te4Le7XuC3u17gt7te4Le7XuC3u1/gt7tf4Le7X+C3u1/gt7tg4Le7YOC3u2Dgt7tg4Le7YOC3u2Hgt7th4Le7YeC3u2Hgt7th4Le7YuC3u2Lgt7ti4Le7YuC3u2Lgt7tj4Le7Y+C3u2Pgt7tj4Le7ZOC3u2Tgt7tk4Le7ZOC3u2Tgt7tl4Le7ZeC3u2Xgt7tl4Le7ZeC3u2Xgt7tl4Le7ZeC3u2Xgt7tl4Le7UOC3u1Hgt7tR4Le7UeC3u1Lgt7tS4Le7UuC3u1Pgt7tT4Le7U+C3u1Pgt7tU4Le7VOC3u1Tgt7tU4Le7VeC3u1Xgt7tV4Le7VeC3u1Xgt7tW4Le7VuC3u1bgt7tW4Le7VuC3u1fgt7tX4Le7V+C3u1fgt7tX4Le7WOC3u1jgt7tY4Le7WOC3u1jgt7tZ4Le7WeC3u1ngt7tZ4Le7WuC3u1rgt7ta4Le7WuC3u1rgt7tb4Le7W+C3u1vgt7tb4Le7W+C3u1zgt7tc4Le7XOC3u1zgt7tc4Le7XeC3u13gt7td4Le7XeC3u17gt7te4Le7XuC3u17gt7te4Le7X+C3u1/gt7tf4Le7X+C3u1/gt7tg4Le7YOC3u2Dgt7tg4Le7YOC3u2Hgt7th4Le7YeC3u2Hgt7ti4Le7YuC3u2Lgt7ti4Le7YuC3u2Pgt7tj4Le7Y+C3u2Pgt7tj4Le7ZOC3u2Tgt7tk4Le7ZOC3u2Tgt7tk4Le7ZOC3u2Tgt7tk4Le7ZOC3u2Tgt7tk4Le7ZOC3u1Dgt7tQ4Le7UOC3u1Hgt7tR4Le7UuC3u1Lgt7tS4Le7U+C3u1Pgt7tT4Le7U+C3u1Tgt7tU4Le7VOC3u1Tgt7tU4Le7VeC3u1Xgt7tV4Le7VeC3u1Xgt7tW4Le7VuC3u1bgt7tW4Le7VuC3u1fgt7tX4Le7V+C3u1fgt7tY4Le7WOC3u1jgt7tY4Le7WOC3u1ngt7tZ4Le7WeC3u1ngt7tZ4Le7WuC3u1rgt7ta4Le7WuC3u1rgt7tb4Le7W+C3u1vgt7tb4Le7XOC3u1zgt7tc4Le7XOC3u1zgt7td4Le7XeC3u13gt7td4Le7XeC3u17gt7te4Le7XuC3u17gt7te4Le7X+C3u1/gt7tf4Le7X+C3u2Dgt7tg4Le7YOC3u2Dgt7tg4Le7YeC3u2Hgt7th4Le7YeC3u2Hgt7ti4Le7YuC3u2Lgt7ti4Le7YuC3u2Pgt7tj4Le7Y+C3u2Pgt7tj4Le7ZOC3u2Tgt7tk4Le7ZOC3u2Tgt7tk4Le7ZOC3u2Tgt7tk4Le7ZOC3u2Tgt7tP4Le7UOC3u1Dgt7tQ4Le7UeC3u1Hgt7tR4Le7UuC3u1Lgt7tT4Le7U+C3u1Pgt7tT4Le7U+C3u1Tgt7tU4Le7VOC3u1Tgt7tU4Le7VeC3u1Xgt7tV4Le7VeC3u1bgt7tW4Le7VuC3u1bgt7tW4Le7V+C3u1fgt7tX4Le7V+C3u1fgt7tY4Le7WOC3u1jgt7tY4Le7WOC3u1ngt7tZ4Le7WeC3u1ngt7ta4Le7WuC3u1rgt7ta4Le7WuC3u1vgt7tb4Le7W+C3u1vgt7tb4Le7XOC3u1zgt7tc4Le7XOC3u1zgt7td4Le7XeC3u13gt7td4Le7XuC3u17gt7te4Le7XuC3u17gt7tf4Le7X+C3u1/gt7tf4Le7X+C3u2Dgt7tg4Le7YOC3u2Dgt7tg4Le7YeC3u2Hgt7th4Le7YeC3u2Hgt7ti4Le7YuC3u2Lgt7ti4Le7Y+C3u2Pgt7tj4Le7Y+C3u2Pgt7tj4Le7Y+C3u2Pgt7tj4Le7Y+C3u2Pgt7tj4Le7Y+C3u2Tgt7tk4Le7T+C3u0/gt7tP4Le7UOC3u1Dgt7tR4Le7UeC3u1Hgt7tS4Le7UuC3u1Lgt7tT4Le7U+C3u1Pgt7tT4Le7VOC3u1Tgt7tU4Le7VOC3u1Tgt7tV4Le7VeC3u1Xgt7tV4Le7VeC3u1bgt7tW4Le7VuC3u1bgt7tW4Le7V+C3u1fgt7tX4Le7V+C3u1jgt7tY4Le7WOC3u1jgt7tY4Le7WeC3u1ngt7tZ4Le7WeC3u1ngt7ta4Le7WuC3u1rgt7ta4Le7WuC3u1vgt7tb4Le7W+C3u1vgt7tc4Le7XOC3u1zgt7tc4Le7XOC3u13gt7td4Le7XeC3u13gt7td4Le7XuC3u17gt7te4Le7XuC3u17gt7tf4Le7X+C3u1/gt7tf4Le7X+C3u2Dgt7tg4Le7YOC3u2Dgt7th4Le7YeC3u2Hgt7th4Le7YeC3u2Lgt7ti4Le7YuC3u2Lgt7ti4Le7Y+C3u2Pgt7tj4Le7Y+C3u2Pgt7tj4Le7Y+C3u2Pgt7tj4Le7Y+C3u2Pgt7tj4Le7Y+C3uw==",
          "dtype": "f4",
          "shape": "100, 100"
         }
        }
       ],
       "layout": {
        "template": {
         "data": {
          "bar": [
           {
            "error_x": {
             "color": "#2a3f5f"
            },
            "error_y": {
             "color": "#2a3f5f"
            },
            "marker": {
             "line": {
              "color": "#E5ECF6",
              "width": 0.5
             },
             "pattern": {
              "fillmode": "overlay",
              "size": 10,
              "solidity": 0.2
             }
            },
            "type": "bar"
           }
          ],
          "barpolar": [
           {
            "marker": {
             "line": {
              "color": "#E5ECF6",
              "width": 0.5
             },
             "pattern": {
              "fillmode": "overlay",
              "size": 10,
              "solidity": 0.2
             }
            },
            "type": "barpolar"
           }
          ],
          "carpet": [
           {
            "aaxis": {
             "endlinecolor": "#2a3f5f",
             "gridcolor": "white",
             "linecolor": "white",
             "minorgridcolor": "white",
             "startlinecolor": "#2a3f5f"
            },
            "baxis": {
             "endlinecolor": "#2a3f5f",
             "gridcolor": "white",
             "linecolor": "white",
             "minorgridcolor": "white",
             "startlinecolor": "#2a3f5f"
            },
            "type": "carpet"
           }
          ],
          "choropleth": [
           {
            "colorbar": {
             "outlinewidth": 0,
             "ticks": ""
            },
            "type": "choropleth"
           }
          ],
          "contour": [
           {
            "colorbar": {
             "outlinewidth": 0,
             "ticks": ""
            },
            "colorscale": [
             [
              0,
              "#0d0887"
             ],
             [
              0.1111111111111111,
              "#46039f"
             ],
             [
              0.2222222222222222,
              "#7201a8"
             ],
             [
              0.3333333333333333,
              "#9c179e"
             ],
             [
              0.4444444444444444,
              "#bd3786"
             ],
             [
              0.5555555555555556,
              "#d8576b"
             ],
             [
              0.6666666666666666,
              "#ed7953"
             ],
             [
              0.7777777777777778,
              "#fb9f3a"
             ],
             [
              0.8888888888888888,
              "#fdca26"
             ],
             [
              1,
              "#f0f921"
             ]
            ],
            "type": "contour"
           }
          ],
          "contourcarpet": [
           {
            "colorbar": {
             "outlinewidth": 0,
             "ticks": ""
            },
            "type": "contourcarpet"
           }
          ],
          "heatmap": [
           {
            "colorbar": {
             "outlinewidth": 0,
             "ticks": ""
            },
            "colorscale": [
             [
              0,
              "#0d0887"
             ],
             [
              0.1111111111111111,
              "#46039f"
             ],
             [
              0.2222222222222222,
              "#7201a8"
             ],
             [
              0.3333333333333333,
              "#9c179e"
             ],
             [
              0.4444444444444444,
              "#bd3786"
             ],
             [
              0.5555555555555556,
              "#d8576b"
             ],
             [
              0.6666666666666666,
              "#ed7953"
             ],
             [
              0.7777777777777778,
              "#fb9f3a"
             ],
             [
              0.8888888888888888,
              "#fdca26"
             ],
             [
              1,
              "#f0f921"
             ]
            ],
            "type": "heatmap"
           }
          ],
          "histogram": [
           {
            "marker": {
             "pattern": {
              "fillmode": "overlay",
              "size": 10,
              "solidity": 0.2
             }
            },
            "type": "histogram"
           }
          ],
          "histogram2d": [
           {
            "colorbar": {
             "outlinewidth": 0,
             "ticks": ""
            },
            "colorscale": [
             [
              0,
              "#0d0887"
             ],
             [
              0.1111111111111111,
              "#46039f"
             ],
             [
              0.2222222222222222,
              "#7201a8"
             ],
             [
              0.3333333333333333,
              "#9c179e"
             ],
             [
              0.4444444444444444,
              "#bd3786"
             ],
             [
              0.5555555555555556,
              "#d8576b"
             ],
             [
              0.6666666666666666,
              "#ed7953"
             ],
             [
              0.7777777777777778,
              "#fb9f3a"
             ],
             [
              0.8888888888888888,
              "#fdca26"
             ],
             [
              1,
              "#f0f921"
             ]
            ],
            "type": "histogram2d"
           }
          ],
          "histogram2dcontour": [
           {
            "colorbar": {
             "outlinewidth": 0,
             "ticks": ""
            },
            "colorscale": [
             [
              0,
              "#0d0887"
             ],
             [
              0.1111111111111111,
              "#46039f"
             ],
             [
              0.2222222222222222,
              "#7201a8"
             ],
             [
              0.3333333333333333,
              "#9c179e"
             ],
             [
              0.4444444444444444,
              "#bd3786"
             ],
             [
              0.5555555555555556,
              "#d8576b"
             ],
             [
              0.6666666666666666,
              "#ed7953"
             ],
             [
              0.7777777777777778,
              "#fb9f3a"
             ],
             [
              0.8888888888888888,
              "#fdca26"
             ],
             [
              1,
              "#f0f921"
             ]
            ],
            "type": "histogram2dcontour"
           }
          ],
          "mesh3d": [
           {
            "colorbar": {
             "outlinewidth": 0,
             "ticks": ""
            },
            "type": "mesh3d"
           }
          ],
          "parcoords": [
           {
            "line": {
             "colorbar": {
              "outlinewidth": 0,
              "ticks": ""
             }
            },
            "type": "parcoords"
           }
          ],
          "pie": [
           {
            "automargin": true,
            "type": "pie"
           }
          ],
          "scatter": [
           {
            "fillpattern": {
             "fillmode": "overlay",
             "size": 10,
             "solidity": 0.2
            },
            "type": "scatter"
           }
          ],
          "scatter3d": [
           {
            "line": {
             "colorbar": {
              "outlinewidth": 0,
              "ticks": ""
             }
            },
            "marker": {
             "colorbar": {
              "outlinewidth": 0,
              "ticks": ""
             }
            },
            "type": "scatter3d"
           }
          ],
          "scattercarpet": [
           {
            "marker": {
             "colorbar": {
              "outlinewidth": 0,
              "ticks": ""
             }
            },
            "type": "scattercarpet"
           }
          ],
          "scattergeo": [
           {
            "marker": {
             "colorbar": {
              "outlinewidth": 0,
              "ticks": ""
             }
            },
            "type": "scattergeo"
           }
          ],
          "scattergl": [
           {
            "marker": {
             "colorbar": {
              "outlinewidth": 0,
              "ticks": ""
             }
            },
            "type": "scattergl"
           }
          ],
          "scattermap": [
           {
            "marker": {
             "colorbar": {
              "outlinewidth": 0,
              "ticks": ""
             }
            },
            "type": "scattermap"
           }
          ],
          "scattermapbox": [
           {
            "marker": {
             "colorbar": {
              "outlinewidth": 0,
              "ticks": ""
             }
            },
            "type": "scattermapbox"
           }
          ],
          "scatterpolar": [
           {
            "marker": {
             "colorbar": {
              "outlinewidth": 0,
              "ticks": ""
             }
            },
            "type": "scatterpolar"
           }
          ],
          "scatterpolargl": [
           {
            "marker": {
             "colorbar": {
              "outlinewidth": 0,
              "ticks": ""
             }
            },
            "type": "scatterpolargl"
           }
          ],
          "scatterternary": [
           {
            "marker": {
             "colorbar": {
              "outlinewidth": 0,
              "ticks": ""
             }
            },
            "type": "scatterternary"
           }
          ],
          "surface": [
           {
            "colorbar": {
             "outlinewidth": 0,
             "ticks": ""
            },
            "colorscale": [
             [
              0,
              "#0d0887"
             ],
             [
              0.1111111111111111,
              "#46039f"
             ],
             [
              0.2222222222222222,
              "#7201a8"
             ],
             [
              0.3333333333333333,
              "#9c179e"
             ],
             [
              0.4444444444444444,
              "#bd3786"
             ],
             [
              0.5555555555555556,
              "#d8576b"
             ],
             [
              0.6666666666666666,
              "#ed7953"
             ],
             [
              0.7777777777777778,
              "#fb9f3a"
             ],
             [
              0.8888888888888888,
              "#fdca26"
             ],
             [
              1,
              "#f0f921"
             ]
            ],
            "type": "surface"
           }
          ],
          "table": [
           {
            "cells": {
             "fill": {
              "color": "#EBF0F8"
             },
             "line": {
              "color": "white"
             }
            },
            "header": {
             "fill": {
              "color": "#C8D4E3"
             },
             "line": {
              "color": "white"
             }
            },
            "type": "table"
           }
          ]
         },
         "layout": {
          "annotationdefaults": {
           "arrowcolor": "#2a3f5f",
           "arrowhead": 0,
           "arrowwidth": 1
          },
          "autotypenumbers": "strict",
          "coloraxis": {
           "colorbar": {
            "outlinewidth": 0,
            "ticks": ""
           }
          },
          "colorscale": {
           "diverging": [
            [
             0,
             "#8e0152"
            ],
            [
             0.1,
             "#c51b7d"
            ],
            [
             0.2,
             "#de77ae"
            ],
            [
             0.3,
             "#f1b6da"
            ],
            [
             0.4,
             "#fde0ef"
            ],
            [
             0.5,
             "#f7f7f7"
            ],
            [
             0.6,
             "#e6f5d0"
            ],
            [
             0.7,
             "#b8e186"
            ],
            [
             0.8,
             "#7fbc41"
            ],
            [
             0.9,
             "#4d9221"
            ],
            [
             1,
             "#276419"
            ]
           ],
           "sequential": [
            [
             0,
             "#0d0887"
            ],
            [
             0.1111111111111111,
             "#46039f"
            ],
            [
             0.2222222222222222,
             "#7201a8"
            ],
            [
             0.3333333333333333,
             "#9c179e"
            ],
            [
             0.4444444444444444,
             "#bd3786"
            ],
            [
             0.5555555555555556,
             "#d8576b"
            ],
            [
             0.6666666666666666,
             "#ed7953"
            ],
            [
             0.7777777777777778,
             "#fb9f3a"
            ],
            [
             0.8888888888888888,
             "#fdca26"
            ],
            [
             1,
             "#f0f921"
            ]
           ],
           "sequentialminus": [
            [
             0,
             "#0d0887"
            ],
            [
             0.1111111111111111,
             "#46039f"
            ],
            [
             0.2222222222222222,
             "#7201a8"
            ],
            [
             0.3333333333333333,
             "#9c179e"
            ],
            [
             0.4444444444444444,
             "#bd3786"
            ],
            [
             0.5555555555555556,
             "#d8576b"
            ],
            [
             0.6666666666666666,
             "#ed7953"
            ],
            [
             0.7777777777777778,
             "#fb9f3a"
            ],
            [
             0.8888888888888888,
             "#fdca26"
            ],
            [
             1,
             "#f0f921"
            ]
           ]
          },
          "colorway": [
           "#636efa",
           "#EF553B",
           "#00cc96",
           "#ab63fa",
           "#FFA15A",
           "#19d3f3",
           "#FF6692",
           "#B6E880",
           "#FF97FF",
           "#FECB52"
          ],
          "font": {
           "color": "#2a3f5f"
          },
          "geo": {
           "bgcolor": "white",
           "lakecolor": "white",
           "landcolor": "#E5ECF6",
           "showlakes": true,
           "showland": true,
           "subunitcolor": "white"
          },
          "hoverlabel": {
           "align": "left"
          },
          "hovermode": "closest",
          "mapbox": {
           "style": "light"
          },
          "paper_bgcolor": "white",
          "plot_bgcolor": "#E5ECF6",
          "polar": {
           "angularaxis": {
            "gridcolor": "white",
            "linecolor": "white",
            "ticks": ""
           },
           "bgcolor": "#E5ECF6",
           "radialaxis": {
            "gridcolor": "white",
            "linecolor": "white",
            "ticks": ""
           }
          },
          "scene": {
           "xaxis": {
            "backgroundcolor": "#E5ECF6",
            "gridcolor": "white",
            "gridwidth": 2,
            "linecolor": "white",
            "showbackground": true,
            "ticks": "",
            "zerolinecolor": "white"
           },
           "yaxis": {
            "backgroundcolor": "#E5ECF6",
            "gridcolor": "white",
            "gridwidth": 2,
            "linecolor": "white",
            "showbackground": true,
            "ticks": "",
            "zerolinecolor": "white"
           },
           "zaxis": {
            "backgroundcolor": "#E5ECF6",
            "gridcolor": "white",
            "gridwidth": 2,
            "linecolor": "white",
            "showbackground": true,
            "ticks": "",
            "zerolinecolor": "white"
           }
          },
          "shapedefaults": {
           "line": {
            "color": "#2a3f5f"
           }
          },
          "ternary": {
           "aaxis": {
            "gridcolor": "white",
            "linecolor": "white",
            "ticks": ""
           },
           "baxis": {
            "gridcolor": "white",
            "linecolor": "white",
            "ticks": ""
           },
           "bgcolor": "#E5ECF6",
           "caxis": {
            "gridcolor": "white",
            "linecolor": "white",
            "ticks": ""
           }
          },
          "title": {
           "x": 0.05
          },
          "xaxis": {
           "automargin": true,
           "gridcolor": "white",
           "linecolor": "white",
           "ticks": "",
           "title": {
            "standoff": 15
           },
           "zerolinecolor": "white",
           "zerolinewidth": 2
          },
          "yaxis": {
           "automargin": true,
           "gridcolor": "white",
           "linecolor": "white",
           "ticks": "",
           "title": {
            "standoff": 15
           },
           "zerolinecolor": "white",
           "zerolinewidth": 2
          }
         }
        }
       }
      }
     },
     "metadata": {},
     "output_type": "display_data"
    }
   ],
   "source": [
    "out = nn_predict(params, grid)\n",
    "z = out.reshape(k,k)\n",
    "fig = go.Figure(data=go.Surface(x=x, y=y, z=z))\n",
    "fig.show()"
   ]
  },
  {
   "cell_type": "markdown",
   "metadata": {},
   "source": [
    "<font color='green'>\n",
    "We can see that even with the same 'random_seed' variable value to our first example, we get different final results due to change in the size of weights parameter. Because, now there are less wieghts values to gerenalize the given data.\n",
    "</font>"
   ]
  },
  {
   "cell_type": "code",
   "execution_count": null,
   "metadata": {},
   "outputs": [],
   "source": []
  }
 ],
 "metadata": {
  "kernelspec": {
   "display_name": "conda_kernel",
   "language": "python",
   "name": "python3"
  },
  "language_info": {
   "codemirror_mode": {
    "name": "ipython",
    "version": 3
   },
   "file_extension": ".py",
   "mimetype": "text/x-python",
   "name": "python",
   "nbconvert_exporter": "python",
   "pygments_lexer": "ipython3",
   "version": "3.11.11"
  }
 },
 "nbformat": 4,
 "nbformat_minor": 4
}
