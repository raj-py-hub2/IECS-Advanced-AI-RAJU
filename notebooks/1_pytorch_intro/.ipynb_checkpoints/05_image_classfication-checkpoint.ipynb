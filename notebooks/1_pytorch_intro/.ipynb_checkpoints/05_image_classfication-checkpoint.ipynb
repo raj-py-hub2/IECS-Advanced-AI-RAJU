{
 "cells": [
  {
   "attachments": {},
   "cell_type": "markdown",
   "metadata": {},
   "source": [
    "The workflow for a data science project will follow these lines:\n",
    "\n",
    "1. Get and explore the data\n",
    "2. Build a model \n",
    "3. Train the model\n",
    "4. Save and predict\n",
    "\n",
    "## 1. Get and Explore the Data\n",
    "The first step can take quite some time; data quality is often something that needs to be checked, and correlations between data should often be explored and visualized.\n",
    "\n",
    "This step can be a full project on its own: you clean the data, make sure you can access it properly, and create visualizations and hypothesis to gain insight into the data that can be shown in a dashboard.\n",
    "\n",
    "The insight in the data is an essential ingredient for deciding on a model.\n",
    "\n",
    "## 2. Build a model\n",
    "Based on domain knowledge and a first exploration of the data, a model can be selected.\n",
    "\n",
    "Sometimes, the relation between features and outcome is very obvious. You might have features that\n",
    "correlate very high with the outcome variable, and a domain expert confirms that the correlations make sense.\n",
    "\n",
    "If this is the case, you can often build a simple model. If you expect to have non-linear and complex interactions between the features,\n",
    "you could use a model that works with non-linear data like a SVM plus kernel, or a random forest.\n",
    "\n",
    "If you have enough data (as a rule of thumb, a lower threshold of 1000 observations) you can consider a neural network architecture.\n",
    "If the expected complexity of the data is low, you can use a relative small network.\n",
    "If you have lots and lots of data with a high complexity, you should consider to increase the complexity of your model too.\n",
    "\n",
    "How you can build a model, and what suitable models are for different datatypes and situations, will be the subject of the whole course.\n",
    "\n",
    "## 3. Train the model\n",
    "Once you created a model, it hasnt learned anything yet. The model must be trained to learn the right connections, a bit like a baby that has to learn about what works and what doesn't.\n",
    "\n",
    "In this notebook, I will introduce you to PyTorch. Another high level library is Tensorflow, which is used a lot too.\n",
    "While the interface is comparable, the Tensorflow syntax is a bit more high-level. While this can be an advantage, \n",
    "it also has a downside: at the moment you ever need to dive a bit deeper into the architecture itself, it is much harder to\n",
    "add something new with TensorFlow, compared to PyTorch.\n",
    "\n",
    "## 4. Save and predict\n",
    "Finally, you will want to use the trained model to predict new observations."
   ]
  },
  {
   "attachments": {},
   "cell_type": "markdown",
   "metadata": {},
   "source": [
    "# Load the data\n",
    "We will use the fashion MNIST dataset. You will find this dataset a lot in machine learning tutorials. It are small (28x28) images of clothing."
   ]
  },
  {
   "cell_type": "code",
   "execution_count": 3,
   "metadata": {},
   "outputs": [
    {
     "data": {
      "text/plain": [
       "'0.3.14'"
      ]
     },
     "execution_count": 3,
     "metadata": {},
     "output_type": "execute_result"
    }
   ],
   "source": [
    "from pathlib import Path\n",
    "import mads_datasets\n",
    "from mads_datasets import DatasetFactoryProvider, DatasetType\n",
    "import warnings\n",
    "warnings.simplefilter(\"ignore\", UserWarning)\n",
    "fashionfactory = DatasetFactoryProvider.create_factory(DatasetType.FASHION)\n",
    "\n",
    "mads_datasets.__version__"
   ]
  },
  {
   "cell_type": "code",
   "execution_count": 4,
   "metadata": {},
   "outputs": [
    {
     "name": "stderr",
     "output_type": "stream",
     "text": [
      "\u001b[32m2025-02-13 12:32:50.364\u001b[0m | \u001b[1mINFO    \u001b[0m | \u001b[36mmads_datasets.base\u001b[0m:\u001b[36mdownload_data\u001b[0m:\u001b[36m121\u001b[0m - \u001b[1mFolder already exists at C:\\Users\\Sarmad Idrees\\.cache\\mads_datasets\\fashionmnist\u001b[0m\n",
      "\u001b[32m2025-02-13 12:32:50.374\u001b[0m | \u001b[1mINFO    \u001b[0m | \u001b[36mmads_datasets.base\u001b[0m:\u001b[36mdownload_data\u001b[0m:\u001b[36m124\u001b[0m - \u001b[1mFile already exists at C:\\Users\\Sarmad Idrees\\.cache\\mads_datasets\\fashionmnist\\fashionmnist.pt\u001b[0m\n"
     ]
    }
   ],
   "source": [
    "datasets = fashionfactory.create_dataset()"
   ]
  },
  {
   "attachments": {},
   "cell_type": "markdown",
   "metadata": {},
   "source": [
    "We now have a `Dataset`. They implement at minimum an `.__getitem__` and `.__len__` function."
   ]
  },
  {
   "cell_type": "code",
   "execution_count": 5,
   "metadata": {},
   "outputs": [
    {
     "data": {
      "text/plain": [
       "MNISTDataset (len 60000)"
      ]
     },
     "execution_count": 5,
     "metadata": {},
     "output_type": "execute_result"
    }
   ],
   "source": [
    "datasets[\"train\"]"
   ]
  },
  {
   "attachments": {},
   "cell_type": "markdown",
   "metadata": {},
   "source": [
    "To get the data, we can use the `__getitem__` method by calling an index, just like you would do with a list or array."
   ]
  },
  {
   "cell_type": "code",
   "execution_count": 6,
   "metadata": {},
   "outputs": [
    {
     "data": {
      "text/plain": [
       "(tuple, torch.Tensor, torch.Tensor, tensor(1.), tensor(0.), torch.float32)"
      ]
     },
     "execution_count": 6,
     "metadata": {},
     "output_type": "execute_result"
    }
   ],
   "source": [
    "x = datasets[\"train\"][0]\n",
    "type(x), type(x[0]), type(x[1]), x[0].max(), x[0].min(), x[0].dtype"
   ]
  },
  {
   "attachments": {},
   "cell_type": "markdown",
   "metadata": {},
   "source": [
    "This is equivalent to this (but no one does that, obviously. We implement the dunder method to make life easier, not more complex...):\n"
   ]
  },
  {
   "cell_type": "code",
   "execution_count": 7,
   "metadata": {},
   "outputs": [],
   "source": [
    "x = datasets[\"train\"].__getitem__(0)"
   ]
  },
  {
   "attachments": {},
   "cell_type": "markdown",
   "metadata": {},
   "source": [
    "X is a tuple. We can check the length:"
   ]
  },
  {
   "cell_type": "code",
   "execution_count": 8,
   "metadata": {},
   "outputs": [
    {
     "data": {
      "text/plain": [
       "2"
      ]
     },
     "execution_count": 8,
     "metadata": {},
     "output_type": "execute_result"
    }
   ],
   "source": [
    "len(x)"
   ]
  },
  {
   "attachments": {},
   "cell_type": "markdown",
   "metadata": {},
   "source": [
    "We can get the 0th item, which is the image (tensor). The other item is the label (int)"
   ]
  },
  {
   "cell_type": "code",
   "execution_count": 9,
   "metadata": {},
   "outputs": [
    {
     "data": {
      "text/plain": [
       "torch.Size([1, 28, 28])"
      ]
     },
     "execution_count": 9,
     "metadata": {},
     "output_type": "execute_result"
    }
   ],
   "source": [
    "img = x[0]\n",
    "img.shape"
   ]
  },
  {
   "attachments": {},
   "cell_type": "markdown",
   "metadata": {},
   "source": [
    "You can see the image has a channel-first convention: it is a 28x28 pixel image, and it has 1 channel (grey). Look into the official documentation if you want to know more about datasets and how to build your own: [docs](https://pytorch.org/tutorials/beginner/basics/data_tutorial.html)\n",
    "\n",
    "Ok, we want to batch this into a dataloader. From the documentation:\n",
    "\n",
    "> The Dataset retrieves our dataset’s features and labels one sample at a time. While training a model, we typically want to pass samples in “minibatches”, reshuffle the data at every epoch to reduce model overfitting, and use Python’s multiprocessing to speed up data retrieval"
   ]
  },
  {
   "attachments": {},
   "cell_type": "markdown",
   "metadata": {},
   "source": [
    "Why is the length of the dataloader different from the dataset? We had 60000 items before..."
   ]
  },
  {
   "cell_type": "code",
   "execution_count": 10,
   "metadata": {},
   "outputs": [
    {
     "data": {
      "text/plain": [
       "938"
      ]
     },
     "execution_count": 10,
     "metadata": {},
     "output_type": "execute_result"
    }
   ],
   "source": [
    "# we can either use pytorches DataLoader\n",
    "from torch.utils.data import DataLoader\n",
    "trainloader = DataLoader(datasets[\"train\"], batch_size=64, shuffle=True)\n",
    "testloader = DataLoader(datasets[\"valid\"], batch_size=64, shuffle=True)\n",
    "len(trainloader)"
   ]
  },
  {
   "cell_type": "code",
   "execution_count": 11,
   "metadata": {},
   "outputs": [
    {
     "name": "stdout",
     "output_type": "stream",
     "text": [
      "9.93 ms ± 1.94 ms per loop (mean ± std. dev. of 7 runs, 100 loops each)\n"
     ]
    }
   ],
   "source": [
    "%timeit X, y = next(iter(trainloader))"
   ]
  },
  {
   "cell_type": "code",
   "execution_count": 12,
   "metadata": {},
   "outputs": [],
   "source": [
    "from mltrainer.preprocessors import BasePreprocessor\n",
    "preprocessor = BasePreprocessor()"
   ]
  },
  {
   "cell_type": "code",
   "execution_count": 13,
   "metadata": {},
   "outputs": [
    {
     "name": "stderr",
     "output_type": "stream",
     "text": [
      "\u001b[32m2025-02-13 12:33:13.018\u001b[0m | \u001b[1mINFO    \u001b[0m | \u001b[36mmads_datasets.base\u001b[0m:\u001b[36mdownload_data\u001b[0m:\u001b[36m121\u001b[0m - \u001b[1mFolder already exists at C:\\Users\\Sarmad Idrees\\.cache\\mads_datasets\\fashionmnist\u001b[0m\n",
      "\u001b[32m2025-02-13 12:33:13.022\u001b[0m | \u001b[1mINFO    \u001b[0m | \u001b[36mmads_datasets.base\u001b[0m:\u001b[36mdownload_data\u001b[0m:\u001b[36m124\u001b[0m - \u001b[1mFile already exists at C:\\Users\\Sarmad Idrees\\.cache\\mads_datasets\\fashionmnist\\fashionmnist.pt\u001b[0m\n"
     ]
    }
   ],
   "source": [
    "# or the BaseDatastreamer from the datasetfactory. Check out which one is faster\n",
    "\n",
    "streamers = fashionfactory.create_datastreamer(batchsize=64, preprocessor=preprocessor )\n",
    "train = streamers[\"train\"]\n",
    "valid = streamers[\"valid\"]\n",
    "trainstreamer = train.stream()\n",
    "validstreamer = valid.stream()"
   ]
  },
  {
   "cell_type": "code",
   "execution_count": 14,
   "metadata": {},
   "outputs": [
    {
     "data": {
      "text/plain": [
       "torch.Size([64, 1, 28, 28])"
      ]
     },
     "execution_count": 14,
     "metadata": {},
     "output_type": "execute_result"
    }
   ],
   "source": [
    "X, y = next(iter(trainstreamer))\n",
    "X.shape"
   ]
  },
  {
   "cell_type": "code",
   "execution_count": 15,
   "metadata": {},
   "outputs": [
    {
     "name": "stdout",
     "output_type": "stream",
     "text": [
      "4.57 ms ± 578 μs per loop (mean ± std. dev. of 7 runs, 100 loops each)\n"
     ]
    }
   ],
   "source": [
    "%timeit X, y = next(iter(trainstreamer))"
   ]
  },
  {
   "cell_type": "code",
   "execution_count": 16,
   "metadata": {},
   "outputs": [
    {
     "data": {
      "text/plain": [
       "(937, 156)"
      ]
     },
     "execution_count": 16,
     "metadata": {},
     "output_type": "execute_result"
    }
   ],
   "source": [
    "len(train), len(valid)"
   ]
  },
  {
   "cell_type": "code",
   "execution_count": 17,
   "metadata": {},
   "outputs": [],
   "source": [
    "X, y = next(iter(trainstreamer))"
   ]
  },
  {
   "cell_type": "code",
   "execution_count": 18,
   "metadata": {},
   "outputs": [
    {
     "data": {
      "text/plain": [
       "(torch.Size([64, 1, 28, 28]), torch.Size([64]))"
      ]
     },
     "execution_count": 18,
     "metadata": {},
     "output_type": "execute_result"
    }
   ],
   "source": [
    "X.shape, y.shape"
   ]
  },
  {
   "cell_type": "code",
   "execution_count": 19,
   "metadata": {},
   "outputs": [
    {
     "data": {
      "text/plain": [
       "torch.Tensor"
      ]
     },
     "execution_count": 19,
     "metadata": {},
     "output_type": "execute_result"
    }
   ],
   "source": [
    "type(X[0])"
   ]
  },
  {
   "attachments": {},
   "cell_type": "markdown",
   "metadata": {},
   "source": [
    "So, what do we see here? Our datashape has four dimensions:\n",
    "\n",
    "- 64: this is the batch size. Every batch has 64 observations; in this case 64 images\n",
    "- 1: this is the channel. Colorimages typically have 3 channels. Our images have just one color, and thus 1 channel. So images can have more channels (e.g. infrared etc)\n",
    "- (28,28) : this is the actual image, with dimensions 28x28\n",
    "\n",
    "Lets visualize the first example, the first image:"
   ]
  },
  {
   "cell_type": "code",
   "execution_count": 20,
   "metadata": {},
   "outputs": [
    {
     "data": {
      "text/plain": [
       "torch.Size([1, 28, 28])"
      ]
     },
     "execution_count": 20,
     "metadata": {},
     "output_type": "execute_result"
    }
   ],
   "source": [
    "img = X[1]\n",
    "img.shape"
   ]
  },
  {
   "cell_type": "code",
   "execution_count": 21,
   "metadata": {},
   "outputs": [
    {
     "data": {
      "text/plain": [
       "<matplotlib.image.AxesImage at 0x1d10eaf8550>"
      ]
     },
     "execution_count": 21,
     "metadata": {},
     "output_type": "execute_result"
    },
    {
     "data": {
      "image/png": "[encoded data removed]",
      "text/plain": [
       "<Figure size 640x480 with 1 Axes>"
      ]
     },
     "metadata": {},
     "output_type": "display_data"
    }
   ],
   "source": [
    "import matplotlib.pyplot as plt\n",
    "plt.imshow(img.squeeze(), cmap=\"gray\")"
   ]
  },
  {
   "attachments": {},
   "cell_type": "markdown",
   "metadata": {},
   "source": [
    "# Create a model"
   ]
  },
  {
   "cell_type": "code",
   "execution_count": 22,
   "metadata": {},
   "outputs": [
    {
     "name": "stdout",
     "output_type": "stream",
     "text": [
      "using cpu\n"
     ]
    }
   ],
   "source": [
    "import torch\n",
    "if torch.backends.mps.is_available() and torch.backends.mps.is_built():\n",
    "    device = torch.device(\"mps\")\n",
    "    print(\"Using MPS\")\n",
    "elif torch.cuda.is_available():\n",
    "    device = \"cuda:0\"\n",
    "    print(\"using cuda\")\n",
    "else:\n",
    "    device = \"cpu\"\n",
    "    print(\"using cpu\")"
   ]
  },
  {
   "cell_type": "code",
   "execution_count": 24,
   "metadata": {},
   "outputs": [
    {
     "name": "stderr",
     "output_type": "stream",
     "text": [
      "\u001b[32m2025-02-13 12:33:49.798\u001b[0m | \u001b[1mINFO    \u001b[0m | \u001b[36m__main__\u001b[0m:\u001b[36m<module>\u001b[0m:\u001b[36m4\u001b[0m - \u001b[1mUsing cpu device\u001b[0m\n"
     ]
    },
    {
     "name": "stdout",
     "output_type": "stream",
     "text": [
      "----------------------------------------------------------------\n",
      "        Layer (type)               Output Shape         Param #\n",
      "================================================================\n",
      "           Flatten-1                  [-1, 784]               0\n",
      "            Linear-2                  [-1, 512]         401,920\n",
      "              ReLU-3                  [-1, 512]               0\n",
      "            Linear-4                  [-1, 256]         131,328\n",
      "              ReLU-5                  [-1, 256]               0\n",
      "            Linear-6                   [-1, 10]           2,570\n",
      "================================================================\n",
      "Total params: 535,818\n",
      "Trainable params: 535,818\n",
      "Non-trainable params: 0\n",
      "----------------------------------------------------------------\n",
      "Input size (MB): 0.00\n",
      "Forward/backward pass size (MB): 0.02\n",
      "Params size (MB): 2.04\n",
      "Estimated Total Size (MB): 2.06\n",
      "----------------------------------------------------------------\n"
     ]
    }
   ],
   "source": [
    "from torch import nn\n",
    "from loguru import logger\n",
    "\n",
    "logger.info(f\"Using {device} device\")\n",
    "\n",
    "# Define model\n",
    "class NeuralNetwork(nn.Module):\n",
    "    def __init__(self):\n",
    "        super(NeuralNetwork, self).__init__()\n",
    "        self.flatten = nn.Flatten()\n",
    "        self.linear_relu_stack = nn.Sequential(\n",
    "            nn.Linear(28*28, 512),\n",
    "            nn.ReLU(),\n",
    "            nn.Linear(512, 256),\n",
    "            nn.ReLU(),\n",
    "            nn.Linear(256, 10)\n",
    "        )\n",
    "\n",
    "    def forward(self, x):\n",
    "        x = self.flatten(x)\n",
    "        logits = self.linear_relu_stack(x)\n",
    "        return logits\n",
    "\n",
    "model = NeuralNetwork().to(\"cpu\")\n",
    "from torchsummary import summary\n",
    "summary(model, input_size=(1, 28, 28))"
   ]
  },
  {
   "attachments": {},
   "cell_type": "markdown",
   "metadata": {},
   "source": [
    "Hopefully, you recognize the setup from the `linearmodel` notebook. \n",
    "\n",
    "- We will `Flatten` the image. That means we will transform our (64, 1, 28, 28) data into (64, 784) shaped data. What we do here, is flattening the image into a one dimensional vector.\n",
    "- We have a stack of hidden layers. These are essentially dotproducts. Our vector of 784 (28*28) elements is transformed into 512 elements, and then into 10 elements because we have 10 classes.\n",
    "- in between the linear transformations you can see the activation functions,here a `ReLu` \n",
    "- The `forward` method is what is called during training. This gives you control over the flow of information: it is easy to create some parallel flow of data if you want to do something like that."
   ]
  },
  {
   "attachments": {},
   "cell_type": "markdown",
   "metadata": {},
   "source": [
    "# Optimizer"
   ]
  },
  {
   "attachments": {},
   "cell_type": "markdown",
   "metadata": {},
   "source": [
    "We need an optimizer. We will dive into this in later lessons.\n",
    "\n",
    "For now, it is enough to know this:\n",
    "\n",
    "Your model makes a prediction. But how does the model know if it is right, or wrong?\n",
    "And, more specific: how does the model know which weights it needs to modify in order"
   ]
  },
  {
   "cell_type": "code",
   "execution_count": 25,
   "metadata": {},
   "outputs": [],
   "source": [
    "import torch.optim as optim\n",
    "loss_fn = torch.nn.CrossEntropyLoss()"
   ]
  },
  {
   "cell_type": "code",
   "execution_count": 26,
   "metadata": {},
   "outputs": [
    {
     "data": {
      "text/plain": [
       "False"
      ]
     },
     "execution_count": 26,
     "metadata": {},
     "output_type": "execute_result"
    }
   ],
   "source": [
    "X, y = next(iter(trainstreamer))\n",
    "model.to(device)\n",
    "next(model.parameters()).is_cuda\n"
   ]
  },
  {
   "cell_type": "code",
   "execution_count": 27,
   "metadata": {},
   "outputs": [],
   "source": [
    "yhat = model(X.to(device))"
   ]
  },
  {
   "cell_type": "code",
   "execution_count": 28,
   "metadata": {},
   "outputs": [
    {
     "data": {
      "text/plain": [
       "tensor(2.2940, grad_fn=<NllLossBackward0>)"
      ]
     },
     "execution_count": 28,
     "metadata": {},
     "output_type": "execute_result"
    }
   ],
   "source": [
    "loss_fn(yhat, y.to(device))"
   ]
  },
  {
   "attachments": {},
   "cell_type": "markdown",
   "metadata": {},
   "source": [
    "# Learn the weights"
   ]
  },
  {
   "cell_type": "code",
   "execution_count": 29,
   "metadata": {},
   "outputs": [
    {
     "data": {
      "text/plain": [
       "WindowsPath('D:/Workspace/upperkaam/notebooks_review/Deliverable_Part_1/notebooks/1_pytorch_intro/logs')"
      ]
     },
     "execution_count": 29,
     "metadata": {},
     "output_type": "execute_result"
    }
   ],
   "source": [
    "log_dir=Path(\"logs\").absolute()\n",
    "log_dir"
   ]
  },
  {
   "cell_type": "code",
   "execution_count": 30,
   "metadata": {},
   "outputs": [],
   "source": [
    "from mltrainer import metrics\n",
    "accuracy = metrics.Accuracy()"
   ]
  },
  {
   "cell_type": "code",
   "execution_count": 31,
   "metadata": {},
   "outputs": [
    {
     "name": "stderr",
     "output_type": "stream",
     "text": [
      "\u001b[32m2025-02-13 12:34:06.124\u001b[0m | \u001b[1mINFO    \u001b[0m | \u001b[36mmltrainer.settings\u001b[0m:\u001b[36mcheck_path\u001b[0m:\u001b[36m61\u001b[0m - \u001b[1mCreated logdir D:\\Workspace\\upperkaam\\notebooks_review\\Deliverable_Part_1\\notebooks\\1_pytorch_intro\\logs\u001b[0m\n"
     ]
    },
    {
     "data": {
      "text/plain": [
       "epochs: 3\n",
       "metrics: [Accuracy]\n",
       "logdir: D:\\Workspace\\upperkaam\\notebooks_review\\Deliverable_Part_1\\notebooks\\1_pytorch_intro\\logs\n",
       "train_steps: 937\n",
       "valid_steps: 156\n",
       "reporttypes: [<ReportTypes.TENSORBOARD: 2>]\n",
       "optimizer_kwargs: {'lr': 0.001, 'weight_decay': 1e-05}\n",
       "scheduler_kwargs: {'factor': 0.1, 'patience': 10}\n",
       "earlystop_kwargs: {'save': False, 'verbose': True, 'patience': 10}"
      ]
     },
     "execution_count": 31,
     "metadata": {},
     "output_type": "execute_result"
    }
   ],
   "source": [
    "from mltrainer import TrainerSettings, ReportTypes, Trainer\n",
    "\n",
    "settings = TrainerSettings(\n",
    "    epochs=3,\n",
    "    metrics=[accuracy],\n",
    "    logdir=log_dir,\n",
    "    train_steps=len(train),\n",
    "    valid_steps=len(valid),\n",
    "    reporttypes=[ReportTypes.TENSORBOARD],\n",
    ")\n",
    "settings"
   ]
  },
  {
   "cell_type": "code",
   "execution_count": 32,
   "metadata": {},
   "outputs": [
    {
     "data": {
      "text/plain": [
       "device(type='cpu')"
      ]
     },
     "execution_count": 32,
     "metadata": {},
     "output_type": "execute_result"
    }
   ],
   "source": [
    "next(model.parameters()).device"
   ]
  },
  {
   "cell_type": "code",
   "execution_count": 33,
   "metadata": {},
   "outputs": [
    {
     "name": "stderr",
     "output_type": "stream",
     "text": [
      "\u001b[32m2025-02-13 12:34:09.020\u001b[0m | \u001b[1mINFO    \u001b[0m | \u001b[36mmltrainer.trainer\u001b[0m:\u001b[36mdir_add_timestamp\u001b[0m:\u001b[36m29\u001b[0m - \u001b[1mLogging to D:\\Workspace\\upperkaam\\notebooks_review\\Deliverable_Part_1\\notebooks\\1_pytorch_intro\\logs\\20250213-123409\u001b[0m\n",
      "\u001b[32m2025-02-13 12:34:13.238\u001b[0m | \u001b[1mINFO    \u001b[0m | \u001b[36mmltrainer.trainer\u001b[0m:\u001b[36m__init__\u001b[0m:\u001b[36m72\u001b[0m - \u001b[1mFound earlystop_kwargs in settings.Set to None if you dont want earlystopping.\u001b[0m\n"
     ]
    }
   ],
   "source": [
    "trainer = Trainer(\n",
    "    model=model,\n",
    "    settings=settings,\n",
    "    loss_fn=loss_fn,\n",
    "    optimizer=optim.Adam,\n",
    "    traindataloader=trainstreamer,\n",
    "    validdataloader=validstreamer,\n",
    "    scheduler=optim.lr_scheduler.ReduceLROnPlateau,\n",
    "    device=device,\n",
    "    )"
   ]
  },
  {
   "cell_type": "code",
   "execution_count": 34,
   "metadata": {},
   "outputs": [
    {
     "name": "stderr",
     "output_type": "stream",
     "text": [
      "  0%|\u001b[38;2;30;71;6m                                            \u001b[0m| 0/3 [00:00<?, ?it/s]\u001b[0m\n",
      "\u001b[A%|\u001b[38;2;30;71;6m                                          \u001b[0m| 0/937 [00:00<?, ?it/s]\u001b[0m\n",
      "\u001b[A%|\u001b[38;2;30;71;6m▏                                 \u001b[0m| 4/937 [00:00<00:28, 32.82it/s]\u001b[0m\n",
      "\u001b[A%|\u001b[38;2;30;71;6m▎                                 \u001b[0m| 8/937 [00:00<00:26, 35.35it/s]\u001b[0m\n",
      "\u001b[A%|\u001b[38;2;30;71;6m▍                                \u001b[0m| 12/937 [00:00<00:25, 36.06it/s]\u001b[0m\n",
      "\u001b[A%|\u001b[38;2;30;71;6m▌                                \u001b[0m| 16/937 [00:00<00:25, 35.61it/s]\u001b[0m\n",
      "\u001b[A%|\u001b[38;2;30;71;6m▋                                \u001b[0m| 20/937 [00:00<00:25, 36.25it/s]\u001b[0m\n",
      "\u001b[A%|\u001b[38;2;30;71;6m▊                                \u001b[0m| 24/937 [00:00<00:25, 35.26it/s]\u001b[0m\n",
      "\u001b[A%|\u001b[38;2;30;71;6m▉                                \u001b[0m| 28/937 [00:00<00:26, 34.16it/s]\u001b[0m\n",
      "\u001b[A%|\u001b[38;2;30;71;6m█▏                               \u001b[0m| 32/937 [00:00<00:27, 32.57it/s]\u001b[0m\n",
      "\u001b[A%|\u001b[38;2;30;71;6m█▎                               \u001b[0m| 36/937 [00:01<00:28, 32.04it/s]\u001b[0m\n",
      "\u001b[A%|\u001b[38;2;30;71;6m█▍                               \u001b[0m| 40/937 [00:01<00:27, 32.18it/s]\u001b[0m\n",
      "\u001b[A%|\u001b[38;2;30;71;6m█▌                               \u001b[0m| 44/937 [00:01<00:27, 32.74it/s]\u001b[0m\n",
      "\u001b[A%|\u001b[38;2;30;71;6m█▋                               \u001b[0m| 48/937 [00:01<00:27, 32.12it/s]\u001b[0m\n",
      "\u001b[A%|\u001b[38;2;30;71;6m█▊                               \u001b[0m| 52/937 [00:01<00:27, 31.90it/s]\u001b[0m\n",
      "\u001b[A%|\u001b[38;2;30;71;6m█▉                               \u001b[0m| 56/937 [00:01<00:27, 32.09it/s]\u001b[0m\n",
      "\u001b[A%|\u001b[38;2;30;71;6m██                               \u001b[0m| 60/937 [00:01<00:27, 31.67it/s]\u001b[0m\n",
      "\u001b[A%|\u001b[38;2;30;71;6m██▎                              \u001b[0m| 64/937 [00:01<00:27, 31.43it/s]\u001b[0m\n",
      "\u001b[A%|\u001b[38;2;30;71;6m██▍                              \u001b[0m| 68/937 [00:02<00:27, 32.10it/s]\u001b[0m\n",
      "\u001b[A%|\u001b[38;2;30;71;6m██▌                              \u001b[0m| 72/937 [00:02<00:26, 32.32it/s]\u001b[0m\n",
      "\u001b[A%|\u001b[38;2;30;71;6m██▋                              \u001b[0m| 76/937 [00:02<00:26, 32.53it/s]\u001b[0m\n",
      "\u001b[A%|\u001b[38;2;30;71;6m██▊                              \u001b[0m| 80/937 [00:02<00:25, 33.16it/s]\u001b[0m\n",
      "\u001b[A%|\u001b[38;2;30;71;6m██▉                              \u001b[0m| 84/937 [00:02<00:27, 31.26it/s]\u001b[0m\n",
      "\u001b[A%|\u001b[38;2;30;71;6m███                              \u001b[0m| 88/937 [00:02<00:28, 29.83it/s]\u001b[0m\n",
      "\u001b[A%|\u001b[38;2;30;71;6m███▏                             \u001b[0m| 92/937 [00:02<00:29, 28.41it/s]\u001b[0m\n",
      "\u001b[A%|\u001b[38;2;30;71;6m███▎                             \u001b[0m| 95/937 [00:02<00:30, 27.90it/s]\u001b[0m\n",
      "\u001b[A%|\u001b[38;2;30;71;6m███▍                             \u001b[0m| 98/937 [00:03<00:44, 18.71it/s]\u001b[0m\n",
      "\u001b[A%|\u001b[38;2;30;71;6m███▍                            \u001b[0m| 101/937 [00:03<00:41, 20.15it/s]\u001b[0m\n",
      "\u001b[A%|\u001b[38;2;30;71;6m███▌                            \u001b[0m| 104/937 [00:03<00:37, 22.17it/s]\u001b[0m\n",
      "\u001b[A%|\u001b[38;2;30;71;6m███▋                            \u001b[0m| 107/937 [00:03<00:34, 23.79it/s]\u001b[0m\n",
      "\u001b[A%|\u001b[38;2;30;71;6m███▊                            \u001b[0m| 110/937 [00:03<00:33, 24.40it/s]\u001b[0m\n",
      "\u001b[A%|\u001b[38;2;30;71;6m███▊                            \u001b[0m| 113/937 [00:03<00:32, 25.35it/s]\u001b[0m\n",
      "\u001b[A%|\u001b[38;2;30;71;6m███▉                            \u001b[0m| 116/937 [00:03<00:31, 26.01it/s]\u001b[0m\n",
      "\u001b[A%|\u001b[38;2;30;71;6m████                            \u001b[0m| 120/937 [00:04<00:29, 28.10it/s]\u001b[0m\n",
      "\u001b[A%|\u001b[38;2;30;71;6m████▏                           \u001b[0m| 124/937 [00:04<00:28, 28.35it/s]\u001b[0m\n",
      "\u001b[A%|\u001b[38;2;30;71;6m████▎                           \u001b[0m| 127/937 [00:04<00:28, 28.75it/s]\u001b[0m\n",
      "\u001b[A%|\u001b[38;2;30;71;6m████▍                           \u001b[0m| 130/937 [00:04<00:27, 29.08it/s]\u001b[0m\n",
      "\u001b[A%|\u001b[38;2;30;71;6m████▌                           \u001b[0m| 134/937 [00:04<00:25, 31.12it/s]\u001b[0m\n",
      "\u001b[A%|\u001b[38;2;30;71;6m████▋                           \u001b[0m| 138/937 [00:04<00:26, 30.28it/s]\u001b[0m\n",
      "\u001b[A%|\u001b[38;2;30;71;6m████▊                           \u001b[0m| 142/937 [00:04<00:25, 30.81it/s]\u001b[0m\n",
      "\u001b[A%|\u001b[38;2;30;71;6m████▉                           \u001b[0m| 146/937 [00:04<00:25, 31.57it/s]\u001b[0m\n",
      "\u001b[A%|\u001b[38;2;30;71;6m█████                           \u001b[0m| 150/937 [00:05<00:25, 31.19it/s]\u001b[0m\n",
      "\u001b[A%|\u001b[38;2;30;71;6m█████▎                          \u001b[0m| 154/937 [00:05<00:24, 31.95it/s]\u001b[0m\n",
      "\u001b[A%|\u001b[38;2;30;71;6m█████▍                          \u001b[0m| 158/937 [00:05<00:24, 32.36it/s]\u001b[0m\n",
      "\u001b[A%|\u001b[38;2;30;71;6m█████▌                          \u001b[0m| 162/937 [00:05<00:23, 32.49it/s]\u001b[0m\n",
      "\u001b[A%|\u001b[38;2;30;71;6m█████▋                          \u001b[0m| 166/937 [00:05<00:23, 32.49it/s]\u001b[0m\n",
      "\u001b[A%|\u001b[38;2;30;71;6m█████▊                          \u001b[0m| 170/937 [00:05<00:23, 32.99it/s]\u001b[0m\n",
      "\u001b[A%|\u001b[38;2;30;71;6m█████▉                          \u001b[0m| 174/937 [00:05<00:24, 31.41it/s]\u001b[0m\n",
      "\u001b[A%|\u001b[38;2;30;71;6m██████                          \u001b[0m| 178/937 [00:05<00:23, 32.18it/s]\u001b[0m\n",
      "\u001b[A%|\u001b[38;2;30;71;6m██████▏                         \u001b[0m| 182/937 [00:06<00:23, 32.34it/s]\u001b[0m\n",
      "\u001b[A%|\u001b[38;2;30;71;6m██████▎                         \u001b[0m| 186/937 [00:06<00:23, 32.33it/s]\u001b[0m\n",
      "\u001b[A%|\u001b[38;2;30;71;6m██████▍                         \u001b[0m| 190/937 [00:06<00:22, 33.17it/s]\u001b[0m\n",
      "\u001b[A%|\u001b[38;2;30;71;6m██████▋                         \u001b[0m| 194/937 [00:06<00:23, 32.14it/s]\u001b[0m\n",
      "\u001b[A%|\u001b[38;2;30;71;6m██████▊                         \u001b[0m| 198/937 [00:06<00:22, 32.77it/s]\u001b[0m\n",
      "\u001b[A%|\u001b[38;2;30;71;6m██████▉                         \u001b[0m| 202/937 [00:06<00:23, 31.12it/s]\u001b[0m\n",
      "\u001b[A%|\u001b[38;2;30;71;6m███████                         \u001b[0m| 206/937 [00:06<00:24, 30.44it/s]\u001b[0m\n",
      "\u001b[A%|\u001b[38;2;30;71;6m███████▏                        \u001b[0m| 210/937 [00:06<00:23, 30.33it/s]\u001b[0m\n",
      "\u001b[A%|\u001b[38;2;30;71;6m███████▎                        \u001b[0m| 214/937 [00:07<00:24, 30.09it/s]\u001b[0m\n",
      "\u001b[A%|\u001b[38;2;30;71;6m███████▍                        \u001b[0m| 218/937 [00:07<00:24, 29.51it/s]\u001b[0m\n",
      "\u001b[A%|\u001b[38;2;30;71;6m███████▌                        \u001b[0m| 221/937 [00:07<00:24, 28.82it/s]\u001b[0m\n",
      "\u001b[A%|\u001b[38;2;30;71;6m███████▋                        \u001b[0m| 225/937 [00:07<00:24, 29.48it/s]\u001b[0m\n",
      "\u001b[A%|\u001b[38;2;30;71;6m███████▊                        \u001b[0m| 228/937 [00:07<00:24, 28.94it/s]\u001b[0m\n",
      "\u001b[A%|\u001b[38;2;30;71;6m███████▉                        \u001b[0m| 231/937 [00:07<00:24, 28.84it/s]\u001b[0m\n",
      "\u001b[A%|\u001b[38;2;30;71;6m███████▉                        \u001b[0m| 234/937 [00:07<00:24, 28.54it/s]\u001b[0m\n",
      "\u001b[A%|\u001b[38;2;30;71;6m████████▏                       \u001b[0m| 238/937 [00:07<00:23, 29.20it/s]\u001b[0m\n",
      "\u001b[A%|\u001b[38;2;30;71;6m████████▎                       \u001b[0m| 242/937 [00:08<00:23, 29.75it/s]\u001b[0m\n",
      "\u001b[A%|\u001b[38;2;30;71;6m████████▎                       \u001b[0m| 245/937 [00:08<00:23, 29.06it/s]\u001b[0m\n",
      "\u001b[A%|\u001b[38;2;30;71;6m████████▍                       \u001b[0m| 248/937 [00:08<00:23, 28.78it/s]\u001b[0m\n",
      "\u001b[A%|\u001b[38;2;30;71;6m████████▌                       \u001b[0m| 252/937 [00:08<00:23, 29.29it/s]\u001b[0m\n",
      "\u001b[A%|\u001b[38;2;30;71;6m████████▋                       \u001b[0m| 255/937 [00:08<00:23, 29.00it/s]\u001b[0m\n",
      "\u001b[A%|\u001b[38;2;30;71;6m████████▊                       \u001b[0m| 259/937 [00:08<00:22, 30.20it/s]\u001b[0m\n",
      "\u001b[A%|\u001b[38;2;30;71;6m████████▉                       \u001b[0m| 263/937 [00:08<00:22, 30.51it/s]\u001b[0m\n",
      "\u001b[A%|\u001b[38;2;30;71;6m█████████                       \u001b[0m| 267/937 [00:08<00:22, 30.26it/s]\u001b[0m\n",
      "\u001b[A%|\u001b[38;2;30;71;6m█████████▎                      \u001b[0m| 271/937 [00:09<00:22, 29.34it/s]\u001b[0m\n",
      "\u001b[A%|\u001b[38;2;30;71;6m█████████▎                      \u001b[0m| 274/937 [00:09<00:22, 29.29it/s]\u001b[0m\n",
      "\u001b[A%|\u001b[38;2;30;71;6m█████████▍                      \u001b[0m| 278/937 [00:09<00:22, 29.68it/s]\u001b[0m\n",
      "\u001b[A%|\u001b[38;2;30;71;6m█████████▋                      \u001b[0m| 282/937 [00:09<00:21, 31.03it/s]\u001b[0m\n",
      "\u001b[A%|\u001b[38;2;30;71;6m█████████▊                      \u001b[0m| 286/937 [00:09<00:20, 31.58it/s]\u001b[0m\n",
      "\u001b[A%|\u001b[38;2;30;71;6m█████████▉                      \u001b[0m| 290/937 [00:09<00:20, 31.08it/s]\u001b[0m\n",
      "\u001b[A%|\u001b[38;2;30;71;6m██████████                      \u001b[0m| 294/937 [00:09<00:21, 30.23it/s]\u001b[0m\n",
      "\u001b[A%|\u001b[38;2;30;71;6m██████████▏                     \u001b[0m| 298/937 [00:09<00:20, 30.79it/s]\u001b[0m\n",
      "\u001b[A%|\u001b[38;2;30;71;6m██████████▎                     \u001b[0m| 302/937 [00:10<00:20, 30.91it/s]\u001b[0m\n",
      "\u001b[A%|\u001b[38;2;30;71;6m██████████▍                     \u001b[0m| 306/937 [00:10<00:20, 30.05it/s]\u001b[0m\n",
      "\u001b[A%|\u001b[38;2;30;71;6m██████████▌                     \u001b[0m| 310/937 [00:10<00:21, 29.57it/s]\u001b[0m\n",
      "\u001b[A%|\u001b[38;2;30;71;6m██████████▋                     \u001b[0m| 313/937 [00:10<00:21, 28.92it/s]\u001b[0m\n",
      "\u001b[A%|\u001b[38;2;30;71;6m██████████▊                     \u001b[0m| 316/937 [00:10<00:21, 28.55it/s]\u001b[0m\n",
      "\u001b[A%|\u001b[38;2;30;71;6m██████████▉                     \u001b[0m| 320/937 [00:10<00:21, 28.56it/s]\u001b[0m\n",
      "\u001b[A%|\u001b[38;2;30;71;6m███████████                     \u001b[0m| 323/937 [00:10<00:22, 27.52it/s]\u001b[0m\n",
      "\u001b[A%|\u001b[38;2;30;71;6m███████████▏                    \u001b[0m| 326/937 [00:10<00:22, 27.15it/s]\u001b[0m\n",
      "\u001b[A%|\u001b[38;2;30;71;6m███████████▏                    \u001b[0m| 329/937 [00:11<00:38, 15.65it/s]\u001b[0m\n",
      "\u001b[A%|\u001b[38;2;30;71;6m███████████▎                    \u001b[0m| 332/937 [00:11<00:38, 15.64it/s]\u001b[0m\n",
      "\u001b[A%|\u001b[38;2;30;71;6m███████████▌                    \u001b[0m| 337/937 [00:11<00:28, 21.11it/s]\u001b[0m\n",
      "\u001b[A%|\u001b[38;2;30;71;6m███████████▋                    \u001b[0m| 341/937 [00:11<00:24, 24.37it/s]\u001b[0m\n",
      "\u001b[A%|\u001b[38;2;30;71;6m███████████▋                    \u001b[0m| 344/937 [00:11<00:23, 24.84it/s]\u001b[0m\n",
      "\u001b[A%|\u001b[38;2;30;71;6m███████████▉                    \u001b[0m| 348/937 [00:11<00:21, 27.56it/s]\u001b[0m\n",
      "\u001b[A%|\u001b[38;2;30;71;6m████████████                    \u001b[0m| 352/937 [00:12<00:19, 29.26it/s]\u001b[0m\n",
      "\u001b[A%|\u001b[38;2;30;71;6m████████████▏                   \u001b[0m| 356/937 [00:12<00:19, 29.47it/s]\u001b[0m\n",
      "\u001b[A%|\u001b[38;2;30;71;6m████████████▎                   \u001b[0m| 360/937 [00:12<00:19, 29.19it/s]\u001b[0m\n",
      "\u001b[A%|\u001b[38;2;30;71;6m████████████▍                   \u001b[0m| 364/937 [00:12<00:19, 28.71it/s]\u001b[0m\n",
      "\u001b[A%|\u001b[38;2;30;71;6m████████████▌                   \u001b[0m| 367/937 [00:12<00:20, 28.35it/s]\u001b[0m\n",
      "\u001b[A%|\u001b[38;2;30;71;6m████████████▋                   \u001b[0m| 370/937 [00:12<00:20, 27.52it/s]\u001b[0m\n",
      "\u001b[A%|\u001b[38;2;30;71;6m████████████▋                   \u001b[0m| 373/937 [00:12<00:20, 27.83it/s]\u001b[0m\n",
      "\u001b[A%|\u001b[38;2;30;71;6m████████████▉                   \u001b[0m| 377/937 [00:12<00:19, 28.76it/s]\u001b[0m\n",
      "\u001b[A%|\u001b[38;2;30;71;6m█████████████                   \u001b[0m| 381/937 [00:13<00:19, 29.19it/s]\u001b[0m\n",
      "\u001b[A%|\u001b[38;2;30;71;6m█████████████                   \u001b[0m| 384/937 [00:13<00:19, 28.67it/s]\u001b[0m\n",
      "\u001b[A%|\u001b[38;2;30;71;6m█████████████▏                  \u001b[0m| 387/937 [00:13<00:19, 28.27it/s]\u001b[0m\n",
      "\u001b[A%|\u001b[38;2;30;71;6m█████████████▎                  \u001b[0m| 390/937 [00:13<00:19, 28.20it/s]\u001b[0m\n",
      "\u001b[A%|\u001b[38;2;30;71;6m█████████████▍                  \u001b[0m| 393/937 [00:13<00:19, 28.08it/s]\u001b[0m\n",
      "\u001b[A%|\u001b[38;2;30;71;6m█████████████▌                  \u001b[0m| 397/937 [00:13<00:18, 29.34it/s]\u001b[0m\n",
      "\u001b[A%|\u001b[38;2;30;71;6m█████████████▋                  \u001b[0m| 401/937 [00:13<00:17, 30.41it/s]\u001b[0m\n",
      "\u001b[A%|\u001b[38;2;30;71;6m█████████████▊                  \u001b[0m| 405/937 [00:13<00:17, 29.61it/s]\u001b[0m\n",
      "\u001b[A%|\u001b[38;2;30;71;6m█████████████▉                  \u001b[0m| 408/937 [00:13<00:18, 29.32it/s]\u001b[0m\n",
      "\u001b[A%|\u001b[38;2;30;71;6m██████████████                  \u001b[0m| 411/937 [00:14<00:17, 29.48it/s]\u001b[0m\n",
      "\u001b[A%|\u001b[38;2;30;71;6m██████████████▏                 \u001b[0m| 414/937 [00:14<00:17, 29.52it/s]\u001b[0m\n",
      "\u001b[A%|\u001b[38;2;30;71;6m██████████████▎                 \u001b[0m| 418/937 [00:14<00:16, 30.84it/s]\u001b[0m\n",
      "\u001b[A%|\u001b[38;2;30;71;6m██████████████▍                 \u001b[0m| 422/937 [00:14<00:15, 32.46it/s]\u001b[0m\n",
      "\u001b[A%|\u001b[38;2;30;71;6m██████████████▌                 \u001b[0m| 426/937 [00:14<00:16, 31.77it/s]\u001b[0m\n",
      "\u001b[A%|\u001b[38;2;30;71;6m██████████████▋                 \u001b[0m| 430/937 [00:14<00:15, 32.39it/s]\u001b[0m\n",
      "\u001b[A%|\u001b[38;2;30;71;6m██████████████▊                 \u001b[0m| 434/937 [00:14<00:16, 30.96it/s]\u001b[0m\n",
      "\u001b[A%|\u001b[38;2;30;71;6m██████████████▉                 \u001b[0m| 438/937 [00:14<00:15, 31.79it/s]\u001b[0m\n",
      "\u001b[A%|\u001b[38;2;30;71;6m███████████████                 \u001b[0m| 442/937 [00:15<00:16, 30.03it/s]\u001b[0m\n",
      "\u001b[A%|\u001b[38;2;30;71;6m███████████████▏                \u001b[0m| 446/937 [00:15<00:16, 29.77it/s]\u001b[0m\n",
      "\u001b[A%|\u001b[38;2;30;71;6m███████████████▎                \u001b[0m| 450/937 [00:15<00:16, 29.53it/s]\u001b[0m\n",
      "\u001b[A%|\u001b[38;2;30;71;6m███████████████▍                \u001b[0m| 453/937 [00:15<00:16, 28.86it/s]\u001b[0m\n",
      "\u001b[A%|\u001b[38;2;30;71;6m███████████████▌                \u001b[0m| 456/937 [00:15<00:16, 28.88it/s]\u001b[0m\n",
      "\u001b[A%|\u001b[38;2;30;71;6m███████████████▋                \u001b[0m| 459/937 [00:15<00:16, 29.16it/s]\u001b[0m\n",
      "\u001b[A%|\u001b[38;2;30;71;6m███████████████▊                \u001b[0m| 463/937 [00:15<00:16, 29.33it/s]\u001b[0m\n",
      "\u001b[A%|\u001b[38;2;30;71;6m███████████████▉                \u001b[0m| 467/937 [00:15<00:15, 30.17it/s]\u001b[0m\n",
      "\u001b[A%|\u001b[38;2;30;71;6m████████████████                \u001b[0m| 471/937 [00:16<00:15, 29.99it/s]\u001b[0m\n",
      "\u001b[A%|\u001b[38;2;30;71;6m████████████████▏               \u001b[0m| 475/937 [00:16<00:15, 30.45it/s]\u001b[0m\n",
      "\u001b[A%|\u001b[38;2;30;71;6m████████████████▎               \u001b[0m| 479/937 [00:16<00:14, 30.68it/s]\u001b[0m\n",
      "\u001b[A%|\u001b[38;2;30;71;6m████████████████▍               \u001b[0m| 483/937 [00:16<00:14, 32.39it/s]\u001b[0m\n",
      "\u001b[A%|\u001b[38;2;30;71;6m████████████████▋               \u001b[0m| 487/937 [00:16<00:13, 32.87it/s]\u001b[0m\n",
      "\u001b[A%|\u001b[38;2;30;71;6m████████████████▊               \u001b[0m| 491/937 [00:16<00:13, 32.99it/s]\u001b[0m\n",
      "\u001b[A%|\u001b[38;2;30;71;6m████████████████▉               \u001b[0m| 495/937 [00:16<00:12, 34.05it/s]\u001b[0m\n",
      "\u001b[A%|\u001b[38;2;30;71;6m█████████████████               \u001b[0m| 500/937 [00:16<00:12, 36.21it/s]\u001b[0m\n",
      "\u001b[A%|\u001b[38;2;30;71;6m█████████████████▏              \u001b[0m| 504/937 [00:17<00:12, 35.77it/s]\u001b[0m\n",
      "\u001b[A%|\u001b[38;2;30;71;6m█████████████████▎              \u001b[0m| 508/937 [00:17<00:12, 34.60it/s]\u001b[0m\n",
      "\u001b[A%|\u001b[38;2;30;71;6m█████████████████▍              \u001b[0m| 512/937 [00:17<00:13, 32.60it/s]\u001b[0m\n",
      "\u001b[A%|\u001b[38;2;30;71;6m█████████████████▌              \u001b[0m| 516/937 [00:17<00:13, 31.02it/s]\u001b[0m\n",
      "\u001b[A%|\u001b[38;2;30;71;6m█████████████████▊              \u001b[0m| 520/937 [00:17<00:13, 30.06it/s]\u001b[0m\n",
      "\u001b[A%|\u001b[38;2;30;71;6m█████████████████▉              \u001b[0m| 524/937 [00:17<00:14, 28.51it/s]\u001b[0m\n",
      "\u001b[A%|\u001b[38;2;30;71;6m█████████████████▉              \u001b[0m| 527/937 [00:17<00:14, 28.07it/s]\u001b[0m\n",
      "\u001b[A%|\u001b[38;2;30;71;6m██████████████████              \u001b[0m| 530/937 [00:17<00:15, 27.06it/s]\u001b[0m\n",
      "\u001b[A%|\u001b[38;2;30;71;6m██████████████████▏             \u001b[0m| 533/937 [00:18<00:14, 27.24it/s]\u001b[0m\n",
      "\u001b[A%|\u001b[38;2;30;71;6m██████████████████▎             \u001b[0m| 536/937 [00:18<00:14, 26.93it/s]\u001b[0m\n",
      "\u001b[A%|\u001b[38;2;30;71;6m██████████████████▍             \u001b[0m| 539/937 [00:18<00:15, 26.50it/s]\u001b[0m\n",
      "\u001b[A%|\u001b[38;2;30;71;6m██████████████████▌             \u001b[0m| 542/937 [00:18<00:14, 26.87it/s]\u001b[0m\n",
      "\u001b[A%|\u001b[38;2;30;71;6m██████████████████▋             \u001b[0m| 546/937 [00:18<00:13, 28.37it/s]\u001b[0m\n",
      "\u001b[A%|\u001b[38;2;30;71;6m██████████████████▋             \u001b[0m| 549/937 [00:18<00:13, 28.04it/s]\u001b[0m\n",
      "\u001b[A%|\u001b[38;2;30;71;6m██████████████████▊             \u001b[0m| 552/937 [00:18<00:13, 27.96it/s]\u001b[0m\n",
      "\u001b[A%|\u001b[38;2;30;71;6m██████████████████▉             \u001b[0m| 555/937 [00:18<00:13, 28.37it/s]\u001b[0m\n",
      "\u001b[A%|\u001b[38;2;30;71;6m███████████████████             \u001b[0m| 558/937 [00:18<00:13, 28.04it/s]\u001b[0m\n",
      "\u001b[A%|\u001b[38;2;30;71;6m███████████████████▏            \u001b[0m| 561/937 [00:19<00:13, 27.81it/s]\u001b[0m\n",
      "\u001b[A%|\u001b[38;2;30;71;6m███████████████████▎            \u001b[0m| 564/937 [00:19<00:13, 28.01it/s]\u001b[0m\n",
      "\u001b[A%|\u001b[38;2;30;71;6m███████████████████▎            \u001b[0m| 567/937 [00:19<00:13, 28.19it/s]\u001b[0m\n",
      "\u001b[A%|\u001b[38;2;30;71;6m███████████████████▍            \u001b[0m| 570/937 [00:19<00:13, 27.91it/s]\u001b[0m\n",
      "\u001b[A%|\u001b[38;2;30;71;6m███████████████████▌            \u001b[0m| 574/937 [00:19<00:12, 29.39it/s]\u001b[0m\n",
      "\u001b[A%|\u001b[38;2;30;71;6m███████████████████▋            \u001b[0m| 577/937 [00:19<00:12, 28.25it/s]\u001b[0m\n",
      "\u001b[A%|\u001b[38;2;30;71;6m███████████████████▊            \u001b[0m| 580/937 [00:19<00:12, 27.87it/s]\u001b[0m\n",
      "\u001b[A%|\u001b[38;2;30;71;6m███████████████████▉            \u001b[0m| 583/937 [00:19<00:12, 28.19it/s]\u001b[0m\n",
      "\u001b[A%|\u001b[38;2;30;71;6m████████████████████            \u001b[0m| 587/937 [00:19<00:12, 28.53it/s]\u001b[0m\n",
      "\u001b[A%|\u001b[38;2;30;71;6m████████████████████▏           \u001b[0m| 591/937 [00:20<00:11, 29.61it/s]\u001b[0m\n",
      "\u001b[A%|\u001b[38;2;30;71;6m████████████████████▎           \u001b[0m| 594/937 [00:20<00:11, 28.75it/s]\u001b[0m\n",
      "\u001b[A%|\u001b[38;2;30;71;6m████████████████████▍           \u001b[0m| 597/937 [00:20<00:11, 29.07it/s]\u001b[0m\n",
      "\u001b[A%|\u001b[38;2;30;71;6m████████████████████▌           \u001b[0m| 601/937 [00:20<00:10, 31.12it/s]\u001b[0m\n",
      "\u001b[A%|\u001b[38;2;30;71;6m████████████████████▋           \u001b[0m| 605/937 [00:20<00:10, 32.77it/s]\u001b[0m\n",
      "\u001b[A%|\u001b[38;2;30;71;6m████████████████████▊           \u001b[0m| 609/937 [00:20<00:09, 33.39it/s]\u001b[0m\n",
      "\u001b[A%|\u001b[38;2;30;71;6m████████████████████▉           \u001b[0m| 613/937 [00:20<00:09, 34.59it/s]\u001b[0m\n",
      "\u001b[A%|\u001b[38;2;30;71;6m█████████████████████           \u001b[0m| 617/937 [00:21<00:13, 24.55it/s]\u001b[0m\n",
      "\u001b[A%|\u001b[38;2;30;71;6m█████████████████████▏          \u001b[0m| 620/937 [00:21<00:12, 25.07it/s]\u001b[0m\n",
      "\u001b[A%|\u001b[38;2;30;71;6m█████████████████████▎          \u001b[0m| 624/937 [00:21<00:11, 26.78it/s]\u001b[0m\n",
      "\u001b[A%|\u001b[38;2;30;71;6m█████████████████████▍          \u001b[0m| 627/937 [00:21<00:11, 27.52it/s]\u001b[0m\n",
      "\u001b[A%|\u001b[38;2;30;71;6m█████████████████████▌          \u001b[0m| 631/937 [00:21<00:10, 28.40it/s]\u001b[0m\n",
      "\u001b[A%|\u001b[38;2;30;71;6m█████████████████████▋          \u001b[0m| 634/937 [00:21<00:10, 28.52it/s]\u001b[0m\n",
      "\u001b[A%|\u001b[38;2;30;71;6m█████████████████████▊          \u001b[0m| 638/937 [00:21<00:10, 29.18it/s]\u001b[0m\n",
      "\u001b[A%|\u001b[38;2;30;71;6m█████████████████████▉          \u001b[0m| 641/937 [00:21<00:10, 29.15it/s]\u001b[0m\n",
      "\u001b[A%|\u001b[38;2;30;71;6m██████████████████████          \u001b[0m| 645/937 [00:21<00:09, 30.29it/s]\u001b[0m\n",
      "\u001b[A%|\u001b[38;2;30;71;6m██████████████████████▏         \u001b[0m| 649/937 [00:22<00:09, 30.90it/s]\u001b[0m\n",
      "\u001b[A%|\u001b[38;2;30;71;6m██████████████████████▎         \u001b[0m| 653/937 [00:22<00:09, 30.51it/s]\u001b[0m\n",
      "\u001b[A%|\u001b[38;2;30;71;6m██████████████████████▍         \u001b[0m| 657/937 [00:22<00:09, 30.11it/s]\u001b[0m\n",
      "\u001b[A%|\u001b[38;2;30;71;6m██████████████████████▌         \u001b[0m| 661/937 [00:22<00:08, 30.81it/s]\u001b[0m\n",
      "\u001b[A%|\u001b[38;2;30;71;6m██████████████████████▋         \u001b[0m| 665/937 [00:22<00:08, 30.79it/s]\u001b[0m\n",
      "\u001b[A%|\u001b[38;2;30;71;6m██████████████████████▊         \u001b[0m| 669/937 [00:22<00:08, 30.09it/s]\u001b[0m\n",
      "\u001b[A%|\u001b[38;2;30;71;6m██████████████████████▉         \u001b[0m| 673/937 [00:22<00:09, 28.95it/s]\u001b[0m\n",
      "\u001b[A%|\u001b[38;2;30;71;6m███████████████████████         \u001b[0m| 676/937 [00:23<00:08, 29.05it/s]\u001b[0m\n",
      "\u001b[A%|\u001b[38;2;30;71;6m███████████████████████▏        \u001b[0m| 679/937 [00:23<00:08, 28.74it/s]\u001b[0m\n",
      "\u001b[A%|\u001b[38;2;30;71;6m███████████████████████▎        \u001b[0m| 682/937 [00:23<00:09, 28.04it/s]\u001b[0m\n",
      "\u001b[A%|\u001b[38;2;30;71;6m███████████████████████▍        \u001b[0m| 686/937 [00:23<00:08, 28.75it/s]\u001b[0m\n",
      "\u001b[A%|\u001b[38;2;30;71;6m███████████████████████▌        \u001b[0m| 690/937 [00:23<00:08, 29.75it/s]\u001b[0m\n",
      "\u001b[A%|\u001b[38;2;30;71;6m███████████████████████▋        \u001b[0m| 693/937 [00:23<00:08, 29.40it/s]\u001b[0m\n",
      "\u001b[A%|\u001b[38;2;30;71;6m███████████████████████▊        \u001b[0m| 697/937 [00:23<00:08, 29.95it/s]\u001b[0m\n",
      "\u001b[A%|\u001b[38;2;30;71;6m███████████████████████▉        \u001b[0m| 700/937 [00:23<00:08, 29.46it/s]\u001b[0m\n",
      "\u001b[A%|\u001b[38;2;30;71;6m████████████████████████        \u001b[0m| 704/937 [00:23<00:07, 29.67it/s]\u001b[0m\n",
      "\u001b[A%|\u001b[38;2;30;71;6m████████████████████████▏       \u001b[0m| 707/937 [00:24<00:07, 29.33it/s]\u001b[0m\n",
      "\u001b[A%|\u001b[38;2;30;71;6m████████████████████████▎       \u001b[0m| 711/937 [00:24<00:07, 30.41it/s]\u001b[0m\n",
      "\u001b[A%|\u001b[38;2;30;71;6m████████████████████████▍       \u001b[0m| 715/937 [00:24<00:06, 32.27it/s]\u001b[0m\n",
      "\u001b[A%|\u001b[38;2;30;71;6m████████████████████████▌       \u001b[0m| 719/937 [00:24<00:06, 31.76it/s]\u001b[0m\n",
      "\u001b[A%|\u001b[38;2;30;71;6m████████████████████████▋       \u001b[0m| 723/937 [00:24<00:06, 31.46it/s]\u001b[0m\n",
      "\u001b[A%|\u001b[38;2;30;71;6m████████████████████████▊       \u001b[0m| 727/937 [00:24<00:06, 31.25it/s]\u001b[0m\n",
      "\u001b[A%|\u001b[38;2;30;71;6m████████████████████████▉       \u001b[0m| 731/937 [00:24<00:06, 30.83it/s]\u001b[0m\n",
      "\u001b[A%|\u001b[38;2;30;71;6m█████████████████████████       \u001b[0m| 735/937 [00:24<00:06, 31.06it/s]\u001b[0m\n",
      "\u001b[A%|\u001b[38;2;30;71;6m█████████████████████████▏      \u001b[0m| 739/937 [00:25<00:06, 32.13it/s]\u001b[0m\n",
      "\u001b[A%|\u001b[38;2;30;71;6m█████████████████████████▎      \u001b[0m| 743/937 [00:25<00:05, 32.88it/s]\u001b[0m\n",
      "\u001b[A%|\u001b[38;2;30;71;6m█████████████████████████▌      \u001b[0m| 747/937 [00:25<00:05, 33.84it/s]\u001b[0m\n",
      "\u001b[A%|\u001b[38;2;30;71;6m█████████████████████████▋      \u001b[0m| 751/937 [00:25<00:05, 33.68it/s]\u001b[0m\n",
      "\u001b[A%|\u001b[38;2;30;71;6m█████████████████████████▊      \u001b[0m| 755/937 [00:25<00:05, 33.19it/s]\u001b[0m\n",
      "\u001b[A%|\u001b[38;2;30;71;6m█████████████████████████▉      \u001b[0m| 759/937 [00:25<00:05, 33.15it/s]\u001b[0m\n",
      "\u001b[A%|\u001b[38;2;30;71;6m██████████████████████████      \u001b[0m| 763/937 [00:25<00:05, 32.42it/s]\u001b[0m\n",
      "\u001b[A%|\u001b[38;2;30;71;6m██████████████████████████▏     \u001b[0m| 767/937 [00:25<00:05, 31.75it/s]\u001b[0m\n",
      "\u001b[A%|\u001b[38;2;30;71;6m██████████████████████████▎     \u001b[0m| 771/937 [00:26<00:05, 31.83it/s]\u001b[0m\n",
      "\u001b[A%|\u001b[38;2;30;71;6m██████████████████████████▍     \u001b[0m| 775/937 [00:26<00:04, 32.66it/s]\u001b[0m\n",
      "\u001b[A%|\u001b[38;2;30;71;6m██████████████████████████▌     \u001b[0m| 779/937 [00:26<00:04, 33.24it/s]\u001b[0m\n",
      "\u001b[A%|\u001b[38;2;30;71;6m██████████████████████████▋     \u001b[0m| 783/937 [00:26<00:04, 32.29it/s]\u001b[0m\n",
      "\u001b[A%|\u001b[38;2;30;71;6m██████████████████████████▉     \u001b[0m| 787/937 [00:26<00:04, 31.77it/s]\u001b[0m\n",
      "\u001b[A%|\u001b[38;2;30;71;6m███████████████████████████     \u001b[0m| 791/937 [00:26<00:04, 31.89it/s]\u001b[0m\n",
      "\u001b[A%|\u001b[38;2;30;71;6m███████████████████████████▏    \u001b[0m| 795/937 [00:26<00:04, 32.89it/s]\u001b[0m\n",
      "\u001b[A%|\u001b[38;2;30;71;6m███████████████████████████▎    \u001b[0m| 799/937 [00:26<00:04, 32.71it/s]\u001b[0m\n",
      "\u001b[A%|\u001b[38;2;30;71;6m███████████████████████████▍    \u001b[0m| 803/937 [00:27<00:04, 33.43it/s]\u001b[0m\n",
      "\u001b[A%|\u001b[38;2;30;71;6m███████████████████████████▌    \u001b[0m| 807/937 [00:27<00:03, 32.73it/s]\u001b[0m\n",
      "\u001b[A%|\u001b[38;2;30;71;6m███████████████████████████▋    \u001b[0m| 811/937 [00:27<00:04, 31.00it/s]\u001b[0m\n",
      "\u001b[A%|\u001b[38;2;30;71;6m███████████████████████████▊    \u001b[0m| 815/937 [00:27<00:04, 30.45it/s]\u001b[0m\n",
      "\u001b[A%|\u001b[38;2;30;71;6m███████████████████████████▉    \u001b[0m| 819/937 [00:27<00:03, 29.86it/s]\u001b[0m\n",
      "\u001b[A%|\u001b[38;2;30;71;6m████████████████████████████    \u001b[0m| 823/937 [00:27<00:03, 28.83it/s]\u001b[0m\n",
      "\u001b[A%|\u001b[38;2;30;71;6m████████████████████████████▏   \u001b[0m| 826/937 [00:27<00:03, 28.41it/s]\u001b[0m\n",
      "\u001b[A%|\u001b[38;2;30;71;6m████████████████████████████▎   \u001b[0m| 829/937 [00:27<00:03, 27.15it/s]\u001b[0m\n",
      "\u001b[A%|\u001b[38;2;30;71;6m████████████████████████████▍   \u001b[0m| 832/937 [00:28<00:03, 26.71it/s]\u001b[0m\n",
      "\u001b[A%|\u001b[38;2;30;71;6m████████████████████████████▌   \u001b[0m| 835/937 [00:28<00:03, 27.37it/s]\u001b[0m\n",
      "\u001b[A%|\u001b[38;2;30;71;6m████████████████████████████▌   \u001b[0m| 838/937 [00:28<00:03, 26.83it/s]\u001b[0m\n",
      "\u001b[A%|\u001b[38;2;30;71;6m████████████████████████████▋   \u001b[0m| 841/937 [00:28<00:03, 26.71it/s]\u001b[0m\n",
      "\u001b[A%|\u001b[38;2;30;71;6m████████████████████████████▊   \u001b[0m| 844/937 [00:28<00:03, 27.11it/s]\u001b[0m\n",
      "\u001b[A%|\u001b[38;2;30;71;6m████████████████████████████▉   \u001b[0m| 847/937 [00:28<00:03, 27.13it/s]\u001b[0m\n",
      "\u001b[A%|\u001b[38;2;30;71;6m█████████████████████████████   \u001b[0m| 851/937 [00:28<00:03, 28.40it/s]\u001b[0m\n",
      "\u001b[A%|\u001b[38;2;30;71;6m█████████████████████████████▏  \u001b[0m| 854/937 [00:28<00:02, 27.77it/s]\u001b[0m\n",
      "\u001b[A%|\u001b[38;2;30;71;6m█████████████████████████████▎  \u001b[0m| 857/937 [00:28<00:02, 27.27it/s]\u001b[0m\n",
      "\u001b[A%|\u001b[38;2;30;71;6m█████████████████████████████▎  \u001b[0m| 860/937 [00:29<00:02, 27.67it/s]\u001b[0m\n",
      "\u001b[A%|\u001b[38;2;30;71;6m█████████████████████████████▍  \u001b[0m| 863/937 [00:29<00:02, 28.18it/s]\u001b[0m\n",
      "\u001b[A%|\u001b[38;2;30;71;6m█████████████████████████████▌  \u001b[0m| 866/937 [00:29<00:03, 19.77it/s]\u001b[0m\n",
      "\u001b[A%|\u001b[38;2;30;71;6m█████████████████████████████▋  \u001b[0m| 869/937 [00:29<00:03, 21.88it/s]\u001b[0m\n",
      "\u001b[A%|\u001b[38;2;30;71;6m█████████████████████████████▊  \u001b[0m| 872/937 [00:29<00:02, 23.10it/s]\u001b[0m\n",
      "\u001b[A%|\u001b[38;2;30;71;6m█████████████████████████████▉  \u001b[0m| 875/937 [00:29<00:02, 24.70it/s]\u001b[0m\n",
      "\u001b[A%|\u001b[38;2;30;71;6m█████████████████████████████▉  \u001b[0m| 878/937 [00:29<00:02, 25.49it/s]\u001b[0m\n",
      "\u001b[A%|\u001b[38;2;30;71;6m██████████████████████████████  \u001b[0m| 882/937 [00:29<00:01, 27.51it/s]\u001b[0m\n",
      "\u001b[A%|\u001b[38;2;30;71;6m██████████████████████████████▎ \u001b[0m| 886/937 [00:30<00:01, 29.59it/s]\u001b[0m\n",
      "\u001b[A%|\u001b[38;2;30;71;6m██████████████████████████████▍ \u001b[0m| 890/937 [00:30<00:01, 29.38it/s]\u001b[0m\n",
      "\u001b[A%|\u001b[38;2;30;71;6m██████████████████████████████▌ \u001b[0m| 894/937 [00:30<00:01, 30.16it/s]\u001b[0m\n",
      "\u001b[A%|\u001b[38;2;30;71;6m██████████████████████████████▋ \u001b[0m| 898/937 [00:30<00:01, 32.43it/s]\u001b[0m\n",
      "\u001b[A%|\u001b[38;2;30;71;6m██████████████████████████████▊ \u001b[0m| 902/937 [00:30<00:01, 34.27it/s]\u001b[0m\n",
      "\u001b[A%|\u001b[38;2;30;71;6m██████████████████████████████▉ \u001b[0m| 906/937 [00:30<00:00, 34.92it/s]\u001b[0m\n",
      "\u001b[A%|\u001b[38;2;30;71;6m███████████████████████████████ \u001b[0m| 911/937 [00:30<00:00, 37.99it/s]\u001b[0m\n",
      "\u001b[A%|\u001b[38;2;30;71;6m███████████████████████████████▎\u001b[0m| 916/937 [00:30<00:00, 38.89it/s]\u001b[0m\n",
      "\u001b[A%|\u001b[38;2;30;71;6m███████████████████████████████▍\u001b[0m| 921/937 [00:31<00:00, 40.22it/s]\u001b[0m\n",
      "\u001b[A%|\u001b[38;2;30;71;6m███████████████████████████████▌\u001b[0m| 926/937 [00:31<00:00, 38.65it/s]\u001b[0m\n",
      "\u001b[A%|\u001b[38;2;30;71;6m███████████████████████████████▊\u001b[0m| 930/937 [00:31<00:00, 36.36it/s]\u001b[0m\n",
      "100%|\u001b[38;2;30;71;6m████████████████████████████████\u001b[0m| 937/937 [00:31<00:00, 29.72it/s]\u001b[0m\n",
      "\u001b[32m2025-02-13 12:34:46.873\u001b[0m | \u001b[1mINFO    \u001b[0m | \u001b[36mmltrainer.trainer\u001b[0m:\u001b[36mreport\u001b[0m:\u001b[36m191\u001b[0m - \u001b[1mEpoch 0 train 0.4951 test 0.4037 metric ['0.8582']\u001b[0m\n",
      " 33%|\u001b[38;2;30;71;6m████████████                        \u001b[0m| 1/3 [00:33<01:07, 33.60s/it]\u001b[0m\n",
      "\u001b[A%|\u001b[38;2;30;71;6m                                          \u001b[0m| 0/937 [00:00<?, ?it/s]\u001b[0m\n",
      "\u001b[A%|\u001b[38;2;30;71;6m                                  \u001b[0m| 3/937 [00:00<00:33, 28.28it/s]\u001b[0m\n",
      "\u001b[A%|\u001b[38;2;30;71;6m▏                                 \u001b[0m| 6/937 [00:00<00:34, 27.23it/s]\u001b[0m\n",
      "\u001b[A%|\u001b[38;2;30;71;6m▎                                \u001b[0m| 10/937 [00:00<00:32, 28.68it/s]\u001b[0m\n",
      "\u001b[A%|\u001b[38;2;30;71;6m▍                                \u001b[0m| 13/937 [00:00<00:32, 28.74it/s]\u001b[0m\n",
      "\u001b[A%|\u001b[38;2;30;71;6m▌                                \u001b[0m| 17/937 [00:00<00:30, 29.90it/s]\u001b[0m\n",
      "\u001b[A%|\u001b[38;2;30;71;6m▋                                \u001b[0m| 21/937 [00:00<00:29, 30.73it/s]\u001b[0m\n",
      "\u001b[A%|\u001b[38;2;30;71;6m▉                                \u001b[0m| 25/937 [00:00<00:29, 30.75it/s]\u001b[0m\n",
      "\u001b[A%|\u001b[38;2;30;71;6m█                                \u001b[0m| 29/937 [00:00<00:28, 31.41it/s]\u001b[0m\n",
      "\u001b[A%|\u001b[38;2;30;71;6m█▏                               \u001b[0m| 33/937 [00:01<00:28, 31.91it/s]\u001b[0m\n",
      "\u001b[A%|\u001b[38;2;30;71;6m█▎                               \u001b[0m| 37/937 [00:01<00:28, 31.58it/s]\u001b[0m\n",
      "\u001b[A%|\u001b[38;2;30;71;6m█▍                               \u001b[0m| 41/937 [00:01<00:29, 30.70it/s]\u001b[0m\n",
      "\u001b[A%|\u001b[38;2;30;71;6m█▌                               \u001b[0m| 45/937 [00:01<00:28, 30.93it/s]\u001b[0m\n",
      "\u001b[A%|\u001b[38;2;30;71;6m█▋                               \u001b[0m| 49/937 [00:01<00:28, 30.71it/s]\u001b[0m\n",
      "\u001b[A%|\u001b[38;2;30;71;6m█▊                               \u001b[0m| 53/937 [00:01<00:28, 30.55it/s]\u001b[0m\n",
      "\u001b[A%|\u001b[38;2;30;71;6m██                               \u001b[0m| 57/937 [00:01<00:27, 31.52it/s]\u001b[0m\n",
      "\u001b[A%|\u001b[38;2;30;71;6m██▏                              \u001b[0m| 62/937 [00:01<00:25, 33.67it/s]\u001b[0m\n",
      "\u001b[A%|\u001b[38;2;30;71;6m██▎                              \u001b[0m| 66/937 [00:02<00:25, 34.00it/s]\u001b[0m\n",
      "\u001b[A%|\u001b[38;2;30;71;6m██▍                              \u001b[0m| 70/937 [00:02<00:26, 32.87it/s]\u001b[0m\n",
      "\u001b[A%|\u001b[38;2;30;71;6m██▌                              \u001b[0m| 74/937 [00:02<00:26, 32.63it/s]\u001b[0m\n",
      "\u001b[A%|\u001b[38;2;30;71;6m██▋                              \u001b[0m| 78/937 [00:02<00:27, 31.31it/s]\u001b[0m\n",
      "\u001b[A%|\u001b[38;2;30;71;6m██▉                              \u001b[0m| 82/937 [00:02<00:26, 31.75it/s]\u001b[0m\n",
      "\u001b[A%|\u001b[38;2;30;71;6m███                              \u001b[0m| 86/937 [00:02<00:26, 31.68it/s]\u001b[0m\n",
      "\u001b[A%|\u001b[38;2;30;71;6m███▏                             \u001b[0m| 90/937 [00:02<00:27, 30.47it/s]\u001b[0m\n",
      "\u001b[A%|\u001b[38;2;30;71;6m███▎                             \u001b[0m| 94/937 [00:03<00:27, 30.56it/s]\u001b[0m\n",
      "\u001b[A%|\u001b[38;2;30;71;6m███▍                             \u001b[0m| 98/937 [00:03<00:27, 30.82it/s]\u001b[0m\n",
      "\u001b[A%|\u001b[38;2;30;71;6m███▍                            \u001b[0m| 102/937 [00:03<00:25, 32.29it/s]\u001b[0m\n",
      "\u001b[A%|\u001b[38;2;30;71;6m███▌                            \u001b[0m| 106/937 [00:03<00:26, 31.82it/s]\u001b[0m\n",
      "\u001b[A%|\u001b[38;2;30;71;6m███▊                            \u001b[0m| 110/937 [00:03<00:27, 30.32it/s]\u001b[0m\n",
      "\u001b[A%|\u001b[38;2;30;71;6m███▉                            \u001b[0m| 114/937 [00:03<00:27, 30.22it/s]\u001b[0m\n",
      "\u001b[A%|\u001b[38;2;30;71;6m████                            \u001b[0m| 118/937 [00:03<00:26, 30.35it/s]\u001b[0m\n",
      "\u001b[A%|\u001b[38;2;30;71;6m████▏                           \u001b[0m| 122/937 [00:03<00:27, 29.39it/s]\u001b[0m\n",
      "\u001b[A%|\u001b[38;2;30;71;6m████▎                           \u001b[0m| 125/937 [00:04<00:29, 27.91it/s]\u001b[0m\n",
      "\u001b[A%|\u001b[38;2;30;71;6m████▎                           \u001b[0m| 128/937 [00:04<00:29, 27.80it/s]\u001b[0m\n",
      "\u001b[A%|\u001b[38;2;30;71;6m████▍                           \u001b[0m| 131/937 [00:04<00:28, 28.04it/s]\u001b[0m\n",
      "\u001b[A%|\u001b[38;2;30;71;6m████▌                           \u001b[0m| 134/937 [00:04<00:36, 22.24it/s]\u001b[0m\n",
      "\u001b[A%|\u001b[38;2;30;71;6m████▋                           \u001b[0m| 137/937 [00:04<00:36, 22.17it/s]\u001b[0m\n",
      "\u001b[A%|\u001b[38;2;30;71;6m████▊                           \u001b[0m| 140/937 [00:04<00:34, 22.92it/s]\u001b[0m\n",
      "\u001b[A%|\u001b[38;2;30;71;6m████▉                           \u001b[0m| 143/937 [00:04<00:32, 24.52it/s]\u001b[0m\n",
      "\u001b[A%|\u001b[38;2;30;71;6m████▉                           \u001b[0m| 146/937 [00:04<00:31, 25.27it/s]\u001b[0m\n",
      "\u001b[A%|\u001b[38;2;30;71;6m█████                           \u001b[0m| 149/937 [00:05<00:30, 26.25it/s]\u001b[0m\n",
      "\u001b[A%|\u001b[38;2;30;71;6m█████▏                          \u001b[0m| 152/937 [00:05<00:29, 26.71it/s]\u001b[0m\n",
      "\u001b[A%|\u001b[38;2;30;71;6m█████▎                          \u001b[0m| 155/937 [00:05<00:28, 27.23it/s]\u001b[0m\n",
      "\u001b[A%|\u001b[38;2;30;71;6m█████▍                          \u001b[0m| 158/937 [00:05<00:29, 26.84it/s]\u001b[0m\n",
      "\u001b[A%|\u001b[38;2;30;71;6m█████▍                          \u001b[0m| 161/937 [00:05<00:28, 27.10it/s]\u001b[0m\n",
      "\u001b[A%|\u001b[38;2;30;71;6m█████▌                          \u001b[0m| 164/937 [00:05<00:28, 27.04it/s]\u001b[0m\n",
      "\u001b[A%|\u001b[38;2;30;71;6m█████▋                          \u001b[0m| 168/937 [00:05<00:27, 27.81it/s]\u001b[0m\n",
      "\u001b[A%|\u001b[38;2;30;71;6m█████▊                          \u001b[0m| 172/937 [00:05<00:26, 28.91it/s]\u001b[0m\n",
      "\u001b[A%|\u001b[38;2;30;71;6m██████                          \u001b[0m| 176/937 [00:05<00:25, 29.85it/s]\u001b[0m\n",
      "\u001b[A%|\u001b[38;2;30;71;6m██████▏                         \u001b[0m| 180/937 [00:06<00:24, 30.78it/s]\u001b[0m\n",
      "\u001b[A%|\u001b[38;2;30;71;6m██████▎                         \u001b[0m| 184/937 [00:06<00:24, 31.23it/s]\u001b[0m\n",
      "\u001b[A%|\u001b[38;2;30;71;6m██████▍                         \u001b[0m| 188/937 [00:06<00:23, 31.45it/s]\u001b[0m\n",
      "\u001b[A%|\u001b[38;2;30;71;6m██████▌                         \u001b[0m| 192/937 [00:06<00:23, 31.09it/s]\u001b[0m\n",
      "\u001b[A%|\u001b[38;2;30;71;6m██████▋                         \u001b[0m| 196/937 [00:06<00:23, 31.57it/s]\u001b[0m\n",
      "\u001b[A%|\u001b[38;2;30;71;6m██████▊                         \u001b[0m| 200/937 [00:06<00:23, 30.91it/s]\u001b[0m\n",
      "\u001b[A%|\u001b[38;2;30;71;6m██████▉                         \u001b[0m| 204/937 [00:06<00:24, 30.26it/s]\u001b[0m\n",
      "\u001b[A%|\u001b[38;2;30;71;6m███████                         \u001b[0m| 208/937 [00:07<00:23, 30.41it/s]\u001b[0m\n",
      "\u001b[A%|\u001b[38;2;30;71;6m███████▏                        \u001b[0m| 212/937 [00:07<00:23, 30.23it/s]\u001b[0m\n",
      "\u001b[A%|\u001b[38;2;30;71;6m███████▍                        \u001b[0m| 216/937 [00:07<00:24, 30.00it/s]\u001b[0m\n",
      "\u001b[A%|\u001b[38;2;30;71;6m███████▌                        \u001b[0m| 220/937 [00:07<00:23, 30.61it/s]\u001b[0m\n",
      "\u001b[A%|\u001b[38;2;30;71;6m███████▋                        \u001b[0m| 224/937 [00:07<00:23, 30.98it/s]\u001b[0m\n",
      "\u001b[A%|\u001b[38;2;30;71;6m███████▊                        \u001b[0m| 228/937 [00:07<00:22, 31.19it/s]\u001b[0m\n",
      "\u001b[A%|\u001b[38;2;30;71;6m███████▉                        \u001b[0m| 232/937 [00:07<00:22, 31.36it/s]\u001b[0m\n",
      "\u001b[A%|\u001b[38;2;30;71;6m████████                        \u001b[0m| 236/937 [00:07<00:22, 31.83it/s]\u001b[0m\n",
      "\u001b[A%|\u001b[38;2;30;71;6m████████▏                       \u001b[0m| 240/937 [00:08<00:22, 31.02it/s]\u001b[0m\n",
      "\u001b[A%|\u001b[38;2;30;71;6m████████▎                       \u001b[0m| 244/937 [00:08<00:22, 30.93it/s]\u001b[0m\n",
      "\u001b[A%|\u001b[38;2;30;71;6m████████▍                       \u001b[0m| 248/937 [00:08<00:22, 31.05it/s]\u001b[0m\n",
      "\u001b[A%|\u001b[38;2;30;71;6m████████▌                       \u001b[0m| 252/937 [00:08<00:22, 30.04it/s]\u001b[0m\n",
      "\u001b[A%|\u001b[38;2;30;71;6m████████▋                       \u001b[0m| 256/937 [00:08<00:23, 29.58it/s]\u001b[0m\n",
      "\u001b[A%|\u001b[38;2;30;71;6m████████▊                       \u001b[0m| 259/937 [00:08<00:24, 28.06it/s]\u001b[0m\n",
      "\u001b[A%|\u001b[38;2;30;71;6m████████▉                       \u001b[0m| 262/937 [00:08<00:24, 27.53it/s]\u001b[0m\n",
      "\u001b[A%|\u001b[38;2;30;71;6m█████████                       \u001b[0m| 265/937 [00:08<00:24, 27.28it/s]\u001b[0m\n",
      "\u001b[A%|\u001b[38;2;30;71;6m█████████▏                      \u001b[0m| 268/937 [00:09<00:24, 27.25it/s]\u001b[0m\n",
      "\u001b[A%|\u001b[38;2;30;71;6m█████████▎                      \u001b[0m| 271/937 [00:09<00:24, 27.36it/s]\u001b[0m\n",
      "\u001b[A%|\u001b[38;2;30;71;6m█████████▎                      \u001b[0m| 274/937 [00:09<00:24, 26.72it/s]\u001b[0m\n",
      "\u001b[A%|\u001b[38;2;30;71;6m█████████▍                      \u001b[0m| 277/937 [00:09<00:24, 26.74it/s]\u001b[0m\n",
      "\u001b[A%|\u001b[38;2;30;71;6m█████████▌                      \u001b[0m| 280/937 [00:09<00:24, 26.60it/s]\u001b[0m\n",
      "\u001b[A%|\u001b[38;2;30;71;6m█████████▋                      \u001b[0m| 283/937 [00:09<00:24, 26.56it/s]\u001b[0m\n",
      "\u001b[A%|\u001b[38;2;30;71;6m█████████▊                      \u001b[0m| 286/937 [00:09<00:24, 26.63it/s]\u001b[0m\n",
      "\u001b[A%|\u001b[38;2;30;71;6m█████████▊                      \u001b[0m| 289/937 [00:09<00:24, 26.97it/s]\u001b[0m\n",
      "\u001b[A%|\u001b[38;2;30;71;6m█████████▉                      \u001b[0m| 292/937 [00:09<00:23, 27.03it/s]\u001b[0m\n",
      "\u001b[A%|\u001b[38;2;30;71;6m██████████                      \u001b[0m| 295/937 [00:10<00:24, 26.66it/s]\u001b[0m\n",
      "\u001b[A%|\u001b[38;2;30;71;6m██████████▏                     \u001b[0m| 298/937 [00:10<00:24, 26.50it/s]\u001b[0m\n",
      "\u001b[A%|\u001b[38;2;30;71;6m██████████▎                     \u001b[0m| 301/937 [00:10<00:30, 21.04it/s]\u001b[0m\n",
      "\u001b[A%|\u001b[38;2;30;71;6m██████████▍                     \u001b[0m| 304/937 [00:10<00:34, 18.44it/s]\u001b[0m\n",
      "\u001b[A%|\u001b[38;2;30;71;6m██████████▍                     \u001b[0m| 307/937 [00:10<00:30, 20.51it/s]\u001b[0m\n",
      "\u001b[A%|\u001b[38;2;30;71;6m██████████▌                     \u001b[0m| 310/937 [00:10<00:27, 22.52it/s]\u001b[0m\n",
      "\u001b[A%|\u001b[38;2;30;71;6m██████████▋                     \u001b[0m| 314/937 [00:10<00:24, 25.58it/s]\u001b[0m\n",
      "\u001b[A%|\u001b[38;2;30;71;6m██████████▊                     \u001b[0m| 318/937 [00:11<00:22, 27.66it/s]\u001b[0m\n",
      "\u001b[A%|\u001b[38;2;30;71;6m██████████▉                     \u001b[0m| 322/937 [00:11<00:21, 28.86it/s]\u001b[0m\n",
      "\u001b[A%|\u001b[38;2;30;71;6m███████████▏                    \u001b[0m| 326/937 [00:11<00:20, 29.79it/s]\u001b[0m\n",
      "\u001b[A%|\u001b[38;2;30;71;6m███████████▎                    \u001b[0m| 330/937 [00:11<00:21, 28.87it/s]\u001b[0m\n",
      "\u001b[A%|\u001b[38;2;30;71;6m███████████▎                    \u001b[0m| 333/937 [00:11<00:20, 29.10it/s]\u001b[0m\n",
      "\u001b[A%|\u001b[38;2;30;71;6m███████████▌                    \u001b[0m| 337/937 [00:11<00:20, 29.69it/s]\u001b[0m\n",
      "\u001b[A%|\u001b[38;2;30;71;6m███████████▌                    \u001b[0m| 340/937 [00:11<00:20, 29.07it/s]\u001b[0m\n",
      "\u001b[A%|\u001b[38;2;30;71;6m███████████▋                    \u001b[0m| 343/937 [00:11<00:20, 28.74it/s]\u001b[0m\n",
      "\u001b[A%|\u001b[38;2;30;71;6m███████████▊                    \u001b[0m| 346/937 [00:12<00:20, 29.07it/s]\u001b[0m\n",
      "\u001b[A%|\u001b[38;2;30;71;6m███████████▉                    \u001b[0m| 349/937 [00:12<00:20, 29.30it/s]\u001b[0m\n",
      "\u001b[A%|\u001b[38;2;30;71;6m████████████                    \u001b[0m| 353/937 [00:12<00:19, 29.83it/s]\u001b[0m\n",
      "\u001b[A%|\u001b[38;2;30;71;6m████████████▏                   \u001b[0m| 356/937 [00:12<00:19, 29.08it/s]\u001b[0m\n",
      "\u001b[A%|\u001b[38;2;30;71;6m████████████▎                   \u001b[0m| 359/937 [00:12<00:19, 29.07it/s]\u001b[0m\n",
      "\u001b[A%|\u001b[38;2;30;71;6m████████████▎                   \u001b[0m| 362/937 [00:12<00:20, 28.64it/s]\u001b[0m\n",
      "\u001b[A%|\u001b[38;2;30;71;6m████████████▍                   \u001b[0m| 366/937 [00:12<00:19, 29.14it/s]\u001b[0m\n",
      "\u001b[A%|\u001b[38;2;30;71;6m████████████▌                   \u001b[0m| 369/937 [00:12<00:19, 28.96it/s]\u001b[0m\n",
      "\u001b[A%|\u001b[38;2;30;71;6m████████████▋                   \u001b[0m| 372/937 [00:12<00:19, 29.24it/s]\u001b[0m\n",
      "\u001b[A%|\u001b[38;2;30;71;6m████████████▊                   \u001b[0m| 376/937 [00:13<00:18, 29.76it/s]\u001b[0m\n",
      "\u001b[A%|\u001b[38;2;30;71;6m████████████▉                   \u001b[0m| 379/937 [00:13<00:19, 29.35it/s]\u001b[0m\n",
      "\u001b[A%|\u001b[38;2;30;71;6m█████████████                   \u001b[0m| 382/937 [00:13<00:19, 28.81it/s]\u001b[0m\n",
      "\u001b[A%|\u001b[38;2;30;71;6m█████████████▏                  \u001b[0m| 385/937 [00:13<00:19, 28.74it/s]\u001b[0m\n",
      "\u001b[A%|\u001b[38;2;30;71;6m█████████████▎                  \u001b[0m| 389/937 [00:13<00:18, 29.42it/s]\u001b[0m\n",
      "\u001b[A%|\u001b[38;2;30;71;6m█████████████▍                  \u001b[0m| 392/937 [00:13<00:18, 29.42it/s]\u001b[0m\n",
      "\u001b[A%|\u001b[38;2;30;71;6m█████████████▍                  \u001b[0m| 395/937 [00:13<00:18, 29.12it/s]\u001b[0m\n",
      "\u001b[A%|\u001b[38;2;30;71;6m█████████████▌                  \u001b[0m| 398/937 [00:13<00:18, 29.18it/s]\u001b[0m\n",
      "\u001b[A%|\u001b[38;2;30;71;6m█████████████▋                  \u001b[0m| 401/937 [00:13<00:19, 27.82it/s]\u001b[0m\n",
      "\u001b[A%|\u001b[38;2;30;71;6m█████████████▊                  \u001b[0m| 404/937 [00:14<00:19, 27.45it/s]\u001b[0m\n",
      "\u001b[A%|\u001b[38;2;30;71;6m█████████████▉                  \u001b[0m| 407/937 [00:14<00:19, 26.83it/s]\u001b[0m\n",
      "\u001b[A%|\u001b[38;2;30;71;6m██████████████                  \u001b[0m| 410/937 [00:14<00:20, 25.66it/s]\u001b[0m\n",
      "\u001b[A%|\u001b[38;2;30;71;6m██████████████                  \u001b[0m| 413/937 [00:14<00:20, 25.05it/s]\u001b[0m\n",
      "\u001b[A%|\u001b[38;2;30;71;6m██████████████▏                 \u001b[0m| 416/937 [00:14<00:20, 25.32it/s]\u001b[0m\n",
      "\u001b[A%|\u001b[38;2;30;71;6m██████████████▎                 \u001b[0m| 419/937 [00:14<00:19, 25.99it/s]\u001b[0m\n",
      "\u001b[A%|\u001b[38;2;30;71;6m██████████████▍                 \u001b[0m| 422/937 [00:14<00:20, 25.54it/s]\u001b[0m\n",
      "\u001b[A%|\u001b[38;2;30;71;6m██████████████▌                 \u001b[0m| 425/937 [00:14<00:20, 25.11it/s]\u001b[0m\n",
      "\u001b[A%|\u001b[38;2;30;71;6m██████████████▌                 \u001b[0m| 428/937 [00:14<00:19, 25.49it/s]\u001b[0m\n",
      "\u001b[A%|\u001b[38;2;30;71;6m██████████████▋                 \u001b[0m| 431/937 [00:15<00:25, 19.89it/s]\u001b[0m\n",
      "\u001b[A%|\u001b[38;2;30;71;6m██████████████▊                 \u001b[0m| 434/937 [00:15<00:24, 20.26it/s]\u001b[0m\n",
      "\u001b[A%|\u001b[38;2;30;71;6m██████████████▉                 \u001b[0m| 437/937 [00:15<00:24, 20.83it/s]\u001b[0m\n",
      "\u001b[A%|\u001b[38;2;30;71;6m███████████████                 \u001b[0m| 440/937 [00:15<00:22, 22.55it/s]\u001b[0m\n",
      "\u001b[A%|\u001b[38;2;30;71;6m███████████████▏                \u001b[0m| 443/937 [00:15<00:21, 23.32it/s]\u001b[0m\n",
      "\u001b[A%|\u001b[38;2;30;71;6m███████████████▏                \u001b[0m| 446/937 [00:15<00:20, 23.74it/s]\u001b[0m\n",
      "\u001b[A%|\u001b[38;2;30;71;6m███████████████▎                \u001b[0m| 449/937 [00:15<00:20, 23.60it/s]\u001b[0m\n",
      "\u001b[A%|\u001b[38;2;30;71;6m███████████████▍                \u001b[0m| 452/937 [00:16<00:20, 23.95it/s]\u001b[0m\n",
      "\u001b[A%|\u001b[38;2;30;71;6m███████████████▌                \u001b[0m| 455/937 [00:16<00:19, 25.14it/s]\u001b[0m\n",
      "\u001b[A%|\u001b[38;2;30;71;6m███████████████▋                \u001b[0m| 458/937 [00:16<00:18, 25.84it/s]\u001b[0m\n",
      "\u001b[A%|\u001b[38;2;30;71;6m███████████████▋                \u001b[0m| 461/937 [00:16<00:17, 26.45it/s]\u001b[0m\n",
      "\u001b[A%|\u001b[38;2;30;71;6m███████████████▊                \u001b[0m| 464/937 [00:16<00:17, 27.41it/s]\u001b[0m\n",
      "\u001b[A%|\u001b[38;2;30;71;6m███████████████▉                \u001b[0m| 467/937 [00:16<00:16, 28.13it/s]\u001b[0m\n",
      "\u001b[A%|\u001b[38;2;30;71;6m████████████████                \u001b[0m| 470/937 [00:16<00:16, 28.06it/s]\u001b[0m\n",
      "\u001b[A%|\u001b[38;2;30;71;6m████████████████▏               \u001b[0m| 473/937 [00:16<00:16, 28.25it/s]\u001b[0m\n",
      "\u001b[A%|\u001b[38;2;30;71;6m████████████████▎               \u001b[0m| 477/937 [00:16<00:15, 29.48it/s]\u001b[0m\n",
      "\u001b[A%|\u001b[38;2;30;71;6m████████████████▍               \u001b[0m| 480/937 [00:17<00:15, 28.67it/s]\u001b[0m\n",
      "\u001b[A%|\u001b[38;2;30;71;6m████████████████▍               \u001b[0m| 483/937 [00:17<00:15, 28.69it/s]\u001b[0m\n",
      "\u001b[A%|\u001b[38;2;30;71;6m████████████████▌               \u001b[0m| 486/937 [00:17<00:15, 29.03it/s]\u001b[0m\n",
      "\u001b[A%|\u001b[38;2;30;71;6m████████████████▋               \u001b[0m| 490/937 [00:17<00:14, 30.08it/s]\u001b[0m\n",
      "\u001b[A%|\u001b[38;2;30;71;6m████████████████▊               \u001b[0m| 493/937 [00:17<00:15, 29.05it/s]\u001b[0m\n",
      "\u001b[A%|\u001b[38;2;30;71;6m████████████████▉               \u001b[0m| 496/937 [00:17<00:15, 28.94it/s]\u001b[0m\n",
      "\u001b[A%|\u001b[38;2;30;71;6m█████████████████               \u001b[0m| 499/937 [00:17<00:15, 28.31it/s]\u001b[0m\n",
      "\u001b[A%|\u001b[38;2;30;71;6m█████████████████▏              \u001b[0m| 503/937 [00:17<00:14, 29.29it/s]\u001b[0m\n",
      "\u001b[A%|\u001b[38;2;30;71;6m█████████████████▎              \u001b[0m| 506/937 [00:17<00:15, 28.53it/s]\u001b[0m\n",
      "\u001b[A%|\u001b[38;2;30;71;6m█████████████████▍              \u001b[0m| 509/937 [00:18<00:14, 28.68it/s]\u001b[0m\n",
      "\u001b[A%|\u001b[38;2;30;71;6m█████████████████▍              \u001b[0m| 512/937 [00:18<00:14, 28.51it/s]\u001b[0m\n",
      "\u001b[A%|\u001b[38;2;30;71;6m█████████████████▌              \u001b[0m| 515/937 [00:18<00:15, 27.84it/s]\u001b[0m\n",
      "\u001b[A%|\u001b[38;2;30;71;6m█████████████████▋              \u001b[0m| 519/937 [00:18<00:14, 28.80it/s]\u001b[0m\n",
      "\u001b[A%|\u001b[38;2;30;71;6m█████████████████▊              \u001b[0m| 522/937 [00:18<00:14, 29.10it/s]\u001b[0m\n",
      "\u001b[A%|\u001b[38;2;30;71;6m█████████████████▉              \u001b[0m| 526/937 [00:18<00:13, 30.02it/s]\u001b[0m\n",
      "\u001b[A%|\u001b[38;2;30;71;6m██████████████████              \u001b[0m| 529/937 [00:18<00:13, 29.21it/s]\u001b[0m\n",
      "\u001b[A%|\u001b[38;2;30;71;6m██████████████████▏             \u001b[0m| 533/937 [00:18<00:13, 29.46it/s]\u001b[0m\n",
      "\u001b[A%|\u001b[38;2;30;71;6m██████████████████▎             \u001b[0m| 536/937 [00:18<00:13, 29.12it/s]\u001b[0m\n",
      "\u001b[A%|\u001b[38;2;30;71;6m██████████████████▍             \u001b[0m| 539/937 [00:19<00:13, 28.57it/s]\u001b[0m\n",
      "\u001b[A%|\u001b[38;2;30;71;6m██████████████████▌             \u001b[0m| 542/937 [00:19<00:14, 27.82it/s]\u001b[0m\n",
      "\u001b[A%|\u001b[38;2;30;71;6m██████████████████▌             \u001b[0m| 545/937 [00:19<00:14, 27.94it/s]\u001b[0m\n",
      "\u001b[A%|\u001b[38;2;30;71;6m██████████████████▋             \u001b[0m| 548/937 [00:19<00:14, 27.11it/s]\u001b[0m\n",
      "\u001b[A%|\u001b[38;2;30;71;6m██████████████████▊             \u001b[0m| 551/937 [00:19<00:20, 18.69it/s]\u001b[0m\n",
      "\u001b[A%|\u001b[38;2;30;71;6m██████████████████▉             \u001b[0m| 554/937 [00:19<00:19, 19.46it/s]\u001b[0m\n",
      "\u001b[A%|\u001b[38;2;30;71;6m███████████████████             \u001b[0m| 557/937 [00:19<00:18, 21.03it/s]\u001b[0m\n",
      "\u001b[A%|\u001b[38;2;30;71;6m███████████████████             \u001b[0m| 560/937 [00:20<00:17, 21.52it/s]\u001b[0m\n",
      "\u001b[A%|\u001b[38;2;30;71;6m███████████████████▏            \u001b[0m| 563/937 [00:20<00:16, 22.26it/s]\u001b[0m\n",
      "\u001b[A%|\u001b[38;2;30;71;6m███████████████████▎            \u001b[0m| 566/937 [00:20<00:16, 22.42it/s]\u001b[0m\n",
      "\u001b[A%|\u001b[38;2;30;71;6m███████████████████▍            \u001b[0m| 569/937 [00:20<00:16, 22.46it/s]\u001b[0m\n",
      "\u001b[A%|\u001b[38;2;30;71;6m███████████████████▌            \u001b[0m| 572/937 [00:20<00:16, 22.76it/s]\u001b[0m\n",
      "\u001b[A%|\u001b[38;2;30;71;6m███████████████████▋            \u001b[0m| 575/937 [00:20<00:15, 22.90it/s]\u001b[0m\n",
      "\u001b[A%|\u001b[38;2;30;71;6m███████████████████▋            \u001b[0m| 578/937 [00:20<00:15, 22.91it/s]\u001b[0m\n",
      "\u001b[A%|\u001b[38;2;30;71;6m███████████████████▊            \u001b[0m| 581/937 [00:21<00:15, 22.75it/s]\u001b[0m\n",
      "\u001b[A%|\u001b[38;2;30;71;6m███████████████████▉            \u001b[0m| 584/937 [00:21<00:15, 22.98it/s]\u001b[0m\n",
      "\u001b[A%|\u001b[38;2;30;71;6m████████████████████            \u001b[0m| 587/937 [00:21<00:15, 22.69it/s]\u001b[0m\n",
      "\u001b[A%|\u001b[38;2;30;71;6m████████████████████▏           \u001b[0m| 590/937 [00:21<00:14, 23.34it/s]\u001b[0m\n",
      "\u001b[A%|\u001b[38;2;30;71;6m████████████████████▎           \u001b[0m| 593/937 [00:21<00:14, 23.82it/s]\u001b[0m\n",
      "\u001b[A%|\u001b[38;2;30;71;6m████████████████████▎           \u001b[0m| 596/937 [00:21<00:13, 24.77it/s]\u001b[0m\n",
      "\u001b[A%|\u001b[38;2;30;71;6m████████████████████▍           \u001b[0m| 599/937 [00:21<00:13, 24.23it/s]\u001b[0m\n",
      "\u001b[A%|\u001b[38;2;30;71;6m████████████████████▌           \u001b[0m| 602/937 [00:21<00:13, 24.83it/s]\u001b[0m\n",
      "\u001b[A%|\u001b[38;2;30;71;6m████████████████████▋           \u001b[0m| 605/937 [00:21<00:13, 24.95it/s]\u001b[0m\n",
      "\u001b[A%|\u001b[38;2;30;71;6m████████████████████▊           \u001b[0m| 608/937 [00:22<00:12, 25.77it/s]\u001b[0m\n",
      "\u001b[A%|\u001b[38;2;30;71;6m████████████████████▊           \u001b[0m| 611/937 [00:22<00:12, 25.98it/s]\u001b[0m\n",
      "\u001b[A%|\u001b[38;2;30;71;6m████████████████████▉           \u001b[0m| 614/937 [00:22<00:12, 25.91it/s]\u001b[0m\n",
      "\u001b[A%|\u001b[38;2;30;71;6m█████████████████████           \u001b[0m| 617/937 [00:22<00:12, 25.95it/s]\u001b[0m\n",
      "\u001b[A%|\u001b[38;2;30;71;6m█████████████████████▏          \u001b[0m| 620/937 [00:22<00:12, 25.59it/s]\u001b[0m\n",
      "\u001b[A%|\u001b[38;2;30;71;6m█████████████████████▎          \u001b[0m| 623/937 [00:22<00:12, 25.39it/s]\u001b[0m\n",
      "\u001b[A%|\u001b[38;2;30;71;6m█████████████████████▍          \u001b[0m| 626/937 [00:22<00:11, 26.36it/s]\u001b[0m\n",
      "\u001b[A%|\u001b[38;2;30;71;6m█████████████████████▍          \u001b[0m| 629/937 [00:22<00:11, 25.95it/s]\u001b[0m\n",
      "\u001b[A%|\u001b[38;2;30;71;6m█████████████████████▌          \u001b[0m| 632/937 [00:23<00:11, 26.07it/s]\u001b[0m\n",
      "\u001b[A%|\u001b[38;2;30;71;6m█████████████████████▋          \u001b[0m| 635/937 [00:23<00:11, 25.98it/s]\u001b[0m\n",
      "\u001b[A%|\u001b[38;2;30;71;6m█████████████████████▊          \u001b[0m| 638/937 [00:23<00:11, 25.43it/s]\u001b[0m\n",
      "\u001b[A%|\u001b[38;2;30;71;6m█████████████████████▉          \u001b[0m| 641/937 [00:23<00:11, 24.92it/s]\u001b[0m\n",
      "\u001b[A%|\u001b[38;2;30;71;6m█████████████████████▉          \u001b[0m| 644/937 [00:23<00:11, 24.83it/s]\u001b[0m\n",
      "\u001b[A%|\u001b[38;2;30;71;6m██████████████████████          \u001b[0m| 647/937 [00:23<00:11, 25.00it/s]\u001b[0m\n",
      "\u001b[A%|\u001b[38;2;30;71;6m██████████████████████▏         \u001b[0m| 650/937 [00:23<00:15, 18.57it/s]\u001b[0m\n",
      "\u001b[A%|\u001b[38;2;30;71;6m██████████████████████▎         \u001b[0m| 653/937 [00:24<00:15, 18.91it/s]\u001b[0m\n",
      "\u001b[A%|\u001b[38;2;30;71;6m██████████████████████▍         \u001b[0m| 656/937 [00:24<00:14, 18.82it/s]\u001b[0m\n",
      "\u001b[A%|\u001b[38;2;30;71;6m██████████████████████▌         \u001b[0m| 659/937 [00:24<00:13, 20.18it/s]\u001b[0m\n",
      "\u001b[A%|\u001b[38;2;30;71;6m██████████████████████▌         \u001b[0m| 662/937 [00:24<00:13, 20.74it/s]\u001b[0m\n",
      "\u001b[A%|\u001b[38;2;30;71;6m██████████████████████▋         \u001b[0m| 665/937 [00:24<00:13, 20.38it/s]\u001b[0m\n",
      "\u001b[A%|\u001b[38;2;30;71;6m██████████████████████▊         \u001b[0m| 668/937 [00:24<00:13, 20.61it/s]\u001b[0m\n",
      "\u001b[A%|\u001b[38;2;30;71;6m██████████████████████▉         \u001b[0m| 671/937 [00:24<00:12, 20.64it/s]\u001b[0m\n",
      "\u001b[A%|\u001b[38;2;30;71;6m███████████████████████         \u001b[0m| 674/937 [00:25<00:12, 21.02it/s]\u001b[0m\n",
      "\u001b[A%|\u001b[38;2;30;71;6m███████████████████████         \u001b[0m| 677/937 [00:25<00:12, 21.44it/s]\u001b[0m\n",
      "\u001b[A%|\u001b[38;2;30;71;6m███████████████████████▏        \u001b[0m| 680/937 [00:25<00:11, 21.43it/s]\u001b[0m\n",
      "\u001b[A%|\u001b[38;2;30;71;6m███████████████████████▎        \u001b[0m| 683/937 [00:25<00:11, 21.44it/s]\u001b[0m\n",
      "\u001b[A%|\u001b[38;2;30;71;6m███████████████████████▍        \u001b[0m| 686/937 [00:25<00:11, 20.97it/s]\u001b[0m\n",
      "\u001b[A%|\u001b[38;2;30;71;6m███████████████████████▌        \u001b[0m| 689/937 [00:25<00:11, 20.92it/s]\u001b[0m\n",
      "\u001b[A%|\u001b[38;2;30;71;6m███████████████████████▋        \u001b[0m| 692/937 [00:25<00:11, 21.07it/s]\u001b[0m\n",
      "\u001b[A%|\u001b[38;2;30;71;6m███████████████████████▋        \u001b[0m| 695/937 [00:26<00:11, 21.37it/s]\u001b[0m\n",
      "\u001b[A%|\u001b[38;2;30;71;6m███████████████████████▊        \u001b[0m| 698/937 [00:26<00:11, 21.30it/s]\u001b[0m\n",
      "\u001b[A%|\u001b[38;2;30;71;6m███████████████████████▉        \u001b[0m| 701/937 [00:26<00:11, 21.17it/s]\u001b[0m\n",
      "\u001b[A%|\u001b[38;2;30;71;6m████████████████████████        \u001b[0m| 704/937 [00:26<00:10, 22.14it/s]\u001b[0m\n",
      "\u001b[A%|\u001b[38;2;30;71;6m████████████████████████▏       \u001b[0m| 707/937 [00:26<00:10, 22.23it/s]\u001b[0m\n",
      "\u001b[A%|\u001b[38;2;30;71;6m████████████████████████▏       \u001b[0m| 710/937 [00:26<00:09, 23.50it/s]\u001b[0m\n",
      "\u001b[A%|\u001b[38;2;30;71;6m████████████████████████▎       \u001b[0m| 713/937 [00:26<00:09, 23.19it/s]\u001b[0m\n",
      "\u001b[A%|\u001b[38;2;30;71;6m████████████████████████▍       \u001b[0m| 716/937 [00:26<00:09, 23.41it/s]\u001b[0m\n",
      "\u001b[A%|\u001b[38;2;30;71;6m████████████████████████▌       \u001b[0m| 719/937 [00:27<00:09, 22.78it/s]\u001b[0m\n",
      "\u001b[A%|\u001b[38;2;30;71;6m████████████████████████▋       \u001b[0m| 722/937 [00:27<00:09, 22.36it/s]\u001b[0m\n",
      "\u001b[A%|\u001b[38;2;30;71;6m████████████████████████▊       \u001b[0m| 725/937 [00:27<00:09, 22.57it/s]\u001b[0m\n",
      "\u001b[A%|\u001b[38;2;30;71;6m████████████████████████▊       \u001b[0m| 728/937 [00:27<00:09, 23.06it/s]\u001b[0m\n",
      "\u001b[A%|\u001b[38;2;30;71;6m████████████████████████▉       \u001b[0m| 731/937 [00:27<00:08, 23.24it/s]\u001b[0m\n",
      "\u001b[A%|\u001b[38;2;30;71;6m█████████████████████████       \u001b[0m| 734/937 [00:27<00:08, 23.10it/s]\u001b[0m\n",
      "\u001b[A%|\u001b[38;2;30;71;6m█████████████████████████▏      \u001b[0m| 737/937 [00:27<00:08, 22.58it/s]\u001b[0m\n",
      "\u001b[A%|\u001b[38;2;30;71;6m█████████████████████████▎      \u001b[0m| 740/937 [00:27<00:08, 23.74it/s]\u001b[0m\n",
      "\u001b[A%|\u001b[38;2;30;71;6m█████████████████████████▎      \u001b[0m| 743/937 [00:28<00:08, 22.98it/s]\u001b[0m\n",
      "\u001b[A%|\u001b[38;2;30;71;6m█████████████████████████▍      \u001b[0m| 746/937 [00:28<00:08, 23.72it/s]\u001b[0m\n",
      "\u001b[A%|\u001b[38;2;30;71;6m█████████████████████████▌      \u001b[0m| 749/937 [00:28<00:10, 17.84it/s]\u001b[0m\n",
      "\u001b[A%|\u001b[38;2;30;71;6m█████████████████████████▋      \u001b[0m| 752/937 [00:28<00:10, 18.28it/s]\u001b[0m\n",
      "\u001b[A%|\u001b[38;2;30;71;6m█████████████████████████▊      \u001b[0m| 754/937 [00:28<00:10, 17.58it/s]\u001b[0m\n",
      "\u001b[A%|\u001b[38;2;30;71;6m█████████████████████████▊      \u001b[0m| 757/937 [00:28<00:09, 18.64it/s]\u001b[0m\n",
      "\u001b[A%|\u001b[38;2;30;71;6m█████████████████████████▉      \u001b[0m| 759/937 [00:29<00:09, 18.93it/s]\u001b[0m\n",
      "\u001b[A%|\u001b[38;2;30;71;6m██████████████████████████      \u001b[0m| 762/937 [00:29<00:08, 20.15it/s]\u001b[0m\n",
      "\u001b[A%|\u001b[38;2;30;71;6m██████████████████████████▏     \u001b[0m| 765/937 [00:29<00:08, 20.42it/s]\u001b[0m\n",
      "\u001b[A%|\u001b[38;2;30;71;6m██████████████████████████▏     \u001b[0m| 768/937 [00:29<00:08, 20.05it/s]\u001b[0m\n",
      "\u001b[A%|\u001b[38;2;30;71;6m██████████████████████████▎     \u001b[0m| 771/937 [00:29<00:08, 20.53it/s]\u001b[0m\n",
      "\u001b[A%|\u001b[38;2;30;71;6m██████████████████████████▍     \u001b[0m| 774/937 [00:29<00:07, 20.66it/s]\u001b[0m\n",
      "\u001b[A%|\u001b[38;2;30;71;6m██████████████████████████▌     \u001b[0m| 777/937 [00:29<00:07, 20.57it/s]\u001b[0m\n",
      "\u001b[A%|\u001b[38;2;30;71;6m██████████████████████████▋     \u001b[0m| 780/937 [00:30<00:07, 20.53it/s]\u001b[0m\n",
      "\u001b[A%|\u001b[38;2;30;71;6m██████████████████████████▋     \u001b[0m| 783/937 [00:30<00:07, 20.77it/s]\u001b[0m\n",
      "\u001b[A%|\u001b[38;2;30;71;6m██████████████████████████▊     \u001b[0m| 786/937 [00:30<00:07, 20.80it/s]\u001b[0m\n",
      "\u001b[A%|\u001b[38;2;30;71;6m██████████████████████████▉     \u001b[0m| 789/937 [00:30<00:06, 21.30it/s]\u001b[0m\n",
      "\u001b[A%|\u001b[38;2;30;71;6m███████████████████████████     \u001b[0m| 792/937 [00:30<00:06, 21.69it/s]\u001b[0m\n",
      "\u001b[A%|\u001b[38;2;30;71;6m███████████████████████████▏    \u001b[0m| 795/937 [00:30<00:06, 21.78it/s]\u001b[0m\n",
      "\u001b[A%|\u001b[38;2;30;71;6m███████████████████████████▎    \u001b[0m| 798/937 [00:30<00:06, 21.75it/s]\u001b[0m\n",
      "\u001b[A%|\u001b[38;2;30;71;6m███████████████████████████▎    \u001b[0m| 801/937 [00:30<00:06, 21.86it/s]\u001b[0m\n",
      "\u001b[A%|\u001b[38;2;30;71;6m███████████████████████████▍    \u001b[0m| 804/937 [00:31<00:06, 21.11it/s]\u001b[0m\n",
      "\u001b[A%|\u001b[38;2;30;71;6m███████████████████████████▌    \u001b[0m| 807/937 [00:31<00:06, 21.04it/s]\u001b[0m\n",
      "\u001b[A%|\u001b[38;2;30;71;6m███████████████████████████▋    \u001b[0m| 810/937 [00:31<00:05, 21.62it/s]\u001b[0m\n",
      "\u001b[A%|\u001b[38;2;30;71;6m███████████████████████████▊    \u001b[0m| 813/937 [00:31<00:05, 21.60it/s]\u001b[0m\n",
      "\u001b[A%|\u001b[38;2;30;71;6m███████████████████████████▊    \u001b[0m| 816/937 [00:31<00:05, 21.56it/s]\u001b[0m\n",
      "\u001b[A%|\u001b[38;2;30;71;6m███████████████████████████▉    \u001b[0m| 819/937 [00:31<00:05, 21.79it/s]\u001b[0m\n",
      "\u001b[A%|\u001b[38;2;30;71;6m████████████████████████████    \u001b[0m| 822/937 [00:31<00:05, 21.88it/s]\u001b[0m\n",
      "\u001b[A%|\u001b[38;2;30;71;6m████████████████████████████▏   \u001b[0m| 825/937 [00:32<00:05, 21.62it/s]\u001b[0m\n",
      "\u001b[A%|\u001b[38;2;30;71;6m████████████████████████████▎   \u001b[0m| 828/937 [00:32<00:04, 21.86it/s]\u001b[0m\n",
      "\u001b[A%|\u001b[38;2;30;71;6m████████████████████████████▍   \u001b[0m| 831/937 [00:32<00:06, 17.24it/s]\u001b[0m\n",
      "\u001b[A%|\u001b[38;2;30;71;6m████████████████████████████▍   \u001b[0m| 833/937 [00:32<00:06, 16.76it/s]\u001b[0m\n",
      "\u001b[A%|\u001b[38;2;30;71;6m████████████████████████████▌   \u001b[0m| 835/937 [00:32<00:06, 16.69it/s]\u001b[0m\n",
      "\u001b[A%|\u001b[38;2;30;71;6m████████████████████████████▌   \u001b[0m| 837/937 [00:32<00:05, 16.98it/s]\u001b[0m\n",
      "\u001b[A%|\u001b[38;2;30;71;6m████████████████████████████▋   \u001b[0m| 840/937 [00:32<00:05, 18.21it/s]\u001b[0m\n",
      "\u001b[A%|\u001b[38;2;30;71;6m████████████████████████████▊   \u001b[0m| 843/937 [00:33<00:04, 19.56it/s]\u001b[0m\n",
      "\u001b[A%|\u001b[38;2;30;71;6m████████████████████████████▉   \u001b[0m| 846/937 [00:33<00:04, 20.59it/s]\u001b[0m\n",
      "\u001b[A%|\u001b[38;2;30;71;6m████████████████████████████▉   \u001b[0m| 849/937 [00:33<00:04, 21.03it/s]\u001b[0m\n",
      "\u001b[A%|\u001b[38;2;30;71;6m█████████████████████████████   \u001b[0m| 852/937 [00:33<00:03, 21.41it/s]\u001b[0m\n",
      "\u001b[A%|\u001b[38;2;30;71;6m█████████████████████████████▏  \u001b[0m| 855/937 [00:33<00:03, 22.13it/s]\u001b[0m\n",
      "\u001b[A%|\u001b[38;2;30;71;6m█████████████████████████████▎  \u001b[0m| 858/937 [00:33<00:03, 21.80it/s]\u001b[0m\n",
      "\u001b[A%|\u001b[38;2;30;71;6m█████████████████████████████▍  \u001b[0m| 861/937 [00:33<00:03, 21.61it/s]\u001b[0m\n",
      "\u001b[A%|\u001b[38;2;30;71;6m█████████████████████████████▌  \u001b[0m| 864/937 [00:34<00:03, 21.26it/s]\u001b[0m\n",
      "\u001b[A%|\u001b[38;2;30;71;6m█████████████████████████████▌  \u001b[0m| 867/937 [00:34<00:03, 21.56it/s]\u001b[0m\n",
      "\u001b[A%|\u001b[38;2;30;71;6m█████████████████████████████▋  \u001b[0m| 870/937 [00:34<00:03, 21.13it/s]\u001b[0m\n",
      "\u001b[A%|\u001b[38;2;30;71;6m█████████████████████████████▊  \u001b[0m| 873/937 [00:34<00:02, 21.36it/s]\u001b[0m\n",
      "\u001b[A%|\u001b[38;2;30;71;6m█████████████████████████████▉  \u001b[0m| 876/937 [00:34<00:02, 21.11it/s]\u001b[0m\n",
      "\u001b[A%|\u001b[38;2;30;71;6m██████████████████████████████  \u001b[0m| 879/937 [00:34<00:02, 21.04it/s]\u001b[0m\n",
      "\u001b[A%|\u001b[38;2;30;71;6m██████████████████████████████  \u001b[0m| 882/937 [00:34<00:02, 21.06it/s]\u001b[0m\n",
      "\u001b[A%|\u001b[38;2;30;71;6m██████████████████████████████▏ \u001b[0m| 885/937 [00:35<00:02, 20.60it/s]\u001b[0m\n",
      "\u001b[A%|\u001b[38;2;30;71;6m██████████████████████████████▎ \u001b[0m| 888/937 [00:35<00:02, 20.36it/s]\u001b[0m\n",
      "\u001b[A%|\u001b[38;2;30;71;6m██████████████████████████████▍ \u001b[0m| 891/937 [00:35<00:02, 20.52it/s]\u001b[0m\n",
      "\u001b[A%|\u001b[38;2;30;71;6m██████████████████████████████▌ \u001b[0m| 894/937 [00:35<00:02, 20.18it/s]\u001b[0m\n",
      "\u001b[A%|\u001b[38;2;30;71;6m██████████████████████████████▋ \u001b[0m| 897/937 [00:35<00:01, 20.57it/s]\u001b[0m\n",
      "\u001b[A%|\u001b[38;2;30;71;6m██████████████████████████████▋ \u001b[0m| 900/937 [00:35<00:01, 20.86it/s]\u001b[0m\n",
      "\u001b[A%|\u001b[38;2;30;71;6m██████████████████████████████▊ \u001b[0m| 903/937 [00:35<00:01, 20.70it/s]\u001b[0m\n",
      "\u001b[A%|\u001b[38;2;30;71;6m██████████████████████████████▉ \u001b[0m| 906/937 [00:36<00:01, 20.22it/s]\u001b[0m\n",
      "\u001b[A%|\u001b[38;2;30;71;6m███████████████████████████████ \u001b[0m| 909/937 [00:36<00:01, 19.91it/s]\u001b[0m\n",
      "\u001b[A%|\u001b[38;2;30;71;6m███████████████████████████████▏\u001b[0m| 912/937 [00:36<00:01, 20.68it/s]\u001b[0m\n",
      "\u001b[A%|\u001b[38;2;30;71;6m███████████████████████████████▏\u001b[0m| 915/937 [00:36<00:01, 21.31it/s]\u001b[0m\n",
      "\u001b[A%|\u001b[38;2;30;71;6m███████████████████████████████▎\u001b[0m| 918/937 [00:36<00:00, 21.59it/s]\u001b[0m\n",
      "\u001b[A%|\u001b[38;2;30;71;6m███████████████████████████████▍\u001b[0m| 921/937 [00:36<00:00, 21.94it/s]\u001b[0m\n",
      "\u001b[A%|\u001b[38;2;30;71;6m███████████████████████████████▌\u001b[0m| 924/937 [00:36<00:00, 21.71it/s]\u001b[0m\n",
      "\u001b[A%|\u001b[38;2;30;71;6m███████████████████████████████▋\u001b[0m| 927/937 [00:37<00:00, 21.69it/s]\u001b[0m\n",
      "\u001b[A%|\u001b[38;2;30;71;6m███████████████████████████████▊\u001b[0m| 930/937 [00:37<00:00, 21.06it/s]\u001b[0m\n",
      "\u001b[A%|\u001b[38;2;30;71;6m███████████████████████████████▊\u001b[0m| 933/937 [00:37<00:00, 20.90it/s]\u001b[0m\n",
      "100%|\u001b[38;2;30;71;6m████████████████████████████████\u001b[0m| 937/937 [00:37<00:00, 24.94it/s]\u001b[0m\n",
      "\u001b[32m2025-02-13 12:35:27.759\u001b[0m | \u001b[1mINFO    \u001b[0m | \u001b[36mmltrainer.trainer\u001b[0m:\u001b[36mreport\u001b[0m:\u001b[36m191\u001b[0m - \u001b[1mEpoch 1 train 0.3602 test 0.3680 metric ['0.8697']\u001b[0m\n",
      " 67%|\u001b[38;2;30;71;6m████████████████████████            \u001b[0m| 2/3 [01:14<00:37, 37.89s/it]\u001b[0m\n",
      "\u001b[A%|\u001b[38;2;30;71;6m                                          \u001b[0m| 0/937 [00:00<?, ?it/s]\u001b[0m\n",
      "\u001b[A%|\u001b[38;2;30;71;6m                                  \u001b[0m| 3/937 [00:00<00:44, 20.84it/s]\u001b[0m\n",
      "\u001b[A%|\u001b[38;2;30;71;6m▏                                 \u001b[0m| 6/937 [00:00<00:46, 20.17it/s]\u001b[0m\n",
      "\u001b[A%|\u001b[38;2;30;71;6m▎                                 \u001b[0m| 9/937 [00:00<00:45, 20.48it/s]\u001b[0m\n",
      "\u001b[A%|\u001b[38;2;30;71;6m▍                                \u001b[0m| 12/937 [00:00<00:46, 19.95it/s]\u001b[0m\n",
      "\u001b[A%|\u001b[38;2;30;71;6m▍                                \u001b[0m| 14/937 [00:00<00:46, 19.95it/s]\u001b[0m\n",
      "\u001b[A%|\u001b[38;2;30;71;6m▌                                \u001b[0m| 16/937 [00:00<00:46, 19.85it/s]\u001b[0m\n",
      "\u001b[A%|\u001b[38;2;30;71;6m▋                                \u001b[0m| 18/937 [00:00<00:48, 19.12it/s]\u001b[0m\n",
      "\u001b[A%|\u001b[38;2;30;71;6m▋                                \u001b[0m| 20/937 [00:01<00:48, 18.80it/s]\u001b[0m\n",
      "\u001b[A%|\u001b[38;2;30;71;6m▊                                \u001b[0m| 22/937 [00:01<00:48, 18.88it/s]\u001b[0m\n",
      "\u001b[A%|\u001b[38;2;30;71;6m▉                                \u001b[0m| 25/937 [00:01<00:46, 19.73it/s]\u001b[0m\n",
      "\u001b[A%|\u001b[38;2;30;71;6m▉                                \u001b[0m| 27/937 [00:01<00:47, 19.04it/s]\u001b[0m\n",
      "\u001b[A%|\u001b[38;2;30;71;6m█                                \u001b[0m| 30/937 [00:01<00:46, 19.59it/s]\u001b[0m\n",
      "\u001b[A%|\u001b[38;2;30;71;6m█▏                               \u001b[0m| 33/937 [00:01<00:44, 20.20it/s]\u001b[0m\n",
      "\u001b[A%|\u001b[38;2;30;71;6m█▎                               \u001b[0m| 36/937 [00:01<00:43, 20.75it/s]\u001b[0m\n",
      "\u001b[A%|\u001b[38;2;30;71;6m█▎                               \u001b[0m| 39/937 [00:01<00:43, 20.81it/s]\u001b[0m\n",
      "\u001b[A%|\u001b[38;2;30;71;6m█▍                               \u001b[0m| 42/937 [00:02<00:42, 21.14it/s]\u001b[0m\n",
      "\u001b[A%|\u001b[38;2;30;71;6m█▌                               \u001b[0m| 45/937 [00:02<00:41, 21.24it/s]\u001b[0m\n",
      "\u001b[A%|\u001b[38;2;30;71;6m█▋                               \u001b[0m| 48/937 [00:02<00:41, 21.30it/s]\u001b[0m\n",
      "\u001b[A%|\u001b[38;2;30;71;6m█▊                               \u001b[0m| 51/937 [00:02<00:40, 21.80it/s]\u001b[0m\n",
      "\u001b[A%|\u001b[38;2;30;71;6m█▉                               \u001b[0m| 54/937 [00:02<00:40, 21.67it/s]\u001b[0m\n",
      "\u001b[A%|\u001b[38;2;30;71;6m██                               \u001b[0m| 57/937 [00:02<00:39, 22.09it/s]\u001b[0m\n",
      "\u001b[A%|\u001b[38;2;30;71;6m██                               \u001b[0m| 60/937 [00:02<00:39, 22.37it/s]\u001b[0m\n",
      "\u001b[A%|\u001b[38;2;30;71;6m██▏                              \u001b[0m| 63/937 [00:03<00:39, 21.96it/s]\u001b[0m\n",
      "\u001b[A%|\u001b[38;2;30;71;6m██▎                              \u001b[0m| 66/937 [00:03<00:40, 21.45it/s]\u001b[0m\n",
      "\u001b[A%|\u001b[38;2;30;71;6m██▍                              \u001b[0m| 69/937 [00:03<00:41, 20.99it/s]\u001b[0m\n",
      "\u001b[A%|\u001b[38;2;30;71;6m██▌                              \u001b[0m| 72/937 [00:03<00:40, 21.57it/s]\u001b[0m\n",
      "\u001b[A%|\u001b[38;2;30;71;6m██▋                              \u001b[0m| 75/937 [00:03<00:41, 20.64it/s]\u001b[0m\n",
      "\u001b[A%|\u001b[38;2;30;71;6m██▋                              \u001b[0m| 78/937 [00:03<00:41, 20.87it/s]\u001b[0m\n",
      "\u001b[A%|\u001b[38;2;30;71;6m██▊                              \u001b[0m| 81/937 [00:03<00:41, 20.47it/s]\u001b[0m\n",
      "\u001b[A%|\u001b[38;2;30;71;6m██▉                              \u001b[0m| 84/937 [00:04<00:42, 19.99it/s]\u001b[0m\n",
      "\u001b[A%|\u001b[38;2;30;71;6m███                              \u001b[0m| 87/937 [00:04<00:42, 20.05it/s]\u001b[0m\n",
      "\u001b[A%|\u001b[38;2;30;71;6m███▏                             \u001b[0m| 90/937 [00:04<00:42, 19.75it/s]\u001b[0m\n",
      "\u001b[A%|\u001b[38;2;30;71;6m███▏                             \u001b[0m| 92/937 [00:04<00:42, 19.69it/s]\u001b[0m\n",
      "\u001b[A%|\u001b[38;2;30;71;6m███▎                             \u001b[0m| 95/937 [00:04<00:42, 19.79it/s]\u001b[0m\n",
      "\u001b[A%|\u001b[38;2;30;71;6m███▍                             \u001b[0m| 97/937 [00:04<00:42, 19.79it/s]\u001b[0m\n",
      "\u001b[A%|\u001b[38;2;30;71;6m███▍                             \u001b[0m| 99/937 [00:04<00:42, 19.82it/s]\u001b[0m\n",
      "\u001b[A%|\u001b[38;2;30;71;6m███▍                            \u001b[0m| 101/937 [00:04<00:43, 19.43it/s]\u001b[0m\n",
      "\u001b[A%|\u001b[38;2;30;71;6m███▌                            \u001b[0m| 104/937 [00:05<00:42, 19.64it/s]\u001b[0m\n",
      "\u001b[A%|\u001b[38;2;30;71;6m███▌                            \u001b[0m| 106/937 [00:05<00:43, 19.24it/s]\u001b[0m\n",
      "\u001b[A%|\u001b[38;2;30;71;6m███▋                            \u001b[0m| 108/937 [00:05<00:42, 19.38it/s]\u001b[0m\n",
      "\u001b[A%|\u001b[38;2;30;71;6m███▊                            \u001b[0m| 110/937 [00:05<00:43, 19.08it/s]\u001b[0m\n",
      "\u001b[A%|\u001b[38;2;30;71;6m███▊                            \u001b[0m| 112/937 [00:05<00:43, 19.14it/s]\u001b[0m\n",
      "\u001b[A%|\u001b[38;2;30;71;6m███▉                            \u001b[0m| 115/937 [00:05<00:40, 20.15it/s]\u001b[0m\n",
      "\u001b[A%|\u001b[38;2;30;71;6m████                            \u001b[0m| 118/937 [00:05<00:39, 20.90it/s]\u001b[0m\n",
      "\u001b[A%|\u001b[38;2;30;71;6m████▏                           \u001b[0m| 121/937 [00:05<00:38, 21.15it/s]\u001b[0m\n",
      "\u001b[A%|\u001b[38;2;30;71;6m████▏                           \u001b[0m| 124/937 [00:06<00:39, 20.75it/s]\u001b[0m\n",
      "\u001b[A%|\u001b[38;2;30;71;6m████▎                           \u001b[0m| 127/937 [00:06<00:39, 20.49it/s]\u001b[0m\n",
      "\u001b[A%|\u001b[38;2;30;71;6m████▍                           \u001b[0m| 130/937 [00:06<00:39, 20.30it/s]\u001b[0m\n",
      "\u001b[A%|\u001b[38;2;30;71;6m████▌                           \u001b[0m| 133/937 [00:06<00:39, 20.36it/s]\u001b[0m\n",
      "\u001b[A%|\u001b[38;2;30;71;6m████▋                           \u001b[0m| 136/937 [00:06<00:38, 20.67it/s]\u001b[0m\n",
      "\u001b[A%|\u001b[38;2;30;71;6m████▋                           \u001b[0m| 139/937 [00:06<00:39, 20.46it/s]\u001b[0m\n",
      "\u001b[A%|\u001b[38;2;30;71;6m████▊                           \u001b[0m| 142/937 [00:06<00:39, 20.31it/s]\u001b[0m\n",
      "\u001b[A%|\u001b[38;2;30;71;6m████▉                           \u001b[0m| 145/937 [00:07<00:38, 20.57it/s]\u001b[0m\n",
      "\u001b[A%|\u001b[38;2;30;71;6m█████                           \u001b[0m| 148/937 [00:07<00:38, 20.46it/s]\u001b[0m\n",
      "\u001b[A%|\u001b[38;2;30;71;6m█████▏                          \u001b[0m| 151/937 [00:07<00:38, 20.66it/s]\u001b[0m\n",
      "\u001b[A%|\u001b[38;2;30;71;6m█████▎                          \u001b[0m| 154/937 [00:07<00:37, 20.71it/s]\u001b[0m\n",
      "\u001b[A%|\u001b[38;2;30;71;6m█████▎                          \u001b[0m| 157/937 [00:07<00:36, 21.19it/s]\u001b[0m\n",
      "\u001b[A%|\u001b[38;2;30;71;6m█████▍                          \u001b[0m| 160/937 [00:07<00:35, 21.73it/s]\u001b[0m\n",
      "\u001b[A%|\u001b[38;2;30;71;6m█████▌                          \u001b[0m| 163/937 [00:07<00:36, 20.94it/s]\u001b[0m\n",
      "\u001b[A%|\u001b[38;2;30;71;6m█████▋                          \u001b[0m| 166/937 [00:08<00:36, 20.88it/s]\u001b[0m\n",
      "\u001b[A%|\u001b[38;2;30;71;6m█████▊                          \u001b[0m| 169/937 [00:08<00:38, 19.81it/s]\u001b[0m\n",
      "\u001b[A%|\u001b[38;2;30;71;6m█████▊                          \u001b[0m| 171/937 [00:08<00:40, 18.90it/s]\u001b[0m\n",
      "\u001b[A%|\u001b[38;2;30;71;6m█████▉                          \u001b[0m| 173/937 [00:08<00:42, 18.07it/s]\u001b[0m\n",
      "\u001b[A%|\u001b[38;2;30;71;6m█████▉                          \u001b[0m| 175/937 [00:08<00:42, 18.02it/s]\u001b[0m\n",
      "\u001b[A%|\u001b[38;2;30;71;6m██████                          \u001b[0m| 177/937 [00:08<00:41, 18.31it/s]\u001b[0m\n",
      "\u001b[A%|\u001b[38;2;30;71;6m██████▏                         \u001b[0m| 180/937 [00:08<00:38, 19.88it/s]\u001b[0m\n",
      "\u001b[A%|\u001b[38;2;30;71;6m██████▏                         \u001b[0m| 183/937 [00:09<00:36, 20.54it/s]\u001b[0m\n",
      "\u001b[A%|\u001b[38;2;30;71;6m██████▎                         \u001b[0m| 186/937 [00:09<00:36, 20.55it/s]\u001b[0m\n",
      "\u001b[A%|\u001b[38;2;30;71;6m██████▍                         \u001b[0m| 189/937 [00:09<00:36, 20.43it/s]\u001b[0m\n",
      "\u001b[A%|\u001b[38;2;30;71;6m██████▌                         \u001b[0m| 192/937 [00:09<00:37, 20.13it/s]\u001b[0m\n",
      "\u001b[A%|\u001b[38;2;30;71;6m██████▋                         \u001b[0m| 195/937 [00:09<00:37, 19.67it/s]\u001b[0m\n",
      "\u001b[A%|\u001b[38;2;30;71;6m██████▋                         \u001b[0m| 197/937 [00:09<00:37, 19.67it/s]\u001b[0m\n",
      "\u001b[A%|\u001b[38;2;30;71;6m██████▊                         \u001b[0m| 199/937 [00:09<00:38, 19.28it/s]\u001b[0m\n",
      "\u001b[A%|\u001b[38;2;30;71;6m██████▊                         \u001b[0m| 201/937 [00:09<00:39, 18.65it/s]\u001b[0m\n",
      "\u001b[A%|\u001b[38;2;30;71;6m██████▉                         \u001b[0m| 203/937 [00:10<00:38, 18.86it/s]\u001b[0m\n",
      "\u001b[A%|\u001b[38;2;30;71;6m███████                         \u001b[0m| 205/937 [00:10<00:39, 18.69it/s]\u001b[0m\n",
      "\u001b[A%|\u001b[38;2;30;71;6m███████                         \u001b[0m| 207/937 [00:10<00:38, 19.04it/s]\u001b[0m\n",
      "\u001b[A%|\u001b[38;2;30;71;6m███████▏                        \u001b[0m| 209/937 [00:10<00:38, 19.14it/s]\u001b[0m\n",
      "\u001b[A%|\u001b[38;2;30;71;6m███████▏                        \u001b[0m| 211/937 [00:10<00:39, 18.61it/s]\u001b[0m\n",
      "\u001b[A%|\u001b[38;2;30;71;6m███████▎                        \u001b[0m| 213/937 [00:10<00:39, 18.12it/s]\u001b[0m\n",
      "\u001b[A%|\u001b[38;2;30;71;6m███████▍                        \u001b[0m| 216/937 [00:10<00:37, 19.03it/s]\u001b[0m\n",
      "\u001b[A%|\u001b[38;2;30;71;6m███████▍                        \u001b[0m| 218/937 [00:10<00:39, 18.43it/s]\u001b[0m\n",
      "\u001b[A%|\u001b[38;2;30;71;6m███████▌                        \u001b[0m| 220/937 [00:10<00:38, 18.64it/s]\u001b[0m\n",
      "\u001b[A%|\u001b[38;2;30;71;6m███████▌                        \u001b[0m| 222/937 [00:11<00:39, 18.27it/s]\u001b[0m\n",
      "\u001b[A%|\u001b[38;2;30;71;6m███████▋                        \u001b[0m| 224/937 [00:11<00:39, 18.13it/s]\u001b[0m\n",
      "\u001b[A%|\u001b[38;2;30;71;6m███████▋                        \u001b[0m| 226/937 [00:11<00:38, 18.32it/s]\u001b[0m\n",
      "\u001b[A%|\u001b[38;2;30;71;6m███████▊                        \u001b[0m| 228/937 [00:11<00:39, 17.91it/s]\u001b[0m\n",
      "\u001b[A%|\u001b[38;2;30;71;6m███████▉                        \u001b[0m| 231/937 [00:11<00:37, 18.76it/s]\u001b[0m\n",
      "\u001b[A%|\u001b[38;2;30;71;6m███████▉                        \u001b[0m| 233/937 [00:11<00:37, 18.66it/s]\u001b[0m\n",
      "\u001b[A%|\u001b[38;2;30;71;6m████████                        \u001b[0m| 236/937 [00:11<00:35, 19.63it/s]\u001b[0m\n",
      "\u001b[A%|\u001b[38;2;30;71;6m████████▏                       \u001b[0m| 239/937 [00:11<00:34, 20.25it/s]\u001b[0m\n",
      "\u001b[A%|\u001b[38;2;30;71;6m████████▎                       \u001b[0m| 242/937 [00:12<00:34, 20.09it/s]\u001b[0m\n",
      "\u001b[A%|\u001b[38;2;30;71;6m████████▎                       \u001b[0m| 244/937 [00:12<00:35, 19.61it/s]\u001b[0m\n",
      "\u001b[A%|\u001b[38;2;30;71;6m████████▍                       \u001b[0m| 246/937 [00:12<00:35, 19.69it/s]\u001b[0m\n",
      "\u001b[A%|\u001b[38;2;30;71;6m████████▌                       \u001b[0m| 249/937 [00:12<00:33, 20.28it/s]\u001b[0m\n",
      "\u001b[A%|\u001b[38;2;30;71;6m████████▌                       \u001b[0m| 252/937 [00:12<00:33, 20.49it/s]\u001b[0m\n",
      "\u001b[A%|\u001b[38;2;30;71;6m████████▋                       \u001b[0m| 255/937 [00:12<00:33, 20.12it/s]\u001b[0m\n",
      "\u001b[A%|\u001b[38;2;30;71;6m████████▊                       \u001b[0m| 258/937 [00:12<00:34, 19.83it/s]\u001b[0m\n",
      "\u001b[A%|\u001b[38;2;30;71;6m████████▉                       \u001b[0m| 260/937 [00:13<00:34, 19.60it/s]\u001b[0m\n",
      "\u001b[A%|\u001b[38;2;30;71;6m████████▉                       \u001b[0m| 262/937 [00:13<00:35, 19.09it/s]\u001b[0m\n",
      "\u001b[A%|\u001b[38;2;30;71;6m█████████                       \u001b[0m| 264/937 [00:13<00:35, 18.87it/s]\u001b[0m\n",
      "\u001b[A%|\u001b[38;2;30;71;6m█████████                       \u001b[0m| 266/937 [00:13<00:35, 19.02it/s]\u001b[0m\n",
      "\u001b[A%|\u001b[38;2;30;71;6m█████████▏                      \u001b[0m| 269/937 [00:13<00:34, 19.41it/s]\u001b[0m\n",
      "\u001b[A%|\u001b[38;2;30;71;6m█████████▎                      \u001b[0m| 271/937 [00:13<00:34, 19.28it/s]\u001b[0m\n",
      "\u001b[A%|\u001b[38;2;30;71;6m█████████▎                      \u001b[0m| 273/937 [00:13<00:34, 19.16it/s]\u001b[0m\n",
      "\u001b[A%|\u001b[38;2;30;71;6m█████████▍                      \u001b[0m| 276/937 [00:13<00:34, 19.29it/s]\u001b[0m\n",
      "\u001b[A%|\u001b[38;2;30;71;6m█████████▍                      \u001b[0m| 278/937 [00:13<00:35, 18.70it/s]\u001b[0m\n",
      "\u001b[A%|\u001b[38;2;30;71;6m█████████▌                      \u001b[0m| 280/937 [00:14<00:35, 18.74it/s]\u001b[0m\n",
      "\u001b[A%|\u001b[38;2;30;71;6m█████████▋                      \u001b[0m| 282/937 [00:14<00:35, 18.68it/s]\u001b[0m\n",
      "\u001b[A%|\u001b[38;2;30;71;6m█████████▋                      \u001b[0m| 284/937 [00:14<00:36, 18.08it/s]\u001b[0m\n",
      "\u001b[A%|\u001b[38;2;30;71;6m█████████▊                      \u001b[0m| 286/937 [00:14<00:35, 18.11it/s]\u001b[0m\n",
      "\u001b[A%|\u001b[38;2;30;71;6m█████████▊                      \u001b[0m| 288/937 [00:14<00:35, 18.04it/s]\u001b[0m\n",
      "\u001b[A%|\u001b[38;2;30;71;6m█████████▉                      \u001b[0m| 290/937 [00:14<00:35, 18.30it/s]\u001b[0m\n",
      "\u001b[A%|\u001b[38;2;30;71;6m█████████▉                      \u001b[0m| 292/937 [00:14<00:34, 18.63it/s]\u001b[0m\n",
      "\u001b[A%|\u001b[38;2;30;71;6m██████████                      \u001b[0m| 294/937 [00:14<00:35, 18.23it/s]\u001b[0m\n",
      "\u001b[A%|\u001b[38;2;30;71;6m██████████                      \u001b[0m| 296/937 [00:14<00:35, 18.00it/s]\u001b[0m\n",
      "\u001b[A%|\u001b[38;2;30;71;6m██████████▏                     \u001b[0m| 298/937 [00:15<00:35, 17.91it/s]\u001b[0m\n",
      "\u001b[A%|\u001b[38;2;30;71;6m██████████▏                     \u001b[0m| 300/937 [00:15<00:35, 17.83it/s]\u001b[0m\n",
      "\u001b[A%|\u001b[38;2;30;71;6m██████████▎                     \u001b[0m| 302/937 [00:15<00:35, 18.11it/s]\u001b[0m\n",
      "\u001b[A%|\u001b[38;2;30;71;6m██████████▍                     \u001b[0m| 304/937 [00:15<00:35, 18.07it/s]\u001b[0m\n",
      "\u001b[A%|\u001b[38;2;30;71;6m██████████▍                     \u001b[0m| 306/937 [00:15<00:34, 18.28it/s]\u001b[0m\n",
      "\u001b[A%|\u001b[38;2;30;71;6m██████████▌                     \u001b[0m| 308/937 [00:15<00:34, 18.27it/s]\u001b[0m\n",
      "\u001b[A%|\u001b[38;2;30;71;6m██████████▌                     \u001b[0m| 310/937 [00:15<00:34, 18.15it/s]\u001b[0m\n",
      "\u001b[A%|\u001b[38;2;30;71;6m██████████▋                     \u001b[0m| 312/937 [00:15<00:34, 18.26it/s]\u001b[0m\n",
      "\u001b[A%|\u001b[38;2;30;71;6m██████████▋                     \u001b[0m| 314/937 [00:15<00:34, 18.02it/s]\u001b[0m\n",
      "\u001b[A%|\u001b[38;2;30;71;6m██████████▊                     \u001b[0m| 317/937 [00:16<00:32, 18.80it/s]\u001b[0m\n",
      "\u001b[A%|\u001b[38;2;30;71;6m██████████▉                     \u001b[0m| 319/937 [00:16<00:33, 18.31it/s]\u001b[0m\n",
      "\u001b[A%|\u001b[38;2;30;71;6m██████████▉                     \u001b[0m| 321/937 [00:16<00:33, 18.50it/s]\u001b[0m\n",
      "\u001b[A%|\u001b[38;2;30;71;6m███████████                     \u001b[0m| 323/937 [00:16<00:33, 18.52it/s]\u001b[0m\n",
      "\u001b[A%|\u001b[38;2;30;71;6m███████████                     \u001b[0m| 325/937 [00:16<00:32, 18.55it/s]\u001b[0m\n",
      "\u001b[A%|\u001b[38;2;30;71;6m███████████▏                    \u001b[0m| 327/937 [00:16<00:33, 18.45it/s]\u001b[0m\n",
      "\u001b[A%|\u001b[38;2;30;71;6m███████████▏                    \u001b[0m| 329/937 [00:16<00:34, 17.49it/s]\u001b[0m\n",
      "\u001b[A%|\u001b[38;2;30;71;6m███████████▎                    \u001b[0m| 331/937 [00:16<00:34, 17.45it/s]\u001b[0m\n",
      "\u001b[A%|\u001b[38;2;30;71;6m███████████▎                    \u001b[0m| 333/937 [00:17<00:35, 16.94it/s]\u001b[0m\n",
      "\u001b[A%|\u001b[38;2;30;71;6m███████████▍                    \u001b[0m| 335/937 [00:17<00:33, 17.75it/s]\u001b[0m\n",
      "\u001b[A%|\u001b[38;2;30;71;6m███████████▌                    \u001b[0m| 337/937 [00:17<00:34, 17.27it/s]\u001b[0m\n",
      "\u001b[A%|\u001b[38;2;30;71;6m███████████▌                    \u001b[0m| 339/937 [00:17<00:35, 16.70it/s]\u001b[0m\n",
      "\u001b[A%|\u001b[38;2;30;71;6m███████████▋                    \u001b[0m| 341/937 [00:17<00:34, 17.22it/s]\u001b[0m\n",
      "\u001b[A%|\u001b[38;2;30;71;6m███████████▋                    \u001b[0m| 343/937 [00:17<00:34, 17.30it/s]\u001b[0m\n",
      "\u001b[A%|\u001b[38;2;30;71;6m███████████▊                    \u001b[0m| 345/937 [00:17<00:33, 17.68it/s]\u001b[0m\n",
      "\u001b[A%|\u001b[38;2;30;71;6m███████████▉                    \u001b[0m| 348/937 [00:17<00:31, 18.58it/s]\u001b[0m\n",
      "\u001b[A%|\u001b[38;2;30;71;6m███████████▉                    \u001b[0m| 350/937 [00:17<00:31, 18.41it/s]\u001b[0m\n",
      "\u001b[A%|\u001b[38;2;30;71;6m████████████                    \u001b[0m| 352/937 [00:18<00:32, 18.23it/s]\u001b[0m\n",
      "\u001b[A%|\u001b[38;2;30;71;6m████████████                    \u001b[0m| 355/937 [00:18<00:30, 19.36it/s]\u001b[0m\n",
      "\u001b[A%|\u001b[38;2;30;71;6m████████████▏                   \u001b[0m| 357/937 [00:18<00:30, 19.19it/s]\u001b[0m\n",
      "\u001b[A%|\u001b[38;2;30;71;6m████████████▎                   \u001b[0m| 360/937 [00:18<00:30, 18.95it/s]\u001b[0m\n",
      "\u001b[A%|\u001b[38;2;30;71;6m████████████▎                   \u001b[0m| 362/937 [00:18<00:42, 13.45it/s]\u001b[0m\n",
      "\u001b[A%|\u001b[38;2;30;71;6m████████████▍                   \u001b[0m| 364/937 [00:18<00:40, 14.25it/s]\u001b[0m\n",
      "\u001b[A%|\u001b[38;2;30;71;6m████████████▍                   \u001b[0m| 366/937 [00:18<00:37, 15.06it/s]\u001b[0m\n",
      "\u001b[A%|\u001b[38;2;30;71;6m████████████▌                   \u001b[0m| 368/937 [00:19<00:36, 15.47it/s]\u001b[0m\n",
      "\u001b[A%|\u001b[38;2;30;71;6m████████████▋                   \u001b[0m| 370/937 [00:19<00:35, 16.00it/s]\u001b[0m\n",
      "\u001b[A%|\u001b[38;2;30;71;6m████████████▋                   \u001b[0m| 372/937 [00:19<00:34, 16.44it/s]\u001b[0m\n",
      "\u001b[A%|\u001b[38;2;30;71;6m████████████▊                   \u001b[0m| 374/937 [00:19<00:33, 16.79it/s]\u001b[0m\n",
      "\u001b[A%|\u001b[38;2;30;71;6m████████████▊                   \u001b[0m| 376/937 [00:19<00:32, 17.08it/s]\u001b[0m\n",
      "\u001b[A%|\u001b[38;2;30;71;6m████████████▉                   \u001b[0m| 378/937 [00:19<00:32, 17.29it/s]\u001b[0m\n",
      "\u001b[A%|\u001b[38;2;30;71;6m████████████▉                   \u001b[0m| 380/937 [00:19<00:32, 16.92it/s]\u001b[0m\n",
      "\u001b[A%|\u001b[38;2;30;71;6m█████████████                   \u001b[0m| 382/937 [00:19<00:31, 17.50it/s]\u001b[0m\n",
      "\u001b[A%|\u001b[38;2;30;71;6m█████████████                   \u001b[0m| 384/937 [00:20<00:31, 17.32it/s]\u001b[0m\n",
      "\u001b[A%|\u001b[38;2;30;71;6m█████████████▏                  \u001b[0m| 386/937 [00:20<00:31, 17.41it/s]\u001b[0m\n",
      "\u001b[A%|\u001b[38;2;30;71;6m█████████████▎                  \u001b[0m| 388/937 [00:20<00:31, 17.32it/s]\u001b[0m\n",
      "\u001b[A%|\u001b[38;2;30;71;6m█████████████▎                  \u001b[0m| 390/937 [00:20<00:31, 17.28it/s]\u001b[0m\n",
      "\u001b[A%|\u001b[38;2;30;71;6m█████████████▍                  \u001b[0m| 392/937 [00:20<00:30, 17.66it/s]\u001b[0m\n",
      "\u001b[A%|\u001b[38;2;30;71;6m█████████████▍                  \u001b[0m| 394/937 [00:20<00:29, 18.12it/s]\u001b[0m\n",
      "\u001b[A%|\u001b[38;2;30;71;6m█████████████▌                  \u001b[0m| 396/937 [00:20<00:30, 18.03it/s]\u001b[0m\n",
      "\u001b[A%|\u001b[38;2;30;71;6m█████████████▌                  \u001b[0m| 398/937 [00:20<00:29, 18.00it/s]\u001b[0m\n",
      "\u001b[A%|\u001b[38;2;30;71;6m█████████████▋                  \u001b[0m| 400/937 [00:20<00:30, 17.65it/s]\u001b[0m\n",
      "\u001b[A%|\u001b[38;2;30;71;6m█████████████▋                  \u001b[0m| 402/937 [00:21<00:30, 17.34it/s]\u001b[0m\n",
      "\u001b[A%|\u001b[38;2;30;71;6m█████████████▊                  \u001b[0m| 404/937 [00:21<00:31, 17.03it/s]\u001b[0m\n",
      "\u001b[A%|\u001b[38;2;30;71;6m█████████████▊                  \u001b[0m| 406/937 [00:21<00:30, 17.46it/s]\u001b[0m\n",
      "\u001b[A%|\u001b[38;2;30;71;6m█████████████▉                  \u001b[0m| 408/937 [00:21<00:29, 18.00it/s]\u001b[0m\n",
      "\u001b[A%|\u001b[38;2;30;71;6m██████████████                  \u001b[0m| 410/937 [00:21<00:29, 17.71it/s]\u001b[0m\n",
      "\u001b[A%|\u001b[38;2;30;71;6m██████████████                  \u001b[0m| 412/937 [00:21<00:29, 17.71it/s]\u001b[0m\n",
      "\u001b[A%|\u001b[38;2;30;71;6m██████████████▏                 \u001b[0m| 414/937 [00:21<00:29, 17.95it/s]\u001b[0m\n",
      "\u001b[A%|\u001b[38;2;30;71;6m██████████████▏                 \u001b[0m| 416/937 [00:21<00:29, 17.55it/s]\u001b[0m\n",
      "\u001b[A%|\u001b[38;2;30;71;6m██████████████▎                 \u001b[0m| 418/937 [00:21<00:29, 17.78it/s]\u001b[0m\n",
      "\u001b[A%|\u001b[38;2;30;71;6m██████████████▎                 \u001b[0m| 420/937 [00:22<00:28, 17.90it/s]\u001b[0m\n",
      "\u001b[A%|\u001b[38;2;30;71;6m██████████████▍                 \u001b[0m| 422/937 [00:22<00:28, 18.26it/s]\u001b[0m\n",
      "\u001b[A%|\u001b[38;2;30;71;6m██████████████▍                 \u001b[0m| 424/937 [00:22<00:27, 18.50it/s]\u001b[0m\n",
      "\u001b[A%|\u001b[38;2;30;71;6m██████████████▌                 \u001b[0m| 426/937 [00:22<00:27, 18.88it/s]\u001b[0m\n",
      "\u001b[A%|\u001b[38;2;30;71;6m██████████████▌                 \u001b[0m| 428/937 [00:22<00:28, 18.15it/s]\u001b[0m\n",
      "\u001b[A%|\u001b[38;2;30;71;6m██████████████▋                 \u001b[0m| 431/937 [00:22<00:27, 18.40it/s]\u001b[0m\n",
      "\u001b[A%|\u001b[38;2;30;71;6m██████████████▊                 \u001b[0m| 433/937 [00:22<00:26, 18.79it/s]\u001b[0m\n",
      "\u001b[A%|\u001b[38;2;30;71;6m██████████████▊                 \u001b[0m| 435/937 [00:22<00:27, 18.41it/s]\u001b[0m\n",
      "\u001b[A%|\u001b[38;2;30;71;6m██████████████▉                 \u001b[0m| 437/937 [00:22<00:27, 18.46it/s]\u001b[0m\n",
      "\u001b[A%|\u001b[38;2;30;71;6m██████████████▉                 \u001b[0m| 439/937 [00:23<00:26, 18.85it/s]\u001b[0m\n",
      "\u001b[A%|\u001b[38;2;30;71;6m███████████████                 \u001b[0m| 442/937 [00:23<00:24, 20.33it/s]\u001b[0m\n",
      "\u001b[A%|\u001b[38;2;30;71;6m███████████████▏                \u001b[0m| 445/937 [00:23<00:23, 20.60it/s]\u001b[0m\n",
      "\u001b[A%|\u001b[38;2;30;71;6m███████████████▎                \u001b[0m| 448/937 [00:23<00:23, 20.57it/s]\u001b[0m\n",
      "\u001b[A%|\u001b[38;2;30;71;6m███████████████▍                \u001b[0m| 451/937 [00:23<00:24, 19.93it/s]\u001b[0m\n",
      "\u001b[A%|\u001b[38;2;30;71;6m███████████████▍                \u001b[0m| 453/937 [00:23<00:24, 19.73it/s]\u001b[0m\n",
      "\u001b[A%|\u001b[38;2;30;71;6m███████████████▌                \u001b[0m| 455/937 [00:23<00:24, 19.79it/s]\u001b[0m\n",
      "\u001b[A%|\u001b[38;2;30;71;6m███████████████▌                \u001b[0m| 457/937 [00:23<00:25, 19.10it/s]\u001b[0m\n",
      "\u001b[A%|\u001b[38;2;30;71;6m███████████████▋                \u001b[0m| 459/937 [00:24<00:25, 18.82it/s]\u001b[0m\n",
      "\u001b[A%|\u001b[38;2;30;71;6m███████████████▋                \u001b[0m| 461/937 [00:24<00:24, 19.06it/s]\u001b[0m\n",
      "\u001b[A%|\u001b[38;2;30;71;6m███████████████▊                \u001b[0m| 463/937 [00:24<00:27, 17.47it/s]\u001b[0m\n",
      "\u001b[A%|\u001b[38;2;30;71;6m███████████████▉                \u001b[0m| 465/937 [00:24<00:26, 18.04it/s]\u001b[0m\n",
      "\u001b[A%|\u001b[38;2;30;71;6m███████████████▉                \u001b[0m| 467/937 [00:24<00:27, 17.03it/s]\u001b[0m\n",
      "\u001b[A%|\u001b[38;2;30;71;6m████████████████                \u001b[0m| 469/937 [00:24<00:27, 16.72it/s]\u001b[0m\n",
      "\u001b[A%|\u001b[38;2;30;71;6m████████████████                \u001b[0m| 471/937 [00:24<00:27, 17.14it/s]\u001b[0m\n",
      "\u001b[A%|\u001b[38;2;30;71;6m████████████████▏               \u001b[0m| 473/937 [00:24<00:25, 17.89it/s]\u001b[0m\n",
      "\u001b[A%|\u001b[38;2;30;71;6m████████████████▎               \u001b[0m| 476/937 [00:25<00:24, 18.66it/s]\u001b[0m\n",
      "\u001b[A%|\u001b[38;2;30;71;6m████████████████▎               \u001b[0m| 478/937 [00:25<00:24, 18.53it/s]\u001b[0m\n",
      "\u001b[A%|\u001b[38;2;30;71;6m████████████████▍               \u001b[0m| 480/937 [00:25<00:24, 18.44it/s]\u001b[0m\n",
      "\u001b[A%|\u001b[38;2;30;71;6m████████████████▍               \u001b[0m| 482/937 [00:25<00:24, 18.33it/s]\u001b[0m\n",
      "\u001b[A%|\u001b[38;2;30;71;6m████████████████▌               \u001b[0m| 485/937 [00:25<00:24, 18.69it/s]\u001b[0m\n",
      "\u001b[A%|\u001b[38;2;30;71;6m████████████████▋               \u001b[0m| 487/937 [00:25<00:23, 18.78it/s]\u001b[0m\n",
      "\u001b[A%|\u001b[38;2;30;71;6m████████████████▋               \u001b[0m| 489/937 [00:25<00:24, 18.42it/s]\u001b[0m\n",
      "\u001b[A%|\u001b[38;2;30;71;6m████████████████▊               \u001b[0m| 491/937 [00:25<00:24, 18.51it/s]\u001b[0m\n",
      "\u001b[A%|\u001b[38;2;30;71;6m████████████████▊               \u001b[0m| 493/937 [00:25<00:24, 18.50it/s]\u001b[0m\n",
      "\u001b[A%|\u001b[38;2;30;71;6m████████████████▉               \u001b[0m| 495/937 [00:26<00:24, 17.92it/s]\u001b[0m\n",
      "\u001b[A%|\u001b[38;2;30;71;6m████████████████▉               \u001b[0m| 497/937 [00:26<00:24, 18.00it/s]\u001b[0m\n",
      "\u001b[A%|\u001b[38;2;30;71;6m█████████████████               \u001b[0m| 500/937 [00:26<00:23, 18.82it/s]\u001b[0m\n",
      "\u001b[A%|\u001b[38;2;30;71;6m█████████████████▏              \u001b[0m| 502/937 [00:26<00:23, 18.79it/s]\u001b[0m\n",
      "\u001b[A%|\u001b[38;2;30;71;6m█████████████████▏              \u001b[0m| 504/937 [00:26<00:22, 18.86it/s]\u001b[0m\n",
      "\u001b[A%|\u001b[38;2;30;71;6m█████████████████▎              \u001b[0m| 506/937 [00:26<00:22, 19.07it/s]\u001b[0m\n",
      "\u001b[A%|\u001b[38;2;30;71;6m█████████████████▎              \u001b[0m| 508/937 [00:26<00:36, 11.76it/s]\u001b[0m\n",
      "\u001b[A%|\u001b[38;2;30;71;6m█████████████████▍              \u001b[0m| 511/937 [00:27<00:30, 14.06it/s]\u001b[0m\n",
      "\u001b[A%|\u001b[38;2;30;71;6m█████████████████▌              \u001b[0m| 513/937 [00:27<00:27, 15.22it/s]\u001b[0m\n",
      "\u001b[A%|\u001b[38;2;30;71;6m█████████████████▌              \u001b[0m| 515/937 [00:27<00:25, 16.29it/s]\u001b[0m\n",
      "\u001b[A%|\u001b[38;2;30;71;6m█████████████████▋              \u001b[0m| 517/937 [00:27<00:25, 16.22it/s]\u001b[0m\n",
      "\u001b[A%|\u001b[38;2;30;71;6m█████████████████▋              \u001b[0m| 519/937 [00:27<00:24, 16.88it/s]\u001b[0m\n",
      "\u001b[A%|\u001b[38;2;30;71;6m█████████████████▊              \u001b[0m| 521/937 [00:27<00:24, 16.87it/s]\u001b[0m\n",
      "\u001b[A%|\u001b[38;2;30;71;6m█████████████████▊              \u001b[0m| 523/937 [00:27<00:23, 17.48it/s]\u001b[0m\n",
      "\u001b[A%|\u001b[38;2;30;71;6m█████████████████▉              \u001b[0m| 525/937 [00:27<00:23, 17.59it/s]\u001b[0m\n",
      "\u001b[A%|\u001b[38;2;30;71;6m█████████████████▉              \u001b[0m| 527/937 [00:27<00:23, 17.73it/s]\u001b[0m\n",
      "\u001b[A%|\u001b[38;2;30;71;6m██████████████████              \u001b[0m| 530/937 [00:28<00:22, 18.42it/s]\u001b[0m\n",
      "\u001b[A%|\u001b[38;2;30;71;6m██████████████████▏             \u001b[0m| 532/937 [00:28<00:21, 18.78it/s]\u001b[0m\n",
      "\u001b[A%|\u001b[38;2;30;71;6m██████████████████▏             \u001b[0m| 534/937 [00:28<00:21, 18.81it/s]\u001b[0m\n",
      "\u001b[A%|\u001b[38;2;30;71;6m██████████████████▎             \u001b[0m| 536/937 [00:28<00:21, 18.98it/s]\u001b[0m\n",
      "\u001b[A%|\u001b[38;2;30;71;6m██████████████████▍             \u001b[0m| 539/937 [00:28<00:20, 19.71it/s]\u001b[0m\n",
      "\u001b[A%|\u001b[38;2;30;71;6m██████████████████▍             \u001b[0m| 541/937 [00:28<00:20, 18.92it/s]\u001b[0m\n",
      "\u001b[A%|\u001b[38;2;30;71;6m██████████████████▌             \u001b[0m| 543/937 [00:28<00:21, 18.25it/s]\u001b[0m\n",
      "\u001b[A%|\u001b[38;2;30;71;6m██████████████████▌             \u001b[0m| 545/937 [00:28<00:21, 18.17it/s]\u001b[0m\n",
      "\u001b[A%|\u001b[38;2;30;71;6m██████████████████▋             \u001b[0m| 547/937 [00:29<00:21, 18.22it/s]\u001b[0m\n",
      "\u001b[A%|\u001b[38;2;30;71;6m██████████████████▋             \u001b[0m| 549/937 [00:29<00:21, 18.20it/s]\u001b[0m\n",
      "\u001b[A%|\u001b[38;2;30;71;6m██████████████████▊             \u001b[0m| 551/937 [00:29<00:21, 18.18it/s]\u001b[0m\n",
      "\u001b[A%|\u001b[38;2;30;71;6m██████████████████▉             \u001b[0m| 553/937 [00:29<00:21, 18.08it/s]\u001b[0m\n",
      "\u001b[A%|\u001b[38;2;30;71;6m██████████████████▉             \u001b[0m| 555/937 [00:29<00:20, 18.24it/s]\u001b[0m\n",
      "\u001b[A%|\u001b[38;2;30;71;6m███████████████████             \u001b[0m| 557/937 [00:29<00:20, 18.41it/s]\u001b[0m\n",
      "\u001b[A%|\u001b[38;2;30;71;6m███████████████████             \u001b[0m| 559/937 [00:29<00:20, 18.10it/s]\u001b[0m\n",
      "\u001b[A%|\u001b[38;2;30;71;6m███████████████████▏            \u001b[0m| 561/937 [00:29<00:21, 17.80it/s]\u001b[0m\n",
      "\u001b[A%|\u001b[38;2;30;71;6m███████████████████▏            \u001b[0m| 563/937 [00:29<00:21, 17.81it/s]\u001b[0m\n",
      "\u001b[A%|\u001b[38;2;30;71;6m███████████████████▎            \u001b[0m| 565/937 [00:30<00:20, 17.83it/s]\u001b[0m\n",
      "\u001b[A%|\u001b[38;2;30;71;6m███████████████████▎            \u001b[0m| 567/937 [00:30<00:20, 17.89it/s]\u001b[0m\n",
      "\u001b[A%|\u001b[38;2;30;71;6m███████████████████▍            \u001b[0m| 569/937 [00:30<00:20, 17.63it/s]\u001b[0m\n",
      "\u001b[A%|\u001b[38;2;30;71;6m███████████████████▌            \u001b[0m| 571/937 [00:30<00:20, 17.66it/s]\u001b[0m\n",
      "\u001b[A%|\u001b[38;2;30;71;6m███████████████████▌            \u001b[0m| 573/937 [00:30<00:21, 17.24it/s]\u001b[0m\n",
      "\u001b[A%|\u001b[38;2;30;71;6m███████████████████▋            \u001b[0m| 575/937 [00:30<00:20, 17.29it/s]\u001b[0m\n",
      "\u001b[A%|\u001b[38;2;30;71;6m███████████████████▋            \u001b[0m| 577/937 [00:30<00:20, 17.52it/s]\u001b[0m\n",
      "\u001b[A%|\u001b[38;2;30;71;6m███████████████████▊            \u001b[0m| 579/937 [00:30<00:20, 17.30it/s]\u001b[0m\n",
      "\u001b[A%|\u001b[38;2;30;71;6m███████████████████▊            \u001b[0m| 581/937 [00:30<00:21, 16.95it/s]\u001b[0m\n",
      "\u001b[A%|\u001b[38;2;30;71;6m███████████████████▉            \u001b[0m| 583/937 [00:31<00:20, 17.50it/s]\u001b[0m\n",
      "\u001b[A%|\u001b[38;2;30;71;6m███████████████████▉            \u001b[0m| 585/937 [00:31<00:20, 17.58it/s]\u001b[0m\n",
      "\u001b[A%|\u001b[38;2;30;71;6m████████████████████            \u001b[0m| 587/937 [00:31<00:20, 17.36it/s]\u001b[0m\n",
      "\u001b[A%|\u001b[38;2;30;71;6m████████████████████            \u001b[0m| 589/937 [00:31<00:20, 17.09it/s]\u001b[0m\n",
      "\u001b[A%|\u001b[38;2;30;71;6m████████████████████▏           \u001b[0m| 591/937 [00:31<00:28, 12.31it/s]\u001b[0m\n",
      "\u001b[A%|\u001b[38;2;30;71;6m████████████████████▎           \u001b[0m| 593/937 [00:31<00:25, 13.74it/s]\u001b[0m\n",
      "\u001b[A%|\u001b[38;2;30;71;6m████████████████████▎           \u001b[0m| 596/937 [00:31<00:21, 15.86it/s]\u001b[0m\n",
      "\u001b[A%|\u001b[38;2;30;71;6m████████████████████▍           \u001b[0m| 598/937 [00:32<00:20, 16.58it/s]\u001b[0m\n",
      "\u001b[A%|\u001b[38;2;30;71;6m████████████████████▍           \u001b[0m| 600/937 [00:32<00:19, 17.11it/s]\u001b[0m\n",
      "\u001b[A%|\u001b[38;2;30;71;6m████████████████████▌           \u001b[0m| 602/937 [00:32<00:19, 17.38it/s]\u001b[0m\n",
      "\u001b[A%|\u001b[38;2;30;71;6m████████████████████▋           \u001b[0m| 605/937 [00:32<00:17, 18.45it/s]\u001b[0m\n",
      "\u001b[A%|\u001b[38;2;30;71;6m████████████████████▋           \u001b[0m| 607/937 [00:32<00:17, 18.60it/s]\u001b[0m\n",
      "\u001b[A%|\u001b[38;2;30;71;6m████████████████████▊           \u001b[0m| 609/937 [00:32<00:17, 18.73it/s]\u001b[0m\n",
      "\u001b[A%|\u001b[38;2;30;71;6m████████████████████▊           \u001b[0m| 611/937 [00:32<00:17, 18.57it/s]\u001b[0m\n",
      "\u001b[A%|\u001b[38;2;30;71;6m████████████████████▉           \u001b[0m| 613/937 [00:32<00:17, 18.44it/s]\u001b[0m\n",
      "\u001b[A%|\u001b[38;2;30;71;6m█████████████████████           \u001b[0m| 615/937 [00:32<00:17, 18.61it/s]\u001b[0m\n",
      "\u001b[A%|\u001b[38;2;30;71;6m█████████████████████           \u001b[0m| 617/937 [00:33<00:17, 18.74it/s]\u001b[0m\n",
      "\u001b[A%|\u001b[38;2;30;71;6m█████████████████████▏          \u001b[0m| 619/937 [00:33<00:17, 18.58it/s]\u001b[0m\n",
      "\u001b[A%|\u001b[38;2;30;71;6m█████████████████████▏          \u001b[0m| 621/937 [00:33<00:17, 18.43it/s]\u001b[0m\n",
      "\u001b[A%|\u001b[38;2;30;71;6m█████████████████████▎          \u001b[0m| 623/937 [00:33<00:16, 18.87it/s]\u001b[0m\n",
      "\u001b[A%|\u001b[38;2;30;71;6m█████████████████████▎          \u001b[0m| 625/937 [00:33<00:17, 18.04it/s]\u001b[0m\n",
      "\u001b[A%|\u001b[38;2;30;71;6m█████████████████████▍          \u001b[0m| 627/937 [00:33<00:17, 18.23it/s]\u001b[0m\n",
      "\u001b[A%|\u001b[38;2;30;71;6m█████████████████████▍          \u001b[0m| 629/937 [00:33<00:16, 18.22it/s]\u001b[0m\n",
      "\u001b[A%|\u001b[38;2;30;71;6m█████████████████████▌          \u001b[0m| 631/937 [00:33<00:16, 18.50it/s]\u001b[0m\n",
      "\u001b[A%|\u001b[38;2;30;71;6m█████████████████████▌          \u001b[0m| 633/937 [00:33<00:16, 18.53it/s]\u001b[0m\n",
      "\u001b[A%|\u001b[38;2;30;71;6m█████████████████████▋          \u001b[0m| 635/937 [00:34<00:16, 18.52it/s]\u001b[0m\n",
      "\u001b[A%|\u001b[38;2;30;71;6m█████████████████████▊          \u001b[0m| 637/937 [00:34<00:16, 18.64it/s]\u001b[0m\n",
      "\u001b[A%|\u001b[38;2;30;71;6m█████████████████████▊          \u001b[0m| 639/937 [00:34<00:16, 18.26it/s]\u001b[0m\n",
      "\u001b[A%|\u001b[38;2;30;71;6m█████████████████████▉          \u001b[0m| 641/937 [00:34<00:16, 18.03it/s]\u001b[0m\n",
      "\u001b[A%|\u001b[38;2;30;71;6m█████████████████████▉          \u001b[0m| 643/937 [00:34<00:16, 18.07it/s]\u001b[0m\n",
      "\u001b[A%|\u001b[38;2;30;71;6m██████████████████████          \u001b[0m| 645/937 [00:34<00:16, 17.71it/s]\u001b[0m\n",
      "\u001b[A%|\u001b[38;2;30;71;6m██████████████████████          \u001b[0m| 647/937 [00:34<00:16, 17.22it/s]\u001b[0m\n",
      "\u001b[A%|\u001b[38;2;30;71;6m██████████████████████▏         \u001b[0m| 649/937 [00:34<00:16, 17.32it/s]\u001b[0m\n",
      "\u001b[A%|\u001b[38;2;30;71;6m██████████████████████▏         \u001b[0m| 651/937 [00:34<00:16, 17.57it/s]\u001b[0m\n",
      "\u001b[A%|\u001b[38;2;30;71;6m██████████████████████▎         \u001b[0m| 653/937 [00:35<00:16, 16.86it/s]\u001b[0m\n",
      "\u001b[A%|\u001b[38;2;30;71;6m██████████████████████▎         \u001b[0m| 655/937 [00:35<00:16, 16.80it/s]\u001b[0m\n",
      "\u001b[A%|\u001b[38;2;30;71;6m██████████████████████▍         \u001b[0m| 657/937 [00:35<00:17, 16.34it/s]\u001b[0m\n",
      "\u001b[A%|\u001b[38;2;30;71;6m██████████████████████▌         \u001b[0m| 659/937 [00:35<00:16, 16.86it/s]\u001b[0m\n",
      "\u001b[A%|\u001b[38;2;30;71;6m██████████████████████▌         \u001b[0m| 661/937 [00:35<00:16, 17.13it/s]\u001b[0m\n",
      "\u001b[A%|\u001b[38;2;30;71;6m██████████████████████▋         \u001b[0m| 663/937 [00:35<00:16, 17.09it/s]\u001b[0m\n",
      "\u001b[A%|\u001b[38;2;30;71;6m██████████████████████▋         \u001b[0m| 665/937 [00:35<00:15, 17.23it/s]\u001b[0m\n",
      "\u001b[A%|\u001b[38;2;30;71;6m██████████████████████▊         \u001b[0m| 667/937 [00:35<00:15, 17.66it/s]\u001b[0m\n",
      "\u001b[A%|\u001b[38;2;30;71;6m██████████████████████▊         \u001b[0m| 669/937 [00:36<00:15, 17.83it/s]\u001b[0m\n",
      "\u001b[A%|\u001b[38;2;30;71;6m██████████████████████▉         \u001b[0m| 671/937 [00:36<00:14, 17.81it/s]\u001b[0m\n",
      "\u001b[A%|\u001b[38;2;30;71;6m██████████████████████▉         \u001b[0m| 673/937 [00:36<00:14, 18.05it/s]\u001b[0m\n",
      "\u001b[A%|\u001b[38;2;30;71;6m███████████████████████         \u001b[0m| 675/937 [00:36<00:14, 17.90it/s]\u001b[0m\n",
      "\u001b[A%|\u001b[38;2;30;71;6m███████████████████████         \u001b[0m| 677/937 [00:36<00:14, 17.65it/s]\u001b[0m\n",
      "\u001b[A%|\u001b[38;2;30;71;6m███████████████████████▏        \u001b[0m| 679/937 [00:36<00:14, 17.85it/s]\u001b[0m\n",
      "\u001b[A%|\u001b[38;2;30;71;6m███████████████████████▎        \u001b[0m| 681/937 [00:36<00:14, 17.36it/s]\u001b[0m\n",
      "\u001b[A%|\u001b[38;2;30;71;6m███████████████████████▎        \u001b[0m| 683/937 [00:36<00:14, 17.44it/s]\u001b[0m\n",
      "\u001b[A%|\u001b[38;2;30;71;6m███████████████████████▍        \u001b[0m| 685/937 [00:36<00:14, 17.10it/s]\u001b[0m\n",
      "\u001b[A%|\u001b[38;2;30;71;6m███████████████████████▍        \u001b[0m| 687/937 [00:37<00:14, 17.55it/s]\u001b[0m\n",
      "\u001b[A%|\u001b[38;2;30;71;6m███████████████████████▌        \u001b[0m| 689/937 [00:37<00:13, 17.80it/s]\u001b[0m\n",
      "\u001b[A%|\u001b[38;2;30;71;6m███████████████████████▌        \u001b[0m| 691/937 [00:37<00:13, 18.12it/s]\u001b[0m\n",
      "\u001b[A%|\u001b[38;2;30;71;6m███████████████████████▋        \u001b[0m| 693/937 [00:37<00:13, 18.13it/s]\u001b[0m\n",
      "\u001b[A%|\u001b[38;2;30;71;6m███████████████████████▋        \u001b[0m| 695/937 [00:37<00:13, 17.96it/s]\u001b[0m\n",
      "\u001b[A%|\u001b[38;2;30;71;6m███████████████████████▊        \u001b[0m| 697/937 [00:37<00:13, 17.63it/s]\u001b[0m\n",
      "\u001b[A%|\u001b[38;2;30;71;6m███████████████████████▊        \u001b[0m| 699/937 [00:37<00:13, 17.42it/s]\u001b[0m\n",
      "\u001b[A%|\u001b[38;2;30;71;6m███████████████████████▉        \u001b[0m| 701/937 [00:37<00:13, 17.57it/s]\u001b[0m\n",
      "\u001b[A%|\u001b[38;2;30;71;6m████████████████████████        \u001b[0m| 703/937 [00:37<00:13, 17.82it/s]\u001b[0m\n",
      "\u001b[A%|\u001b[38;2;30;71;6m████████████████████████        \u001b[0m| 705/937 [00:38<00:12, 17.94it/s]\u001b[0m\n",
      "\u001b[A%|\u001b[38;2;30;71;6m████████████████████████▏       \u001b[0m| 707/937 [00:38<00:12, 18.26it/s]\u001b[0m\n",
      "\u001b[A%|\u001b[38;2;30;71;6m████████████████████████▏       \u001b[0m| 709/937 [00:38<00:12, 18.39it/s]\u001b[0m\n",
      "\u001b[A%|\u001b[38;2;30;71;6m████████████████████████▎       \u001b[0m| 711/937 [00:38<00:12, 18.32it/s]\u001b[0m\n",
      "\u001b[A%|\u001b[38;2;30;71;6m████████████████████████▎       \u001b[0m| 713/937 [00:38<00:11, 18.73it/s]\u001b[0m\n",
      "\u001b[A%|\u001b[38;2;30;71;6m████████████████████████▍       \u001b[0m| 715/937 [00:38<00:11, 18.66it/s]\u001b[0m\n",
      "\u001b[A%|\u001b[38;2;30;71;6m████████████████████████▍       \u001b[0m| 717/937 [00:38<00:11, 18.84it/s]\u001b[0m\n",
      "\u001b[A%|\u001b[38;2;30;71;6m████████████████████████▌       \u001b[0m| 719/937 [00:38<00:11, 18.81it/s]\u001b[0m\n",
      "\u001b[A%|\u001b[38;2;30;71;6m████████████████████████▌       \u001b[0m| 721/937 [00:38<00:11, 18.72it/s]\u001b[0m\n",
      "\u001b[A%|\u001b[38;2;30;71;6m████████████████████████▋       \u001b[0m| 723/937 [00:39<00:11, 18.26it/s]\u001b[0m\n",
      "\u001b[A%|\u001b[38;2;30;71;6m████████████████████████▊       \u001b[0m| 725/937 [00:39<00:11, 18.37it/s]\u001b[0m\n",
      "\u001b[A%|\u001b[38;2;30;71;6m████████████████████████▊       \u001b[0m| 727/937 [00:39<00:11, 18.38it/s]\u001b[0m\n",
      "\u001b[A%|\u001b[38;2;30;71;6m████████████████████████▉       \u001b[0m| 729/937 [00:39<00:11, 18.00it/s]\u001b[0m\n",
      "\u001b[A%|\u001b[38;2;30;71;6m████████████████████████▉       \u001b[0m| 731/937 [00:39<00:11, 18.36it/s]\u001b[0m\n",
      "\u001b[A%|\u001b[38;2;30;71;6m█████████████████████████       \u001b[0m| 733/937 [00:39<00:11, 18.38it/s]\u001b[0m\n",
      "\u001b[A%|\u001b[38;2;30;71;6m█████████████████████████       \u001b[0m| 735/937 [00:39<00:11, 17.69it/s]\u001b[0m\n",
      "\u001b[A%|\u001b[38;2;30;71;6m█████████████████████████▏      \u001b[0m| 737/937 [00:39<00:11, 17.06it/s]\u001b[0m\n",
      "\u001b[A%|\u001b[38;2;30;71;6m█████████████████████████▏      \u001b[0m| 739/937 [00:39<00:12, 16.41it/s]\u001b[0m\n",
      "\u001b[A%|\u001b[38;2;30;71;6m█████████████████████████▎      \u001b[0m| 741/937 [00:40<00:11, 17.04it/s]\u001b[0m\n",
      "\u001b[A%|\u001b[38;2;30;71;6m█████████████████████████▎      \u001b[0m| 743/937 [00:40<00:11, 17.11it/s]\u001b[0m\n",
      "\u001b[A%|\u001b[38;2;30;71;6m█████████████████████████▍      \u001b[0m| 745/937 [00:40<00:11, 17.23it/s]\u001b[0m\n",
      "\u001b[A%|\u001b[38;2;30;71;6m█████████████████████████▌      \u001b[0m| 747/937 [00:40<00:10, 17.92it/s]\u001b[0m\n",
      "\u001b[A%|\u001b[38;2;30;71;6m█████████████████████████▌      \u001b[0m| 750/937 [00:40<00:09, 19.40it/s]\u001b[0m\n",
      "\u001b[A%|\u001b[38;2;30;71;6m█████████████████████████▋      \u001b[0m| 753/937 [00:40<00:08, 20.68it/s]\u001b[0m\n",
      "\u001b[A%|\u001b[38;2;30;71;6m█████████████████████████▊      \u001b[0m| 756/937 [00:40<00:09, 19.72it/s]\u001b[0m\n",
      "\u001b[A%|\u001b[38;2;30;71;6m█████████████████████████▉      \u001b[0m| 758/937 [00:40<00:09, 19.20it/s]\u001b[0m\n",
      "\u001b[A%|\u001b[38;2;30;71;6m█████████████████████████▉      \u001b[0m| 760/937 [00:41<00:09, 18.77it/s]\u001b[0m\n",
      "\u001b[A%|\u001b[38;2;30;71;6m██████████████████████████      \u001b[0m| 762/937 [00:41<00:13, 12.88it/s]\u001b[0m\n",
      "\u001b[A%|\u001b[38;2;30;71;6m██████████████████████████      \u001b[0m| 764/937 [00:41<00:12, 13.57it/s]\u001b[0m\n",
      "\u001b[A%|\u001b[38;2;30;71;6m██████████████████████████▏     \u001b[0m| 766/937 [00:41<00:11, 14.63it/s]\u001b[0m\n",
      "\u001b[A%|\u001b[38;2;30;71;6m██████████████████████████▏     \u001b[0m| 768/937 [00:41<00:10, 15.50it/s]\u001b[0m\n",
      "\u001b[A%|\u001b[38;2;30;71;6m██████████████████████████▎     \u001b[0m| 770/937 [00:41<00:10, 16.20it/s]\u001b[0m\n",
      "\u001b[A%|\u001b[38;2;30;71;6m██████████████████████████▎     \u001b[0m| 772/937 [00:41<00:10, 15.23it/s]\u001b[0m\n",
      "\u001b[A%|\u001b[38;2;30;71;6m██████████████████████████▍     \u001b[0m| 774/937 [00:42<00:10, 15.64it/s]\u001b[0m\n",
      "\u001b[A%|\u001b[38;2;30;71;6m██████████████████████████▌     \u001b[0m| 776/937 [00:42<00:10, 15.93it/s]\u001b[0m\n",
      "\u001b[A%|\u001b[38;2;30;71;6m██████████████████████████▌     \u001b[0m| 778/937 [00:42<00:09, 16.34it/s]\u001b[0m\n",
      "\u001b[A%|\u001b[38;2;30;71;6m██████████████████████████▋     \u001b[0m| 780/937 [00:42<00:09, 16.77it/s]\u001b[0m\n",
      "\u001b[A%|\u001b[38;2;30;71;6m██████████████████████████▋     \u001b[0m| 782/937 [00:42<00:09, 16.95it/s]\u001b[0m\n",
      "\u001b[A%|\u001b[38;2;30;71;6m██████████████████████████▊     \u001b[0m| 784/937 [00:42<00:09, 16.94it/s]\u001b[0m\n",
      "\u001b[A%|\u001b[38;2;30;71;6m██████████████████████████▊     \u001b[0m| 786/937 [00:42<00:08, 17.30it/s]\u001b[0m\n",
      "\u001b[A%|\u001b[38;2;30;71;6m██████████████████████████▉     \u001b[0m| 788/937 [00:42<00:08, 17.55it/s]\u001b[0m\n",
      "\u001b[A%|\u001b[38;2;30;71;6m██████████████████████████▉     \u001b[0m| 790/937 [00:42<00:08, 17.73it/s]\u001b[0m\n",
      "\u001b[A%|\u001b[38;2;30;71;6m███████████████████████████     \u001b[0m| 792/937 [00:43<00:07, 18.14it/s]\u001b[0m\n",
      "\u001b[A%|\u001b[38;2;30;71;6m███████████████████████████     \u001b[0m| 794/937 [00:43<00:07, 18.31it/s]\u001b[0m\n",
      "\u001b[A%|\u001b[38;2;30;71;6m███████████████████████████▏    \u001b[0m| 796/937 [00:43<00:07, 18.43it/s]\u001b[0m\n",
      "\u001b[A%|\u001b[38;2;30;71;6m███████████████████████████▎    \u001b[0m| 798/937 [00:43<00:07, 18.27it/s]\u001b[0m\n",
      "\u001b[A%|\u001b[38;2;30;71;6m███████████████████████████▎    \u001b[0m| 800/937 [00:43<00:07, 18.70it/s]\u001b[0m\n",
      "\u001b[A%|\u001b[38;2;30;71;6m███████████████████████████▍    \u001b[0m| 802/937 [00:43<00:07, 18.58it/s]\u001b[0m\n",
      "\u001b[A%|\u001b[38;2;30;71;6m███████████████████████████▍    \u001b[0m| 804/937 [00:43<00:07, 18.47it/s]\u001b[0m\n",
      "\u001b[A%|\u001b[38;2;30;71;6m███████████████████████████▌    \u001b[0m| 807/937 [00:43<00:06, 19.37it/s]\u001b[0m\n",
      "\u001b[A%|\u001b[38;2;30;71;6m███████████████████████████▋    \u001b[0m| 810/937 [00:43<00:06, 20.12it/s]\u001b[0m\n",
      "\u001b[A%|\u001b[38;2;30;71;6m███████████████████████████▋    \u001b[0m| 812/937 [00:44<00:06, 19.69it/s]\u001b[0m\n",
      "\u001b[A%|\u001b[38;2;30;71;6m███████████████████████████▊    \u001b[0m| 815/937 [00:44<00:06, 19.79it/s]\u001b[0m\n",
      "\u001b[A%|\u001b[38;2;30;71;6m███████████████████████████▉    \u001b[0m| 817/937 [00:44<00:06, 19.69it/s]\u001b[0m\n",
      "\u001b[A%|\u001b[38;2;30;71;6m████████████████████████████    \u001b[0m| 820/937 [00:44<00:05, 19.62it/s]\u001b[0m\n",
      "\u001b[A%|\u001b[38;2;30;71;6m████████████████████████████    \u001b[0m| 823/937 [00:44<00:05, 20.06it/s]\u001b[0m\n",
      "\u001b[A%|\u001b[38;2;30;71;6m████████████████████████████▏   \u001b[0m| 825/937 [00:44<00:05, 19.36it/s]\u001b[0m\n",
      "\u001b[A%|\u001b[38;2;30;71;6m████████████████████████████▎   \u001b[0m| 828/937 [00:44<00:05, 19.65it/s]\u001b[0m\n",
      "\u001b[A%|\u001b[38;2;30;71;6m████████████████████████████▎   \u001b[0m| 830/937 [00:45<00:05, 19.40it/s]\u001b[0m\n",
      "\u001b[A%|\u001b[38;2;30;71;6m████████████████████████████▍   \u001b[0m| 832/937 [00:45<00:05, 19.55it/s]\u001b[0m\n",
      "\u001b[A%|\u001b[38;2;30;71;6m████████████████████████████▍   \u001b[0m| 834/937 [00:45<00:05, 19.65it/s]\u001b[0m\n",
      "\u001b[A%|\u001b[38;2;30;71;6m████████████████████████████▌   \u001b[0m| 836/937 [00:45<00:05, 19.70it/s]\u001b[0m\n",
      "\u001b[A%|\u001b[38;2;30;71;6m████████████████████████████▋   \u001b[0m| 839/937 [00:45<00:04, 20.04it/s]\u001b[0m\n",
      "\u001b[A%|\u001b[38;2;30;71;6m████████████████████████████▋   \u001b[0m| 841/937 [00:45<00:04, 19.68it/s]\u001b[0m\n",
      "\u001b[A%|\u001b[38;2;30;71;6m████████████████████████████▊   \u001b[0m| 843/937 [00:45<00:04, 19.00it/s]\u001b[0m\n",
      "\u001b[A%|\u001b[38;2;30;71;6m████████████████████████████▊   \u001b[0m| 845/937 [00:45<00:04, 18.53it/s]\u001b[0m\n",
      "\u001b[A%|\u001b[38;2;30;71;6m████████████████████████████▉   \u001b[0m| 847/937 [00:45<00:04, 18.57it/s]\u001b[0m\n",
      "\u001b[A%|\u001b[38;2;30;71;6m████████████████████████████▉   \u001b[0m| 849/937 [00:46<00:04, 17.88it/s]\u001b[0m\n",
      "\u001b[A%|\u001b[38;2;30;71;6m█████████████████████████████   \u001b[0m| 851/937 [00:46<00:04, 17.99it/s]\u001b[0m\n",
      "\u001b[A%|\u001b[38;2;30;71;6m█████████████████████████████▏  \u001b[0m| 853/937 [00:46<00:04, 17.66it/s]\u001b[0m\n",
      "\u001b[A%|\u001b[38;2;30;71;6m█████████████████████████████▏  \u001b[0m| 855/937 [00:46<00:04, 18.13it/s]\u001b[0m\n",
      "\u001b[A%|\u001b[38;2;30;71;6m█████████████████████████████▎  \u001b[0m| 857/937 [00:46<00:04, 17.73it/s]\u001b[0m\n",
      "\u001b[A%|\u001b[38;2;30;71;6m█████████████████████████████▎  \u001b[0m| 859/937 [00:46<00:04, 17.87it/s]\u001b[0m\n",
      "\u001b[A%|\u001b[38;2;30;71;6m█████████████████████████████▍  \u001b[0m| 861/937 [00:46<00:04, 17.13it/s]\u001b[0m\n",
      "\u001b[A%|\u001b[38;2;30;71;6m█████████████████████████████▍  \u001b[0m| 863/937 [00:46<00:04, 17.28it/s]\u001b[0m\n",
      "\u001b[A%|\u001b[38;2;30;71;6m█████████████████████████████▌  \u001b[0m| 865/937 [00:46<00:04, 17.24it/s]\u001b[0m\n",
      "\u001b[A%|\u001b[38;2;30;71;6m█████████████████████████████▌  \u001b[0m| 867/937 [00:47<00:03, 17.51it/s]\u001b[0m\n",
      "\u001b[A%|\u001b[38;2;30;71;6m█████████████████████████████▋  \u001b[0m| 869/937 [00:47<00:03, 17.63it/s]\u001b[0m\n",
      "\u001b[A%|\u001b[38;2;30;71;6m█████████████████████████████▋  \u001b[0m| 871/937 [00:47<00:03, 17.21it/s]\u001b[0m\n",
      "\u001b[A%|\u001b[38;2;30;71;6m█████████████████████████████▊  \u001b[0m| 873/937 [00:47<00:03, 17.69it/s]\u001b[0m\n",
      "\u001b[A%|\u001b[38;2;30;71;6m█████████████████████████████▉  \u001b[0m| 875/937 [00:47<00:03, 17.61it/s]\u001b[0m\n",
      "\u001b[A%|\u001b[38;2;30;71;6m█████████████████████████████▉  \u001b[0m| 877/937 [00:47<00:03, 17.51it/s]\u001b[0m\n",
      "\u001b[A%|\u001b[38;2;30;71;6m██████████████████████████████  \u001b[0m| 879/937 [00:47<00:03, 17.73it/s]\u001b[0m\n",
      "\u001b[A%|\u001b[38;2;30;71;6m██████████████████████████████  \u001b[0m| 881/937 [00:47<00:04, 13.97it/s]\u001b[0m\n",
      "\u001b[A%|\u001b[38;2;30;71;6m██████████████████████████████▏ \u001b[0m| 883/937 [00:48<00:04, 11.49it/s]\u001b[0m\n",
      "\u001b[A%|\u001b[38;2;30;71;6m██████████████████████████████▏ \u001b[0m| 885/937 [00:48<00:03, 13.01it/s]\u001b[0m\n",
      "\u001b[A%|\u001b[38;2;30;71;6m██████████████████████████████▎ \u001b[0m| 887/937 [00:48<00:03, 13.82it/s]\u001b[0m\n",
      "\u001b[A%|\u001b[38;2;30;71;6m██████████████████████████████▎ \u001b[0m| 889/937 [00:48<00:03, 15.22it/s]\u001b[0m\n",
      "\u001b[A%|\u001b[38;2;30;71;6m██████████████████████████████▍ \u001b[0m| 891/937 [00:48<00:03, 14.93it/s]\u001b[0m\n",
      "\u001b[A%|\u001b[38;2;30;71;6m██████████████████████████████▍ \u001b[0m| 893/937 [00:48<00:02, 15.27it/s]\u001b[0m\n",
      "\u001b[A%|\u001b[38;2;30;71;6m██████████████████████████████▌ \u001b[0m| 896/937 [00:48<00:02, 16.80it/s]\u001b[0m\n",
      "\u001b[A%|\u001b[38;2;30;71;6m██████████████████████████████▋ \u001b[0m| 898/937 [00:49<00:02, 17.27it/s]\u001b[0m\n",
      "\u001b[A%|\u001b[38;2;30;71;6m██████████████████████████████▋ \u001b[0m| 900/937 [00:49<00:02, 17.60it/s]\u001b[0m\n",
      "\u001b[A%|\u001b[38;2;30;71;6m██████████████████████████████▊ \u001b[0m| 902/937 [00:49<00:01, 17.76it/s]\u001b[0m\n",
      "\u001b[A%|\u001b[38;2;30;71;6m██████████████████████████████▉ \u001b[0m| 905/937 [00:49<00:01, 18.47it/s]\u001b[0m\n",
      "\u001b[A%|\u001b[38;2;30;71;6m██████████████████████████████▉ \u001b[0m| 907/937 [00:49<00:01, 18.42it/s]\u001b[0m\n",
      "\u001b[A%|\u001b[38;2;30;71;6m███████████████████████████████ \u001b[0m| 910/937 [00:49<00:01, 19.38it/s]\u001b[0m\n",
      "\u001b[A%|\u001b[38;2;30;71;6m███████████████████████████████▏\u001b[0m| 912/937 [00:49<00:01, 19.39it/s]\u001b[0m\n",
      "\u001b[A%|\u001b[38;2;30;71;6m███████████████████████████████▏\u001b[0m| 914/937 [00:49<00:01, 19.16it/s]\u001b[0m\n",
      "\u001b[A%|\u001b[38;2;30;71;6m███████████████████████████████▎\u001b[0m| 916/937 [00:49<00:01, 19.11it/s]\u001b[0m\n",
      "\u001b[A%|\u001b[38;2;30;71;6m███████████████████████████████▎\u001b[0m| 918/937 [00:50<00:00, 19.14it/s]\u001b[0m\n",
      "\u001b[A%|\u001b[38;2;30;71;6m███████████████████████████████▍\u001b[0m| 920/937 [00:50<00:00, 18.80it/s]\u001b[0m\n",
      "\u001b[A%|\u001b[38;2;30;71;6m███████████████████████████████▍\u001b[0m| 922/937 [00:50<00:00, 18.71it/s]\u001b[0m\n",
      "\u001b[A%|\u001b[38;2;30;71;6m███████████████████████████████▌\u001b[0m| 924/937 [00:50<00:00, 18.62it/s]\u001b[0m\n",
      "\u001b[A%|\u001b[38;2;30;71;6m███████████████████████████████▌\u001b[0m| 926/937 [00:50<00:00, 18.48it/s]\u001b[0m\n",
      "\u001b[A%|\u001b[38;2;30;71;6m███████████████████████████████▋\u001b[0m| 928/937 [00:50<00:00, 18.39it/s]\u001b[0m\n",
      "\u001b[A%|\u001b[38;2;30;71;6m███████████████████████████████▊\u001b[0m| 930/937 [00:50<00:00, 18.42it/s]\u001b[0m\n",
      "\u001b[A%|\u001b[38;2;30;71;6m███████████████████████████████▊\u001b[0m| 932/937 [00:50<00:00, 18.51it/s]\u001b[0m\n",
      "\u001b[A%|\u001b[38;2;30;71;6m███████████████████████████████▉\u001b[0m| 934/937 [00:50<00:00, 18.39it/s]\u001b[0m\n",
      "100%|\u001b[38;2;30;71;6m████████████████████████████████\u001b[0m| 937/937 [00:51<00:00, 18.33it/s]\u001b[0m\n",
      "\u001b[32m2025-02-13 12:36:22.781\u001b[0m | \u001b[1mINFO    \u001b[0m | \u001b[36mmltrainer.trainer\u001b[0m:\u001b[36mreport\u001b[0m:\u001b[36m191\u001b[0m - \u001b[1mEpoch 2 train 0.3268 test 0.3588 metric ['0.8663']\u001b[0m\n",
      "100%|\u001b[38;2;30;71;6m████████████████████████████████████\u001b[0m| 3/3 [02:09<00:00, 43.17s/it]\u001b[0m\n"
     ]
    }
   ],
   "source": [
    "trainer.loop()"
   ]
  },
  {
   "attachments": {},
   "cell_type": "markdown",
   "metadata": {},
   "source": [
    "# Save the model"
   ]
  },
  {
   "attachments": {},
   "cell_type": "markdown",
   "metadata": {},
   "source": [
    "You will have the latest model at trainer.model, or just use the old model (which is the same)"
   ]
  },
  {
   "attachments": {},
   "cell_type": "markdown",
   "metadata": {},
   "source": [
    "If you have a look at the settings.earlystop_kwargs, you can see that save is by default false. If you change this to true, the trainer would have kept track of the best model so far and saved it in between. Because this can take up additional time and in a learning setting like we are in we typically dont really want to save the model for later use, we dont need it here.\n",
    "\n",
    "However, in a real life setting you probably want the best model!"
   ]
  },
  {
   "cell_type": "code",
   "execution_count": 35,
   "metadata": {},
   "outputs": [
    {
     "data": {
      "text/plain": [
       "{'save': False, 'verbose': True, 'patience': 10}"
      ]
     },
     "execution_count": 35,
     "metadata": {},
     "output_type": "execute_result"
    }
   ],
   "source": [
    "settings.earlystop_kwargs"
   ]
  },
  {
   "attachments": {},
   "cell_type": "markdown",
   "metadata": {},
   "source": [
    "You can save it manually"
   ]
  },
  {
   "cell_type": "code",
   "execution_count": 36,
   "metadata": {},
   "outputs": [
    {
     "name": "stdout",
     "output_type": "stream",
     "text": [
      "modeldir exists: True\n"
     ]
    }
   ],
   "source": [
    "model_dir = Path(\"../../models\").resolve()\n",
    "print(f'modeldir exists: {model_dir.exists()}')\n",
    "modelpath = model_dir / \"trained_model\"\n",
    "torch.save(model, modelpath)"
   ]
  },
  {
   "attachments": {},
   "cell_type": "markdown",
   "metadata": {},
   "source": [
    "In the case you would have set the earlystop.save to true like this:"
   ]
  },
  {
   "cell_type": "code",
   "execution_count": 37,
   "metadata": {},
   "outputs": [],
   "source": [
    "settings = TrainerSettings(\n",
    "    epochs=10,\n",
    "    metrics=[accuracy],\n",
    "    logdir=log_dir,\n",
    "    train_steps=len(train),\n",
    "    valid_steps=len(valid),\n",
    "    reporttypes=[ReportTypes.TENSORBOARD],\n",
    "    earlystop_kwargs={'save': True, 'verbose': True, 'patience': 10}\n",
    ")"
   ]
  },
  {
   "attachments": {},
   "cell_type": "markdown",
   "metadata": {},
   "source": [
    "The trainer would have saved checkpoints of the last best model. You can obtain the location of the checkpoint with `trainer.early_stopping.path`"
   ]
  },
  {
   "cell_type": "code",
   "execution_count": 38,
   "metadata": {},
   "outputs": [
    {
     "data": {
      "text/plain": [
       "WindowsPath('D:/Workspace/upperkaam/notebooks_review/Deliverable_Part_1/notebooks/1_pytorch_intro/logs/20250213-123409/checkpoint.pt')"
      ]
     },
     "execution_count": 38,
     "metadata": {},
     "output_type": "execute_result"
    }
   ],
   "source": [
    "trainer.early_stopping.path"
   ]
  },
  {
   "attachments": {},
   "cell_type": "markdown",
   "metadata": {},
   "source": [
    "# load the model"
   ]
  },
  {
   "cell_type": "code",
   "execution_count": 43,
   "metadata": {},
   "outputs": [
    {
     "name": "stdout",
     "output_type": "stream",
     "text": [
      "using cpu\n"
     ]
    }
   ],
   "source": [
    "# note that I would expect the loaded model to run on mps, but that doesnt work as expected\n",
    "if device == \"mps\":\n",
    "    device = \"cpu\"\n",
    "print(f\"using {device}\")\n",
    "loaded_model = torch.load(modelpath, map_location=device, weights_only=False)"
   ]
  },
  {
   "cell_type": "code",
   "execution_count": 44,
   "metadata": {},
   "outputs": [
    {
     "name": "stdout",
     "output_type": "stream",
     "text": [
      "cpu\n",
      "cpu\n",
      "cpu\n",
      "cpu\n",
      "cpu\n",
      "cpu\n"
     ]
    }
   ],
   "source": [
    "for param in loaded_model.parameters():\n",
    "    print(param.device)"
   ]
  },
  {
   "attachments": {},
   "cell_type": "markdown",
   "metadata": {},
   "source": [
    "Get a batch $X$, $y$ and make a prediction $\\hat{y}$"
   ]
  },
  {
   "cell_type": "code",
   "execution_count": 45,
   "metadata": {},
   "outputs": [],
   "source": [
    "X, y = next(iter(testloader))"
   ]
  },
  {
   "cell_type": "code",
   "execution_count": 46,
   "metadata": {},
   "outputs": [
    {
     "data": {
      "text/plain": [
       "tensor(0.3271, grad_fn=<NllLossBackward0>)"
      ]
     },
     "execution_count": 46,
     "metadata": {},
     "output_type": "execute_result"
    }
   ],
   "source": [
    "yhat = loaded_model(X.to(device))\n",
    "loss_fn(yhat, y.to(device))"
   ]
  },
  {
   "attachments": {},
   "cell_type": "markdown",
   "metadata": {},
   "source": [
    "Check the accuracy:\n",
    "- for every example we have 10 numbers\n",
    "- the location with the highest value is the prediction\n",
    "- we can get the index with `argmax` over dimension 1\n",
    "- we compare that index with the original number\n",
    "- This gives us a count of all the correct predictions\n",
    "- dividing that through the total length gives us the accuracy percentage. "
   ]
  },
  {
   "cell_type": "code",
   "execution_count": 47,
   "metadata": {},
   "outputs": [
    {
     "name": "stdout",
     "output_type": "stream",
     "text": [
      "The accuracy for the batch 1 is 84.375\n"
     ]
    }
   ],
   "source": [
    "acc = (yhat.argmax(dim=1) == y.to(device)).sum() / len(y.to(device))\n",
    "print(f\"The accuracy for the batch 1 is {acc.item() * 100}\")"
   ]
  },
  {
   "attachments": {},
   "cell_type": "markdown",
   "metadata": {},
   "source": [
    "Note that this is the accuracy for a single batch!"
   ]
  },
  {
   "cell_type": "markdown",
   "metadata": {},
   "source": [
    "<font color='green'>\n",
    "Now, get the accuracy for few more batchs. \n",
    "</font>"
   ]
  },
  {
   "cell_type": "code",
   "execution_count": 48,
   "metadata": {},
   "outputs": [
    {
     "name": "stdout",
     "output_type": "stream",
     "text": [
      "The accuracy for the batch 2 is 82.8125\n",
      "The accuracy for the batch 3 is 92.1875\n",
      "The accuracy for the batch 4 is 89.0625\n",
      "The accuracy for the batch 5 is 87.5\n",
      "The accuracy for the batch 6 is 79.6875\n",
      "The accuracy for the batch 7 is 95.3125\n",
      "The accuracy for the batch 8 is 82.8125\n",
      "The accuracy for the batch 9 is 76.5625\n",
      "The accuracy for the batch 10 is 82.8125\n",
      "The accuracy for the batch 11 is 92.1875\n"
     ]
    }
   ],
   "source": [
    "for i in range(10):\n",
    "    X, y = next(iter(testloader))\n",
    "    yhat = loaded_model(X.to(device))\n",
    "    loss_fn(yhat, y.to(device))\n",
    "    acc = (yhat.argmax(dim=1) == y.to(device)).sum() / len(y.to(device))\n",
    "    print(f\"The accuracy for the batch {i+2} is {acc.item() * 100}\")"
   ]
  },
  {
   "cell_type": "code",
   "execution_count": null,
   "metadata": {},
   "outputs": [],
   "source": []
  }
 ],
 "metadata": {
  "kernelspec": {
   "display_name": "conda_kernel",
   "language": "python",
   "name": "conda_kernel"
  },
  "language_info": {
   "codemirror_mode": {
    "name": "ipython",
    "version": 3
   },
   "file_extension": ".py",
   "mimetype": "text/x-python",
   "name": "python",
   "nbconvert_exporter": "python",
   "pygments_lexer": "ipython3",
   "version": "3.11.11"
  },
  "vscode": {
   "interpreter": {
    "hash": "45c41bdaf5373703b03bba2d9bd89c97dc8ee5add9f1112e039ff04603b8e2ee"
   }
  }
 },
 "nbformat": 4,
 "nbformat_minor": 4
}
